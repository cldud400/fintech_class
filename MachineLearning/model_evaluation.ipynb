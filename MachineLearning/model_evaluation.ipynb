{
 "cells": [
  {
   "cell_type": "code",
   "execution_count": 1,
   "id": "f152e316",
   "metadata": {},
   "outputs": [],
   "source": [
    "import pandas as pd\n",
    "import numpy as np\n",
    "import matplotlib.pyplot as plt\n",
    "import seaborn as sns"
   ]
  },
  {
   "cell_type": "code",
   "execution_count": 2,
   "id": "87bf53a8",
   "metadata": {},
   "outputs": [],
   "source": [
    "# matplotlib 한글화\n",
    "\n",
    "import matplotlib as mpl\n",
    "import matplotlib.font_manager as fm\n",
    "\n",
    "mpl.rcParams['axes.unicode_minus'] = False\n",
    "\n",
    "path = 'C:/Windows/Fonts/malgun.ttf'\n",
    "font_name = fm.FontProperties(fname=path, size=50).get_name()\n",
    "plt.rc('font', family=font_name)"
   ]
  },
  {
   "cell_type": "code",
   "execution_count": 3,
   "id": "13038cc5",
   "metadata": {},
   "outputs": [],
   "source": [
    "import warnings\n",
    "warnings.filterwarnings(action='ignore') "
   ]
  },
  {
   "cell_type": "code",
   "execution_count": null,
   "id": "b307a0ea",
   "metadata": {},
   "outputs": [],
   "source": []
  },
  {
   "cell_type": "code",
   "execution_count": 4,
   "id": "6782db6e",
   "metadata": {},
   "outputs": [],
   "source": [
    "from sklearn.datasets import load_digits\n",
    "from sklearn.model_selection import train_test_split\n",
    "from sklearn import datasets\n",
    "import mglearn\n",
    "from IPython.display import display"
   ]
  },
  {
   "cell_type": "code",
   "execution_count": 5,
   "id": "1c6d62eb",
   "metadata": {},
   "outputs": [],
   "source": [
    "digits = load_digits()"
   ]
  },
  {
   "cell_type": "code",
   "execution_count": 6,
   "id": "7b05a57c",
   "metadata": {},
   "outputs": [],
   "source": [
    "y = digits.target\n",
    "x = digits.data"
   ]
  },
  {
   "cell_type": "code",
   "execution_count": 7,
   "id": "af80241b",
   "metadata": {},
   "outputs": [
    {
     "data": {
      "text/plain": [
       "(1797, 64)"
      ]
     },
     "execution_count": 7,
     "metadata": {},
     "output_type": "execute_result"
    }
   ],
   "source": [
    "x.shape"
   ]
  },
  {
   "cell_type": "code",
   "execution_count": 8,
   "id": "fa6fc2c9",
   "metadata": {},
   "outputs": [
    {
     "data": {
      "text/plain": [
       "(1797,)"
      ]
     },
     "execution_count": 8,
     "metadata": {},
     "output_type": "execute_result"
    }
   ],
   "source": [
    "y.shape"
   ]
  },
  {
   "cell_type": "code",
   "execution_count": 9,
   "id": "25175ef6",
   "metadata": {},
   "outputs": [
    {
     "data": {
      "text/plain": [
       "array([ 0.,  0.,  2., 14., 15.,  5.,  0.,  0.,  0.,  0., 10., 16., 16.,\n",
       "       15.,  1.,  0.,  0.,  3., 16., 10., 10., 16.,  4.,  0.,  0.,  5.,\n",
       "       16.,  0.,  0., 14.,  6.,  0.,  0.,  5., 16.,  6.,  0., 12.,  7.,\n",
       "        0.,  0.,  1., 15., 13.,  4., 13.,  6.,  0.,  0.,  0., 11., 16.,\n",
       "       16., 15.,  0.,  0.,  0.,  0.,  2., 11., 13.,  4.,  0.,  0.])"
      ]
     },
     "execution_count": 9,
     "metadata": {},
     "output_type": "execute_result"
    }
   ],
   "source": [
    "x[55]"
   ]
  },
  {
   "cell_type": "code",
   "execution_count": 10,
   "id": "4104c2b9",
   "metadata": {},
   "outputs": [
    {
     "data": {
      "text/plain": [
       "0"
      ]
     },
     "execution_count": 10,
     "metadata": {},
     "output_type": "execute_result"
    }
   ],
   "source": [
    "y[55]"
   ]
  },
  {
   "cell_type": "code",
   "execution_count": 11,
   "id": "531cd3c8",
   "metadata": {},
   "outputs": [
    {
     "data": {
      "text/plain": [
       "<matplotlib.image.AxesImage at 0x18cedff6910>"
      ]
     },
     "execution_count": 11,
     "metadata": {},
     "output_type": "execute_result"
    },
    {
     "data": {
      "image/png": "[encoded data removed]",
      "text/plain": [
       "<Figure size 432x288 with 1 Axes>"
      ]
     },
     "metadata": {
      "needs_background": "light"
     },
     "output_type": "display_data"
    }
   ],
   "source": [
    "plt.imshow(x[55].reshape(8,8))"
   ]
  },
  {
   "cell_type": "code",
   "execution_count": 12,
   "id": "ee9eb3d8",
   "metadata": {},
   "outputs": [
    {
     "data": {
      "text/plain": [
       "9"
      ]
     },
     "execution_count": 12,
     "metadata": {},
     "output_type": "execute_result"
    }
   ],
   "source": [
    "y[9]"
   ]
  },
  {
   "cell_type": "code",
   "execution_count": 13,
   "id": "8fe98fa9",
   "metadata": {},
   "outputs": [
    {
     "data": {
      "text/plain": [
       "3    183\n",
       "1    182\n",
       "5    182\n",
       "4    181\n",
       "6    181\n",
       "9    180\n",
       "7    179\n",
       "0    178\n",
       "2    177\n",
       "8    174\n",
       "dtype: int64"
      ]
     },
     "execution_count": 13,
     "metadata": {},
     "output_type": "execute_result"
    }
   ],
   "source": [
    "pd.Series(y).value_counts()"
   ]
  },
  {
   "cell_type": "code",
   "execution_count": 14,
   "id": "6ced2abf",
   "metadata": {},
   "outputs": [],
   "source": [
    "y = y == 9"
   ]
  },
  {
   "cell_type": "code",
   "execution_count": 15,
   "id": "c2468fe2",
   "metadata": {},
   "outputs": [
    {
     "data": {
      "text/plain": [
       "False    1617\n",
       "True      180\n",
       "dtype: int64"
      ]
     },
     "execution_count": 15,
     "metadata": {},
     "output_type": "execute_result"
    }
   ],
   "source": [
    "pd.Series(y).value_counts()"
   ]
  },
  {
   "cell_type": "code",
   "execution_count": 16,
   "id": "fffb566b",
   "metadata": {},
   "outputs": [
    {
     "data": {
      "text/plain": [
       "False    0.899833\n",
       "True     0.100167\n",
       "dtype: float64"
      ]
     },
     "execution_count": 16,
     "metadata": {},
     "output_type": "execute_result"
    }
   ],
   "source": [
    "# imbalanced dataset (불균형 데이터) : 정상 범주의 관측치 수와 이상 범주의 관측치 수가 현저히 차이나는 데이터\n",
    "pd.Series(y).value_counts()/len(y)    # imbalanced dataset (불균형 데이터)"
   ]
  },
  {
   "cell_type": "code",
   "execution_count": null,
   "id": "91f35c00",
   "metadata": {},
   "outputs": [],
   "source": []
  },
  {
   "cell_type": "code",
   "execution_count": 17,
   "id": "4642b1fb",
   "metadata": {},
   "outputs": [],
   "source": [
    "x_train, x_test, y_train, y_test = train_test_split(x,y, random_state=111)"
   ]
  },
  {
   "cell_type": "code",
   "execution_count": null,
   "id": "2b6d6f7f",
   "metadata": {},
   "outputs": [],
   "source": []
  },
  {
   "cell_type": "code",
   "execution_count": 18,
   "id": "9d48d220",
   "metadata": {},
   "outputs": [],
   "source": [
    "from sklearn.dummy import DummyClassifier\n",
    "\n",
    "# 'most_frequent' : 다수의 클래스로 예측하는 classifier 생성 (최빈값)\n",
    "# 위의 데이터에 대해 100% False로만 예측 (False가 90%인 데이터 : 최빈값이 False)\n",
    "dummy_majority = DummyClassifier(strategy='most_frequent').fit(x_train, y_train)"
   ]
  },
  {
   "cell_type": "code",
   "execution_count": 19,
   "id": "37498f12",
   "metadata": {},
   "outputs": [
    {
     "data": {
      "text/plain": [
       "array([False, False, False, False, False, False, False, False, False,\n",
       "       False, False, False, False, False, False, False, False, False,\n",
       "       False, False, False, False, False, False, False, False, False,\n",
       "       False, False, False, False, False, False, False, False, False,\n",
       "       False, False, False, False, False, False, False, False, False,\n",
       "       False, False, False, False, False, False, False, False, False,\n",
       "       False, False, False, False, False, False, False, False, False,\n",
       "       False, False, False, False, False, False, False, False, False,\n",
       "       False, False, False, False, False, False, False, False, False,\n",
       "       False, False, False, False, False, False, False, False, False,\n",
       "       False, False, False, False, False, False, False, False, False,\n",
       "       False, False, False, False, False, False, False, False, False,\n",
       "       False, False, False, False, False, False, False, False, False,\n",
       "       False, False, False, False, False, False, False, False, False,\n",
       "       False, False, False, False, False, False, False, False, False,\n",
       "       False, False, False, False, False, False, False, False, False,\n",
       "       False, False, False, False, False, False, False, False, False,\n",
       "       False, False, False, False, False, False, False, False, False,\n",
       "       False, False, False, False, False, False, False, False, False,\n",
       "       False, False, False, False, False, False, False, False, False,\n",
       "       False, False, False, False, False, False, False, False, False,\n",
       "       False, False, False, False, False, False, False, False, False,\n",
       "       False, False, False, False, False, False, False, False, False,\n",
       "       False, False, False, False, False, False, False, False, False,\n",
       "       False, False, False, False, False, False, False, False, False,\n",
       "       False, False, False, False, False, False, False, False, False,\n",
       "       False, False, False, False, False, False, False, False, False,\n",
       "       False, False, False, False, False, False, False, False, False,\n",
       "       False, False, False, False, False, False, False, False, False,\n",
       "       False, False, False, False, False, False, False, False, False,\n",
       "       False, False, False, False, False, False, False, False, False,\n",
       "       False, False, False, False, False, False, False, False, False,\n",
       "       False, False, False, False, False, False, False, False, False,\n",
       "       False, False, False, False, False, False, False, False, False,\n",
       "       False, False, False, False, False, False, False, False, False,\n",
       "       False, False, False, False, False, False, False, False, False,\n",
       "       False, False, False, False, False, False, False, False, False,\n",
       "       False, False, False, False, False, False, False, False, False,\n",
       "       False, False, False, False, False, False, False, False, False,\n",
       "       False, False, False, False, False, False, False, False, False,\n",
       "       False, False, False, False, False, False, False, False, False,\n",
       "       False, False, False, False, False, False, False, False, False,\n",
       "       False, False, False, False, False, False, False, False, False,\n",
       "       False, False, False, False, False, False, False, False, False,\n",
       "       False, False, False, False, False, False, False, False, False,\n",
       "       False, False, False, False, False, False, False, False, False,\n",
       "       False, False, False, False, False, False, False, False, False,\n",
       "       False, False, False, False, False, False, False, False, False,\n",
       "       False, False, False, False, False, False, False, False, False,\n",
       "       False, False, False, False, False, False, False, False, False])"
      ]
     },
     "execution_count": 19,
     "metadata": {},
     "output_type": "execute_result"
    }
   ],
   "source": [
    " # 100% False로 예측 - 예측능력이 없는 모델 => 평가시 0에 가까운 값이 나와야한다\n",
    "preds = dummy_majority.predict(x_test)\n",
    "preds"
   ]
  },
  {
   "cell_type": "code",
   "execution_count": 20,
   "id": "16f75918",
   "metadata": {},
   "outputs": [
    {
     "data": {
      "text/plain": [
       "0.8955555555555555"
      ]
     },
     "execution_count": 20,
     "metadata": {},
     "output_type": "execute_result"
    }
   ],
   "source": [
    "# 실제 y에는 90%의 False, 10%의 True\n",
    "# preds는 100% False\n",
    "# accuracy : 90% => accuracy의 문제점\n",
    "np.mean(y_test == preds)"
   ]
  },
  {
   "cell_type": "code",
   "execution_count": 21,
   "id": "a20aadd2",
   "metadata": {},
   "outputs": [
    {
     "data": {
      "text/plain": [
       "0.8955555555555555"
      ]
     },
     "execution_count": 21,
     "metadata": {},
     "output_type": "execute_result"
    }
   ],
   "source": [
    "dummy_majority.score(x_test, y_test)\n",
    "\n",
    "# 전혀 분류능력이 없는 classifier가 90%의 accuracy score(정확도)를 기록 <= imbalanced dataset(불균형 데이터)이기 때문\n",
    "# => accuracy의 한계 => precision, recall, f1_score"
   ]
  },
  {
   "cell_type": "code",
   "execution_count": null,
   "id": "a35fafcb",
   "metadata": {},
   "outputs": [],
   "source": []
  },
  {
   "cell_type": "code",
   "execution_count": 22,
   "id": "063371f3",
   "metadata": {},
   "outputs": [
    {
     "name": "stdout",
     "output_type": "stream",
     "text": [
      "Tree : 0.95 Knn : 1.0 SVC : 1.0 dummy : 0.9\n"
     ]
    }
   ],
   "source": [
    "# accuracy\n",
    "\n",
    "from sklearn.tree import DecisionTreeClassifier\n",
    "from sklearn.neighbors import KNeighborsClassifier\n",
    "from sklearn.svm import SVC\n",
    "\n",
    "tree = DecisionTreeClassifier()\n",
    "knn = KNeighborsClassifier()\n",
    "svc = SVC()\n",
    "\n",
    "tree.fit(x_train, y_train)\n",
    "knn.fit(x_train, y_train)\n",
    "svc.fit(x_train, y_train)\n",
    "\n",
    "tree_acc = tree.score(x_test, y_test)\n",
    "knn_acc = knn.score(x_test, y_test)\n",
    "svc_acc = svc.score(x_test, y_test)\n",
    "dummy_acc = dummy_majority.score(x_test, y_test)\n",
    "\n",
    "print('Tree :', round(tree_acc,2), 'Knn :', round(knn_acc,2), 'SVC :', round(svc_acc,2), 'dummy :', round(dummy_acc,2))"
   ]
  },
  {
   "cell_type": "code",
   "execution_count": 23,
   "id": "c49c111a",
   "metadata": {},
   "outputs": [],
   "source": [
    "from sklearn.metrics import f1_score"
   ]
  },
  {
   "cell_type": "code",
   "execution_count": 24,
   "id": "03de024a",
   "metadata": {},
   "outputs": [
    {
     "name": "stdout",
     "output_type": "stream",
     "text": [
      "Tree : 0.8 Knn : 0.99 SVC : 0.99 dummy : 0.0\n"
     ]
    }
   ],
   "source": [
    "# f1_score\n",
    "\n",
    "from sklearn.tree import DecisionTreeClassifier\n",
    "from sklearn.neighbors import KNeighborsClassifier\n",
    "from sklearn.svm import SVC\n",
    "\n",
    "tree = DecisionTreeClassifier()\n",
    "knn = KNeighborsClassifier()\n",
    "svc = SVC()\n",
    "\n",
    "tree.fit(x_train, y_train)\n",
    "knn.fit(x_train, y_train)\n",
    "svc.fit(x_train, y_train)\n",
    "\n",
    "tree_preds = tree.predict(x_test)\n",
    "knn_preds = knn.predict(x_test)\n",
    "svc_preds = svc.predict(x_test)\n",
    "dummy_preds = dummy_majority.predict(x_test)\n",
    "\n",
    "tree_f1 = f1_score(tree_preds, y_test)\n",
    "knn_f1 = f1_score(knn_preds, y_test)\n",
    "svc_f1 = f1_score(svc_preds, y_test)\n",
    "dummy_f1 = f1_score(dummy_preds, y_test)\n",
    "\n",
    "\n",
    "print('Tree :', round(tree_f1,2), 'Knn :', round(knn_f1,2), 'SVC :', round(svc_f1,2), 'dummy :', round(dummy_f1,2))"
   ]
  },
  {
   "cell_type": "code",
   "execution_count": null,
   "id": "78c8ebf2",
   "metadata": {},
   "outputs": [],
   "source": []
  },
  {
   "cell_type": "code",
   "execution_count": 25,
   "id": "78b3d6a6",
   "metadata": {},
   "outputs": [],
   "source": [
    "from sklearn.metrics import classification_report, confusion_matrix"
   ]
  },
  {
   "cell_type": "code",
   "execution_count": 26,
   "id": "923031ff",
   "metadata": {},
   "outputs": [
    {
     "data": {
      "text/plain": [
       "array([[393,   9],\n",
       "       [ 10,  38]], dtype=int64)"
      ]
     },
     "execution_count": 26,
     "metadata": {},
     "output_type": "execute_result"
    }
   ],
   "source": [
    "cm = confusion_matrix(tree_preds, y_test)\n",
    "cm"
   ]
  },
  {
   "cell_type": "code",
   "execution_count": 56,
   "id": "475e8e57",
   "metadata": {},
   "outputs": [
    {
     "data": {
      "text/html": [
       "<div>\n",
       "<style scoped>\n",
       "    .dataframe tbody tr th:only-of-type {\n",
       "        vertical-align: middle;\n",
       "    }\n",
       "\n",
       "    .dataframe tbody tr th {\n",
       "        vertical-align: top;\n",
       "    }\n",
       "\n",
       "    .dataframe thead th {\n",
       "        text-align: right;\n",
       "    }\n",
       "</style>\n",
       "<table border=\"1\" class=\"dataframe\">\n",
       "  <thead>\n",
       "    <tr style=\"text-align: right;\">\n",
       "      <th></th>\n",
       "      <th>0</th>\n",
       "      <th>1</th>\n",
       "    </tr>\n",
       "  </thead>\n",
       "  <tbody>\n",
       "    <tr>\n",
       "      <th>0</th>\n",
       "      <td>393</td>\n",
       "      <td>9</td>\n",
       "    </tr>\n",
       "    <tr>\n",
       "      <th>1</th>\n",
       "      <td>10</td>\n",
       "      <td>38</td>\n",
       "    </tr>\n",
       "  </tbody>\n",
       "</table>\n",
       "</div>"
      ],
      "text/plain": [
       "     0   1\n",
       "0  393   9\n",
       "1   10  38"
      ]
     },
     "execution_count": 56,
     "metadata": {},
     "output_type": "execute_result"
    }
   ],
   "source": [
    "# confusion_matrix\n",
    "pd.DataFrame(cm)"
   ]
  },
  {
   "cell_type": "code",
   "execution_count": 27,
   "id": "cb72fe2f",
   "metadata": {},
   "outputs": [],
   "source": [
    "# precision_0 = cm[0,0]/cm[:,0].sum()  #  0이라고 예측했는데 맞춘비율\n",
    "# precision_0\n",
    "\n",
    "# precision_1 = cm[1,1]/cm[:,1].sum()  #  1이라고 예측했는데 맞춘비율\n",
    "# precision_1\n",
    "\n",
    "# recall_0 = cm[0,0]/cm[0,:].sum()  #  실제 0인 데이터를 0이라고 맞춘 비율\n",
    "# recall_0\n",
    "\n",
    "# recall_1= cm[1,1]/cm[1,:].sum()  #  실제 1인 데이터를 0이라고 맞춘 비율\n",
    "# recall_1"
   ]
  },
  {
   "cell_type": "markdown",
   "id": "02f52628",
   "metadata": {},
   "source": [
    "![F1_score](http://latex.codecogs.com/gif.latex?F_{1}&space;=&space;2&space;\\times&space;\\frac{precision&space;\\times&space;recall}{precision&space;+&space;recall}&space;=\\frac{TP}{TP&space;+&space;\\frac{FN+FP}{2}})"
   ]
  },
  {
   "cell_type": "code",
   "execution_count": 28,
   "id": "7075814b",
   "metadata": {},
   "outputs": [
    {
     "name": "stdout",
     "output_type": "stream",
     "text": [
      "              precision    recall  f1-score   support\n",
      "\n",
      "       False       0.98      0.98      0.98       402\n",
      "        True       0.81      0.79      0.80        48\n",
      "\n",
      "    accuracy                           0.96       450\n",
      "   macro avg       0.89      0.88      0.89       450\n",
      "weighted avg       0.96      0.96      0.96       450\n",
      "\n"
     ]
    }
   ],
   "source": [
    "print(classification_report(tree_preds, y_test))"
   ]
  },
  {
   "cell_type": "code",
   "execution_count": null,
   "id": "75e8b6ca",
   "metadata": {},
   "outputs": [],
   "source": []
  },
  {
   "cell_type": "code",
   "execution_count": null,
   "id": "398313c3",
   "metadata": {},
   "outputs": [],
   "source": []
  },
  {
   "cell_type": "code",
   "execution_count": 29,
   "id": "7de064fd",
   "metadata": {},
   "outputs": [],
   "source": [
    "# 모든 머신러닝 모델은 내부적으로 확률값을 리턴"
   ]
  },
  {
   "cell_type": "code",
   "execution_count": 30,
   "id": "c81ac446",
   "metadata": {},
   "outputs": [
    {
     "name": "stdout",
     "output_type": "stream",
     "text": [
      "[[ -1.58341978 -22.37156225]\n",
      " [ -4.17570775  -5.96493849]\n",
      " [-13.82618705 -14.40188785]\n",
      " [  0.71057905  -3.81896754]\n",
      " [-16.18799493 -17.86041252]\n",
      " [ -5.04648232 -13.08413534]\n",
      " [ -2.38421045   4.24907617]\n",
      " [ -7.62667962  -7.02174225]\n",
      " [ -4.33194738 -16.93515838]\n",
      " [-10.46971421  -3.7552367 ]] [0 0 0 0 0 0 0 0 0 0]\n"
     ]
    }
   ],
   "source": [
    "from mglearn.datasets import make_blobs\n",
    "\n",
    "x, y = make_blobs(n_samples=(400,5), centers=2, cluster_std=[7, 2], random_state=11)\n",
    "print(x[:10], y[:10])"
   ]
  },
  {
   "cell_type": "code",
   "execution_count": 31,
   "id": "5b68b6bd",
   "metadata": {},
   "outputs": [],
   "source": [
    "x_train, x_test, y_train, y_test = train_test_split(x, y, random_state=111)"
   ]
  },
  {
   "cell_type": "code",
   "execution_count": 32,
   "id": "4c0463db",
   "metadata": {},
   "outputs": [
    {
     "data": {
      "text/plain": [
       "array([0, 0, 0, 0, 0, 0, 0, 0, 0, 0, 0, 0, 0, 0, 0, 0, 0, 0, 0, 0, 0, 0,\n",
       "       0, 0, 0, 0, 0, 0, 0, 0, 0, 0, 0, 0, 0, 0, 0, 0, 0, 0, 0, 0, 0, 0,\n",
       "       0, 0, 0, 0, 0, 0, 0, 0, 0, 0, 0, 0, 0, 0, 0, 0, 0, 0, 0, 0, 0, 0,\n",
       "       0, 0, 0, 0, 0, 0, 0, 0, 0, 0, 0, 0, 0, 0, 0, 0, 0, 0, 0, 0, 0, 0,\n",
       "       0, 0, 0, 0, 0, 0, 0, 0, 0, 0, 0, 0, 0, 0])"
      ]
     },
     "execution_count": 32,
     "metadata": {},
     "output_type": "execute_result"
    }
   ],
   "source": [
    "svc = SVC(gamma=0.5, probability=True)\n",
    "svc.fit(x_train, y_train)\n",
    "preds = svc.predict(x_test)\n",
    "preds"
   ]
  },
  {
   "cell_type": "code",
   "execution_count": 33,
   "id": "139afacc",
   "metadata": {},
   "outputs": [
    {
     "data": {
      "text/plain": [
       "array([-1.00042127, -0.98834083, -1.00017991, -1.00268102, -1.00259514,\n",
       "       -1.0097318 , -0.98095167, -0.99972821, -1.00114562, -0.99806483,\n",
       "       -0.99550865, -0.99961719, -0.99849675, -0.98472113, -0.99423151,\n",
       "       -0.99603354, -0.99907795, -0.99892433, -0.99827454, -0.99601774,\n",
       "       -0.9925531 , -0.99938851, -0.55276913, -0.99923388, -0.99996865,\n",
       "       -0.99892612, -0.99178177, -0.97920177, -0.99391665, -0.99821058,\n",
       "       -0.97968924, -1.00020803, -0.98653578, -0.99996991, -0.99592681,\n",
       "       -1.00038151, -1.00016914, -0.99484696, -1.00007618, -1.00023198,\n",
       "       -1.00127871, -1.00007277, -0.99350691, -0.98912015, -0.97884923,\n",
       "       -0.9934615 , -0.99424342, -0.98915669, -0.99371648, -1.00037992,\n",
       "       -0.99657723, -0.99981443, -0.97809583, -1.00127669, -0.99545891,\n",
       "       -1.00064909, -0.99691643, -0.98011279, -0.99466191, -0.9927486 ,\n",
       "       -0.98245218, -0.99870695, -0.98365529, -0.9927829 , -0.99880466,\n",
       "       -0.99993715, -0.9996613 , -0.99927742, -0.98167611, -1.00089225,\n",
       "       -0.98898447, -1.00194608, -0.99908946, -0.99757007, -0.98851902,\n",
       "       -1.08408283, -0.99185689, -0.99943224, -0.99992557, -0.99758258,\n",
       "       -0.99954431, -1.00096906, -0.98580211, -0.99428994, -0.99805884,\n",
       "       -0.99288868, -0.98130711, -1.00042502, -1.00011663, -0.99408925,\n",
       "       -0.99968208, -0.99884867, -0.99967334, -1.00075821, -0.97809584,\n",
       "       -0.99715313, -0.98766929, -0.98957893, -0.99850777, -1.00028977,\n",
       "       -0.99394016, -0.98928431])"
      ]
     },
     "execution_count": 33,
     "metadata": {},
     "output_type": "execute_result"
    }
   ],
   "source": [
    "# svc.decision_function : 임계값(0)보다 크면 1, 0보다 작으면 0으로 예측\n",
    "svc.decision_function(x_test)"
   ]
  },
  {
   "cell_type": "code",
   "execution_count": 34,
   "id": "15555b23",
   "metadata": {},
   "outputs": [],
   "source": [
    "# sklearn에서 모델이 확률값을 리턴하는 함수\n",
    "# 1. decision_function() - 0을 기준으로, svc\n",
    "# 2. predict_proba() - 높은 확률값(0.5 or 둘 중 하나 중 높은 값)을 기준으로, rtc"
   ]
  },
  {
   "cell_type": "code",
   "execution_count": 35,
   "id": "8d8d539a",
   "metadata": {
    "scrolled": true
   },
   "outputs": [
    {
     "data": {
      "text/plain": [
       "array([[0.98531897, 0.01468103],\n",
       "       [0.98557359, 0.01442641],\n",
       "       [0.9853241 , 0.0146759 ],\n",
       "       [0.98527084, 0.01472916],\n",
       "       [0.98527267, 0.01472733],\n",
       "       [0.98511968, 0.01488032],\n",
       "       [0.98572716, 0.01427284],\n",
       "       [0.9853337 , 0.0146663 ],\n",
       "       [0.98530356, 0.01469644],\n",
       "       [0.98536898, 0.01463102],\n",
       "       [0.98542305, 0.01457695],\n",
       "       [0.98533605, 0.01466395],\n",
       "       [0.98535983, 0.01464017],\n",
       "       [0.98564902, 0.01435098],\n",
       "       [0.98544998, 0.01455002],\n",
       "       [0.98541196, 0.01458804],\n",
       "       [0.9853475 , 0.0146525 ],\n",
       "       [0.98535076, 0.01464924],\n",
       "       [0.98536454, 0.01463546],\n",
       "       [0.9854123 , 0.0145877 ],\n",
       "       [0.98548531, 0.01451469],\n",
       "       [0.98534091, 0.01465909],\n",
       "       [0.99232727, 0.00767273],\n",
       "       [0.98534419, 0.01465581],\n",
       "       [0.98532859, 0.01467141],\n",
       "       [0.98535072, 0.01464928],\n",
       "       [0.98550152, 0.01449848],\n",
       "       [0.98576329, 0.01423671],\n",
       "       [0.98545662, 0.01454338],\n",
       "       [0.98536589, 0.01463411],\n",
       "       [0.98575324, 0.01424676],\n",
       "       [0.9853235 , 0.0146765 ],\n",
       "       [0.98561126, 0.01438874],\n",
       "       [0.98532856, 0.01467144],\n",
       "       [0.98541422, 0.01458578],\n",
       "       [0.98531981, 0.01468019],\n",
       "       [0.98532433, 0.01467567],\n",
       "       [0.98543701, 0.01456299],\n",
       "       [0.9853263 , 0.0146737 ],\n",
       "       [0.98532299, 0.01467701],\n",
       "       [0.98530073, 0.01469927],\n",
       "       [0.98532637, 0.01467363],\n",
       "       [0.98546525, 0.01453475],\n",
       "       [0.9855573 , 0.0144427 ],\n",
       "       [0.98577056, 0.01422944],\n",
       "       [0.9854662 , 0.0145338 ],\n",
       "       [0.98544973, 0.01455027],\n",
       "       [0.98555653, 0.01444347],\n",
       "       [0.98546083, 0.01453917],\n",
       "       [0.98531985, 0.01468015],\n",
       "       [0.98540047, 0.01459953],\n",
       "       [0.98533186, 0.01466814],\n",
       "       [0.98578608, 0.01421392],\n",
       "       [0.98530077, 0.01469923],\n",
       "       [0.9854241 , 0.0145759 ],\n",
       "       [0.98531412, 0.01468588],\n",
       "       [0.9853933 , 0.0146067 ],\n",
       "       [0.98574449, 0.01425551],\n",
       "       [0.98544091, 0.01455909],\n",
       "       [0.9854812 , 0.0145188 ],\n",
       "       [0.98569611, 0.01430389],\n",
       "       [0.98535537, 0.01464463],\n",
       "       [0.98567116, 0.01432884],\n",
       "       [0.98548048, 0.01451952],\n",
       "       [0.9853533 , 0.0146467 ],\n",
       "       [0.98532926, 0.01467074],\n",
       "       [0.98533512, 0.01466488],\n",
       "       [0.98534327, 0.01465673],\n",
       "       [0.98571218, 0.01428782],\n",
       "       [0.98530895, 0.01469105],\n",
       "       [0.98556014, 0.01443986],\n",
       "       [0.98528651, 0.01471349],\n",
       "       [0.98534726, 0.01465274],\n",
       "       [0.98537946, 0.01462054],\n",
       "       [0.98556987, 0.01443013],\n",
       "       [0.98342848, 0.01657152],\n",
       "       [0.98549994, 0.01450006],\n",
       "       [0.98533998, 0.01466002],\n",
       "       [0.9853295 , 0.0146705 ],\n",
       "       [0.9853792 , 0.0146208 ],\n",
       "       [0.9853376 , 0.0146624 ],\n",
       "       [0.98530732, 0.01469268],\n",
       "       [0.98562654, 0.01437346],\n",
       "       [0.98544875, 0.01455125],\n",
       "       [0.98536911, 0.01463089],\n",
       "       [0.98547825, 0.01452175],\n",
       "       [0.98571981, 0.01428019],\n",
       "       [0.98531889, 0.01468111],\n",
       "       [0.98532544, 0.01467456],\n",
       "       [0.98545298, 0.01454702],\n",
       "       [0.98533467, 0.01466533],\n",
       "       [0.98535236, 0.01464764],\n",
       "       [0.98533486, 0.01466514],\n",
       "       [0.9853118 , 0.0146882 ],\n",
       "       [0.98578608, 0.01421392],\n",
       "       [0.98538829, 0.01461171],\n",
       "       [0.98558762, 0.01441238],\n",
       "       [0.9855477 , 0.0144523 ],\n",
       "       [0.98535959, 0.01464041],\n",
       "       [0.98532176, 0.01467824],\n",
       "       [0.98545612, 0.01454388],\n",
       "       [0.98555386, 0.01444614]])"
      ]
     },
     "execution_count": 35,
     "metadata": {},
     "output_type": "execute_result"
    }
   ],
   "source": [
    "# predict_proba : 0.5보다 크면 1, 0.5보다 작으면 0으로 예측 \n",
    "# svc.predict_proba(x_test)[:,0] : sample 데이터가 0일 확률\n",
    "# svc.predict_proba(x_test)[:,1] : sample 데이터가 1일 확률\n",
    "svc.predict_proba(x_test)"
   ]
  },
  {
   "cell_type": "code",
   "execution_count": 36,
   "id": "74d99409",
   "metadata": {},
   "outputs": [
    {
     "data": {
      "text/plain": [
       "array([0, 0, 0, 0, 0, 0, 0, 0, 0, 0, 0, 0, 0, 0, 0, 0, 0, 0, 0, 0, 0, 0,\n",
       "       0, 0, 0, 0, 0, 0, 0, 0, 0, 0, 0, 0, 0, 0, 0, 0, 0, 0, 0, 0, 0, 0,\n",
       "       0, 0, 0, 0, 0, 0, 0, 0, 0, 0, 0, 0, 0, 0, 0, 0, 0, 0, 0, 0, 0, 0,\n",
       "       0, 0, 0, 0, 0, 0, 0, 0, 0, 0, 0, 0, 0, 0, 0, 0, 0, 0, 0, 0, 0, 0,\n",
       "       0, 0, 0, 0, 0, 0, 0, 0, 0, 0, 0, 0, 0, 0], dtype=int64)"
      ]
     },
     "execution_count": 36,
     "metadata": {},
     "output_type": "execute_result"
    }
   ],
   "source": [
    "svc.predict_proba(x_test).argmax(axis=1)"
   ]
  },
  {
   "cell_type": "code",
   "execution_count": null,
   "id": "4831525b",
   "metadata": {},
   "outputs": [],
   "source": []
  },
  {
   "cell_type": "code",
   "execution_count": 37,
   "id": "782732fd",
   "metadata": {},
   "outputs": [
    {
     "data": {
      "text/plain": [
       "array([0, 1, 0, 0, 0, 0, 1, 1, 0, 1, 1, 1, 1, 1, 1, 1, 1, 1, 1, 1, 1, 1,\n",
       "       1, 1, 1, 1, 1, 1, 1, 1, 1, 0, 1, 1, 1, 0, 0, 1, 0, 0, 0, 0, 1, 1,\n",
       "       1, 1, 1, 1, 1, 0, 1, 1, 1, 0, 1, 0, 1, 1, 1, 1, 1, 1, 1, 1, 1, 1,\n",
       "       1, 1, 1, 0, 1, 0, 1, 1, 1, 0, 1, 1, 1, 1, 1, 0, 1, 1, 1, 1, 1, 0,\n",
       "       0, 1, 1, 1, 1, 0, 1, 1, 1, 1, 1, 0, 1, 1])"
      ]
     },
     "execution_count": 37,
     "metadata": {},
     "output_type": "execute_result"
    }
   ],
   "source": [
    "# np.where > -1, 1, 0 : -1보다 크면 1 작으면 0\n",
    "# svc.decision_function의 임계값을 변경할 수 있다.\n",
    "np.where(svc.decision_function(x_test) > -1, 1, 0)"
   ]
  },
  {
   "cell_type": "code",
   "execution_count": null,
   "id": "95d797e2",
   "metadata": {},
   "outputs": [],
   "source": []
  },
  {
   "cell_type": "markdown",
   "id": "ffe64e32",
   "metadata": {},
   "source": [
    "### 정밀도-재현율 곡선과 평균정밀도\n",
    "---\n",
    "- 다양한 예측 확률 임계값을 통해 모델을 평가하는 방법\n",
    "- 임계값이 변화함에 따라 정밀도와 재현율 값의 변화를 그래프로 나타낸다.\n",
    "- precision_recall_curve"
   ]
  },
  {
   "cell_type": "code",
   "execution_count": 57,
   "id": "255e1575",
   "metadata": {},
   "outputs": [],
   "source": [
    "from sklearn.datasets import make_blobs\n",
    "x, y = make_blobs(n_samples=10000, centers=2, n_features=2, cluster_std=[1.2,1], random_state=0)"
   ]
  },
  {
   "cell_type": "code",
   "execution_count": 58,
   "id": "092f2275",
   "metadata": {},
   "outputs": [
    {
     "data": {
      "text/plain": [
       "array([[0.775567  , 3.57894762],\n",
       "       [1.21239419, 5.4673358 ],\n",
       "       [2.81560514, 6.06701785],\n",
       "       [3.00805773, 0.69934352],\n",
       "       [2.00577879, 5.67310957]])"
      ]
     },
     "execution_count": 58,
     "metadata": {},
     "output_type": "execute_result"
    }
   ],
   "source": [
    "x[:5]"
   ]
  },
  {
   "cell_type": "code",
   "execution_count": 59,
   "id": "1861321c",
   "metadata": {},
   "outputs": [
    {
     "data": {
      "text/plain": [
       "array([0, 0, 0, 1, 0])"
      ]
     },
     "execution_count": 59,
     "metadata": {},
     "output_type": "execute_result"
    }
   ],
   "source": [
    "y[:5]"
   ]
  },
  {
   "cell_type": "code",
   "execution_count": 60,
   "id": "52872b9e",
   "metadata": {},
   "outputs": [
    {
     "data": {
      "text/plain": [
       "<matplotlib.collections.PathCollection at 0x18cee7fff70>"
      ]
     },
     "execution_count": 60,
     "metadata": {},
     "output_type": "execute_result"
    },
    {
     "data": {
      "image/png": "[encoded data removed]",
      "text/plain": [
       "<Figure size 432x288 with 1 Axes>"
      ]
     },
     "metadata": {
      "needs_background": "light"
     },
     "output_type": "display_data"
    }
   ],
   "source": [
    "plt.scatter(x[:,0],x[:,1])"
   ]
  },
  {
   "cell_type": "code",
   "execution_count": null,
   "id": "41c37181",
   "metadata": {},
   "outputs": [],
   "source": []
  },
  {
   "cell_type": "code",
   "execution_count": 61,
   "id": "138cd8a3",
   "metadata": {},
   "outputs": [],
   "source": [
    "x_train, x_test, y_train, y_test = train_test_split(x,y, random_state=111)"
   ]
  },
  {
   "cell_type": "code",
   "execution_count": null,
   "id": "f5056c8a",
   "metadata": {},
   "outputs": [],
   "source": []
  },
  {
   "cell_type": "code",
   "execution_count": 62,
   "id": "694548c0",
   "metadata": {},
   "outputs": [],
   "source": [
    "from sklearn.svm import SVC\n",
    "svc = SVC(gamma=0.05).fit(x_train, y_train)"
   ]
  },
  {
   "cell_type": "code",
   "execution_count": 63,
   "id": "99c94860",
   "metadata": {},
   "outputs": [],
   "source": [
    "from sklearn.metrics import precision_recall_curve\n",
    "\n",
    "# thresholds : recall값과 precision값을 적절히 조절해야할때가 있을때 사용\n",
    "# Thresholds이하의 값은 False, 이상은 True로 판단\n",
    "precision, recall, thresholds = precision_recall_curve(y_test, svc.decision_function(x_test))"
   ]
  },
  {
   "cell_type": "code",
   "execution_count": 64,
   "id": "ea822a93",
   "metadata": {},
   "outputs": [
    {
     "data": {
      "text/plain": [
       "Text(0, 0.5, '재현율')"
      ]
     },
     "execution_count": 64,
     "metadata": {},
     "output_type": "execute_result"
    },
    {
     "data": {
      "image/png": "[encoded data removed]",
      "text/plain": [
       "<Figure size 432x288 with 1 Axes>"
      ]
     },
     "metadata": {
      "needs_background": "light"
     },
     "output_type": "display_data"
    }
   ],
   "source": [
    "plt.plot(precision, recall, label='정밀도-재현율 곡선')\n",
    "plt.xlabel('정밀도')\n",
    "plt.ylabel('재현율')\n",
    "\n",
    "# 정밀도가 높아지면 재현율이 낮아지고, 재현율이 높아지면 정밀도가 낮아진다\n",
    "# 좋은 모델은 모든 임계값 수준에서 정밀도와 재현율이 동시에 높은 모델\n",
    "# 정밀도-재현율 곡선의 아랫부분 면적이 클수록 좋은 모델\n",
    "# 정밀도-재현율 곡선의 아래 면적 : average_precision_score()"
   ]
  },
  {
   "cell_type": "code",
   "execution_count": 65,
   "id": "15139bab",
   "metadata": {},
   "outputs": [
    {
     "data": {
      "text/plain": [
       "0.9885880392185753"
      ]
     },
     "execution_count": 65,
     "metadata": {},
     "output_type": "execute_result"
    }
   ],
   "source": [
    "from sklearn.metrics import average_precision_score\n",
    "average_precision_score(y_test, svc.decision_function(x_test))"
   ]
  },
  {
   "cell_type": "code",
   "execution_count": 66,
   "id": "51196cda",
   "metadata": {},
   "outputs": [],
   "source": [
    "from sklearn.ensemble import RandomForestClassifier\n",
    "\n",
    "rfc = RandomForestClassifier(n_estimators=100, random_state=111)\n",
    "rfc.fit(x_train, y_train)\n",
    "\n",
    "precision_rfc, recall_rfc, thresholds_rfc = precision_recall_curve(y_test, rfc.predict_proba(x_test)[:,1])"
   ]
  },
  {
   "cell_type": "code",
   "execution_count": 67,
   "id": "c60e9c14",
   "metadata": {},
   "outputs": [
    {
     "data": {
      "text/plain": [
       "Text(0, 0.5, '재현율')"
      ]
     },
     "execution_count": 67,
     "metadata": {},
     "output_type": "execute_result"
    },
    {
     "data": {
      "image/png": "[encoded data removed]",
      "text/plain": [
       "<Figure size 432x288 with 1 Axes>"
      ]
     },
     "metadata": {
      "needs_background": "light"
     },
     "output_type": "display_data"
    }
   ],
   "source": [
    "plt.plot(precision_rfc, recall_rfc, label='rfc-정밀도-재현율 곡선')\n",
    "plt.xlabel('정밀도')\n",
    "plt.ylabel('재현율')"
   ]
  },
  {
   "cell_type": "code",
   "execution_count": null,
   "id": "505be874",
   "metadata": {},
   "outputs": [],
   "source": []
  },
  {
   "cell_type": "code",
   "execution_count": 68,
   "id": "fcbd54f2",
   "metadata": {},
   "outputs": [
    {
     "data": {
      "text/plain": [
       "<matplotlib.legend.Legend at 0x18cee8de8e0>"
      ]
     },
     "execution_count": 68,
     "metadata": {},
     "output_type": "execute_result"
    },
    {
     "data": {
      "image/png": "[encoded data removed]",
      "text/plain": [
       "<Figure size 432x288 with 1 Axes>"
      ]
     },
     "metadata": {
      "needs_background": "light"
     },
     "output_type": "display_data"
    }
   ],
   "source": [
    "plt.plot(precision, recall, label='svc')\n",
    "plt.plot(precision_rfc, recall_rfc, label='rfc')\n",
    "plt.title('정밀도-재현율 곡선')\n",
    "plt.legend()"
   ]
  },
  {
   "cell_type": "code",
   "execution_count": null,
   "id": "63a3a61a",
   "metadata": {},
   "outputs": [],
   "source": []
  },
  {
   "cell_type": "code",
   "execution_count": 69,
   "id": "49b5a9bc",
   "metadata": {},
   "outputs": [
    {
     "name": "stdout",
     "output_type": "stream",
     "text": [
      "svc_aps : 0.9885880392185753 rfc_aps : 0.9791388544778379\n"
     ]
    }
   ],
   "source": [
    "svc_aps = average_precision_score(y_test, svc.decision_function(x_test))\n",
    "rfc_aps = average_precision_score(y_test, rfc.predict_proba(x_test)[:,1])\n",
    "print('svc_aps :', svc_aps, 'rfc_aps :',rfc_aps)"
   ]
  },
  {
   "cell_type": "code",
   "execution_count": null,
   "id": "e039abe9",
   "metadata": {},
   "outputs": [],
   "source": []
  },
  {
   "cell_type": "code",
   "execution_count": null,
   "id": "311cebb4",
   "metadata": {},
   "outputs": [],
   "source": []
  },
  {
   "cell_type": "code",
   "execution_count": 70,
   "id": "513757cb",
   "metadata": {},
   "outputs": [],
   "source": [
    "# ROC-AUC 곡선\n",
    "# 모든 임계값에서 TPR(진짜 양성비율)과 FPR(거짓 양성비율)을 그래프로 나타낸 곡선\n",
    "# TPR - 재현율(recall), 실제 True인 데이터에서 True라고 맞춘 비율\n",
    "# FPR - 거짓 양성비율, 실제 False인 데이터를 True라고 잘못 맞춘 비율\n",
    "# TPR은 높을수록 좋고, FPR은 낮을수록 좋은 모델\n",
    "# roc-auc곡선의 면적 : roc_auc_score()\n",
    "# 특히 imbalaced dataset에서 유용한 평가지표로 사용"
   ]
  },
  {
   "cell_type": "code",
   "execution_count": 71,
   "id": "05b171d2",
   "metadata": {},
   "outputs": [
    {
     "data": {
      "text/plain": [
       "<matplotlib.legend.Legend at 0x18cee73a310>"
      ]
     },
     "execution_count": 71,
     "metadata": {},
     "output_type": "execute_result"
    },
    {
     "data": {
      "image/png": "[encoded data removed]",
      "text/plain": [
       "<Figure size 432x288 with 1 Axes>"
      ]
     },
     "metadata": {
      "needs_background": "light"
     },
     "output_type": "display_data"
    }
   ],
   "source": [
    "from sklearn.metrics import roc_curve\n",
    "\n",
    "fpr, tpr, thresholds = roc_curve(y_test, svc.decision_function(x_test))\n",
    "\n",
    "plt.plot(fpr, tpr, label='ROC 곡선')\n",
    "plt.xlabel('FPR')\n",
    "plt.ylabel('TPR')\n",
    "plt.legend()\n",
    "\n",
    "# tpr은 높고, fpr은 낮을수록 좋은 모델 - 좌성으로 그려질 수록 좋은 모델"
   ]
  },
  {
   "cell_type": "code",
   "execution_count": 72,
   "id": "f548870f",
   "metadata": {},
   "outputs": [],
   "source": [
    "fpr_rfc, tpr_rfc, thresholds_rfc = roc_curve(y_test, rfc.predict_proba(x_test)[:,1])"
   ]
  },
  {
   "cell_type": "code",
   "execution_count": 73,
   "id": "1e1fd733",
   "metadata": {},
   "outputs": [
    {
     "data": {
      "text/plain": [
       "<matplotlib.legend.Legend at 0x18ceea13a60>"
      ]
     },
     "execution_count": 73,
     "metadata": {},
     "output_type": "execute_result"
    },
    {
     "data": {
      "image/png": "[encoded data removed]",
      "text/plain": [
       "<Figure size 432x288 with 1 Axes>"
      ]
     },
     "metadata": {
      "needs_background": "light"
     },
     "output_type": "display_data"
    }
   ],
   "source": [
    "plt.plot(fpr, tpr, label='ROC 곡선')\n",
    "plt.plot(fpr_rfc, tpr_rfc, label='ROC 곡선')\n",
    "plt.xlabel('FPR')\n",
    "plt.ylabel('TPR')\n",
    "plt.legend()"
   ]
  },
  {
   "cell_type": "code",
   "execution_count": 74,
   "id": "a15a531b",
   "metadata": {},
   "outputs": [
    {
     "name": "stdout",
     "output_type": "stream",
     "text": [
      "랜덤 포래스트 AUC_SCORE : 0.9830793214051485\n",
      "SVC AUC_SCORE : 0.9892771868339072\n"
     ]
    }
   ],
   "source": [
    "from sklearn.metrics import roc_auc_score\n",
    "rfc_auc_score = roc_auc_score(y_test, rfc.predict_proba(x_test)[:,1])\n",
    "svc_auc_score = roc_auc_score(y_test, svc.decision_function(x_test))\n",
    "\n",
    "print('랜덤 포래스트 AUC_SCORE :', rfc_auc_score)\n",
    "print('SVC AUC_SCORE :', svc_auc_score)"
   ]
  }
 ],
 "metadata": {
  "kernelspec": {
   "display_name": "Python 3 (ipykernel)",
   "language": "python",
   "name": "python3"
  },
  "language_info": {
   "codemirror_mode": {
    "name": "ipython",
    "version": 3
   },
   "file_extension": ".py",
   "mimetype": "text/x-python",
   "name": "python",
   "nbconvert_exporter": "python",
   "pygments_lexer": "ipython3",
   "version": "3.9.7"
  }
 },
 "nbformat": 4,
 "nbformat_minor": 5
}
