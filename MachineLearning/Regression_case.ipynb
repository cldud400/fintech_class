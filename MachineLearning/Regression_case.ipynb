{
 "cells": [
  {
   "cell_type": "code",
   "execution_count": 113,
   "id": "47fb52d1",
   "metadata": {},
   "outputs": [],
   "source": [
    "import pandas as pd\n",
    "import numpy as np\n",
    "import matplotlib.pyplot as plt\n",
    "import seaborn as sns"
   ]
  },
  {
   "cell_type": "code",
   "execution_count": 114,
   "id": "0b3988a7",
   "metadata": {},
   "outputs": [],
   "source": [
    "# matplotlib 한글화\n",
    "\n",
    "import matplotlib as mpl\n",
    "import matplotlib.font_manager as fm\n",
    "\n",
    "mpl.rcParams['axes.unicode_minus'] = False\n",
    "\n",
    "path = 'C:/Windows/Fonts/malgun.ttf'\n",
    "font_name = fm.FontProperties(fname=path, size=50).get_name()\n",
    "plt.rc('font', family=font_name)"
   ]
  },
  {
   "cell_type": "code",
   "execution_count": 115,
   "id": "7da1411d",
   "metadata": {},
   "outputs": [],
   "source": [
    "import warnings\n",
    "warnings.filterwarnings(action='ignore') "
   ]
  },
  {
   "cell_type": "code",
   "execution_count": 116,
   "id": "fb657d88",
   "metadata": {},
   "outputs": [
    {
     "data": {
      "text/html": [
       "<div>\n",
       "<style scoped>\n",
       "    .dataframe tbody tr th:only-of-type {\n",
       "        vertical-align: middle;\n",
       "    }\n",
       "\n",
       "    .dataframe tbody tr th {\n",
       "        vertical-align: top;\n",
       "    }\n",
       "\n",
       "    .dataframe thead th {\n",
       "        text-align: right;\n",
       "    }\n",
       "</style>\n",
       "<table border=\"1\" class=\"dataframe\">\n",
       "  <thead>\n",
       "    <tr style=\"text-align: right;\">\n",
       "      <th></th>\n",
       "      <th>datetime</th>\n",
       "      <th>season</th>\n",
       "      <th>holiday</th>\n",
       "      <th>workingday</th>\n",
       "      <th>weather</th>\n",
       "      <th>temp</th>\n",
       "      <th>atemp</th>\n",
       "      <th>humidity</th>\n",
       "      <th>windspeed</th>\n",
       "      <th>casual</th>\n",
       "      <th>registered</th>\n",
       "      <th>count</th>\n",
       "    </tr>\n",
       "  </thead>\n",
       "  <tbody>\n",
       "    <tr>\n",
       "      <th>0</th>\n",
       "      <td>2011-01-01 00:00:00</td>\n",
       "      <td>1</td>\n",
       "      <td>0</td>\n",
       "      <td>0</td>\n",
       "      <td>1</td>\n",
       "      <td>9.84</td>\n",
       "      <td>14.395</td>\n",
       "      <td>81</td>\n",
       "      <td>0.0</td>\n",
       "      <td>3</td>\n",
       "      <td>13</td>\n",
       "      <td>16</td>\n",
       "    </tr>\n",
       "    <tr>\n",
       "      <th>1</th>\n",
       "      <td>2011-01-01 01:00:00</td>\n",
       "      <td>1</td>\n",
       "      <td>0</td>\n",
       "      <td>0</td>\n",
       "      <td>1</td>\n",
       "      <td>9.02</td>\n",
       "      <td>13.635</td>\n",
       "      <td>80</td>\n",
       "      <td>0.0</td>\n",
       "      <td>8</td>\n",
       "      <td>32</td>\n",
       "      <td>40</td>\n",
       "    </tr>\n",
       "    <tr>\n",
       "      <th>2</th>\n",
       "      <td>2011-01-01 02:00:00</td>\n",
       "      <td>1</td>\n",
       "      <td>0</td>\n",
       "      <td>0</td>\n",
       "      <td>1</td>\n",
       "      <td>9.02</td>\n",
       "      <td>13.635</td>\n",
       "      <td>80</td>\n",
       "      <td>0.0</td>\n",
       "      <td>5</td>\n",
       "      <td>27</td>\n",
       "      <td>32</td>\n",
       "    </tr>\n",
       "  </tbody>\n",
       "</table>\n",
       "</div>"
      ],
      "text/plain": [
       "              datetime  season  holiday  workingday  weather  temp   atemp  \\\n",
       "0  2011-01-01 00:00:00       1        0           0        1  9.84  14.395   \n",
       "1  2011-01-01 01:00:00       1        0           0        1  9.02  13.635   \n",
       "2  2011-01-01 02:00:00       1        0           0        1  9.02  13.635   \n",
       "\n",
       "   humidity  windspeed  casual  registered  count  \n",
       "0        81        0.0       3          13     16  \n",
       "1        80        0.0       8          32     40  \n",
       "2        80        0.0       5          27     32  "
      ]
     },
     "execution_count": 116,
     "metadata": {},
     "output_type": "execute_result"
    }
   ],
   "source": [
    "df = pd.read_csv('./ml_source_files/bike_sharing.csv')\n",
    "df.head(3)"
   ]
  },
  {
   "cell_type": "code",
   "execution_count": 117,
   "id": "4f5038fe",
   "metadata": {},
   "outputs": [
    {
     "name": "stdout",
     "output_type": "stream",
     "text": [
      "<class 'pandas.core.frame.DataFrame'>\n",
      "RangeIndex: 10886 entries, 0 to 10885\n",
      "Data columns (total 12 columns):\n",
      " #   Column      Non-Null Count  Dtype  \n",
      "---  ------      --------------  -----  \n",
      " 0   datetime    10886 non-null  object \n",
      " 1   season      10886 non-null  int64  \n",
      " 2   holiday     10886 non-null  int64  \n",
      " 3   workingday  10886 non-null  int64  \n",
      " 4   weather     10886 non-null  int64  \n",
      " 5   temp        10886 non-null  float64\n",
      " 6   atemp       10886 non-null  float64\n",
      " 7   humidity    10886 non-null  int64  \n",
      " 8   windspeed   10886 non-null  float64\n",
      " 9   casual      10886 non-null  int64  \n",
      " 10  registered  10886 non-null  int64  \n",
      " 11  count       10886 non-null  int64  \n",
      "dtypes: float64(3), int64(8), object(1)\n",
      "memory usage: 1020.7+ KB\n"
     ]
    }
   ],
   "source": [
    "df.info()"
   ]
  },
  {
   "cell_type": "code",
   "execution_count": 118,
   "id": "93e04809",
   "metadata": {},
   "outputs": [],
   "source": [
    "df.datetime = pd.to_datetime(df.datetime)"
   ]
  },
  {
   "cell_type": "code",
   "execution_count": 119,
   "id": "a5d92fb7",
   "metadata": {},
   "outputs": [],
   "source": [
    "# 날짜 데이터는 연속값이 아니고 category\n",
    "df['year'] = df.datetime.apply(lambda x: str(x.year))\n",
    "df['month'] = df.datetime.apply(lambda x: str(x.month))\n",
    "df['day'] = df.datetime.apply(lambda x: str(x.day))\n",
    "df['hour'] = df.datetime.apply(lambda x: str(x.hour))"
   ]
  },
  {
   "cell_type": "code",
   "execution_count": 120,
   "id": "41a72c44",
   "metadata": {},
   "outputs": [],
   "source": [
    "# one-hot encoding\n",
    "df = pd.get_dummies(df)"
   ]
  },
  {
   "cell_type": "code",
   "execution_count": 121,
   "id": "c8731b8b",
   "metadata": {},
   "outputs": [
    {
     "data": {
      "text/html": [
       "<div>\n",
       "<style scoped>\n",
       "    .dataframe tbody tr th:only-of-type {\n",
       "        vertical-align: middle;\n",
       "    }\n",
       "\n",
       "    .dataframe tbody tr th {\n",
       "        vertical-align: top;\n",
       "    }\n",
       "\n",
       "    .dataframe thead th {\n",
       "        text-align: right;\n",
       "    }\n",
       "</style>\n",
       "<table border=\"1\" class=\"dataframe\">\n",
       "  <thead>\n",
       "    <tr style=\"text-align: right;\">\n",
       "      <th></th>\n",
       "      <th>datetime</th>\n",
       "      <th>season</th>\n",
       "      <th>holiday</th>\n",
       "      <th>workingday</th>\n",
       "      <th>weather</th>\n",
       "      <th>temp</th>\n",
       "      <th>atemp</th>\n",
       "      <th>humidity</th>\n",
       "      <th>windspeed</th>\n",
       "      <th>casual</th>\n",
       "      <th>...</th>\n",
       "      <th>hour_21</th>\n",
       "      <th>hour_22</th>\n",
       "      <th>hour_23</th>\n",
       "      <th>hour_3</th>\n",
       "      <th>hour_4</th>\n",
       "      <th>hour_5</th>\n",
       "      <th>hour_6</th>\n",
       "      <th>hour_7</th>\n",
       "      <th>hour_8</th>\n",
       "      <th>hour_9</th>\n",
       "    </tr>\n",
       "  </thead>\n",
       "  <tbody>\n",
       "    <tr>\n",
       "      <th>0</th>\n",
       "      <td>2011-01-01 00:00:00</td>\n",
       "      <td>1</td>\n",
       "      <td>0</td>\n",
       "      <td>0</td>\n",
       "      <td>1</td>\n",
       "      <td>9.84</td>\n",
       "      <td>14.395</td>\n",
       "      <td>81</td>\n",
       "      <td>0.0</td>\n",
       "      <td>3</td>\n",
       "      <td>...</td>\n",
       "      <td>0</td>\n",
       "      <td>0</td>\n",
       "      <td>0</td>\n",
       "      <td>0</td>\n",
       "      <td>0</td>\n",
       "      <td>0</td>\n",
       "      <td>0</td>\n",
       "      <td>0</td>\n",
       "      <td>0</td>\n",
       "      <td>0</td>\n",
       "    </tr>\n",
       "    <tr>\n",
       "      <th>1</th>\n",
       "      <td>2011-01-01 01:00:00</td>\n",
       "      <td>1</td>\n",
       "      <td>0</td>\n",
       "      <td>0</td>\n",
       "      <td>1</td>\n",
       "      <td>9.02</td>\n",
       "      <td>13.635</td>\n",
       "      <td>80</td>\n",
       "      <td>0.0</td>\n",
       "      <td>8</td>\n",
       "      <td>...</td>\n",
       "      <td>0</td>\n",
       "      <td>0</td>\n",
       "      <td>0</td>\n",
       "      <td>0</td>\n",
       "      <td>0</td>\n",
       "      <td>0</td>\n",
       "      <td>0</td>\n",
       "      <td>0</td>\n",
       "      <td>0</td>\n",
       "      <td>0</td>\n",
       "    </tr>\n",
       "    <tr>\n",
       "      <th>2</th>\n",
       "      <td>2011-01-01 02:00:00</td>\n",
       "      <td>1</td>\n",
       "      <td>0</td>\n",
       "      <td>0</td>\n",
       "      <td>1</td>\n",
       "      <td>9.02</td>\n",
       "      <td>13.635</td>\n",
       "      <td>80</td>\n",
       "      <td>0.0</td>\n",
       "      <td>5</td>\n",
       "      <td>...</td>\n",
       "      <td>0</td>\n",
       "      <td>0</td>\n",
       "      <td>0</td>\n",
       "      <td>0</td>\n",
       "      <td>0</td>\n",
       "      <td>0</td>\n",
       "      <td>0</td>\n",
       "      <td>0</td>\n",
       "      <td>0</td>\n",
       "      <td>0</td>\n",
       "    </tr>\n",
       "  </tbody>\n",
       "</table>\n",
       "<p>3 rows × 69 columns</p>\n",
       "</div>"
      ],
      "text/plain": [
       "             datetime  season  holiday  workingday  weather  temp   atemp  \\\n",
       "0 2011-01-01 00:00:00       1        0           0        1  9.84  14.395   \n",
       "1 2011-01-01 01:00:00       1        0           0        1  9.02  13.635   \n",
       "2 2011-01-01 02:00:00       1        0           0        1  9.02  13.635   \n",
       "\n",
       "   humidity  windspeed  casual  ...  hour_21  hour_22  hour_23  hour_3  \\\n",
       "0        81        0.0       3  ...        0        0        0       0   \n",
       "1        80        0.0       8  ...        0        0        0       0   \n",
       "2        80        0.0       5  ...        0        0        0       0   \n",
       "\n",
       "   hour_4  hour_5  hour_6  hour_7  hour_8  hour_9  \n",
       "0       0       0       0       0       0       0  \n",
       "1       0       0       0       0       0       0  \n",
       "2       0       0       0       0       0       0  \n",
       "\n",
       "[3 rows x 69 columns]"
      ]
     },
     "execution_count": 121,
     "metadata": {},
     "output_type": "execute_result"
    }
   ],
   "source": [
    "df.head(3)"
   ]
  },
  {
   "cell_type": "code",
   "execution_count": 122,
   "id": "631f0f32",
   "metadata": {},
   "outputs": [
    {
     "name": "stdout",
     "output_type": "stream",
     "text": [
      "<class 'pandas.core.frame.DataFrame'>\n",
      "RangeIndex: 10886 entries, 0 to 10885\n",
      "Data columns (total 69 columns):\n",
      " #   Column      Non-Null Count  Dtype         \n",
      "---  ------      --------------  -----         \n",
      " 0   datetime    10886 non-null  datetime64[ns]\n",
      " 1   season      10886 non-null  int64         \n",
      " 2   holiday     10886 non-null  int64         \n",
      " 3   workingday  10886 non-null  int64         \n",
      " 4   weather     10886 non-null  int64         \n",
      " 5   temp        10886 non-null  float64       \n",
      " 6   atemp       10886 non-null  float64       \n",
      " 7   humidity    10886 non-null  int64         \n",
      " 8   windspeed   10886 non-null  float64       \n",
      " 9   casual      10886 non-null  int64         \n",
      " 10  registered  10886 non-null  int64         \n",
      " 11  count       10886 non-null  int64         \n",
      " 12  year_2011   10886 non-null  uint8         \n",
      " 13  year_2012   10886 non-null  uint8         \n",
      " 14  month_1     10886 non-null  uint8         \n",
      " 15  month_10    10886 non-null  uint8         \n",
      " 16  month_11    10886 non-null  uint8         \n",
      " 17  month_12    10886 non-null  uint8         \n",
      " 18  month_2     10886 non-null  uint8         \n",
      " 19  month_3     10886 non-null  uint8         \n",
      " 20  month_4     10886 non-null  uint8         \n",
      " 21  month_5     10886 non-null  uint8         \n",
      " 22  month_6     10886 non-null  uint8         \n",
      " 23  month_7     10886 non-null  uint8         \n",
      " 24  month_8     10886 non-null  uint8         \n",
      " 25  month_9     10886 non-null  uint8         \n",
      " 26  day_1       10886 non-null  uint8         \n",
      " 27  day_10      10886 non-null  uint8         \n",
      " 28  day_11      10886 non-null  uint8         \n",
      " 29  day_12      10886 non-null  uint8         \n",
      " 30  day_13      10886 non-null  uint8         \n",
      " 31  day_14      10886 non-null  uint8         \n",
      " 32  day_15      10886 non-null  uint8         \n",
      " 33  day_16      10886 non-null  uint8         \n",
      " 34  day_17      10886 non-null  uint8         \n",
      " 35  day_18      10886 non-null  uint8         \n",
      " 36  day_19      10886 non-null  uint8         \n",
      " 37  day_2       10886 non-null  uint8         \n",
      " 38  day_3       10886 non-null  uint8         \n",
      " 39  day_4       10886 non-null  uint8         \n",
      " 40  day_5       10886 non-null  uint8         \n",
      " 41  day_6       10886 non-null  uint8         \n",
      " 42  day_7       10886 non-null  uint8         \n",
      " 43  day_8       10886 non-null  uint8         \n",
      " 44  day_9       10886 non-null  uint8         \n",
      " 45  hour_0      10886 non-null  uint8         \n",
      " 46  hour_1      10886 non-null  uint8         \n",
      " 47  hour_10     10886 non-null  uint8         \n",
      " 48  hour_11     10886 non-null  uint8         \n",
      " 49  hour_12     10886 non-null  uint8         \n",
      " 50  hour_13     10886 non-null  uint8         \n",
      " 51  hour_14     10886 non-null  uint8         \n",
      " 52  hour_15     10886 non-null  uint8         \n",
      " 53  hour_16     10886 non-null  uint8         \n",
      " 54  hour_17     10886 non-null  uint8         \n",
      " 55  hour_18     10886 non-null  uint8         \n",
      " 56  hour_19     10886 non-null  uint8         \n",
      " 57  hour_2      10886 non-null  uint8         \n",
      " 58  hour_20     10886 non-null  uint8         \n",
      " 59  hour_21     10886 non-null  uint8         \n",
      " 60  hour_22     10886 non-null  uint8         \n",
      " 61  hour_23     10886 non-null  uint8         \n",
      " 62  hour_3      10886 non-null  uint8         \n",
      " 63  hour_4      10886 non-null  uint8         \n",
      " 64  hour_5      10886 non-null  uint8         \n",
      " 65  hour_6      10886 non-null  uint8         \n",
      " 66  hour_7      10886 non-null  uint8         \n",
      " 67  hour_8      10886 non-null  uint8         \n",
      " 68  hour_9      10886 non-null  uint8         \n",
      "dtypes: datetime64[ns](1), float64(3), int64(8), uint8(57)\n",
      "memory usage: 1.6 MB\n"
     ]
    }
   ],
   "source": [
    "df.info()"
   ]
  },
  {
   "cell_type": "code",
   "execution_count": 123,
   "id": "86fc26b1",
   "metadata": {},
   "outputs": [],
   "source": [
    "df.drop(['datetime','casual','registered'], axis=1, inplace=True)"
   ]
  },
  {
   "cell_type": "code",
   "execution_count": 124,
   "id": "bd632e24",
   "metadata": {},
   "outputs": [
    {
     "data": {
      "text/html": [
       "<div>\n",
       "<style scoped>\n",
       "    .dataframe tbody tr th:only-of-type {\n",
       "        vertical-align: middle;\n",
       "    }\n",
       "\n",
       "    .dataframe tbody tr th {\n",
       "        vertical-align: top;\n",
       "    }\n",
       "\n",
       "    .dataframe thead th {\n",
       "        text-align: right;\n",
       "    }\n",
       "</style>\n",
       "<table border=\"1\" class=\"dataframe\">\n",
       "  <thead>\n",
       "    <tr style=\"text-align: right;\">\n",
       "      <th></th>\n",
       "      <th>season</th>\n",
       "      <th>holiday</th>\n",
       "      <th>workingday</th>\n",
       "      <th>weather</th>\n",
       "      <th>temp</th>\n",
       "      <th>atemp</th>\n",
       "      <th>humidity</th>\n",
       "      <th>windspeed</th>\n",
       "      <th>count</th>\n",
       "      <th>year_2011</th>\n",
       "      <th>...</th>\n",
       "      <th>hour_21</th>\n",
       "      <th>hour_22</th>\n",
       "      <th>hour_23</th>\n",
       "      <th>hour_3</th>\n",
       "      <th>hour_4</th>\n",
       "      <th>hour_5</th>\n",
       "      <th>hour_6</th>\n",
       "      <th>hour_7</th>\n",
       "      <th>hour_8</th>\n",
       "      <th>hour_9</th>\n",
       "    </tr>\n",
       "  </thead>\n",
       "  <tbody>\n",
       "    <tr>\n",
       "      <th>0</th>\n",
       "      <td>1</td>\n",
       "      <td>0</td>\n",
       "      <td>0</td>\n",
       "      <td>1</td>\n",
       "      <td>9.84</td>\n",
       "      <td>14.395</td>\n",
       "      <td>81</td>\n",
       "      <td>0.0</td>\n",
       "      <td>16</td>\n",
       "      <td>1</td>\n",
       "      <td>...</td>\n",
       "      <td>0</td>\n",
       "      <td>0</td>\n",
       "      <td>0</td>\n",
       "      <td>0</td>\n",
       "      <td>0</td>\n",
       "      <td>0</td>\n",
       "      <td>0</td>\n",
       "      <td>0</td>\n",
       "      <td>0</td>\n",
       "      <td>0</td>\n",
       "    </tr>\n",
       "    <tr>\n",
       "      <th>1</th>\n",
       "      <td>1</td>\n",
       "      <td>0</td>\n",
       "      <td>0</td>\n",
       "      <td>1</td>\n",
       "      <td>9.02</td>\n",
       "      <td>13.635</td>\n",
       "      <td>80</td>\n",
       "      <td>0.0</td>\n",
       "      <td>40</td>\n",
       "      <td>1</td>\n",
       "      <td>...</td>\n",
       "      <td>0</td>\n",
       "      <td>0</td>\n",
       "      <td>0</td>\n",
       "      <td>0</td>\n",
       "      <td>0</td>\n",
       "      <td>0</td>\n",
       "      <td>0</td>\n",
       "      <td>0</td>\n",
       "      <td>0</td>\n",
       "      <td>0</td>\n",
       "    </tr>\n",
       "    <tr>\n",
       "      <th>2</th>\n",
       "      <td>1</td>\n",
       "      <td>0</td>\n",
       "      <td>0</td>\n",
       "      <td>1</td>\n",
       "      <td>9.02</td>\n",
       "      <td>13.635</td>\n",
       "      <td>80</td>\n",
       "      <td>0.0</td>\n",
       "      <td>32</td>\n",
       "      <td>1</td>\n",
       "      <td>...</td>\n",
       "      <td>0</td>\n",
       "      <td>0</td>\n",
       "      <td>0</td>\n",
       "      <td>0</td>\n",
       "      <td>0</td>\n",
       "      <td>0</td>\n",
       "      <td>0</td>\n",
       "      <td>0</td>\n",
       "      <td>0</td>\n",
       "      <td>0</td>\n",
       "    </tr>\n",
       "  </tbody>\n",
       "</table>\n",
       "<p>3 rows × 66 columns</p>\n",
       "</div>"
      ],
      "text/plain": [
       "   season  holiday  workingday  weather  temp   atemp  humidity  windspeed  \\\n",
       "0       1        0           0        1  9.84  14.395        81        0.0   \n",
       "1       1        0           0        1  9.02  13.635        80        0.0   \n",
       "2       1        0           0        1  9.02  13.635        80        0.0   \n",
       "\n",
       "   count  year_2011  ...  hour_21  hour_22  hour_23  hour_3  hour_4  hour_5  \\\n",
       "0     16          1  ...        0        0        0       0       0       0   \n",
       "1     40          1  ...        0        0        0       0       0       0   \n",
       "2     32          1  ...        0        0        0       0       0       0   \n",
       "\n",
       "   hour_6  hour_7  hour_8  hour_9  \n",
       "0       0       0       0       0  \n",
       "1       0       0       0       0  \n",
       "2       0       0       0       0  \n",
       "\n",
       "[3 rows x 66 columns]"
      ]
     },
     "execution_count": 124,
     "metadata": {},
     "output_type": "execute_result"
    }
   ],
   "source": [
    "df.head(3)"
   ]
  },
  {
   "cell_type": "code",
   "execution_count": 125,
   "id": "e353134f",
   "metadata": {},
   "outputs": [],
   "source": [
    "from sklearn.metrics import mean_squared_error, mean_absolute_error\n",
    "\n",
    "def rmse(y, pred):\n",
    "    squarred_error = (y - pred)**2\n",
    "    rmse = np.sqrt(np.mean(squarred_error))\n",
    "    return rmse"
   ]
  },
  {
   "cell_type": "code",
   "execution_count": null,
   "id": "24374375",
   "metadata": {},
   "outputs": [],
   "source": []
  },
  {
   "cell_type": "code",
   "execution_count": 126,
   "id": "3c9b40cb",
   "metadata": {},
   "outputs": [],
   "source": [
    "from sklearn.model_selection import train_test_split, GridSearchCV"
   ]
  },
  {
   "cell_type": "code",
   "execution_count": 127,
   "id": "aa18554a",
   "metadata": {},
   "outputs": [],
   "source": [
    "y = df['count']\n",
    "x = df.drop('count', axis = 1)"
   ]
  },
  {
   "cell_type": "code",
   "execution_count": 128,
   "id": "859307f0",
   "metadata": {},
   "outputs": [],
   "source": [
    "x_train, x_test, y_train, y_test = train_test_split(x,y, test_size=0.3, random_state=111)"
   ]
  },
  {
   "cell_type": "code",
   "execution_count": null,
   "id": "307c7ddd",
   "metadata": {},
   "outputs": [],
   "source": []
  },
  {
   "cell_type": "code",
   "execution_count": 129,
   "id": "4ea45860",
   "metadata": {},
   "outputs": [],
   "source": [
    "from sklearn.linear_model import LinearRegression, Ridge, Lasso"
   ]
  },
  {
   "cell_type": "code",
   "execution_count": 139,
   "id": "74e7616a",
   "metadata": {},
   "outputs": [
    {
     "name": "stdout",
     "output_type": "stream",
     "text": [
      "rmse_lr : 100.1440373015736 rmse_rid : 100.17384759033544 rmse_las : 100.14420807773723\n"
     ]
    }
   ],
   "source": [
    "lr = LinearRegression()\n",
    "rid = Ridge(alpha=2)\n",
    "las = Lasso(alpha=0.001)\n",
    "\n",
    "lr.fit(x_train, y_train)\n",
    "rid.fit(x_train, y_train)\n",
    "las.fit(x_train, y_train)\n",
    "\n",
    "preds_lr = lr.predict(x_test)\n",
    "preds_rid = rid.predict(x_test)\n",
    "preds_las = las.predict(x_test)\n",
    "\n",
    "print('rmse_lr :', rmse(y_test, preds_lr), 'rmse_rid :', rmse(y_test, preds_rid),\n",
    "      'rmse_las :', rmse(y_test, preds_las))"
   ]
  },
  {
   "cell_type": "code",
   "execution_count": null,
   "id": "4d842ca2",
   "metadata": {},
   "outputs": [],
   "source": []
  },
  {
   "cell_type": "code",
   "execution_count": 140,
   "id": "87a11d16",
   "metadata": {},
   "outputs": [],
   "source": [
    "# scaling\n",
    "\n",
    "from sklearn.preprocessing import MinMaxScaler\n",
    "\n",
    "scaler = MinMaxScaler()\n",
    "scaler.fit(x_train)\n",
    "\n",
    "x_train_scaled = scaler.transform(x_train)\n",
    "x_test_scaled = scaler.transform(x_test)"
   ]
  },
  {
   "cell_type": "code",
   "execution_count": 141,
   "id": "78611da8",
   "metadata": {},
   "outputs": [
    {
     "data": {
      "text/plain": [
       "array([[0.33333333, 1.        , 0.        , ..., 0.        , 0.        ,\n",
       "        0.        ],\n",
       "       [0.33333333, 0.        , 1.        , ..., 0.        , 0.        ,\n",
       "        0.        ],\n",
       "       [0.        , 0.        , 0.        , ..., 0.        , 0.        ,\n",
       "        0.        ],\n",
       "       ...,\n",
       "       [1.        , 0.        , 1.        , ..., 1.        , 0.        ,\n",
       "        0.        ],\n",
       "       [1.        , 0.        , 0.        , ..., 0.        , 0.        ,\n",
       "        0.        ],\n",
       "       [1.        , 0.        , 0.        , ..., 0.        , 0.        ,\n",
       "        0.        ]])"
      ]
     },
     "execution_count": 141,
     "metadata": {},
     "output_type": "execute_result"
    }
   ],
   "source": [
    "x_train_scaled"
   ]
  },
  {
   "cell_type": "code",
   "execution_count": 144,
   "id": "0d526590",
   "metadata": {},
   "outputs": [
    {
     "name": "stdout",
     "output_type": "stream",
     "text": [
      "rmse_lr : 100.14544400559083 rmse_rid : 100.15120878142162 rmse_las : 100.14408866568408\n"
     ]
    }
   ],
   "source": [
    "lr = LinearRegression()\n",
    "rid = Ridge()\n",
    "las = Lasso(alpha=0.0001)\n",
    "\n",
    "lr.fit(x_train_scaled, y_train)\n",
    "rid.fit(x_train_scaled, y_train)\n",
    "las.fit(x_train_scaled, y_train)\n",
    "\n",
    "preds_lr = lr.predict(x_test_scaled)\n",
    "preds_rid = rid.predict(x_test_scaled)\n",
    "preds_las = las.predict(x_test_scaled)\n",
    "\n",
    "# scaling이 큰 효과를 보지 못했다\n",
    "print('rmse_lr :', rmse(y_test, preds_lr), 'rmse_rid :', rmse(y_test, preds_rid),\n",
    "      'rmse_las :', rmse(y_test, preds_las))"
   ]
  },
  {
   "cell_type": "code",
   "execution_count": 143,
   "id": "ecc29609",
   "metadata": {},
   "outputs": [
    {
     "data": {
      "text/plain": [
       "0.6994119180793785"
      ]
     },
     "execution_count": 143,
     "metadata": {},
     "output_type": "execute_result"
    }
   ],
   "source": [
    "lr.score(x_test_scaled, y_test)"
   ]
  },
  {
   "cell_type": "code",
   "execution_count": null,
   "id": "cbc5fb2e",
   "metadata": {},
   "outputs": [],
   "source": []
  },
  {
   "cell_type": "code",
   "execution_count": 98,
   "id": "8b6688bd",
   "metadata": {},
   "outputs": [
    {
     "data": {
      "text/html": [
       "<div>\n",
       "<style scoped>\n",
       "    .dataframe tbody tr th:only-of-type {\n",
       "        vertical-align: middle;\n",
       "    }\n",
       "\n",
       "    .dataframe tbody tr th {\n",
       "        vertical-align: top;\n",
       "    }\n",
       "\n",
       "    .dataframe thead th {\n",
       "        text-align: right;\n",
       "    }\n",
       "</style>\n",
       "<table border=\"1\" class=\"dataframe\">\n",
       "  <thead>\n",
       "    <tr style=\"text-align: right;\">\n",
       "      <th></th>\n",
       "      <th>0</th>\n",
       "    </tr>\n",
       "  </thead>\n",
       "  <tbody>\n",
       "    <tr>\n",
       "      <th>month_3</th>\n",
       "      <td>1.906090e+14</td>\n",
       "    </tr>\n",
       "    <tr>\n",
       "      <th>month_2</th>\n",
       "      <td>1.906090e+14</td>\n",
       "    </tr>\n",
       "    <tr>\n",
       "      <th>month_1</th>\n",
       "      <td>1.906090e+14</td>\n",
       "    </tr>\n",
       "    <tr>\n",
       "      <th>month_5</th>\n",
       "      <td>1.454439e+14</td>\n",
       "    </tr>\n",
       "    <tr>\n",
       "      <th>month_6</th>\n",
       "      <td>1.454439e+14</td>\n",
       "    </tr>\n",
       "    <tr>\n",
       "      <th>...</th>\n",
       "      <td>...</td>\n",
       "    </tr>\n",
       "    <tr>\n",
       "      <th>hour_2</th>\n",
       "      <td>-8.958348e+13</td>\n",
       "    </tr>\n",
       "    <tr>\n",
       "      <th>hour_3</th>\n",
       "      <td>-8.958348e+13</td>\n",
       "    </tr>\n",
       "    <tr>\n",
       "      <th>hour_4</th>\n",
       "      <td>-8.958348e+13</td>\n",
       "    </tr>\n",
       "    <tr>\n",
       "      <th>year_2012</th>\n",
       "      <td>-5.165325e+14</td>\n",
       "    </tr>\n",
       "    <tr>\n",
       "      <th>year_2011</th>\n",
       "      <td>-5.165325e+14</td>\n",
       "    </tr>\n",
       "  </tbody>\n",
       "</table>\n",
       "<p>65 rows × 1 columns</p>\n",
       "</div>"
      ],
      "text/plain": [
       "                      0\n",
       "month_3    1.906090e+14\n",
       "month_2    1.906090e+14\n",
       "month_1    1.906090e+14\n",
       "month_5    1.454439e+14\n",
       "month_6    1.454439e+14\n",
       "...                 ...\n",
       "hour_2    -8.958348e+13\n",
       "hour_3    -8.958348e+13\n",
       "hour_4    -8.958348e+13\n",
       "year_2012 -5.165325e+14\n",
       "year_2011 -5.165325e+14\n",
       "\n",
       "[65 rows x 1 columns]"
      ]
     },
     "execution_count": 98,
     "metadata": {},
     "output_type": "execute_result"
    }
   ],
   "source": [
    "# 계수 값 : lr.coef_, 계수값이 클 수록 큰 영향을 미친다\n",
    "coef_df = pd.DataFrame(lr.coef_, index = x.columns)\n",
    "coef_df.sort_values(0, ascending=False)"
   ]
  },
  {
   "cell_type": "code",
   "execution_count": 97,
   "id": "51758003",
   "metadata": {},
   "outputs": [
    {
     "data": {
      "text/plain": [
       "<AxesSubplot:>"
      ]
     },
     "execution_count": 97,
     "metadata": {},
     "output_type": "execute_result"
    },
    {
     "data": {
      "image/png": "[encoded data removed]",
      "text/plain": [
       "<Figure size 360x1080 with 1 Axes>"
      ]
     },
     "metadata": {
      "needs_background": "light"
     },
     "output_type": "display_data"
    }
   ],
   "source": [
    "coef_df.sort_values(0).plot(kind='barh', figsize=(5,15))"
   ]
  },
  {
   "cell_type": "code",
   "execution_count": 104,
   "id": "9ff58690",
   "metadata": {},
   "outputs": [
    {
     "data": {
      "text/plain": [
       "<AxesSubplot:xlabel='0'>"
      ]
     },
     "execution_count": 104,
     "metadata": {},
     "output_type": "execute_result"
    },
    {
     "data": {
      "image/png": "[encoded data removed]",
      "text/plain": [
       "<Figure size 360x1080 with 1 Axes>"
      ]
     },
     "metadata": {},
     "output_type": "display_data"
    }
   ],
   "source": [
    "# seaborn 플롯 크기조절\n",
    "sns.set(rc = {'figure.figsize':(5,15)})\n",
    "sns.barplot(x=coef_df[0].sort_values(ascending=False), y=coef_df.index)"
   ]
  },
  {
   "cell_type": "code",
   "execution_count": null,
   "id": "743f92bd",
   "metadata": {},
   "outputs": [],
   "source": []
  },
  {
   "cell_type": "code",
   "execution_count": null,
   "id": "7c14016f",
   "metadata": {},
   "outputs": [],
   "source": []
  },
  {
   "cell_type": "code",
   "execution_count": 105,
   "id": "6f5f60db",
   "metadata": {},
   "outputs": [],
   "source": [
    "from sklearn.ensemble import RandomForestRegressor, GradientBoostingRegressor\n",
    "from xgboost import XGBRegressor\n",
    "from lightgbm import LGBMRegressor"
   ]
  },
  {
   "cell_type": "code",
   "execution_count": 111,
   "id": "eb449c35",
   "metadata": {},
   "outputs": [
    {
     "name": "stdout",
     "output_type": "stream",
     "text": [
      "RandomForestRegressor 49.806138553390284\n",
      "GradientBoostingRegressor 81.20045834118939\n",
      "XGBRegressor 45.86804309854254\n",
      "LGBMRegressor 45.39967886971719\n"
     ]
    }
   ],
   "source": [
    "rfc_reg = RandomForestRegressor()\n",
    "gbm_reg = GradientBoostingRegressor()\n",
    "xgb_reg = XGBRegressor()\n",
    "lgbm_reg = LGBMRegressor()\n",
    "\n",
    "for model in [rfc_reg, gbm_reg, xgb_reg, lgbm_reg]:\n",
    "    model.fit(x_train_scaled, y_train)\n",
    "    preds = model.predict(x_test_scaled)\n",
    "    rmse = np.sqrt(mean_squared_error(y_test, preds))\n",
    "    print(model.__class__.__name__, rmse)\n",
    "    \n",
    "# XGB이나 LGNB이 가장 적합하다."
   ]
  },
  {
   "cell_type": "code",
   "execution_count": null,
   "id": "2b4b9185",
   "metadata": {},
   "outputs": [],
   "source": []
  },
  {
   "cell_type": "code",
   "execution_count": 145,
   "id": "b802ef95",
   "metadata": {},
   "outputs": [],
   "source": [
    "# y 분포"
   ]
  },
  {
   "cell_type": "code",
   "execution_count": 151,
   "id": "397e2e76",
   "metadata": {},
   "outputs": [
    {
     "data": {
      "text/plain": [
       "<AxesSubplot:>"
      ]
     },
     "execution_count": 151,
     "metadata": {},
     "output_type": "execute_result"
    },
    {
     "data": {
      "image/png": "[encoded data removed]",
      "text/plain": [
       "<Figure size 720x360 with 1 Axes>"
      ]
     },
     "metadata": {},
     "output_type": "display_data"
    }
   ],
   "source": [
    "y.hist(bins=50, figsize=(10,5))   # long tail : label값이 쏠려있다."
   ]
  },
  {
   "cell_type": "code",
   "execution_count": 152,
   "id": "ecd8c992",
   "metadata": {},
   "outputs": [],
   "source": [
    "y_log = np.log1p(y)\n",
    "# log1p(n) = log(n+1) : 값이 0일때 error를 해결하기 위해\n",
    "y_train_log = np.log1p(y_train)\n",
    "y_test_log = np.log1p(y_test)"
   ]
  },
  {
   "cell_type": "code",
   "execution_count": 154,
   "id": "55368362",
   "metadata": {},
   "outputs": [
    {
     "data": {
      "text/plain": [
       "<AxesSubplot:>"
      ]
     },
     "execution_count": 154,
     "metadata": {},
     "output_type": "execute_result"
    },
    {
     "data": {
      "image/png": "[encoded data removed]",
      "text/plain": [
       "<Figure size 720x360 with 1 Axes>"
      ]
     },
     "metadata": {},
     "output_type": "display_data"
    }
   ],
   "source": [
    "y_log.hist(bins=50, figsize=(10,5))"
   ]
  },
  {
   "cell_type": "code",
   "execution_count": 157,
   "id": "fff0de97",
   "metadata": {},
   "outputs": [
    {
     "name": "stdout",
     "output_type": "stream",
     "text": [
      "rmse_lr : 95.59103377677489\n",
      "rmse_rid : 95.71035086085789\n",
      "rmse_las : 95.61643945818335\n"
     ]
    }
   ],
   "source": [
    "lr = LinearRegression()\n",
    "rid = Ridge()\n",
    "las = Lasso(alpha=0.0001)\n",
    "\n",
    "lr.fit(x_train_scaled, y_train_log)\n",
    "rid.fit(x_train_scaled, y_train_log)\n",
    "las.fit(x_train_scaled, y_train_log)\n",
    "\n",
    "preds_lr = lr.predict(x_test_scaled)\n",
    "preds_rid = rid.predict(x_test_scaled)\n",
    "preds_las = las.predict(x_test_scaled)\n",
    "\n",
    "# exponential을 통해 log원복\n",
    "preds_lr_exp = np.expm1(preds_lr)\n",
    "preds_rid_exp = np.expm1(preds_rid)\n",
    "preds_las_exp = np.expm1(preds_las)\n",
    "\n",
    "# log를 취해 쏠린 label값을 조정해 준 것이 오차가 더 작다.\n",
    "print('rmse_lr :', rmse(y_test, preds_lr_exp))\n",
    "print('rmse_rid :', rmse(y_test, preds_rid_exp))\n",
    "print('rmse_las :', rmse(y_test, preds_las_exp))"
   ]
  },
  {
   "cell_type": "code",
   "execution_count": 158,
   "id": "9a404188",
   "metadata": {},
   "outputs": [
    {
     "name": "stdout",
     "output_type": "stream",
     "text": [
      "RandomForestRegressor 50.418039021168624\n",
      "GradientBoostingRegressor 96.12010922850527\n",
      "XGBRegressor 49.94748354984312\n",
      "LGBMRegressor 51.6222048806636\n"
     ]
    }
   ],
   "source": [
    "# log를 취한 버전\n",
    "rfc_reg = RandomForestRegressor()\n",
    "gbm_reg = GradientBoostingRegressor()\n",
    "xgb_reg = XGBRegressor()\n",
    "lgbm_reg = LGBMRegressor()\n",
    "\n",
    "for model in [rfc_reg, gbm_reg, xgb_reg, lgbm_reg]:\n",
    "    model.fit(x_train_scaled, y_train_log)\n",
    "    preds = model.predict(x_test_scaled)\n",
    "    preds = np.expm1(preds)\n",
    "    rmse = np.sqrt(mean_squared_error(y_test, preds))\n",
    "    print(model.__class__.__name__, rmse)\n",
    "    \n",
    "# 오히려 log를 취한 것이 오차가 크다."
   ]
  },
  {
   "cell_type": "code",
   "execution_count": null,
   "id": "481bb65e",
   "metadata": {},
   "outputs": [],
   "source": [
    "# log를 취하지 않고 XGB나 LGBM을 사용했을 때 가장 적합한 데이터"
   ]
  }
 ],
 "metadata": {
  "kernelspec": {
   "display_name": "Python 3 (ipykernel)",
   "language": "python",
   "name": "python3"
  },
  "language_info": {
   "codemirror_mode": {
    "name": "ipython",
    "version": 3
   },
   "file_extension": ".py",
   "mimetype": "text/x-python",
   "name": "python",
   "nbconvert_exporter": "python",
   "pygments_lexer": "ipython3",
   "version": "3.9.7"
  }
 },
 "nbformat": 4,
 "nbformat_minor": 5
}
