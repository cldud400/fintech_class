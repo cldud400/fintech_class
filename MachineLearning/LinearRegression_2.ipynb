{
 "cells": [
  {
   "cell_type": "markdown",
   "id": "e8003762",
   "metadata": {},
   "source": [
    "# Machine Learning\n",
    "---\n",
    "## Supervised Learning(지도학습) \n",
    "- 예측하는 모델, 예측대상(y, target, Label)\n",
    "\n",
    "\n",
    "    1. Linear Algorithm(회귀분석) - 예측대상이 연속값(continuous)\n",
    "    2. Classification Model(분류분석) - 예측대상이 불연속값(discrete) - binary, multi\n",
    "\n",
    "## Unsupervised Learning(비지도학습) - 예측하지 않음\n",
    "1. clustering(군집분석) = 유사한 특성을 갖는 데이터끼리 묶는다"
   ]
  },
  {
   "cell_type": "code",
   "execution_count": null,
   "id": "64900813",
   "metadata": {},
   "outputs": [],
   "source": []
  },
  {
   "cell_type": "code",
   "execution_count": 1,
   "id": "1e59f730",
   "metadata": {},
   "outputs": [],
   "source": [
    "import pandas as pd\n",
    "import numpy as np\n",
    "import matplotlib.pyplot as plt\n",
    "import seaborn as sns\n",
    "\n",
    "from sklearn.linear_model import LinearRegression\n",
    "from sklearn.model_selection import train_test_split\n",
    "from sklearn.metrics import r2_score"
   ]
  },
  {
   "cell_type": "code",
   "execution_count": 2,
   "id": "f8480459",
   "metadata": {},
   "outputs": [],
   "source": [
    "# matplotlib 한글화\n",
    "\n",
    "import matplotlib as mpl\n",
    "import matplotlib.font_manager as fm\n",
    "\n",
    "mpl.rcParams['axes.unicode_minus'] = False\n",
    "\n",
    "path = 'C:/Windows/Fonts/malgun.ttf'\n",
    "font_name = fm.FontProperties(fname=path, size=50).get_name()\n",
    "plt.rc('font', family=font_name)"
   ]
  },
  {
   "cell_type": "code",
   "execution_count": 43,
   "id": "f362339c",
   "metadata": {
    "collapsed": true
   },
   "outputs": [
    {
     "data": {
      "text/html": [
       "<div>\n",
       "<style scoped>\n",
       "    .dataframe tbody tr th:only-of-type {\n",
       "        vertical-align: middle;\n",
       "    }\n",
       "\n",
       "    .dataframe tbody tr th {\n",
       "        vertical-align: top;\n",
       "    }\n",
       "\n",
       "    .dataframe thead th {\n",
       "        text-align: right;\n",
       "    }\n",
       "</style>\n",
       "<table border=\"1\" class=\"dataframe\">\n",
       "  <thead>\n",
       "    <tr style=\"text-align: right;\">\n",
       "      <th></th>\n",
       "      <th>Email</th>\n",
       "      <th>Address</th>\n",
       "      <th>Avatar</th>\n",
       "      <th>Avg. Session Length</th>\n",
       "      <th>Time on App</th>\n",
       "      <th>Time on Website</th>\n",
       "      <th>Length of Membership</th>\n",
       "      <th>Yearly Amount Spent</th>\n",
       "    </tr>\n",
       "  </thead>\n",
       "  <tbody>\n",
       "    <tr>\n",
       "      <th>0</th>\n",
       "      <td>mstephenson@fernandez.com</td>\n",
       "      <td>835 Frank Tunnel\\nWrightmouth, MI 82180-9605</td>\n",
       "      <td>Violet</td>\n",
       "      <td>34.497268</td>\n",
       "      <td>12.655651</td>\n",
       "      <td>39.577668</td>\n",
       "      <td>4.082621</td>\n",
       "      <td>587.951054</td>\n",
       "    </tr>\n",
       "    <tr>\n",
       "      <th>1</th>\n",
       "      <td>hduke@hotmail.com</td>\n",
       "      <td>4547 Archer Common\\nDiazchester, CA 06566-8576</td>\n",
       "      <td>DarkGreen</td>\n",
       "      <td>31.926272</td>\n",
       "      <td>11.109461</td>\n",
       "      <td>37.268959</td>\n",
       "      <td>2.664034</td>\n",
       "      <td>392.204933</td>\n",
       "    </tr>\n",
       "    <tr>\n",
       "      <th>2</th>\n",
       "      <td>pallen@yahoo.com</td>\n",
       "      <td>24645 Valerie Unions Suite 582\\nCobbborough, D...</td>\n",
       "      <td>Bisque</td>\n",
       "      <td>33.000915</td>\n",
       "      <td>11.330278</td>\n",
       "      <td>37.110597</td>\n",
       "      <td>4.104543</td>\n",
       "      <td>487.547505</td>\n",
       "    </tr>\n",
       "  </tbody>\n",
       "</table>\n",
       "</div>"
      ],
      "text/plain": [
       "                       Email  \\\n",
       "0  mstephenson@fernandez.com   \n",
       "1          hduke@hotmail.com   \n",
       "2           pallen@yahoo.com   \n",
       "\n",
       "                                             Address     Avatar  \\\n",
       "0       835 Frank Tunnel\\nWrightmouth, MI 82180-9605     Violet   \n",
       "1     4547 Archer Common\\nDiazchester, CA 06566-8576  DarkGreen   \n",
       "2  24645 Valerie Unions Suite 582\\nCobbborough, D...     Bisque   \n",
       "\n",
       "   Avg. Session Length  Time on App  Time on Website  Length of Membership  \\\n",
       "0            34.497268    12.655651        39.577668              4.082621   \n",
       "1            31.926272    11.109461        37.268959              2.664034   \n",
       "2            33.000915    11.330278        37.110597              4.104543   \n",
       "\n",
       "   Yearly Amount Spent  \n",
       "0           587.951054  \n",
       "1           392.204933  \n",
       "2           487.547505  "
      ]
     },
     "execution_count": 43,
     "metadata": {},
     "output_type": "execute_result"
    }
   ],
   "source": [
    "df = pd.read_csv('./ml_source_files/Ecommerce Customers.txt')\n",
    "df.head(3)"
   ]
  },
  {
   "cell_type": "code",
   "execution_count": 25,
   "id": "372e000b",
   "metadata": {
    "collapsed": true
   },
   "outputs": [
    {
     "name": "stdout",
     "output_type": "stream",
     "text": [
      "<class 'pandas.core.frame.DataFrame'>\n",
      "RangeIndex: 500 entries, 0 to 499\n",
      "Data columns (total 8 columns):\n",
      " #   Column                Non-Null Count  Dtype  \n",
      "---  ------                --------------  -----  \n",
      " 0   Email                 500 non-null    object \n",
      " 1   Address               500 non-null    object \n",
      " 2   Avatar                500 non-null    object \n",
      " 3   Avg. Session Length   500 non-null    float64\n",
      " 4   Time on App           500 non-null    float64\n",
      " 5   Time on Website       500 non-null    float64\n",
      " 6   Length of Membership  500 non-null    float64\n",
      " 7   Yearly Amount Spent   500 non-null    float64\n",
      "dtypes: float64(5), object(3)\n",
      "memory usage: 31.4+ KB\n"
     ]
    }
   ],
   "source": [
    "df.info()"
   ]
  },
  {
   "cell_type": "code",
   "execution_count": null,
   "id": "a4829062",
   "metadata": {},
   "outputs": [],
   "source": [
    "# LinearRegression : 데이터에 NaN값이 없어야 하고, numeric해야 한다."
   ]
  },
  {
   "cell_type": "code",
   "execution_count": 6,
   "id": "aeb2ca78",
   "metadata": {},
   "outputs": [],
   "source": [
    "# 연간 지출금액을 예측하는 회귀모델"
   ]
  },
  {
   "cell_type": "code",
   "execution_count": null,
   "id": "a389a4df",
   "metadata": {},
   "outputs": [],
   "source": [
    "# y : 예측대상(target)"
   ]
  },
  {
   "cell_type": "code",
   "execution_count": 44,
   "id": "8092ef03",
   "metadata": {},
   "outputs": [],
   "source": [
    "y = df['Yearly Amount Spent']"
   ]
  },
  {
   "cell_type": "code",
   "execution_count": null,
   "id": "69edc1f4",
   "metadata": {},
   "outputs": [],
   "source": [
    "# Avatar을 포함시키면 에러가 난다."
   ]
  },
  {
   "cell_type": "code",
   "execution_count": 45,
   "id": "42222984",
   "metadata": {},
   "outputs": [],
   "source": [
    "x = df.drop(['Email', 'Address', 'Yearly Amount Spent', 'Avatar'], axis=1)"
   ]
  },
  {
   "cell_type": "code",
   "execution_count": null,
   "id": "00f988d9",
   "metadata": {},
   "outputs": [],
   "source": [
    "# train, test로 분리\n",
    "# train - 학습용 데이터\n",
    "# test - 모델을 평가 시 사용할 데이터 (모델을 테스트할 때는 모델을 훈련할 때 이용한 데이터가 포함되면 안됨)"
   ]
  },
  {
   "cell_type": "code",
   "execution_count": null,
   "id": "95097a47",
   "metadata": {},
   "outputs": [],
   "source": [
    "# # 400개를 train, 100개를 test\n",
    "# # 할 필요가 없다 (sklearn에서 자동으로 해줌)\n",
    "# # test_size=0.2와 같다\n",
    "# x_train = x[:400]\n",
    "# x_test = x[100:]\n",
    "\n",
    "# y_train = y[:400]\n",
    "# y_text = y[100:]"
   ]
  },
  {
   "cell_type": "code",
   "execution_count": 55,
   "id": "d5363592",
   "metadata": {},
   "outputs": [],
   "source": [
    "# test_size = 0.2 : 20%를 test로 사용하고 나머지를 train으로 사용해라\n",
    "x_train, x_test, y_train, y_test = train_test_split(x,y,test_size=0.2)   # shuffle"
   ]
  },
  {
   "cell_type": "code",
   "execution_count": null,
   "id": "601d0812",
   "metadata": {},
   "outputs": [],
   "source": []
  },
  {
   "cell_type": "code",
   "execution_count": 33,
   "id": "172e58da",
   "metadata": {},
   "outputs": [],
   "source": [
    "# LinearRegression Algorithm을 import"
   ]
  },
  {
   "cell_type": "code",
   "execution_count": 56,
   "id": "960520b1",
   "metadata": {},
   "outputs": [],
   "source": [
    "lr = LinearRegression()"
   ]
  },
  {
   "cell_type": "code",
   "execution_count": null,
   "id": "572a8d8b",
   "metadata": {},
   "outputs": [],
   "source": []
  },
  {
   "cell_type": "code",
   "execution_count": null,
   "id": "4c4554ed",
   "metadata": {},
   "outputs": [],
   "source": [
    "# Algorithm (= machine model) train => fit()"
   ]
  },
  {
   "cell_type": "code",
   "execution_count": 57,
   "id": "fa2ec8cf",
   "metadata": {},
   "outputs": [
    {
     "data": {
      "text/plain": [
       "LinearRegression()"
      ]
     },
     "execution_count": 57,
     "metadata": {},
     "output_type": "execute_result"
    }
   ],
   "source": [
    "lr.fit(x_train, y_train)"
   ]
  },
  {
   "cell_type": "code",
   "execution_count": 58,
   "id": "bbc3ee89",
   "metadata": {},
   "outputs": [],
   "source": [
    "preds = lr.predict(x_test)"
   ]
  },
  {
   "cell_type": "code",
   "execution_count": 59,
   "id": "a3569f7d",
   "metadata": {
    "collapsed": true
   },
   "outputs": [
    {
     "data": {
      "text/plain": [
       "array([573.71716371, 437.64674251, 492.65091662, 471.3910488 ,\n",
       "       313.13276382, 511.83877903, 547.91277758, 456.79642566,\n",
       "       283.31345076, 558.54745203, 519.34236666, 421.02850213,\n",
       "       549.15162919, 479.00742811, 441.91518797, 417.69263425,\n",
       "       574.0679401 , 546.94543783, 340.32593417, 507.20892151,\n",
       "       488.60750813, 616.3658891 , 501.88128451, 542.98621547,\n",
       "       337.29617661, 582.40516085, 529.78922752, 460.64751821,\n",
       "       676.52297576, 457.00718263, 519.16065119, 589.08128784,\n",
       "       538.04212379, 522.66832359, 514.93534546, 430.40102093,\n",
       "       514.11755477, 553.92884045, 462.52829596, 471.80792601,\n",
       "       489.43958949, 494.82530152, 601.31143576, 553.36257342,\n",
       "       648.39265294, 529.62772473, 389.81066733, 398.25856917,\n",
       "       552.58626625, 543.01854899, 547.98376287, 483.10787312,\n",
       "       587.97487757, 569.75085004, 411.71527808, 480.91850751,\n",
       "       527.09195423, 404.0736099 , 314.68774748, 482.45512016,\n",
       "       395.35121754, 540.28783322, 582.29488392, 568.98591505,\n",
       "       389.97345035, 372.14358013, 525.62100835, 571.47289486,\n",
       "       545.88453732, 555.82656716, 523.65844903, 481.13217603,\n",
       "       395.0325002 , 534.88835262, 409.8024386 , 463.89061784,\n",
       "       342.18822841, 575.33404695, 498.04484964, 428.48301667,\n",
       "       622.42284354, 283.88619744, 506.36043077, 280.47848705,\n",
       "       561.10440677, 472.67071178, 548.23224609, 523.21797125,\n",
       "       507.74943366, 532.54047068, 465.1866908 , 503.60677679,\n",
       "       615.46266949, 424.00243783, 567.25639788, 535.71257435,\n",
       "       500.7905037 , 542.83105839, 456.38457456, 598.49305124])"
      ]
     },
     "execution_count": 59,
     "metadata": {},
     "output_type": "execute_result"
    }
   ],
   "source": [
    "preds"
   ]
  },
  {
   "cell_type": "code",
   "execution_count": null,
   "id": "7f43504e",
   "metadata": {},
   "outputs": [],
   "source": []
  },
  {
   "cell_type": "code",
   "execution_count": null,
   "id": "1af340e0",
   "metadata": {},
   "outputs": [],
   "source": [
    "# model evaluation\n",
    "# 회기모델에서 평가하는 지표 : r2_score"
   ]
  },
  {
   "cell_type": "code",
   "execution_count": 60,
   "id": "df4f7aaa",
   "metadata": {},
   "outputs": [
    {
     "data": {
      "text/plain": [
       "0.9849039522179619"
      ]
     },
     "execution_count": 60,
     "metadata": {},
     "output_type": "execute_result"
    }
   ],
   "source": [
    "r2_score(preds, y_test)     # 회귀모델의 설명력 : ssr/sst (값이 높을 수록 오차가 적고 예측성공률이 높다)"
   ]
  },
  {
   "cell_type": "code",
   "execution_count": null,
   "id": "7e94e0f0",
   "metadata": {},
   "outputs": [],
   "source": []
  },
  {
   "cell_type": "code",
   "execution_count": 61,
   "id": "cf786f20",
   "metadata": {},
   "outputs": [
    {
     "name": "stdout",
     "output_type": "stream",
     "text": [
      "MSE : 100.55914803755967\n",
      "RMSE : 10.027918429941463\n",
      "MAE : 8.200445303341425\n"
     ]
    }
   ],
   "source": [
    "from sklearn.metrics import mean_squared_error, mean_absolute_error\n",
    "print('MSE :', mean_squared_error(y_test, preds))\n",
    "print('RMSE :', np.sqrt(mean_squared_error(y_test, preds)))\n",
    "print('MAE :', mean_absolute_error(y_test, preds))"
   ]
  },
  {
   "cell_type": "code",
   "execution_count": null,
   "id": "76eda385",
   "metadata": {},
   "outputs": [],
   "source": []
  }
 ],
 "metadata": {
  "kernelspec": {
   "display_name": "Python 3 (ipykernel)",
   "language": "python",
   "name": "python3"
  },
  "language_info": {
   "codemirror_mode": {
    "name": "ipython",
    "version": 3
   },
   "file_extension": ".py",
   "mimetype": "text/x-python",
   "name": "python",
   "nbconvert_exporter": "python",
   "pygments_lexer": "ipython3",
   "version": "3.9.7"
  }
 },
 "nbformat": 4,
 "nbformat_minor": 5
}
