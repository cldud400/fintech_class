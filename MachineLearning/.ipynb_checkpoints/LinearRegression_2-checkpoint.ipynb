{
 "cells": [
  {
   "cell_type": "markdown",
   "id": "a5be2a0c",
   "metadata": {},
   "source": [
    "# Machine Learning\n",
    "---\n",
    "## Supervised Learning(지도학습) \n",
    "- 예측하는 모델, 예측대상(y, target, Label)\n",
    "\n",
    "\n",
    "    1. Linear Algorithm(회귀분석) - 예측대상이 연속값(continuous)\n",
    "    2. Classification Model(분류분석) - 예측대상이 불연속값(discrete)\n",
    "\n",
    "## Unsupervised Learning(비지도학습) - 예측하지 않음\n",
    "1. clustering(군집분석) = 유사한 특성을 갖는 데이터끼리 묶는다"
   ]
  },
  {
   "cell_type": "code",
   "execution_count": null,
   "id": "52d34a89",
   "metadata": {},
   "outputs": [],
   "source": []
  },
  {
   "cell_type": "code",
   "execution_count": 1,
   "id": "bdecf91b",
   "metadata": {},
   "outputs": [],
   "source": [
    "import pandas as pd\n",
    "import numpy as np\n",
    "import matplotlib.pyplot as plt\n",
    "import seaborn as sns\n",
    "\n",
    "from sklearn.linear_model import LinearRegression\n",
    "from sklearn.model_selection import train_test_split\n",
    "from sklearn.metrics import r2_score"
   ]
  },
  {
   "cell_type": "code",
   "execution_count": 2,
   "id": "4d70eb93",
   "metadata": {},
   "outputs": [],
   "source": [
    "# matplotlib 한글화\n",
    "\n",
    "import matplotlib as mpl\n",
    "import matplotlib.font_manager as fm\n",
    "\n",
    "mpl.rcParams['axes.unicode_minus'] = False\n",
    "\n",
    "path = 'C:/Windows/Fonts/malgun.ttf'\n",
    "font_name = fm.FontProperties(fname=path, size=50).get_name()\n",
    "plt.rc('font', family=font_name)"
   ]
  },
  {
   "cell_type": "code",
   "execution_count": 43,
   "id": "06d12629",
   "metadata": {
    "collapsed": true
   },
   "outputs": [
    {
     "data": {
      "text/html": [
       "<div>\n",
       "<style scoped>\n",
       "    .dataframe tbody tr th:only-of-type {\n",
       "        vertical-align: middle;\n",
       "    }\n",
       "\n",
       "    .dataframe tbody tr th {\n",
       "        vertical-align: top;\n",
       "    }\n",
       "\n",
       "    .dataframe thead th {\n",
       "        text-align: right;\n",
       "    }\n",
       "</style>\n",
       "<table border=\"1\" class=\"dataframe\">\n",
       "  <thead>\n",
       "    <tr style=\"text-align: right;\">\n",
       "      <th></th>\n",
       "      <th>Email</th>\n",
       "      <th>Address</th>\n",
       "      <th>Avatar</th>\n",
       "      <th>Avg. Session Length</th>\n",
       "      <th>Time on App</th>\n",
       "      <th>Time on Website</th>\n",
       "      <th>Length of Membership</th>\n",
       "      <th>Yearly Amount Spent</th>\n",
       "    </tr>\n",
       "  </thead>\n",
       "  <tbody>\n",
       "    <tr>\n",
       "      <th>0</th>\n",
       "      <td>mstephenson@fernandez.com</td>\n",
       "      <td>835 Frank Tunnel\\nWrightmouth, MI 82180-9605</td>\n",
       "      <td>Violet</td>\n",
       "      <td>34.497268</td>\n",
       "      <td>12.655651</td>\n",
       "      <td>39.577668</td>\n",
       "      <td>4.082621</td>\n",
       "      <td>587.951054</td>\n",
       "    </tr>\n",
       "    <tr>\n",
       "      <th>1</th>\n",
       "      <td>hduke@hotmail.com</td>\n",
       "      <td>4547 Archer Common\\nDiazchester, CA 06566-8576</td>\n",
       "      <td>DarkGreen</td>\n",
       "      <td>31.926272</td>\n",
       "      <td>11.109461</td>\n",
       "      <td>37.268959</td>\n",
       "      <td>2.664034</td>\n",
       "      <td>392.204933</td>\n",
       "    </tr>\n",
       "    <tr>\n",
       "      <th>2</th>\n",
       "      <td>pallen@yahoo.com</td>\n",
       "      <td>24645 Valerie Unions Suite 582\\nCobbborough, D...</td>\n",
       "      <td>Bisque</td>\n",
       "      <td>33.000915</td>\n",
       "      <td>11.330278</td>\n",
       "      <td>37.110597</td>\n",
       "      <td>4.104543</td>\n",
       "      <td>487.547505</td>\n",
       "    </tr>\n",
       "  </tbody>\n",
       "</table>\n",
       "</div>"
      ],
      "text/plain": [
       "                       Email  \\\n",
       "0  mstephenson@fernandez.com   \n",
       "1          hduke@hotmail.com   \n",
       "2           pallen@yahoo.com   \n",
       "\n",
       "                                             Address     Avatar  \\\n",
       "0       835 Frank Tunnel\\nWrightmouth, MI 82180-9605     Violet   \n",
       "1     4547 Archer Common\\nDiazchester, CA 06566-8576  DarkGreen   \n",
       "2  24645 Valerie Unions Suite 582\\nCobbborough, D...     Bisque   \n",
       "\n",
       "   Avg. Session Length  Time on App  Time on Website  Length of Membership  \\\n",
       "0            34.497268    12.655651        39.577668              4.082621   \n",
       "1            31.926272    11.109461        37.268959              2.664034   \n",
       "2            33.000915    11.330278        37.110597              4.104543   \n",
       "\n",
       "   Yearly Amount Spent  \n",
       "0           587.951054  \n",
       "1           392.204933  \n",
       "2           487.547505  "
      ]
     },
     "execution_count": 43,
     "metadata": {},
     "output_type": "execute_result"
    }
   ],
   "source": [
    "df = pd.read_csv('./ml_source_files/Ecommerce Customers.txt')\n",
    "df.head(3)"
   ]
  },
  {
   "cell_type": "code",
   "execution_count": 25,
   "id": "4a6e28f9",
   "metadata": {
    "collapsed": true
   },
   "outputs": [
    {
     "name": "stdout",
     "output_type": "stream",
     "text": [
      "<class 'pandas.core.frame.DataFrame'>\n",
      "RangeIndex: 500 entries, 0 to 499\n",
      "Data columns (total 8 columns):\n",
      " #   Column                Non-Null Count  Dtype  \n",
      "---  ------                --------------  -----  \n",
      " 0   Email                 500 non-null    object \n",
      " 1   Address               500 non-null    object \n",
      " 2   Avatar                500 non-null    object \n",
      " 3   Avg. Session Length   500 non-null    float64\n",
      " 4   Time on App           500 non-null    float64\n",
      " 5   Time on Website       500 non-null    float64\n",
      " 6   Length of Membership  500 non-null    float64\n",
      " 7   Yearly Amount Spent   500 non-null    float64\n",
      "dtypes: float64(5), object(3)\n",
      "memory usage: 31.4+ KB\n"
     ]
    }
   ],
   "source": [
    "df.info()"
   ]
  },
  {
   "cell_type": "code",
   "execution_count": null,
   "id": "ef7b1f4a",
   "metadata": {},
   "outputs": [],
   "source": [
    "# LinearRegression : 데이터에 NaN값이 없어야 하고, numeric해야 한다."
   ]
  },
  {
   "cell_type": "code",
   "execution_count": 6,
   "id": "517ebbda",
   "metadata": {},
   "outputs": [],
   "source": [
    "# 연간 지출금액을 예측하는 회귀모델"
   ]
  },
  {
   "cell_type": "code",
   "execution_count": null,
   "id": "4d804a5e",
   "metadata": {},
   "outputs": [],
   "source": [
    "# y : 예측대상(target)"
   ]
  },
  {
   "cell_type": "code",
   "execution_count": 44,
   "id": "01152971",
   "metadata": {},
   "outputs": [],
   "source": [
    "y = df['Yearly Amount Spent']"
   ]
  },
  {
   "cell_type": "code",
   "execution_count": null,
   "id": "faaeff65",
   "metadata": {},
   "outputs": [],
   "source": [
    "# Avatar을 포함시키면 에러가 난다."
   ]
  },
  {
   "cell_type": "code",
   "execution_count": 45,
   "id": "e562b904",
   "metadata": {},
   "outputs": [],
   "source": [
    "x = df.drop(['Email', 'Address', 'Yearly Amount Spent', 'Avatar'], axis=1)"
   ]
  },
  {
   "cell_type": "code",
   "execution_count": null,
   "id": "60570b60",
   "metadata": {},
   "outputs": [],
   "source": [
    "# train, test로 분리\n",
    "# train - 학습용 데이터\n",
    "# test - 모델을 평가 시 사용할 데이터 (모델을 테스트할 때는 모델을 훈련할 때 이용한 데이터가 포함되면 안됨)"
   ]
  },
  {
   "cell_type": "code",
   "execution_count": null,
   "id": "f0fcf93e",
   "metadata": {},
   "outputs": [],
   "source": [
    "# # 400개를 train, 100개를 test\n",
    "# # 할 필요가 없다 (sklearn에서 자동으로 해줌)\n",
    "# # test_size=0.2와 같다\n",
    "# x_train = x[:400]\n",
    "# x_test = x[100:]\n",
    "\n",
    "# y_train = y[:400]\n",
    "# y_text = y[100:]"
   ]
  },
  {
   "cell_type": "code",
   "execution_count": 46,
   "id": "c23a984b",
   "metadata": {},
   "outputs": [],
   "source": [
    "# test_size = 0.2 : 20%를 test로 사용하고 나머지를 train으로 사용해라\n",
    "x_train, x_test, y_train, y_test = train_test_split(x,y,test_size=0.2)   # shuffle"
   ]
  },
  {
   "cell_type": "code",
   "execution_count": null,
   "id": "97e61ea3",
   "metadata": {},
   "outputs": [],
   "source": []
  },
  {
   "cell_type": "code",
   "execution_count": 33,
   "id": "ea769139",
   "metadata": {},
   "outputs": [],
   "source": [
    "# LinearRegression Algorithm을 import"
   ]
  },
  {
   "cell_type": "code",
   "execution_count": 47,
   "id": "8e45e1a8",
   "metadata": {},
   "outputs": [],
   "source": [
    "lr = LinearRegression()"
   ]
  },
  {
   "cell_type": "code",
   "execution_count": null,
   "id": "7472d4c7",
   "metadata": {},
   "outputs": [],
   "source": []
  },
  {
   "cell_type": "code",
   "execution_count": null,
   "id": "32e92fc8",
   "metadata": {},
   "outputs": [],
   "source": [
    "# Algorithm (= machine model) train => fit()"
   ]
  },
  {
   "cell_type": "code",
   "execution_count": 48,
   "id": "35d13f42",
   "metadata": {},
   "outputs": [
    {
     "data": {
      "text/plain": [
       "LinearRegression()"
      ]
     },
     "execution_count": 48,
     "metadata": {},
     "output_type": "execute_result"
    }
   ],
   "source": [
    "lr.fit(x_train, y_train)"
   ]
  },
  {
   "cell_type": "code",
   "execution_count": 49,
   "id": "46ec6abe",
   "metadata": {},
   "outputs": [],
   "source": [
    "preds = lr.predict(x_test)"
   ]
  },
  {
   "cell_type": "code",
   "execution_count": 50,
   "id": "fe76f77f",
   "metadata": {
    "collapsed": true
   },
   "outputs": [
    {
     "data": {
      "text/plain": [
       "array([597.82676841, 543.47289894, 589.02090005, 549.40971707,\n",
       "       516.9350165 , 487.38224881, 461.40368497, 456.26390895,\n",
       "       384.4584725 , 529.27025   , 480.4374854 , 464.10365435,\n",
       "       541.92215232, 457.35306565, 461.0738161 , 556.71673885,\n",
       "       394.3189988 , 511.37375987, 476.6877514 , 411.87832288,\n",
       "       507.58420379, 483.10666435, 684.27282392, 507.73166376,\n",
       "       576.98087491, 528.41532313, 512.44833099, 552.86769329,\n",
       "       553.03711251, 597.45073387, 338.1704745 , 473.65678815,\n",
       "       377.53531267, 627.19624041, 460.65681329, 434.57211558,\n",
       "       593.18766011, 641.35771381, 479.71025229, 487.75866958,\n",
       "       606.20402302, 557.73385317, 571.74897309, 651.02880832,\n",
       "       423.77005216, 662.25778949, 500.52811888, 508.32143394,\n",
       "       412.84111542, 375.62428018, 424.51873034, 491.36254726,\n",
       "       572.96640452, 438.12663309, 578.3993827 , 563.09521826,\n",
       "       505.24954645, 287.88559096, 435.63582899, 435.91871415,\n",
       "       534.93786039, 590.36132309, 539.94279186, 489.4846494 ,\n",
       "       501.92262474, 670.72424602, 493.77932116, 534.53410576,\n",
       "       751.27590585, 724.59178824, 468.98997499, 482.12457202,\n",
       "       314.64568199, 468.79820632, 558.43079611, 548.6094016 ,\n",
       "       581.07789071, 347.70787237, 485.71123701, 616.15503999,\n",
       "       423.63542002, 525.7755821 , 400.46600845, 306.04889374,\n",
       "       576.4066582 , 486.74374255, 511.82144994, 468.68730285,\n",
       "       527.21400892, 514.65738321, 692.49228779, 482.57295424,\n",
       "       401.65580811, 558.83609546, 577.61179379, 471.38363734,\n",
       "       477.90468047, 513.55702495, 572.38314443, 548.26172971])"
      ]
     },
     "execution_count": 50,
     "metadata": {},
     "output_type": "execute_result"
    }
   ],
   "source": [
    "preds"
   ]
  },
  {
   "cell_type": "code",
   "execution_count": null,
   "id": "9338cb39",
   "metadata": {},
   "outputs": [],
   "source": []
  },
  {
   "cell_type": "code",
   "execution_count": null,
   "id": "0a7b6925",
   "metadata": {},
   "outputs": [],
   "source": [
    "# model evaluation\n",
    "# 회기모델에서 평가하는 지표 : r2_score"
   ]
  },
  {
   "cell_type": "code",
   "execution_count": 51,
   "id": "39a880d0",
   "metadata": {},
   "outputs": [
    {
     "data": {
      "text/plain": [
       "0.9853436753427146"
      ]
     },
     "execution_count": 51,
     "metadata": {},
     "output_type": "execute_result"
    }
   ],
   "source": [
    "r2_score(preds, y_test)     # 회귀모델의 설명력 : ssr/sst (값이 높을 수록 오차가 적고 예측성공률이 높다)"
   ]
  },
  {
   "cell_type": "code",
   "execution_count": null,
   "id": "c4161344",
   "metadata": {},
   "outputs": [],
   "source": []
  }
 ],
 "metadata": {
  "kernelspec": {
   "display_name": "Python 3 (ipykernel)",
   "language": "python",
   "name": "python3"
  },
  "language_info": {
   "codemirror_mode": {
    "name": "ipython",
    "version": 3
   },
   "file_extension": ".py",
   "mimetype": "text/x-python",
   "name": "python",
   "nbconvert_exporter": "python",
   "pygments_lexer": "ipython3",
   "version": "3.9.7"
  }
 },
 "nbformat": 4,
 "nbformat_minor": 5
}
