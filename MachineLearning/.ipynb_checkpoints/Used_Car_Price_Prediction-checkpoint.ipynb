{
 "cells": [
  {
   "cell_type": "code",
   "execution_count": 1,
   "id": "933f2fbf",
   "metadata": {},
   "outputs": [],
   "source": [
    "import pandas as pd\n",
    "import numpy as np\n",
    "import matplotlib.pyplot as plt\n",
    "import seaborn as sns"
   ]
  },
  {
   "cell_type": "code",
   "execution_count": 2,
   "id": "e6e8ef60",
   "metadata": {},
   "outputs": [],
   "source": [
    "# matplotlib 한글화\n",
    "\n",
    "import matplotlib as mpl\n",
    "import matplotlib.font_manager as fm\n",
    "\n",
    "mpl.rcParams['axes.unicode_minus'] = False\n",
    "\n",
    "path = 'C:/Windows/Fonts/malgun.ttf'\n",
    "font_name = fm.FontProperties(fname=path, size=50).get_name()\n",
    "plt.rc('font', family=font_name)"
   ]
  },
  {
   "cell_type": "code",
   "execution_count": 3,
   "id": "c1c444e1",
   "metadata": {},
   "outputs": [],
   "source": [
    "import warnings\n",
    "warnings.filterwarnings(action='ignore') "
   ]
  },
  {
   "cell_type": "code",
   "execution_count": 4,
   "id": "311fd52e",
   "metadata": {},
   "outputs": [],
   "source": [
    "df = pd.read_csv(r'C:\\Users\\bitcamp\\Desktop\\pandas/vehicles.csv')"
   ]
  },
  {
   "cell_type": "code",
   "execution_count": 5,
   "id": "9b5c864b",
   "metadata": {},
   "outputs": [
    {
     "data": {
      "text/html": [
       "<div>\n",
       "<style scoped>\n",
       "    .dataframe tbody tr th:only-of-type {\n",
       "        vertical-align: middle;\n",
       "    }\n",
       "\n",
       "    .dataframe tbody tr th {\n",
       "        vertical-align: top;\n",
       "    }\n",
       "\n",
       "    .dataframe thead th {\n",
       "        text-align: right;\n",
       "    }\n",
       "</style>\n",
       "<table border=\"1\" class=\"dataframe\">\n",
       "  <thead>\n",
       "    <tr style=\"text-align: right;\">\n",
       "      <th></th>\n",
       "      <th>Unnamed: 0</th>\n",
       "      <th>id</th>\n",
       "      <th>url</th>\n",
       "      <th>region</th>\n",
       "      <th>region_url</th>\n",
       "      <th>price</th>\n",
       "      <th>year</th>\n",
       "      <th>manufacturer</th>\n",
       "      <th>model</th>\n",
       "      <th>condition</th>\n",
       "      <th>...</th>\n",
       "      <th>drive</th>\n",
       "      <th>size</th>\n",
       "      <th>type</th>\n",
       "      <th>paint_color</th>\n",
       "      <th>image_url</th>\n",
       "      <th>description</th>\n",
       "      <th>state</th>\n",
       "      <th>lat</th>\n",
       "      <th>long</th>\n",
       "      <th>posting_date</th>\n",
       "    </tr>\n",
       "  </thead>\n",
       "  <tbody>\n",
       "    <tr>\n",
       "      <th>0</th>\n",
       "      <td>0</td>\n",
       "      <td>7240372487</td>\n",
       "      <td>https://auburn.craigslist.org/ctd/d/auburn-uni...</td>\n",
       "      <td>auburn</td>\n",
       "      <td>https://auburn.craigslist.org</td>\n",
       "      <td>35990</td>\n",
       "      <td>2010.0</td>\n",
       "      <td>chevrolet</td>\n",
       "      <td>corvette grand sport</td>\n",
       "      <td>good</td>\n",
       "      <td>...</td>\n",
       "      <td>rwd</td>\n",
       "      <td>NaN</td>\n",
       "      <td>other</td>\n",
       "      <td>NaN</td>\n",
       "      <td>https://images.craigslist.org/00N0N_ipkbHVZYf4...</td>\n",
       "      <td>Carvana is the safer way to buy a car During t...</td>\n",
       "      <td>al</td>\n",
       "      <td>32.590000</td>\n",
       "      <td>-85.480000</td>\n",
       "      <td>2020-12-02T08:11:30-0600</td>\n",
       "    </tr>\n",
       "    <tr>\n",
       "      <th>1</th>\n",
       "      <td>1</td>\n",
       "      <td>7240309422</td>\n",
       "      <td>https://auburn.craigslist.org/cto/d/auburn-201...</td>\n",
       "      <td>auburn</td>\n",
       "      <td>https://auburn.craigslist.org</td>\n",
       "      <td>7500</td>\n",
       "      <td>2014.0</td>\n",
       "      <td>hyundai</td>\n",
       "      <td>sonata</td>\n",
       "      <td>excellent</td>\n",
       "      <td>...</td>\n",
       "      <td>fwd</td>\n",
       "      <td>NaN</td>\n",
       "      <td>sedan</td>\n",
       "      <td>NaN</td>\n",
       "      <td>https://images.craigslist.org/00s0s_gBHYmJ5o7y...</td>\n",
       "      <td>I'll move to another city and try to sell my c...</td>\n",
       "      <td>al</td>\n",
       "      <td>32.547500</td>\n",
       "      <td>-85.468200</td>\n",
       "      <td>2020-12-02T02:11:50-0600</td>\n",
       "    </tr>\n",
       "    <tr>\n",
       "      <th>2</th>\n",
       "      <td>2</td>\n",
       "      <td>7240224296</td>\n",
       "      <td>https://auburn.craigslist.org/cto/d/auburn-200...</td>\n",
       "      <td>auburn</td>\n",
       "      <td>https://auburn.craigslist.org</td>\n",
       "      <td>4900</td>\n",
       "      <td>2006.0</td>\n",
       "      <td>bmw</td>\n",
       "      <td>x3 3.0i</td>\n",
       "      <td>good</td>\n",
       "      <td>...</td>\n",
       "      <td>NaN</td>\n",
       "      <td>NaN</td>\n",
       "      <td>SUV</td>\n",
       "      <td>blue</td>\n",
       "      <td>https://images.craigslist.org/00B0B_5zgEGWPOrt...</td>\n",
       "      <td>Clean 2006 BMW X3 3.0I.  Beautiful and rare Bl...</td>\n",
       "      <td>al</td>\n",
       "      <td>32.616807</td>\n",
       "      <td>-85.464149</td>\n",
       "      <td>2020-12-01T19:50:41-0600</td>\n",
       "    </tr>\n",
       "  </tbody>\n",
       "</table>\n",
       "<p>3 rows × 26 columns</p>\n",
       "</div>"
      ],
      "text/plain": [
       "   Unnamed: 0          id                                                url  \\\n",
       "0           0  7240372487  https://auburn.craigslist.org/ctd/d/auburn-uni...   \n",
       "1           1  7240309422  https://auburn.craigslist.org/cto/d/auburn-201...   \n",
       "2           2  7240224296  https://auburn.craigslist.org/cto/d/auburn-200...   \n",
       "\n",
       "   region                     region_url  price    year manufacturer  \\\n",
       "0  auburn  https://auburn.craigslist.org  35990  2010.0    chevrolet   \n",
       "1  auburn  https://auburn.craigslist.org   7500  2014.0      hyundai   \n",
       "2  auburn  https://auburn.craigslist.org   4900  2006.0          bmw   \n",
       "\n",
       "                  model  condition  ... drive size   type paint_color  \\\n",
       "0  corvette grand sport       good  ...   rwd  NaN  other         NaN   \n",
       "1                sonata  excellent  ...   fwd  NaN  sedan         NaN   \n",
       "2               x3 3.0i       good  ...   NaN  NaN    SUV        blue   \n",
       "\n",
       "                                           image_url  \\\n",
       "0  https://images.craigslist.org/00N0N_ipkbHVZYf4...   \n",
       "1  https://images.craigslist.org/00s0s_gBHYmJ5o7y...   \n",
       "2  https://images.craigslist.org/00B0B_5zgEGWPOrt...   \n",
       "\n",
       "                                         description state        lat  \\\n",
       "0  Carvana is the safer way to buy a car During t...    al  32.590000   \n",
       "1  I'll move to another city and try to sell my c...    al  32.547500   \n",
       "2  Clean 2006 BMW X3 3.0I.  Beautiful and rare Bl...    al  32.616807   \n",
       "\n",
       "        long              posting_date  \n",
       "0 -85.480000  2020-12-02T08:11:30-0600  \n",
       "1 -85.468200  2020-12-02T02:11:50-0600  \n",
       "2 -85.464149  2020-12-01T19:50:41-0600  \n",
       "\n",
       "[3 rows x 26 columns]"
      ]
     },
     "execution_count": 5,
     "metadata": {},
     "output_type": "execute_result"
    }
   ],
   "source": [
    "df.head(3)"
   ]
  },
  {
   "cell_type": "code",
   "execution_count": 6,
   "id": "ac16f57b",
   "metadata": {},
   "outputs": [
    {
     "name": "stdout",
     "output_type": "stream",
     "text": [
      "<class 'pandas.core.frame.DataFrame'>\n",
      "RangeIndex: 458213 entries, 0 to 458212\n",
      "Data columns (total 26 columns):\n",
      " #   Column        Non-Null Count   Dtype  \n",
      "---  ------        --------------   -----  \n",
      " 0   Unnamed: 0    458213 non-null  int64  \n",
      " 1   id            458213 non-null  int64  \n",
      " 2   url           458213 non-null  object \n",
      " 3   region        458213 non-null  object \n",
      " 4   region_url    458213 non-null  object \n",
      " 5   price         458213 non-null  int64  \n",
      " 6   year          457163 non-null  float64\n",
      " 7   manufacturer  439993 non-null  object \n",
      " 8   model         453367 non-null  object \n",
      " 9   condition     265273 non-null  object \n",
      " 10  cylinders     287073 non-null  object \n",
      " 11  fuel          454976 non-null  object \n",
      " 12  odometer      402910 non-null  float64\n",
      " 13  title_status  455636 non-null  object \n",
      " 14  transmission  455771 non-null  object \n",
      " 15  VIN           270664 non-null  object \n",
      " 16  drive         324025 non-null  object \n",
      " 17  size          136865 non-null  object \n",
      " 18  type          345475 non-null  object \n",
      " 19  paint_color   317370 non-null  object \n",
      " 20  image_url     458185 non-null  object \n",
      " 21  description   458143 non-null  object \n",
      " 22  state         458213 non-null  object \n",
      " 23  lat           450765 non-null  float64\n",
      " 24  long          450765 non-null  float64\n",
      " 25  posting_date  458185 non-null  object \n",
      "dtypes: float64(4), int64(3), object(19)\n",
      "memory usage: 90.9+ MB\n"
     ]
    }
   ],
   "source": [
    "df.info()"
   ]
  },
  {
   "cell_type": "code",
   "execution_count": 7,
   "id": "d3494e52",
   "metadata": {},
   "outputs": [
    {
     "data": {
      "text/plain": [
       "Unnamed: 0           0\n",
       "id                   0\n",
       "url                  0\n",
       "region               0\n",
       "region_url           0\n",
       "price                0\n",
       "year              1050\n",
       "manufacturer     18220\n",
       "model             4846\n",
       "condition       192940\n",
       "cylinders       171140\n",
       "fuel              3237\n",
       "odometer         55303\n",
       "title_status      2577\n",
       "transmission      2442\n",
       "VIN             187549\n",
       "drive           134188\n",
       "size            321348\n",
       "type            112738\n",
       "paint_color     140843\n",
       "image_url           28\n",
       "description         70\n",
       "state                0\n",
       "lat               7448\n",
       "long              7448\n",
       "posting_date        28\n",
       "dtype: int64"
      ]
     },
     "execution_count": 7,
     "metadata": {},
     "output_type": "execute_result"
    }
   ],
   "source": [
    "df.isna().sum()"
   ]
  },
  {
   "cell_type": "code",
   "execution_count": 8,
   "id": "deaa153c",
   "metadata": {},
   "outputs": [
    {
     "data": {
      "text/plain": [
       "Index(['Unnamed: 0', 'id', 'url', 'region', 'region_url', 'price', 'year',\n",
       "       'manufacturer', 'model', 'condition', 'cylinders', 'fuel', 'odometer',\n",
       "       'title_status', 'transmission', 'VIN', 'drive', 'size', 'type',\n",
       "       'paint_color', 'image_url', 'description', 'state', 'lat', 'long',\n",
       "       'posting_date'],\n",
       "      dtype='object')"
      ]
     },
     "execution_count": 8,
     "metadata": {},
     "output_type": "execute_result"
    }
   ],
   "source": [
    "df.columns"
   ]
  },
  {
   "cell_type": "code",
   "execution_count": 9,
   "id": "d85b67df",
   "metadata": {},
   "outputs": [],
   "source": [
    "drop_col = ['Unnamed: 0', 'id', 'url', 'region_url',\n",
    "       'VIN','image_url', 'description', 'state', 'lat', 'long','posting_date']"
   ]
  },
  {
   "cell_type": "code",
   "execution_count": 10,
   "id": "a7a9c565",
   "metadata": {},
   "outputs": [],
   "source": [
    "df.drop(drop_col, axis=1, inplace=True)"
   ]
  },
  {
   "cell_type": "code",
   "execution_count": null,
   "id": "f5bd9109",
   "metadata": {},
   "outputs": [],
   "source": []
  },
  {
   "cell_type": "code",
   "execution_count": 11,
   "id": "67c741f0",
   "metadata": {},
   "outputs": [
    {
     "data": {
      "text/html": [
       "<div>\n",
       "<style scoped>\n",
       "    .dataframe tbody tr th:only-of-type {\n",
       "        vertical-align: middle;\n",
       "    }\n",
       "\n",
       "    .dataframe tbody tr th {\n",
       "        vertical-align: top;\n",
       "    }\n",
       "\n",
       "    .dataframe thead th {\n",
       "        text-align: right;\n",
       "    }\n",
       "</style>\n",
       "<table border=\"1\" class=\"dataframe\">\n",
       "  <thead>\n",
       "    <tr style=\"text-align: right;\">\n",
       "      <th></th>\n",
       "      <th>region</th>\n",
       "      <th>price</th>\n",
       "      <th>year</th>\n",
       "      <th>manufacturer</th>\n",
       "      <th>model</th>\n",
       "      <th>condition</th>\n",
       "      <th>cylinders</th>\n",
       "      <th>fuel</th>\n",
       "      <th>odometer</th>\n",
       "      <th>title_status</th>\n",
       "      <th>transmission</th>\n",
       "      <th>drive</th>\n",
       "      <th>size</th>\n",
       "      <th>type</th>\n",
       "      <th>paint_color</th>\n",
       "    </tr>\n",
       "  </thead>\n",
       "  <tbody>\n",
       "    <tr>\n",
       "      <th>0</th>\n",
       "      <td>auburn</td>\n",
       "      <td>35990</td>\n",
       "      <td>2010.0</td>\n",
       "      <td>chevrolet</td>\n",
       "      <td>corvette grand sport</td>\n",
       "      <td>good</td>\n",
       "      <td>8 cylinders</td>\n",
       "      <td>gas</td>\n",
       "      <td>32742.0</td>\n",
       "      <td>clean</td>\n",
       "      <td>other</td>\n",
       "      <td>rwd</td>\n",
       "      <td>NaN</td>\n",
       "      <td>other</td>\n",
       "      <td>NaN</td>\n",
       "    </tr>\n",
       "    <tr>\n",
       "      <th>1</th>\n",
       "      <td>auburn</td>\n",
       "      <td>7500</td>\n",
       "      <td>2014.0</td>\n",
       "      <td>hyundai</td>\n",
       "      <td>sonata</td>\n",
       "      <td>excellent</td>\n",
       "      <td>4 cylinders</td>\n",
       "      <td>gas</td>\n",
       "      <td>93600.0</td>\n",
       "      <td>clean</td>\n",
       "      <td>automatic</td>\n",
       "      <td>fwd</td>\n",
       "      <td>NaN</td>\n",
       "      <td>sedan</td>\n",
       "      <td>NaN</td>\n",
       "    </tr>\n",
       "    <tr>\n",
       "      <th>2</th>\n",
       "      <td>auburn</td>\n",
       "      <td>4900</td>\n",
       "      <td>2006.0</td>\n",
       "      <td>bmw</td>\n",
       "      <td>x3 3.0i</td>\n",
       "      <td>good</td>\n",
       "      <td>6 cylinders</td>\n",
       "      <td>gas</td>\n",
       "      <td>87046.0</td>\n",
       "      <td>clean</td>\n",
       "      <td>automatic</td>\n",
       "      <td>NaN</td>\n",
       "      <td>NaN</td>\n",
       "      <td>SUV</td>\n",
       "      <td>blue</td>\n",
       "    </tr>\n",
       "  </tbody>\n",
       "</table>\n",
       "</div>"
      ],
      "text/plain": [
       "   region  price    year manufacturer                 model  condition  \\\n",
       "0  auburn  35990  2010.0    chevrolet  corvette grand sport       good   \n",
       "1  auburn   7500  2014.0      hyundai                sonata  excellent   \n",
       "2  auburn   4900  2006.0          bmw               x3 3.0i       good   \n",
       "\n",
       "     cylinders fuel  odometer title_status transmission drive size   type  \\\n",
       "0  8 cylinders  gas   32742.0        clean        other   rwd  NaN  other   \n",
       "1  4 cylinders  gas   93600.0        clean    automatic   fwd  NaN  sedan   \n",
       "2  6 cylinders  gas   87046.0        clean    automatic   NaN  NaN    SUV   \n",
       "\n",
       "  paint_color  \n",
       "0         NaN  \n",
       "1         NaN  \n",
       "2        blue  "
      ]
     },
     "execution_count": 11,
     "metadata": {},
     "output_type": "execute_result"
    }
   ],
   "source": [
    "df.head(3)"
   ]
  },
  {
   "cell_type": "code",
   "execution_count": 12,
   "id": "3fe5f663",
   "metadata": {},
   "outputs": [],
   "source": [
    "df['age'] = 2022 - df['year']\n",
    "df.drop('year', axis = 1, inplace=True)"
   ]
  },
  {
   "cell_type": "code",
   "execution_count": null,
   "id": "8999144f",
   "metadata": {},
   "outputs": [],
   "source": []
  },
  {
   "cell_type": "code",
   "execution_count": 13,
   "id": "0d555102",
   "metadata": {},
   "outputs": [
    {
     "data": {
      "text/plain": [
       "ford               79666\n",
       "chevrolet          64977\n",
       "toyota             38577\n",
       "honda              25868\n",
       "nissan             23654\n",
       "jeep               21165\n",
       "ram                17697\n",
       "gmc                17267\n",
       "dodge              16730\n",
       "bmw                12352\n",
       "hyundai            10975\n",
       "mercedes-benz      10628\n",
       "subaru             10510\n",
       "volkswagen         10489\n",
       "kia                 8854\n",
       "chrysler            7499\n",
       "lexus               7119\n",
       "cadillac            6743\n",
       "buick               6009\n",
       "mazda               5931\n",
       "audi                5583\n",
       "acura               4008\n",
       "infiniti            3714\n",
       "lincoln             3338\n",
       "pontiac             3037\n",
       "volvo               2866\n",
       "mini                2330\n",
       "mitsubishi          2301\n",
       "porsche             1779\n",
       "rover               1662\n",
       "mercury             1645\n",
       "saturn              1393\n",
       "tesla               1067\n",
       "jaguar              1060\n",
       "fiat                 955\n",
       "alfa-romeo           187\n",
       "harley-davidson      139\n",
       "ferrari               96\n",
       "datsun                63\n",
       "aston-martin          35\n",
       "land rover            21\n",
       "morgan                 3\n",
       "hennessey              1\n",
       "Name: manufacturer, dtype: int64"
      ]
     },
     "execution_count": 13,
     "metadata": {},
     "output_type": "execute_result"
    }
   ],
   "source": [
    "df['manufacturer'].value_counts()"
   ]
  },
  {
   "cell_type": "code",
   "execution_count": 14,
   "id": "d123ce21",
   "metadata": {},
   "outputs": [
    {
     "data": {
      "text/plain": [
       "<AxesSubplot:xlabel='count', ylabel='manufacturer'>"
      ]
     },
     "execution_count": 14,
     "metadata": {},
     "output_type": "execute_result"
    },
    {
     "data": {
      "image/png": "[encoded data removed]",
      "text/plain": [
       "<Figure size 576x720 with 1 Axes>"
      ]
     },
     "metadata": {
      "needs_background": "light"
     },
     "output_type": "display_data"
    }
   ],
   "source": [
    "fig = plt.figure(figsize=(8,10))\n",
    "sns.countplot(y='manufacturer', data=df)"
   ]
  },
  {
   "cell_type": "code",
   "execution_count": 15,
   "id": "c8af135c",
   "metadata": {},
   "outputs": [
    {
     "data": {
      "text/plain": [
       "<AxesSubplot:xlabel='count', ylabel='cylinders'>"
      ]
     },
     "execution_count": 15,
     "metadata": {},
     "output_type": "execute_result"
    },
    {
     "data": {
      "image/png": "[encoded data removed]",
      "text/plain": [
       "<Figure size 576x720 with 1 Axes>"
      ]
     },
     "metadata": {
      "needs_background": "light"
     },
     "output_type": "display_data"
    }
   ],
   "source": [
    "fig = plt.figure(figsize=(8,10))\n",
    "sns.countplot(y='cylinders', data=df)"
   ]
  },
  {
   "cell_type": "code",
   "execution_count": 16,
   "id": "927e78ca",
   "metadata": {},
   "outputs": [
    {
     "data": {
      "text/plain": [
       "<AxesSubplot:xlabel='count', ylabel='condition'>"
      ]
     },
     "execution_count": 16,
     "metadata": {},
     "output_type": "execute_result"
    },
    {
     "data": {
      "image/png": "[encoded data removed]",
      "text/plain": [
       "<Figure size 576x720 with 1 Axes>"
      ]
     },
     "metadata": {
      "needs_background": "light"
     },
     "output_type": "display_data"
    }
   ],
   "source": [
    "fig = plt.figure(figsize=(8,10))\n",
    "sns.countplot(y='condition', data=df)"
   ]
  },
  {
   "cell_type": "code",
   "execution_count": 17,
   "id": "850bbb58",
   "metadata": {},
   "outputs": [
    {
     "data": {
      "text/plain": [
       "<AxesSubplot:xlabel='count', ylabel='fuel'>"
      ]
     },
     "execution_count": 17,
     "metadata": {},
     "output_type": "execute_result"
    },
    {
     "data": {
      "image/png": "[encoded data removed]",
      "text/plain": [
       "<Figure size 576x720 with 1 Axes>"
      ]
     },
     "metadata": {
      "needs_background": "light"
     },
     "output_type": "display_data"
    }
   ],
   "source": [
    "fig = plt.figure(figsize=(8,10))\n",
    "sns.countplot(y='fuel', data=df)"
   ]
  },
  {
   "cell_type": "code",
   "execution_count": 18,
   "id": "b89b8c7e",
   "metadata": {},
   "outputs": [
    {
     "data": {
      "text/plain": [
       "<AxesSubplot:xlabel='count', ylabel='type'>"
      ]
     },
     "execution_count": 18,
     "metadata": {},
     "output_type": "execute_result"
    },
    {
     "data": {
      "image/png": "[encoded data removed]",
      "text/plain": [
       "<Figure size 576x720 with 1 Axes>"
      ]
     },
     "metadata": {
      "needs_background": "light"
     },
     "output_type": "display_data"
    }
   ],
   "source": [
    "fig = plt.figure(figsize=(8,10))\n",
    "sns.countplot(y='type', data=df)"
   ]
  },
  {
   "cell_type": "code",
   "execution_count": 19,
   "id": "e7b233e2",
   "metadata": {},
   "outputs": [
    {
     "data": {
      "text/plain": [
       "<AxesSubplot:xlabel='count', ylabel='paint_color'>"
      ]
     },
     "execution_count": 19,
     "metadata": {},
     "output_type": "execute_result"
    },
    {
     "data": {
      "image/png": "[encoded data removed]",
      "text/plain": [
       "<Figure size 576x720 with 1 Axes>"
      ]
     },
     "metadata": {
      "needs_background": "light"
     },
     "output_type": "display_data"
    }
   ],
   "source": [
    "fig = plt.figure(figsize=(8,10))\n",
    "sns.countplot(y='paint_color', data=df)"
   ]
  },
  {
   "cell_type": "code",
   "execution_count": 20,
   "id": "4130cbb6",
   "metadata": {},
   "outputs": [
    {
     "data": {
      "text/plain": [
       "<AxesSubplot:xlabel='manufacturer', ylabel='price'>"
      ]
     },
     "execution_count": 20,
     "metadata": {},
     "output_type": "execute_result"
    },
    {
     "data": {
      "image/png": "[encoded data removed]",
      "text/plain": [
       "<Figure size 432x288 with 1 Axes>"
      ]
     },
     "metadata": {
      "needs_background": "light"
     },
     "output_type": "display_data"
    }
   ],
   "source": [
    "sns.boxplot(x='manufacturer', y='price', data=df)"
   ]
  },
  {
   "cell_type": "code",
   "execution_count": 21,
   "id": "7dd19c48",
   "metadata": {},
   "outputs": [
    {
     "data": {
      "text/plain": [
       "others    140843\n",
       "white      82786\n",
       "black      64145\n",
       "silver     46722\n",
       "red        33274\n",
       "blue       32746\n",
       "grey       30455\n",
       "custom      8843\n",
       "green       7631\n",
       "brown       6028\n",
       "yellow      2002\n",
       "orange      1970\n",
       "purple       768\n",
       "Name: paint_color, dtype: int64"
      ]
     },
     "execution_count": 21,
     "metadata": {},
     "output_type": "execute_result"
    }
   ],
   "source": [
    "counts = df['paint_color'].fillna('others').value_counts()\n",
    "counts"
   ]
  },
  {
   "cell_type": "code",
   "execution_count": 22,
   "id": "2d0dcb72",
   "metadata": {},
   "outputs": [
    {
     "data": {
      "text/plain": [
       "Index(['custom', 'green', 'brown', 'yellow', 'orange', 'purple'], dtype='object')"
      ]
     },
     "execution_count": 22,
     "metadata": {},
     "output_type": "execute_result"
    }
   ],
   "source": [
    "n_cat = 7\n",
    "others = counts.index[n_cat:]\n",
    "others"
   ]
  },
  {
   "cell_type": "code",
   "execution_count": 23,
   "id": "a6b05ce5",
   "metadata": {},
   "outputs": [],
   "source": [
    "df['paint_color'] = df['paint_color'].apply(lambda x : x if str(x) not in others else 'others')"
   ]
  },
  {
   "cell_type": "code",
   "execution_count": 24,
   "id": "1f852a4c",
   "metadata": {},
   "outputs": [],
   "source": [
    "df['paint_color'].fillna('others', inplace=True)"
   ]
  },
  {
   "cell_type": "code",
   "execution_count": 25,
   "id": "372768b0",
   "metadata": {},
   "outputs": [
    {
     "data": {
      "text/plain": [
       "others    168085\n",
       "white      82786\n",
       "black      64145\n",
       "silver     46722\n",
       "red        33274\n",
       "blue       32746\n",
       "grey       30455\n",
       "Name: paint_color, dtype: int64"
      ]
     },
     "execution_count": 25,
     "metadata": {},
     "output_type": "execute_result"
    }
   ],
   "source": [
    "df['paint_color'].value_counts()"
   ]
  },
  {
   "cell_type": "code",
   "execution_count": 26,
   "id": "38eed25f",
   "metadata": {},
   "outputs": [
    {
     "name": "stdout",
     "output_type": "stream",
     "text": [
      "<class 'pandas.core.frame.DataFrame'>\n",
      "RangeIndex: 458213 entries, 0 to 458212\n",
      "Data columns (total 15 columns):\n",
      " #   Column        Non-Null Count   Dtype  \n",
      "---  ------        --------------   -----  \n",
      " 0   region        458213 non-null  object \n",
      " 1   price         458213 non-null  int64  \n",
      " 2   manufacturer  439993 non-null  object \n",
      " 3   model         453367 non-null  object \n",
      " 4   condition     265273 non-null  object \n",
      " 5   cylinders     287073 non-null  object \n",
      " 6   fuel          454976 non-null  object \n",
      " 7   odometer      402910 non-null  float64\n",
      " 8   title_status  455636 non-null  object \n",
      " 9   transmission  455771 non-null  object \n",
      " 10  drive         324025 non-null  object \n",
      " 11  size          136865 non-null  object \n",
      " 12  type          345475 non-null  object \n",
      " 13  paint_color   458213 non-null  object \n",
      " 14  age           457163 non-null  float64\n",
      "dtypes: float64(2), int64(1), object(12)\n",
      "memory usage: 52.4+ MB\n"
     ]
    }
   ],
   "source": [
    "df.info()"
   ]
  },
  {
   "cell_type": "code",
   "execution_count": null,
   "id": "7cb25678",
   "metadata": {},
   "outputs": [],
   "source": []
  },
  {
   "cell_type": "code",
   "execution_count": 27,
   "id": "fc8a7bc8",
   "metadata": {},
   "outputs": [
    {
     "data": {
      "text/plain": [
       "ford               79666\n",
       "chevrolet          64977\n",
       "toyota             38577\n",
       "honda              25868\n",
       "nissan             23654\n",
       "jeep               21165\n",
       "ram                17697\n",
       "gmc                17267\n",
       "dodge              16730\n",
       "bmw                12352\n",
       "hyundai            10975\n",
       "mercedes-benz      10628\n",
       "subaru             10510\n",
       "volkswagen         10489\n",
       "kia                 8854\n",
       "chrysler            7499\n",
       "lexus               7119\n",
       "cadillac            6743\n",
       "buick               6009\n",
       "mazda               5931\n",
       "audi                5583\n",
       "acura               4008\n",
       "infiniti            3714\n",
       "lincoln             3338\n",
       "pontiac             3037\n",
       "volvo               2866\n",
       "mini                2330\n",
       "mitsubishi          2301\n",
       "porsche             1779\n",
       "rover               1662\n",
       "mercury             1645\n",
       "saturn              1393\n",
       "tesla               1067\n",
       "jaguar              1060\n",
       "fiat                 955\n",
       "alfa-romeo           187\n",
       "harley-davidson      139\n",
       "ferrari               96\n",
       "datsun                63\n",
       "aston-martin          35\n",
       "land rover            21\n",
       "morgan                 3\n",
       "hennessey              1\n",
       "Name: manufacturer, dtype: int64"
      ]
     },
     "execution_count": 27,
     "metadata": {},
     "output_type": "execute_result"
    }
   ],
   "source": [
    "df['manufacturer'].value_counts()"
   ]
  },
  {
   "cell_type": "code",
   "execution_count": 28,
   "id": "7e93d35b",
   "metadata": {},
   "outputs": [],
   "source": [
    "counts = df['manufacturer'].fillna('others').value_counts()\n",
    "n_cat = 20\n",
    "others = counts.index[n_cat:]\n",
    "df['manufacturer'] = df['manufacturer'].apply(lambda x : x if str(x) not in others else 'others')"
   ]
  },
  {
   "cell_type": "code",
   "execution_count": 29,
   "id": "bc4673cd",
   "metadata": {},
   "outputs": [
    {
     "data": {
      "text/plain": [
       "ford             79666\n",
       "chevrolet        64977\n",
       "others           43214\n",
       "toyota           38577\n",
       "honda            25868\n",
       "nissan           23654\n",
       "jeep             21165\n",
       "ram              17697\n",
       "gmc              17267\n",
       "dodge            16730\n",
       "bmw              12352\n",
       "hyundai          10975\n",
       "mercedes-benz    10628\n",
       "subaru           10510\n",
       "volkswagen       10489\n",
       "kia               8854\n",
       "chrysler          7499\n",
       "lexus             7119\n",
       "cadillac          6743\n",
       "buick             6009\n",
       "Name: manufacturer, dtype: int64"
      ]
     },
     "execution_count": 29,
     "metadata": {},
     "output_type": "execute_result"
    }
   ],
   "source": [
    "df['manufacturer'].value_counts()"
   ]
  },
  {
   "cell_type": "code",
   "execution_count": 30,
   "id": "49e04694",
   "metadata": {},
   "outputs": [],
   "source": [
    "df['manufacturer'].fillna('others', inplace=True)"
   ]
  },
  {
   "cell_type": "code",
   "execution_count": null,
   "id": "7106feea",
   "metadata": {},
   "outputs": [],
   "source": []
  },
  {
   "cell_type": "code",
   "execution_count": 31,
   "id": "f729a4b8",
   "metadata": {},
   "outputs": [],
   "source": [
    "counts = df['model'].fillna('others').value_counts()\n",
    "n_cat = 100\n",
    "others = counts.index[n_cat:]\n",
    "df['model'] = df['model'].apply(lambda x : x if str(x) not in others else 'others')"
   ]
  },
  {
   "cell_type": "code",
   "execution_count": null,
   "id": "f2653c8b",
   "metadata": {},
   "outputs": [],
   "source": []
  },
  {
   "cell_type": "code",
   "execution_count": 32,
   "id": "35c9d573",
   "metadata": {},
   "outputs": [],
   "source": [
    "from sklearn.preprocessing import MinMaxScaler"
   ]
  },
  {
   "cell_type": "code",
   "execution_count": 33,
   "id": "4baeeae4",
   "metadata": {},
   "outputs": [],
   "source": [
    "scaler = MinMaxScaler()"
   ]
  },
  {
   "cell_type": "code",
   "execution_count": 34,
   "id": "e61c466f",
   "metadata": {},
   "outputs": [
    {
     "data": {
      "text/plain": [
       "<AxesSubplot:>"
      ]
     },
     "execution_count": 34,
     "metadata": {},
     "output_type": "execute_result"
    },
    {
     "data": {
      "image/png": "[encoded data removed]",
      "text/plain": [
       "<Figure size 432x288 with 1 Axes>"
      ]
     },
     "metadata": {
      "needs_background": "light"
     },
     "output_type": "display_data"
    }
   ],
   "source": [
    "pd.DataFrame(scaler.fit_transform(df[['odometer','age']])).plot(kind='box')"
   ]
  },
  {
   "cell_type": "code",
   "execution_count": 35,
   "id": "42ff6bbf",
   "metadata": {},
   "outputs": [],
   "source": [
    "# outlier 제거"
   ]
  },
  {
   "cell_type": "code",
   "execution_count": 36,
   "id": "3a80fe94",
   "metadata": {
    "scrolled": true
   },
   "outputs": [],
   "source": [
    "df = df[df.odometer.notnull()]\n",
    "df = df[df.age.notnull()]"
   ]
  },
  {
   "cell_type": "code",
   "execution_count": 37,
   "id": "6c65de69",
   "metadata": {},
   "outputs": [],
   "source": [
    "# boxplot에서 상한선, 하한선 구하기\n",
    "def remove_outlier(s):\n",
    "    qu25 = np.percentile(s.values, 25)\n",
    "    qu75 = np.percentile(s.values, 75)\n",
    "    iqr = qu75 - qu25\n",
    "    low_limit = qu25 - iqr*1.5\n",
    "    high_limit = qu75 + iqr*1.5\n",
    "    return (s >= low_limit) & (s <= high_limit)"
   ]
  },
  {
   "cell_type": "code",
   "execution_count": 38,
   "id": "7ded3854",
   "metadata": {},
   "outputs": [],
   "source": [
    "df = df[remove_outlier(df['odometer'])]\n",
    "df = df[remove_outlier(df['age'])]"
   ]
  },
  {
   "cell_type": "code",
   "execution_count": 39,
   "id": "14364971",
   "metadata": {},
   "outputs": [
    {
     "data": {
      "text/html": [
       "<div>\n",
       "<style scoped>\n",
       "    .dataframe tbody tr th:only-of-type {\n",
       "        vertical-align: middle;\n",
       "    }\n",
       "\n",
       "    .dataframe tbody tr th {\n",
       "        vertical-align: top;\n",
       "    }\n",
       "\n",
       "    .dataframe thead th {\n",
       "        text-align: right;\n",
       "    }\n",
       "</style>\n",
       "<table border=\"1\" class=\"dataframe\">\n",
       "  <thead>\n",
       "    <tr style=\"text-align: right;\">\n",
       "      <th></th>\n",
       "      <th>region</th>\n",
       "      <th>price</th>\n",
       "      <th>manufacturer</th>\n",
       "      <th>model</th>\n",
       "      <th>condition</th>\n",
       "      <th>cylinders</th>\n",
       "      <th>fuel</th>\n",
       "      <th>odometer</th>\n",
       "      <th>title_status</th>\n",
       "      <th>transmission</th>\n",
       "      <th>drive</th>\n",
       "      <th>size</th>\n",
       "      <th>type</th>\n",
       "      <th>paint_color</th>\n",
       "      <th>age</th>\n",
       "    </tr>\n",
       "  </thead>\n",
       "  <tbody>\n",
       "    <tr>\n",
       "      <th>0</th>\n",
       "      <td>auburn</td>\n",
       "      <td>35990</td>\n",
       "      <td>chevrolet</td>\n",
       "      <td>others</td>\n",
       "      <td>good</td>\n",
       "      <td>8 cylinders</td>\n",
       "      <td>gas</td>\n",
       "      <td>32742.0</td>\n",
       "      <td>clean</td>\n",
       "      <td>other</td>\n",
       "      <td>rwd</td>\n",
       "      <td>NaN</td>\n",
       "      <td>other</td>\n",
       "      <td>others</td>\n",
       "      <td>12.0</td>\n",
       "    </tr>\n",
       "    <tr>\n",
       "      <th>1</th>\n",
       "      <td>auburn</td>\n",
       "      <td>7500</td>\n",
       "      <td>hyundai</td>\n",
       "      <td>sonata</td>\n",
       "      <td>excellent</td>\n",
       "      <td>4 cylinders</td>\n",
       "      <td>gas</td>\n",
       "      <td>93600.0</td>\n",
       "      <td>clean</td>\n",
       "      <td>automatic</td>\n",
       "      <td>fwd</td>\n",
       "      <td>NaN</td>\n",
       "      <td>sedan</td>\n",
       "      <td>others</td>\n",
       "      <td>8.0</td>\n",
       "    </tr>\n",
       "    <tr>\n",
       "      <th>2</th>\n",
       "      <td>auburn</td>\n",
       "      <td>4900</td>\n",
       "      <td>bmw</td>\n",
       "      <td>others</td>\n",
       "      <td>good</td>\n",
       "      <td>6 cylinders</td>\n",
       "      <td>gas</td>\n",
       "      <td>87046.0</td>\n",
       "      <td>clean</td>\n",
       "      <td>automatic</td>\n",
       "      <td>NaN</td>\n",
       "      <td>NaN</td>\n",
       "      <td>SUV</td>\n",
       "      <td>blue</td>\n",
       "      <td>16.0</td>\n",
       "    </tr>\n",
       "    <tr>\n",
       "      <th>4</th>\n",
       "      <td>auburn</td>\n",
       "      <td>19500</td>\n",
       "      <td>ford</td>\n",
       "      <td>others</td>\n",
       "      <td>excellent</td>\n",
       "      <td>8 cylinders</td>\n",
       "      <td>diesel</td>\n",
       "      <td>116000.0</td>\n",
       "      <td>lien</td>\n",
       "      <td>automatic</td>\n",
       "      <td>4wd</td>\n",
       "      <td>full-size</td>\n",
       "      <td>pickup</td>\n",
       "      <td>blue</td>\n",
       "      <td>17.0</td>\n",
       "    </tr>\n",
       "    <tr>\n",
       "      <th>5</th>\n",
       "      <td>auburn</td>\n",
       "      <td>29590</td>\n",
       "      <td>toyota</td>\n",
       "      <td>tacoma double cab sr5</td>\n",
       "      <td>good</td>\n",
       "      <td>6 cylinders</td>\n",
       "      <td>gas</td>\n",
       "      <td>33290.0</td>\n",
       "      <td>clean</td>\n",
       "      <td>other</td>\n",
       "      <td>NaN</td>\n",
       "      <td>NaN</td>\n",
       "      <td>pickup</td>\n",
       "      <td>red</td>\n",
       "      <td>6.0</td>\n",
       "    </tr>\n",
       "  </tbody>\n",
       "</table>\n",
       "</div>"
      ],
      "text/plain": [
       "   region  price manufacturer                  model  condition    cylinders  \\\n",
       "0  auburn  35990    chevrolet                 others       good  8 cylinders   \n",
       "1  auburn   7500      hyundai                 sonata  excellent  4 cylinders   \n",
       "2  auburn   4900          bmw                 others       good  6 cylinders   \n",
       "4  auburn  19500         ford                 others  excellent  8 cylinders   \n",
       "5  auburn  29590       toyota  tacoma double cab sr5       good  6 cylinders   \n",
       "\n",
       "     fuel  odometer title_status transmission drive       size    type  \\\n",
       "0     gas   32742.0        clean        other   rwd        NaN   other   \n",
       "1     gas   93600.0        clean    automatic   fwd        NaN   sedan   \n",
       "2     gas   87046.0        clean    automatic   NaN        NaN     SUV   \n",
       "4  diesel  116000.0         lien    automatic   4wd  full-size  pickup   \n",
       "5     gas   33290.0        clean        other   NaN        NaN  pickup   \n",
       "\n",
       "  paint_color   age  \n",
       "0      others  12.0  \n",
       "1      others   8.0  \n",
       "2        blue  16.0  \n",
       "4        blue  17.0  \n",
       "5         red   6.0  "
      ]
     },
     "execution_count": 39,
     "metadata": {},
     "output_type": "execute_result"
    }
   ],
   "source": [
    "df.head()"
   ]
  },
  {
   "cell_type": "code",
   "execution_count": 40,
   "id": "884f7e2a",
   "metadata": {},
   "outputs": [
    {
     "data": {
      "text/plain": [
       "<AxesSubplot:>"
      ]
     },
     "execution_count": 40,
     "metadata": {},
     "output_type": "execute_result"
    },
    {
     "data": {
      "image/png": "[encoded data removed]",
      "text/plain": [
       "<Figure size 432x288 with 1 Axes>"
      ]
     },
     "metadata": {
      "needs_background": "light"
     },
     "output_type": "display_data"
    }
   ],
   "source": [
    "pd.DataFrame(scaler.fit_transform(df[['odometer','age']])).plot(kind='box')"
   ]
  },
  {
   "cell_type": "code",
   "execution_count": null,
   "id": "d796c533",
   "metadata": {},
   "outputs": [],
   "source": []
  },
  {
   "cell_type": "code",
   "execution_count": 41,
   "id": "aae5ebcd",
   "metadata": {},
   "outputs": [
    {
     "data": {
      "text/plain": [
       "<AxesSubplot:xlabel='manufacturer', ylabel='price'>"
      ]
     },
     "execution_count": 41,
     "metadata": {},
     "output_type": "execute_result"
    },
    {
     "data": {
      "image/png": "[encoded data removed]",
      "text/plain": [
       "<Figure size 720x360 with 1 Axes>"
      ]
     },
     "metadata": {
      "needs_background": "light"
     },
     "output_type": "display_data"
    }
   ],
   "source": [
    "fig = plt.figure(figsize=(10,5))\n",
    "sns.boxplot(x='manufacturer', y='price', data=df)"
   ]
  },
  {
   "cell_type": "code",
   "execution_count": 42,
   "id": "c9d410c8",
   "metadata": {},
   "outputs": [
    {
     "data": {
      "text/html": [
       "<div>\n",
       "<style scoped>\n",
       "    .dataframe tbody tr th:only-of-type {\n",
       "        vertical-align: middle;\n",
       "    }\n",
       "\n",
       "    .dataframe tbody tr th {\n",
       "        vertical-align: top;\n",
       "    }\n",
       "\n",
       "    .dataframe thead th {\n",
       "        text-align: right;\n",
       "    }\n",
       "</style>\n",
       "<table border=\"1\" class=\"dataframe\">\n",
       "  <thead>\n",
       "    <tr style=\"text-align: right;\">\n",
       "      <th></th>\n",
       "      <th>price</th>\n",
       "      <th>odometer</th>\n",
       "      <th>age</th>\n",
       "    </tr>\n",
       "  </thead>\n",
       "  <tbody>\n",
       "    <tr>\n",
       "      <th>price</th>\n",
       "      <td>1.000000</td>\n",
       "      <td>-0.000323</td>\n",
       "      <td>0.000817</td>\n",
       "    </tr>\n",
       "    <tr>\n",
       "      <th>odometer</th>\n",
       "      <td>-0.000323</td>\n",
       "      <td>1.000000</td>\n",
       "      <td>0.642975</td>\n",
       "    </tr>\n",
       "    <tr>\n",
       "      <th>age</th>\n",
       "      <td>0.000817</td>\n",
       "      <td>0.642975</td>\n",
       "      <td>1.000000</td>\n",
       "    </tr>\n",
       "  </tbody>\n",
       "</table>\n",
       "</div>"
      ],
      "text/plain": [
       "             price  odometer       age\n",
       "price     1.000000 -0.000323  0.000817\n",
       "odometer -0.000323  1.000000  0.642975\n",
       "age       0.000817  0.642975  1.000000"
      ]
     },
     "execution_count": 42,
     "metadata": {},
     "output_type": "execute_result"
    }
   ],
   "source": [
    "df.corr()"
   ]
  },
  {
   "cell_type": "code",
   "execution_count": 43,
   "id": "7dd305f3",
   "metadata": {},
   "outputs": [
    {
     "data": {
      "text/plain": [
       "<AxesSubplot:>"
      ]
     },
     "execution_count": 43,
     "metadata": {},
     "output_type": "execute_result"
    },
    {
     "data": {
      "image/png": "[encoded data removed]",
      "text/plain": [
       "<Figure size 432x288 with 2 Axes>"
      ]
     },
     "metadata": {
      "needs_background": "light"
     },
     "output_type": "display_data"
    }
   ],
   "source": [
    "sns.heatmap(df.corr(), annot=True)"
   ]
  },
  {
   "cell_type": "code",
   "execution_count": null,
   "id": "166c152d",
   "metadata": {},
   "outputs": [],
   "source": []
  },
  {
   "cell_type": "code",
   "execution_count": null,
   "id": "39fb24ee",
   "metadata": {},
   "outputs": [],
   "source": [
    "# 모델을 생성 예측, 평가\n",
    "# scaling, outlier제거"
   ]
  },
  {
   "cell_type": "code",
   "execution_count": null,
   "id": "28bafebc",
   "metadata": {},
   "outputs": [],
   "source": [
    "# 전처리"
   ]
  },
  {
   "cell_type": "code",
   "execution_count": null,
   "id": "29c90f17",
   "metadata": {},
   "outputs": [],
   "source": [
    "df.head()"
   ]
  },
  {
   "cell_type": "code",
   "execution_count": 64,
   "id": "d70d0121",
   "metadata": {},
   "outputs": [
    {
     "name": "stdout",
     "output_type": "stream",
     "text": [
      "\n",
      "==================================================\n",
      "LinearRegression\n",
      "accuracy : -1081.1689420692057\n",
      "---------------------------------\n",
      "\n",
      "==================================================\n",
      "Ridge\n",
      "accuracy : -1043.7705182720397\n",
      "---------------------------------\n",
      "\n",
      "==================================================\n",
      "Lasso\n",
      "accuracy : -1081.0434554162402\n",
      "---------------------------------\n"
     ]
    }
   ],
   "source": [
    "# df = df[df.model.notnull()]\n",
    "\n",
    "# df.drop('size', axis=1, inplace=True)\n",
    "\n",
    "# df['type'].fillna('other', inplace=True)\n",
    "\n",
    "# df.condition.fillna('normal', inplace=True)\n",
    "\n",
    "# df.cylinders.fillna('other', inplace=True)\n",
    "\n",
    "# df.fuel.fillna('other', inplace=True)\n",
    "\n",
    "# df.transmission.fillna('other', inplace=True)\n",
    "\n",
    "# df.title_status.fillna('missing', inplace=True)\n",
    "\n",
    "# df.dropna(inplace=True)\n",
    "\n",
    "# df.isna().sum()\n",
    "\n",
    "# df_model = df.model.value_counts()[1:].index\n",
    "\n",
    "# df.model = df.model.apply(lambda x : x if x in df_model else np.nan)\n",
    "\n",
    "# df.dropna(inplace=True)\n",
    "\n",
    "# len(df)\n",
    "\n",
    "# df_ohe = pd.get_dummies(df)\n",
    "\n",
    "\n",
    "# # data split\n",
    "# from sklearn.model_selection import train_test_split\n",
    "\n",
    "# y = df_ohe.price\n",
    "# x = df_ohe.drop('price', axis=1)\n",
    "\n",
    "# x_train, x_test, y_train, y_test = train_test_split(x,y, test_size=0.3, random_state=111)\n",
    "\n",
    "# lr = LinearRegression()\n",
    "# rid = Ridge()\n",
    "# las = Lasso()\n",
    "\n",
    "# models = [lr, rid, las]\n",
    "\n",
    "# for m in models:\n",
    "#     m.fit(x_train, y_train)\n",
    "#     preds = m.predict(x_test)\n",
    "    \n",
    "#     print()\n",
    "#     print('='*50)\n",
    "#     print(m.__class__.__name__)\n",
    "#     print('accuracy :', r2_score(y_test, preds))\n",
    "#     print('---------------------------------')"
   ]
  },
  {
   "cell_type": "code",
   "execution_count": null,
   "id": "61b4362a",
   "metadata": {},
   "outputs": [],
   "source": []
  },
  {
   "cell_type": "code",
   "execution_count": null,
   "id": "6c1286e1",
   "metadata": {},
   "outputs": [],
   "source": []
  },
  {
   "cell_type": "code",
   "execution_count": null,
   "id": "263cf698",
   "metadata": {},
   "outputs": [],
   "source": []
  },
  {
   "cell_type": "code",
   "execution_count": null,
   "id": "8be47b64",
   "metadata": {},
   "outputs": [],
   "source": [
    "# 강사님"
   ]
  },
  {
   "cell_type": "code",
   "execution_count": null,
   "id": "d7aaa290",
   "metadata": {},
   "outputs": [],
   "source": [
    "# 전처리"
   ]
  },
  {
   "cell_type": "code",
   "execution_count": 44,
   "id": "c3ff5429",
   "metadata": {},
   "outputs": [],
   "source": [
    "df_ohe = pd.get_dummies(df)"
   ]
  },
  {
   "cell_type": "code",
   "execution_count": 45,
   "id": "8bd74a71",
   "metadata": {},
   "outputs": [
    {
     "data": {
      "text/plain": [
       "0"
      ]
     },
     "execution_count": 45,
     "metadata": {},
     "output_type": "execute_result"
    }
   ],
   "source": [
    "df_ohe.isnull().sum().sum()"
   ]
  },
  {
   "cell_type": "code",
   "execution_count": 46,
   "id": "4beeaf55",
   "metadata": {},
   "outputs": [
    {
     "data": {
      "text/html": [
       "<div>\n",
       "<style scoped>\n",
       "    .dataframe tbody tr th:only-of-type {\n",
       "        vertical-align: middle;\n",
       "    }\n",
       "\n",
       "    .dataframe tbody tr th {\n",
       "        vertical-align: top;\n",
       "    }\n",
       "\n",
       "    .dataframe thead th {\n",
       "        text-align: right;\n",
       "    }\n",
       "</style>\n",
       "<table border=\"1\" class=\"dataframe\">\n",
       "  <thead>\n",
       "    <tr style=\"text-align: right;\">\n",
       "      <th></th>\n",
       "      <th>price</th>\n",
       "      <th>odometer</th>\n",
       "      <th>age</th>\n",
       "      <th>region_SF bay area</th>\n",
       "      <th>region_abilene</th>\n",
       "      <th>region_akron / canton</th>\n",
       "      <th>region_albany</th>\n",
       "      <th>region_albuquerque</th>\n",
       "      <th>region_altoona-johnstown</th>\n",
       "      <th>region_amarillo</th>\n",
       "      <th>...</th>\n",
       "      <th>type_truck</th>\n",
       "      <th>type_van</th>\n",
       "      <th>type_wagon</th>\n",
       "      <th>paint_color_black</th>\n",
       "      <th>paint_color_blue</th>\n",
       "      <th>paint_color_grey</th>\n",
       "      <th>paint_color_others</th>\n",
       "      <th>paint_color_red</th>\n",
       "      <th>paint_color_silver</th>\n",
       "      <th>paint_color_white</th>\n",
       "    </tr>\n",
       "  </thead>\n",
       "  <tbody>\n",
       "    <tr>\n",
       "      <th>0</th>\n",
       "      <td>35990</td>\n",
       "      <td>32742.0</td>\n",
       "      <td>12.0</td>\n",
       "      <td>0</td>\n",
       "      <td>0</td>\n",
       "      <td>0</td>\n",
       "      <td>0</td>\n",
       "      <td>0</td>\n",
       "      <td>0</td>\n",
       "      <td>0</td>\n",
       "      <td>...</td>\n",
       "      <td>0</td>\n",
       "      <td>0</td>\n",
       "      <td>0</td>\n",
       "      <td>0</td>\n",
       "      <td>0</td>\n",
       "      <td>0</td>\n",
       "      <td>1</td>\n",
       "      <td>0</td>\n",
       "      <td>0</td>\n",
       "      <td>0</td>\n",
       "    </tr>\n",
       "    <tr>\n",
       "      <th>1</th>\n",
       "      <td>7500</td>\n",
       "      <td>93600.0</td>\n",
       "      <td>8.0</td>\n",
       "      <td>0</td>\n",
       "      <td>0</td>\n",
       "      <td>0</td>\n",
       "      <td>0</td>\n",
       "      <td>0</td>\n",
       "      <td>0</td>\n",
       "      <td>0</td>\n",
       "      <td>...</td>\n",
       "      <td>0</td>\n",
       "      <td>0</td>\n",
       "      <td>0</td>\n",
       "      <td>0</td>\n",
       "      <td>0</td>\n",
       "      <td>0</td>\n",
       "      <td>1</td>\n",
       "      <td>0</td>\n",
       "      <td>0</td>\n",
       "      <td>0</td>\n",
       "    </tr>\n",
       "  </tbody>\n",
       "</table>\n",
       "<p>2 rows × 583 columns</p>\n",
       "</div>"
      ],
      "text/plain": [
       "   price  odometer   age  region_SF bay area  region_abilene  \\\n",
       "0  35990   32742.0  12.0                   0               0   \n",
       "1   7500   93600.0   8.0                   0               0   \n",
       "\n",
       "   region_akron / canton  region_albany  region_albuquerque  \\\n",
       "0                      0              0                   0   \n",
       "1                      0              0                   0   \n",
       "\n",
       "   region_altoona-johnstown  region_amarillo  ...  type_truck  type_van  \\\n",
       "0                         0                0  ...           0         0   \n",
       "1                         0                0  ...           0         0   \n",
       "\n",
       "   type_wagon  paint_color_black  paint_color_blue  paint_color_grey  \\\n",
       "0           0                  0                 0                 0   \n",
       "1           0                  0                 0                 0   \n",
       "\n",
       "   paint_color_others  paint_color_red  paint_color_silver  paint_color_white  \n",
       "0                   1                0                   0                  0  \n",
       "1                   1                0                   0                  0  \n",
       "\n",
       "[2 rows x 583 columns]"
      ]
     },
     "execution_count": 46,
     "metadata": {},
     "output_type": "execute_result"
    }
   ],
   "source": [
    "df_ohe.head(2)"
   ]
  },
  {
   "cell_type": "code",
   "execution_count": 47,
   "id": "fa1b63b3",
   "metadata": {},
   "outputs": [
    {
     "name": "stdout",
     "output_type": "stream",
     "text": [
      "<class 'pandas.core.frame.DataFrame'>\n",
      "Int64Index: 387753 entries, 0 to 458212\n",
      "Columns: 583 entries, price to paint_color_white\n",
      "dtypes: float64(2), int64(1), uint8(580)\n",
      "memory usage: 234.4 MB\n"
     ]
    }
   ],
   "source": [
    "df_ohe.info()"
   ]
  },
  {
   "cell_type": "code",
   "execution_count": 48,
   "id": "28cd897f",
   "metadata": {},
   "outputs": [],
   "source": [
    "# data split\n",
    "from sklearn.model_selection import train_test_split"
   ]
  },
  {
   "cell_type": "code",
   "execution_count": 49,
   "id": "cdb12817",
   "metadata": {},
   "outputs": [],
   "source": [
    "y = df_ohe.price\n",
    "x = df_ohe.drop('price', axis=1)"
   ]
  },
  {
   "cell_type": "code",
   "execution_count": 50,
   "id": "7ccad72d",
   "metadata": {},
   "outputs": [],
   "source": [
    "x_train, x_test, y_train, y_test = train_test_split(x,y, test_size=0.3, random_state=111)"
   ]
  },
  {
   "cell_type": "code",
   "execution_count": null,
   "id": "248385fc",
   "metadata": {},
   "outputs": [],
   "source": []
  },
  {
   "cell_type": "code",
   "execution_count": null,
   "id": "b76a117f",
   "metadata": {},
   "outputs": [],
   "source": []
  },
  {
   "cell_type": "code",
   "execution_count": 51,
   "id": "5a16f4ac",
   "metadata": {},
   "outputs": [],
   "source": [
    "# 모델 생성, 예측, 평가\n",
    "from sklearn.linear_model import LinearRegression, Ridge, Lasso\n",
    "from sklearn.metrics import classification_report"
   ]
  },
  {
   "cell_type": "code",
   "execution_count": 52,
   "id": "30ffc737",
   "metadata": {},
   "outputs": [],
   "source": [
    "from sklearn.metrics import r2_score"
   ]
  },
  {
   "cell_type": "code",
   "execution_count": 53,
   "id": "caebb851",
   "metadata": {},
   "outputs": [],
   "source": [
    "lr = LinearRegression()\n",
    "rid = Ridge()\n",
    "las = Lasso()"
   ]
  },
  {
   "cell_type": "code",
   "execution_count": 54,
   "id": "0ded7dbd",
   "metadata": {},
   "outputs": [
    {
     "name": "stdout",
     "output_type": "stream",
     "text": [
      "\n",
      "==================================================\n",
      "LinearRegression\n",
      "accuracy : -3.4075075612260974e-06\n",
      "---------------------------------\n",
      "\n",
      "==================================================\n",
      "Ridge\n",
      "accuracy : -3.4082962629966573e-06\n",
      "---------------------------------\n",
      "\n",
      "==================================================\n",
      "Lasso\n",
      "accuracy : -3.464003958342232e-06\n",
      "---------------------------------\n"
     ]
    }
   ],
   "source": [
    "models = [lr, rid, las]\n",
    "\n",
    "for m in models:\n",
    "    m.fit(x_train, y_train)\n",
    "    preds = m.predict(x_test)\n",
    "    \n",
    "    print()\n",
    "    print('='*50)\n",
    "    print(m.__class__.__name__)\n",
    "    print('accuracy :', r2_score(y_test, preds))\n",
    "    print('---------------------------------')"
   ]
  },
  {
   "cell_type": "code",
   "execution_count": null,
   "id": "3575bb05",
   "metadata": {},
   "outputs": [],
   "source": []
  },
  {
   "cell_type": "code",
   "execution_count": 55,
   "id": "346af68c",
   "metadata": {},
   "outputs": [],
   "source": [
    "from sklearn.preprocessing import MinMaxScaler\n",
    "scaler = MinMaxScaler()\n",
    "\n",
    "scaler.fit(x_train)\n",
    "x_train_sc = scaler.transform(x_train)\n",
    "x_test_sc = scaler.transform(x_test)"
   ]
  },
  {
   "cell_type": "code",
   "execution_count": 56,
   "id": "f13c456f",
   "metadata": {},
   "outputs": [
    {
     "name": "stdout",
     "output_type": "stream",
     "text": [
      "\n",
      "==================================================\n",
      "LinearRegression\n",
      "accuracy : -3.4075075612260974e-06\n",
      "---------------------------------\n",
      "\n",
      "==================================================\n",
      "Ridge\n",
      "accuracy : -3.4082962629966573e-06\n",
      "---------------------------------\n",
      "\n",
      "==================================================\n",
      "Lasso\n",
      "accuracy : -3.464003958342232e-06\n",
      "---------------------------------\n"
     ]
    }
   ],
   "source": [
    "models = [lr, rid, las]\n",
    "\n",
    "for m in models:\n",
    "    m.fit(x_train, y_train)\n",
    "    preds = m.predict(x_test)\n",
    "    \n",
    "    print()\n",
    "    print('='*50)\n",
    "    print(m.__class__.__name__)\n",
    "    print('accuracy :', r2_score(y_test, preds))\n",
    "    print('---------------------------------')"
   ]
  },
  {
   "cell_type": "code",
   "execution_count": null,
   "id": "07d93196",
   "metadata": {},
   "outputs": [],
   "source": []
  },
  {
   "cell_type": "code",
   "execution_count": 57,
   "id": "51e41284",
   "metadata": {},
   "outputs": [],
   "source": [
    "from sklearn.ensemble import RandomForestRegressor\n",
    "from xgboost import XGBRegressor"
   ]
  },
  {
   "cell_type": "code",
   "execution_count": 58,
   "id": "5488ed5e",
   "metadata": {},
   "outputs": [],
   "source": [
    "rfc = RandomForestRegressor()\n",
    "xgbr = XGBRegressor()"
   ]
  },
  {
   "cell_type": "code",
   "execution_count": null,
   "id": "58008027",
   "metadata": {},
   "outputs": [],
   "source": [
    "rfc.fit(x_train_sc, y_train)\n",
    "preds_sc = rfc.predict(x_test_sc)\n",
    "print(r2_score(y_test, preds_sc))"
   ]
  },
  {
   "cell_type": "code",
   "execution_count": 59,
   "id": "30aa8c9f",
   "metadata": {},
   "outputs": [
    {
     "name": "stdout",
     "output_type": "stream",
     "text": [
      "-1.5290033882564558e-05\n"
     ]
    }
   ],
   "source": [
    "xgbr.fit(x_train_sc, y_train)\n",
    "preds_sc = xgbr.predict(x_test_sc)\n",
    "print(r2_score(y_test, preds_sc))"
   ]
  },
  {
   "cell_type": "code",
   "execution_count": null,
   "id": "8754b7b2",
   "metadata": {},
   "outputs": [],
   "source": []
  }
 ],
 "metadata": {
  "kernelspec": {
   "display_name": "Python 3 (ipykernel)",
   "language": "python",
   "name": "python3"
  },
  "language_info": {
   "codemirror_mode": {
    "name": "ipython",
    "version": 3
   },
   "file_extension": ".py",
   "mimetype": "text/x-python",
   "name": "python",
   "nbconvert_exporter": "python",
   "pygments_lexer": "ipython3",
   "version": "3.9.7"
  }
 },
 "nbformat": 4,
 "nbformat_minor": 5
}
