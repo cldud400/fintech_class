{
 "cells": [
  {
   "cell_type": "markdown",
   "id": "b181c9fc",
   "metadata": {},
   "source": [
    "## RDBMS (관계형 데이터 베이스)\n",
    "- sql언어를 사용\n",
    "- 규격이 엄격하고, 다양한 규격이 있으면 매번 수정해 주어야 한다.\n",
    "- Mysql, Oracle, Postgresql, SQLlte\n",
    "\n",
    "## NoSQL\n",
    "- sql을 사용하지 않음\n",
    "- 고정된 스키마가 없다.\n",
    "- 정해진 규격이 엄격하지 않다.\n",
    "- Mongodb, redis, Hbase, cassandra"
   ]
  },
  {
   "cell_type": "markdown",
   "id": "9e40a2a0",
   "metadata": {},
   "source": [
    "# Mongodb\n",
    "- json구조로 data(document)를 관리\n",
    "- sql : database > table > data(row, column)\n",
    "- mongodb : datebase > collection > document"
   ]
  },
  {
   "cell_type": "code",
   "execution_count": 1,
   "id": "903081ab",
   "metadata": {
    "collapsed": true
   },
   "outputs": [
    {
     "name": "stdout",
     "output_type": "stream",
     "text": [
      "Collecting pymongo\n",
      "  Downloading pymongo-4.0.1-cp39-cp39-win_amd64.whl (354 kB)\n",
      "Installing collected packages: pymongo\n",
      "Successfully installed pymongo-4.0.1\n"
     ]
    }
   ],
   "source": [
    "! pip install pymongo"
   ]
  },
  {
   "cell_type": "code",
   "execution_count": 3,
   "id": "286de5e3",
   "metadata": {},
   "outputs": [],
   "source": [
    "import pymongo"
   ]
  },
  {
   "cell_type": "code",
   "execution_count": 4,
   "id": "4e1ea204",
   "metadata": {},
   "outputs": [],
   "source": [
    "# server connect\n",
    "conn = pymongo.MongoClient()"
   ]
  },
  {
   "cell_type": "code",
   "execution_count": 6,
   "id": "71d53b7a",
   "metadata": {},
   "outputs": [],
   "source": [
    "# 있으면 연결, 없으면 생성 후 연결\n",
    "tdb = conn['testdb']"
   ]
  },
  {
   "cell_type": "code",
   "execution_count": 8,
   "id": "17862a2b",
   "metadata": {},
   "outputs": [],
   "source": [
    "# 있으면 연결, 없으면 생성 후 연결\n",
    "col_it = tdb['it']"
   ]
  },
  {
   "cell_type": "code",
   "execution_count": 9,
   "id": "b2ba4d1c",
   "metadata": {},
   "outputs": [
    {
     "data": {
      "text/plain": [
       "<pymongo.results.InsertOneResult at 0x202814b57c0>"
      ]
     },
     "execution_count": 9,
     "metadata": {},
     "output_type": "execute_result"
    }
   ],
   "source": [
    "post = {'author' : 'Mike', 'text':'my first blog post', 'tags':['mongdb','python','pymongo']}\n",
    "col_it.insert_one(post)"
   ]
  },
  {
   "cell_type": "code",
   "execution_count": 11,
   "id": "f9b63c12",
   "metadata": {},
   "outputs": [
    {
     "name": "stdout",
     "output_type": "stream",
     "text": [
      "{'_id': ObjectId('62034e9b20cad69d144ee935'), 'author': 'Mike', 'text': 'my first blog post', 'tags': ['mongdb', 'python', 'pymongo']}\n"
     ]
    }
   ],
   "source": [
    "result = col_it.find()\n",
    "for r in result:\n",
    "    print(r)"
   ]
  },
  {
   "cell_type": "code",
   "execution_count": 13,
   "id": "82470c63",
   "metadata": {},
   "outputs": [
    {
     "data": {
      "text/plain": [
       "<pymongo.results.InsertOneResult at 0x202814e5300>"
      ]
     },
     "execution_count": 13,
     "metadata": {},
     "output_type": "execute_result"
    }
   ],
   "source": [
    "col_it.insert_one({'author':'Dave Lee', 'age':45})"
   ]
  },
  {
   "cell_type": "code",
   "execution_count": 14,
   "id": "69181f26",
   "metadata": {},
   "outputs": [
    {
     "name": "stdout",
     "output_type": "stream",
     "text": [
      "{'_id': ObjectId('62034e9b20cad69d144ee935'), 'author': 'Mike', 'text': 'my first blog post', 'tags': ['mongdb', 'python', 'pymongo']}\n",
      "{'_id': ObjectId('62034f2a20cad69d144ee936'), 'author': 'Dave Lee', 'age': 45}\n"
     ]
    }
   ],
   "source": [
    "result = col_it.find()\n",
    "for r in result:\n",
    "    print(r)"
   ]
  },
  {
   "cell_type": "markdown",
   "id": "a6fc6723",
   "metadata": {},
   "source": [
    "* insert_many()"
   ]
  },
  {
   "cell_type": "code",
   "execution_count": 16,
   "id": "241d80cf",
   "metadata": {},
   "outputs": [
    {
     "data": {
      "text/plain": [
       "<pymongo.results.InsertManyResult at 0x202814d5fc0>"
      ]
     },
     "execution_count": 16,
     "metadata": {},
     "output_type": "execute_result"
    }
   ],
   "source": [
    "col_it.insert_many(\n",
    "[\n",
    "    {'author':'Dave Ahn', 'age':25},\n",
    "    {'author':'Dave','age':35}\n",
    "])"
   ]
  },
  {
   "cell_type": "code",
   "execution_count": 17,
   "id": "4937f10a",
   "metadata": {},
   "outputs": [
    {
     "name": "stdout",
     "output_type": "stream",
     "text": [
      "{'_id': ObjectId('62034e9b20cad69d144ee935'), 'author': 'Mike', 'text': 'my first blog post', 'tags': ['mongdb', 'python', 'pymongo']}\n",
      "{'_id': ObjectId('62034f2a20cad69d144ee936'), 'author': 'Dave Lee', 'age': 45}\n",
      "{'_id': ObjectId('62034f8b20cad69d144ee937'), 'author': 'Dave Ahn', 'age': 25}\n",
      "{'_id': ObjectId('62034f8b20cad69d144ee938'), 'author': 'Dave', 'age': 35}\n"
     ]
    }
   ],
   "source": [
    "result = col_it.find()\n",
    "for r in result:\n",
    "    print(r)"
   ]
  },
  {
   "cell_type": "markdown",
   "id": "c6ca2dd1",
   "metadata": {},
   "source": [
    "* document insert 하면서, _id(primary key)를 확인하는 법"
   ]
  },
  {
   "cell_type": "code",
   "execution_count": 18,
   "id": "0143a83c",
   "metadata": {},
   "outputs": [
    {
     "data": {
      "text/plain": [
       "<pymongo.results.InsertOneResult at 0x2028253e680>"
      ]
     },
     "execution_count": 18,
     "metadata": {},
     "output_type": "execute_result"
    }
   ],
   "source": [
    "post = {'author':'Dave', 'text':'my first blog post'}\n",
    "\n",
    "post_id = col_it.insert_one(post)\n",
    "post_id"
   ]
  },
  {
   "cell_type": "code",
   "execution_count": 19,
   "id": "81ba858d",
   "metadata": {},
   "outputs": [
    {
     "data": {
      "text/plain": [
       "ObjectId('6203501020cad69d144ee939')"
      ]
     },
     "execution_count": 19,
     "metadata": {},
     "output_type": "execute_result"
    }
   ],
   "source": [
    "post_id.inserted_id"
   ]
  },
  {
   "cell_type": "markdown",
   "id": "b6820a01",
   "metadata": {},
   "source": [
    "* document count"
   ]
  },
  {
   "cell_type": "code",
   "execution_count": 20,
   "id": "dd207f2f",
   "metadata": {},
   "outputs": [
    {
     "data": {
      "text/plain": [
       "5"
      ]
     },
     "execution_count": 20,
     "metadata": {},
     "output_type": "execute_result"
    }
   ],
   "source": [
    "col_it.count_documents({})"
   ]
  },
  {
   "cell_type": "code",
   "execution_count": 22,
   "id": "f6447b9c",
   "metadata": {},
   "outputs": [],
   "source": [
    "# col_it.count()"
   ]
  },
  {
   "cell_type": "markdown",
   "id": "9350c127",
   "metadata": {},
   "source": [
    "* 입력 : {}, 리스트, 중첩 딕셔너리"
   ]
  },
  {
   "cell_type": "code",
   "execution_count": 23,
   "id": "aac837be",
   "metadata": {},
   "outputs": [
    {
     "data": {
      "text/plain": [
       "<pymongo.results.InsertOneResult at 0x202814db800>"
      ]
     },
     "execution_count": 23,
     "metadata": {},
     "output_type": "execute_result"
    }
   ],
   "source": [
    "col_it.insert_one({'title':'암살', 'casting':['이정재','전지현','하정우']})"
   ]
  },
  {
   "cell_type": "code",
   "execution_count": 26,
   "id": "83c380f7",
   "metadata": {},
   "outputs": [
    {
     "data": {
      "text/plain": [
       "<pymongo.results.InsertOneResult at 0x202827506c0>"
      ]
     },
     "execution_count": 26,
     "metadata": {},
     "output_type": "execute_result"
    }
   ],
   "source": [
    "col_it.insert_one({\n",
    "        'title':'실미도',\n",
    "        'casting':['설경구','안성기'],\n",
    "        'datetime':\n",
    "        {\n",
    "            'year':'2003',\n",
    "            'month':3,\n",
    "            'val':\n",
    "            {\n",
    "                'a':\n",
    "                {\n",
    "                    'b':1\n",
    "                }\n",
    "            }\n",
    "        }\n",
    "})"
   ]
  },
  {
   "cell_type": "code",
   "execution_count": 27,
   "id": "87dd8182",
   "metadata": {},
   "outputs": [
    {
     "data": {
      "text/plain": [
       "<pymongo.results.InsertManyResult at 0x20282933fc0>"
      ]
     },
     "execution_count": 27,
     "metadata": {},
     "output_type": "execute_result"
    }
   ],
   "source": [
    "data = list()\n",
    "data.append({'name':'aaron', 'age':20})\n",
    "data.append({'name':'bob', 'age':30})\n",
    "data.append({'name':'cathy', 'age':25})\n",
    "data.append({'name':'david', 'age':27})\n",
    "data.append({'name':'erick', 'age':28})\n",
    "data.append({'name':'fox', 'age':32})\n",
    "data.append({'name':'hmn'})\n",
    "\n",
    "col_it.insert_many(data)"
   ]
  },
  {
   "cell_type": "code",
   "execution_count": 30,
   "id": "2b69a724",
   "metadata": {},
   "outputs": [
    {
     "data": {
      "text/plain": [
       "14"
      ]
     },
     "execution_count": 30,
     "metadata": {},
     "output_type": "execute_result"
    }
   ],
   "source": [
    "col_it.count_documents({})"
   ]
  },
  {
   "cell_type": "markdown",
   "id": "980d8755",
   "metadata": {},
   "source": [
    "### document 검색하기"
   ]
  },
  {
   "cell_type": "markdown",
   "id": "789dc7ea",
   "metadata": {},
   "source": [
    "- find_one({key:value})"
   ]
  },
  {
   "cell_type": "code",
   "execution_count": 32,
   "id": "4f6d1b1c",
   "metadata": {},
   "outputs": [
    {
     "data": {
      "text/plain": [
       "{'_id': ObjectId('62034e9b20cad69d144ee935'),\n",
       " 'author': 'Mike',\n",
       " 'text': 'my first blog post',\n",
       " 'tags': ['mongdb', 'python', 'pymongo']}"
      ]
     },
     "execution_count": 32,
     "metadata": {},
     "output_type": "execute_result"
    }
   ],
   "source": [
    "col_it.find_one()"
   ]
  },
  {
   "cell_type": "code",
   "execution_count": 33,
   "id": "aca2fcad",
   "metadata": {},
   "outputs": [
    {
     "name": "stdout",
     "output_type": "stream",
     "text": [
      "{'_id': ObjectId('62034e9b20cad69d144ee935'), 'author': 'Mike', 'text': 'my first blog post', 'tags': ['mongdb', 'python', 'pymongo']}\n",
      "{'_id': ObjectId('62034f2a20cad69d144ee936'), 'author': 'Dave Lee', 'age': 45}\n",
      "{'_id': ObjectId('62034f8b20cad69d144ee937'), 'author': 'Dave Ahn', 'age': 25}\n",
      "{'_id': ObjectId('62034f8b20cad69d144ee938'), 'author': 'Dave', 'age': 35}\n",
      "{'_id': ObjectId('6203501020cad69d144ee939'), 'author': 'Dave', 'text': 'my first blog post'}\n",
      "{'_id': ObjectId('6203510020cad69d144ee93a'), 'title': '암살', 'casting': ['이정재', '전지현', '하정우']}\n",
      "{'_id': ObjectId('620351bc20cad69d144ee93b'), 'title': '실미도', 'casting': ['설경구', '안성기'], 'datetime': {'year': '2003', 'month': 3, 'val': {'a': {'b': 1}}}}\n",
      "{'_id': ObjectId('6203522020cad69d144ee93c'), 'name': 'aaron', 'age': 20}\n",
      "{'_id': ObjectId('6203522020cad69d144ee93d'), 'name': 'bob', 'age': 30}\n",
      "{'_id': ObjectId('6203522020cad69d144ee93e'), 'name': 'cathy', 'age': 25}\n",
      "{'_id': ObjectId('6203522020cad69d144ee93f'), 'name': 'david', 'age': 27}\n",
      "{'_id': ObjectId('6203522020cad69d144ee940'), 'name': 'erick', 'age': 28}\n",
      "{'_id': ObjectId('6203522020cad69d144ee941'), 'name': 'fox', 'age': 32}\n",
      "{'_id': ObjectId('6203522020cad69d144ee942'), 'name': 'hmn'}\n"
     ]
    }
   ],
   "source": [
    "results = col_it.find()\n",
    "for r in results:\n",
    "    print(r)"
   ]
  },
  {
   "cell_type": "code",
   "execution_count": 34,
   "id": "7c663f77",
   "metadata": {},
   "outputs": [
    {
     "name": "stdout",
     "output_type": "stream",
     "text": [
      "{'_id': ObjectId('62034f8b20cad69d144ee938'), 'author': 'Dave', 'age': 35}\n",
      "{'_id': ObjectId('6203501020cad69d144ee939'), 'author': 'Dave', 'text': 'my first blog post'}\n"
     ]
    }
   ],
   "source": [
    "results = col_it.find({'author':'Dave'})\n",
    "for r in results:\n",
    "    print(r)"
   ]
  },
  {
   "cell_type": "code",
   "execution_count": 37,
   "id": "390ece8f",
   "metadata": {},
   "outputs": [
    {
     "data": {
      "text/plain": [
       "2"
      ]
     },
     "execution_count": 37,
     "metadata": {},
     "output_type": "execute_result"
    }
   ],
   "source": [
    "col_it.count_documents({'author':'Dave'})"
   ]
  },
  {
   "cell_type": "code",
   "execution_count": 39,
   "id": "99919b5a",
   "metadata": {},
   "outputs": [
    {
     "name": "stdout",
     "output_type": "stream",
     "text": [
      "{'_id': ObjectId('62034e9b20cad69d144ee935'), 'author': 'Mike', 'text': 'my first blog post', 'tags': ['mongdb', 'python', 'pymongo']}\n",
      "{'_id': ObjectId('6203501020cad69d144ee939'), 'author': 'Dave', 'text': 'my first blog post'}\n",
      "{'_id': ObjectId('6203510020cad69d144ee93a'), 'title': '암살', 'casting': ['이정재', '전지현', '하정우']}\n",
      "{'_id': ObjectId('620351bc20cad69d144ee93b'), 'title': '실미도', 'casting': ['설경구', '안성기'], 'datetime': {'year': '2003', 'month': 3, 'val': {'a': {'b': 1}}}}\n",
      "{'_id': ObjectId('6203522020cad69d144ee942'), 'name': 'hmn'}\n",
      "{'_id': ObjectId('6203522020cad69d144ee93c'), 'name': 'aaron', 'age': 20}\n",
      "{'_id': ObjectId('62034f8b20cad69d144ee937'), 'author': 'Dave Ahn', 'age': 25}\n",
      "{'_id': ObjectId('6203522020cad69d144ee93e'), 'name': 'cathy', 'age': 25}\n",
      "{'_id': ObjectId('6203522020cad69d144ee93f'), 'name': 'david', 'age': 27}\n",
      "{'_id': ObjectId('6203522020cad69d144ee940'), 'name': 'erick', 'age': 28}\n",
      "{'_id': ObjectId('6203522020cad69d144ee93d'), 'name': 'bob', 'age': 30}\n",
      "{'_id': ObjectId('6203522020cad69d144ee941'), 'name': 'fox', 'age': 32}\n",
      "{'_id': ObjectId('62034f8b20cad69d144ee938'), 'author': 'Dave', 'age': 35}\n",
      "{'_id': ObjectId('62034f2a20cad69d144ee936'), 'author': 'Dave Lee', 'age': 45}\n"
     ]
    }
   ],
   "source": [
    "for r in col_it.find().sort('age'):\n",
    "    print(r)"
   ]
  },
  {
   "cell_type": "markdown",
   "id": "249e761f",
   "metadata": {},
   "source": [
    "### document update : update_one(), update_many()"
   ]
  },
  {
   "cell_type": "code",
   "execution_count": 43,
   "id": "52c5558e",
   "metadata": {},
   "outputs": [
    {
     "data": {
      "text/plain": [
       "{'_id': ObjectId('62034f8b20cad69d144ee938'), 'author': 'Dave', 'age': 35}"
      ]
     },
     "execution_count": 43,
     "metadata": {},
     "output_type": "execute_result"
    }
   ],
   "source": [
    "col_it.find_one({'author':'Dave'})"
   ]
  },
  {
   "cell_type": "code",
   "execution_count": 44,
   "id": "b20011aa",
   "metadata": {},
   "outputs": [
    {
     "data": {
      "text/plain": [
       "<pymongo.results.UpdateResult at 0x20282859700>"
      ]
     },
     "execution_count": 44,
     "metadata": {},
     "output_type": "execute_result"
    }
   ],
   "source": [
    "col_it.update_one({'author':'Dave'},\n",
    "                 {'$set':{'text':'Hi Dave'}})"
   ]
  },
  {
   "cell_type": "code",
   "execution_count": 46,
   "id": "f42d56cf",
   "metadata": {},
   "outputs": [
    {
     "name": "stdout",
     "output_type": "stream",
     "text": [
      "{'_id': ObjectId('62034f8b20cad69d144ee938'), 'author': 'Dave', 'age': 35, 'text': 'Hi Dave'}\n",
      "{'_id': ObjectId('6203501020cad69d144ee939'), 'author': 'Dave', 'text': 'my first blog post'}\n"
     ]
    }
   ],
   "source": [
    "for d in col_it.find({'author':'Dave'}):\n",
    "    print(d)"
   ]
  },
  {
   "cell_type": "code",
   "execution_count": 47,
   "id": "4fa1b83b",
   "metadata": {},
   "outputs": [
    {
     "data": {
      "text/plain": [
       "<pymongo.results.UpdateResult at 0x202814e5cc0>"
      ]
     },
     "execution_count": 47,
     "metadata": {},
     "output_type": "execute_result"
    }
   ],
   "source": [
    "col_it.update_one({'author':'Dave'},\n",
    "                 {'$set':{'age':40}})"
   ]
  },
  {
   "cell_type": "code",
   "execution_count": 48,
   "id": "042e78b0",
   "metadata": {},
   "outputs": [
    {
     "name": "stdout",
     "output_type": "stream",
     "text": [
      "{'_id': ObjectId('62034f8b20cad69d144ee938'), 'author': 'Dave', 'age': 40, 'text': 'Hi Dave'}\n",
      "{'_id': ObjectId('6203501020cad69d144ee939'), 'author': 'Dave', 'text': 'my first blog post'}\n"
     ]
    }
   ],
   "source": [
    "for d in col_it.find({'author':'Dave'}):\n",
    "    print(d)"
   ]
  },
  {
   "cell_type": "code",
   "execution_count": 49,
   "id": "42ed8cdc",
   "metadata": {},
   "outputs": [
    {
     "data": {
      "text/plain": [
       "<pymongo.results.UpdateResult at 0x2028270fd80>"
      ]
     },
     "execution_count": 49,
     "metadata": {},
     "output_type": "execute_result"
    }
   ],
   "source": [
    "col_it.update_many({'author':'Dave'},\n",
    "                 {'$set':{'text':'hi dave'}})"
   ]
  },
  {
   "cell_type": "code",
   "execution_count": 50,
   "id": "0845267d",
   "metadata": {},
   "outputs": [
    {
     "name": "stdout",
     "output_type": "stream",
     "text": [
      "{'_id': ObjectId('62034f8b20cad69d144ee938'), 'author': 'Dave', 'age': 40, 'text': 'hi dave'}\n",
      "{'_id': ObjectId('6203501020cad69d144ee939'), 'author': 'Dave', 'text': 'hi dave'}\n"
     ]
    }
   ],
   "source": [
    "for d in col_it.find({'author':'Dave'}):\n",
    "    print(d)"
   ]
  },
  {
   "cell_type": "code",
   "execution_count": 51,
   "id": "00234d2a",
   "metadata": {},
   "outputs": [
    {
     "name": "stdout",
     "output_type": "stream",
     "text": [
      "{'_id': ObjectId('62034e9b20cad69d144ee935'), 'author': 'Mike', 'text': 'my first blog post', 'tags': ['mongdb', 'python', 'pymongo']}\n",
      "{'_id': ObjectId('62034f2a20cad69d144ee936'), 'author': 'Dave Lee', 'age': 45}\n",
      "{'_id': ObjectId('62034f8b20cad69d144ee937'), 'author': 'Dave Ahn', 'age': 25}\n",
      "{'_id': ObjectId('62034f8b20cad69d144ee938'), 'author': 'Dave', 'age': 40, 'text': 'hi dave'}\n",
      "{'_id': ObjectId('6203501020cad69d144ee939'), 'author': 'Dave', 'text': 'hi dave'}\n",
      "{'_id': ObjectId('6203510020cad69d144ee93a'), 'title': '암살', 'casting': ['이정재', '전지현', '하정우']}\n",
      "{'_id': ObjectId('620351bc20cad69d144ee93b'), 'title': '실미도', 'casting': ['설경구', '안성기'], 'datetime': {'year': '2003', 'month': 3, 'val': {'a': {'b': 1}}}}\n",
      "{'_id': ObjectId('6203522020cad69d144ee93c'), 'name': 'aaron', 'age': 20}\n",
      "{'_id': ObjectId('6203522020cad69d144ee93d'), 'name': 'bob', 'age': 30}\n",
      "{'_id': ObjectId('6203522020cad69d144ee93e'), 'name': 'cathy', 'age': 25}\n",
      "{'_id': ObjectId('6203522020cad69d144ee93f'), 'name': 'david', 'age': 27}\n",
      "{'_id': ObjectId('6203522020cad69d144ee940'), 'name': 'erick', 'age': 28}\n",
      "{'_id': ObjectId('6203522020cad69d144ee941'), 'name': 'fox', 'age': 32}\n",
      "{'_id': ObjectId('6203522020cad69d144ee942'), 'name': 'hmn'}\n"
     ]
    }
   ],
   "source": [
    "for d in col_it.find():\n",
    "    print(d)"
   ]
  },
  {
   "cell_type": "markdown",
   "id": "cee16802",
   "metadata": {},
   "source": [
    "### document delete : delete_one(), delete_many()"
   ]
  },
  {
   "cell_type": "code",
   "execution_count": 53,
   "id": "6c44f8f9",
   "metadata": {},
   "outputs": [
    {
     "name": "stdout",
     "output_type": "stream",
     "text": [
      "{'_id': ObjectId('62034f2a20cad69d144ee936'), 'author': 'Dave Lee', 'age': 45}\n"
     ]
    }
   ],
   "source": [
    "for d in col_it.find({'author':'Dave Lee'}):\n",
    "    print(d)"
   ]
  },
  {
   "cell_type": "code",
   "execution_count": 54,
   "id": "20d9e4dc",
   "metadata": {},
   "outputs": [
    {
     "data": {
      "text/plain": [
       "<pymongo.results.DeleteResult at 0x2028270d380>"
      ]
     },
     "execution_count": 54,
     "metadata": {},
     "output_type": "execute_result"
    }
   ],
   "source": [
    "col_it.delete_one({'author':'Dave Lee'})"
   ]
  },
  {
   "cell_type": "code",
   "execution_count": 55,
   "id": "02973389",
   "metadata": {},
   "outputs": [],
   "source": [
    "for d in col_it.find({'author':'Dave Lee'}):\n",
    "    print(d)"
   ]
  },
  {
   "cell_type": "code",
   "execution_count": 56,
   "id": "2ffc1b99",
   "metadata": {},
   "outputs": [
    {
     "name": "stdout",
     "output_type": "stream",
     "text": [
      "{'_id': ObjectId('62034f8b20cad69d144ee938'), 'author': 'Dave', 'age': 40, 'text': 'hi dave'}\n",
      "{'_id': ObjectId('6203501020cad69d144ee939'), 'author': 'Dave', 'text': 'hi dave'}\n"
     ]
    }
   ],
   "source": [
    "for d in col_it.find({'author':'Dave'}):\n",
    "    print(d)"
   ]
  },
  {
   "cell_type": "code",
   "execution_count": 57,
   "id": "c8fbf4f6",
   "metadata": {},
   "outputs": [
    {
     "data": {
      "text/plain": [
       "<pymongo.results.DeleteResult at 0x2028270d2c0>"
      ]
     },
     "execution_count": 57,
     "metadata": {},
     "output_type": "execute_result"
    }
   ],
   "source": [
    "col_it.delete_many({'author':'Dave'})"
   ]
  },
  {
   "cell_type": "code",
   "execution_count": 58,
   "id": "2f1e338b",
   "metadata": {},
   "outputs": [],
   "source": [
    "for d in col_it.find({'author':'Dave'}):\n",
    "    print(d)"
   ]
  },
  {
   "cell_type": "code",
   "execution_count": 60,
   "id": "51a0463a",
   "metadata": {},
   "outputs": [
    {
     "name": "stdout",
     "output_type": "stream",
     "text": [
      "{'_id': ObjectId('62034e9b20cad69d144ee935'), 'author': 'Mike', 'text': 'my first blog post', 'tags': ['mongdb', 'python', 'pymongo']}\n",
      "{'_id': ObjectId('62034f8b20cad69d144ee937'), 'author': 'Dave Ahn', 'age': 25}\n",
      "{'_id': ObjectId('6203510020cad69d144ee93a'), 'title': '암살', 'casting': ['이정재', '전지현', '하정우']}\n",
      "{'_id': ObjectId('620351bc20cad69d144ee93b'), 'title': '실미도', 'casting': ['설경구', '안성기'], 'datetime': {'year': '2003', 'month': 3, 'val': {'a': {'b': 1}}}}\n",
      "{'_id': ObjectId('6203522020cad69d144ee93c'), 'name': 'aaron', 'age': 20}\n",
      "{'_id': ObjectId('6203522020cad69d144ee93d'), 'name': 'bob', 'age': 30}\n",
      "{'_id': ObjectId('6203522020cad69d144ee93e'), 'name': 'cathy', 'age': 25}\n",
      "{'_id': ObjectId('6203522020cad69d144ee93f'), 'name': 'david', 'age': 27}\n",
      "{'_id': ObjectId('6203522020cad69d144ee940'), 'name': 'erick', 'age': 28}\n",
      "{'_id': ObjectId('6203522020cad69d144ee941'), 'name': 'fox', 'age': 32}\n",
      "{'_id': ObjectId('6203522020cad69d144ee942'), 'name': 'hmn'}\n"
     ]
    }
   ],
   "source": [
    "for d in col_it.find():\n",
    "    print(d)"
   ]
  },
  {
   "cell_type": "code",
   "execution_count": 63,
   "id": "8319533f",
   "metadata": {},
   "outputs": [],
   "source": [
    "# Database 생성\n",
    "boos = conn.books"
   ]
  },
  {
   "cell_type": "code",
   "execution_count": 65,
   "id": "4a764531",
   "metadata": {},
   "outputs": [],
   "source": [
    "# Colletion 생성\n",
    "it_book = boos.it_books"
   ]
  },
  {
   "cell_type": "code",
   "execution_count": 61,
   "id": "0b7e280c",
   "metadata": {},
   "outputs": [],
   "source": [
    "data = list()\n",
    "for index in range(100):\n",
    "    data.append({'author':'Dave Lee', 'publisher':'bit_company', 'number':index})"
   ]
  },
  {
   "cell_type": "code",
   "execution_count": 66,
   "id": "889ef0a9",
   "metadata": {
    "collapsed": true
   },
   "outputs": [
    {
     "data": {
      "text/plain": [
       "[{'author': 'Dave Lee', 'publisher': 'bit_company', 'number': 0},\n",
       " {'author': 'Dave Lee', 'publisher': 'bit_company', 'number': 1},\n",
       " {'author': 'Dave Lee', 'publisher': 'bit_company', 'number': 2},\n",
       " {'author': 'Dave Lee', 'publisher': 'bit_company', 'number': 3},\n",
       " {'author': 'Dave Lee', 'publisher': 'bit_company', 'number': 4},\n",
       " {'author': 'Dave Lee', 'publisher': 'bit_company', 'number': 5},\n",
       " {'author': 'Dave Lee', 'publisher': 'bit_company', 'number': 6},\n",
       " {'author': 'Dave Lee', 'publisher': 'bit_company', 'number': 7},\n",
       " {'author': 'Dave Lee', 'publisher': 'bit_company', 'number': 8},\n",
       " {'author': 'Dave Lee', 'publisher': 'bit_company', 'number': 9},\n",
       " {'author': 'Dave Lee', 'publisher': 'bit_company', 'number': 10},\n",
       " {'author': 'Dave Lee', 'publisher': 'bit_company', 'number': 11},\n",
       " {'author': 'Dave Lee', 'publisher': 'bit_company', 'number': 12},\n",
       " {'author': 'Dave Lee', 'publisher': 'bit_company', 'number': 13},\n",
       " {'author': 'Dave Lee', 'publisher': 'bit_company', 'number': 14},\n",
       " {'author': 'Dave Lee', 'publisher': 'bit_company', 'number': 15},\n",
       " {'author': 'Dave Lee', 'publisher': 'bit_company', 'number': 16},\n",
       " {'author': 'Dave Lee', 'publisher': 'bit_company', 'number': 17},\n",
       " {'author': 'Dave Lee', 'publisher': 'bit_company', 'number': 18},\n",
       " {'author': 'Dave Lee', 'publisher': 'bit_company', 'number': 19},\n",
       " {'author': 'Dave Lee', 'publisher': 'bit_company', 'number': 20},\n",
       " {'author': 'Dave Lee', 'publisher': 'bit_company', 'number': 21},\n",
       " {'author': 'Dave Lee', 'publisher': 'bit_company', 'number': 22},\n",
       " {'author': 'Dave Lee', 'publisher': 'bit_company', 'number': 23},\n",
       " {'author': 'Dave Lee', 'publisher': 'bit_company', 'number': 24},\n",
       " {'author': 'Dave Lee', 'publisher': 'bit_company', 'number': 25},\n",
       " {'author': 'Dave Lee', 'publisher': 'bit_company', 'number': 26},\n",
       " {'author': 'Dave Lee', 'publisher': 'bit_company', 'number': 27},\n",
       " {'author': 'Dave Lee', 'publisher': 'bit_company', 'number': 28},\n",
       " {'author': 'Dave Lee', 'publisher': 'bit_company', 'number': 29},\n",
       " {'author': 'Dave Lee', 'publisher': 'bit_company', 'number': 30},\n",
       " {'author': 'Dave Lee', 'publisher': 'bit_company', 'number': 31},\n",
       " {'author': 'Dave Lee', 'publisher': 'bit_company', 'number': 32},\n",
       " {'author': 'Dave Lee', 'publisher': 'bit_company', 'number': 33},\n",
       " {'author': 'Dave Lee', 'publisher': 'bit_company', 'number': 34},\n",
       " {'author': 'Dave Lee', 'publisher': 'bit_company', 'number': 35},\n",
       " {'author': 'Dave Lee', 'publisher': 'bit_company', 'number': 36},\n",
       " {'author': 'Dave Lee', 'publisher': 'bit_company', 'number': 37},\n",
       " {'author': 'Dave Lee', 'publisher': 'bit_company', 'number': 38},\n",
       " {'author': 'Dave Lee', 'publisher': 'bit_company', 'number': 39},\n",
       " {'author': 'Dave Lee', 'publisher': 'bit_company', 'number': 40},\n",
       " {'author': 'Dave Lee', 'publisher': 'bit_company', 'number': 41},\n",
       " {'author': 'Dave Lee', 'publisher': 'bit_company', 'number': 42},\n",
       " {'author': 'Dave Lee', 'publisher': 'bit_company', 'number': 43},\n",
       " {'author': 'Dave Lee', 'publisher': 'bit_company', 'number': 44},\n",
       " {'author': 'Dave Lee', 'publisher': 'bit_company', 'number': 45},\n",
       " {'author': 'Dave Lee', 'publisher': 'bit_company', 'number': 46},\n",
       " {'author': 'Dave Lee', 'publisher': 'bit_company', 'number': 47},\n",
       " {'author': 'Dave Lee', 'publisher': 'bit_company', 'number': 48},\n",
       " {'author': 'Dave Lee', 'publisher': 'bit_company', 'number': 49},\n",
       " {'author': 'Dave Lee', 'publisher': 'bit_company', 'number': 50},\n",
       " {'author': 'Dave Lee', 'publisher': 'bit_company', 'number': 51},\n",
       " {'author': 'Dave Lee', 'publisher': 'bit_company', 'number': 52},\n",
       " {'author': 'Dave Lee', 'publisher': 'bit_company', 'number': 53},\n",
       " {'author': 'Dave Lee', 'publisher': 'bit_company', 'number': 54},\n",
       " {'author': 'Dave Lee', 'publisher': 'bit_company', 'number': 55},\n",
       " {'author': 'Dave Lee', 'publisher': 'bit_company', 'number': 56},\n",
       " {'author': 'Dave Lee', 'publisher': 'bit_company', 'number': 57},\n",
       " {'author': 'Dave Lee', 'publisher': 'bit_company', 'number': 58},\n",
       " {'author': 'Dave Lee', 'publisher': 'bit_company', 'number': 59},\n",
       " {'author': 'Dave Lee', 'publisher': 'bit_company', 'number': 60},\n",
       " {'author': 'Dave Lee', 'publisher': 'bit_company', 'number': 61},\n",
       " {'author': 'Dave Lee', 'publisher': 'bit_company', 'number': 62},\n",
       " {'author': 'Dave Lee', 'publisher': 'bit_company', 'number': 63},\n",
       " {'author': 'Dave Lee', 'publisher': 'bit_company', 'number': 64},\n",
       " {'author': 'Dave Lee', 'publisher': 'bit_company', 'number': 65},\n",
       " {'author': 'Dave Lee', 'publisher': 'bit_company', 'number': 66},\n",
       " {'author': 'Dave Lee', 'publisher': 'bit_company', 'number': 67},\n",
       " {'author': 'Dave Lee', 'publisher': 'bit_company', 'number': 68},\n",
       " {'author': 'Dave Lee', 'publisher': 'bit_company', 'number': 69},\n",
       " {'author': 'Dave Lee', 'publisher': 'bit_company', 'number': 70},\n",
       " {'author': 'Dave Lee', 'publisher': 'bit_company', 'number': 71},\n",
       " {'author': 'Dave Lee', 'publisher': 'bit_company', 'number': 72},\n",
       " {'author': 'Dave Lee', 'publisher': 'bit_company', 'number': 73},\n",
       " {'author': 'Dave Lee', 'publisher': 'bit_company', 'number': 74},\n",
       " {'author': 'Dave Lee', 'publisher': 'bit_company', 'number': 75},\n",
       " {'author': 'Dave Lee', 'publisher': 'bit_company', 'number': 76},\n",
       " {'author': 'Dave Lee', 'publisher': 'bit_company', 'number': 77},\n",
       " {'author': 'Dave Lee', 'publisher': 'bit_company', 'number': 78},\n",
       " {'author': 'Dave Lee', 'publisher': 'bit_company', 'number': 79},\n",
       " {'author': 'Dave Lee', 'publisher': 'bit_company', 'number': 80},\n",
       " {'author': 'Dave Lee', 'publisher': 'bit_company', 'number': 81},\n",
       " {'author': 'Dave Lee', 'publisher': 'bit_company', 'number': 82},\n",
       " {'author': 'Dave Lee', 'publisher': 'bit_company', 'number': 83},\n",
       " {'author': 'Dave Lee', 'publisher': 'bit_company', 'number': 84},\n",
       " {'author': 'Dave Lee', 'publisher': 'bit_company', 'number': 85},\n",
       " {'author': 'Dave Lee', 'publisher': 'bit_company', 'number': 86},\n",
       " {'author': 'Dave Lee', 'publisher': 'bit_company', 'number': 87},\n",
       " {'author': 'Dave Lee', 'publisher': 'bit_company', 'number': 88},\n",
       " {'author': 'Dave Lee', 'publisher': 'bit_company', 'number': 89},\n",
       " {'author': 'Dave Lee', 'publisher': 'bit_company', 'number': 90},\n",
       " {'author': 'Dave Lee', 'publisher': 'bit_company', 'number': 91},\n",
       " {'author': 'Dave Lee', 'publisher': 'bit_company', 'number': 92},\n",
       " {'author': 'Dave Lee', 'publisher': 'bit_company', 'number': 93},\n",
       " {'author': 'Dave Lee', 'publisher': 'bit_company', 'number': 94},\n",
       " {'author': 'Dave Lee', 'publisher': 'bit_company', 'number': 95},\n",
       " {'author': 'Dave Lee', 'publisher': 'bit_company', 'number': 96},\n",
       " {'author': 'Dave Lee', 'publisher': 'bit_company', 'number': 97},\n",
       " {'author': 'Dave Lee', 'publisher': 'bit_company', 'number': 98},\n",
       " {'author': 'Dave Lee', 'publisher': 'bit_company', 'number': 99}]"
      ]
     },
     "execution_count": 66,
     "metadata": {},
     "output_type": "execute_result"
    }
   ],
   "source": [
    "data"
   ]
  },
  {
   "cell_type": "code",
   "execution_count": 67,
   "id": "098e8e14",
   "metadata": {},
   "outputs": [
    {
     "data": {
      "text/plain": [
       "<pymongo.results.InsertManyResult at 0x202828b9d40>"
      ]
     },
     "execution_count": 67,
     "metadata": {},
     "output_type": "execute_result"
    }
   ],
   "source": [
    "it_book.insert_many(data)"
   ]
  },
  {
   "cell_type": "code",
   "execution_count": 68,
   "id": "04d4de50",
   "metadata": {
    "collapsed": true
   },
   "outputs": [
    {
     "name": "stdout",
     "output_type": "stream",
     "text": [
      "{'_id': ObjectId('620356d520cad69d144ee943'), 'author': 'Dave Lee', 'publisher': 'bit_company', 'number': 0}\n",
      "{'_id': ObjectId('620356d520cad69d144ee944'), 'author': 'Dave Lee', 'publisher': 'bit_company', 'number': 1}\n",
      "{'_id': ObjectId('620356d520cad69d144ee945'), 'author': 'Dave Lee', 'publisher': 'bit_company', 'number': 2}\n",
      "{'_id': ObjectId('620356d520cad69d144ee946'), 'author': 'Dave Lee', 'publisher': 'bit_company', 'number': 3}\n",
      "{'_id': ObjectId('620356d520cad69d144ee947'), 'author': 'Dave Lee', 'publisher': 'bit_company', 'number': 4}\n",
      "{'_id': ObjectId('620356d520cad69d144ee948'), 'author': 'Dave Lee', 'publisher': 'bit_company', 'number': 5}\n",
      "{'_id': ObjectId('620356d520cad69d144ee949'), 'author': 'Dave Lee', 'publisher': 'bit_company', 'number': 6}\n",
      "{'_id': ObjectId('620356d520cad69d144ee94a'), 'author': 'Dave Lee', 'publisher': 'bit_company', 'number': 7}\n",
      "{'_id': ObjectId('620356d520cad69d144ee94b'), 'author': 'Dave Lee', 'publisher': 'bit_company', 'number': 8}\n",
      "{'_id': ObjectId('620356d520cad69d144ee94c'), 'author': 'Dave Lee', 'publisher': 'bit_company', 'number': 9}\n",
      "{'_id': ObjectId('620356d520cad69d144ee94d'), 'author': 'Dave Lee', 'publisher': 'bit_company', 'number': 10}\n",
      "{'_id': ObjectId('620356d520cad69d144ee94e'), 'author': 'Dave Lee', 'publisher': 'bit_company', 'number': 11}\n",
      "{'_id': ObjectId('620356d520cad69d144ee94f'), 'author': 'Dave Lee', 'publisher': 'bit_company', 'number': 12}\n",
      "{'_id': ObjectId('620356d520cad69d144ee950'), 'author': 'Dave Lee', 'publisher': 'bit_company', 'number': 13}\n",
      "{'_id': ObjectId('620356d520cad69d144ee951'), 'author': 'Dave Lee', 'publisher': 'bit_company', 'number': 14}\n",
      "{'_id': ObjectId('620356d520cad69d144ee952'), 'author': 'Dave Lee', 'publisher': 'bit_company', 'number': 15}\n",
      "{'_id': ObjectId('620356d520cad69d144ee953'), 'author': 'Dave Lee', 'publisher': 'bit_company', 'number': 16}\n",
      "{'_id': ObjectId('620356d520cad69d144ee954'), 'author': 'Dave Lee', 'publisher': 'bit_company', 'number': 17}\n",
      "{'_id': ObjectId('620356d520cad69d144ee955'), 'author': 'Dave Lee', 'publisher': 'bit_company', 'number': 18}\n",
      "{'_id': ObjectId('620356d520cad69d144ee956'), 'author': 'Dave Lee', 'publisher': 'bit_company', 'number': 19}\n",
      "{'_id': ObjectId('620356d520cad69d144ee957'), 'author': 'Dave Lee', 'publisher': 'bit_company', 'number': 20}\n",
      "{'_id': ObjectId('620356d520cad69d144ee958'), 'author': 'Dave Lee', 'publisher': 'bit_company', 'number': 21}\n",
      "{'_id': ObjectId('620356d520cad69d144ee959'), 'author': 'Dave Lee', 'publisher': 'bit_company', 'number': 22}\n",
      "{'_id': ObjectId('620356d520cad69d144ee95a'), 'author': 'Dave Lee', 'publisher': 'bit_company', 'number': 23}\n",
      "{'_id': ObjectId('620356d520cad69d144ee95b'), 'author': 'Dave Lee', 'publisher': 'bit_company', 'number': 24}\n",
      "{'_id': ObjectId('620356d520cad69d144ee95c'), 'author': 'Dave Lee', 'publisher': 'bit_company', 'number': 25}\n",
      "{'_id': ObjectId('620356d520cad69d144ee95d'), 'author': 'Dave Lee', 'publisher': 'bit_company', 'number': 26}\n",
      "{'_id': ObjectId('620356d520cad69d144ee95e'), 'author': 'Dave Lee', 'publisher': 'bit_company', 'number': 27}\n",
      "{'_id': ObjectId('620356d520cad69d144ee95f'), 'author': 'Dave Lee', 'publisher': 'bit_company', 'number': 28}\n",
      "{'_id': ObjectId('620356d520cad69d144ee960'), 'author': 'Dave Lee', 'publisher': 'bit_company', 'number': 29}\n",
      "{'_id': ObjectId('620356d520cad69d144ee961'), 'author': 'Dave Lee', 'publisher': 'bit_company', 'number': 30}\n",
      "{'_id': ObjectId('620356d520cad69d144ee962'), 'author': 'Dave Lee', 'publisher': 'bit_company', 'number': 31}\n",
      "{'_id': ObjectId('620356d520cad69d144ee963'), 'author': 'Dave Lee', 'publisher': 'bit_company', 'number': 32}\n",
      "{'_id': ObjectId('620356d520cad69d144ee964'), 'author': 'Dave Lee', 'publisher': 'bit_company', 'number': 33}\n",
      "{'_id': ObjectId('620356d520cad69d144ee965'), 'author': 'Dave Lee', 'publisher': 'bit_company', 'number': 34}\n",
      "{'_id': ObjectId('620356d520cad69d144ee966'), 'author': 'Dave Lee', 'publisher': 'bit_company', 'number': 35}\n",
      "{'_id': ObjectId('620356d520cad69d144ee967'), 'author': 'Dave Lee', 'publisher': 'bit_company', 'number': 36}\n",
      "{'_id': ObjectId('620356d520cad69d144ee968'), 'author': 'Dave Lee', 'publisher': 'bit_company', 'number': 37}\n",
      "{'_id': ObjectId('620356d520cad69d144ee969'), 'author': 'Dave Lee', 'publisher': 'bit_company', 'number': 38}\n",
      "{'_id': ObjectId('620356d520cad69d144ee96a'), 'author': 'Dave Lee', 'publisher': 'bit_company', 'number': 39}\n",
      "{'_id': ObjectId('620356d520cad69d144ee96b'), 'author': 'Dave Lee', 'publisher': 'bit_company', 'number': 40}\n",
      "{'_id': ObjectId('620356d520cad69d144ee96c'), 'author': 'Dave Lee', 'publisher': 'bit_company', 'number': 41}\n",
      "{'_id': ObjectId('620356d520cad69d144ee96d'), 'author': 'Dave Lee', 'publisher': 'bit_company', 'number': 42}\n",
      "{'_id': ObjectId('620356d520cad69d144ee96e'), 'author': 'Dave Lee', 'publisher': 'bit_company', 'number': 43}\n",
      "{'_id': ObjectId('620356d520cad69d144ee96f'), 'author': 'Dave Lee', 'publisher': 'bit_company', 'number': 44}\n",
      "{'_id': ObjectId('620356d520cad69d144ee970'), 'author': 'Dave Lee', 'publisher': 'bit_company', 'number': 45}\n",
      "{'_id': ObjectId('620356d520cad69d144ee971'), 'author': 'Dave Lee', 'publisher': 'bit_company', 'number': 46}\n",
      "{'_id': ObjectId('620356d520cad69d144ee972'), 'author': 'Dave Lee', 'publisher': 'bit_company', 'number': 47}\n",
      "{'_id': ObjectId('620356d520cad69d144ee973'), 'author': 'Dave Lee', 'publisher': 'bit_company', 'number': 48}\n",
      "{'_id': ObjectId('620356d520cad69d144ee974'), 'author': 'Dave Lee', 'publisher': 'bit_company', 'number': 49}\n",
      "{'_id': ObjectId('620356d520cad69d144ee975'), 'author': 'Dave Lee', 'publisher': 'bit_company', 'number': 50}\n",
      "{'_id': ObjectId('620356d520cad69d144ee976'), 'author': 'Dave Lee', 'publisher': 'bit_company', 'number': 51}\n",
      "{'_id': ObjectId('620356d520cad69d144ee977'), 'author': 'Dave Lee', 'publisher': 'bit_company', 'number': 52}\n",
      "{'_id': ObjectId('620356d520cad69d144ee978'), 'author': 'Dave Lee', 'publisher': 'bit_company', 'number': 53}\n",
      "{'_id': ObjectId('620356d520cad69d144ee979'), 'author': 'Dave Lee', 'publisher': 'bit_company', 'number': 54}\n",
      "{'_id': ObjectId('620356d520cad69d144ee97a'), 'author': 'Dave Lee', 'publisher': 'bit_company', 'number': 55}\n",
      "{'_id': ObjectId('620356d520cad69d144ee97b'), 'author': 'Dave Lee', 'publisher': 'bit_company', 'number': 56}\n",
      "{'_id': ObjectId('620356d520cad69d144ee97c'), 'author': 'Dave Lee', 'publisher': 'bit_company', 'number': 57}\n",
      "{'_id': ObjectId('620356d520cad69d144ee97d'), 'author': 'Dave Lee', 'publisher': 'bit_company', 'number': 58}\n",
      "{'_id': ObjectId('620356d520cad69d144ee97e'), 'author': 'Dave Lee', 'publisher': 'bit_company', 'number': 59}\n",
      "{'_id': ObjectId('620356d520cad69d144ee97f'), 'author': 'Dave Lee', 'publisher': 'bit_company', 'number': 60}\n",
      "{'_id': ObjectId('620356d520cad69d144ee980'), 'author': 'Dave Lee', 'publisher': 'bit_company', 'number': 61}\n",
      "{'_id': ObjectId('620356d520cad69d144ee981'), 'author': 'Dave Lee', 'publisher': 'bit_company', 'number': 62}\n",
      "{'_id': ObjectId('620356d520cad69d144ee982'), 'author': 'Dave Lee', 'publisher': 'bit_company', 'number': 63}\n",
      "{'_id': ObjectId('620356d520cad69d144ee983'), 'author': 'Dave Lee', 'publisher': 'bit_company', 'number': 64}\n",
      "{'_id': ObjectId('620356d520cad69d144ee984'), 'author': 'Dave Lee', 'publisher': 'bit_company', 'number': 65}\n",
      "{'_id': ObjectId('620356d520cad69d144ee985'), 'author': 'Dave Lee', 'publisher': 'bit_company', 'number': 66}\n",
      "{'_id': ObjectId('620356d520cad69d144ee986'), 'author': 'Dave Lee', 'publisher': 'bit_company', 'number': 67}\n",
      "{'_id': ObjectId('620356d520cad69d144ee987'), 'author': 'Dave Lee', 'publisher': 'bit_company', 'number': 68}\n",
      "{'_id': ObjectId('620356d520cad69d144ee988'), 'author': 'Dave Lee', 'publisher': 'bit_company', 'number': 69}\n",
      "{'_id': ObjectId('620356d520cad69d144ee989'), 'author': 'Dave Lee', 'publisher': 'bit_company', 'number': 70}\n",
      "{'_id': ObjectId('620356d520cad69d144ee98a'), 'author': 'Dave Lee', 'publisher': 'bit_company', 'number': 71}\n",
      "{'_id': ObjectId('620356d520cad69d144ee98b'), 'author': 'Dave Lee', 'publisher': 'bit_company', 'number': 72}\n",
      "{'_id': ObjectId('620356d520cad69d144ee98c'), 'author': 'Dave Lee', 'publisher': 'bit_company', 'number': 73}\n",
      "{'_id': ObjectId('620356d520cad69d144ee98d'), 'author': 'Dave Lee', 'publisher': 'bit_company', 'number': 74}\n",
      "{'_id': ObjectId('620356d520cad69d144ee98e'), 'author': 'Dave Lee', 'publisher': 'bit_company', 'number': 75}\n",
      "{'_id': ObjectId('620356d520cad69d144ee98f'), 'author': 'Dave Lee', 'publisher': 'bit_company', 'number': 76}\n",
      "{'_id': ObjectId('620356d520cad69d144ee990'), 'author': 'Dave Lee', 'publisher': 'bit_company', 'number': 77}\n",
      "{'_id': ObjectId('620356d520cad69d144ee991'), 'author': 'Dave Lee', 'publisher': 'bit_company', 'number': 78}\n",
      "{'_id': ObjectId('620356d520cad69d144ee992'), 'author': 'Dave Lee', 'publisher': 'bit_company', 'number': 79}\n",
      "{'_id': ObjectId('620356d520cad69d144ee993'), 'author': 'Dave Lee', 'publisher': 'bit_company', 'number': 80}\n",
      "{'_id': ObjectId('620356d520cad69d144ee994'), 'author': 'Dave Lee', 'publisher': 'bit_company', 'number': 81}\n",
      "{'_id': ObjectId('620356d520cad69d144ee995'), 'author': 'Dave Lee', 'publisher': 'bit_company', 'number': 82}\n",
      "{'_id': ObjectId('620356d520cad69d144ee996'), 'author': 'Dave Lee', 'publisher': 'bit_company', 'number': 83}\n",
      "{'_id': ObjectId('620356d520cad69d144ee997'), 'author': 'Dave Lee', 'publisher': 'bit_company', 'number': 84}\n",
      "{'_id': ObjectId('620356d520cad69d144ee998'), 'author': 'Dave Lee', 'publisher': 'bit_company', 'number': 85}\n",
      "{'_id': ObjectId('620356d520cad69d144ee999'), 'author': 'Dave Lee', 'publisher': 'bit_company', 'number': 86}\n",
      "{'_id': ObjectId('620356d520cad69d144ee99a'), 'author': 'Dave Lee', 'publisher': 'bit_company', 'number': 87}\n",
      "{'_id': ObjectId('620356d520cad69d144ee99b'), 'author': 'Dave Lee', 'publisher': 'bit_company', 'number': 88}\n",
      "{'_id': ObjectId('620356d520cad69d144ee99c'), 'author': 'Dave Lee', 'publisher': 'bit_company', 'number': 89}\n",
      "{'_id': ObjectId('620356d520cad69d144ee99d'), 'author': 'Dave Lee', 'publisher': 'bit_company', 'number': 90}\n",
      "{'_id': ObjectId('620356d520cad69d144ee99e'), 'author': 'Dave Lee', 'publisher': 'bit_company', 'number': 91}\n",
      "{'_id': ObjectId('620356d520cad69d144ee99f'), 'author': 'Dave Lee', 'publisher': 'bit_company', 'number': 92}\n",
      "{'_id': ObjectId('620356d520cad69d144ee9a0'), 'author': 'Dave Lee', 'publisher': 'bit_company', 'number': 93}\n",
      "{'_id': ObjectId('620356d520cad69d144ee9a1'), 'author': 'Dave Lee', 'publisher': 'bit_company', 'number': 94}\n",
      "{'_id': ObjectId('620356d520cad69d144ee9a2'), 'author': 'Dave Lee', 'publisher': 'bit_company', 'number': 95}\n",
      "{'_id': ObjectId('620356d520cad69d144ee9a3'), 'author': 'Dave Lee', 'publisher': 'bit_company', 'number': 96}\n",
      "{'_id': ObjectId('620356d520cad69d144ee9a4'), 'author': 'Dave Lee', 'publisher': 'bit_company', 'number': 97}\n",
      "{'_id': ObjectId('620356d520cad69d144ee9a5'), 'author': 'Dave Lee', 'publisher': 'bit_company', 'number': 98}\n",
      "{'_id': ObjectId('620356d520cad69d144ee9a6'), 'author': 'Dave Lee', 'publisher': 'bit_company', 'number': 99}\n"
     ]
    }
   ],
   "source": [
    "docs = it_book.find()\n",
    "for doc in docs:\n",
    "    print(doc)"
   ]
  },
  {
   "cell_type": "code",
   "execution_count": 69,
   "id": "7ca56fa1",
   "metadata": {},
   "outputs": [
    {
     "data": {
      "text/plain": [
       "<pymongo.results.UpdateResult at 0x2028285ed00>"
      ]
     },
     "execution_count": 69,
     "metadata": {},
     "output_type": "execute_result"
    }
   ],
   "source": [
    "it_book.update_many({}, {'$set': {'publisher':'bit_camp_pub'}})"
   ]
  },
  {
   "cell_type": "code",
   "execution_count": 70,
   "id": "01862b0e",
   "metadata": {
    "collapsed": true
   },
   "outputs": [
    {
     "name": "stdout",
     "output_type": "stream",
     "text": [
      "{'_id': ObjectId('620356d520cad69d144ee943'), 'author': 'Dave Lee', 'publisher': 'bit_camp_pub', 'number': 0}\n",
      "{'_id': ObjectId('620356d520cad69d144ee944'), 'author': 'Dave Lee', 'publisher': 'bit_camp_pub', 'number': 1}\n",
      "{'_id': ObjectId('620356d520cad69d144ee945'), 'author': 'Dave Lee', 'publisher': 'bit_camp_pub', 'number': 2}\n",
      "{'_id': ObjectId('620356d520cad69d144ee946'), 'author': 'Dave Lee', 'publisher': 'bit_camp_pub', 'number': 3}\n",
      "{'_id': ObjectId('620356d520cad69d144ee947'), 'author': 'Dave Lee', 'publisher': 'bit_camp_pub', 'number': 4}\n",
      "{'_id': ObjectId('620356d520cad69d144ee948'), 'author': 'Dave Lee', 'publisher': 'bit_camp_pub', 'number': 5}\n",
      "{'_id': ObjectId('620356d520cad69d144ee949'), 'author': 'Dave Lee', 'publisher': 'bit_camp_pub', 'number': 6}\n",
      "{'_id': ObjectId('620356d520cad69d144ee94a'), 'author': 'Dave Lee', 'publisher': 'bit_camp_pub', 'number': 7}\n",
      "{'_id': ObjectId('620356d520cad69d144ee94b'), 'author': 'Dave Lee', 'publisher': 'bit_camp_pub', 'number': 8}\n",
      "{'_id': ObjectId('620356d520cad69d144ee94c'), 'author': 'Dave Lee', 'publisher': 'bit_camp_pub', 'number': 9}\n",
      "{'_id': ObjectId('620356d520cad69d144ee94d'), 'author': 'Dave Lee', 'publisher': 'bit_camp_pub', 'number': 10}\n",
      "{'_id': ObjectId('620356d520cad69d144ee94e'), 'author': 'Dave Lee', 'publisher': 'bit_camp_pub', 'number': 11}\n",
      "{'_id': ObjectId('620356d520cad69d144ee94f'), 'author': 'Dave Lee', 'publisher': 'bit_camp_pub', 'number': 12}\n",
      "{'_id': ObjectId('620356d520cad69d144ee950'), 'author': 'Dave Lee', 'publisher': 'bit_camp_pub', 'number': 13}\n",
      "{'_id': ObjectId('620356d520cad69d144ee951'), 'author': 'Dave Lee', 'publisher': 'bit_camp_pub', 'number': 14}\n",
      "{'_id': ObjectId('620356d520cad69d144ee952'), 'author': 'Dave Lee', 'publisher': 'bit_camp_pub', 'number': 15}\n",
      "{'_id': ObjectId('620356d520cad69d144ee953'), 'author': 'Dave Lee', 'publisher': 'bit_camp_pub', 'number': 16}\n",
      "{'_id': ObjectId('620356d520cad69d144ee954'), 'author': 'Dave Lee', 'publisher': 'bit_camp_pub', 'number': 17}\n",
      "{'_id': ObjectId('620356d520cad69d144ee955'), 'author': 'Dave Lee', 'publisher': 'bit_camp_pub', 'number': 18}\n",
      "{'_id': ObjectId('620356d520cad69d144ee956'), 'author': 'Dave Lee', 'publisher': 'bit_camp_pub', 'number': 19}\n",
      "{'_id': ObjectId('620356d520cad69d144ee957'), 'author': 'Dave Lee', 'publisher': 'bit_camp_pub', 'number': 20}\n",
      "{'_id': ObjectId('620356d520cad69d144ee958'), 'author': 'Dave Lee', 'publisher': 'bit_camp_pub', 'number': 21}\n",
      "{'_id': ObjectId('620356d520cad69d144ee959'), 'author': 'Dave Lee', 'publisher': 'bit_camp_pub', 'number': 22}\n",
      "{'_id': ObjectId('620356d520cad69d144ee95a'), 'author': 'Dave Lee', 'publisher': 'bit_camp_pub', 'number': 23}\n",
      "{'_id': ObjectId('620356d520cad69d144ee95b'), 'author': 'Dave Lee', 'publisher': 'bit_camp_pub', 'number': 24}\n",
      "{'_id': ObjectId('620356d520cad69d144ee95c'), 'author': 'Dave Lee', 'publisher': 'bit_camp_pub', 'number': 25}\n",
      "{'_id': ObjectId('620356d520cad69d144ee95d'), 'author': 'Dave Lee', 'publisher': 'bit_camp_pub', 'number': 26}\n",
      "{'_id': ObjectId('620356d520cad69d144ee95e'), 'author': 'Dave Lee', 'publisher': 'bit_camp_pub', 'number': 27}\n",
      "{'_id': ObjectId('620356d520cad69d144ee95f'), 'author': 'Dave Lee', 'publisher': 'bit_camp_pub', 'number': 28}\n",
      "{'_id': ObjectId('620356d520cad69d144ee960'), 'author': 'Dave Lee', 'publisher': 'bit_camp_pub', 'number': 29}\n",
      "{'_id': ObjectId('620356d520cad69d144ee961'), 'author': 'Dave Lee', 'publisher': 'bit_camp_pub', 'number': 30}\n",
      "{'_id': ObjectId('620356d520cad69d144ee962'), 'author': 'Dave Lee', 'publisher': 'bit_camp_pub', 'number': 31}\n",
      "{'_id': ObjectId('620356d520cad69d144ee963'), 'author': 'Dave Lee', 'publisher': 'bit_camp_pub', 'number': 32}\n",
      "{'_id': ObjectId('620356d520cad69d144ee964'), 'author': 'Dave Lee', 'publisher': 'bit_camp_pub', 'number': 33}\n",
      "{'_id': ObjectId('620356d520cad69d144ee965'), 'author': 'Dave Lee', 'publisher': 'bit_camp_pub', 'number': 34}\n",
      "{'_id': ObjectId('620356d520cad69d144ee966'), 'author': 'Dave Lee', 'publisher': 'bit_camp_pub', 'number': 35}\n",
      "{'_id': ObjectId('620356d520cad69d144ee967'), 'author': 'Dave Lee', 'publisher': 'bit_camp_pub', 'number': 36}\n",
      "{'_id': ObjectId('620356d520cad69d144ee968'), 'author': 'Dave Lee', 'publisher': 'bit_camp_pub', 'number': 37}\n",
      "{'_id': ObjectId('620356d520cad69d144ee969'), 'author': 'Dave Lee', 'publisher': 'bit_camp_pub', 'number': 38}\n",
      "{'_id': ObjectId('620356d520cad69d144ee96a'), 'author': 'Dave Lee', 'publisher': 'bit_camp_pub', 'number': 39}\n",
      "{'_id': ObjectId('620356d520cad69d144ee96b'), 'author': 'Dave Lee', 'publisher': 'bit_camp_pub', 'number': 40}\n",
      "{'_id': ObjectId('620356d520cad69d144ee96c'), 'author': 'Dave Lee', 'publisher': 'bit_camp_pub', 'number': 41}\n",
      "{'_id': ObjectId('620356d520cad69d144ee96d'), 'author': 'Dave Lee', 'publisher': 'bit_camp_pub', 'number': 42}\n",
      "{'_id': ObjectId('620356d520cad69d144ee96e'), 'author': 'Dave Lee', 'publisher': 'bit_camp_pub', 'number': 43}\n",
      "{'_id': ObjectId('620356d520cad69d144ee96f'), 'author': 'Dave Lee', 'publisher': 'bit_camp_pub', 'number': 44}\n",
      "{'_id': ObjectId('620356d520cad69d144ee970'), 'author': 'Dave Lee', 'publisher': 'bit_camp_pub', 'number': 45}\n",
      "{'_id': ObjectId('620356d520cad69d144ee971'), 'author': 'Dave Lee', 'publisher': 'bit_camp_pub', 'number': 46}\n",
      "{'_id': ObjectId('620356d520cad69d144ee972'), 'author': 'Dave Lee', 'publisher': 'bit_camp_pub', 'number': 47}\n",
      "{'_id': ObjectId('620356d520cad69d144ee973'), 'author': 'Dave Lee', 'publisher': 'bit_camp_pub', 'number': 48}\n",
      "{'_id': ObjectId('620356d520cad69d144ee974'), 'author': 'Dave Lee', 'publisher': 'bit_camp_pub', 'number': 49}\n",
      "{'_id': ObjectId('620356d520cad69d144ee975'), 'author': 'Dave Lee', 'publisher': 'bit_camp_pub', 'number': 50}\n",
      "{'_id': ObjectId('620356d520cad69d144ee976'), 'author': 'Dave Lee', 'publisher': 'bit_camp_pub', 'number': 51}\n",
      "{'_id': ObjectId('620356d520cad69d144ee977'), 'author': 'Dave Lee', 'publisher': 'bit_camp_pub', 'number': 52}\n",
      "{'_id': ObjectId('620356d520cad69d144ee978'), 'author': 'Dave Lee', 'publisher': 'bit_camp_pub', 'number': 53}\n",
      "{'_id': ObjectId('620356d520cad69d144ee979'), 'author': 'Dave Lee', 'publisher': 'bit_camp_pub', 'number': 54}\n",
      "{'_id': ObjectId('620356d520cad69d144ee97a'), 'author': 'Dave Lee', 'publisher': 'bit_camp_pub', 'number': 55}\n",
      "{'_id': ObjectId('620356d520cad69d144ee97b'), 'author': 'Dave Lee', 'publisher': 'bit_camp_pub', 'number': 56}\n",
      "{'_id': ObjectId('620356d520cad69d144ee97c'), 'author': 'Dave Lee', 'publisher': 'bit_camp_pub', 'number': 57}\n",
      "{'_id': ObjectId('620356d520cad69d144ee97d'), 'author': 'Dave Lee', 'publisher': 'bit_camp_pub', 'number': 58}\n",
      "{'_id': ObjectId('620356d520cad69d144ee97e'), 'author': 'Dave Lee', 'publisher': 'bit_camp_pub', 'number': 59}\n",
      "{'_id': ObjectId('620356d520cad69d144ee97f'), 'author': 'Dave Lee', 'publisher': 'bit_camp_pub', 'number': 60}\n",
      "{'_id': ObjectId('620356d520cad69d144ee980'), 'author': 'Dave Lee', 'publisher': 'bit_camp_pub', 'number': 61}\n",
      "{'_id': ObjectId('620356d520cad69d144ee981'), 'author': 'Dave Lee', 'publisher': 'bit_camp_pub', 'number': 62}\n",
      "{'_id': ObjectId('620356d520cad69d144ee982'), 'author': 'Dave Lee', 'publisher': 'bit_camp_pub', 'number': 63}\n",
      "{'_id': ObjectId('620356d520cad69d144ee983'), 'author': 'Dave Lee', 'publisher': 'bit_camp_pub', 'number': 64}\n",
      "{'_id': ObjectId('620356d520cad69d144ee984'), 'author': 'Dave Lee', 'publisher': 'bit_camp_pub', 'number': 65}\n",
      "{'_id': ObjectId('620356d520cad69d144ee985'), 'author': 'Dave Lee', 'publisher': 'bit_camp_pub', 'number': 66}\n",
      "{'_id': ObjectId('620356d520cad69d144ee986'), 'author': 'Dave Lee', 'publisher': 'bit_camp_pub', 'number': 67}\n",
      "{'_id': ObjectId('620356d520cad69d144ee987'), 'author': 'Dave Lee', 'publisher': 'bit_camp_pub', 'number': 68}\n",
      "{'_id': ObjectId('620356d520cad69d144ee988'), 'author': 'Dave Lee', 'publisher': 'bit_camp_pub', 'number': 69}\n",
      "{'_id': ObjectId('620356d520cad69d144ee989'), 'author': 'Dave Lee', 'publisher': 'bit_camp_pub', 'number': 70}\n",
      "{'_id': ObjectId('620356d520cad69d144ee98a'), 'author': 'Dave Lee', 'publisher': 'bit_camp_pub', 'number': 71}\n",
      "{'_id': ObjectId('620356d520cad69d144ee98b'), 'author': 'Dave Lee', 'publisher': 'bit_camp_pub', 'number': 72}\n",
      "{'_id': ObjectId('620356d520cad69d144ee98c'), 'author': 'Dave Lee', 'publisher': 'bit_camp_pub', 'number': 73}\n",
      "{'_id': ObjectId('620356d520cad69d144ee98d'), 'author': 'Dave Lee', 'publisher': 'bit_camp_pub', 'number': 74}\n",
      "{'_id': ObjectId('620356d520cad69d144ee98e'), 'author': 'Dave Lee', 'publisher': 'bit_camp_pub', 'number': 75}\n",
      "{'_id': ObjectId('620356d520cad69d144ee98f'), 'author': 'Dave Lee', 'publisher': 'bit_camp_pub', 'number': 76}\n",
      "{'_id': ObjectId('620356d520cad69d144ee990'), 'author': 'Dave Lee', 'publisher': 'bit_camp_pub', 'number': 77}\n",
      "{'_id': ObjectId('620356d520cad69d144ee991'), 'author': 'Dave Lee', 'publisher': 'bit_camp_pub', 'number': 78}\n",
      "{'_id': ObjectId('620356d520cad69d144ee992'), 'author': 'Dave Lee', 'publisher': 'bit_camp_pub', 'number': 79}\n",
      "{'_id': ObjectId('620356d520cad69d144ee993'), 'author': 'Dave Lee', 'publisher': 'bit_camp_pub', 'number': 80}\n",
      "{'_id': ObjectId('620356d520cad69d144ee994'), 'author': 'Dave Lee', 'publisher': 'bit_camp_pub', 'number': 81}\n",
      "{'_id': ObjectId('620356d520cad69d144ee995'), 'author': 'Dave Lee', 'publisher': 'bit_camp_pub', 'number': 82}\n",
      "{'_id': ObjectId('620356d520cad69d144ee996'), 'author': 'Dave Lee', 'publisher': 'bit_camp_pub', 'number': 83}\n",
      "{'_id': ObjectId('620356d520cad69d144ee997'), 'author': 'Dave Lee', 'publisher': 'bit_camp_pub', 'number': 84}\n",
      "{'_id': ObjectId('620356d520cad69d144ee998'), 'author': 'Dave Lee', 'publisher': 'bit_camp_pub', 'number': 85}\n",
      "{'_id': ObjectId('620356d520cad69d144ee999'), 'author': 'Dave Lee', 'publisher': 'bit_camp_pub', 'number': 86}\n",
      "{'_id': ObjectId('620356d520cad69d144ee99a'), 'author': 'Dave Lee', 'publisher': 'bit_camp_pub', 'number': 87}\n",
      "{'_id': ObjectId('620356d520cad69d144ee99b'), 'author': 'Dave Lee', 'publisher': 'bit_camp_pub', 'number': 88}\n",
      "{'_id': ObjectId('620356d520cad69d144ee99c'), 'author': 'Dave Lee', 'publisher': 'bit_camp_pub', 'number': 89}\n",
      "{'_id': ObjectId('620356d520cad69d144ee99d'), 'author': 'Dave Lee', 'publisher': 'bit_camp_pub', 'number': 90}\n",
      "{'_id': ObjectId('620356d520cad69d144ee99e'), 'author': 'Dave Lee', 'publisher': 'bit_camp_pub', 'number': 91}\n",
      "{'_id': ObjectId('620356d520cad69d144ee99f'), 'author': 'Dave Lee', 'publisher': 'bit_camp_pub', 'number': 92}\n",
      "{'_id': ObjectId('620356d520cad69d144ee9a0'), 'author': 'Dave Lee', 'publisher': 'bit_camp_pub', 'number': 93}\n",
      "{'_id': ObjectId('620356d520cad69d144ee9a1'), 'author': 'Dave Lee', 'publisher': 'bit_camp_pub', 'number': 94}\n",
      "{'_id': ObjectId('620356d520cad69d144ee9a2'), 'author': 'Dave Lee', 'publisher': 'bit_camp_pub', 'number': 95}\n",
      "{'_id': ObjectId('620356d520cad69d144ee9a3'), 'author': 'Dave Lee', 'publisher': 'bit_camp_pub', 'number': 96}\n",
      "{'_id': ObjectId('620356d520cad69d144ee9a4'), 'author': 'Dave Lee', 'publisher': 'bit_camp_pub', 'number': 97}\n",
      "{'_id': ObjectId('620356d520cad69d144ee9a5'), 'author': 'Dave Lee', 'publisher': 'bit_camp_pub', 'number': 98}\n",
      "{'_id': ObjectId('620356d520cad69d144ee9a6'), 'author': 'Dave Lee', 'publisher': 'bit_camp_pub', 'number': 99}\n"
     ]
    }
   ],
   "source": [
    "docs = it_book.find()\n",
    "for doc in docs:\n",
    "    print(doc)"
   ]
  },
  {
   "cell_type": "code",
   "execution_count": 71,
   "id": "15bde565",
   "metadata": {},
   "outputs": [
    {
     "data": {
      "text/plain": [
       "<pymongo.results.DeleteResult at 0x202828ff440>"
      ]
     },
     "execution_count": 71,
     "metadata": {},
     "output_type": "execute_result"
    }
   ],
   "source": [
    "it_book.delete_many({'number':{'$gte':6}})"
   ]
  },
  {
   "cell_type": "code",
   "execution_count": 72,
   "id": "e7d359b1",
   "metadata": {},
   "outputs": [
    {
     "name": "stdout",
     "output_type": "stream",
     "text": [
      "{'_id': ObjectId('620356d520cad69d144ee943'), 'author': 'Dave Lee', 'publisher': 'bit_camp_pub', 'number': 0}\n",
      "{'_id': ObjectId('620356d520cad69d144ee944'), 'author': 'Dave Lee', 'publisher': 'bit_camp_pub', 'number': 1}\n",
      "{'_id': ObjectId('620356d520cad69d144ee945'), 'author': 'Dave Lee', 'publisher': 'bit_camp_pub', 'number': 2}\n",
      "{'_id': ObjectId('620356d520cad69d144ee946'), 'author': 'Dave Lee', 'publisher': 'bit_camp_pub', 'number': 3}\n",
      "{'_id': ObjectId('620356d520cad69d144ee947'), 'author': 'Dave Lee', 'publisher': 'bit_camp_pub', 'number': 4}\n",
      "{'_id': ObjectId('620356d520cad69d144ee948'), 'author': 'Dave Lee', 'publisher': 'bit_camp_pub', 'number': 5}\n"
     ]
    }
   ],
   "source": [
    "docs = it_book.find()\n",
    "for doc in docs:\n",
    "    print(doc)"
   ]
  },
  {
   "cell_type": "code",
   "execution_count": null,
   "id": "35fdecb8",
   "metadata": {},
   "outputs": [],
   "source": []
  },
  {
   "cell_type": "code",
   "execution_count": 73,
   "id": "06134b7b",
   "metadata": {},
   "outputs": [],
   "source": [
    "# crawling cine21"
   ]
  },
  {
   "cell_type": "code",
   "execution_count": null,
   "id": "bb03015b",
   "metadata": {},
   "outputs": [],
   "source": []
  }
 ],
 "metadata": {
  "kernelspec": {
   "display_name": "Python 3 (ipykernel)",
   "language": "python",
   "name": "python3"
  },
  "language_info": {
   "codemirror_mode": {
    "name": "ipython",
    "version": 3
   },
   "file_extension": ".py",
   "mimetype": "text/x-python",
   "name": "python",
   "nbconvert_exporter": "python",
   "pygments_lexer": "ipython3",
   "version": "3.9.7"
  }
 },
 "nbformat": 4,
 "nbformat_minor": 5
}
