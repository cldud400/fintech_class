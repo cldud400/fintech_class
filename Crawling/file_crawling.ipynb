{
 "cells": [
  {
   "cell_type": "markdown",
   "id": "c5424144",
   "metadata": {},
   "source": [
    "# 이미지 파일 저장하기"
   ]
  },
  {
   "cell_type": "code",
   "execution_count": 1,
   "id": "be82755e",
   "metadata": {},
   "outputs": [],
   "source": [
    "from bs4 import BeautifulSoup\n",
    "import requests"
   ]
  },
  {
   "cell_type": "code",
   "execution_count": 2,
   "id": "ed1c4cae",
   "metadata": {},
   "outputs": [],
   "source": [
    "url = 'https://www.xkcd.com/'"
   ]
  },
  {
   "cell_type": "code",
   "execution_count": 3,
   "id": "f53995f1",
   "metadata": {},
   "outputs": [],
   "source": [
    "res = requests.get(url)\n",
    "soup = BeautifulSoup(res.text, 'html.parser')"
   ]
  },
  {
   "cell_type": "code",
   "execution_count": 4,
   "id": "bbec3335",
   "metadata": {},
   "outputs": [],
   "source": [
    "path = \"#comic > img\""
   ]
  },
  {
   "cell_type": "code",
   "execution_count": 13,
   "id": "68d7af12",
   "metadata": {},
   "outputs": [
    {
     "data": {
      "text/plain": [
       "[<img alt=\"Captain Picard Tea Order\" src=\"//imgs.xkcd.com/comics/captain_picard_tea_order.png\" srcset=\"//imgs.xkcd.com/comics/captain_picard_tea_order_2x.png 2x\" style=\"image-orientation:none\" title=\"We can ask the Earl for his order once he's fully extruded from the dispenser.\"/>]"
      ]
     },
     "execution_count": 13,
     "metadata": {},
     "output_type": "execute_result"
    }
   ],
   "source": [
    "tag = soup.select(path)\n",
    "tag"
   ]
  },
  {
   "cell_type": "code",
   "execution_count": 16,
   "id": "8cc1a542",
   "metadata": {},
   "outputs": [
    {
     "data": {
      "text/plain": [
       "'http://imgs.xkcd.com/comics/captain_picard_tea_order.png'"
      ]
     },
     "execution_count": 16,
     "metadata": {},
     "output_type": "execute_result"
    }
   ],
   "source": [
    "img_url = tag[0]['src']\n",
    "img_url = 'http:' + img_url\n",
    "img_url"
   ]
  },
  {
   "cell_type": "code",
   "execution_count": 29,
   "id": "c0133dc0",
   "metadata": {},
   "outputs": [
    {
     "data": {
      "text/plain": [
       "('xkcd_1.jpg', <http.client.HTTPMessage at 0x20f604c6070>)"
      ]
     },
     "execution_count": 29,
     "metadata": {},
     "output_type": "execute_result"
    }
   ],
   "source": [
    "import urllib\n",
    "urllib.request.urlretrieve(img_url, 'xkcd_1.jpg')       # urllib.request.urlretrieve(이미지url, ./경로/저장할 파일 이름)"
   ]
  },
  {
   "cell_type": "code",
   "execution_count": 30,
   "id": "f7fffc45",
   "metadata": {},
   "outputs": [
    {
     "data": {
      "text/plain": [
       "['.ipynb_checkpoints',\n",
       " 'Crawling.ipynb',\n",
       " 'file_crawling.ipynb',\n",
       " 'imdb_crawling_1.ipynb',\n",
       " 'img_folder',\n",
       " 'index.html',\n",
       " 'index1.html',\n",
       " 'index2.html',\n",
       " 'index3.html',\n",
       " 'index4.html',\n",
       " 'movies.csv',\n",
       " 'xkcd_1.jpg']"
      ]
     },
     "execution_count": 30,
     "metadata": {},
     "output_type": "execute_result"
    }
   ],
   "source": [
    "import os\n",
    "os.listdir()"
   ]
  },
  {
   "cell_type": "markdown",
   "id": "9fbedf85",
   "metadata": {},
   "source": [
    "## 2560~2569번 이미지 크롤링하기"
   ]
  },
  {
   "cell_type": "code",
   "execution_count": 50,
   "id": "9dcf9a50",
   "metadata": {},
   "outputs": [],
   "source": [
    "for i in range(2560, 2570):\n",
    "    url = 'https://www.xkcd.com/{}'.format(i)\n",
    "    res = requests.get(url)\n",
    "    soup = BeautifulSoup(res.text, 'html.parser')\n",
    "    path = \"#comic > img\"\n",
    "    tag = soup.select(path)\n",
    "    img_url = tag[0]['src']\n",
    "    img_url = 'http:' + img_url\n",
    "    save_name = './img_folder/xkcd_{}.jpg'.format(i)\n",
    "    urllib.request.urlretrieve(img_url, save_name)"
   ]
  },
  {
   "cell_type": "code",
   "execution_count": 49,
   "id": "c11a0a0c",
   "metadata": {
    "collapsed": true
   },
   "outputs": [
    {
     "name": "stdout",
     "output_type": "stream",
     "text": [
      "0.0\n",
      "<PIL.PngImagePlugin.PngImageFile image mode=RGB size=644x278 at 0x20F60BEA310>\n",
      "<PIL.PngImagePlugin.PngImageFile image mode=RGB size=594x242 at 0x20F60BEACD0>\n",
      "<PIL.PngImagePlugin.PngImageFile image mode=RGB size=356x222 at 0x20F60BEA310>\n",
      "<PIL.PngImagePlugin.PngImageFile image mode=RGB size=418x317 at 0x20F60BEACD0>\n",
      "<PIL.PngImagePlugin.PngImageFile image mode=RGB size=553x277 at 0x20F60BEA310>\n",
      "<PIL.PngImagePlugin.PngImageFile image mode=RGB size=361x250 at 0x20F60BEACD0>\n",
      "<PIL.PngImagePlugin.PngImageFile image mode=RGB size=289x287 at 0x20F60BEA310>\n",
      "<PIL.PngImagePlugin.PngImageFile image mode=RGB size=262x298 at 0x20F60BEACD0>\n",
      "<PIL.PngImagePlugin.PngImageFile image mode=RGB size=289x401 at 0x20F60BEA310>\n",
      "<PIL.PngImagePlugin.PngImageFile image mode=RGB size=449x258 at 0x20F60BEACD0>\n"
     ]
    }
   ],
   "source": [
    "# from PIL import Image\n",
    "# import os\n",
    "# import time\n",
    "\n",
    "# start = time.time()\n",
    "# print(time.time() - start)\n",
    "# for i in range(2560, 2570):\n",
    "#     i_url = \"./img_folder/xkcd_{}.jpg\".format(i)\n",
    "#     a = Image.open(i_url)\n",
    "#     print(a)\n",
    "#     time.sleep(1)"
   ]
  },
  {
   "cell_type": "code",
   "execution_count": null,
   "id": "5914fe67",
   "metadata": {},
   "outputs": [],
   "source": []
  }
 ],
 "metadata": {
  "kernelspec": {
   "display_name": "Python 3 (ipykernel)",
   "language": "python",
   "name": "python3"
  },
  "language_info": {
   "codemirror_mode": {
    "name": "ipython",
    "version": 3
   },
   "file_extension": ".py",
   "mimetype": "text/x-python",
   "name": "python",
   "nbconvert_exporter": "python",
   "pygments_lexer": "ipython3",
   "version": "3.9.7"
  }
 },
 "nbformat": 4,
 "nbformat_minor": 5
}
