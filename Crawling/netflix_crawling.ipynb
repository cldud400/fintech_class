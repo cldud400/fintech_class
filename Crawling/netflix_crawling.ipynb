{
 "cells": [
  {
   "cell_type": "code",
   "execution_count": 116,
   "id": "e9346669",
   "metadata": {},
   "outputs": [],
   "source": [
    "import requests\n",
    "from bs4 import BeautifulSoup\n",
    "\n",
    "from selenium import webdriver\n",
    "from selenium.webdriver.common.keys import Keys\n",
    "import time\n",
    "import sec\n",
    "\n",
    "\n",
    "from selenium.webdriver.common.action_chains import ActionChains\n",
    "\n",
    "user_id = sec.sec_id_pw['net_id']\n",
    "user_pw = sec.sec_id_pw['net_pw']"
   ]
  },
  {
   "cell_type": "code",
   "execution_count": null,
   "id": "9c0f7746",
   "metadata": {},
   "outputs": [],
   "source": []
  },
  {
   "cell_type": "code",
   "execution_count": 171,
   "id": "d0d01f60",
   "metadata": {
    "scrolled": true
   },
   "outputs": [
    {
     "name": "stderr",
     "output_type": "stream",
     "text": [
      "C:\\Users\\bitcamp\\AppData\\Local\\Temp/ipykernel_5436/1058136519.py:6: DeprecationWarning: executable_path has been deprecated, please pass in a Service object\n",
      "  driver = webdriver.Chrome('chromedriver.exe', options=options)\n",
      "C:\\Users\\bitcamp\\AppData\\Local\\Temp/ipykernel_5436/1058136519.py:13: DeprecationWarning: find_element_by_* commands are deprecated. Please use find_element() instead\n",
      "  driver.find_element_by_link_text('로그인').click()\n",
      "C:\\Users\\bitcamp\\AppData\\Local\\Temp/ipykernel_5436/1058136519.py:16: DeprecationWarning: find_element_by_* commands are deprecated. Please use find_element() instead\n",
      "  elem = driver.find_element_by_id('id_userLoginId').send_keys(user_id)\n",
      "C:\\Users\\bitcamp\\AppData\\Local\\Temp/ipykernel_5436/1058136519.py:19: DeprecationWarning: find_element_by_* commands are deprecated. Please use find_element() instead\n",
      "  elem = driver.find_element_by_id('id_password').send_keys(user_pw)\n",
      "C:\\Users\\bitcamp\\AppData\\Local\\Temp/ipykernel_5436/1058136519.py:22: DeprecationWarning: find_element_by_* commands are deprecated. Please use find_element() instead\n",
      "  driver.find_element_by_xpath('//*[@id=\"appMountPoint\"]/div/div[3]/div/div/div[1]/form/button').click()\n",
      "C:\\Users\\bitcamp\\AppData\\Local\\Temp/ipykernel_5436/1058136519.py:24: DeprecationWarning: find_element_by_* commands are deprecated. Please use find_element() instead\n",
      "  driver.find_element_by_xpath('//*[@id=\"appMountPoint\"]/div/div/div[1]/div[1]/div[2]/div/div/ul/li[3]/div/a/div/div').click()\n",
      "C:\\Users\\bitcamp\\AppData\\Local\\Temp/ipykernel_5436/1058136519.py:26: DeprecationWarning: find_element_by_* commands are deprecated. Please use find_element() instead\n",
      "  elem = driver.find_element_by_xpath('//*[@id=\"appMountPoint\"]/div/div/div[1]/div[1]/div[1]/div/div/div/div[1]/div/button/span')\n",
      "C:\\Users\\bitcamp\\AppData\\Local\\Temp/ipykernel_5436/1058136519.py:30: DeprecationWarning: find_element_by_* commands are deprecated. Please use find_element() instead\n",
      "  elem = driver.find_element_by_id('searchInput')\n",
      "C:\\Users\\bitcamp\\AppData\\Local\\Temp/ipykernel_5436/1058136519.py:34: DeprecationWarning: find_element_by_* commands are deprecated. Please use find_element() instead\n",
      "  driver.find_element_by_xpath('//*[@id=\"title-card-0-0\"]/div[1]/a/div[1]/img').click()\n",
      "C:\\Users\\bitcamp\\AppData\\Local\\Temp/ipykernel_5436/1058136519.py:36: DeprecationWarning: find_element_by_* commands are deprecated. Please use find_element() instead\n",
      "  driver.find_element_by_xpath('//*[@id=\"appMountPoint\"]/div/div/div[1]/div[2]/div/div[3]/div/div[2]/div/div/div[2]/div[1]').click()\n"
     ]
    }
   ],
   "source": [
    "options = webdriver.ChromeOptions()\n",
    "options.add_argument('start-maximized')\n",
    "time.sleep(0.3)\n",
    "\n",
    "# driver = webdriver.Chrome()\n",
    "driver = webdriver.Chrome('chromedriver.exe', options=options)\n",
    "time.sleep(0.3)\n",
    "url = 'https://www.netflix.com/kr/'\n",
    "\n",
    "driver.get(url)\n",
    "time.sleep(0.3)\n",
    "# 로그인 화면으로 가기\n",
    "driver.find_element_by_link_text('로그인').click()\n",
    "time.sleep(0.3)\n",
    "# 아이디 입력\n",
    "elem = driver.find_element_by_id('id_userLoginId').send_keys(user_id)\n",
    "time.sleep(0.3)\n",
    "# 비번 입력\n",
    "elem = driver.find_element_by_id('id_password').send_keys(user_pw)\n",
    "time.sleep(0.3)\n",
    "# 로그인\n",
    "driver.find_element_by_xpath('//*[@id=\"appMountPoint\"]/div/div[3]/div/div/div[1]/form/button').click()\n",
    "time.sleep(1)\n",
    "driver.find_element_by_xpath('//*[@id=\"appMountPoint\"]/div/div/div[1]/div[1]/div[2]/div/div/ul/li[3]/div/a/div/div').click()\n",
    "time.sleep(0.3)\n",
    "elem = driver.find_element_by_xpath('//*[@id=\"appMountPoint\"]/div/div/div[1]/div[1]/div[1]/div/div/div/div[1]/div/button/span')\n",
    "time.sleep(0.3)\n",
    "elem.click()\n",
    "time.sleep(0.3)\n",
    "elem = driver.find_element_by_id('searchInput')\n",
    "time.sleep(0.5)\n",
    "elem.send_keys('킹덤')\n",
    "time.sleep(1)\n",
    "driver.find_element_by_xpath('//*[@id=\"title-card-0-0\"]/div[1]/a/div[1]/img').click()\n",
    "time.sleep(3)\n",
    "driver.find_element_by_xpath('//*[@id=\"appMountPoint\"]/div/div/div[1]/div[2]/div/div[3]/div/div[2]/div/div/div[2]/div[1]').click()\n",
    "time.sleep(4)\n"
   ]
  },
  {
   "cell_type": "code",
   "execution_count": null,
   "id": "dcf3fd36",
   "metadata": {},
   "outputs": [],
   "source": [
    "driver.close()"
   ]
  },
  {
   "cell_type": "code",
   "execution_count": 169,
   "id": "baf6d021",
   "metadata": {},
   "outputs": [
    {
     "ename": "AttributeError",
     "evalue": "'NoneType' object has no attribute 'send_keys'",
     "output_type": "error",
     "traceback": [
      "\u001b[1;31m---------------------------------------------------------------------------\u001b[0m",
      "\u001b[1;31mAttributeError\u001b[0m                            Traceback (most recent call last)",
      "\u001b[1;32m~\\AppData\\Local\\Temp/ipykernel_5436/3331441771.py\u001b[0m in \u001b[0;36m<module>\u001b[1;34m\u001b[0m\n\u001b[0;32m      1\u001b[0m \u001b[1;32mfor\u001b[0m \u001b[0m_\u001b[0m \u001b[1;32min\u001b[0m \u001b[0mrange\u001b[0m\u001b[1;33m(\u001b[0m\u001b[1;36m13\u001b[0m\u001b[1;33m)\u001b[0m\u001b[1;33m:\u001b[0m\u001b[1;33m\u001b[0m\u001b[1;33m\u001b[0m\u001b[0m\n\u001b[1;32m----> 2\u001b[1;33m     \u001b[0melem\u001b[0m\u001b[1;33m.\u001b[0m\u001b[0msend_keys\u001b[0m\u001b[1;33m(\u001b[0m\u001b[0mKeys\u001b[0m\u001b[1;33m.\u001b[0m\u001b[0mTAB\u001b[0m\u001b[1;33m)\u001b[0m\u001b[1;33m\u001b[0m\u001b[1;33m\u001b[0m\u001b[0m\n\u001b[0m\u001b[0;32m      3\u001b[0m \u001b[1;33m\u001b[0m\u001b[0m\n\u001b[0;32m      4\u001b[0m \u001b[0melem\u001b[0m\u001b[1;33m.\u001b[0m\u001b[0msend_keys\u001b[0m\u001b[1;33m(\u001b[0m\u001b[0mKeys\u001b[0m\u001b[1;33m.\u001b[0m\u001b[0mRETURN\u001b[0m\u001b[1;33m)\u001b[0m\u001b[1;33m\u001b[0m\u001b[1;33m\u001b[0m\u001b[0m\n",
      "\u001b[1;31mAttributeError\u001b[0m: 'NoneType' object has no attribute 'send_keys'"
     ]
    }
   ],
   "source": [
    "# elem = driver.find_element_by_xpath('//*[@id=\"81016141\"]/video').click()\n",
    "# driver.find_element_by_xpath('//*[@id=\"81016141\"]/video').click()\n",
    "\n",
    "\n",
    "# for _ in range(13):\n",
    "#     elem.send_keys(Keys.TAB)\n",
    "    \n",
    "# elem.send_keys(Keys.RETURN)"
   ]
  },
  {
   "cell_type": "code",
   "execution_count": null,
   "id": "65b323fb",
   "metadata": {},
   "outputs": [],
   "source": []
  }
 ],
 "metadata": {
  "kernelspec": {
   "display_name": "Python 3 (ipykernel)",
   "language": "python",
   "name": "python3"
  },
  "language_info": {
   "codemirror_mode": {
    "name": "ipython",
    "version": 3
   },
   "file_extension": ".py",
   "mimetype": "text/x-python",
   "name": "python",
   "nbconvert_exporter": "python",
   "pygments_lexer": "ipython3",
   "version": "3.9.7"
  }
 },
 "nbformat": 4,
 "nbformat_minor": 5
}
