{
 "cells": [
  {
   "cell_type": "markdown",
   "id": "617620f5",
   "metadata": {},
   "source": [
    "# Selenium을 이용한 크롤링"
   ]
  },
  {
   "cell_type": "code",
   "execution_count": 161,
   "id": "2dc455dc",
   "metadata": {},
   "outputs": [],
   "source": [
    "import requests\n",
    "from bs4 import BeautifulSoup\n",
    "\n",
    "from selenium import webdriver\n",
    "from selenium.webdriver.common.keys import Keys"
   ]
  },
  {
   "cell_type": "code",
   "execution_count": 7,
   "id": "109b4cfb",
   "metadata": {},
   "outputs": [],
   "source": [
    "driver = webdriver.Chrome()"
   ]
  },
  {
   "cell_type": "code",
   "execution_count": 20,
   "id": "201ee460",
   "metadata": {},
   "outputs": [],
   "source": [
    "driver.get('https://naver.com')"
   ]
  },
  {
   "cell_type": "code",
   "execution_count": 21,
   "id": "999c0be8",
   "metadata": {
    "collapsed": true
   },
   "outputs": [
    {
     "name": "stderr",
     "output_type": "stream",
     "text": [
      "C:\\Users\\bitcamp\\AppData\\Local\\Temp/ipykernel_13636/710144763.py:1: DeprecationWarning: find_element_by_* commands are deprecated. Please use find_element() instead\n",
      "  elem = driver.find_element_by_id('query')               # 'query' id를 기준으로 element를 가져온다 (elemest == tag)\n"
     ]
    }
   ],
   "source": [
    "elem = driver.find_element_by_id('query')               # 'query' id를 기준으로 element를 가져온다 (elemest == tag)"
   ]
  },
  {
   "cell_type": "code",
   "execution_count": 22,
   "id": "cc9a197a",
   "metadata": {},
   "outputs": [],
   "source": [
    "elem.send_keys('빅데이터')                        # \"query' id에 '빅데이터' 입력"
   ]
  },
  {
   "cell_type": "code",
   "execution_count": 23,
   "id": "1b794c75",
   "metadata": {
    "scrolled": true
   },
   "outputs": [],
   "source": [
    "elem.send_keys(Keys.RETURN)                       # 'Enter Key'입력"
   ]
  },
  {
   "cell_type": "code",
   "execution_count": 24,
   "id": "8761badc",
   "metadata": {
    "collapsed": true
   },
   "outputs": [
    {
     "name": "stderr",
     "output_type": "stream",
     "text": [
      "C:\\Users\\bitcamp\\AppData\\Local\\Temp/ipykernel_13636/1348083306.py:2: DeprecationWarning: find_element_by_* commands are deprecated. Please use find_element() instead\n",
      "  driver.find_element_by_css_selector(path).click()\n"
     ]
    }
   ],
   "source": [
    "path = '#lnb > div.lnb_group > div > ul > li:nth-child(4) > a'         # 뉴스 탭\n",
    "driver.find_element_by_css_selector(path).click()                       # 클릭"
   ]
  },
  {
   "cell_type": "code",
   "execution_count": 26,
   "id": "d66ded16",
   "metadata": {},
   "outputs": [],
   "source": [
    "html = driver.page_source                # 이미 text를 불러옴"
   ]
  },
  {
   "cell_type": "code",
   "execution_count": 28,
   "id": "9088df6c",
   "metadata": {},
   "outputs": [],
   "source": [
    "soup = BeautifulSoup(html, 'html.parser')"
   ]
  },
  {
   "cell_type": "code",
   "execution_count": 30,
   "id": "9bf9c495",
   "metadata": {},
   "outputs": [],
   "source": [
    "driver.close()"
   ]
  },
  {
   "cell_type": "markdown",
   "id": "423b8673",
   "metadata": {},
   "source": [
    "## url = https://korean.visitkorea.or.kr\n",
    "---\n",
    "url에 접속해서 특정 검색어 검색 후 게시물의 제목, 지역, 해시태그를 출력 "
   ]
  },
  {
   "cell_type": "code",
   "execution_count": 162,
   "id": "638654e5",
   "metadata": {},
   "outputs": [],
   "source": [
    "import requests\n",
    "from bs4 import BeautifulSoup\n",
    "\n",
    "from selenium import webdriver\n",
    "from selenium.webdriver.common.keys import Keys"
   ]
  },
  {
   "cell_type": "code",
   "execution_count": 163,
   "id": "a8e84280",
   "metadata": {},
   "outputs": [],
   "source": [
    "driver = webdriver.Chrome()"
   ]
  },
  {
   "cell_type": "code",
   "execution_count": 164,
   "id": "90b178d3",
   "metadata": {},
   "outputs": [],
   "source": [
    "driver.get('https://korean.visitkorea.or.kr')"
   ]
  },
  {
   "cell_type": "code",
   "execution_count": 167,
   "id": "aebce748",
   "metadata": {
    "collapsed": true
   },
   "outputs": [
    {
     "name": "stderr",
     "output_type": "stream",
     "text": [
      "C:\\Users\\bitcamp\\AppData\\Local\\Temp/ipykernel_13636/378641915.py:1: DeprecationWarning: find_element_by_* commands are deprecated. Please use find_element() instead\n",
      "  elem = driver.find_element_by_id('inp_search')\n"
     ]
    }
   ],
   "source": [
    "elem = driver.find_element_by_id('inp_search')"
   ]
  },
  {
   "cell_type": "code",
   "execution_count": 168,
   "id": "a5c41fff",
   "metadata": {},
   "outputs": [],
   "source": [
    "elem.send_keys('거제')"
   ]
  },
  {
   "cell_type": "code",
   "execution_count": 169,
   "id": "bc4076df",
   "metadata": {},
   "outputs": [],
   "source": [
    "elem.send_keys(Keys.RETURN)  "
   ]
  },
  {
   "cell_type": "code",
   "execution_count": 170,
   "id": "685b50db",
   "metadata": {},
   "outputs": [],
   "source": [
    "html = driver.page_source\n",
    "soup = BeautifulSoup(html, 'html.parser')"
   ]
  },
  {
   "cell_type": "code",
   "execution_count": 171,
   "id": "ba060ea2",
   "metadata": {},
   "outputs": [],
   "source": [
    "path = \"#listBody > ul\"\n",
    "contents = soup.select(path)\n",
    "# title = contents[0].select('img')[0]['alt'].replace('<br>', '')\n",
    "# place = contents[0].select('p')[0].text\n",
    "# hash_tag = contents[0].select('p')[1].text"
   ]
  },
  {
   "cell_type": "code",
   "execution_count": 159,
   "id": "74007941",
   "metadata": {},
   "outputs": [
    {
     "name": "stdout",
     "output_type": "stream",
     "text": [
      "제목 : 풍경이 끝내주는 거제도 필수 여행스팟 6\n",
      "지역 : 경상남도 거제시\n",
      "해시태그 : #거제도  #거제도여행코스  #바람의언덕  #바람의핫도그  #외도보타니아  #학동몽돌해변  #신선대  #와현해수욕장  #바릇  #거제가볼만한곳  #여름휴가_미리보기  #6월가볼만한곳 \n",
      "========================================================================================================================\n",
      "제목 : 이순신 장군과 떠나는, 거제 동쪽 바다여행\n",
      "지역 : 경상남도 거제시\n",
      "해시태그 : #거제여행코스  #거제여행  #거제가볼만한곳  #옥포대첩기념공원  #옥포항  #와현해수욕장  #구조라성  #매미성  #칼바람뚫고_호로록  #역사와_풍경을_동시에!  #속시원한_바다여행 \n",
      "========================================================================================================================\n",
      "제목 : 알록달록 수국과 인생샷은 덤, 거제 수국로드\n",
      "지역 : 경상남도 거제시\n",
      "해시태그 : #거제여행  #거제가볼만한곳  #파란대문집  #포토존  #수국  #저구항  #인생샷  #바람의언덕  #거제바람의언덕  #거제외도보타니아  #외도보타니아 \n",
      "========================================================================================================================\n",
      "제목 : 랜선으로 청량함 가득한 거제의 여름 만끽하기\n",
      "지역 : 경상남도 거제시\n",
      "해시태그 : #거제여행  #거제가볼만한곳  #여름여행  #근포마을  #저구마을  #수국  #동부저수지  #포토존  #거제포토존  #오송웨이브  #요트투어  #바람곶우체국  #올담농원  #이색체험  #랜선여행 \n",
      "========================================================================================================================\n",
      "제목 : 거제에서 단 하루가 주어진다면 - 로맨틱 스폿 4\n",
      "지역 : 경상남도 거제시\n",
      "해시태그 : #설날연휴가볼만한곳  #1월가볼만한곳  #거제도  #공곶이  #트레킹  #바람의언덕  #매미성  #이색카페  #볼리에르  #힐링여행  #봄꽃여행  #이른봄여행  #SNS속_인생샷명소  #인생샷_핫플레이스  #SNS감성사진  #인스타감성여행지  #인스타_핫플레이스  #데이트명소  #미리봄_여행지 \n",
      "========================================================================================================================\n",
      "제목 : 사진맛집? 거제 여름 인생샷 스팟,거제 가볼 만한 곳, 국내 여름휴가\n",
      "지역 : 경상남도 거제시\n",
      "해시태그 : #경남가볼만한곳  #거제가볼만한곳  #거제여행  #매미성  #인생샷  #산방산비원  #바람의언덕  #신선대  #수국  #저구마을  #근포마을  #땅굴  #감성사진  #인생샷_핫플레이스  #SNS속_인생샷명소  #인스타_핫플레이스  #인스타감성여행지 \n",
      "========================================================================================================================\n",
      "제목 : 거제&통영 여행 꿀팁. 깨알 팁 다수 포함! 봄 산책하기 좋은 1박2일 거제&통영 여행 코스\n",
      "지역 : 경상남도 거제시\n",
      "해시태그 : #거제맛집  #거제여행  #거제가볼만한곳  #통영여행  #통영가볼만한곳  #통영맛집  #통영루지  #봄산책  #봄여행  #걷기좋은길 \n",
      "========================================================================================================================\n",
      "제목 : 또 올 거제? 또 갈 거제!\n",
      "지역 : 경상남도 거제시\n",
      "해시태그 : #무장애여행  #영유아  #영유아추천코스  #영유아 추천코스  #경상남도  #거제 \n",
      "========================================================================================================================\n",
      "제목 : 겨울 별미 대구가 돌아왔다, 거제 외포 대구탕\n",
      "지역 : 경상남도 거제시\n",
      "해시태그 : #겨울제철음식  #거제맛집  #지심도  #바람의언덕  #신선대  #거제씨월드  #거가대교  #추천가볼만한곳  #거제가볼만한곳  #거제당일코스  #거제1박2일코스  #2015년1월추천가볼만한곳  #1월추천가볼만한곳 \n",
      "========================================================================================================================\n",
      "제목 : 보석 같은 해금강 비경이 한눈에, 거제 우제봉전망대\n",
      "지역 : 경상남도 거제시\n",
      "해시태그 : #2021겨울시즌비대면안심관광지25선  #거제여행  #거제가볼만한곳  #우제봉전망대  #해금강  #해금강유람선  #전망대  #동백숲길  #2021비대면안심관광지  #비대면안심관광지  #비대면_안심관광지  #경상권_비대면관광지  #겨울_비대면관광지  #산책하기좋은 \n",
      "========================================================================================================================\n"
     ]
    }
   ],
   "source": [
    "for i in range(10):\n",
    "#     title = contents[0].select('img')[i]['alt'].replace('<br>', '')\n",
    "    title = contents[0].select('div.tit > a')[i].text\n",
    "    place = contents[0].select('div.service > p')[i].text\n",
    "    hash_tag = contents[0].select('div.area_txt > p')[i].text\n",
    "    hash_tag = hash_tag.replace('#', '  #')\n",
    "#     hash_tag = hash_tag.split('#')\n",
    "#     hash_tag = '  #'.join(hash_tag[1:])\n",
    "#     hash_tag = '#' + hash_tag\n",
    "    print('제목 :', title)\n",
    "    print('지역 :',place)\n",
    "    print('해시태그 :', hash_tag[2:])\n",
    "    print('=' * 120)"
   ]
  },
  {
   "cell_type": "code",
   "execution_count": 172,
   "id": "97167c1b",
   "metadata": {},
   "outputs": [
    {
     "data": {
      "text/plain": [
       "'풍경이 끝내주는 거제도 필수 여행스팟 6'"
      ]
     },
     "execution_count": 172,
     "metadata": {},
     "output_type": "execute_result"
    }
   ],
   "source": [
    "asd = contents[0].select('div.tit > a')[0].text\n",
    "asd"
   ]
  },
  {
   "cell_type": "code",
   "execution_count": 157,
   "id": "9ffec855",
   "metadata": {},
   "outputs": [
    {
     "data": {
      "text/plain": [
       "'#거제도#거제도여행코스#바람의언덕#바람의핫도그#외도보타니아#학동몽돌해변#신선대#와현해수욕장#바릇#거제가볼만한곳#여름휴가_미리보기#6월가볼만한곳 '"
      ]
     },
     "execution_count": 157,
     "metadata": {},
     "output_type": "execute_result"
    }
   ],
   "source": [
    "contents = soup.select(path)\n",
    "title = contents[0].select('img')[0]['alt'].replace('<br>', '')\n",
    "contents[0]\n",
    "\n",
    "abcd =  soup.select('div.tit > a')\n",
    "abcd[0].text\n",
    "abcd =  soup.select('div.area_txt > p')\n",
    "abcd[0].text"
   ]
  },
  {
   "cell_type": "code",
   "execution_count": null,
   "id": "b42c7931",
   "metadata": {},
   "outputs": [],
   "source": [
    "#listBody > ul > li:nth-child(1) > div.area_txt > p"
   ]
  },
  {
   "cell_type": "code",
   "execution_count": 197,
   "id": "e3294826",
   "metadata": {},
   "outputs": [],
   "source": [
    "driver.close()"
   ]
  },
  {
   "cell_type": "markdown",
   "id": "ead78964",
   "metadata": {},
   "source": [
    "### selenium 정리\n",
    "\n",
    "selenium에서는 tag를 element라 칭한다\n",
    "\n",
    "---\n",
    " - 요소 하나를 리턴\n",
    " \n",
    " \n",
    "     - elem = find_element_by_class_name()\n",
    "         - 클래스 이름이 name에 해당하는 요소를 하나 추출한다.\n",
    "         \n",
    "         \n",
    "     - elem = find_element_by_id()          \n",
    "         - id속성으로 요소를 하나 추출한다  \n",
    "                  \n",
    "                  \n",
    "     - elem = find_element_by_xpath()\n",
    "         - XPath를 지정해요소를 하나 추출한다 \n",
    "              \n",
    "              \n",
    "     - elem = fine_element_by_link_text()         \n",
    "         - 링크 텍스트로 요소를 하나 추출한다\n",
    "         \n",
    "         \n",
    "     - elem = find_element_by_partial_link_text()          \n",
    "         - 링크의 자식요소에 포함돼 있는 텍스트로 요소를 하나 추출한다.  \n",
    "         \n",
    "         \n",
    "     - elem = find_element_by_name()          \n",
    "         - name속성으로 요소를 하나 추출한다 \n",
    "         \n",
    "         \n",
    "     - elem = find_element_by_tag_name()          \n",
    "         - 태그이름이 name에 해당하는 요소를 하나 추출한다  \n",
    "         \n",
    "         \n",
    "     - elem = find_elements_by_css_selector()         \n",
    "         - css선택자로 요소를 하나 추출한다\n",
    "         \n",
    "         \n",
    " \n",
    " - 요소 여러개를 리턴\n",
    " \n",
    " \n",
    "     - elem = find_elements_by_class_name()\n",
    "     - elem = find_elements_by_id()\n",
    "     - elem = find_elements_by_xpath()\n",
    "     - elem = find_elements_by_partial_link_text()\n",
    "     - elem = find_elements_by_name()\n",
    "     - elem = find_elements_by_tag_name()\n",
    "     - elem = find_elements_by_css_selector()\n",
    "         - CSS selector을 사용해 검색\n",
    "         "
   ]
  },
  {
   "cell_type": "markdown",
   "id": "4c3c8317",
   "metadata": {},
   "source": [
    "- clear()\n",
    "    - 글자를 입력할 수 있는 요소의 글자를 지운다\n",
    "\n",
    "\n",
    "- click()\n",
    "    - 요소를 클릭한다\n",
    "\n",
    "\n",
    "- get_attribute(name)\n",
    "    - 요소의 속성중에 name에 해당하는 속성의 값을 추출한다  \n",
    "\n",
    "\n",
    "- is_displyed()\n",
    "    - 요소가 화면에 출력되는지 확인한다.  \n",
    "    \n",
    "\n",
    "- screenshot(filename)\n",
    "    - 화면을 캡쳐해서 filename으로 저장한다.\n",
    " \n",
    "\n",
    " - send_keys(value)\n",
    "     - 키를 입력한다. 일반적으로 text데이터를 보낸다  \n",
    "---\n",
    "특수키를 사용해야 하는 경우에는 별도의 모듈을 사용해야 합니다.  \n",
    "\n",
    "- from selenium.Webdriver.common.keys import Keys   \n",
    "\n",
    "\n",
    "방향키 : ARROW_DOWN / ARROW_LEFT / ARROW_RIGHT / ARROW_UP     \n",
    "BACKSPACE / DELETE / HOME / END / INSERT     \n",
    "ALT / COMMAND / CONTROL / SHIFT     \n",
    "ENTER / ESCAPE / SPACE / TAB     \n",
    "F1 / F2 / F3 / F4 ..... / F12        "
   ]
  },
  {
   "cell_type": "markdown",
   "id": "9f8bffda",
   "metadata": {},
   "source": [
    "- id\n",
    "    - 요소의 id 속성\n",
    "\n",
    "\n",
    "- location\n",
    "    - 요소의 위치\n",
    "    \n",
    "\n",
    "- parent\n",
    "    - 부모 요소\n",
    "\n",
    "\n",
    "- rect\n",
    "    - 크기와 위치정보를 가진 딕셔너리 자료형을 리턴\n",
    "    \n",
    "\n",
    "- text\n",
    "    - 요소 내부의 글자"
   ]
  },
  {
   "cell_type": "code",
   "execution_count": null,
   "id": "05189e64",
   "metadata": {},
   "outputs": [],
   "source": []
  }
 ],
 "metadata": {
  "kernelspec": {
   "display_name": "Python 3 (ipykernel)",
   "language": "python",
   "name": "python3"
  },
  "language_info": {
   "codemirror_mode": {
    "name": "ipython",
    "version": 3
   },
   "file_extension": ".py",
   "mimetype": "text/x-python",
   "name": "python",
   "nbconvert_exporter": "python",
   "pygments_lexer": "ipython3",
   "version": "3.9.7"
  }
 },
 "nbformat": 4,
 "nbformat_minor": 5
}
