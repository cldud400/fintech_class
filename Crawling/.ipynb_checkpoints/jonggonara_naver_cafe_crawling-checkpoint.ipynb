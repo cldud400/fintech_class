{
 "cells": [
  {
   "cell_type": "markdown",
   "id": "8256048d",
   "metadata": {},
   "source": [
    "네이버 중고나라에서 검색어를 입력한 후 검색 결과 페이지의 게시물의   \n",
    "제목, 작성자, 작성일, 조회수 크롤링"
   ]
  },
  {
   "cell_type": "code",
   "execution_count": 23,
   "id": "928035c3",
   "metadata": {},
   "outputs": [],
   "source": [
    "import requests\n",
    "from bs4 import BeautifulSoup\n",
    "\n",
    "from selenium import webdriver\n",
    "from selenium.webdriver.common.keys import Keys\n",
    "import time"
   ]
  },
  {
   "cell_type": "code",
   "execution_count": 41,
   "id": "c748c88e",
   "metadata": {},
   "outputs": [],
   "source": [
    "url = 'https://cafe.naver.com/joonggonara'\n",
    "driver = webdriver.Chrome()"
   ]
  },
  {
   "cell_type": "code",
   "execution_count": 42,
   "id": "0a88dd03",
   "metadata": {},
   "outputs": [],
   "source": [
    "driver.get(url)"
   ]
  },
  {
   "cell_type": "code",
   "execution_count": 43,
   "id": "4bd8514e",
   "metadata": {},
   "outputs": [
    {
     "name": "stderr",
     "output_type": "stream",
     "text": [
      "C:\\Users\\bitcamp\\AppData\\Local\\Temp/ipykernel_7328/549752301.py:1: DeprecationWarning: find_element_by_* commands are deprecated. Please use find_element() instead\n",
      "  elem = driver.find_element_by_id('topLayerQueryInput')\n"
     ]
    }
   ],
   "source": [
    "elem = driver.find_element_by_id('topLayerQueryInput')"
   ]
  },
  {
   "cell_type": "code",
   "execution_count": 44,
   "id": "5fb1ae7e",
   "metadata": {},
   "outputs": [],
   "source": [
    "elem.send_keys('자전거')"
   ]
  },
  {
   "cell_type": "code",
   "execution_count": 45,
   "id": "ac47690e",
   "metadata": {},
   "outputs": [],
   "source": [
    "elem.send_keys(Keys.RETURN)"
   ]
  },
  {
   "cell_type": "code",
   "execution_count": 46,
   "id": "5714e644",
   "metadata": {},
   "outputs": [
    {
     "name": "stderr",
     "output_type": "stream",
     "text": [
      "C:\\Users\\bitcamp\\AppData\\Local\\Temp/ipykernel_7328/2151225999.py:1: DeprecationWarning: find_elements_by_* commands are deprecated. Please use find_elements() instead\n",
      "  elem = driver.find_elements_by_css_selector('#main-area > di > table > tbody > tr > td.td_article > div.board-list > div > a')\n"
     ]
    },
    {
     "data": {
      "text/plain": [
       "[]"
      ]
     },
     "execution_count": 46,
     "metadata": {},
     "output_type": "execute_result"
    }
   ],
   "source": [
    "elem = driver.find_elements_by_css_selector('#main-area > di > table > tbody > tr > td.td_article > div.board-list > div > a')\n",
    "elem"
   ]
  },
  {
   "cell_type": "code",
   "execution_count": 34,
   "id": "5924d942",
   "metadata": {},
   "outputs": [
    {
     "name": "stderr",
     "output_type": "stream",
     "text": [
      "C:\\Users\\bitcamp\\AppData\\Local\\Temp/ipykernel_7328/2836088684.py:1: DeprecationWarning: find_elements_by_* commands are deprecated. Please use find_elements() instead\n",
      "  elem = driver.find_elements_by_xpath('//*[@id=\"main-area\"]/div[5]/table/tbody/tr[1]/td[1]/div[2]/div/a')\n"
     ]
    },
    {
     "data": {
      "text/plain": [
       "[]"
      ]
     },
     "execution_count": 34,
     "metadata": {},
     "output_type": "execute_result"
    }
   ],
   "source": [
    "elem = driver.find_elements_by_xpath('//*[@id=\"main-area\"]/div[5]/table/tbody/tr[1]/td[1]/div[2]/div/a')\n",
    "elem"
   ]
  },
  {
   "cell_type": "markdown",
   "id": "8acf0411",
   "metadata": {},
   "source": [
    "# iframe - html\n",
    "html 안에 다른 웹페이지를 가져와서 보여주는 기능   \n",
    "\n",
    "\n",
    "iframe 내부에 있는 내용을 크롤링하고자 하는 경우\n",
    "=> 콘텐츠가 있는 원본 사이트로 이동을 해야한다"
   ]
  },
  {
   "cell_type": "markdown",
   "id": "f4737339",
   "metadata": {},
   "source": [
    "### iframe 내부의 프레임으로 이동   \n",
    "\n",
    "---\n"
   ]
  },
  {
   "cell_type": "code",
   "execution_count": 47,
   "id": "88148d5a",
   "metadata": {},
   "outputs": [
    {
     "name": "stderr",
     "output_type": "stream",
     "text": [
      "C:\\Users\\bitcamp\\AppData\\Local\\Temp/ipykernel_7328/551433495.py:1: DeprecationWarning: find_element_by_* commands are deprecated. Please use find_element() instead\n",
      "  iframe = driver.find_element_by_id('cafe_main')\n"
     ]
    }
   ],
   "source": [
    "iframe = driver.find_element_by_id('cafe_main')"
   ]
  },
  {
   "cell_type": "code",
   "execution_count": 48,
   "id": "aa0a6439",
   "metadata": {},
   "outputs": [],
   "source": [
    "driver.switch_to.frame(iframe)"
   ]
  },
  {
   "cell_type": "code",
   "execution_count": 65,
   "id": "c68b5c2d",
   "metadata": {
    "scrolled": true
   },
   "outputs": [
    {
     "name": "stderr",
     "output_type": "stream",
     "text": [
      "C:\\Users\\bitcamp\\AppData\\Local\\Temp/ipykernel_7328/3793787386.py:1: DeprecationWarning: find_elements_by_* commands are deprecated. Please use find_elements() instead\n",
      "  titles = driver.find_elements_by_css_selector('a.article')\n",
      "C:\\Users\\bitcamp\\AppData\\Local\\Temp/ipykernel_7328/3793787386.py:3: DeprecationWarning: find_elements_by_* commands are deprecated. Please use find_elements() instead\n",
      "  names = driver.find_elements_by_css_selector('a.m-tcol-c')\n",
      "C:\\Users\\bitcamp\\AppData\\Local\\Temp/ipykernel_7328/3793787386.py:5: DeprecationWarning: find_elements_by_* commands are deprecated. Please use find_elements() instead\n",
      "  dates = driver.find_elements_by_css_selector('td.td_date')\n",
      "C:\\Users\\bitcamp\\AppData\\Local\\Temp/ipykernel_7328/3793787386.py:7: DeprecationWarning: find_elements_by_* commands are deprecated. Please use find_elements() instead\n",
      "  views = driver.find_elements_by_css_selector('td.td_view')\n"
     ]
    },
    {
     "name": "stdout",
     "output_type": "stream",
     "text": [
      "제목:  킥보드 로드자전거 크랭크 헬멧 하이바 m사이즈 새거\n",
      "작성자:  dbqla2032\n",
      "날짜:  15:45\n",
      "조회수:  4\n",
      "====================================================================================================\n",
      "제목:  이고진실내자전거\n",
      "작성자:  별똥별10000\n",
      "날짜:  15:33\n",
      "조회수:  8\n",
      "====================================================================================================\n",
      "제목:  [앱상품][실내자전거][100,000원]\n",
      "작성자:  뽀끈까만콩\n",
      "날짜:  15:29\n",
      "조회수:  1\n",
      "====================================================================================================\n",
      "제목:  삼천리16인치 자전거 9만원\n",
      "작성자:  예쁜이\n",
      "날짜:  15:26\n",
      "조회수:  8\n",
      "====================================================================================================\n",
      "제목:  스카이 카스텔리 기모져지 겨울자전거복 싸이클져지 자전거복 자전거의류 라이딩 택포 새상품 싸이클복\n",
      "작성자:  bbzzang77\n",
      "날짜:  15:23\n",
      "조회수:  2\n",
      "====================================================================================================\n",
      "제목:  전기자전거 최상급 mtb 메리다 e160 이원식스티 10k 20년식\n",
      "작성자:  home더하기\n",
      "날짜:  15:12\n",
      "조회수:  58\n",
      "====================================================================================================\n",
      "제목:  마지 프리미아레 pc1 벨리시마 masi premiare 여성용 사이클 로드 자전거\n",
      "작성자:  AndrewKim\n",
      "날짜:  15:01\n",
      "조회수:  56\n",
      "====================================================================================================\n",
      "제목:  마지 이니지오 로드자전거 판매합니다\n",
      "작성자:  로드의끝판왕\n",
      "날짜:  14:46\n",
      "조회수:  48\n",
      "====================================================================================================\n",
      "제목:  삼천리 엑스존 20인치 3단 접이식 뒷샥 미니벨로 자전거 초등-성인 185cm\n",
      "작성자:  큰둥이\n",
      "날짜:  14:40\n",
      "조회수:  24\n",
      "====================================================================================================\n",
      "제목:  스페셜라이즈드 알레스포츠 15년식 소라 로드자전거 49사이즈 팔아요\n",
      "작성자:  zldzpdlf\n",
      "날짜:  14:37\n",
      "조회수:  36\n",
      "====================================================================================================\n",
      "제목:  트렉 도마니 4.5 디스크브레이크 로드자전거 56사이즈 팔아요 디브 자전거\n",
      "작성자:  zldzpdlf\n",
      "날짜:  14:36\n",
      "조회수:  26\n",
      "====================================================================================================\n",
      "제목:  자전거 체인 11단, 7만원->25,000원\n",
      "작성자:  하루\n",
      "날짜:  14:34\n",
      "조회수:  16\n",
      "====================================================================================================\n",
      "제목:  1000루멘 자전거 킥보드 후레쉬 라이트 (전용거치대 포함) 판매합니다.\n",
      "작성자:  Galantisss\n",
      "날짜:  14:34\n",
      "조회수:  2\n",
      "====================================================================================================\n",
      "제목:  자전거 킥보드 도난방지 원격 경보기+후미등 판매합니다.\n",
      "작성자:  Galantisss\n",
      "날짜:  14:31\n",
      "조회수:  2\n",
      "====================================================================================================\n",
      "제목:  삼천리 디즈니 자전거(프린세스 18)\n",
      "작성자:  yangpa22\n",
      "날짜:  14:23\n",
      "조회수:  6\n",
      "====================================================================================================\n"
     ]
    }
   ],
   "source": [
    "titles = driver.find_elements_by_css_selector('a.article')\n",
    "\n",
    "names = driver.find_elements_by_css_selector('a.m-tcol-c')\n",
    "\n",
    "dates = driver.find_elements_by_css_selector('td.td_date')\n",
    "\n",
    "views = driver.find_elements_by_css_selector('td.td_view')\n",
    "\n",
    "for i in range(len(titles)):\n",
    "    print('제목: ', titles[i].text)\n",
    "    print('작성자: ', names[i].text)\n",
    "    print('날짜: ', dates[i].text)\n",
    "    print('조회수: ', views[i].text)\n",
    "    print('=' * 100)"
   ]
  },
  {
   "cell_type": "code",
   "execution_count": 64,
   "id": "b9b3535e",
   "metadata": {},
   "outputs": [
    {
     "data": {
      "text/plain": [
       "'8'"
      ]
     },
     "execution_count": 64,
     "metadata": {},
     "output_type": "execute_result"
    }
   ],
   "source": []
  },
  {
   "cell_type": "code",
   "execution_count": null,
   "id": "f70e6f04",
   "metadata": {},
   "outputs": [],
   "source": []
  },
  {
   "cell_type": "code",
   "execution_count": null,
   "id": "c4b625ee",
   "metadata": {},
   "outputs": [],
   "source": []
  },
  {
   "cell_type": "code",
   "execution_count": null,
   "id": "6cd61452",
   "metadata": {},
   "outputs": [],
   "source": []
  },
  {
   "cell_type": "code",
   "execution_count": null,
   "id": "05a483ce",
   "metadata": {},
   "outputs": [],
   "source": []
  },
  {
   "cell_type": "code",
   "execution_count": null,
   "id": "bb9dc058",
   "metadata": {},
   "outputs": [],
   "source": []
  },
  {
   "cell_type": "code",
   "execution_count": null,
   "id": "a2085de0",
   "metadata": {},
   "outputs": [],
   "source": []
  }
 ],
 "metadata": {
  "kernelspec": {
   "display_name": "Python 3 (ipykernel)",
   "language": "python",
   "name": "python3"
  },
  "language_info": {
   "codemirror_mode": {
    "name": "ipython",
    "version": 3
   },
   "file_extension": ".py",
   "mimetype": "text/x-python",
   "name": "python",
   "nbconvert_exporter": "python",
   "pygments_lexer": "ipython3",
   "version": "3.9.7"
  }
 },
 "nbformat": 4,
 "nbformat_minor": 5
}
