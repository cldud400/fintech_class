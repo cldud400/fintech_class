{
 "cells": [
  {
   "cell_type": "markdown",
   "id": "fc12ae35",
   "metadata": {},
   "source": [
    "# 다나와 사이트에 로그인 한 후 관심상품 목록 출력하기\n",
    "- 제품, 상세정보, 가격"
   ]
  },
  {
   "cell_type": "code",
   "execution_count": 1,
   "id": "b7ca7e69",
   "metadata": {},
   "outputs": [],
   "source": [
    "import requests\n",
    "from bs4 import BeautifulSoup\n",
    "\n",
    "from selenium import webdriver\n",
    "from selenium.webdriver.common.keys import Keys\n",
    "\n",
    "# 아이디, 비번 저장해놓은 파일\n",
    "import sec"
   ]
  },
  {
   "cell_type": "code",
   "execution_count": null,
   "id": "a076a542",
   "metadata": {},
   "outputs": [],
   "source": [
    "url = 'http://www.danawa.com/'\n",
    "driver = webdriver.Chrome()"
   ]
  },
  {
   "cell_type": "code",
   "execution_count": 108,
   "id": "ceadaba8",
   "metadata": {},
   "outputs": [],
   "source": [
    "user_id = sec.sec_id_pw['id']\n",
    "user_pw = sec.sec_id_pw['pw']"
   ]
  },
  {
   "cell_type": "code",
   "execution_count": 94,
   "id": "52722076",
   "metadata": {
    "scrolled": true
   },
   "outputs": [
    {
     "name": "stderr",
     "output_type": "stream",
     "text": [
      "C:\\Users\\bitcamp\\AppData\\Local\\Temp/ipykernel_15008/2662168346.py:7: DeprecationWarning: find_element_by_* commands are deprecated. Please use find_element() instead\n",
      "  elem = driver.find_element_by_css_selector('#danawa_menubar > div.main-header__user > div:nth-child(5) > a').click()\n",
      "C:\\Users\\bitcamp\\AppData\\Local\\Temp/ipykernel_15008/2662168346.py:9: DeprecationWarning: find_element_by_* commands are deprecated. Please use find_element() instead\n",
      "  elem = driver.find_element_by_id('danawa-member-login-input-id')\n",
      "C:\\Users\\bitcamp\\AppData\\Local\\Temp/ipykernel_15008/2662168346.py:13: DeprecationWarning: find_element_by_* commands are deprecated. Please use find_element() instead\n",
      "  elem = driver.find_element_by_id('danawa-member-login-input-pwd')\n",
      "C:\\Users\\bitcamp\\AppData\\Local\\Temp/ipykernel_15008/2662168346.py:17: DeprecationWarning: find_element_by_* commands are deprecated. Please use find_element() instead\n",
      "  elem = driver.find_element_by_id('danawa-member-login-loginButton').click()\n",
      "C:\\Users\\bitcamp\\AppData\\Local\\Temp/ipykernel_15008/2662168346.py:19: DeprecationWarning: find_element_by_* commands are deprecated. Please use find_element() instead\n",
      "  elem = driver.find_element_by_css_selector('#danawa_menubar > div.main-header__user > div:nth-child(4) > a > span.txt').click()\n"
     ]
    }
   ],
   "source": [
    "import time\n",
    "url = 'http://www.danawa.com/'\n",
    "driver = webdriver.Chrome()\n",
    "time.sleep(0.5)\n",
    "driver.get(url)\n",
    "time.sleep(0.5)\n",
    "elem = driver.find_element_by_css_selector('#danawa_menubar > div.main-header__user > div:nth-child(5) > a').click()\n",
    "time.sleep(0.5)\n",
    "elem = driver.find_element_by_id('danawa-member-login-input-id')\n",
    "time.sleep(0.5)\n",
    "elem.send_keys(user_id)\n",
    "time.sleep(0.5)\n",
    "elem = driver.find_element_by_id('danawa-member-login-input-pwd')\n",
    "time.sleep(0.5)\n",
    "elem.send_keys(user_pw)\n",
    "time.sleep(0.5)\n",
    "elem = driver.find_element_by_id('danawa-member-login-loginButton').click()\n",
    "time.sleep(0.5)\n",
    "elem = driver.find_element_by_css_selector('#danawa_menubar > div.main-header__user > div:nth-child(4) > a > span.txt').click()\n",
    "time.sleep(0.5)\n",
    "\n",
    "\n",
    "# 데이터 크롤링\n",
    "html = driver.page_source\n",
    "soup = BeautifulSoup(html, 'html.parser')\n",
    "\n",
    "path = \"#wishProductListArea > table > tbody\"\n",
    "contents = soup.select(path)\n",
    "\n",
    "with open('danawa_contents.txt', 'w', encoding='utf=8') as f:\n",
    "    l = len(contents[0].select('tr > td > div.tit > a'))\n",
    "    for i in range(l):\n",
    "        # 제목\n",
    "        title = contents[0].select('tr > td > div.tit > a')[i].text.strip()\n",
    "        # 가격\n",
    "        cost = contents[0].select('tr > td > dl > div.cost > span')[i].text.strip()\n",
    "        # 상세정보\n",
    "        conts = contents[0].select('tr > td > dl > dd')[i].text.strip()\n",
    "        # 날짜\n",
    "        date = contents[0].select('tr > td > div.sub_info.clear > dl > dd')[0].text.strip()\n",
    "        # 평점\n",
    "        stars = contents[0].select('div.sub_info.clear > dl > dd > span')[0].text\n",
    "        f.write(title + '\\n')\n",
    "        f.write(cost+ '\\n')\n",
    "        f.write(conts+ '\\n')\n",
    "        f.write(date+ '\\n')\n",
    "        f.write(stars+ '\\n')\n",
    "        f.write('=' * 120)\n",
    "        f.write('\\n')\n",
    "    #     print('제목: ', title)\n",
    "    #     print('가격: ', cost)\n",
    "    #     print('상세정보: ', conts)\n",
    "    #     print('날짜: ', date)\n",
    "    #     print('평점: ', stars)\n",
    "    #     print('=' * 120)\n",
    "with open('danawa_contents.txt', 'r', encoding='utf=8') as f:\n",
    "    f.read()\n",
    "\n",
    "# elem = driver.find_element_by_id('AKCSearch')\n",
    "# elem.send_keys('데스크탑')\n",
    "# time.sleep(0.5)\n",
    "# elem.send_keys(Keys.RETURN)\n",
    "# elem = driver.find_element_by_css_selector('#adReaderProductItem16185794 > div > div.prod_info > p > a').click()\n",
    "# elem =driver.find_element_by_id('interest').click()\n",
    "# elem = driver.find_element_by_id('wishFolder_106869858').click()\n",
    "# driver.close()\n",
    "# html = driver.page_source\n",
    "# soup = BeautifulSoup(html, 'html.parser')\n",
    "# path = \"#wishProductListArea > table > tbody\"\n",
    "# contents = soup.select(path)"
   ]
  },
  {
   "cell_type": "code",
   "execution_count": 29,
   "id": "b283630e",
   "metadata": {},
   "outputs": [],
   "source": [
    "html = driver.page_source\n",
    "soup = BeautifulSoup(html, 'html.parser')\n",
    "\n",
    "path = \"#wishProductListArea > table > tbody\"\n",
    "contents = soup.select(path)\n",
    "\n",
    "l = len(contents[0].select('tr > td > div.tit > a'))\n",
    "for i in range(l):\n",
    "    # 제목\n",
    "    title = contents[0].select('tr > td > div.tit > a')[i].text.strip()\n",
    "    # 가격\n",
    "    cost = contents[0].select('tr > td > dl > div.cost > span')[i].text.strip()\n",
    "    # 상세정보\n",
    "    conts = contents[0].select('tr > td > dl > dd')[i].text.strip()\n",
    "    # 날짜\n",
    "    date = contents[0].select('tr > td > div.sub_info.clear > dl > dd')[0].text.strip()\n",
    "    # 평점\n",
    "    stars = contents[0].select('div.sub_info.clear > dl > dd > span')[0].text\n",
    "    \n",
    "    print('제목: ', title)\n",
    "    print('가격: ', cost)\n",
    "    print('상세정보: ', conts)\n",
    "    print('날짜: ', date)\n",
    "    print('평점: ', stars)\n",
    "    print('=' * 120)\n",
    "    "
   ]
  },
  {
   "cell_type": "code",
   "execution_count": 61,
   "id": "0f2d223a",
   "metadata": {},
   "outputs": [],
   "source": [
    "driver.close()"
   ]
  },
  {
   "cell_type": "code",
   "execution_count": 96,
   "id": "5943849c",
   "metadata": {},
   "outputs": [],
   "source": [
    "import sec\n",
    "\n",
    "# 강사님\n",
    "driver = webdriver.Chrome()\n",
    "url = 'http://www.danawa.com/'\n",
    "driver.get(url)"
   ]
  },
  {
   "cell_type": "code",
   "execution_count": 103,
   "id": "a4b6ddd0",
   "metadata": {},
   "outputs": [
    {
     "name": "stderr",
     "output_type": "stream",
     "text": [
      "C:\\Users\\bitcamp\\AppData\\Local\\Temp/ipykernel_15008/2443186131.py:2: DeprecationWarning: find_element_by_* commands are deprecated. Please use find_element() instead\n",
      "  driver.find_element_by_xpath(path).click()\n"
     ]
    }
   ],
   "source": [
    "path = '//*[@id=\"danawa_menubar\"]/div[3]/div[3]/a'\n",
    "driver.find_element_by_xpath(path).click()"
   ]
  },
  {
   "cell_type": "code",
   "execution_count": 100,
   "id": "1c541c10",
   "metadata": {},
   "outputs": [],
   "source": [
    "sec.sec_id_pw['id'] = 'cldud400@naver.com'\n",
    "sec.sec_id_pw['pw'] = 'selenium1!'\n",
    "\n",
    "\n",
    "userid = sec_sec_id_pw['id']\n",
    "passwd = sec_sec_id_pw['pw']"
   ]
  },
  {
   "cell_type": "code",
   "execution_count": 104,
   "id": "97979985",
   "metadata": {},
   "outputs": [
    {
     "name": "stderr",
     "output_type": "stream",
     "text": [
      "C:\\Users\\bitcamp\\AppData\\Local\\Temp/ipykernel_15008/4196980011.py:1: DeprecationWarning: find_element_by_* commands are deprecated. Please use find_element() instead\n",
      "  driver.find_element_by_id('danawa-member-login-input-id').send_keys(userid)\n"
     ]
    }
   ],
   "source": [
    "driver.find_element_by_id('danawa-member-login-input-id').send_keys(userid)"
   ]
  },
  {
   "cell_type": "code",
   "execution_count": 105,
   "id": "a5b95833",
   "metadata": {},
   "outputs": [
    {
     "name": "stderr",
     "output_type": "stream",
     "text": [
      "C:\\Users\\bitcamp\\AppData\\Local\\Temp/ipykernel_15008/3955079498.py:1: DeprecationWarning: find_element_by_* commands are deprecated. Please use find_element() instead\n",
      "  driver.find_element_by_id('danawa-member-login-input-pwd').send_keys(passwd)\n"
     ]
    }
   ],
   "source": [
    "driver.find_element_by_id('danawa-member-login-input-pwd').send_keys(passwd)"
   ]
  },
  {
   "cell_type": "code",
   "execution_count": 106,
   "id": "7e5ea949",
   "metadata": {},
   "outputs": [
    {
     "name": "stderr",
     "output_type": "stream",
     "text": [
      "C:\\Users\\bitcamp\\AppData\\Local\\Temp/ipykernel_15008/1352965252.py:1: DeprecationWarning: find_element_by_* commands are deprecated. Please use find_element() instead\n",
      "  driver.find_element_by_id('danawa-member-login-loginButton').click()\n"
     ]
    }
   ],
   "source": [
    "driver.find_element_by_id('danawa-member-login-loginButton').click()"
   ]
  },
  {
   "cell_type": "code",
   "execution_count": 107,
   "id": "cefcbf1a",
   "metadata": {},
   "outputs": [
    {
     "name": "stderr",
     "output_type": "stream",
     "text": [
      "C:\\Users\\bitcamp\\AppData\\Local\\Temp/ipykernel_15008/3808448386.py:1: DeprecationWarning: find_element_by_* commands are deprecated. Please use find_element() instead\n",
      "  driver.find_element_by_xpath('//*[@id=\"danawa_menubar\"]/div[3]/div[2]/a').click()\n"
     ]
    }
   ],
   "source": [
    "driver.find_element_by_xpath('//*[@id=\"danawa_menubar\"]/div[3]/div[2]/a').click()"
   ]
  },
  {
   "cell_type": "code",
   "execution_count": 91,
   "id": "f9849625",
   "metadata": {},
   "outputs": [],
   "source": [
    "html = driver.page_source\n",
    "soup = BeautifulSoup(html, 'html.parser')\n",
    "path = '#wishProductListArea > table > tbody'\n",
    "tags = soup.select(path)"
   ]
  },
  {
   "cell_type": "code",
   "execution_count": null,
   "id": "0e02bbbe",
   "metadata": {},
   "outputs": [],
   "source": []
  },
  {
   "cell_type": "code",
   "execution_count": null,
   "id": "31fb7ac8",
   "metadata": {},
   "outputs": [],
   "source": []
  },
  {
   "cell_type": "code",
   "execution_count": null,
   "id": "12c21c92",
   "metadata": {},
   "outputs": [],
   "source": []
  }
 ],
 "metadata": {
  "kernelspec": {
   "display_name": "Python 3 (ipykernel)",
   "language": "python",
   "name": "python3"
  },
  "language_info": {
   "codemirror_mode": {
    "name": "ipython",
    "version": 3
   },
   "file_extension": ".py",
   "mimetype": "text/x-python",
   "name": "python",
   "nbconvert_exporter": "python",
   "pygments_lexer": "ipython3",
   "version": "3.9.7"
  }
 },
 "nbformat": 4,
 "nbformat_minor": 5
}
