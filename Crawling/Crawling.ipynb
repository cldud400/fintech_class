{
 "cells": [
  {
   "cell_type": "markdown",
   "id": "5a26537c",
   "metadata": {},
   "source": [
    "# Crawling(scrapying)\n",
    "---\n",
    "- web에서 데이터를 프로그램을 통해서 가져오는 작업\n",
    "\n",
    "\n",
    "- web구성하는 언어 - html, css, javascript \n",
    "    - html은 웹을 기본 구조를 구성하는 스크립트 언어\n",
    "    - css는 웹을 꾸며주는 언어\n",
    "    - javascript는 웹이 동적으로 작동하도록 만드는 언어\n",
    "    "
   ]
  },
  {
   "cell_type": "markdown",
   "id": "42e30823",
   "metadata": {},
   "source": [
    "## html\n",
    "---\n",
    "- 기본 구조는 태그 - 여는 태그 '<', 닫는 태그 '/>'\n",
    "- 태그 계층구조 부모태그, 자식태그, ...\n",
    "\n",
    "- \\<head> 정보... \\</head> : 웹의 정보를 담고 있는 태그\n",
    "- \\<body> 태그... \\<body> : 웹에서 눈으로 보는 내용이 들어있는 태그"
   ]
  },
  {
   "cell_type": "code",
   "execution_count": 3,
   "id": "3a974f8b",
   "metadata": {},
   "outputs": [],
   "source": [
    "# <html>\n",
    "#     <head>\n",
    "#         web page meta 정보\n",
    "    \n",
    "#     </head>\n",
    "    \n",
    "#     <body>                                                    body : 웹에서 눈에 보이는 부분\n",
    "#         웹페이지에서 보여지는 콘텐츠가 들어가는 부분\n",
    "#         <p>문단을 나타냅니다</p>                             p : 문단태크\n",
    "#         <div><h3>제목을 나타냅니다</h3></div>                div : 박스태그   h : 제목태그 (3 : 글자크기)\n",
    "#     </body>\n",
    "# </html>"
   ]
  },
  {
   "cell_type": "code",
   "execution_count": 4,
   "id": "06c1fa3b",
   "metadata": {},
   "outputs": [],
   "source": [
    "# <html>\n",
    "#     <head>\n",
    "#         web page meta 정보\n",
    "    \n",
    "#     </head>\n",
    "    \n",
    "#     <body>\n",
    "#         <table border = 1>                        table : 표를 만드는 태그\n",
    "#         <tr>                                      tr : 테이블의 행\n",
    "#             <td>항목</td>                         td : 테이블의 칼럼\n",
    "#             <td>2013/td>\n",
    "#             <td>2014</td>\n",
    "#         </tr>\n",
    "#         <tr>                                       표 2행\n",
    "#             <td>항목</td>\n",
    "#             <td>2013/td>\n",
    "#             <td>2014</td>\n",
    "#         </tr>\n",
    "#     </body>\n",
    "# </html>"
   ]
  },
  {
   "cell_type": "code",
   "execution_count": 5,
   "id": "cb80771f",
   "metadata": {},
   "outputs": [],
   "source": [
    "# <html>\n",
    "#     <head>\n",
    "#         <style>                                  style : css 스타일을 조정\n",
    "#             p {color:blue;}                      p 태그는 blue\n",
    "#             div {color:red;}                     div 태그는 red\n",
    "#         </style>\n",
    "#     </head>\n",
    "    \n",
    "#     <body>\n",
    "#         <p> paragragh1 </p>                       p : 문단을 나누는 태그\n",
    "#         <p> paragragh2 </p> \n",
    "#         <div> div1 </div> \n",
    "#     </body>\n",
    "# </html>"
   ]
  },
  {
   "cell_type": "code",
   "execution_count": 6,
   "id": "0d9f8705",
   "metadata": {},
   "outputs": [],
   "source": [
    "# <html>\n",
    "#     <head>\n",
    "#         <style>\n",
    "#             #title{color:blue;}     '#'id : 전체 웹문서에서 단 한곳에만 적용 가능      \n",
    "#             .par{color:red;}         class :  여러 곳에 적용 가능\n",
    "#         </style>\n",
    "#     </head>\n",
    "    \n",
    "#     <body>\n",
    "#         <p id=title> paragragh1 </p> \n",
    "#         <p class = par> paragragh2 </p> \n",
    "#         <div class = par> div1 </div> \n",
    "#     </body>\n",
    "# </html>"
   ]
  },
  {
   "cell_type": "code",
   "execution_count": 46,
   "id": "017003ed",
   "metadata": {},
   "outputs": [],
   "source": [
    "html = '''\n",
    "<html>\n",
    "    <head>\n",
    "        web page meta 정보\n",
    "    \n",
    "    </head>\n",
    "    \n",
    "    <body>\n",
    "        <table border = 1>\n",
    "        <tr>\n",
    "            <td>항목</td>\n",
    "            <td>2013</td>\n",
    "            <td>2014</td>\n",
    "        </tr>\n",
    "        <tr>\n",
    "            <td>항목</td>\n",
    "            <td>2013</td>\n",
    "            <td>2014</td>\n",
    "        </tr>\n",
    "    </body>\n",
    "</html>\n",
    "'''"
   ]
  },
  {
   "cell_type": "code",
   "execution_count": 47,
   "id": "0aad8774",
   "metadata": {},
   "outputs": [
    {
     "data": {
      "text/plain": [
       "'\\n<html>\\n    <head>\\n        web page meta 정보\\n    \\n    </head>\\n    \\n    <body>\\n        <table border = 1>\\n        <tr>\\n            <td>항목</td>\\n            <td>2013</td>\\n            <td>2014</td>\\n        </tr>\\n        <tr>\\n            <td>항목</td>\\n            <td>2013</td>\\n            <td>2014</td>\\n        </tr>\\n    </body>\\n</html>\\n'"
      ]
     },
     "execution_count": 47,
     "metadata": {},
     "output_type": "execute_result"
    }
   ],
   "source": [
    "html"
   ]
  },
  {
   "cell_type": "code",
   "execution_count": 48,
   "id": "4ed77acc",
   "metadata": {},
   "outputs": [],
   "source": [
    "from bs4 import BeautifulSoup"
   ]
  },
  {
   "cell_type": "code",
   "execution_count": 49,
   "id": "c925bbab",
   "metadata": {},
   "outputs": [],
   "source": [
    "soup = BeautifulSoup(html, 'html.parser')"
   ]
  },
  {
   "cell_type": "code",
   "execution_count": 50,
   "id": "07dff9fd",
   "metadata": {},
   "outputs": [
    {
     "data": {
      "text/plain": [
       "[<td>항목</td>,\n",
       " <td>2013</td>,\n",
       " <td>2014</td>,\n",
       " <td>항목</td>,\n",
       " <td>2013</td>,\n",
       " <td>2014</td>]"
      ]
     },
     "execution_count": 50,
     "metadata": {},
     "output_type": "execute_result"
    }
   ],
   "source": [
    "soup.select('td')"
   ]
  },
  {
   "cell_type": "code",
   "execution_count": 51,
   "id": "dd576bae",
   "metadata": {},
   "outputs": [
    {
     "data": {
      "text/plain": [
       "'2013'"
      ]
     },
     "execution_count": 51,
     "metadata": {},
     "output_type": "execute_result"
    }
   ],
   "source": [
    "soup.select('td')[1].text"
   ]
  },
  {
   "cell_type": "code",
   "execution_count": 52,
   "id": "63514b1b",
   "metadata": {},
   "outputs": [],
   "source": [
    "html = \"\"\"\n",
    "<body>\n",
    "<div>\n",
    "    <div class='snack'>\n",
    "        <p id='first'> 양파링</p>\n",
    "        <p id='second'> 새우깡</p>\n",
    "        <p> 초코파이</p>\n",
    "        <p class='sweet'> 맛동산 </p>\n",
    "        \n",
    "    <div class='icecream'>\n",
    "        <p> 빵빠레</p>\n",
    "        <p id='third'> 죠스바</p>\n",
    "        <p> 꼬깔콘</p>\n",
    "        <p class='sweet'> 쭈쭈바</p>\n",
    "    </div>\n",
    "</div>\n",
    "</body>\n",
    "\"\"\""
   ]
  },
  {
   "cell_type": "code",
   "execution_count": 53,
   "id": "53b1ae2b",
   "metadata": {},
   "outputs": [],
   "source": [
    "soup = BeautifulSoup(html, 'html.parser')"
   ]
  },
  {
   "cell_type": "markdown",
   "id": "70220117",
   "metadata": {},
   "source": [
    "p태그의 텍스트를 모두 출력하시오"
   ]
  },
  {
   "cell_type": "code",
   "execution_count": 54,
   "id": "b43a2066",
   "metadata": {},
   "outputs": [
    {
     "name": "stdout",
     "output_type": "stream",
     "text": [
      " 양파링\n",
      " 새우깡\n",
      " 초코파이\n",
      " 맛동산 \n",
      " 빵빠레\n",
      " 죠스바\n",
      " 꼬깔콘\n",
      " 쭈쭈바\n"
     ]
    }
   ],
   "source": [
    "for t in soup.select('p'):\n",
    "    print(t.text)"
   ]
  },
  {
   "cell_type": "markdown",
   "id": "8905381b",
   "metadata": {},
   "source": [
    "'양파링'을 출력하시오"
   ]
  },
  {
   "cell_type": "code",
   "execution_count": 55,
   "id": "868918d6",
   "metadata": {},
   "outputs": [
    {
     "data": {
      "text/plain": [
       "' 양파링'"
      ]
     },
     "execution_count": 55,
     "metadata": {},
     "output_type": "execute_result"
    }
   ],
   "source": [
    "soup.select('p#first')[0].text"
   ]
  },
  {
   "cell_type": "markdown",
   "id": "24915355",
   "metadata": {},
   "source": [
    "죠스바를 출력하시오"
   ]
  },
  {
   "cell_type": "code",
   "execution_count": 56,
   "id": "0e36c7b8",
   "metadata": {},
   "outputs": [
    {
     "data": {
      "text/plain": [
       "' 죠스바'"
      ]
     },
     "execution_count": 56,
     "metadata": {},
     "output_type": "execute_result"
    }
   ],
   "source": [
    "soup.select('p#third')[0].text"
   ]
  },
  {
   "cell_type": "markdown",
   "id": "354c4f7b",
   "metadata": {},
   "source": [
    "맛동산을 출력하시오"
   ]
  },
  {
   "cell_type": "code",
   "execution_count": 59,
   "id": "860f9f81",
   "metadata": {},
   "outputs": [
    {
     "data": {
      "text/plain": [
       "' 맛동산 '"
      ]
     },
     "execution_count": 59,
     "metadata": {},
     "output_type": "execute_result"
    }
   ],
   "source": [
    "soup.select('p.sweet')[0].text"
   ]
  },
  {
   "cell_type": "markdown",
   "id": "baaf4543",
   "metadata": {},
   "source": [
    "> 네이버 메뉴 크롤링"
   ]
  },
  {
   "cell_type": "code",
   "execution_count": 97,
   "id": "d32b40ea",
   "metadata": {},
   "outputs": [],
   "source": [
    "import requests      # 웹페이지 가져오기"
   ]
  },
  {
   "cell_type": "code",
   "execution_count": 98,
   "id": "e0c7782d",
   "metadata": {},
   "outputs": [],
   "source": [
    "res = requests.get('https://www.naver.com/')"
   ]
  },
  {
   "cell_type": "code",
   "execution_count": 99,
   "id": "c4e67042",
   "metadata": {},
   "outputs": [],
   "source": [
    "html = res.text"
   ]
  },
  {
   "cell_type": "code",
   "execution_count": 100,
   "id": "93fdf302",
   "metadata": {},
   "outputs": [],
   "source": [
    "soup = BeautifulSoup(html, 'html.parser')"
   ]
  },
  {
   "cell_type": "code",
   "execution_count": 121,
   "id": "35514721",
   "metadata": {},
   "outputs": [],
   "source": [
    "path = \"#NM_FAVORITE > div.group_nav > ul.list_nav.NM_FAVORITE_LIST > li\""
   ]
  },
  {
   "cell_type": "code",
   "execution_count": 122,
   "id": "53e7fb43",
   "metadata": {},
   "outputs": [
    {
     "name": "stdout",
     "output_type": "stream",
     "text": [
      "사전\n",
      "뉴스\n",
      "증권\n",
      "부동산\n",
      "지도\n",
      "VIBE\n",
      "책\n",
      "웹툰\n"
     ]
    }
   ],
   "source": [
    "text = soup.select(path)\n",
    "for tag in text:\n",
    "    print(tag.text)"
   ]
  },
  {
   "cell_type": "code",
   "execution_count": 107,
   "id": "21bb770b",
   "metadata": {},
   "outputs": [],
   "source": [
    "path =  \"NM_FAVORITE > div.group_nav > ul.list_nav.NM_FAVORITE_LIST > li\""
   ]
  },
  {
   "cell_type": "code",
   "execution_count": null,
   "id": "df6d711b",
   "metadata": {},
   "outputs": [],
   "source": []
  }
 ],
 "metadata": {
  "kernelspec": {
   "display_name": "Python 3 (ipykernel)",
   "language": "python",
   "name": "python3"
  },
  "language_info": {
   "codemirror_mode": {
    "name": "ipython",
    "version": 3
   },
   "file_extension": ".py",
   "mimetype": "text/x-python",
   "name": "python",
   "nbconvert_exporter": "python",
   "pygments_lexer": "ipython3",
   "version": "3.9.7"
  }
 },
 "nbformat": 4,
 "nbformat_minor": 5
}
