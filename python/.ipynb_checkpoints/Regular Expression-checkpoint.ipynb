{
 "cells": [
  {
   "cell_type": "markdown",
   "id": "0bef6317",
   "metadata": {},
   "source": [
    "# 정규표현식\n",
    "---\n",
    "- 특정 문자열의 패턴을 표현하는 식\n",
    "- 문자열 처리함수를 사용하는 것보다 복잡한 표현을 간결하게 표현"
   ]
  },
  {
   "cell_type": "code",
   "execution_count": 3,
   "id": "792b3a5e",
   "metadata": {},
   "outputs": [],
   "source": [
    "import re"
   ]
  },
  {
   "cell_type": "markdown",
   "id": "744c1a2d",
   "metadata": {},
   "source": [
    "## 1. re.compile('정규표현식')\n",
    "\n",
    "* 정규표현식 패턴 객체 생성"
   ]
  },
  {
   "cell_type": "code",
   "execution_count": 14,
   "id": "a8aef16c",
   "metadata": {},
   "outputs": [],
   "source": [
    "phonenum = re.compile(r'\\d\\d\\d-\\d\\d\\d-\\d\\d\\d\\d')  # \\d - 숫자, 정규표현식 객체 생성\n",
    "\n",
    "# search 메서드 - 일치하는 패턴 리턴\n",
    "mo = phonenum.search('My number is 415-555-4242')   # 정규표현식 생성 .search()"
   ]
  },
  {
   "cell_type": "code",
   "execution_count": 19,
   "id": "9d696fb7",
   "metadata": {},
   "outputs": [
    {
     "data": {
      "text/plain": [
       "'415-555-4242'"
      ]
     },
     "execution_count": 19,
     "metadata": {},
     "output_type": "execute_result"
    }
   ],
   "source": [
    "# group 메서드 - 일치하는 패턴을 리턴\n",
    "mo.group()               # 정규표현식 출력 .group()"
   ]
  },
  {
   "cell_type": "markdown",
   "id": "52f30131",
   "metadata": {},
   "source": [
    "## 2. search() 메서드\n",
    "* 일치하는 패턴 중에 첫번째 패턴을 리턴"
   ]
  },
  {
   "cell_type": "code",
   "execution_count": 17,
   "id": "90fbd996",
   "metadata": {},
   "outputs": [
    {
     "data": {
      "text/plain": [
       "'415-555-4242'"
      ]
     },
     "execution_count": 17,
     "metadata": {},
     "output_type": "execute_result"
    }
   ],
   "source": [
    "phonenum = re.compile(r'\\d\\d\\d-\\d\\d\\d-\\d\\d\\d\\d')\n",
    "mo = phonenum.search('My number is 415-555-4242. Your number in 214-895-8547')\n",
    "mo.group()"
   ]
  },
  {
   "cell_type": "markdown",
   "id": "bd48d581",
   "metadata": {},
   "source": [
    "### phonenum = re.compile(r'(\\d\\d\\d)-(\\d\\d\\d-\\d\\d\\d\\d)')   \n",
    " - ()을 활용하여 그룹화 할 수 있다."
   ]
  },
  {
   "cell_type": "code",
   "execution_count": 18,
   "id": "e937757e",
   "metadata": {},
   "outputs": [
    {
     "data": {
      "text/plain": [
       "'415-555-4242'"
      ]
     },
     "execution_count": 18,
     "metadata": {},
     "output_type": "execute_result"
    }
   ],
   "source": [
    "phonenum = re.compile(r'(\\d\\d\\d)-(\\d\\d\\d-\\d\\d\\d\\d)')\n",
    "mo = phonenum.search('My number is 415-555-4242. Your number in 214-895-8547')\n",
    "mo.group()"
   ]
  },
  {
   "cell_type": "code",
   "execution_count": 20,
   "id": "98a8e8cb",
   "metadata": {},
   "outputs": [
    {
     "data": {
      "text/plain": [
       "'415'"
      ]
     },
     "execution_count": 20,
     "metadata": {},
     "output_type": "execute_result"
    }
   ],
   "source": [
    "mo.group(1)"
   ]
  },
  {
   "cell_type": "code",
   "execution_count": 21,
   "id": "f1ca5425",
   "metadata": {},
   "outputs": [
    {
     "data": {
      "text/plain": [
       "'555-4242'"
      ]
     },
     "execution_count": 21,
     "metadata": {},
     "output_type": "execute_result"
    }
   ],
   "source": [
    "mo.group(2)"
   ]
  },
  {
   "cell_type": "code",
   "execution_count": 24,
   "id": "d7a1ef89",
   "metadata": {},
   "outputs": [
    {
     "data": {
      "text/plain": [
       "['415', '555', '4242']"
      ]
     },
     "execution_count": 24,
     "metadata": {},
     "output_type": "execute_result"
    }
   ],
   "source": [
    "mo.group().split('-')"
   ]
  },
  {
   "cell_type": "markdown",
   "id": "5328dfea",
   "metadata": {},
   "source": [
    "### | == or"
   ]
  },
  {
   "cell_type": "code",
   "execution_count": 28,
   "id": "5e5cce58",
   "metadata": {},
   "outputs": [],
   "source": [
    "regex = re.compile(r'Batman|Tina Fey')  # '|' - or을 뜻한다"
   ]
  },
  {
   "cell_type": "code",
   "execution_count": 32,
   "id": "d31c5bcd",
   "metadata": {},
   "outputs": [
    {
     "data": {
      "text/plain": [
       "'Batman'"
      ]
     },
     "execution_count": 32,
     "metadata": {},
     "output_type": "execute_result"
    }
   ],
   "source": [
    "# group 메서드 - 일치하는 패턴을 리턴\n",
    "mo = regex.search('Batman and Tina Fey')\n",
    "mo.group()"
   ]
  },
  {
   "cell_type": "markdown",
   "id": "a0a4ec84",
   "metadata": {},
   "source": [
    "### Bat(man|mobile|copter|bat) == Batman or Batmobile or Batcopter or Batbat"
   ]
  },
  {
   "cell_type": "code",
   "execution_count": 34,
   "id": "f8a78542",
   "metadata": {},
   "outputs": [
    {
     "data": {
      "text/plain": [
       "'Batmobile'"
      ]
     },
     "execution_count": 34,
     "metadata": {},
     "output_type": "execute_result"
    }
   ],
   "source": [
    "regex = re.compile(r'Bat(man|mobile|copter|bat)')\n",
    "mo = regex.search('Batmobile lost a wheel!')\n",
    "mo.group()"
   ]
  },
  {
   "cell_type": "markdown",
   "id": "7aac2476",
   "metadata": {},
   "source": [
    "### Bat(wo)?man == Batman or Batwoman"
   ]
  },
  {
   "cell_type": "code",
   "execution_count": 36,
   "id": "a9c9c8fc",
   "metadata": {},
   "outputs": [
    {
     "data": {
      "text/plain": [
       "'Batman'"
      ]
     },
     "execution_count": 36,
     "metadata": {},
     "output_type": "execute_result"
    }
   ],
   "source": [
    "regex = re.compile(r'Bat(wo)?man')   # ? : 앞의 패턴이 0번 또는 1번 반복되는 패턴\n",
    "mo = regex.search('The adventures of Batman')\n",
    "mo.group()"
   ]
  },
  {
   "cell_type": "code",
   "execution_count": 41,
   "id": "0aa69337",
   "metadata": {},
   "outputs": [
    {
     "data": {
      "text/plain": [
       "'Batwoman'"
      ]
     },
     "execution_count": 41,
     "metadata": {},
     "output_type": "execute_result"
    }
   ],
   "source": [
    "regex = re.compile(r'Bat(wo)?man')   # ? : 앞의 패턴이 0번 또는 1번 반복되는 패턴\n",
    "mo = regex.search('The adventures of Batwoman')\n",
    "mo.group()"
   ]
  },
  {
   "cell_type": "code",
   "execution_count": 38,
   "id": "3af89d19",
   "metadata": {},
   "outputs": [
    {
     "ename": "AttributeError",
     "evalue": "'NoneType' object has no attribute 'group'",
     "output_type": "error",
     "traceback": [
      "\u001b[1;31m---------------------------------------------------------------------------\u001b[0m",
      "\u001b[1;31mAttributeError\u001b[0m                            Traceback (most recent call last)",
      "\u001b[1;32m~\\AppData\\Local\\Temp/ipykernel_7660/1373682271.py\u001b[0m in \u001b[0;36m<module>\u001b[1;34m\u001b[0m\n\u001b[0;32m      1\u001b[0m \u001b[0mregex\u001b[0m \u001b[1;33m=\u001b[0m \u001b[0mre\u001b[0m\u001b[1;33m.\u001b[0m\u001b[0mcompile\u001b[0m\u001b[1;33m(\u001b[0m\u001b[1;34mr'Bat(wo)?man'\u001b[0m\u001b[1;33m)\u001b[0m   \u001b[1;31m# ? : 앞의 패턴이 0번 또는 1번 반복되는 패턴\u001b[0m\u001b[1;33m\u001b[0m\u001b[1;33m\u001b[0m\u001b[0m\n\u001b[0;32m      2\u001b[0m \u001b[0mmo\u001b[0m \u001b[1;33m=\u001b[0m \u001b[0mregex\u001b[0m\u001b[1;33m.\u001b[0m\u001b[0msearch\u001b[0m\u001b[1;33m(\u001b[0m\u001b[1;34m'The adventures of Batwowoman'\u001b[0m\u001b[1;33m)\u001b[0m\u001b[1;33m\u001b[0m\u001b[1;33m\u001b[0m\u001b[0m\n\u001b[1;32m----> 3\u001b[1;33m \u001b[0mmo\u001b[0m\u001b[1;33m.\u001b[0m\u001b[0mgroup\u001b[0m\u001b[1;33m(\u001b[0m\u001b[1;33m)\u001b[0m\u001b[1;33m\u001b[0m\u001b[1;33m\u001b[0m\u001b[0m\n\u001b[0m",
      "\u001b[1;31mAttributeError\u001b[0m: 'NoneType' object has no attribute 'group'"
     ]
    }
   ],
   "source": [
    "regex = re.compile(r'Bat(wo)?man')   # ? : 앞의 패턴이 0번 또는 1번 반복되는 패턴\n",
    "mo = regex.search('The adventures of Batwowoman')\n",
    "mo.group()"
   ]
  },
  {
   "cell_type": "markdown",
   "id": "903e8d6b",
   "metadata": {},
   "source": [
    "### + : 앞의 패턴이 1번 이상 등장하는 패턴"
   ]
  },
  {
   "cell_type": "code",
   "execution_count": 43,
   "id": "c9c880d9",
   "metadata": {},
   "outputs": [
    {
     "data": {
      "text/plain": [
       "'Batwoman'"
      ]
     },
     "execution_count": 43,
     "metadata": {},
     "output_type": "execute_result"
    }
   ],
   "source": [
    "regex = re.compile(r'Bat(wo)+man')   # + : 앞의 패턴이 1번 이상 등장하는 패턴\n",
    "mo = regex.search('The adventures of Batwoman')\n",
    "mo.group()"
   ]
  },
  {
   "cell_type": "code",
   "execution_count": 44,
   "id": "bec485e3",
   "metadata": {},
   "outputs": [
    {
     "data": {
      "text/plain": [
       "'Batwowoman'"
      ]
     },
     "execution_count": 44,
     "metadata": {},
     "output_type": "execute_result"
    }
   ],
   "source": [
    "regex = re.compile(r'Bat(wo)+man')   # + : 앞의 패턴이 1번 이상 등장하는 패턴\n",
    "mo = regex.search('The adventures of Batwowoman')\n",
    "mo.group()"
   ]
  },
  {
   "cell_type": "code",
   "execution_count": 48,
   "id": "ebbfe3ef",
   "metadata": {},
   "outputs": [
    {
     "ename": "AttributeError",
     "evalue": "'NoneType' object has no attribute 'group'",
     "output_type": "error",
     "traceback": [
      "\u001b[1;31m---------------------------------------------------------------------------\u001b[0m",
      "\u001b[1;31mAttributeError\u001b[0m                            Traceback (most recent call last)",
      "\u001b[1;32m~\\AppData\\Local\\Temp/ipykernel_7660/2163891201.py\u001b[0m in \u001b[0;36m<module>\u001b[1;34m\u001b[0m\n\u001b[0;32m      1\u001b[0m \u001b[0mregex\u001b[0m \u001b[1;33m=\u001b[0m \u001b[0mre\u001b[0m\u001b[1;33m.\u001b[0m\u001b[0mcompile\u001b[0m\u001b[1;33m(\u001b[0m\u001b[1;34mr'Bat(wo)+man'\u001b[0m\u001b[1;33m)\u001b[0m   \u001b[1;31m# + : 앞의 패턴이 1번 이상 등장하는 패턴\u001b[0m\u001b[1;33m\u001b[0m\u001b[1;33m\u001b[0m\u001b[0m\n\u001b[0;32m      2\u001b[0m \u001b[0mmo\u001b[0m \u001b[1;33m=\u001b[0m \u001b[0mregex\u001b[0m\u001b[1;33m.\u001b[0m\u001b[0msearch\u001b[0m\u001b[1;33m(\u001b[0m\u001b[1;34m'The adventures of Batman'\u001b[0m\u001b[1;33m)\u001b[0m\u001b[1;33m\u001b[0m\u001b[1;33m\u001b[0m\u001b[0m\n\u001b[1;32m----> 3\u001b[1;33m \u001b[0mmo\u001b[0m\u001b[1;33m.\u001b[0m\u001b[0mgroup\u001b[0m\u001b[1;33m(\u001b[0m\u001b[1;33m)\u001b[0m\u001b[1;33m\u001b[0m\u001b[1;33m\u001b[0m\u001b[0m\n\u001b[0m",
      "\u001b[1;31mAttributeError\u001b[0m: 'NoneType' object has no attribute 'group'"
     ]
    }
   ],
   "source": [
    "regex = re.compile(r'Bat(wo)+man')   # + : 앞의 패턴이 1번 이상 등장하는 패턴\n",
    "mo = regex.search('The adventures of Batman')\n",
    "mo.group()"
   ]
  },
  {
   "cell_type": "markdown",
   "id": "594e0f38",
   "metadata": {},
   "source": [
    "### * : 앞의 패턴이 0번 이상 등장하는 패턴"
   ]
  },
  {
   "cell_type": "code",
   "execution_count": 45,
   "id": "197a165c",
   "metadata": {},
   "outputs": [
    {
     "data": {
      "text/plain": [
       "'Batwowoman'"
      ]
     },
     "execution_count": 45,
     "metadata": {},
     "output_type": "execute_result"
    }
   ],
   "source": [
    "regex = re.compile(r'Bat(wo)*man')   # * : 앞의 패턴이 0번 이상 등장하는 패턴\n",
    "mo = regex.search('The adventures of Batwowoman')\n",
    "mo.group()"
   ]
  },
  {
   "cell_type": "code",
   "execution_count": 46,
   "id": "1dd75b9c",
   "metadata": {},
   "outputs": [
    {
     "data": {
      "text/plain": [
       "'Batman'"
      ]
     },
     "execution_count": 46,
     "metadata": {},
     "output_type": "execute_result"
    }
   ],
   "source": [
    "regex = re.compile(r'Bat(wo)*man')   # * : 앞의 패턴이 0번 이상 등장하는 패턴\n",
    "mo = regex.search('The adventures of Batman')\n",
    "mo.group()"
   ]
  },
  {
   "cell_type": "code",
   "execution_count": 47,
   "id": "aea63abe",
   "metadata": {},
   "outputs": [
    {
     "data": {
      "text/plain": [
       "'Batwowowoman'"
      ]
     },
     "execution_count": 47,
     "metadata": {},
     "output_type": "execute_result"
    }
   ],
   "source": [
    "regex = re.compile(r'Bat(wo)*man')   # * : 앞의 패턴이 0번 이상 등장하는 패턴\n",
    "mo = regex.search('The adventures of Batwowowoman')\n",
    "mo.group()"
   ]
  },
  {
   "cell_type": "markdown",
   "id": "9f5fd8f9",
   "metadata": {},
   "source": [
    "### {n} : 앞의 패턴이 n번 반복되는 패턴"
   ]
  },
  {
   "cell_type": "code",
   "execution_count": 50,
   "id": "dcc00cd2",
   "metadata": {},
   "outputs": [
    {
     "data": {
      "text/plain": [
       "'Batwowoman'"
      ]
     },
     "execution_count": 50,
     "metadata": {},
     "output_type": "execute_result"
    }
   ],
   "source": [
    "regex = re.compile(r'Bat(wo){2}man')   # {2} : 앞의 패턴이 2번 반복되는 패턴\n",
    "mo = regex.search('The adventures of Batwowoman')\n",
    "mo.group()"
   ]
  },
  {
   "cell_type": "markdown",
   "id": "40404e2d",
   "metadata": {},
   "source": [
    "### {n, m} : 앞의 패턴이 n~m번 반복되는 패턴"
   ]
  },
  {
   "cell_type": "code",
   "execution_count": 51,
   "id": "5bcac796",
   "metadata": {},
   "outputs": [
    {
     "data": {
      "text/plain": [
       "'Batwowoman'"
      ]
     },
     "execution_count": 51,
     "metadata": {},
     "output_type": "execute_result"
    }
   ],
   "source": [
    "regex = re.compile(r'Bat(wo){2,4}man')   # {2, 4} : 앞의 패턴이 2~4번 반복되는 패턴\n",
    "mo = regex.search('The adventures of Batwowoman')\n",
    "mo.group()"
   ]
  },
  {
   "cell_type": "code",
   "execution_count": 52,
   "id": "b9adb2ab",
   "metadata": {},
   "outputs": [
    {
     "data": {
      "text/plain": [
       "'Batwowowoman'"
      ]
     },
     "execution_count": 52,
     "metadata": {},
     "output_type": "execute_result"
    }
   ],
   "source": [
    "regex = re.compile(r'Bat(wo){2,4}man')   # {2, 4} : 앞의 패턴이 2~4번 반복되는 패턴\n",
    "mo = regex.search('The adventures of Batwowowoman')\n",
    "mo.group()"
   ]
  },
  {
   "cell_type": "code",
   "execution_count": 53,
   "id": "f0f239e1",
   "metadata": {},
   "outputs": [
    {
     "data": {
      "text/plain": [
       "'Batwowowowoman'"
      ]
     },
     "execution_count": 53,
     "metadata": {},
     "output_type": "execute_result"
    }
   ],
   "source": [
    "regex = re.compile(r'Bat(wo){2,4}man')   # {2, 4} : 앞의 패턴이 2~4번 반복되는 패턴\n",
    "mo = regex.search('The adventures of Batwowowowoman')\n",
    "mo.group()"
   ]
  },
  {
   "cell_type": "markdown",
   "id": "21fb538c",
   "metadata": {},
   "source": [
    "## 3. findall() 메서드\n",
    "- 일치하는 모든 패턴을 리턴"
   ]
  },
  {
   "cell_type": "code",
   "execution_count": 56,
   "id": "3d44f18b",
   "metadata": {},
   "outputs": [
    {
     "data": {
      "text/plain": [
       "'415-888-5478'"
      ]
     },
     "execution_count": 56,
     "metadata": {},
     "output_type": "execute_result"
    }
   ],
   "source": [
    "# .group() : 일치하는 첫번째 패턴만 리턴\n",
    "phonenum = re.compile(r'\\d\\d\\d-\\d\\d\\d-\\d\\d\\d\\d')\n",
    "mo = phonenum.search('Call : 415-888-5478, work : 212-548-8965')\n",
    "mo.group()"
   ]
  },
  {
   "cell_type": "code",
   "execution_count": 58,
   "id": "394bceab",
   "metadata": {},
   "outputs": [
    {
     "data": {
      "text/plain": [
       "['415-888-5478', '212-548-8965']"
      ]
     },
     "execution_count": 58,
     "metadata": {},
     "output_type": "execute_result"
    }
   ],
   "source": [
    "# .findall() : 일치하는 모든 패턴을 리턴\n",
    "phonenum = re.compile(r'\\d\\d\\d-\\d\\d\\d-\\d\\d\\d\\d')\n",
    "phonenum.findall('Call : 415-888-5478, work : 212-548-8965')"
   ]
  },
  {
   "cell_type": "markdown",
   "id": "1680fc52",
   "metadata": {},
   "source": [
    "\\d - 숫자   \n",
    "\\s - 공백, 탭, 줄바꿈   \n",
    "\\w - 문자, 숫자"
   ]
  },
  {
   "cell_type": "code",
   "execution_count": 63,
   "id": "b59b064d",
   "metadata": {},
   "outputs": [
    {
     "data": {
      "text/plain": [
       "['12 drummers', '11 pipers', '10 lords', '9 ladies', '8 maids', '6 eggs']"
      ]
     },
     "execution_count": 63,
     "metadata": {},
     "output_type": "execute_result"
    }
   ],
   "source": [
    "# 숫자(여러자리) + 공백(하나) + 문자(여러자리)\n",
    "regex = re.compile(r'\\d+\\s\\w+')    # \\d - 숫자, \\s - 공백, 탭, 줄바꿈, \\w - 문자, 숫자\n",
    "regex.findall('12 drummers, 11 pipers, 10 lords, 9 ladies, 8 maids, 6 eggs')"
   ]
  },
  {
   "cell_type": "markdown",
   "id": "4748b283",
   "metadata": {},
   "source": [
    "## 4. 사용자 정의 정규표현식 => []    \n",
    "* 사용자가 정의하는 패턴\n",
    "* [aeiouAEIOU] => 영문자 모음\n",
    "* [a-zA-Z] => 영문자 소문자 대문자\n",
    "* [0-9] => 모든 숫자\n",
    "* '-' => 범위지정\n",
    "* ^ => 부정"
   ]
  },
  {
   "cell_type": "code",
   "execution_count": 64,
   "id": "3c60ad23",
   "metadata": {},
   "outputs": [
    {
     "data": {
      "text/plain": [
       "['o', 'o', 'a', 'e', 'a', 'a', 'o', 'o', 'a', 'O', 'O']"
      ]
     },
     "execution_count": 64,
     "metadata": {},
     "output_type": "execute_result"
    }
   ],
   "source": [
    "# 모든 영문자 모음 리턴\n",
    "regex = re.compile(r'[aeiouAEIOU]')\n",
    "regex.findall('Robocab eats baby food Baby FOOD')"
   ]
  },
  {
   "cell_type": "code",
   "execution_count": 66,
   "id": "4df22241",
   "metadata": {
    "collapsed": true
   },
   "outputs": [
    {
     "data": {
      "text/plain": [
       "['R',\n",
       " 'b',\n",
       " 'c',\n",
       " 'b',\n",
       " ' ',\n",
       " 't',\n",
       " 's',\n",
       " ' ',\n",
       " 'b',\n",
       " 'b',\n",
       " 'y',\n",
       " ' ',\n",
       " 'f',\n",
       " 'd',\n",
       " ' ',\n",
       " 'B',\n",
       " 'b',\n",
       " 'y',\n",
       " ' ',\n",
       " 'F',\n",
       " 'D']"
      ]
     },
     "execution_count": 66,
     "metadata": {},
     "output_type": "execute_result"
    }
   ],
   "source": [
    "# ^ 모든 영문자 모음이 아닌 문자 리턴\n",
    "regex = re.compile(r'[^aeiouAEIOU]')\n",
    "regex.findall('Robocab eats baby food Baby FOOD')"
   ]
  },
  {
   "cell_type": "markdown",
   "id": "92e0b488",
   "metadata": {},
   "source": [
    "## 5.    \n",
    "* ^ - 문자열의 시작 부분과 일치   \n",
    "* $ - 문자열의 끝 부분과 일치\n",
    "* 주의 - 사용자 정의 정규표현식과는 다르다\n"
   ]
  },
  {
   "cell_type": "code",
   "execution_count": 70,
   "id": "c7b4660d",
   "metadata": {},
   "outputs": [
    {
     "data": {
      "text/plain": [
       "['Hello']"
      ]
     },
     "execution_count": 70,
     "metadata": {},
     "output_type": "execute_result"
    }
   ],
   "source": [
    "# ^ - 문자열의 시작 부분과 일치하면 리턴\n",
    "regex = re.compile(r'^Hello')\n",
    "regex.findall('Hello world')"
   ]
  },
  {
   "cell_type": "code",
   "execution_count": 71,
   "id": "c3d4da02",
   "metadata": {},
   "outputs": [
    {
     "data": {
      "text/plain": [
       "[]"
      ]
     },
     "execution_count": 71,
     "metadata": {},
     "output_type": "execute_result"
    }
   ],
   "source": [
    "# ^ - 문자열의 뒷 부분과 일치해도 리턴해주지 않는다.\n",
    "regex = re.compile(r'^Hello')\n",
    "regex.findall('python Hello')"
   ]
  },
  {
   "cell_type": "code",
   "execution_count": 78,
   "id": "91bedf7f",
   "metadata": {},
   "outputs": [
    {
     "data": {
      "text/plain": [
       "['2']"
      ]
     },
     "execution_count": 78,
     "metadata": {},
     "output_type": "execute_result"
    }
   ],
   "source": [
    "# $ - 문자열의 맨 마지막 부분과 일치하면 리턴\n",
    "regex = re.compile(r'\\d$')     # 숫자(한자리) + 공백\n",
    "regex.findall('Your number5 is 42')"
   ]
  },
  {
   "cell_type": "code",
   "execution_count": 77,
   "id": "b21fbb03",
   "metadata": {},
   "outputs": [
    {
     "data": {
      "text/plain": [
       "['42']"
      ]
     },
     "execution_count": 77,
     "metadata": {},
     "output_type": "execute_result"
    }
   ],
   "source": [
    "regex = re.compile(r'\\d+$')    # 숫자(여러자리) + 공백\n",
    "regex.findall('Your number5 is 42')"
   ]
  },
  {
   "cell_type": "markdown",
   "id": "1099f1b1",
   "metadata": {},
   "source": [
    "## 6. sub()\n",
    "* 매칭이 되는 문자열을 다른 값으로 대체"
   ]
  },
  {
   "cell_type": "code",
   "execution_count": 89,
   "id": "5461f481",
   "metadata": {},
   "outputs": [
    {
     "data": {
      "text/plain": [
       "'Censored gave the secret documents ot Censored'"
      ]
     },
     "execution_count": 89,
     "metadata": {},
     "output_type": "execute_result"
    }
   ],
   "source": [
    "regex = re.compile(r'Agent \\w+')      # Agent 뒤의 모든 문자열(공백이 나오기 전까지)\n",
    "\n",
    "# Agent Alice를 Censored과 대체\n",
    "regex.sub('Censored', 'Agent Alice gave the secret documents ot Agent Bob')"
   ]
  },
  {
   "cell_type": "code",
   "execution_count": 90,
   "id": "f2e48df0",
   "metadata": {},
   "outputs": [
    {
     "data": {
      "text/plain": [
       "'Censored Al**** gave the secret documents ot Censored Bo****'"
      ]
     },
     "execution_count": 90,
     "metadata": {},
     "output_type": "execute_result"
    }
   ],
   "source": [
    "regex = re.compile(r'Agent (\\w{2})\\w*')  # Agent 뒤에 문자열 2개를 하나의 그룹\n",
    "                                         # 그 뒤 문자열(공백 전까지)을 또 다른 패턴\n",
    "    \n",
    "# Agent Alice를 Consored 그룹1 + ****로 대체 \n",
    "regex.sub(r'Censored \\1****', 'Agent Alice gave the secret documents ot Agent Bob')"
   ]
  },
  {
   "cell_type": "markdown",
   "id": "ff122856",
   "metadata": {},
   "source": [
    "### 반복\n",
    "- '+' : 한번 이상 등장하는 패턴\n",
    "- '*' : 0번 이상 등장하는 패턴\n",
    "- ? : 0번 또는 1번 등장하는 패턴\n",
    "- {} : 특정한 반복 횟수를 지정"
   ]
  },
  {
   "cell_type": "markdown",
   "id": "338c6936",
   "metadata": {},
   "source": [
    "### 사용자 정의 표현식\n",
    "- []\n",
    "- [aeiou] - 소문자 모음\n",
    "- [^xyz] - x, y, z 제외한 패턴\n",
    "- '-' : 범위 지정\n",
    "- [a-zA-Z0-9] - 영 대소문자 및 숫자\n",
    "- ^ - not"
   ]
  },
  {
   "cell_type": "markdown",
   "id": "3bd12d9f",
   "metadata": {},
   "source": [
    "### 주요 메서드\n",
    "- search - 패턴과 일치하는 첫 번째 문자열 리턴\n",
    "- findall - 패턴과 일치하는 모든 문자열 리턴\n",
    "- sub - 패턴과 일치하는 문자열을 다른 문자열로 대체해서 리턴"
   ]
  },
  {
   "cell_type": "markdown",
   "id": "d0069f1e",
   "metadata": {},
   "source": [
    "### 매칭\n",
    "- . - 줄 바꿈 이외의 모든 한 개의 문자와 일치\n",
    "- ^ - 줄의 시작과 일치\n",
    "- $ - 줄의 끝과 일치"
   ]
  },
  {
   "cell_type": "code",
   "execution_count": 91,
   "id": "96bc4a02",
   "metadata": {},
   "outputs": [],
   "source": [
    "import re"
   ]
  },
  {
   "cell_type": "code",
   "execution_count": 108,
   "id": "6620024f",
   "metadata": {},
   "outputs": [
    {
     "data": {
      "text/plain": [
       "['02-3454-7355']"
      ]
     },
     "execution_count": 108,
     "metadata": {},
     "output_type": "execute_result"
    }
   ],
   "source": [
    "# 전화번호를 출력\n",
    "text = '문의사항은 02-3454-7355으로 연락주세요.'\n",
    "\n",
    "# 숫자(2~3)자리'-'숫자(모든자리)'-'숫자(모든자리)\n",
    "regex = re.compile('\\d{2,3}-\\d+-\\d+')\n",
    "regex.findall(text)"
   ]
  },
  {
   "cell_type": "code",
   "execution_count": 109,
   "id": "9b65f5a3",
   "metadata": {},
   "outputs": [
    {
     "data": {
      "text/plain": [
       "['02-3454-7355', '02-354-8547']"
      ]
     },
     "execution_count": 109,
     "metadata": {},
     "output_type": "execute_result"
    }
   ],
   "source": [
    "text = '문의사항은 02-3454-7355으로 연락주세요. 비상 시에는 02-354-8547로 연락주세요'\n",
    "\n",
    "# 숫자(2~3)자리'-'숫자(모든자리)'-'숫자(모든자리)\n",
    "regex = re.compile('\\d{2,3}-\\d+-\\d+')\n",
    "regex.findall(text)"
   ]
  },
  {
   "cell_type": "code",
   "execution_count": 103,
   "id": "3a3a186d",
   "metadata": {},
   "outputs": [
    {
     "data": {
      "text/plain": [
       "['10', '234', '8']"
      ]
     },
     "execution_count": 103,
     "metadata": {},
     "output_type": "execute_result"
    }
   ],
   "source": [
    "# 숫자만 출력\n",
    "# 사용자 정규 표현식\n",
    "regex = re.compile('[0-9]+')\n",
    "regex.findall('문자열 10 중간에 234 숫자가 8개 있습니다.')"
   ]
  },
  {
   "cell_type": "code",
   "execution_count": 105,
   "id": "9195ef4b",
   "metadata": {},
   "outputs": [
    {
     "data": {
      "text/plain": [
       "['10', '234', '8']"
      ]
     },
     "execution_count": 105,
     "metadata": {},
     "output_type": "execute_result"
    }
   ],
   "source": [
    "# 일반 정규 표현식\n",
    "regex = re.compile('\\d+')\n",
    "regex.findall('문자열 10 중간에 234 숫자가 8개 있습니다.')"
   ]
  },
  {
   "cell_type": "code",
   "execution_count": 107,
   "id": "720d4af7",
   "metadata": {},
   "outputs": [
    {
     "data": {
      "text/plain": [
       "['sky777@gmail.com']"
      ]
     },
     "execution_count": 107,
     "metadata": {},
     "output_type": "execute_result"
    }
   ],
   "source": [
    "# 이메일 찾기\n",
    "text = '저의 이메일은 sky777@gmail.com입니다.'\n",
    "\n",
    "# [영문자, 숫자, 특수기호] @ [영문자, 숫자] . [영문자 숫자(2~4자리)]\n",
    "regex = re.compile('[a-zA-Z0-9_+.-]+@[a-zA-Z0-9]+\\.+[a-z0-9]{2,4}')\n",
    "regex.findall(text)"
   ]
  },
  {
   "cell_type": "code",
   "execution_count": 111,
   "id": "8e3d1527",
   "metadata": {},
   "outputs": [
    {
     "data": {
      "text/plain": [
       "['sky777@gmail.com', 'sky777@bitcamp.company']"
      ]
     },
     "execution_count": 111,
     "metadata": {},
     "output_type": "execute_result"
    }
   ],
   "source": [
    "text = '저의 이메일은 sky777@gmail.com입니다. 회사 이메일은 sky777@bitcamp.company'\n",
    "\n",
    "# [영문자, 숫자, 특수기호] @ [영문자, 숫자] . [영문자 숫자(2~7자리)]\n",
    "regex = re.compile('[a-zA-Z0-9_+.-]+@[a-zA-Z0-9]+\\.+[a-z0-9]{2,7}')\n",
    "regex.findall(text)"
   ]
  },
  {
   "cell_type": "code",
   "execution_count": 121,
   "id": "5a6c8166",
   "metadata": {},
   "outputs": [
    {
     "data": {
      "text/plain": [
       "['http://www.home.com', 'https://www.firm.com']"
      ]
     },
     "execution_count": 121,
     "metadata": {},
     "output_type": "execute_result"
    }
   ],
   "source": [
    "# url 추출\n",
    "text = '저의 홈페이지는 http://www.home.com입니다. \\\n",
    "회사 홈페이지는 https://www.firm.com입니다.'\n",
    "\n",
    "# [s]가 붙어도 되고 안붙어도 된다\n",
    "# w가 3번 나온다   \\. => w3번 뒤에 무조건 .이 나온다\n",
    "# 모든 영문자와 숫자\n",
    "# 모든 영문자\n",
    "regex = re.compile('http[s]?://w{3}\\.[a-zA-Z0-9]*.[a-z]*')\n",
    "regex.findall(text)"
   ]
  },
  {
   "cell_type": "code",
   "execution_count": 123,
   "id": "a26cf74d",
   "metadata": {},
   "outputs": [
    {
     "data": {
      "text/plain": [
       "['123456.78']"
      ]
     },
     "execution_count": 123,
     "metadata": {},
     "output_type": "execute_result"
    }
   ],
   "source": [
    "# 금액만 추출\n",
    "\n",
    "text = '총 금액 123456.78원 입니다.'\n",
    "\n",
    "\n",
    "# 숫자 + .(하나 이상) + 숫자\n",
    "re.findall('\\d+\\.*\\d*', text)"
   ]
  },
  {
   "cell_type": "code",
   "execution_count": 137,
   "id": "589bdb10",
   "metadata": {},
   "outputs": [
    {
     "data": {
      "text/plain": [
       "['2015년 2월 15일', '2017년 8월 22일']"
      ]
     },
     "execution_count": 137,
     "metadata": {},
     "output_type": "execute_result"
    }
   ],
   "source": [
    "# 날짜만 추출\n",
    "text = '계약 시작일 2015년 2월 15일, 계약 종료일 2017년 8월 22일'\n",
    "\n",
    "re.findall('\\d+년 \\d+월 \\d+일',text)"
   ]
  },
  {
   "cell_type": "code",
   "execution_count": 132,
   "id": "a3be92a8",
   "metadata": {},
   "outputs": [
    {
     "data": {
      "text/plain": [
       "'계약 시작일 **년 **월 **일, 계약 종료일 **년 **월 **일'"
      ]
     },
     "execution_count": 132,
     "metadata": {},
     "output_type": "execute_result"
    }
   ],
   "source": [
    "# 날짜만 변경\n",
    "text = '계약 시작일 2015년 2월 15일, 계약 종료일 2017년 8월 22일'\n",
    "re.sub('(\\d+)년 (\\d+)월 (\\d+)일', '**년 **월 **일', text)"
   ]
  },
  {
   "cell_type": "markdown",
   "id": "27f0dc07",
   "metadata": {},
   "source": [
    "### IP만 추출하기"
   ]
  },
  {
   "cell_type": "code",
   "execution_count": 139,
   "id": "83d0060a",
   "metadata": {},
   "outputs": [],
   "source": [
    "import re"
   ]
  },
  {
   "cell_type": "code",
   "execution_count": 154,
   "id": "563c55f8",
   "metadata": {},
   "outputs": [
    {
     "data": {
      "text/plain": [
       "['223.62.180.95', '211.244.131.169', '192.5.90.39']"
      ]
     },
     "execution_count": 154,
     "metadata": {},
     "output_type": "execute_result"
    }
   ],
   "source": [
    "log_data = \"\"\"\n",
    "223.62.180.95 - - [07/Mar/2014:00:00:06 +0900] \"GET /trapi/mts/Check.jsp HTTP/1.1\" 200 3293\n",
    "211.244.131.169 - - [07/Mar/2014:00:00:19 +0900] \"GET /trapi/mts/Check.jsp HTTP/1.1\" 200 3293\n",
    "192.5.90.39 - - [07/Mar/2014:00:00:26 +0900] \"GET / HTTP/1.1\" 200 1964\n",
    "\"\"\"\n",
    "\n",
    "# IP만 추출하기\n",
    "regex = re.compile('\\d+\\.\\d+\\.\\d+\\.\\d+')\n",
    "regex.findall(log_data)"
   ]
  },
  {
   "cell_type": "code",
   "execution_count": 152,
   "id": "ce9d5be6",
   "metadata": {},
   "outputs": [
    {
     "data": {
      "text/plain": [
       "['223.62.180.95', '211.244.131.169', '192.5.90.39']"
      ]
     },
     "execution_count": 152,
     "metadata": {},
     "output_type": "execute_result"
    }
   ],
   "source": [
    "import numpy as np\n",
    "regex = re.compile('((\\d+\\.){3}\\d+)')\n",
    "np.array(regex.findall(log_data))[:,0].tolist()"
   ]
  },
  {
   "cell_type": "code",
   "execution_count": null,
   "id": "06f36e38",
   "metadata": {},
   "outputs": [],
   "source": []
  }
 ],
 "metadata": {
  "kernelspec": {
   "display_name": "Python 3 (ipykernel)",
   "language": "python",
   "name": "python3"
  },
  "language_info": {
   "codemirror_mode": {
    "name": "ipython",
    "version": 3
   },
   "file_extension": ".py",
   "mimetype": "text/x-python",
   "name": "python",
   "nbconvert_exporter": "python",
   "pygments_lexer": "ipython3",
   "version": "3.9.7"
  }
 },
 "nbformat": 4,
 "nbformat_minor": 5
}
