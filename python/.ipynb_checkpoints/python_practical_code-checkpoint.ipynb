{
 "cells": [
  {
   "cell_type": "code",
   "execution_count": 1,
   "id": "c0124f98",
   "metadata": {},
   "outputs": [],
   "source": [
    "# quiz 1"
   ]
  },
  {
   "cell_type": "code",
   "execution_count": 2,
   "id": "5b1eff3c",
   "metadata": {},
   "outputs": [],
   "source": [
    "# 7자리 이상의 임의의 정수를 입력받은 후, 1000단위 구별자를 추가하여 리턴하는 코드"
   ]
  },
  {
   "cell_type": "code",
   "execution_count": 33,
   "id": "1c830fef",
   "metadata": {},
   "outputs": [
    {
     "name": "stdout",
     "output_type": "stream",
     "text": [
      "임의의 7자리 이상인 정수를 입력하세요10000000\n",
      "10,000,000\n"
     ]
    }
   ],
   "source": [
    "x = list(input('임의의 7자리 이상인 정수를 입력하세요'))\n",
    "ans = ''\n",
    "cnt = 0\n",
    "for i in range(-1, -len(x), -1):\n",
    "    if i % 3 == 0:\n",
    "        x.insert(i-cnt,',')\n",
    "        cnt += 1\n",
    "    \n",
    "ans = ''.join(x)\n",
    "\n",
    "print(ans)"
   ]
  },
  {
   "cell_type": "code",
   "execution_count": 31,
   "id": "f3daf1e9",
   "metadata": {},
   "outputs": [
    {
     "name": "stdout",
     "output_type": "stream",
     "text": [
      "임의의 7자리 이상인 정수를 입력하세요10000000\n",
      "10,000,000\n"
     ]
    }
   ],
   "source": [
    "num = input('임의의 7자리 이상인 정수를 입력하세요')\n",
    "\n",
    "num = num[::-1]\n",
    "ret = ''\n",
    "\n",
    "for i, c in enumerate(num):\n",
    "    i += 1\n",
    "    \n",
    "    if (i % 3 == 0) and (i != len(num)):\n",
    "        ret += c + ','\n",
    "    else:\n",
    "        ret += c\n",
    "\n",
    "ret = ret[::-1]\n",
    "print(ret)"
   ]
  },
  {
   "cell_type": "code",
   "execution_count": 1,
   "id": "1f71db11",
   "metadata": {},
   "outputs": [],
   "source": [
    "# quiz 2"
   ]
  },
  {
   "cell_type": "code",
   "execution_count": 2,
   "id": "3b1938c5",
   "metadata": {},
   "outputs": [],
   "source": [
    "# text file을 열어서 어떤 문자가 몇 번 등장했는지를 출력\n",
    "# ex : '가': 256회, '나' : 92회\n",
    "# 등장 빈도 순으로 출력"
   ]
  },
  {
   "cell_type": "code",
   "execution_count": 41,
   "id": "9191fe8a",
   "metadata": {},
   "outputs": [
    {
     "name": "stdout",
     "output_type": "stream",
     "text": [
      "'이' 등장횟수 : 9\n",
      "'는' 등장횟수 : 7\n",
      "'한' 등장횟수 : 7\n",
      "'에' 등장횟수 : 6\n",
      "'을' 등장횟수 : 6\n",
      "'지' 등장횟수 : 5\n",
      "'강' 등장횟수 : 5\n",
      "'하' 등장횟수 : 4\n",
      "'수' 등장횟수 : 3\n",
      "'서' 등장횟수 : 3\n",
      "'를' 등장횟수 : 3\n",
      "'눈' 등장횟수 : 3\n",
      "'로' 등장횟수 : 3\n",
      "'고' 등장횟수 : 3\n",
      "'다' 등장횟수 : 3\n",
      "'.' 등장횟수 : 3\n",
      "'그' 등장횟수 : 3\n",
      "'의' 등장횟수 : 3\n",
      "'광' 등장횟수 : 2\n",
      "'2' 등장횟수 : 2\n"
     ]
    }
   ],
   "source": [
    "mydict = dict()\n",
    "with open('../mydata.txt','rt',encoding='utf-8') as fo:\n",
    "        line_ = fo.read().strip()\n",
    "        for text in line_:\n",
    "            if text == ' ' or text == '\\n':\n",
    "                continue\n",
    "            if text not in mydict:\n",
    "                mydict[text] = 0\n",
    "            mydict[text] += 1\n",
    "\n",
    "ans = sorted(mydict.items(), key =lambda x:x[1], reverse = True)\n",
    "for i, j in ans[:20]:\n",
    "    print(\"'{}' 등장횟수 : {}\".format(i, j))"
   ]
  },
  {
   "cell_type": "code",
   "execution_count": 43,
   "id": "24190969",
   "metadata": {},
   "outputs": [],
   "source": [
    "from collections import Counter\n",
    "# with open('../mydata.txt','rt',encoding='utf-8') as fo:\n",
    "#     ans = Counter(fo.read().strip()).most_common()\n",
    "\n",
    "# for i, j in ans[:20]:\n",
    "#     print(\"'{}' 등장횟수 : {}\".format(i, j))\n",
    "\n",
    "with open('../mydata.txt','rt',encoding='utf-8') as fo:\n",
    "    f = fo.read()\n",
    "ans = Counter(f.strip()).most_common()\n",
    "# for i, j in ans[:20]:\n",
    "#     print(\"'{}' 등장횟수 : {}\".format(i, j))"
   ]
  },
  {
   "cell_type": "code",
   "execution_count": 44,
   "id": "6507f951",
   "metadata": {
    "scrolled": true
   },
   "outputs": [
    {
     "name": "stdout",
     "output_type": "stream",
     "text": [
      "'이' 등장횟수 : 9\n",
      "'는' 등장횟수 : 7\n",
      "'한' 등장횟수 : 7\n",
      "'에' 등장횟수 : 6\n",
      "'을' 등장횟수 : 6\n",
      "'지' 등장횟수 : 5\n",
      "'강' 등장횟수 : 5\n",
      "'하' 등장횟수 : 4\n",
      "'수' 등장횟수 : 3\n",
      "'서' 등장횟수 : 3\n",
      "'를' 등장횟수 : 3\n",
      "'눈' 등장횟수 : 3\n",
      "'로' 등장횟수 : 3\n",
      "'고' 등장횟수 : 3\n",
      "'다' 등장횟수 : 3\n",
      "'.' 등장횟수 : 3\n",
      "'그' 등장횟수 : 3\n",
      "'의' 등장횟수 : 3\n",
      "'광' 등장횟수 : 2\n",
      "'2' 등장횟수 : 2\n"
     ]
    }
   ],
   "source": [
    "with open('../mydata.txt','rt',encoding='utf-8') as f:\n",
    "    text = f.read()\n",
    "\n",
    "char = {}\n",
    "for c in text:\n",
    "    if c in char:\n",
    "        char[c] += 1\n",
    "    else:\n",
    "        char[c] = 0\n",
    "\n",
    "char = sorted(mydict.items(), key =lambda x:x[1], reverse = True)\n",
    "for i, j in char[:20]:\n",
    "    print(\"'{}' 등장횟수 : {}\".format(i, j))"
   ]
  }
 ],
 "metadata": {
  "kernelspec": {
   "display_name": "Python 3 (ipykernel)",
   "language": "python",
   "name": "python3"
  },
  "language_info": {
   "codemirror_mode": {
    "name": "ipython",
    "version": 3
   },
   "file_extension": ".py",
   "mimetype": "text/x-python",
   "name": "python",
   "nbconvert_exporter": "python",
   "pygments_lexer": "ipython3",
   "version": "3.9.7"
  }
 },
 "nbformat": 4,
 "nbformat_minor": 5
}
