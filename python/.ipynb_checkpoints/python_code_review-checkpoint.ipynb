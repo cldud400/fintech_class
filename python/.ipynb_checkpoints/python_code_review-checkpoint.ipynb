{
 "cells": [
  {
   "cell_type": "markdown",
   "id": "af4c0e4a",
   "metadata": {},
   "source": [
    "# String"
   ]
  },
  {
   "cell_type": "code",
   "execution_count": 1,
   "id": "d5aa9d92",
   "metadata": {},
   "outputs": [],
   "source": [
    "txt1 = '  A tale that was not right  '   \n",
    "txt2 = '이 또한 지나가리라'"
   ]
  },
  {
   "cell_type": "markdown",
   "id": "6d13daab",
   "metadata": {},
   "source": [
    "---"
   ]
  },
  {
   "cell_type": "markdown",
   "id": "973a3c45",
   "metadata": {},
   "source": [
    "tale을 출력하시오.   "
   ]
  },
  {
   "cell_type": "code",
   "execution_count": 5,
   "id": "149a0f8a",
   "metadata": {},
   "outputs": [
    {
     "data": {
      "text/plain": [
       "'tale '"
      ]
     },
     "execution_count": 5,
     "metadata": {},
     "output_type": "execute_result"
    }
   ],
   "source": [
    "txt1[2:7]"
   ]
  },
  {
   "cell_type": "markdown",
   "id": "8f9f93ec",
   "metadata": {},
   "source": [
    "'지'를 출력하시오.   "
   ]
  },
  {
   "cell_type": "code",
   "execution_count": 6,
   "id": "821c821b",
   "metadata": {},
   "outputs": [
    {
     "data": {
      "text/plain": [
       "'지'"
      ]
     },
     "execution_count": 6,
     "metadata": {},
     "output_type": "execute_result"
    }
   ],
   "source": [
    "txt2[-5]"
   ]
  },
  {
   "cell_type": "markdown",
   "id": "71d26edd",
   "metadata": {},
   "source": [
    "'a'는 몇 개가 존재하는가?   "
   ]
  },
  {
   "cell_type": "code",
   "execution_count": 7,
   "id": "94a5bc7e",
   "metadata": {},
   "outputs": [
    {
     "data": {
      "text/plain": [
       "3"
      ]
     },
     "execution_count": 7,
     "metadata": {},
     "output_type": "execute_result"
    }
   ],
   "source": [
    "txt1.count('a')"
   ]
  },
  {
   "cell_type": "markdown",
   "id": "3c00ab21",
   "metadata": {},
   "source": [
    "txt1에서 모음의 갯수는 몇 개인가?   "
   ]
  },
  {
   "cell_type": "code",
   "execution_count": 11,
   "id": "a9e062ff",
   "metadata": {},
   "outputs": [
    {
     "data": {
      "text/plain": [
       "7"
      ]
     },
     "execution_count": 11,
     "metadata": {},
     "output_type": "execute_result"
    }
   ],
   "source": [
    "txt_ = txt1.lower()\n",
    "cnt = 0\n",
    "for i in txt_:\n",
    "    if i in 'aeiou':\n",
    "        cnt += 1\n",
    "cnt"
   ]
  },
  {
   "cell_type": "markdown",
   "id": "2a1cd4ab",
   "metadata": {},
   "source": [
    "'또한'을 '것도'로 수정하시오   "
   ]
  },
  {
   "cell_type": "code",
   "execution_count": 2,
   "id": "19b71f44",
   "metadata": {},
   "outputs": [
    {
     "data": {
      "text/plain": [
       "'이 것도 지나가리라'"
      ]
     },
     "execution_count": 2,
     "metadata": {},
     "output_type": "execute_result"
    }
   ],
   "source": [
    "txt_ = txt2.replace('또한','것도')\n",
    "txt_"
   ]
  },
  {
   "cell_type": "markdown",
   "id": "bdf53b11",
   "metadata": {},
   "source": [
    "txt1을 대문자로 출력하시오   "
   ]
  },
  {
   "cell_type": "code",
   "execution_count": 13,
   "id": "66a6d9bf",
   "metadata": {},
   "outputs": [
    {
     "name": "stdout",
     "output_type": "stream",
     "text": [
      "A TALE THAT WAS NOT RIGHT\n"
     ]
    }
   ],
   "source": [
    "print(txt1.upper())"
   ]
  },
  {
   "cell_type": "markdown",
   "id": "2fc4c7e1",
   "metadata": {},
   "source": [
    "txt1에서 right은 몇 번째 인덱스에 등장하는가?   "
   ]
  },
  {
   "cell_type": "code",
   "execution_count": 65,
   "id": "5423da3a",
   "metadata": {},
   "outputs": [
    {
     "data": {
      "text/plain": [
       "22"
      ]
     },
     "execution_count": 65,
     "metadata": {},
     "output_type": "execute_result"
    }
   ],
   "source": [
    "txt1.find('right')"
   ]
  },
  {
   "cell_type": "code",
   "execution_count": 66,
   "id": "bda6095e",
   "metadata": {},
   "outputs": [
    {
     "data": {
      "text/plain": [
       "22"
      ]
     },
     "execution_count": 66,
     "metadata": {},
     "output_type": "execute_result"
    }
   ],
   "source": [
    "txt1.index('right')"
   ]
  },
  {
   "cell_type": "code",
   "execution_count": 63,
   "id": "7ac8bc37",
   "metadata": {},
   "outputs": [
    {
     "data": {
      "text/plain": [
       "-1"
      ]
     },
     "execution_count": 63,
     "metadata": {},
     "output_type": "execute_result"
    }
   ],
   "source": [
    "txt1.find('heaven')"
   ]
  },
  {
   "cell_type": "code",
   "execution_count": 61,
   "id": "c5b0444b",
   "metadata": {},
   "outputs": [
    {
     "ename": "ValueError",
     "evalue": "substring not found",
     "output_type": "error",
     "traceback": [
      "\u001b[1;31m---------------------------------------------------------------------------\u001b[0m",
      "\u001b[1;31mValueError\u001b[0m                                Traceback (most recent call last)",
      "\u001b[1;32m~\\AppData\\Local\\Temp/ipykernel_10628/1731300971.py\u001b[0m in \u001b[0;36m<module>\u001b[1;34m\u001b[0m\n\u001b[1;32m----> 1\u001b[1;33m \u001b[0mtxt1\u001b[0m\u001b[1;33m.\u001b[0m\u001b[0mindex\u001b[0m\u001b[1;33m(\u001b[0m\u001b[1;34m'heaven'\u001b[0m\u001b[1;33m)\u001b[0m\u001b[1;33m\u001b[0m\u001b[1;33m\u001b[0m\u001b[0m\n\u001b[0m",
      "\u001b[1;31mValueError\u001b[0m: substring not found"
     ]
    }
   ],
   "source": [
    "txt1.index('heaven')"
   ]
  },
  {
   "cell_type": "markdown",
   "id": "05e9b664",
   "metadata": {},
   "source": [
    "txt1을 space를 기준으로 나눠서 리스트에 담으시오   "
   ]
  },
  {
   "cell_type": "code",
   "execution_count": 17,
   "id": "12de13f8",
   "metadata": {},
   "outputs": [
    {
     "data": {
      "text/plain": [
       "['A', 'tale', 'that', 'was', 'not', 'right']"
      ]
     },
     "execution_count": 17,
     "metadata": {},
     "output_type": "execute_result"
    }
   ],
   "source": [
    "a = txt1.split()\n",
    "a"
   ]
  },
  {
   "cell_type": "markdown",
   "id": "a03a2e3b",
   "metadata": {},
   "source": [
    "txt2의 길이는 얼마인가?   "
   ]
  },
  {
   "cell_type": "code",
   "execution_count": 18,
   "id": "d9cf7ca8",
   "metadata": {},
   "outputs": [
    {
     "data": {
      "text/plain": [
       "10"
      ]
     },
     "execution_count": 18,
     "metadata": {},
     "output_type": "execute_result"
    }
   ],
   "source": [
    "len(txt2)"
   ]
  },
  {
   "cell_type": "markdown",
   "id": "f865f21a",
   "metadata": {},
   "source": [
    "txt2를 character 단위로 나눠서 리스트에 담으시오   "
   ]
  },
  {
   "cell_type": "code",
   "execution_count": 29,
   "id": "29cfe23d",
   "metadata": {},
   "outputs": [
    {
     "data": {
      "text/plain": [
       "['이', '또', '한', '지', '나', '가', '리', '라']"
      ]
     },
     "execution_count": 29,
     "metadata": {},
     "output_type": "execute_result"
    }
   ],
   "source": [
    "a = list(txt2.replace(' ',''))\n",
    "a"
   ]
  },
  {
   "cell_type": "markdown",
   "id": "92b72070",
   "metadata": {},
   "source": [
    "txt1의 좌우 공백을 제거하시오    "
   ]
  },
  {
   "cell_type": "code",
   "execution_count": 67,
   "id": "38e50aae",
   "metadata": {},
   "outputs": [
    {
     "data": {
      "text/plain": [
       "'A tale that was not right'"
      ]
     },
     "execution_count": 67,
     "metadata": {},
     "output_type": "execute_result"
    }
   ],
   "source": [
    "txt1.strip()"
   ]
  },
  {
   "cell_type": "markdown",
   "id": "082fc791",
   "metadata": {},
   "source": [
    "txt2를 역순으로 출력하시오"
   ]
  },
  {
   "cell_type": "code",
   "execution_count": 69,
   "id": "1fe6cc4e",
   "metadata": {},
   "outputs": [
    {
     "data": {
      "text/plain": [
       "'라리가나지 한또 이'"
      ]
     },
     "execution_count": 69,
     "metadata": {},
     "output_type": "execute_result"
    }
   ],
   "source": [
    "txt2[::-1]"
   ]
  },
  {
   "cell_type": "markdown",
   "id": "4050c5cf",
   "metadata": {},
   "source": [
    "txt1과 txt2를 연결하여 하나의 문자열로 만드시오"
   ]
  },
  {
   "cell_type": "code",
   "execution_count": 70,
   "id": "e104b8e3",
   "metadata": {},
   "outputs": [
    {
     "data": {
      "text/plain": [
       "'  A tale that was not right이 또한 지나가리라'"
      ]
     },
     "execution_count": 70,
     "metadata": {},
     "output_type": "execute_result"
    }
   ],
   "source": [
    "txt1 + txt2"
   ]
  },
  {
   "cell_type": "markdown",
   "id": "b2e0d003",
   "metadata": {},
   "source": [
    "txt2에서 짝수 인덱스 문자만 출력하시오"
   ]
  },
  {
   "cell_type": "code",
   "execution_count": 72,
   "id": "242c1d79",
   "metadata": {},
   "outputs": [
    {
     "data": {
      "text/plain": [
       "'이또 나리'"
      ]
     },
     "execution_count": 72,
     "metadata": {},
     "output_type": "execute_result"
    }
   ],
   "source": [
    "txt2[::2]"
   ]
  },
  {
   "cell_type": "markdown",
   "id": "4b308782",
   "metadata": {},
   "source": [
    "txt1에서 뒤에서 5번째 문자를 출력하시오"
   ]
  },
  {
   "cell_type": "code",
   "execution_count": 76,
   "id": "a83cf439",
   "metadata": {},
   "outputs": [
    {
     "data": {
      "text/plain": [
       "'g'"
      ]
     },
     "execution_count": 76,
     "metadata": {},
     "output_type": "execute_result"
    }
   ],
   "source": [
    "txt1[-5]"
   ]
  },
  {
   "cell_type": "markdown",
   "id": "21025bf1",
   "metadata": {},
   "source": [
    "txt1의 문자를 index와 튜블로 묶어서 리스트에 담으시오"
   ]
  },
  {
   "cell_type": "code",
   "execution_count": 28,
   "id": "027f6ee2",
   "metadata": {},
   "outputs": [
    {
     "name": "stdout",
     "output_type": "stream",
     "text": [
      "[('A', 0), ('t', 1), ('a', 2), ('l', 3), ('e', 4), ('t', 5), ('h', 6), ('a', 7), ('t', 8), ('w', 9), ('a', 10), ('s', 11), ('n', 12), ('o', 13), ('t', 14), ('r', 15), ('i', 16), ('g', 17), ('h', 18), ('t', 19)]\n"
     ]
    }
   ],
   "source": [
    "li = []\n",
    "txt_ = txt1.replace(' ','')\n",
    "for p,q in enumerate(txt_):\n",
    "    li.append((q,p))\n",
    "print(li)"
   ]
  },
  {
   "cell_type": "markdown",
   "id": "e8f07c7d",
   "metadata": {},
   "source": [
    "url중 도메인만 출력하시오"
   ]
  },
  {
   "cell_type": "code",
   "execution_count": 78,
   "id": "6a59a9b5",
   "metadata": {},
   "outputs": [
    {
     "name": "stdout",
     "output_type": "stream",
     "text": [
      "www.naver.com\n"
     ]
    }
   ],
   "source": [
    "url = 'http://www.naver.com/news/today=20221230'\n",
    "print(url.split('/')[2])"
   ]
  },
  {
   "cell_type": "markdown",
   "id": "ac14261a",
   "metadata": {},
   "source": [
    "log = 'name : 홍길동, age : 17, sex : 남성, nation : 대한민국'   \n",
    "아래와 같이 출력하시오   \n",
    "name => '홍길동'   \n",
    "age => 17   \n",
    "sex => '남성'   \n",
    "..."
   ]
  },
  {
   "cell_type": "code",
   "execution_count": 77,
   "id": "61b71a5c",
   "metadata": {
    "scrolled": true
   },
   "outputs": [
    {
     "name": "stdout",
     "output_type": "stream",
     "text": [
      "name => 홍길동\n",
      "age => 17\n",
      "sex => 남성\n",
      "nation => 대한민국\n"
     ]
    }
   ],
   "source": [
    "log = 'name : 홍길동, age : 17, sex : 남성, nation : 대한민국'\n",
    "log1 = log.split(',')\n",
    "for i in range(len(log1)):\n",
    "    print(log1[i].replace(' : ',' => ').strip())"
   ]
  },
  {
   "cell_type": "code",
   "execution_count": 59,
   "id": "5d38d8be",
   "metadata": {},
   "outputs": [
    {
     "name": "stdout",
     "output_type": "stream",
     "text": [
      "name => 홍길동\n",
      "age => 17\n",
      "sex => 남성\n",
      "nation => 대한민국\n"
     ]
    }
   ],
   "source": [
    "for i in range(len(log1)):\n",
    "    log2 = log1[i].strip().split(':')\n",
    "    print('{}=>{}'.format(log2[0],log2[1]))"
   ]
  },
  {
   "cell_type": "code",
   "execution_count": 88,
   "id": "1b57c26b",
   "metadata": {},
   "outputs": [
    {
     "data": {
      "text/plain": [
       "\"2022 '리그 오브 레전드' 월드 챔피언십을 향한 여정이 시작됐습니다.지난 10일 개막한 LPL(중국)을 시작으로 LCK(12일), LEC(유럽, 14일) 등이 새로운 시작을 맞이할 예정이죠.프로 선수들의 수준 높은 플레이에 목말라 있을 팬들에겐 무척 반가운 소식이 아닐 수 없습니다.\""
      ]
     },
     "execution_count": 88,
     "metadata": {},
     "output_type": "execute_result"
    }
   ],
   "source": [
    "text = '''\\\n",
    "2022 '리그 오브 레전드' 월드 챔피언십을 향한 여정이 시작됐습니다.\\\n",
    "지난 10일 개막한 LPL(중국)을 시작으로 LCK(12일), LEC(유럽, 14일) 등이 새로운 시작을 맞이할 예정이죠.\\\n",
    "프로 선수들의 수준 높은 플레이에 목말라 있을 팬들에겐 무척 반가운 소식이 아닐 수 없습니다.\\\n",
    "'''\n",
    "text"
   ]
  },
  {
   "cell_type": "code",
   "execution_count": 84,
   "id": "ce39210c",
   "metadata": {},
   "outputs": [
    {
     "data": {
      "text/plain": [
       "\"2022 '리그 오브 레전드'월드 챔피언십을 향한 여정이 시작됐습니다.\""
      ]
     },
     "execution_count": 84,
     "metadata": {},
     "output_type": "execute_result"
    }
   ],
   "source": [
    "text = \"2022 '리그 오브 레전드'\\\n",
    "월드 챔피언십을 향한 여정이 시작됐습니다.\"\n",
    "text"
   ]
  },
  {
   "cell_type": "markdown",
   "id": "c0ab75ce",
   "metadata": {},
   "source": [
    "# datatype\n",
    "- 기본형\n",
    "    1. int : 95\n",
    "    2. float : 3.14\n",
    "    3. bool : True, False\n",
    "    \n",
    "- 군집형(여러 요소가 모여서 하나의 데이터 형식)\n",
    "    1. string : '', 요소의 수정, 삭제, 추가가 안됨.\n",
    "        - 순서, 인덱스가 존재         \n",
    "    2. list : [], 요소의 수정, 삭제, 추가가 자유롭다.\n",
    "        - 순서, 인덱스가 존재\n",
    "    3. tuple : (), 요소의 수정, 삭제, 추가가 안됨, 보조용.\n",
    "        - 순서, 인덱스가 존재\n",
    "    4. set : {}, 요소의 삭제, 추가 가능. 중복요소가 없다. \n",
    "        - **집합**연산가능. 순서\n",
    "        - 인덱스가 없다.\n",
    "    5. dictionary : {key:value}, 요소의 수정, 삭제, 추가가 자유롭다.\n",
    "        - 데이터의 저장(json과 유사).\n",
    "        - 순서는 없고, 인덱스는 key역할"
   ]
  },
  {
   "cell_type": "markdown",
   "id": "a51b823b",
   "metadata": {},
   "source": [
    "## List"
   ]
  },
  {
   "cell_type": "code",
   "execution_count": 220,
   "id": "038d45d9",
   "metadata": {},
   "outputs": [],
   "source": [
    "score = [81, 90, 78, 'python', 'hello', True, [78, 56, 32], (24, 25, 3)]"
   ]
  },
  {
   "cell_type": "code",
   "execution_count": 221,
   "id": "9cbe805e",
   "metadata": {},
   "outputs": [
    {
     "data": {
      "text/plain": [
       "'t'"
      ]
     },
     "execution_count": 221,
     "metadata": {},
     "output_type": "execute_result"
    }
   ],
   "source": [
    "# 't'를 출력하시오\n",
    "score[3][2]"
   ]
  },
  {
   "cell_type": "code",
   "execution_count": 222,
   "id": "9298b222",
   "metadata": {},
   "outputs": [
    {
     "data": {
      "text/plain": [
       "56"
      ]
     },
     "execution_count": 222,
     "metadata": {},
     "output_type": "execute_result"
    }
   ],
   "source": [
    "# 56을 출력하시오\n",
    "score[-2][1]"
   ]
  },
  {
   "cell_type": "code",
   "execution_count": 223,
   "id": "6ed2d1db",
   "metadata": {},
   "outputs": [
    {
     "data": {
      "text/plain": [
       "25"
      ]
     },
     "execution_count": 223,
     "metadata": {},
     "output_type": "execute_result"
    }
   ],
   "source": [
    "# 마지막 요소의 최대값을 출력하시오\n",
    "max(score[-1])"
   ]
  },
  {
   "cell_type": "code",
   "execution_count": 224,
   "id": "09642d36",
   "metadata": {},
   "outputs": [
    {
     "data": {
      "text/plain": [
       "[81, 90, 78, 'world', 'hello', True, [78, 56, 32], (24, 25, 3)]"
      ]
     },
     "execution_count": 224,
     "metadata": {},
     "output_type": "execute_result"
    }
   ],
   "source": [
    "# 'python'을 'world'로 수정하시오\n",
    "score[3] = 'world'\n",
    "score"
   ]
  },
  {
   "cell_type": "code",
   "execution_count": 225,
   "id": "bc7cbf6c",
   "metadata": {},
   "outputs": [
    {
     "data": {
      "text/plain": [
       "[81, 90, 78, 'world', 'hello', True, [78, 56, 32], (24, 25, 3), 'sun']"
      ]
     },
     "execution_count": 225,
     "metadata": {},
     "output_type": "execute_result"
    }
   ],
   "source": [
    "# 마지막에 'sun'을 추가하시오\n",
    "score.append('sun')\n",
    "score"
   ]
  },
  {
   "cell_type": "code",
   "execution_count": 226,
   "id": "03a6a650",
   "metadata": {},
   "outputs": [
    {
     "data": {
      "text/plain": [
       "True"
      ]
     },
     "execution_count": 226,
     "metadata": {},
     "output_type": "execute_result"
    }
   ],
   "source": [
    "# 'world'가 있는지 확인하시오\n",
    "'world' in score"
   ]
  },
  {
   "cell_type": "code",
   "execution_count": 227,
   "id": "39166d70",
   "metadata": {},
   "outputs": [
    {
     "data": {
      "text/plain": [
       "[25, 24, 3]"
      ]
     },
     "execution_count": 227,
     "metadata": {},
     "output_type": "execute_result"
    }
   ],
   "source": [
    "# 마지막에서 2번째 요소를 내림차순으로 정렬하시오\n",
    "sorted(score[-2], reverse = True)"
   ]
  },
  {
   "cell_type": "code",
   "execution_count": 228,
   "id": "59c5b308",
   "metadata": {},
   "outputs": [
    {
     "data": {
      "text/plain": [
       "1"
      ]
     },
     "execution_count": 228,
     "metadata": {},
     "output_type": "execute_result"
    }
   ],
   "source": [
    "# 90은 몇 번째 인덱스에 있는지 확인하시오\n",
    "score.index(90)"
   ]
  },
  {
   "cell_type": "code",
   "execution_count": 209,
   "id": "51a3d66a",
   "metadata": {},
   "outputs": [
    {
     "data": {
      "text/plain": [
       "[81, 90, 78, 'world', 'hello', True, [78, 56, 32], (24, 25, 3), 'sun']"
      ]
     },
     "execution_count": 209,
     "metadata": {},
     "output_type": "execute_result"
    }
   ],
   "source": [
    "# 리스트를 역순으로 정렬하시오\n",
    "score.reverse()\n",
    "score"
   ]
  },
  {
   "cell_type": "code",
   "execution_count": 229,
   "id": "b1ea3ad2",
   "metadata": {},
   "outputs": [],
   "source": [
    "# # 3번째 인덱스에 'sea'를 추가하시오\n",
    "# score.insert(3, 'sea')\n",
    "# score"
   ]
  },
  {
   "cell_type": "code",
   "execution_count": 230,
   "id": "d12b8928",
   "metadata": {},
   "outputs": [
    {
     "data": {
      "text/plain": [
       "['sea', 81, 90, 78, 'world', 'hello', True, [78, 56, 32], (24, 25, 3), 'sun']"
      ]
     },
     "execution_count": 230,
     "metadata": {},
     "output_type": "execute_result"
    }
   ],
   "source": [
    "# 0번째 인덱스에 'sea'를 추가하시오\n",
    "score.insert(0, 'sea')\n",
    "score"
   ]
  },
  {
   "cell_type": "code",
   "execution_count": 231,
   "id": "832dd380",
   "metadata": {},
   "outputs": [
    {
     "data": {
      "text/plain": [
       "['sea', 81, 90, 78, 'world', 'hello', False, [78, 56, 32], (24, 25, 3), 'sun']"
      ]
     },
     "execution_count": 231,
     "metadata": {},
     "output_type": "execute_result"
    }
   ],
   "source": [
    "# True를 False로 수정하시오\n",
    "score[score.index(True)] = False\n",
    "score"
   ]
  },
  {
   "cell_type": "code",
   "execution_count": 232,
   "id": "bdf71df6",
   "metadata": {},
   "outputs": [
    {
     "data": {
      "text/plain": [
       "['sea', 81, 90, 78, 'hello', False, [78, 56, 32], (24, 25, 3), 'sun']"
      ]
     },
     "execution_count": 232,
     "metadata": {},
     "output_type": "execute_result"
    }
   ],
   "source": [
    "# 'world'를 제거하시오\n",
    "score.remove('world')\n",
    "score"
   ]
  },
  {
   "cell_type": "code",
   "execution_count": 233,
   "id": "ad6b299e",
   "metadata": {},
   "outputs": [
    {
     "data": {
      "text/plain": [
       "['sea', 81, 90, 78, 'hello', False, [78, 56, 32], 'sun']"
      ]
     },
     "execution_count": 233,
     "metadata": {},
     "output_type": "execute_result"
    }
   ],
   "source": [
    "# 7번째 요소를 제거하시오\n",
    "score.pop(7)\n",
    "score"
   ]
  },
  {
   "cell_type": "code",
   "execution_count": 234,
   "id": "146ff7dc",
   "metadata": {},
   "outputs": [
    {
     "data": {
      "text/plain": [
       "8"
      ]
     },
     "execution_count": 234,
     "metadata": {},
     "output_type": "execute_result"
    }
   ],
   "source": [
    "# 리스트의 길이를 출력하시오\n",
    "len(score)"
   ]
  },
  {
   "cell_type": "code",
   "execution_count": 235,
   "id": "ad82c7d0",
   "metadata": {},
   "outputs": [
    {
     "data": {
      "text/plain": [
       "int"
      ]
     },
     "execution_count": 235,
     "metadata": {},
     "output_type": "execute_result"
    }
   ],
   "source": [
    "# 두 번째 요소의 데이터타입을 출력하시오\n",
    "type(score[2])"
   ]
  },
  {
   "cell_type": "code",
   "execution_count": 236,
   "id": "8428cac9",
   "metadata": {},
   "outputs": [
    {
     "data": {
      "text/plain": [
       "'78:56:32'"
      ]
     },
     "execution_count": 236,
     "metadata": {},
     "output_type": "execute_result"
    }
   ],
   "source": [
    "# [78, 56, 32]를 \"78:56:32\"로 수정하시오\n",
    "i = score.index([78, 56, 32])\n",
    "score[i] = list(map(str,score[i]))\n",
    "score[i] = ':'.join(score[i])\n",
    "score[i]"
   ]
  },
  {
   "cell_type": "code",
   "execution_count": 237,
   "id": "1a19b1bb",
   "metadata": {},
   "outputs": [
    {
     "data": {
      "text/plain": [
       "['sea', 81, 90, 78, 'hello', False, '78:56:32', 'sun']"
      ]
     },
     "execution_count": 237,
     "metadata": {},
     "output_type": "execute_result"
    }
   ],
   "source": [
    "score"
   ]
  },
  {
   "cell_type": "code",
   "execution_count": null,
   "id": "9fcdb7c1",
   "metadata": {},
   "outputs": [],
   "source": [
    "# 모든 원소를 제거하시오\n",
    "# score.clear()\n",
    "# score"
   ]
  },
  {
   "cell_type": "code",
   "execution_count": null,
   "id": "4a5c2b83",
   "metadata": {},
   "outputs": [],
   "source": [
    "# 리스트를 삭제하시오\n",
    "# del score"
   ]
  },
  {
   "cell_type": "markdown",
   "id": "e17468f9",
   "metadata": {},
   "source": [
    "## Tuple"
   ]
  },
  {
   "cell_type": "code",
   "execution_count": 56,
   "id": "bd06940c",
   "metadata": {},
   "outputs": [],
   "source": [
    "myTuple = ('tuple', (1,2,3) , [4,5,6,7,8] ,'7', '8', '9')"
   ]
  },
  {
   "cell_type": "code",
   "execution_count": 57,
   "id": "6015a40b",
   "metadata": {},
   "outputs": [
    {
     "name": "stdout",
     "output_type": "stream",
     "text": [
      "tuple\n",
      "3\n",
      "[4, 5]\n",
      "[4, 5, 6]\n",
      "6\n",
      "True\n",
      "3\n",
      "1\n",
      "[4, 5, 6, 7, 8]\n",
      "8\n",
      "4\n",
      "30\n",
      "6.0\n",
      "[8, 7, 6, 5, 4]\n"
     ]
    }
   ],
   "source": [
    "# 'tuple'을 출력하세요\n",
    "print(myTuple[0])\n",
    "# 3을 출력하세요\n",
    "\n",
    "print(myTuple[1][2])\n",
    "\n",
    "# 4,5를 출력하세요\n",
    "# print(myTuple[2][0],myTuple[2][1], sep = ',')\n",
    "print(myTuple[2][:2])\n",
    "\n",
    "# [4,5,6]을 출력하세요\n",
    "print(myTuple[2][:3])\n",
    "\n",
    "# tuple의 길이를 리턴하세요 ( 요소의 갯수가 몇 개인지 )\n",
    "print(len(myTuple))\n",
    "\n",
    "# '7'이 있는지 확인하세요\n",
    "print('7' in myTuple)\n",
    "\n",
    "# '7'의 인덱스를 출력하세요.\n",
    "print(myTuple.index('7'))\n",
    "\n",
    "# '7'이 몇 개 있는지 확인하세요\n",
    "print(myTuple.count('7'))\n",
    "\n",
    "# 인데스 2번를 출력하세요\n",
    "print(myTuple[2])\n",
    "\n",
    "# 인데스 2번에서 최대값을 출력하세요\n",
    "print(max(myTuple[2]))\n",
    "\n",
    "# 인데스 2번에서 최소값을 출력하세요\n",
    "print(min(myTuple[2]))\n",
    "\n",
    "# 인데스 2번에서 총합을 출력하세요\n",
    "print(sum(myTuple[2]))\n",
    "\n",
    "# 인데스 2번에서 평균을 출력하세요\n",
    "import numpy as np\n",
    "print(np.mean(myTuple[2]))\n",
    "# print(sum(myTuple[2])/len(myTuple[2]))\n",
    "\n",
    "# 인데스 2번를 내림차순 정렬해서 출력하세요.\n",
    "print(sorted(myTuple[2], reverse=True))"
   ]
  },
  {
   "cell_type": "markdown",
   "id": "a4551593",
   "metadata": {},
   "source": [
    "## Set"
   ]
  },
  {
   "cell_type": "code",
   "execution_count": 9,
   "id": "17392b54",
   "metadata": {},
   "outputs": [],
   "source": [
    "# 원소가 없는 set를 만드세요\n",
    "s = set()"
   ]
  },
  {
   "cell_type": "code",
   "execution_count": 10,
   "id": "3de94966",
   "metadata": {},
   "outputs": [],
   "source": [
    "# s에 원소 'sky'와 'earth'를 추가하세요\n",
    "s.add('sky')\n",
    "s.add('earth')"
   ]
  },
  {
   "cell_type": "code",
   "execution_count": 11,
   "id": "3d0da75b",
   "metadata": {},
   "outputs": [],
   "source": [
    "# s에 1,2 두 원소를 추가하세요\n",
    "s.update({1,2})"
   ]
  },
  {
   "cell_type": "code",
   "execution_count": 12,
   "id": "501a5509",
   "metadata": {},
   "outputs": [
    {
     "data": {
      "text/plain": [
       "{1, 2, 'earth'}"
      ]
     },
     "execution_count": 12,
     "metadata": {},
     "output_type": "execute_result"
    }
   ],
   "source": [
    "# s에서 'sky'를 삭제하세요\n",
    "s.remove('sky')\n",
    "s"
   ]
  },
  {
   "cell_type": "code",
   "execution_count": 13,
   "id": "d23fafeb",
   "metadata": {},
   "outputs": [
    {
     "data": {
      "text/plain": [
       "{1, 2, 3, 4, 5, 6, 7, 8, 9}"
      ]
     },
     "execution_count": 13,
     "metadata": {},
     "output_type": "execute_result"
    }
   ],
   "source": [
    "A = {1,2,3,4,5,6}\n",
    "B = {1,2,3,7,8,9}\n",
    "C = {1,2,3}\n",
    "# 두 집합의 합집합\n",
    "A.union(B)"
   ]
  },
  {
   "cell_type": "code",
   "execution_count": 14,
   "id": "d81b45f3",
   "metadata": {},
   "outputs": [
    {
     "data": {
      "text/plain": [
       "{1, 2, 3}"
      ]
     },
     "execution_count": 14,
     "metadata": {},
     "output_type": "execute_result"
    }
   ],
   "source": [
    "# 두 집합의 교집합\n",
    "A.intersection(B)"
   ]
  },
  {
   "cell_type": "code",
   "execution_count": 15,
   "id": "1bc35a28",
   "metadata": {},
   "outputs": [
    {
     "data": {
      "text/plain": [
       "{4, 5, 6}"
      ]
     },
     "execution_count": 15,
     "metadata": {},
     "output_type": "execute_result"
    }
   ],
   "source": [
    "# A의 B에 대한 차집합\n",
    "A.difference(B)"
   ]
  },
  {
   "cell_type": "code",
   "execution_count": 16,
   "id": "01dc7fcb",
   "metadata": {},
   "outputs": [
    {
     "data": {
      "text/plain": [
       "{4, 5, 6, 7, 8, 9}"
      ]
     },
     "execution_count": 16,
     "metadata": {},
     "output_type": "execute_result"
    }
   ],
   "source": [
    "# 대칭차집합\n",
    "A.symmetric_difference(B)"
   ]
  },
  {
   "cell_type": "code",
   "execution_count": 32,
   "id": "69cb7c94",
   "metadata": {},
   "outputs": [
    {
     "data": {
      "text/plain": [
       "False"
      ]
     },
     "execution_count": 32,
     "metadata": {},
     "output_type": "execute_result"
    }
   ],
   "source": [
    "# C가 A의 부분집합인지 확인\n",
    "A.issubset(C)"
   ]
  },
  {
   "cell_type": "code",
   "execution_count": 30,
   "id": "ee31c968",
   "metadata": {},
   "outputs": [
    {
     "data": {
      "text/plain": [
       "True"
      ]
     },
     "execution_count": 30,
     "metadata": {},
     "output_type": "execute_result"
    }
   ],
   "source": [
    "# A가 C를 포함하는지 확인\n",
    "A.issuperset(C)"
   ]
  },
  {
   "cell_type": "code",
   "execution_count": 21,
   "id": "bae706a3",
   "metadata": {},
   "outputs": [
    {
     "data": {
      "text/plain": [
       "6"
      ]
     },
     "execution_count": 21,
     "metadata": {},
     "output_type": "execute_result"
    }
   ],
   "source": [
    "# 집합 B의 길이\n",
    "len(B)"
   ]
  },
  {
   "cell_type": "code",
   "execution_count": 22,
   "id": "7f5c735d",
   "metadata": {},
   "outputs": [
    {
     "data": {
      "text/plain": [
       "9"
      ]
     },
     "execution_count": 22,
     "metadata": {},
     "output_type": "execute_result"
    }
   ],
   "source": [
    "# 집합 B의 최대값\n",
    "max(B)"
   ]
  },
  {
   "cell_type": "code",
   "execution_count": 23,
   "id": "27be0ff9",
   "metadata": {},
   "outputs": [
    {
     "data": {
      "text/plain": [
       "1"
      ]
     },
     "execution_count": 23,
     "metadata": {},
     "output_type": "execute_result"
    }
   ],
   "source": [
    "# 집합 B의 최소값\n",
    "min(B)"
   ]
  },
  {
   "cell_type": "code",
   "execution_count": 26,
   "id": "550a9d1a",
   "metadata": {},
   "outputs": [
    {
     "data": {
      "text/plain": [
       "30"
      ]
     },
     "execution_count": 26,
     "metadata": {},
     "output_type": "execute_result"
    }
   ],
   "source": [
    "# 집합 B의 합\n",
    "sum(B)"
   ]
  },
  {
   "cell_type": "code",
   "execution_count": 37,
   "id": "4497c077",
   "metadata": {},
   "outputs": [
    {
     "data": {
      "text/plain": [
       "5.0"
      ]
     },
     "execution_count": 37,
     "metadata": {},
     "output_type": "execute_result"
    }
   ],
   "source": [
    "# 집합 B의 평균\n",
    "sum(B)/len(B)"
   ]
  },
  {
   "cell_type": "code",
   "execution_count": 28,
   "id": "947e8903",
   "metadata": {},
   "outputs": [
    {
     "data": {
      "text/plain": [
       "[9, 8, 7, 3, 2, 1]"
      ]
     },
     "execution_count": 28,
     "metadata": {},
     "output_type": "execute_result"
    }
   ],
   "source": [
    "# 집합 B의 내림차순 출력\n",
    "sorted(B, reverse = True)"
   ]
  },
  {
   "cell_type": "code",
   "execution_count": 29,
   "id": "8deb168c",
   "metadata": {},
   "outputs": [
    {
     "data": {
      "text/plain": [
       "False"
      ]
     },
     "execution_count": 29,
     "metadata": {},
     "output_type": "execute_result"
    }
   ],
   "source": [
    "# 집합 B에 5가 포함되어 있는지 확인\n",
    "5 in B"
   ]
  },
  {
   "cell_type": "markdown",
   "id": "1ba3f30b",
   "metadata": {},
   "source": [
    "## Dictionary"
   ]
  },
  {
   "cell_type": "code",
   "execution_count": 39,
   "id": "8393e243",
   "metadata": {},
   "outputs": [],
   "source": [
    "mydict = dict()"
   ]
  },
  {
   "cell_type": "code",
   "execution_count": 59,
   "id": "bbcc8f96",
   "metadata": {},
   "outputs": [
    {
     "name": "stdout",
     "output_type": "stream",
     "text": [
      "{'red': 4, 'green': 1, 'pink': 100, 'yellow': 30, '파랑': 50, '빨강': 70, 'blue': 3}\n",
      "{'red': 10, 'green': 1, 'pink': 100, 'yellow': 30, '파랑': 50, '빨강': 70, 'blue': 3}\n"
     ]
    }
   ],
   "source": [
    "# 'red':4, 'blue':3, 'green':1 세 요소를 추가하세요.\n",
    "# 기존에 없는 키에 값을 넣으면 원소 추가\n",
    "mydict['red'], mydict['blue'], mydict['green'] = 4, 3, 1; print(mydict)\n",
    "\n",
    "# 기존에 있는 키에 값을 대입하면 덮어쓰기\n",
    "mydict['red'] = 10; print(mydict)"
   ]
  },
  {
   "cell_type": "code",
   "execution_count": 41,
   "id": "b3dfa76b",
   "metadata": {},
   "outputs": [
    {
     "name": "stdout",
     "output_type": "stream",
     "text": [
      "True\n"
     ]
    }
   ],
   "source": [
    "# key에 'blue'가 있는지 확인하세요.\n",
    "# print('blue' in mydict.keys())\n",
    "print('blue' in mydict)"
   ]
  },
  {
   "cell_type": "code",
   "execution_count": 42,
   "id": "2dded603",
   "metadata": {},
   "outputs": [
    {
     "name": "stdout",
     "output_type": "stream",
     "text": [
      "3\n"
     ]
    }
   ],
   "source": [
    "# mydict의 길이를 출력하세요.\n",
    "print(len(mydict))"
   ]
  },
  {
   "cell_type": "code",
   "execution_count": 43,
   "id": "53ac99f1",
   "metadata": {},
   "outputs": [
    {
     "name": "stdout",
     "output_type": "stream",
     "text": [
      "10\n"
     ]
    }
   ],
   "source": [
    "# 'red'의 값을 출력하세요.\n",
    "print(mydict['red'])"
   ]
  },
  {
   "cell_type": "code",
   "execution_count": 44,
   "id": "d12bb3e6",
   "metadata": {},
   "outputs": [
    {
     "name": "stdout",
     "output_type": "stream",
     "text": [
      "dict_keys(['red', 'blue', 'green'])\n"
     ]
    }
   ],
   "source": [
    "# key값만 출력하세요\n",
    "print(mydict.keys())"
   ]
  },
  {
   "cell_type": "code",
   "execution_count": 45,
   "id": "d27ee941",
   "metadata": {},
   "outputs": [
    {
     "name": "stdout",
     "output_type": "stream",
     "text": [
      "dict_values([10, 3, 1])\n"
     ]
    }
   ],
   "source": [
    "# value값만 출력하세요\n",
    "print(mydict.values())"
   ]
  },
  {
   "cell_type": "code",
   "execution_count": 46,
   "id": "e2bff968",
   "metadata": {},
   "outputs": [
    {
     "name": "stdout",
     "output_type": "stream",
     "text": [
      "dict_items([('red', 10), ('blue', 3), ('green', 1)])\n"
     ]
    }
   ],
   "source": [
    "# key와 value를 튜플로 출력하세요.\n",
    "print(mydict.items())"
   ]
  },
  {
   "cell_type": "code",
   "execution_count": 47,
   "id": "53fc1bb4",
   "metadata": {},
   "outputs": [
    {
     "data": {
      "text/plain": [
       "[('blue', 3), ('green', 1), ('red', 10)]"
      ]
     },
     "execution_count": 47,
     "metadata": {},
     "output_type": "execute_result"
    }
   ],
   "source": [
    "# (key기준으로 정렬하세요.)\n",
    "sorted(mydict.items(), key =lambda x:x[0])"
   ]
  },
  {
   "cell_type": "code",
   "execution_count": 48,
   "id": "b0e82b22",
   "metadata": {},
   "outputs": [
    {
     "data": {
      "text/plain": [
       "[('green', 1), ('blue', 3), ('red', 10)]"
      ]
     },
     "execution_count": 48,
     "metadata": {},
     "output_type": "execute_result"
    }
   ],
   "source": [
    "# (value기준으로 정렬하세요)\n",
    "sorted(mydict.items(), key =lambda x:x[1])"
   ]
  },
  {
   "cell_type": "code",
   "execution_count": 60,
   "id": "c2f10ae0",
   "metadata": {},
   "outputs": [
    {
     "data": {
      "text/plain": [
       "3"
      ]
     },
     "execution_count": 60,
     "metadata": {},
     "output_type": "execute_result"
    }
   ],
   "source": [
    "# key 'blue'요소를 삭제하세요\n",
    "# del mydict['blue'];\n",
    "mydict.pop('blue')"
   ]
  },
  {
   "cell_type": "code",
   "execution_count": 50,
   "id": "b5ea0882",
   "metadata": {},
   "outputs": [
    {
     "name": "stdout",
     "output_type": "stream",
     "text": [
      "None\n"
     ]
    }
   ],
   "source": [
    "# key 'pink'요소 값을 출력하되 오류가 없도록 하세요\n",
    "# 없는 key를 요청 시 에러를 발생시키지 않는다.\n",
    "# dict.setdefault('key', value) - key가 존재하면 value를 리턴\n",
    "#                                       없는 key라면 (key,value) 원소를 추가\n",
    "print(mydict.get('pink'))"
   ]
  },
  {
   "cell_type": "code",
   "execution_count": 51,
   "id": "1130d7b2",
   "metadata": {},
   "outputs": [
    {
     "data": {
      "text/plain": [
       "100"
      ]
     },
     "execution_count": 51,
     "metadata": {},
     "output_type": "execute_result"
    }
   ],
   "source": [
    "mydict.setdefault('red',10)\n",
    "mydict.setdefault('pink',100)"
   ]
  },
  {
   "cell_type": "code",
   "execution_count": 52,
   "id": "3ab1d0e4",
   "metadata": {},
   "outputs": [],
   "source": [
    "# key 'pink' 값을 출력하되 없으면, value 20으로 새로이 추가하세요\n",
    "if not mydict.get('pink'):\n",
    "    mydict['pink'] = 20\n",
    "    print(mydict)"
   ]
  },
  {
   "cell_type": "code",
   "execution_count": 53,
   "id": "33088d06",
   "metadata": {},
   "outputs": [
    {
     "name": "stdout",
     "output_type": "stream",
     "text": [
      "False\n"
     ]
    }
   ],
   "source": [
    "# value에 20이 있는지 확인하세요.\n",
    "print(20 in mydict.values())"
   ]
  },
  {
   "cell_type": "code",
   "execution_count": 54,
   "id": "a728ee39",
   "metadata": {},
   "outputs": [],
   "source": [
    "# key는 'yellow'에 value는 30을 추가하세요.\n",
    "mydict['yellow'] = 30"
   ]
  },
  {
   "cell_type": "code",
   "execution_count": 55,
   "id": "52a07fa9",
   "metadata": {},
   "outputs": [
    {
     "data": {
      "text/plain": [
       "{'red': 10, 'green': 1, 'pink': 100, 'yellow': 30, '파랑': 50, '빨강': 70}"
      ]
     },
     "execution_count": 55,
     "metadata": {},
     "output_type": "execute_result"
    }
   ],
   "source": [
    "# # yourdict = {'파랑':50, '빨강':70}을 합하세요..\n",
    "yourdict = {'파랑':50, '빨강':70}\n",
    "mydict.update(yourdict)\n",
    "mydict"
   ]
  },
  {
   "cell_type": "markdown",
   "id": "f50d72d0",
   "metadata": {},
   "source": [
    "# If"
   ]
  },
  {
   "cell_type": "code",
   "execution_count": 61,
   "id": "b4d6965d",
   "metadata": {},
   "outputs": [],
   "source": [
    "# 조건식 => True / False\n",
    "\n",
    "# if 조건식 :\n",
    "#     실행코드\n",
    "# elif 조건식:\n",
    "#     실행코드\n",
    "# elif 조건식:\n",
    "#     실행코드\n",
    "# else:\n",
    "#     실행코드"
   ]
  },
  {
   "cell_type": "markdown",
   "id": "5b1e360d",
   "metadata": {},
   "source": [
    "점수를 입력받은 후 학점을 출력하시오."
   ]
  },
  {
   "cell_type": "code",
   "execution_count": 63,
   "id": "597c8e60",
   "metadata": {},
   "outputs": [
    {
     "name": "stdout",
     "output_type": "stream",
     "text": [
      "점수를 입력하세요: 95\n",
      "A학점 입니다.\n"
     ]
    }
   ],
   "source": [
    "score = int(input('점수를 입력하세요: '))\n",
    "\n",
    "if score >= 90:\n",
    "    print('A학점 입니다.')\n",
    "elif 90 > score >= 80:\n",
    "    print('B학점 입니다.')\n",
    "elif 80 > score >= 70:\n",
    "    print('C학점 입니다.')\n",
    "else:\n",
    "    print('D학점 입니다.')"
   ]
  },
  {
   "cell_type": "markdown",
   "id": "75381a1a",
   "metadata": {},
   "source": [
    "비밀번호 = 1234인 경우 비밀번호를 입력받은 후 맞으면 '환영합니다.',   \n",
    "           틀리면 '비밀번호가 틀립니다'를 출력하시오."
   ]
  },
  {
   "cell_type": "code",
   "execution_count": 64,
   "id": "9f6de3a1",
   "metadata": {},
   "outputs": [
    {
     "name": "stdout",
     "output_type": "stream",
     "text": [
      "비밀번호를 입력하시오.: 1234\n",
      "환영합니다.\n"
     ]
    }
   ],
   "source": [
    "password = input('비밀번호를 입력하시오: ')\n",
    "\n",
    "if password == '1234':\n",
    "    print('환영합니다.')\n",
    "else:\n",
    "    print('비밀번호가 틀립니다.')"
   ]
  },
  {
   "cell_type": "markdown",
   "id": "36ef77f2",
   "metadata": {},
   "source": [
    "임의의 정수를 입력받은 후 짝수면 '짝수입니다.', 홀수면 '홀수입니다'출력"
   ]
  },
  {
   "cell_type": "code",
   "execution_count": 67,
   "id": "1213fe3d",
   "metadata": {},
   "outputs": [
    {
     "name": "stdout",
     "output_type": "stream",
     "text": [
      "정수를 입력하시오: 10\n",
      "짝수입니다.\n"
     ]
    }
   ],
   "source": [
    "num = int(input(\"정수를 입력하시오: \"))\n",
    "\n",
    "if num % 2:\n",
    "    print('홀수입니다.')\n",
    "else:\n",
    "    print('짝수입니다.')"
   ]
  },
  {
   "cell_type": "markdown",
   "id": "bfc1313f",
   "metadata": {},
   "source": [
    "주민번호 \"851205-1234567\"   \n",
    "주민번호를 입력받은 후 '당신은 나이는 _이고, 성별은_입니다' 출력"
   ]
  },
  {
   "cell_type": "code",
   "execution_count": 80,
   "id": "a43a981d",
   "metadata": {},
   "outputs": [
    {
     "name": "stdout",
     "output_type": "stream",
     "text": [
      "051231-3456781\n",
      "당신의 나이는 17이고, 성별은 남성입니다.\n"
     ]
    }
   ],
   "source": [
    "from datetime import datetime as dt\n",
    "a = dt.now()\n",
    "year = a.year\n",
    "sex_ = ''\n",
    "age_ = 0\n",
    "person_code = input('주민번호를 입력하시오: ').split('-')\n",
    "\n",
    "if int(person_code[1][0]) <= 2:\n",
    "    age_ = year - int(person_code[0][:2]) - 1900\n",
    "else:\n",
    "    age_ = year - int(person_code[0][:2]) - 2000\n",
    "\n",
    "\n",
    "if int(person_code[1][0]) % 2:\n",
    "    sex_ = '남성'\n",
    "else:\n",
    "    sex_ = '여성'\n",
    "print('당신의 나이는 {}이고, 성별은 {}입니다.'.format(age_,sex_))"
   ]
  },
  {
   "cell_type": "code",
   "execution_count": 82,
   "id": "3912a0f6",
   "metadata": {},
   "outputs": [
    {
     "name": "stdout",
     "output_type": "stream",
     "text": [
      "주민번호를 입력하시오:85123-1111111\n",
      "당신의 나이는 37이고, 성별은 남성입니다.\n"
     ]
    }
   ],
   "source": [
    "res_num = input('주민번호를 입력하시오:')\n",
    "\n",
    "birth_year = int(res_num[:2])\n",
    "gender = res_num.split('-')[1][0]\n",
    "\n",
    "age = 2022-(birth_year+1900)\n",
    "\n",
    "def to_sex(gender):\n",
    "    if gender == '1':\n",
    "        return '남성'\n",
    "    else:\n",
    "        return '여성'\n",
    "    \n",
    "sex_ = to_sex(gender)\n",
    "\n",
    "print(f'당신의 나이는 {age}이고, 성별은 {sex_}입니다.')"
   ]
  },
  {
   "cell_type": "markdown",
   "id": "b902b6c3",
   "metadata": {},
   "source": [
    "이름을 입력받은 후 이름이 있으면서 80점 이상이면 '합격입니다', 이하이면 '불합격입니다'를 출력하시오   \n",
    "이름을 입력받은 후 없으면 값을 0으로 하여 추가하시오"
   ]
  },
  {
   "cell_type": "code",
   "execution_count": 127,
   "id": "a2c2d8ff",
   "metadata": {},
   "outputs": [
    {
     "name": "stdout",
     "output_type": "stream",
     "text": [
      "이름을 입력하시오: Ban\n",
      "{'Mary': 85, 'Sam': 95, 'Bob': 87, 'Han': 77, 'Ban': 0}\n"
     ]
    }
   ],
   "source": [
    "scores = {'Mary':85, 'Sam':95, 'Bob':87, 'Han':77}\n",
    "\n",
    "name_ = input('이름을 입력하시오: ')\n",
    "\n",
    "if scores.get(name_):\n",
    "    if scores[name_] >= 80:\n",
    "        print('합격입니다.')\n",
    "    else:\n",
    "        print('불합격입니다.')\n",
    "else:\n",
    "    scores[name_] = 0\n",
    "    print(scores)\n"
   ]
  },
  {
   "cell_type": "markdown",
   "id": "81597a93",
   "metadata": {},
   "source": [
    "이름을 입력받은 후 이름이 있으면서 80점 이상이면 '합격입니다', 이하이면 '불합격입니다'를 출력하시오   \n",
    "이름을 입력받은 후 없으면 값을 0으로 하여 추가하시오"
   ]
  },
  {
   "cell_type": "code",
   "execution_count": 98,
   "id": "da296332",
   "metadata": {},
   "outputs": [
    {
     "name": "stdout",
     "output_type": "stream",
     "text": [
      "이름을 입력하시오: Ban\n"
     ]
    },
    {
     "data": {
      "text/plain": [
       "{'Mary': 85, 'Sam': 95, 'Bob': 87, 'Han': 77, 'Ban': None}"
      ]
     },
     "execution_count": 98,
     "metadata": {},
     "output_type": "execute_result"
    }
   ],
   "source": [
    "scores = {'Mary':85, 'Sam':95, 'Bob':87, 'Han':77}\n",
    "\n",
    "\n",
    "name_ = input('이름을 입력하시오: ')\n",
    "\n",
    "if scores.setdefault(name_):\n",
    "    if scores.setdefault(name_) >= 80:\n",
    "        print('합격입니다.')\n",
    "    else:\n",
    "        print('불합격입니다.')\n",
    "else:\n",
    "    scores.setdefault(name_)\n",
    "    \n",
    "scores"
   ]
  },
  {
   "cell_type": "code",
   "execution_count": 126,
   "id": "284d3f4a",
   "metadata": {},
   "outputs": [
    {
     "name": "stdout",
     "output_type": "stream",
     "text": [
      "mine =< 가위, 바위, 보 중에서 하나를 선택 하세요. 보\n",
      "yours =< 가위, 바위, 보 중에서 하나를 선택 하세요. 보\n",
      "비겼습니다.\n"
     ]
    }
   ],
   "source": [
    "# 가위 바위 보 게임\n",
    "mine = input('mine =< 가위, 바위, 보 중에서 하나를 선택 하세요. ')\n",
    "yours = input('yours =< 가위, 바위, 보 중에서 하나를 선택 하세요. ')\n",
    "\n",
    "# 비겼습니다.\n",
    "# 내가 이겼습니다.\n",
    "# 당신이 이겼습니다.\n",
    "\n",
    "if mine == yours:\n",
    "    print('비겼습니다.')\n",
    "    \n",
    "elif mine == '가위':\n",
    "    if yours == '바위':\n",
    "        print('당신이 이겼습니다.')\n",
    "    else:\n",
    "        print('내가 이겼습니다.')\n",
    "elif mine == '바위':\n",
    "    if yours == '보':\n",
    "        print('당신이 이겼습니다.')\n",
    "    else:\n",
    "        print('내가 이겼습니다.')\n",
    "else:\n",
    "    if yours == '가위':\n",
    "        print('당신이 이겼습니다.')\n",
    "    else:\n",
    "        print('내가 이겼습니다.')"
   ]
  },
  {
   "cell_type": "markdown",
   "id": "bf76f476",
   "metadata": {},
   "source": [
    "나이를 입력받은 후, 50대 이상이면 '중년이시군요', 20~40대 '젊으시군요', 20세미만 '어리시군요 출력'"
   ]
  },
  {
   "cell_type": "code",
   "execution_count": 128,
   "id": "14740a1a",
   "metadata": {},
   "outputs": [
    {
     "name": "stdout",
     "output_type": "stream",
     "text": [
      "나이를 입력하시오: 50\n",
      "중년이시군요\n"
     ]
    }
   ],
   "source": [
    "age_ = int(input('나이를 입력하시오: '))\n",
    "\n",
    "if age_ >= 50:\n",
    "    print('중년이시군요')\n",
    "elif age_ >= 20:\n",
    "    print('젊으시군요')\n",
    "else:\n",
    "    print('어리시군요')"
   ]
  },
  {
   "cell_type": "markdown",
   "id": "6f0f3b8d",
   "metadata": {},
   "source": [
    "# 반복문"
   ]
  },
  {
   "cell_type": "code",
   "execution_count": 129,
   "id": "6b7feb9d",
   "metadata": {},
   "outputs": [],
   "source": [
    "# for 임시변수 in 군집형데이터:\n",
    "#     실행코드\n",
    "#     실행코드\n",
    "#     ..."
   ]
  },
  {
   "cell_type": "code",
   "execution_count": 130,
   "id": "d74ee016",
   "metadata": {},
   "outputs": [],
   "source": [
    "# while 조건식:\n",
    "#     실행코드\n",
    "#     실행코드\n",
    "#     ..."
   ]
  },
  {
   "cell_type": "markdown",
   "id": "26585f88",
   "metadata": {},
   "source": [
    "모음의 숫자를 계산하시오. 단 모음은 'aeiouAEIOU'"
   ]
  },
  {
   "cell_type": "code",
   "execution_count": 131,
   "id": "53b13e15",
   "metadata": {},
   "outputs": [
    {
     "name": "stdout",
     "output_type": "stream",
     "text": [
      "8\n"
     ]
    }
   ],
   "source": [
    "text = 'computational thinking'\n",
    "vowel = 'aeiouAEIOU'\n",
    "\n",
    "suma = 0\n",
    "for c in text:\n",
    "    if c in vowel:\n",
    "        suma += 1\n",
    "print(suma)"
   ]
  },
  {
   "cell_type": "markdown",
   "id": "6fb1dd1d",
   "metadata": {},
   "source": [
    "word의 길이가 4이상인 단어의 단어길이 총합을 구하시오"
   ]
  },
  {
   "cell_type": "code",
   "execution_count": 136,
   "id": "1b026120",
   "metadata": {},
   "outputs": [
    {
     "data": {
      "text/plain": [
       "26"
      ]
     },
     "execution_count": 136,
     "metadata": {},
     "output_type": "execute_result"
    }
   ],
   "source": [
    "words = ['mountain', 'sea', 'sky', 'river', 'cloud', 'tree', 'lake']\n",
    "\n",
    "\n",
    "cnt = 0\n",
    "for i in words:\n",
    "    if len(i) >= 4:\n",
    "        cnt += len(i)\n",
    "        \n",
    "cnt"
   ]
  },
  {
   "cell_type": "markdown",
   "id": "517c7394",
   "metadata": {},
   "source": [
    "두 리스트의 모든 조합을 리스트에 담으시오"
   ]
  },
  {
   "cell_type": "code",
   "execution_count": 138,
   "id": "7a07e181",
   "metadata": {},
   "outputs": [
    {
     "name": "stdout",
     "output_type": "stream",
     "text": [
      "[('a', '가'), ('a', '나'), ('a', '다'), ('a', '라'), ('b', '가'), ('b', '나'), ('b', '다'), ('b', '라'), ('c', '가'), ('c', '나'), ('c', '다'), ('c', '라'), ('d', '가'), ('d', '나'), ('d', '다'), ('d', '라')]\n"
     ]
    }
   ],
   "source": [
    "L1 = ['a','b','c','d']\n",
    "L2 = ['가','나','다','라']\n",
    "L3 = []\n",
    "\n",
    "for i in L1:\n",
    "    for j in L2:\n",
    "        L3.append((i,j))\n",
    "\n",
    "print(L3)"
   ]
  },
  {
   "cell_type": "markdown",
   "id": "5fdcb714",
   "metadata": {},
   "source": [
    "for문과 while문을 이용해서 1부터 20까지의 정수에서 짝수의 합과 홀수의 합을 구하시오"
   ]
  },
  {
   "cell_type": "code",
   "execution_count": 146,
   "id": "2b1e5b61",
   "metadata": {},
   "outputs": [
    {
     "name": "stdout",
     "output_type": "stream",
     "text": [
      "100\n",
      "110\n"
     ]
    }
   ],
   "source": [
    "even_ = 0\n",
    "odd_ = 0\n",
    "\n",
    "for i in range(1,21):\n",
    "    if i % 2:\n",
    "        odd_ += i \n",
    "    else:\n",
    "        even_ += i\n",
    "print(odd_)\n",
    "print(even_)"
   ]
  },
  {
   "cell_type": "code",
   "execution_count": 147,
   "id": "84c3a21a",
   "metadata": {},
   "outputs": [
    {
     "name": "stdout",
     "output_type": "stream",
     "text": [
      "100\n",
      "110\n"
     ]
    }
   ],
   "source": [
    "even_ = 0\n",
    "odd_ = 0\n",
    "n = 1\n",
    "while n <= 20:\n",
    "    if n % 2:\n",
    "        odd_ += n \n",
    "    else:\n",
    "        even_ += n\n",
    "    n += 1\n",
    "        \n",
    "print(odd_)\n",
    "print(even_)"
   ]
  },
  {
   "cell_type": "markdown",
   "id": "27ee4955",
   "metadata": {},
   "source": [
    "break와 continue를 이용해서 1부터 10까지 정수 중에서 4,5,6,7만을 출력하시오."
   ]
  },
  {
   "cell_type": "code",
   "execution_count": 150,
   "id": "b25f0f13",
   "metadata": {},
   "outputs": [
    {
     "name": "stdout",
     "output_type": "stream",
     "text": [
      "4 5 6 7 "
     ]
    }
   ],
   "source": [
    "for i in range(1,11):\n",
    "    if i in [1,2,3]:\n",
    "        continue\n",
    "    print(i, end=' ')\n",
    "    if i > 6:\n",
    "        break"
   ]
  },
  {
   "cell_type": "code",
   "execution_count": 152,
   "id": "afb185ea",
   "metadata": {},
   "outputs": [
    {
     "name": "stdout",
     "output_type": "stream",
     "text": [
      "4 5 6 7 "
     ]
    }
   ],
   "source": [
    "suma = 0\n",
    "cnt = 0\n",
    "\n",
    "while cnt < 10:\n",
    "    cnt += 1\n",
    "    if cnt < 4:\n",
    "        continue\n",
    "    if cnt > 7:\n",
    "        break\n",
    "    print(cnt, end = ' ')"
   ]
  },
  {
   "cell_type": "markdown",
   "id": "dddb5e7f",
   "metadata": {},
   "source": [
    "점수를 5번 입력받은 후 평균점수를 출력하시오."
   ]
  },
  {
   "cell_type": "code",
   "execution_count": 153,
   "id": "06c289d4",
   "metadata": {},
   "outputs": [
    {
     "name": "stdout",
     "output_type": "stream",
     "text": [
      "1 2 3 4 5\n",
      "3.0\n"
     ]
    }
   ],
   "source": [
    "import numpy as np\n",
    "scores = list(map(int, input().split()))\n",
    "\n",
    "print(np.mean(scores))"
   ]
  },
  {
   "cell_type": "code",
   "execution_count": 155,
   "id": "1bfe5be0",
   "metadata": {},
   "outputs": [
    {
     "name": "stdout",
     "output_type": "stream",
     "text": [
      "1\n",
      "2\n",
      "3\n",
      "4\n",
      "5\n",
      "3.0\n"
     ]
    }
   ],
   "source": [
    "ans = 0\n",
    "for _ in range(5):\n",
    "    ans += int(input())\n",
    "print(ans/5)"
   ]
  },
  {
   "cell_type": "markdown",
   "id": "af9d251a",
   "metadata": {},
   "source": [
    "임의의 수를 입력받은 후 팩토리얼을 계산하는 코드를 작성하시오"
   ]
  },
  {
   "cell_type": "code",
   "execution_count": 158,
   "id": "6974fee7",
   "metadata": {},
   "outputs": [
    {
     "name": "stdout",
     "output_type": "stream",
     "text": [
      "정수를 입력하시오.: 5\n",
      "120\n"
     ]
    }
   ],
   "source": [
    "n = int(input('정수를 입력하시오.: '))\n",
    "fact_ = 1\n",
    "for i in range(n, 0, -1):\n",
    "    fact_ *= i\n",
    "    \n",
    "print(fact_)"
   ]
  },
  {
   "cell_type": "code",
   "execution_count": 159,
   "id": "12cf3327",
   "metadata": {},
   "outputs": [
    {
     "data": {
      "text/plain": [
       "120"
      ]
     },
     "execution_count": 159,
     "metadata": {},
     "output_type": "execute_result"
    }
   ],
   "source": [
    "import math\n",
    "math.factorial(5)"
   ]
  },
  {
   "cell_type": "markdown",
   "id": "f62b8282",
   "metadata": {},
   "source": [
    "반복문을 이용해서 최대값과 최소값을 구하시오."
   ]
  },
  {
   "cell_type": "code",
   "execution_count": 165,
   "id": "cea40f52",
   "metadata": {},
   "outputs": [
    {
     "name": "stdout",
     "output_type": "stream",
     "text": [
      "최대값: 130, 최소값:30\n"
     ]
    }
   ],
   "source": [
    "L = [70, 100, 80, 120, 130, 30]\n",
    "max_ = L[0]\n",
    "min_ = L[0]\n",
    "\n",
    "for i in L[1:]:\n",
    "    if max_ < i:\n",
    "        max_ = i\n",
    "    if min_ > i:\n",
    "        min_ = i\n",
    "        \n",
    "print(f'최대값: {max_}, 최소값:{min_}')"
   ]
  },
  {
   "cell_type": "markdown",
   "id": "4c4fccff",
   "metadata": {},
   "source": [
    "별찍기"
   ]
  },
  {
   "cell_type": "code",
   "execution_count": 167,
   "id": "935abd5c",
   "metadata": {},
   "outputs": [
    {
     "name": "stdout",
     "output_type": "stream",
     "text": [
      "*\n",
      "**\n",
      "***\n",
      "****\n",
      "*****\n"
     ]
    }
   ],
   "source": [
    "for i in range(1,6):\n",
    "    print('*' * i)"
   ]
  },
  {
   "cell_type": "code",
   "execution_count": 170,
   "id": "4fbc4735",
   "metadata": {},
   "outputs": [
    {
     "name": "stdout",
     "output_type": "stream",
     "text": [
      "*\n",
      "**\n",
      "***\n",
      "****\n",
      "*****\n"
     ]
    }
   ],
   "source": [
    "cnt = 1\n",
    "while cnt <= 5:\n",
    "    print('*' * cnt)\n",
    "    cnt += 1"
   ]
  },
  {
   "cell_type": "markdown",
   "id": "4e3f6e23",
   "metadata": {},
   "source": [
    "별찍기 2"
   ]
  },
  {
   "cell_type": "code",
   "execution_count": 172,
   "id": "b8766348",
   "metadata": {},
   "outputs": [
    {
     "name": "stdout",
     "output_type": "stream",
     "text": [
      "*****\n",
      " ****\n",
      "  ***\n",
      "   **\n",
      "    *\n"
     ]
    }
   ],
   "source": [
    "for i in range(5,0,-1):\n",
    "    text = '*'*i \n",
    "    print(text.rjust(5))"
   ]
  },
  {
   "cell_type": "code",
   "execution_count": 177,
   "id": "6df9e898",
   "metadata": {},
   "outputs": [
    {
     "name": "stdout",
     "output_type": "stream",
     "text": [
      " *****\n",
      "  ****\n",
      "   ***\n",
      "    **\n",
      "     *\n"
     ]
    }
   ],
   "source": [
    "for i in range(5):\n",
    "    print(' '*i, '*' * (5-i))"
   ]
  },
  {
   "cell_type": "markdown",
   "id": "50270755",
   "metadata": {},
   "source": [
    "별찍기 3"
   ]
  },
  {
   "cell_type": "code",
   "execution_count": 178,
   "id": "13612ae5",
   "metadata": {},
   "outputs": [
    {
     "name": "stdout",
     "output_type": "stream",
     "text": [
      "    *\n",
      "   **\n",
      "  ***\n",
      " ****\n",
      "*****\n"
     ]
    }
   ],
   "source": [
    "for i in range(1, 6):\n",
    "    text = '*'*i \n",
    "    print(text.rjust(5))"
   ]
  },
  {
   "cell_type": "code",
   "execution_count": 181,
   "id": "d0dd5ada",
   "metadata": {},
   "outputs": [
    {
     "name": "stdout",
     "output_type": "stream",
     "text": [
      "     *\n",
      "    **\n",
      "   ***\n",
      "  ****\n",
      " *****\n"
     ]
    }
   ],
   "source": [
    "for i in range(1,6):\n",
    "    print(' '*(5-i), '*' * (i))"
   ]
  },
  {
   "cell_type": "markdown",
   "id": "88d310ff",
   "metadata": {},
   "source": [
    "별찍기 4"
   ]
  },
  {
   "cell_type": "code",
   "execution_count": 183,
   "id": "fa8e8002",
   "metadata": {},
   "outputs": [
    {
     "name": "stdout",
     "output_type": "stream",
     "text": [
      "*****\n",
      "****\n",
      "***\n",
      "**\n",
      "*\n"
     ]
    }
   ],
   "source": [
    "for i in range(5, 0, -1): \n",
    "    print('*'*i)"
   ]
  },
  {
   "cell_type": "code",
   "execution_count": 184,
   "id": "cf851946",
   "metadata": {},
   "outputs": [],
   "source": [
    "# 홀수번 인덱스만 출력하시오."
   ]
  },
  {
   "cell_type": "code",
   "execution_count": 187,
   "id": "b3f3c11c",
   "metadata": {},
   "outputs": [
    {
     "name": "stdout",
     "output_type": "stream",
     "text": [
      "o p t t o a   h n i g "
     ]
    }
   ],
   "source": [
    "text = 'computational thinking'\n",
    "\n",
    "for i in range(1,len(text), 2):\n",
    "    print(text[i], end =' ')"
   ]
  },
  {
   "cell_type": "markdown",
   "id": "1fe6abf5",
   "metadata": {},
   "source": [
    "구구단 출력하기"
   ]
  },
  {
   "cell_type": "code",
   "execution_count": 193,
   "id": "97906a6e",
   "metadata": {},
   "outputs": [
    {
     "name": "stdout",
     "output_type": "stream",
     "text": [
      "2x1=2\t3x1=3\t4x1=4\t5x1=5\t6x1=6\t7x1=7\t8x1=8\t9x1=9\t\n",
      "2x2=4\t3x2=6\t4x2=8\t5x2=10\t6x2=12\t7x2=14\t8x2=16\t9x2=18\t\n",
      "2x3=6\t3x3=9\t4x3=12\t5x3=15\t6x3=18\t7x3=21\t8x3=24\t9x3=27\t\n",
      "2x4=8\t3x4=12\t4x4=16\t5x4=20\t6x4=24\t7x4=28\t8x4=32\t9x4=36\t\n",
      "2x5=10\t3x5=15\t4x5=20\t5x5=25\t6x5=30\t7x5=35\t8x5=40\t9x5=45\t\n",
      "2x6=12\t3x6=18\t4x6=24\t5x6=30\t6x6=36\t7x6=42\t8x6=48\t9x6=54\t\n",
      "2x7=14\t3x7=21\t4x7=28\t5x7=35\t6x7=42\t7x7=49\t8x7=56\t9x7=63\t\n",
      "2x8=16\t3x8=24\t4x8=32\t5x8=40\t6x8=48\t7x8=56\t8x8=64\t9x8=72\t\n",
      "2x9=18\t3x9=27\t4x9=36\t5x9=45\t6x9=54\t7x9=63\t8x9=72\t9x9=81\t\n"
     ]
    }
   ],
   "source": [
    "for i in range(1, 10):\n",
    "    for j in range(2, 10):\n",
    "        print(f'{j}x{i}={j*i}', end = '\\t')\n",
    "    print()"
   ]
  },
  {
   "cell_type": "markdown",
   "id": "6612907d",
   "metadata": {},
   "source": [
    "# File 입/출력"
   ]
  },
  {
   "cell_type": "code",
   "execution_count": null,
   "id": "7c72e440",
   "metadata": {},
   "outputs": [],
   "source": [
    "# 1. 파일을 연다 - open() - 모드를 설정 : 'r', 'w'\n",
    "# 2. 파일을 읽거나 쓴다 - read(), write()\n",
    "# 3. 파일을 닫는다 - close()\n",
    "\n",
    "# f = open('filename', 'r')\n",
    "# text = f.read()\n",
    "# f.close()\n",
    "\n",
    "# with open('filename', 'r') as f:      # with 구문 : close()를 자동으로 수행\n",
    "#     text = f.read()\n",
    "\n",
    "# f.open('filename', 'w')\n",
    "# f.write(text)\n",
    "# f.close\n",
    "\n",
    "# with open('filename', 'w') as f:\n",
    "#     f.write(text)"
   ]
  },
  {
   "cell_type": "markdown",
   "id": "ad8e650b",
   "metadata": {},
   "source": [
    "뉴스 텍스트를 'news.txt'파일로 저장하시오."
   ]
  },
  {
   "cell_type": "code",
   "execution_count": 236,
   "id": "12112c46",
   "metadata": {},
   "outputs": [],
   "source": [
    "with open('news.txt', 'w',encoding='utf-8') as f:\n",
    "    text = '''지난 16일 서울 종로 롤파크에서는 \\'2022 LCK 스프링\\' 1라운드 담원 기아 대 젠지의 경기가 열렸다.\n",
    "이날 젠지는 디펜딩 챔피언인 담원 기아를 제압하며 소중한 승리를 획득했다.\n",
    "2연승을 기록하며 기세를 탄 젠지. 특히 어려웠던 경기를 역전하며 더욱 단단해졌다.\n",
    "코르키 캐리를 증명한 정지훈. 후반 캐리롤을 제대로 수행하며 승리를 이끌었다.\n",
    "그는 경기 후 진행된 라이엇 공동 인터뷰에서 \"내가 못했는데 팀원들이 이겨줘서 너무 다행이다\"며 승리 소감을 전했다.'''\n",
    "    f.write(text)"
   ]
  },
  {
   "cell_type": "markdown",
   "id": "1b76631d",
   "metadata": {},
   "source": [
    "'news.txt' 파일을 4가지 다른 방식으로 열어서 출력하시오"
   ]
  },
  {
   "cell_type": "code",
   "execution_count": 237,
   "id": "a0f14b8a",
   "metadata": {},
   "outputs": [
    {
     "name": "stdout",
     "output_type": "stream",
     "text": [
      "지난 16일 서울 종로 롤파크에서는 '2022 LCK 스프링' 1라운드 담원 기아 대 젠지의 경기가 열렸다.\n",
      "이날 젠지는 디펜딩 챔피언인 담원 기아를 제압하며 소중한 승리를 획득했다.\n",
      "2연승을 기록하며 기세를 탄 젠지. 특히 어려웠던 경기를 역전하며 더욱 단단해졌다.\n",
      "코르키 캐리를 증명한 정지훈. 후반 캐리롤을 제대로 수행하며 승리를 이끌었다.\n",
      "그는 경기 후 진행된 라이엇 공동 인터뷰에서 \"내가 못했는데 팀원들이 이겨줘서 너무 다행이다\"며 승리 소감을 전했다.\n"
     ]
    }
   ],
   "source": [
    "f = open('news.txt', 'r', encoding='utf-8')\n",
    "text = f.read()\n",
    "f.close()\n",
    "print(text)\n",
    "\n",
    "# with open('news.txt', 'r',encoding='utf-8') as f:\n",
    "#     news = f.read()\n",
    "# news"
   ]
  },
  {
   "cell_type": "code",
   "execution_count": 241,
   "id": "29f73f68",
   "metadata": {},
   "outputs": [
    {
     "name": "stdout",
     "output_type": "stream",
     "text": [
      "[\"지난 16일 서울 종로 롤파크에서는 '2022 LCK 스프링' 1라운드 담원 기아 대 젠지의 경기가 열렸다.\\n\", '이날 젠지는 디펜딩 챔피언인 담원 기아를 제압하며 소중한 승리를 획득했다.\\n', '2연승을 기록하며 기세를 탄 젠지. 특히 어려웠던 경기를 역전하며 더욱 단단해졌다.\\n', '코르키 캐리를 증명한 정지훈. 후반 캐리롤을 제대로 수행하며 승리를 이끌었다.\\n', '그는 경기 후 진행된 라이엇 공동 인터뷰에서 \"내가 못했는데 팀원들이 이겨줘서 너무 다행이다\"며 승리 소감을 전했다.']\n"
     ]
    }
   ],
   "source": [
    "f = open('news.txt', 'r', encoding='utf-8')\n",
    "text = f.readlines()\n",
    "print(text)\n",
    "f.close()"
   ]
  },
  {
   "cell_type": "code",
   "execution_count": 245,
   "id": "e74f91ab",
   "metadata": {},
   "outputs": [
    {
     "name": "stdout",
     "output_type": "stream",
     "text": [
      "지난 16일 서울 종로 롤파크에서는 '2022 LCK 스프링' 1라운드 담원 기아 대 젠지의 경기가 열렸다.\n",
      "\n",
      "이날 젠지는 디펜딩 챔피언인 담원 기아를 제압하며 소중한 승리를 획득했다.\n",
      "\n",
      "2연승을 기록하며 기세를 탄 젠지. 특히 어려웠던 경기를 역전하며 더욱 단단해졌다.\n",
      "\n",
      "코르키 캐리를 증명한 정지훈. 후반 캐리롤을 제대로 수행하며 승리를 이끌었다.\n",
      "\n",
      "그는 경기 후 진행된 라이엇 공동 인터뷰에서 \"내가 못했는데 팀원들이 이겨줘서 너무 다행이다\"며 승리 소감을 전했다.\n"
     ]
    }
   ],
   "source": [
    "f = open('news.txt', 'r', encoding='utf-8')\n",
    "text = f.readline()\n",
    "while text:\n",
    "    print(text)\n",
    "    text = f.readline()\n",
    "f.close()"
   ]
  },
  {
   "cell_type": "code",
   "execution_count": 246,
   "id": "d22c0035",
   "metadata": {},
   "outputs": [
    {
     "name": "stdout",
     "output_type": "stream",
     "text": [
      "지난 16일 서울 종로 롤파크에서는 '2022 LCK 스프링' 1라운드 담원 기아 대 젠지의 경기가 열렸다.\n",
      "\n",
      "이날 젠지는 디펜딩 챔피언인 담원 기아를 제압하며 소중한 승리를 획득했다.\n",
      "\n",
      "2연승을 기록하며 기세를 탄 젠지. 특히 어려웠던 경기를 역전하며 더욱 단단해졌다.\n",
      "\n",
      "코르키 캐리를 증명한 정지훈. 후반 캐리롤을 제대로 수행하며 승리를 이끌었다.\n",
      "\n",
      "그는 경기 후 진행된 라이엇 공동 인터뷰에서 \"내가 못했는데 팀원들이 이겨줘서 너무 다행이다\"며 승리 소감을 전했다.\n"
     ]
    }
   ],
   "source": [
    "f = open('news.txt', 'r', encoding='utf-8')\n",
    "for line in f:\n",
    "    print(line)"
   ]
  },
  {
   "cell_type": "code",
   "execution_count": null,
   "id": "6e9f48ed",
   "metadata": {},
   "outputs": [],
   "source": [
    "# with open('filename', 'r') as f:\n",
    "#     text = f.read()           - 전체 text를 한번에 읽는다\n",
    "#     text = f.readlines()      - 전체 text를 한 문장씩 리스트에 담아서 출력\n",
    "#     text = f.readline()       - 한 문장씩 읽는다\n",
    "#     for line is f:            - 파일 객체를 for을 이용해서 한 문장씩 읽는다.\n",
    "#         pass"
   ]
  }
 ],
 "metadata": {
  "kernelspec": {
   "display_name": "Python 3 (ipykernel)",
   "language": "python",
   "name": "python3"
  },
  "language_info": {
   "codemirror_mode": {
    "name": "ipython",
    "version": 3
   },
   "file_extension": ".py",
   "mimetype": "text/x-python",
   "name": "python",
   "nbconvert_exporter": "python",
   "pygments_lexer": "ipython3",
   "version": "3.9.7"
  }
 },
 "nbformat": 4,
 "nbformat_minor": 5
}
