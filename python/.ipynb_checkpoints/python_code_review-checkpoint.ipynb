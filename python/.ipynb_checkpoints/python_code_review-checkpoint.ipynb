{
 "cells": [
  {
   "cell_type": "markdown",
   "id": "af4c0e4a",
   "metadata": {},
   "source": [
    "# String"
   ]
  },
  {
   "cell_type": "code",
   "execution_count": 75,
   "id": "d5aa9d92",
   "metadata": {},
   "outputs": [],
   "source": [
    "txt1 = '  A tale that was not right  '   \n",
    "txt2 = '이 또한 지나가리라'"
   ]
  },
  {
   "cell_type": "markdown",
   "id": "6d13daab",
   "metadata": {},
   "source": [
    "---"
   ]
  },
  {
   "cell_type": "markdown",
   "id": "973a3c45",
   "metadata": {},
   "source": [
    "tale을 출력하시오.   "
   ]
  },
  {
   "cell_type": "code",
   "execution_count": 5,
   "id": "149a0f8a",
   "metadata": {},
   "outputs": [
    {
     "data": {
      "text/plain": [
       "'tale '"
      ]
     },
     "execution_count": 5,
     "metadata": {},
     "output_type": "execute_result"
    }
   ],
   "source": [
    "txt1[2:7]"
   ]
  },
  {
   "cell_type": "markdown",
   "id": "8f9f93ec",
   "metadata": {},
   "source": [
    "'지'를 출력하시오.   "
   ]
  },
  {
   "cell_type": "code",
   "execution_count": 6,
   "id": "821c821b",
   "metadata": {},
   "outputs": [
    {
     "data": {
      "text/plain": [
       "'지'"
      ]
     },
     "execution_count": 6,
     "metadata": {},
     "output_type": "execute_result"
    }
   ],
   "source": [
    "txt2[-5]"
   ]
  },
  {
   "cell_type": "markdown",
   "id": "71d26edd",
   "metadata": {},
   "source": [
    "'a'는 몇 개가 존재하는가?   "
   ]
  },
  {
   "cell_type": "code",
   "execution_count": 7,
   "id": "94a5bc7e",
   "metadata": {},
   "outputs": [
    {
     "data": {
      "text/plain": [
       "3"
      ]
     },
     "execution_count": 7,
     "metadata": {},
     "output_type": "execute_result"
    }
   ],
   "source": [
    "txt1.count('a')"
   ]
  },
  {
   "cell_type": "markdown",
   "id": "3c00ab21",
   "metadata": {},
   "source": [
    "txt1에서 모음의 갯수는 몇 개인가?   "
   ]
  },
  {
   "cell_type": "code",
   "execution_count": 11,
   "id": "a9e062ff",
   "metadata": {},
   "outputs": [
    {
     "data": {
      "text/plain": [
       "7"
      ]
     },
     "execution_count": 11,
     "metadata": {},
     "output_type": "execute_result"
    }
   ],
   "source": [
    "txt_ = txt1.lower()\n",
    "cnt = 0\n",
    "for i in txt_:\n",
    "    if i in 'aeiou':\n",
    "        cnt += 1\n",
    "cnt"
   ]
  },
  {
   "cell_type": "markdown",
   "id": "2a1cd4ab",
   "metadata": {},
   "source": [
    "'또한'을 '것도'로 수정하시오   "
   ]
  },
  {
   "cell_type": "code",
   "execution_count": 12,
   "id": "19b71f44",
   "metadata": {},
   "outputs": [
    {
     "data": {
      "text/plain": [
       "'이 것도 지나가리라'"
      ]
     },
     "execution_count": 12,
     "metadata": {},
     "output_type": "execute_result"
    }
   ],
   "source": [
    "txt_ = txt2.replace('또한','것도')\n",
    "txt_"
   ]
  },
  {
   "cell_type": "markdown",
   "id": "bdf53b11",
   "metadata": {},
   "source": [
    "txt1을 대문자로 출력하시오   "
   ]
  },
  {
   "cell_type": "code",
   "execution_count": 13,
   "id": "66a6d9bf",
   "metadata": {},
   "outputs": [
    {
     "name": "stdout",
     "output_type": "stream",
     "text": [
      "A TALE THAT WAS NOT RIGHT\n"
     ]
    }
   ],
   "source": [
    "print(txt1.upper())"
   ]
  },
  {
   "cell_type": "markdown",
   "id": "2fc4c7e1",
   "metadata": {},
   "source": [
    "txt1에서 right은 몇 번째 인덱스에 등장하는가?   "
   ]
  },
  {
   "cell_type": "code",
   "execution_count": 65,
   "id": "5423da3a",
   "metadata": {},
   "outputs": [
    {
     "data": {
      "text/plain": [
       "22"
      ]
     },
     "execution_count": 65,
     "metadata": {},
     "output_type": "execute_result"
    }
   ],
   "source": [
    "txt1.find('right')"
   ]
  },
  {
   "cell_type": "code",
   "execution_count": 66,
   "id": "bda6095e",
   "metadata": {},
   "outputs": [
    {
     "data": {
      "text/plain": [
       "22"
      ]
     },
     "execution_count": 66,
     "metadata": {},
     "output_type": "execute_result"
    }
   ],
   "source": [
    "txt1.index('right')"
   ]
  },
  {
   "cell_type": "code",
   "execution_count": 63,
   "id": "7ac8bc37",
   "metadata": {},
   "outputs": [
    {
     "data": {
      "text/plain": [
       "-1"
      ]
     },
     "execution_count": 63,
     "metadata": {},
     "output_type": "execute_result"
    }
   ],
   "source": [
    "txt1.find('heaven')"
   ]
  },
  {
   "cell_type": "code",
   "execution_count": 61,
   "id": "c5b0444b",
   "metadata": {},
   "outputs": [
    {
     "ename": "ValueError",
     "evalue": "substring not found",
     "output_type": "error",
     "traceback": [
      "\u001b[1;31m---------------------------------------------------------------------------\u001b[0m",
      "\u001b[1;31mValueError\u001b[0m                                Traceback (most recent call last)",
      "\u001b[1;32m~\\AppData\\Local\\Temp/ipykernel_10628/1731300971.py\u001b[0m in \u001b[0;36m<module>\u001b[1;34m\u001b[0m\n\u001b[1;32m----> 1\u001b[1;33m \u001b[0mtxt1\u001b[0m\u001b[1;33m.\u001b[0m\u001b[0mindex\u001b[0m\u001b[1;33m(\u001b[0m\u001b[1;34m'heaven'\u001b[0m\u001b[1;33m)\u001b[0m\u001b[1;33m\u001b[0m\u001b[1;33m\u001b[0m\u001b[0m\n\u001b[0m",
      "\u001b[1;31mValueError\u001b[0m: substring not found"
     ]
    }
   ],
   "source": [
    "txt1.index('heaven')"
   ]
  },
  {
   "cell_type": "markdown",
   "id": "05e9b664",
   "metadata": {},
   "source": [
    "txt1을 space를 기준으로 나눠서 리스트에 담으시오   "
   ]
  },
  {
   "cell_type": "code",
   "execution_count": 17,
   "id": "12de13f8",
   "metadata": {},
   "outputs": [
    {
     "data": {
      "text/plain": [
       "['A', 'tale', 'that', 'was', 'not', 'right']"
      ]
     },
     "execution_count": 17,
     "metadata": {},
     "output_type": "execute_result"
    }
   ],
   "source": [
    "a = txt1.split()\n",
    "a"
   ]
  },
  {
   "cell_type": "markdown",
   "id": "a03a2e3b",
   "metadata": {},
   "source": [
    "txt2의 길이는 얼마인가?   "
   ]
  },
  {
   "cell_type": "code",
   "execution_count": 18,
   "id": "d9cf7ca8",
   "metadata": {},
   "outputs": [
    {
     "data": {
      "text/plain": [
       "10"
      ]
     },
     "execution_count": 18,
     "metadata": {},
     "output_type": "execute_result"
    }
   ],
   "source": [
    "len(txt2)"
   ]
  },
  {
   "cell_type": "markdown",
   "id": "f865f21a",
   "metadata": {},
   "source": [
    "txt2를 character 단위로 나눠서 리스트에 담으시오   "
   ]
  },
  {
   "cell_type": "code",
   "execution_count": 29,
   "id": "29cfe23d",
   "metadata": {},
   "outputs": [
    {
     "data": {
      "text/plain": [
       "['이', '또', '한', '지', '나', '가', '리', '라']"
      ]
     },
     "execution_count": 29,
     "metadata": {},
     "output_type": "execute_result"
    }
   ],
   "source": [
    "a = list(txt2.replace(' ',''))\n",
    "a"
   ]
  },
  {
   "cell_type": "markdown",
   "id": "92b72070",
   "metadata": {},
   "source": [
    "txt1의 좌우 공백을 제거하시오    "
   ]
  },
  {
   "cell_type": "code",
   "execution_count": 67,
   "id": "38e50aae",
   "metadata": {},
   "outputs": [
    {
     "data": {
      "text/plain": [
       "'A tale that was not right'"
      ]
     },
     "execution_count": 67,
     "metadata": {},
     "output_type": "execute_result"
    }
   ],
   "source": [
    "txt1.strip()"
   ]
  },
  {
   "cell_type": "markdown",
   "id": "082fc791",
   "metadata": {},
   "source": [
    "txt2를 역순으로 출력하시오"
   ]
  },
  {
   "cell_type": "code",
   "execution_count": 69,
   "id": "1fe6cc4e",
   "metadata": {},
   "outputs": [
    {
     "data": {
      "text/plain": [
       "'라리가나지 한또 이'"
      ]
     },
     "execution_count": 69,
     "metadata": {},
     "output_type": "execute_result"
    }
   ],
   "source": [
    "txt2[::-1]"
   ]
  },
  {
   "cell_type": "markdown",
   "id": "4050c5cf",
   "metadata": {},
   "source": [
    "txt1과 txt2를 연결하여 하나의 문자열로 만드시오"
   ]
  },
  {
   "cell_type": "code",
   "execution_count": 70,
   "id": "e104b8e3",
   "metadata": {},
   "outputs": [
    {
     "data": {
      "text/plain": [
       "'  A tale that was not right이 또한 지나가리라'"
      ]
     },
     "execution_count": 70,
     "metadata": {},
     "output_type": "execute_result"
    }
   ],
   "source": [
    "txt1 + txt2"
   ]
  },
  {
   "cell_type": "markdown",
   "id": "b2e0d003",
   "metadata": {},
   "source": [
    "txt2에서 짝수 인덱스 문자만 출력하시오"
   ]
  },
  {
   "cell_type": "code",
   "execution_count": 72,
   "id": "242c1d79",
   "metadata": {},
   "outputs": [
    {
     "data": {
      "text/plain": [
       "'이또 나리'"
      ]
     },
     "execution_count": 72,
     "metadata": {},
     "output_type": "execute_result"
    }
   ],
   "source": [
    "txt2[::2]"
   ]
  },
  {
   "cell_type": "markdown",
   "id": "4b308782",
   "metadata": {},
   "source": [
    "txt1에서 뒤에서 5번째 문자를 출력하시오"
   ]
  },
  {
   "cell_type": "code",
   "execution_count": 76,
   "id": "a83cf439",
   "metadata": {},
   "outputs": [
    {
     "data": {
      "text/plain": [
       "'g'"
      ]
     },
     "execution_count": 76,
     "metadata": {},
     "output_type": "execute_result"
    }
   ],
   "source": [
    "txt1[-5]"
   ]
  },
  {
   "cell_type": "markdown",
   "id": "21025bf1",
   "metadata": {},
   "source": [
    "txt1의 문자를 index와 튜블로 묶어서 리스트에 담으시오"
   ]
  },
  {
   "cell_type": "code",
   "execution_count": 28,
   "id": "027f6ee2",
   "metadata": {},
   "outputs": [
    {
     "name": "stdout",
     "output_type": "stream",
     "text": [
      "[('A', 0), ('t', 1), ('a', 2), ('l', 3), ('e', 4), ('t', 5), ('h', 6), ('a', 7), ('t', 8), ('w', 9), ('a', 10), ('s', 11), ('n', 12), ('o', 13), ('t', 14), ('r', 15), ('i', 16), ('g', 17), ('h', 18), ('t', 19)]\n"
     ]
    }
   ],
   "source": [
    "li = []\n",
    "txt_ = txt1.replace(' ','')\n",
    "for p,q in enumerate(txt_):\n",
    "    li.append((q,p))\n",
    "print(li)"
   ]
  },
  {
   "cell_type": "markdown",
   "id": "e8f07c7d",
   "metadata": {},
   "source": [
    "url중 도메인만 출력하시오"
   ]
  },
  {
   "cell_type": "code",
   "execution_count": 78,
   "id": "6a59a9b5",
   "metadata": {},
   "outputs": [
    {
     "name": "stdout",
     "output_type": "stream",
     "text": [
      "www.naver.com\n"
     ]
    }
   ],
   "source": [
    "url = 'http://www.naver.com/news/today=20221230'\n",
    "print(url.split('/')[2])"
   ]
  },
  {
   "cell_type": "markdown",
   "id": "ac14261a",
   "metadata": {},
   "source": [
    "log = 'name : 홍길동, age : 17, sex : 남성, nation : 대한민국'   \n",
    "아래와 같이 출력하시오   \n",
    "name => '홍길동'   \n",
    "age => 17   \n",
    "sex => '남성'   \n",
    "..."
   ]
  },
  {
   "cell_type": "code",
   "execution_count": 77,
   "id": "61b71a5c",
   "metadata": {
    "scrolled": true
   },
   "outputs": [
    {
     "name": "stdout",
     "output_type": "stream",
     "text": [
      "name => 홍길동\n",
      "age => 17\n",
      "sex => 남성\n",
      "nation => 대한민국\n"
     ]
    }
   ],
   "source": [
    "log = 'name : 홍길동, age : 17, sex : 남성, nation : 대한민국'\n",
    "log1 = log.split(',')\n",
    "for i in range(len(log1)):\n",
    "    print(log1[i].replace(' : ',' => ').strip())"
   ]
  },
  {
   "cell_type": "code",
   "execution_count": 59,
   "id": "5d38d8be",
   "metadata": {},
   "outputs": [
    {
     "name": "stdout",
     "output_type": "stream",
     "text": [
      "name => 홍길동\n",
      "age => 17\n",
      "sex => 남성\n",
      "nation => 대한민국\n"
     ]
    }
   ],
   "source": [
    "for i in range(len(log1)):\n",
    "    log2 = log1[i].strip().split(':')\n",
    "    print('{}=>{}'.format(log2[0],log2[1]))"
   ]
  },
  {
   "cell_type": "code",
   "execution_count": 88,
   "id": "1b57c26b",
   "metadata": {},
   "outputs": [
    {
     "data": {
      "text/plain": [
       "\"2022 '리그 오브 레전드' 월드 챔피언십을 향한 여정이 시작됐습니다.지난 10일 개막한 LPL(중국)을 시작으로 LCK(12일), LEC(유럽, 14일) 등이 새로운 시작을 맞이할 예정이죠.프로 선수들의 수준 높은 플레이에 목말라 있을 팬들에겐 무척 반가운 소식이 아닐 수 없습니다.\""
      ]
     },
     "execution_count": 88,
     "metadata": {},
     "output_type": "execute_result"
    }
   ],
   "source": [
    "text = '''\\\n",
    "2022 '리그 오브 레전드' 월드 챔피언십을 향한 여정이 시작됐습니다.\\\n",
    "지난 10일 개막한 LPL(중국)을 시작으로 LCK(12일), LEC(유럽, 14일) 등이 새로운 시작을 맞이할 예정이죠.\\\n",
    "프로 선수들의 수준 높은 플레이에 목말라 있을 팬들에겐 무척 반가운 소식이 아닐 수 없습니다.\\\n",
    "'''\n",
    "text"
   ]
  },
  {
   "cell_type": "code",
   "execution_count": 84,
   "id": "ce39210c",
   "metadata": {},
   "outputs": [
    {
     "data": {
      "text/plain": [
       "\"2022 '리그 오브 레전드'월드 챔피언십을 향한 여정이 시작됐습니다.\""
      ]
     },
     "execution_count": 84,
     "metadata": {},
     "output_type": "execute_result"
    }
   ],
   "source": [
    "text = \"2022 '리그 오브 레전드'\\\n",
    "월드 챔피언십을 향한 여정이 시작됐습니다.\"\n",
    "text"
   ]
  },
  {
   "cell_type": "markdown",
   "id": "c0ab75ce",
   "metadata": {},
   "source": [
    "# datatype\n",
    "- 기본형\n",
    "    1. int : 95\n",
    "    2. float : 3.14\n",
    "    3. bool : True, False\n",
    "    \n",
    "- 군집형(여러 요소가 모여서 하나의 데이터 형식)\n",
    "    1. string : '', 요소의 수정, 삭제, 추가가 안됨.\n",
    "        - 순서, 인덱스가 존재         \n",
    "    2. list : [], 요소의 수정, 삭제, 추가가 자유롭다.\n",
    "        - 순서, 인덱스가 존재\n",
    "    3. tuple : (), 요소의 수정, 삭제, 추가가 안됨, 보조용.\n",
    "        - 순서, 인덱스가 존재\n",
    "    4. set : {}, 요소의 삭제, 추가 가능. 중복요소가 없다. \n",
    "        - **집합**연산가능. 순서\n",
    "        - 인덱스가 없다.\n",
    "    5. dictionary : {key:value}, 요소의 수정, 삭제, 추가가 자유롭다.\n",
    "        - 데이터의 저장(json과 유사).\n",
    "        - 순서는 없고, 인덱스는 key역할"
   ]
  },
  {
   "cell_type": "markdown",
   "id": "a51b823b",
   "metadata": {},
   "source": [
    "## List"
   ]
  },
  {
   "cell_type": "code",
   "execution_count": 220,
   "id": "038d45d9",
   "metadata": {},
   "outputs": [],
   "source": [
    "score = [81, 90, 78, 'python', 'hello', True, [78, 56, 32], (24, 25, 3)]"
   ]
  },
  {
   "cell_type": "code",
   "execution_count": 221,
   "id": "9cbe805e",
   "metadata": {},
   "outputs": [
    {
     "data": {
      "text/plain": [
       "'t'"
      ]
     },
     "execution_count": 221,
     "metadata": {},
     "output_type": "execute_result"
    }
   ],
   "source": [
    "# 't'를 출력하시오\n",
    "score[3][2]"
   ]
  },
  {
   "cell_type": "code",
   "execution_count": 222,
   "id": "9298b222",
   "metadata": {},
   "outputs": [
    {
     "data": {
      "text/plain": [
       "56"
      ]
     },
     "execution_count": 222,
     "metadata": {},
     "output_type": "execute_result"
    }
   ],
   "source": [
    "# 56을 출력하시오\n",
    "score[-2][1]"
   ]
  },
  {
   "cell_type": "code",
   "execution_count": 223,
   "id": "6ed2d1db",
   "metadata": {},
   "outputs": [
    {
     "data": {
      "text/plain": [
       "25"
      ]
     },
     "execution_count": 223,
     "metadata": {},
     "output_type": "execute_result"
    }
   ],
   "source": [
    "# 마지막 요소의 최대값을 출력하시오\n",
    "max(score[-1])"
   ]
  },
  {
   "cell_type": "code",
   "execution_count": 224,
   "id": "09642d36",
   "metadata": {},
   "outputs": [
    {
     "data": {
      "text/plain": [
       "[81, 90, 78, 'world', 'hello', True, [78, 56, 32], (24, 25, 3)]"
      ]
     },
     "execution_count": 224,
     "metadata": {},
     "output_type": "execute_result"
    }
   ],
   "source": [
    "# 'python'을 'world'로 수정하시오\n",
    "score[3] = 'world'\n",
    "score"
   ]
  },
  {
   "cell_type": "code",
   "execution_count": 225,
   "id": "bc7cbf6c",
   "metadata": {},
   "outputs": [
    {
     "data": {
      "text/plain": [
       "[81, 90, 78, 'world', 'hello', True, [78, 56, 32], (24, 25, 3), 'sun']"
      ]
     },
     "execution_count": 225,
     "metadata": {},
     "output_type": "execute_result"
    }
   ],
   "source": [
    "# 마지막에 'sun'을 추가하시오\n",
    "score.append('sun')\n",
    "score"
   ]
  },
  {
   "cell_type": "code",
   "execution_count": 226,
   "id": "03a6a650",
   "metadata": {},
   "outputs": [
    {
     "data": {
      "text/plain": [
       "True"
      ]
     },
     "execution_count": 226,
     "metadata": {},
     "output_type": "execute_result"
    }
   ],
   "source": [
    "# 'world'가 있는지 확인하시오\n",
    "'world' in score"
   ]
  },
  {
   "cell_type": "code",
   "execution_count": 227,
   "id": "39166d70",
   "metadata": {},
   "outputs": [
    {
     "data": {
      "text/plain": [
       "[25, 24, 3]"
      ]
     },
     "execution_count": 227,
     "metadata": {},
     "output_type": "execute_result"
    }
   ],
   "source": [
    "# 마지막에서 2번째 요소를 내림차순으로 정렬하시오\n",
    "sorted(score[-2], reverse = True)"
   ]
  },
  {
   "cell_type": "code",
   "execution_count": 228,
   "id": "59c5b308",
   "metadata": {},
   "outputs": [
    {
     "data": {
      "text/plain": [
       "1"
      ]
     },
     "execution_count": 228,
     "metadata": {},
     "output_type": "execute_result"
    }
   ],
   "source": [
    "# 90은 몇 번째 인덱스에 있는지 확인하시오\n",
    "score.index(90)"
   ]
  },
  {
   "cell_type": "code",
   "execution_count": 209,
   "id": "51a3d66a",
   "metadata": {},
   "outputs": [
    {
     "data": {
      "text/plain": [
       "[81, 90, 78, 'world', 'hello', True, [78, 56, 32], (24, 25, 3), 'sun']"
      ]
     },
     "execution_count": 209,
     "metadata": {},
     "output_type": "execute_result"
    }
   ],
   "source": [
    "# 리스트를 역순으로 정렬하시오\n",
    "score.reverse()\n",
    "score"
   ]
  },
  {
   "cell_type": "code",
   "execution_count": 229,
   "id": "b1ea3ad2",
   "metadata": {},
   "outputs": [],
   "source": [
    "# # 3번째 인덱스에 'sea'를 추가하시오\n",
    "# score.insert(3, 'sea')\n",
    "# score"
   ]
  },
  {
   "cell_type": "code",
   "execution_count": 230,
   "id": "d12b8928",
   "metadata": {},
   "outputs": [
    {
     "data": {
      "text/plain": [
       "['sea', 81, 90, 78, 'world', 'hello', True, [78, 56, 32], (24, 25, 3), 'sun']"
      ]
     },
     "execution_count": 230,
     "metadata": {},
     "output_type": "execute_result"
    }
   ],
   "source": [
    "# 0번째 인덱스에 'sea'를 추가하시오\n",
    "score.insert(0, 'sea')\n",
    "score"
   ]
  },
  {
   "cell_type": "code",
   "execution_count": 231,
   "id": "832dd380",
   "metadata": {},
   "outputs": [
    {
     "data": {
      "text/plain": [
       "['sea', 81, 90, 78, 'world', 'hello', False, [78, 56, 32], (24, 25, 3), 'sun']"
      ]
     },
     "execution_count": 231,
     "metadata": {},
     "output_type": "execute_result"
    }
   ],
   "source": [
    "# True를 False로 수정하시오\n",
    "score[score.index(True)] = False\n",
    "score"
   ]
  },
  {
   "cell_type": "code",
   "execution_count": 232,
   "id": "bdf71df6",
   "metadata": {},
   "outputs": [
    {
     "data": {
      "text/plain": [
       "['sea', 81, 90, 78, 'hello', False, [78, 56, 32], (24, 25, 3), 'sun']"
      ]
     },
     "execution_count": 232,
     "metadata": {},
     "output_type": "execute_result"
    }
   ],
   "source": [
    "# 'world'를 제거하시오\n",
    "score.remove('world')\n",
    "score"
   ]
  },
  {
   "cell_type": "code",
   "execution_count": 233,
   "id": "ad6b299e",
   "metadata": {},
   "outputs": [
    {
     "data": {
      "text/plain": [
       "['sea', 81, 90, 78, 'hello', False, [78, 56, 32], 'sun']"
      ]
     },
     "execution_count": 233,
     "metadata": {},
     "output_type": "execute_result"
    }
   ],
   "source": [
    "# 7번째 요소를 제거하시오\n",
    "score.pop(7)\n",
    "score"
   ]
  },
  {
   "cell_type": "code",
   "execution_count": 234,
   "id": "146ff7dc",
   "metadata": {},
   "outputs": [
    {
     "data": {
      "text/plain": [
       "8"
      ]
     },
     "execution_count": 234,
     "metadata": {},
     "output_type": "execute_result"
    }
   ],
   "source": [
    "# 리스트의 길이를 출력하시오\n",
    "len(score)"
   ]
  },
  {
   "cell_type": "code",
   "execution_count": 235,
   "id": "ad82c7d0",
   "metadata": {},
   "outputs": [
    {
     "data": {
      "text/plain": [
       "int"
      ]
     },
     "execution_count": 235,
     "metadata": {},
     "output_type": "execute_result"
    }
   ],
   "source": [
    "# 두 번째 요소의 데이터타입을 출력하시오\n",
    "type(score[2])"
   ]
  },
  {
   "cell_type": "code",
   "execution_count": 236,
   "id": "8428cac9",
   "metadata": {},
   "outputs": [
    {
     "data": {
      "text/plain": [
       "'78:56:32'"
      ]
     },
     "execution_count": 236,
     "metadata": {},
     "output_type": "execute_result"
    }
   ],
   "source": [
    "# [78, 56, 32]를 \"78:56:32\"로 수정하시오\n",
    "i = score.index([78, 56, 32])\n",
    "score[i] = list(map(str,score[i]))\n",
    "score[i] = ':'.join(score[i])\n",
    "score[i]"
   ]
  },
  {
   "cell_type": "code",
   "execution_count": 237,
   "id": "1a19b1bb",
   "metadata": {},
   "outputs": [
    {
     "data": {
      "text/plain": [
       "['sea', 81, 90, 78, 'hello', False, '78:56:32', 'sun']"
      ]
     },
     "execution_count": 237,
     "metadata": {},
     "output_type": "execute_result"
    }
   ],
   "source": [
    "score"
   ]
  },
  {
   "cell_type": "code",
   "execution_count": null,
   "id": "9fcdb7c1",
   "metadata": {},
   "outputs": [],
   "source": [
    "# 모든 원소를 제거하시오\n",
    "# score.clear()\n",
    "# score"
   ]
  },
  {
   "cell_type": "code",
   "execution_count": null,
   "id": "4a5c2b83",
   "metadata": {},
   "outputs": [],
   "source": [
    "# 리스트를 삭제하시오\n",
    "# del score"
   ]
  },
  {
   "cell_type": "code",
   "execution_count": null,
   "id": "f5c66ca4",
   "metadata": {},
   "outputs": [],
   "source": []
  }
 ],
 "metadata": {
  "kernelspec": {
   "display_name": "Python 3 (ipykernel)",
   "language": "python",
   "name": "python3"
  },
  "language_info": {
   "codemirror_mode": {
    "name": "ipython",
    "version": 3
   },
   "file_extension": ".py",
   "mimetype": "text/x-python",
   "name": "python",
   "nbconvert_exporter": "python",
   "pygments_lexer": "ipython3",
   "version": "3.9.7"
  }
 },
 "nbformat": 4,
 "nbformat_minor": 5
}
