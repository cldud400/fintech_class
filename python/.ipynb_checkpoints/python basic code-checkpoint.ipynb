{
 "cells": [
  {
   "cell_type": "markdown",
   "id": "581455f6",
   "metadata": {},
   "source": [
    "군집형 데이터 타입 - index(주소) - \\[\\]   \n",
    "---\n",
    "___\n",
    "- string - 문자열, 원소의 수정, 삭제, 추가가 안됨   \n",
    "- list - 리스트, 원소의 수정, 삭제, 추가가 자유로움   \n",
    "- set - 집합, 중복데이터를 허용하지 않는다, 순서가 없음(index가 없음)   \n",
    "- tuple - 원소의 수정, 삭제, 추가가 안됨, 고정된 값을 표현, 데이터를 묶는 보조적 용도   \n",
    "- dictionary - 사전, 단어:뜻 => key:value = key가 인덱스 역할   "
   ]
  },
  {
   "cell_type": "code",
   "execution_count": null,
   "id": "1ae96a5d",
   "metadata": {},
   "outputs": [],
   "source": [
    "# String"
   ]
  },
  {
   "cell_type": "code",
   "execution_count": 7,
   "id": "65bb586b",
   "metadata": {},
   "outputs": [
    {
     "name": "stdout",
     "output_type": "stream",
     "text": [
      "ale\n",
      "A tale\n",
      "not\n",
      "1\n",
      "17\n",
      "25\n",
      "True\n"
     ]
    }
   ],
   "source": [
    "txt1 = 'A tale that was not right'"
   ]
  },
  {
   "cell_type": "code",
   "execution_count": 8,
   "id": "08481457",
   "metadata": {},
   "outputs": [
    {
     "name": "stdout",
     "output_type": "stream",
     "text": [
      "ale\n"
     ]
    }
   ],
   "source": [
    "# 'ale' 이 출력..\n",
    "print(txt1[3:6])   # slicing"
   ]
  },
  {
   "cell_type": "code",
   "execution_count": 9,
   "id": "c24920e0",
   "metadata": {},
   "outputs": [
    {
     "name": "stdout",
     "output_type": "stream",
     "text": [
      "A tale\n"
     ]
    }
   ],
   "source": [
    "# 'A tale' 출력\n",
    "print(txt1[:6])"
   ]
  },
  {
   "cell_type": "code",
   "execution_count": 11,
   "id": "95eac756",
   "metadata": {},
   "outputs": [
    {
     "name": "stdout",
     "output_type": "stream",
     "text": [
      "not\n"
     ]
    }
   ],
   "source": [
    "# 'not' 출력\n",
    "print(txt1[-9:-6])"
   ]
  },
  {
   "cell_type": "code",
   "execution_count": 12,
   "id": "7193c6d1",
   "metadata": {},
   "outputs": [],
   "source": [
    "# txt1을 소문자 전환\n",
    "txt2 = txt1.lower()"
   ]
  },
  {
   "cell_type": "code",
   "execution_count": 13,
   "id": "c543ad9d",
   "metadata": {},
   "outputs": [],
   "source": [
    "# txt1을 대문자 전환\n",
    "txt3 = txt2.upper()"
   ]
  },
  {
   "cell_type": "code",
   "execution_count": 14,
   "id": "b84acb90",
   "metadata": {},
   "outputs": [
    {
     "name": "stdout",
     "output_type": "stream",
     "text": [
      "1\n"
     ]
    }
   ],
   "source": [
    "# 'o'가 몇 개 존재하는가?\n",
    "print(txt1.count('o'))"
   ]
  },
  {
   "cell_type": "code",
   "execution_count": 21,
   "id": "dfc89b16",
   "metadata": {},
   "outputs": [
    {
     "name": "stdout",
     "output_type": "stream",
     "text": [
      "17\n"
     ]
    }
   ],
   "source": [
    "# 'o'가 몇 번 인덱스에 존재하는가?\n",
    "print(txt1.find('o'))"
   ]
  },
  {
   "cell_type": "code",
   "execution_count": 22,
   "id": "32686645",
   "metadata": {},
   "outputs": [
    {
     "name": "stdout",
     "output_type": "stream",
     "text": [
      "17\n"
     ]
    }
   ],
   "source": [
    "print(txt1.index('o'))  # find와 index중 편한 것 사용"
   ]
  },
  {
   "cell_type": "code",
   "execution_count": 17,
   "id": "87555a42",
   "metadata": {},
   "outputs": [
    {
     "name": "stdout",
     "output_type": "stream",
     "text": [
      "25\n"
     ]
    }
   ],
   "source": [
    "# txt1의 길이는 어떻게 되는가?\n",
    "print(len(txt1))"
   ]
  },
  {
   "cell_type": "code",
   "execution_count": 31,
   "id": "280c7dd2",
   "metadata": {},
   "outputs": [],
   "source": [
    "# space를 기준으로 나누어서 List에 담으세요..\n",
    "li = txt1.split()"
   ]
  },
  {
   "cell_type": "code",
   "execution_count": 32,
   "id": "0ac6dbe8",
   "metadata": {},
   "outputs": [],
   "source": [
    "# 'tale'을 'story'로 바꾸세요..\n",
    "txt4 = txt1.replace('tale','story')"
   ]
  },
  {
   "cell_type": "code",
   "execution_count": 33,
   "id": "18601ab9",
   "metadata": {
    "scrolled": true
   },
   "outputs": [
    {
     "name": "stdout",
     "output_type": "stream",
     "text": [
      "True\n"
     ]
    }
   ],
   "source": [
    "# txt1 안에 'right'가 존재하는지 확인\n",
    "print('right' in txt1)"
   ]
  },
  {
   "cell_type": "code",
   "execution_count": null,
   "id": "d9056bb7",
   "metadata": {},
   "outputs": [],
   "source": [
    "# List"
   ]
  },
  {
   "cell_type": "code",
   "execution_count": 81,
   "id": "6c878e16",
   "metadata": {},
   "outputs": [],
   "source": [
    "sol = ['태양','수성','금성','지구','화성','목성','지구']\n",
    "sol1 = ['토성','천황성','해왕성']\n",
    "planet = '지구'"
   ]
  },
  {
   "cell_type": "code",
   "execution_count": 58,
   "id": "c6dfa534",
   "metadata": {},
   "outputs": [
    {
     "name": "stdout",
     "output_type": "stream",
     "text": [
      "['수성', '금성']\n"
     ]
    }
   ],
   "source": [
    "# 1. sol에서 ['수성','금성']을 출력\n",
    "print(sol[1:3])"
   ]
  },
  {
   "cell_type": "code",
   "execution_count": 59,
   "id": "4548d74d",
   "metadata": {
    "scrolled": true
   },
   "outputs": [
    {
     "name": "stdout",
     "output_type": "stream",
     "text": [
      "3\n"
     ]
    }
   ],
   "source": [
    "# 2. sol에서 '지구' 위치 인덱스 출력\n",
    "print(sol.index('지구'))"
   ]
  },
  {
   "cell_type": "code",
   "execution_count": 60,
   "id": "fb89de52",
   "metadata": {},
   "outputs": [
    {
     "data": {
      "text/plain": [
       "['태양', '수성', '금성', '지구', '해왕성', '목성', '지구']"
      ]
     },
     "execution_count": 60,
     "metadata": {},
     "output_type": "execute_result"
    }
   ],
   "source": [
    "# 3. sol에서 '화성'을 '해왕성'으로 수정\n",
    "sol[-3] = '해왕성'\n",
    "sol"
   ]
  },
  {
   "cell_type": "code",
   "execution_count": 61,
   "id": "70092ee8",
   "metadata": {},
   "outputs": [
    {
     "data": {
      "text/plain": [
       "['태양', '명왕성', '수성', '금성', '지구', '해왕성', '목성', '지구']"
      ]
     },
     "execution_count": 61,
     "metadata": {},
     "output_type": "execute_result"
    }
   ],
   "source": [
    "# 4. '수성'자리에 '명왕성' 삽입\n",
    "sol.insert(1, '명왕성')\n",
    "sol"
   ]
  },
  {
   "cell_type": "code",
   "execution_count": 62,
   "id": "f4a291c8",
   "metadata": {},
   "outputs": [
    {
     "data": {
      "text/plain": [
       "['태양', '명왕성', '수성', '금성', '지구', '해왕성', '목성', '지구', '토성']"
      ]
     },
     "execution_count": 62,
     "metadata": {},
     "output_type": "execute_result"
    }
   ],
   "source": [
    "# 5. '토성'을 맨 끝에 삽입\n",
    "sol.append('토성')\n",
    "sol"
   ]
  },
  {
   "cell_type": "code",
   "execution_count": 63,
   "id": "46efacc9",
   "metadata": {},
   "outputs": [
    {
     "name": "stdout",
     "output_type": "stream",
     "text": [
      "토성\n"
     ]
    },
    {
     "data": {
      "text/plain": [
       "['태양', '명왕성', '수성', '금성', '지구', '해왕성', '목성', '지구']"
      ]
     },
     "execution_count": 63,
     "metadata": {},
     "output_type": "execute_result"
    }
   ],
   "source": [
    "# 6. 맨 끝 요소를 삭제하고 리턴\n",
    "print(sol.pop())\n",
    "sol"
   ]
  },
  {
   "cell_type": "code",
   "execution_count": 64,
   "id": "9313a58e",
   "metadata": {},
   "outputs": [
    {
     "data": {
      "text/plain": [
       "['태양', '명왕성', '수성', '지구', '해왕성', '목성', '지구']"
      ]
     },
     "execution_count": 64,
     "metadata": {},
     "output_type": "execute_result"
    }
   ],
   "source": [
    "# 7. '금성'을 제거\n",
    "sol.remove('금성')\n",
    "sol"
   ]
  },
  {
   "cell_type": "code",
   "execution_count": 65,
   "id": "d5d9ba4d",
   "metadata": {},
   "outputs": [
    {
     "data": {
      "text/plain": [
       "['태양', '해왕성', '목성', '지구']"
      ]
     },
     "execution_count": 65,
     "metadata": {},
     "output_type": "execute_result"
    }
   ],
   "source": [
    "# 8. 1번 인덱스에서 3번 인덱스까지 삭제\n",
    "del sol[1:4]\n",
    "sol"
   ]
  },
  {
   "cell_type": "code",
   "execution_count": 66,
   "id": "7e066d83",
   "metadata": {},
   "outputs": [
    {
     "data": {
      "text/plain": [
       "['태양', '해왕성', '지구']"
      ]
     },
     "execution_count": 66,
     "metadata": {},
     "output_type": "execute_result"
    }
   ],
   "source": [
    "# 9. 인덱스 2번 요소 삭제\n",
    "del sol[2]\n",
    "sol"
   ]
  },
  {
   "cell_type": "code",
   "execution_count": 67,
   "id": "1935af93",
   "metadata": {},
   "outputs": [],
   "source": [
    "# 10. sol과 sol1을 합치세요\n",
    "sol = sol + sol1"
   ]
  },
  {
   "cell_type": "code",
   "execution_count": 68,
   "id": "63a48ada",
   "metadata": {},
   "outputs": [],
   "source": [
    "# 11. 내림차순 정렬\n",
    "sol.sort(reverse=True)"
   ]
  },
  {
   "cell_type": "code",
   "execution_count": 69,
   "id": "aab0245a",
   "metadata": {},
   "outputs": [],
   "source": [
    "# 12. 오름차순 정렬\n",
    "sol.sort()"
   ]
  },
  {
   "cell_type": "code",
   "execution_count": 70,
   "id": "3f41cf29",
   "metadata": {},
   "outputs": [
    {
     "name": "stdout",
     "output_type": "stream",
     "text": [
      "False\n"
     ]
    }
   ],
   "source": [
    "# 13. '만리장성'이 있는지 확인\n",
    "print('만리장성' in sol)"
   ]
  },
  {
   "cell_type": "code",
   "execution_count": 75,
   "id": "e47d1f16",
   "metadata": {
    "scrolled": true
   },
   "outputs": [],
   "source": [
    "# 14. so1을 3번 반복하세요\n",
    "so1 = sol * 3"
   ]
  },
  {
   "cell_type": "code",
   "execution_count": 76,
   "id": "c063ae00",
   "metadata": {},
   "outputs": [
    {
     "name": "stdout",
     "output_type": "stream",
     "text": [
      "6\n"
     ]
    }
   ],
   "source": [
    "# 15. 길이를 출력하세요\n",
    "print(len(sol))"
   ]
  },
  {
   "cell_type": "code",
   "execution_count": 77,
   "id": "af4d5e41",
   "metadata": {},
   "outputs": [
    {
     "name": "stdout",
     "output_type": "stream",
     "text": [
      "1\n"
     ]
    }
   ],
   "source": [
    "# 16. '지구'가 몇 개 포함되어있는지 확인.\n",
    "print(sol.count('지구'))"
   ]
  },
  {
   "cell_type": "code",
   "execution_count": 83,
   "id": "70c77055",
   "metadata": {},
   "outputs": [
    {
     "data": {
      "text/plain": [
       "[]"
      ]
     },
     "execution_count": 83,
     "metadata": {},
     "output_type": "execute_result"
    }
   ],
   "source": [
    "# 17. 모든 원소를 지우세요.\n",
    "# del sol[:]; print(sol)\n",
    "sol.clear()\n",
    "sol"
   ]
  },
  {
   "cell_type": "code",
   "execution_count": 84,
   "id": "5b60f5b1",
   "metadata": {
    "scrolled": true
   },
   "outputs": [
    {
     "ename": "NameError",
     "evalue": "name 'sol' is not defined",
     "output_type": "error",
     "traceback": [
      "\u001b[1;31m---------------------------------------------------------------------------\u001b[0m",
      "\u001b[1;31mNameError\u001b[0m                                 Traceback (most recent call last)",
      "\u001b[1;32m~\\AppData\\Local\\Temp/ipykernel_8988/708815970.py\u001b[0m in \u001b[0;36m<module>\u001b[1;34m\u001b[0m\n\u001b[0;32m      1\u001b[0m \u001b[1;31m# 18. sol리스트를 삭제하세요..\u001b[0m\u001b[1;33m\u001b[0m\u001b[1;33m\u001b[0m\u001b[0m\n\u001b[0;32m      2\u001b[0m \u001b[1;32mdel\u001b[0m \u001b[0msol\u001b[0m\u001b[1;33m\u001b[0m\u001b[1;33m\u001b[0m\u001b[0m\n\u001b[1;32m----> 3\u001b[1;33m \u001b[0msol\u001b[0m\u001b[1;33m\u001b[0m\u001b[1;33m\u001b[0m\u001b[0m\n\u001b[0m",
      "\u001b[1;31mNameError\u001b[0m: name 'sol' is not defined"
     ]
    }
   ],
   "source": [
    "# 18. sol리스트를 삭제하세요..\n",
    "del sol\n",
    "sol"
   ]
  },
  {
   "cell_type": "code",
   "execution_count": null,
   "id": "1a5d7b33",
   "metadata": {},
   "outputs": [],
   "source": [
    "# Tuple - 원소 수정 안됨"
   ]
  },
  {
   "cell_type": "code",
   "execution_count": 85,
   "id": "9ff45290",
   "metadata": {},
   "outputs": [],
   "source": [
    "myTuple = ('tuple', (1,2,3) , [4,5,6,7,8] ,'7', '8', '9')"
   ]
  },
  {
   "cell_type": "code",
   "execution_count": 89,
   "id": "912a206d",
   "metadata": {},
   "outputs": [
    {
     "name": "stdout",
     "output_type": "stream",
     "text": [
      "tuple\n",
      "3\n",
      "[4, 5]\n",
      "[4, 5, 6]\n",
      "6\n",
      "True\n",
      "3\n",
      "1\n",
      "[4, 5, 6, 7, 8]\n",
      "8\n",
      "4\n",
      "30\n",
      "6.0\n",
      "[8, 7, 6, 5, 4]\n"
     ]
    }
   ],
   "source": [
    "# 'tuple'을 출력하세요\n",
    "print(myTuple[0])\n",
    "# 3을 출력하세요\n",
    "\n",
    "print(myTuple[1][2])\n",
    "\n",
    "# 4,5를 출력하세요\n",
    "# print(myTuple[2][0],myTuple[2][1], sep = ',')\n",
    "print(myTuple[2][:2])\n",
    "\n",
    "# [4,5,6]을 출력하세요\n",
    "print(myTuple[2][:3])\n",
    "\n",
    "# tuple의 길이를 리턴하세요 ( 요소의 갯수가 몇 개인지 )\n",
    "print(len(myTuple))\n",
    "\n",
    "# '7'이 있는지 확인하세요\n",
    "print('7' in myTuple)\n",
    "\n",
    "# '7'의 인덱스를 출력하세요.\n",
    "print(myTuple.index('7'))\n",
    "\n",
    "# '7'이 몇 개 있는지 확인하세요\n",
    "print(myTuple.count('7'))\n",
    "\n",
    "# 인데스 2번를 출력하세요\n",
    "print(myTuple[2])\n",
    "\n",
    "# 인데스 2번에서 최대값을 출력하세요\n",
    "print(max(myTuple[2]))\n",
    "\n",
    "# 인데스 2번에서 최소값을 출력하세요\n",
    "print(min(myTuple[2]))\n",
    "\n",
    "# 인데스 2번에서 총합을 출력하세요\n",
    "print(sum(myTuple[2]))\n",
    "\n",
    "# 인데스 2번에서 평균을 출력하세요\n",
    "import numpy as np\n",
    "print(np.mean(myTuple[2]))\n",
    "# print(sum(myTuple[2])/len(myTuple[2]))\n",
    "\n",
    "# 인데스 2번를 내림차순 정렬해서 출력하세요.\n",
    "print(sorted(myTuple[2], reverse=True))"
   ]
  },
  {
   "cell_type": "code",
   "execution_count": null,
   "id": "c7baff36",
   "metadata": {},
   "outputs": [],
   "source": []
  }
 ],
 "metadata": {
  "kernelspec": {
   "display_name": "Python 3 (ipykernel)",
   "language": "python",
   "name": "python3"
  },
  "language_info": {
   "codemirror_mode": {
    "name": "ipython",
    "version": 3
   },
   "file_extension": ".py",
   "mimetype": "text/x-python",
   "name": "python",
   "nbconvert_exporter": "python",
   "pygments_lexer": "ipython3",
   "version": "3.9.7"
  }
 },
 "nbformat": 4,
 "nbformat_minor": 5
}
