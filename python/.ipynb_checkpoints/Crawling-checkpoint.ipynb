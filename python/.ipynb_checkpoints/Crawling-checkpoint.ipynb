{
 "cells": [
  {
   "cell_type": "markdown",
   "id": "5a26537c",
   "metadata": {},
   "source": [
    "# Crawling(scrapying)\n",
    "---\n",
    "- web에서 데이터를 프로그램을 통해서 가져오는 작업\n",
    "\n",
    "\n",
    "- web구성하는 언어 - html, css, javascript \n",
    "    - html은 웹을 기본 구조를 구성하는 스크립트 언어\n",
    "    - css는 웹을 꾸며주는 언어\n",
    "    - javascript는 웹이 동적으로 작동하도록 만드는 언어\n",
    "    "
   ]
  },
  {
   "cell_type": "markdown",
   "id": "42e30823",
   "metadata": {},
   "source": [
    "## html\n",
    "---\n",
    "- 기본 구조는 태그 - 여는 태그 '<', 닫는 태그 '/>'\n",
    "- 태그 계층구조 부모태그, 자식태그, ...\n",
    "\n",
    "- \\<head> 정보... \\</head> : 웹의 정보를 담고 있는 태그\n",
    "- \\<body> 태그... \\<body> : 웹에서 눈으로 보는 내용이 들어있는 태그"
   ]
  },
  {
   "cell_type": "code",
   "execution_count": null,
   "id": "3a974f8b",
   "metadata": {},
   "outputs": [],
   "source": [
    "<html>\n",
    "    <head>\n",
    "        web page meta 정보\n",
    "    \n",
    "    </head>\n",
    "    \n",
    "    <body>\n",
    "        웹페이지에서 보여지는 콘텐츠가 들어가는 부분\n",
    "        <p>문단을 나타냅니다</p>\n",
    "        <div>제목을 나타냅니다</div>\n",
    "    </body>\n",
    "</html>"
   ]
  }
 ],
 "metadata": {
  "kernelspec": {
   "display_name": "Python 3 (ipykernel)",
   "language": "python",
   "name": "python3"
  },
  "language_info": {
   "codemirror_mode": {
    "name": "ipython",
    "version": 3
   },
   "file_extension": ".py",
   "mimetype": "text/x-python",
   "name": "python",
   "nbconvert_exporter": "python",
   "pygments_lexer": "ipython3",
   "version": "3.9.7"
  }
 },
 "nbformat": 4,
 "nbformat_minor": 5
}
