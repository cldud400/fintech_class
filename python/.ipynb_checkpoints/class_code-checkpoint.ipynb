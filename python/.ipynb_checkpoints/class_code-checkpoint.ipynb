{
 "cells": [
  {
   "cell_type": "markdown",
   "id": "67dd3521",
   "metadata": {},
   "source": [
    "# class\n",
    "---\n",
    "- 자주 사용하는 함수들과 변수들을 하나의 덩어리로 묶어서 사용\n",
    "- class - 함수와 변수들을 묶은 덩어리, 원본 보존\n",
    "- class를 사용 - class를 복사해서 사용 => class를 복사한 것(instance)\n",
    "- class <= (함수(method)들, 변수(attribute)들)\n",
    "- 변수(인스턴스) = class()\n",
    "- class를 복사 => instance를 생성한다. 객체를 생성하는 것과 같다   \n",
    "___\n",
    "- class 내에 있는 함수 - 메소드(method)\n",
    "- class 내에 있는 변수 - 속성(atribute)   \n",
    "---\n",
    "- class - 붕어빵 기계, 설계도\n",
    "- instance - 붕어빵, 복사한 설계도\n",
    "---\n",
    "- 인스턴스.메소드() : '.' - 접근자(인스턴스에서 복사해온 메서드나 변수를 사용)\n",
    "- 인스턴스.속성\n"
   ]
  },
  {
   "cell_type": "code",
   "execution_count": 4,
   "id": "9239aefd",
   "metadata": {},
   "outputs": [
    {
     "name": "stdout",
     "output_type": "stream",
     "text": [
      "====================\n",
      "Name : yuna\n",
      "Email : yuna@hanmail.net\n",
      "Address : Seoul\n",
      "====================\n"
     ]
    }
   ],
   "source": [
    "# 명함을 찍는 코드\n",
    "\n",
    "print('=' * 20)\n",
    "print('Name : {}'. format('yuna'))\n",
    "print('Email : {}'. format('yuna@hanmail.net'))\n",
    "print('Address : {}'.format('Seoul'))\n",
    "print('=' * 20)\n"
   ]
  },
  {
   "cell_type": "markdown",
   "id": "4f3817c5",
   "metadata": {},
   "source": [
    "> 함수"
   ]
  },
  {
   "cell_type": "code",
   "execution_count": 8,
   "id": "ffe755a0",
   "metadata": {},
   "outputs": [],
   "source": [
    "def businesscard():\n",
    "    print('=' * 20)\n",
    "    print('Name : {}'. format('yuna'))\n",
    "    print('Email : {}'. format('yuna@hanmail.net'))\n",
    "    print('Address : {}'.format('Seoul'))\n",
    "    print('=' * 20)"
   ]
  },
  {
   "cell_type": "code",
   "execution_count": 9,
   "id": "807a7021",
   "metadata": {},
   "outputs": [
    {
     "name": "stdout",
     "output_type": "stream",
     "text": [
      "====================\n",
      "Name : yuna\n",
      "Email : yuna@hanmail.net\n",
      "Address : Seoul\n",
      "====================\n"
     ]
    }
   ],
   "source": [
    "businesscard()"
   ]
  },
  {
   "cell_type": "markdown",
   "id": "0606995a",
   "metadata": {},
   "source": [
    "> 매개변수를 사용하는 함수"
   ]
  },
  {
   "cell_type": "code",
   "execution_count": 11,
   "id": "9a8e6981",
   "metadata": {},
   "outputs": [],
   "source": [
    "# 매개변수\n",
    "\n",
    "def businesscard(name, email, address):\n",
    "    print('=' * 20)\n",
    "    print('Name : {}'. format(name))\n",
    "    print('Email : {}'. format(email))\n",
    "    print('Address : {}'.format(address))\n",
    "    print('=' * 20)\n",
    "    "
   ]
  },
  {
   "cell_type": "code",
   "execution_count": 12,
   "id": "68d5439d",
   "metadata": {},
   "outputs": [
    {
     "name": "stdout",
     "output_type": "stream",
     "text": [
      "====================\n",
      "Name : yuna\n",
      "Email : yuna@hanmail.net\n",
      "Address : Seoul\n",
      "====================\n"
     ]
    }
   ],
   "source": [
    "name = 'yuna'\n",
    "email = 'yuna@hanmail.net'\n",
    "address = 'Seoul'\n",
    "\n",
    "businesscard(name, email, address)"
   ]
  },
  {
   "cell_type": "code",
   "execution_count": 13,
   "id": "30ddba9e",
   "metadata": {},
   "outputs": [
    {
     "name": "stdout",
     "output_type": "stream",
     "text": [
      "====================\n",
      "Name : park\n",
      "Email : park@hanmail.net\n",
      "Address : Incheon\n",
      "====================\n"
     ]
    }
   ],
   "source": [
    "name = 'park'\n",
    "email = 'park@hanmail.net'\n",
    "address = 'Incheon'\n",
    "\n",
    "businesscard(name, email, address)"
   ]
  },
  {
   "cell_type": "markdown",
   "id": "e0d19137",
   "metadata": {},
   "source": [
    "> ***class*** - 함께 사용하는 변수와 함수를 묶는 것   \n",
    "- 메소드가 self라는 매개변수를 받는다. - 인스턴스 메소드   \n",
    "   \n",
    "   \n",
    "- 변수도 앞에 self를 붙인다. - 인스턴스 변수   \n",
    "---\n",
    "> ***self*** - 인스턴스의 주소값\n",
    "\n",
    "- self.변수 - 인스턴스 변수 ( 특정 인스턴스 내에서 공유 되는 변수) "
   ]
  },
  {
   "cell_type": "code",
   "execution_count": 73,
   "id": "e501d086",
   "metadata": {},
   "outputs": [],
   "source": [
    "class BusinessCard:\n",
    "    \n",
    "    def set_info(self, name, email, address):\n",
    "        self.name = name       # self.변수 - 인스턴스 변수 ( 특정 인스턴스 내에서 공유 되는 변수) \n",
    "        self.email = email\n",
    "        self.address = address\n",
    "    \n",
    "    def businesscard(self):\n",
    "        print('=' * 20)\n",
    "        print('Name : {}'. format(self.name))\n",
    "        print('Email : {}'. format(self.email))\n",
    "        print('Address : {}'.format(self.address))\n",
    "        print('=' * 20)"
   ]
  },
  {
   "cell_type": "code",
   "execution_count": null,
   "id": "6ee36152",
   "metadata": {},
   "outputs": [],
   "source": [
    "bc = BusinessCard()"
   ]
  },
  {
   "cell_type": "code",
   "execution_count": 48,
   "id": "3438f568",
   "metadata": {},
   "outputs": [],
   "source": [
    "# 인스턴스는 class를 복사한 것\n",
    "# class 내의 모든 메소더, 속성들을 복사해 온다.\n",
    "# 인스턴스에서 복사해 온 class의 메소드나 변수를 사용할 때 '.' => 접근자 사용\n",
    "bc.set_info('yuna', 'yuna@hanmail.net', 'Seoul')"
   ]
  },
  {
   "cell_type": "code",
   "execution_count": 47,
   "id": "6d487b97",
   "metadata": {},
   "outputs": [
    {
     "name": "stdout",
     "output_type": "stream",
     "text": [
      "====================\n",
      "Name : yuna\n",
      "Email : yuna@hanmail.net\n",
      "Address : Seoul\n",
      "====================\n"
     ]
    }
   ],
   "source": [
    "bc.businesscard()"
   ]
  },
  {
   "cell_type": "code",
   "execution_count": 53,
   "id": "d6f954d8",
   "metadata": {},
   "outputs": [
    {
     "name": "stdout",
     "output_type": "stream",
     "text": [
      "====================\n",
      "Name : park\n",
      "Email : park@hanmail.net\n",
      "Address : Incheon\n",
      "====================\n"
     ]
    }
   ],
   "source": [
    "bc1 = BusinessCard()\n",
    "bc1.set_info('park', 'park@hanmail.net', 'Incheon')\n",
    "bc1.businesscard()"
   ]
  },
  {
   "cell_type": "code",
   "execution_count": 52,
   "id": "96b0ccf3",
   "metadata": {},
   "outputs": [
    {
     "name": "stdout",
     "output_type": "stream",
     "text": [
      "====================\n"
     ]
    },
    {
     "ename": "AttributeError",
     "evalue": "'BusinessCard' object has no attribute 'name'",
     "output_type": "error",
     "traceback": [
      "\u001b[1;31m---------------------------------------------------------------------------\u001b[0m",
      "\u001b[1;31mAttributeError\u001b[0m                            Traceback (most recent call last)",
      "\u001b[1;32m~\\AppData\\Local\\Temp/ipykernel_6960/695731775.py\u001b[0m in \u001b[0;36m<module>\u001b[1;34m\u001b[0m\n\u001b[0;32m      1\u001b[0m \u001b[0mbc2\u001b[0m \u001b[1;33m=\u001b[0m \u001b[0mBusinessCard\u001b[0m\u001b[1;33m(\u001b[0m\u001b[1;33m)\u001b[0m\u001b[1;33m\u001b[0m\u001b[1;33m\u001b[0m\u001b[0m\n\u001b[1;32m----> 2\u001b[1;33m \u001b[0mbc2\u001b[0m\u001b[1;33m.\u001b[0m\u001b[0mbusinesscard\u001b[0m\u001b[1;33m(\u001b[0m\u001b[1;33m)\u001b[0m\u001b[1;33m\u001b[0m\u001b[1;33m\u001b[0m\u001b[0m\n\u001b[0m",
      "\u001b[1;32m~\\AppData\\Local\\Temp/ipykernel_6960/1129711358.py\u001b[0m in \u001b[0;36mbusinesscard\u001b[1;34m(self)\u001b[0m\n\u001b[0;32m      8\u001b[0m     \u001b[1;32mdef\u001b[0m \u001b[0mbusinesscard\u001b[0m\u001b[1;33m(\u001b[0m\u001b[0mself\u001b[0m\u001b[1;33m)\u001b[0m\u001b[1;33m:\u001b[0m\u001b[1;33m\u001b[0m\u001b[1;33m\u001b[0m\u001b[0m\n\u001b[0;32m      9\u001b[0m         \u001b[0mprint\u001b[0m\u001b[1;33m(\u001b[0m\u001b[1;34m'='\u001b[0m \u001b[1;33m*\u001b[0m \u001b[1;36m20\u001b[0m\u001b[1;33m)\u001b[0m\u001b[1;33m\u001b[0m\u001b[1;33m\u001b[0m\u001b[0m\n\u001b[1;32m---> 10\u001b[1;33m         \u001b[0mprint\u001b[0m\u001b[1;33m(\u001b[0m\u001b[1;34m'Name : {}'\u001b[0m\u001b[1;33m.\u001b[0m \u001b[0mformat\u001b[0m\u001b[1;33m(\u001b[0m\u001b[0mself\u001b[0m\u001b[1;33m.\u001b[0m\u001b[0mname\u001b[0m\u001b[1;33m)\u001b[0m\u001b[1;33m)\u001b[0m\u001b[1;33m\u001b[0m\u001b[1;33m\u001b[0m\u001b[0m\n\u001b[0m\u001b[0;32m     11\u001b[0m         \u001b[0mprint\u001b[0m\u001b[1;33m(\u001b[0m\u001b[1;34m'Email : {}'\u001b[0m\u001b[1;33m.\u001b[0m \u001b[0mformat\u001b[0m\u001b[1;33m(\u001b[0m\u001b[0mself\u001b[0m\u001b[1;33m.\u001b[0m\u001b[0memail\u001b[0m\u001b[1;33m)\u001b[0m\u001b[1;33m)\u001b[0m\u001b[1;33m\u001b[0m\u001b[1;33m\u001b[0m\u001b[0m\n\u001b[0;32m     12\u001b[0m         \u001b[0mprint\u001b[0m\u001b[1;33m(\u001b[0m\u001b[1;34m'Address : {}'\u001b[0m\u001b[1;33m.\u001b[0m\u001b[0mformat\u001b[0m\u001b[1;33m(\u001b[0m\u001b[0mself\u001b[0m\u001b[1;33m.\u001b[0m\u001b[0maddress\u001b[0m\u001b[1;33m)\u001b[0m\u001b[1;33m)\u001b[0m\u001b[1;33m\u001b[0m\u001b[1;33m\u001b[0m\u001b[0m\n",
      "\u001b[1;31mAttributeError\u001b[0m: 'BusinessCard' object has no attribute 'name'"
     ]
    }
   ],
   "source": [
    "bc2 = BusinessCard()\n",
    "bc2.businesscard()"
   ]
  },
  {
   "cell_type": "code",
   "execution_count": 54,
   "id": "e961693a",
   "metadata": {},
   "outputs": [
    {
     "name": "stdout",
     "output_type": "stream",
     "text": [
      "====================\n",
      "Name : kim\n",
      "Email : kim@hanmail.net\n",
      "Address : Pusan\n",
      "====================\n"
     ]
    }
   ],
   "source": [
    "bc2 = BusinessCard()\n",
    "bc2.set_info('kim', 'kim@hanmail.net', 'Pusan')\n",
    "bc2.businesscard()"
   ]
  },
  {
   "cell_type": "markdown",
   "id": "977ab132",
   "metadata": {},
   "source": [
    "class를 사용하기 위해서 필요한 값들은 클래스를 복사하는 순간(인스턴스 생성)에 강제로 입력하도록 만들자"
   ]
  },
  {
   "cell_type": "markdown",
   "id": "b55ed217",
   "metadata": {},
   "source": [
    "class가 복사되는 순간 set_info()함수가 강제로 실행되도록"
   ]
  },
  {
   "cell_type": "markdown",
   "id": "ec462e7b",
   "metadata": {},
   "source": [
    "> ***생성자 함수*** : class가 복사되는 순간 강제로 실행되는 함수"
   ]
  },
  {
   "cell_type": "code",
   "execution_count": 2,
   "id": "e45272ee",
   "metadata": {},
   "outputs": [],
   "source": [
    "class BusinessCard:\n",
    "    \n",
    "    def __init__(self, name, email, address):\n",
    "        self.name = name     \n",
    "        self.email = email\n",
    "        self.address = address\n",
    "    \n",
    "    def businesscard(self):\n",
    "        print('=' * 20)\n",
    "        print('Name : {}'. format(self.name))\n",
    "        print('Email : {}'. format(self.email))\n",
    "        print('Address : {}'.format(self.address))\n",
    "        print('=' * 20)"
   ]
  },
  {
   "cell_type": "code",
   "execution_count": 3,
   "id": "190dcfe1",
   "metadata": {},
   "outputs": [
    {
     "ename": "TypeError",
     "evalue": "__init__() missing 3 required positional arguments: 'name', 'email', and 'address'",
     "output_type": "error",
     "traceback": [
      "\u001b[1;31m---------------------------------------------------------------------------\u001b[0m",
      "\u001b[1;31mTypeError\u001b[0m                                 Traceback (most recent call last)",
      "\u001b[1;32m~\\AppData\\Local\\Temp/ipykernel_9528/229510124.py\u001b[0m in \u001b[0;36m<module>\u001b[1;34m\u001b[0m\n\u001b[0;32m      1\u001b[0m \u001b[1;31m# instance 생성 순간 __init__함수 실행 => __inti__함수가 필요로 하는 매개변수를 넘겨줘야 한다.\u001b[0m\u001b[1;33m\u001b[0m\u001b[1;33m\u001b[0m\u001b[0m\n\u001b[1;32m----> 2\u001b[1;33m \u001b[0mbc3\u001b[0m \u001b[1;33m=\u001b[0m \u001b[0mBusinessCard\u001b[0m\u001b[1;33m(\u001b[0m\u001b[1;33m)\u001b[0m\u001b[1;33m\u001b[0m\u001b[1;33m\u001b[0m\u001b[0m\n\u001b[0m",
      "\u001b[1;31mTypeError\u001b[0m: __init__() missing 3 required positional arguments: 'name', 'email', and 'address'"
     ]
    }
   ],
   "source": [
    "# instance 생성 순간 __init__함수 실행 => __inti__함수가 필요로 하는 매개변수를 넘겨줘야 한다.\n",
    "bc3 = BusinessCard()"
   ]
  },
  {
   "cell_type": "code",
   "execution_count": 4,
   "id": "38efe034",
   "metadata": {},
   "outputs": [],
   "source": [
    "# instance 생성순간 매개변수 넘기기\n",
    "bc3 = BusinessCard('kim', 'kim@hanmail.net', 'Pusan')"
   ]
  },
  {
   "cell_type": "code",
   "execution_count": 5,
   "id": "605631ef",
   "metadata": {},
   "outputs": [
    {
     "data": {
      "text/plain": [
       "'kim'"
      ]
     },
     "execution_count": 5,
     "metadata": {},
     "output_type": "execute_result"
    }
   ],
   "source": [
    "bc3 = BusinessCard('kim', 'kim@hanmail.net', 'Pusan')\n",
    "bc3.name"
   ]
  },
  {
   "cell_type": "code",
   "execution_count": 6,
   "id": "cf77f083",
   "metadata": {},
   "outputs": [
    {
     "name": "stdout",
     "output_type": "stream",
     "text": [
      "====================\n",
      "Name : kim\n",
      "Email : kim@hanmail.net\n",
      "Address : Pusan\n",
      "====================\n"
     ]
    }
   ],
   "source": [
    "bc3.businesscard()"
   ]
  },
  {
   "cell_type": "markdown",
   "id": "46d7be49",
   "metadata": {},
   "source": [
    "## class 변수\n",
    "- 특정 인스턴스 내부가 아닌, 모든 인스턴스에서 공유하는 변수\n",
    "- 클래스 변수의 정의 : \n",
    "\n",
    "\n",
    "    - 클래스 변수에 접근할 때는 클래서 명으로 접근 \n",
    "    - 인스턴스 변수로 클래스 변수에 접슨하는 경우, 동일 이름의 인스턴스 변수가 없으면 가능\n",
    "- 인스턴스 변수 - 특정 인스턴스 내에서만 공유되는 변수"
   ]
  },
  {
   "cell_type": "code",
   "execution_count": 64,
   "id": "ba4e397f",
   "metadata": {},
   "outputs": [],
   "source": [
    "class Circle:\n",
    "    pi = 3.14   # 클래서 변수\n",
    "    \n",
    "    def __init__(self, radius):\n",
    "        self.radius = radius\n",
    "        \n",
    "    def area(self):\n",
    "        circle_area = Circle.pi * pow(self.radius, 2)  # 클래스명.클래스변수\n",
    "        return circle_area\n",
    "    \n",
    "    def perimeter(self):\n",
    "        circle_perimeter = Circle.pi * 2 * self.radius\n",
    "        return circle_perimeter"
   ]
  },
  {
   "cell_type": "code",
   "execution_count": 81,
   "id": "4d9244f9",
   "metadata": {},
   "outputs": [],
   "source": [
    "cir = Circle(3)"
   ]
  },
  {
   "cell_type": "code",
   "execution_count": 82,
   "id": "abf04b0e",
   "metadata": {},
   "outputs": [
    {
     "data": {
      "text/plain": [
       "28.26"
      ]
     },
     "execution_count": 82,
     "metadata": {},
     "output_type": "execute_result"
    }
   ],
   "source": [
    "cir.area()"
   ]
  },
  {
   "cell_type": "code",
   "execution_count": 83,
   "id": "f24ea1c4",
   "metadata": {},
   "outputs": [
    {
     "data": {
      "text/plain": [
       "18.84"
      ]
     },
     "execution_count": 83,
     "metadata": {},
     "output_type": "execute_result"
    }
   ],
   "source": [
    "cir.perimeter()"
   ]
  },
  {
   "cell_type": "code",
   "execution_count": 84,
   "id": "99e7d733",
   "metadata": {},
   "outputs": [
    {
     "data": {
      "text/plain": [
       "3"
      ]
     },
     "execution_count": 84,
     "metadata": {},
     "output_type": "execute_result"
    }
   ],
   "source": [
    "cir.radius   # 인스턴스 변수"
   ]
  },
  {
   "cell_type": "code",
   "execution_count": 78,
   "id": "bf90240f",
   "metadata": {},
   "outputs": [],
   "source": [
    "cir1 = Circle(5)"
   ]
  },
  {
   "cell_type": "code",
   "execution_count": 79,
   "id": "f98e8a9c",
   "metadata": {},
   "outputs": [
    {
     "data": {
      "text/plain": [
       "78.5"
      ]
     },
     "execution_count": 79,
     "metadata": {},
     "output_type": "execute_result"
    }
   ],
   "source": [
    "cir1.area()"
   ]
  },
  {
   "cell_type": "code",
   "execution_count": 80,
   "id": "037e9c46",
   "metadata": {},
   "outputs": [
    {
     "data": {
      "text/plain": [
       "31.400000000000002"
      ]
     },
     "execution_count": 80,
     "metadata": {},
     "output_type": "execute_result"
    }
   ],
   "source": [
    "cir1.perimeter()"
   ]
  },
  {
   "cell_type": "code",
   "execution_count": 85,
   "id": "0d7efafd",
   "metadata": {},
   "outputs": [
    {
     "data": {
      "text/plain": [
       "5"
      ]
     },
     "execution_count": 85,
     "metadata": {},
     "output_type": "execute_result"
    }
   ],
   "source": [
    "cir1.radius   # 인스턴스 변수"
   ]
  },
  {
   "cell_type": "code",
   "execution_count": 87,
   "id": "5ab3e046",
   "metadata": {},
   "outputs": [
    {
     "data": {
      "text/plain": [
       "3.14"
      ]
     },
     "execution_count": 87,
     "metadata": {},
     "output_type": "execute_result"
    }
   ],
   "source": [
    "cir.pi"
   ]
  },
  {
   "cell_type": "code",
   "execution_count": 88,
   "id": "2d574c55",
   "metadata": {},
   "outputs": [
    {
     "data": {
      "text/plain": [
       "3.14"
      ]
     },
     "execution_count": 88,
     "metadata": {},
     "output_type": "execute_result"
    }
   ],
   "source": [
    "cir1.pi"
   ]
  },
  {
   "cell_type": "code",
   "execution_count": 86,
   "id": "a82066ef",
   "metadata": {},
   "outputs": [],
   "source": [
    "# cir.radius != cir1.radius   : 인스턴스 변수이기 때문\n",
    "# cir.pi == cir.pi            : 클래스 변수 이기 때문"
   ]
  },
  {
   "cell_type": "markdown",
   "id": "f0908ecc",
   "metadata": {},
   "source": [
    "## class 상속"
   ]
  },
  {
   "cell_type": "markdown",
   "id": "3d2e31d9",
   "metadata": {},
   "source": [
    "> 부모 클래스"
   ]
  },
  {
   "cell_type": "code",
   "execution_count": 89,
   "id": "e88670fe",
   "metadata": {},
   "outputs": [],
   "source": [
    "class Parent:\n",
    "    def can_sing(self):\n",
    "        print('sing a song')"
   ]
  },
  {
   "cell_type": "code",
   "execution_count": 90,
   "id": "94ecbf8f",
   "metadata": {},
   "outputs": [],
   "source": [
    "p = Parent()"
   ]
  },
  {
   "cell_type": "code",
   "execution_count": 91,
   "id": "ff53e94c",
   "metadata": {},
   "outputs": [
    {
     "name": "stdout",
     "output_type": "stream",
     "text": [
      "sing a song\n"
     ]
    }
   ],
   "source": [
    "p.can_sing()"
   ]
  },
  {
   "cell_type": "markdown",
   "id": "d8967fec",
   "metadata": {},
   "source": [
    "> 자식 클래스"
   ]
  },
  {
   "cell_type": "code",
   "execution_count": 97,
   "id": "fd23e2b0",
   "metadata": {},
   "outputs": [],
   "source": [
    "# Parent class를 상속 => Parent class의 모든 요소를 가져온다\n",
    "class Child(Parent):    \n",
    "    pass"
   ]
  },
  {
   "cell_type": "code",
   "execution_count": 94,
   "id": "9ce48d4a",
   "metadata": {},
   "outputs": [],
   "source": [
    "c = Child()"
   ]
  },
  {
   "cell_type": "code",
   "execution_count": 96,
   "id": "a444da69",
   "metadata": {},
   "outputs": [
    {
     "name": "stdout",
     "output_type": "stream",
     "text": [
      "sing a song\n"
     ]
    }
   ],
   "source": [
    "c.can_sing()"
   ]
  },
  {
   "cell_type": "code",
   "execution_count": 98,
   "id": "b05b1950",
   "metadata": {},
   "outputs": [],
   "source": [
    "class Child(Parent):\n",
    "    def can_dance(self):\n",
    "        print('play dancing')"
   ]
  },
  {
   "cell_type": "code",
   "execution_count": 99,
   "id": "86c8f2e7",
   "metadata": {},
   "outputs": [],
   "source": [
    "c = Child()"
   ]
  },
  {
   "cell_type": "code",
   "execution_count": 104,
   "id": "e67017a7",
   "metadata": {},
   "outputs": [
    {
     "name": "stdout",
     "output_type": "stream",
     "text": [
      "sing a song\n"
     ]
    }
   ],
   "source": [
    "c.can_sing()     # 부도 클래스로부터 상속받은 메소드"
   ]
  },
  {
   "cell_type": "code",
   "execution_count": 105,
   "id": "5a7c23c1",
   "metadata": {},
   "outputs": [
    {
     "name": "stdout",
     "output_type": "stream",
     "text": [
      "play dancing\n"
     ]
    }
   ],
   "source": [
    "c.can_dance()    # 자신의 메소드"
   ]
  },
  {
   "cell_type": "markdown",
   "id": "785e4082",
   "metadata": {},
   "source": [
    "***Quiz***   \n",
    "---\n",
    "임의의 정수 2개를 인스턴스 변수로 받은 후, 사칙연산의 메소드(add, mul, div, sub)를 가진 클래스를 정의하고   \n",
    "인스턴스를 만들어서 메소드를 실행하라"
   ]
  },
  {
   "cell_type": "code",
   "execution_count": 130,
   "id": "bd1f4f1d",
   "metadata": {},
   "outputs": [],
   "source": [
    "class Math_class:\n",
    "    \n",
    "    def __init__(self, num_x, num_y):\n",
    "        self.num_x = num_x\n",
    "        self.num_y = num_y\n",
    "        \n",
    "    def add_two(self):\n",
    "        x = self.num_x\n",
    "        y = self.num_y\n",
    "        return x + y\n",
    "    \n",
    "    def mul_two(self):\n",
    "        x = self.num_x\n",
    "        y = self.num_y\n",
    "        return x * y\n",
    "    \n",
    "    def div_two(self):\n",
    "        x = self.num_x\n",
    "        y = self.num_y\n",
    "        if y== 0:\n",
    "            return '0 나누기 error'\n",
    "        return round(x / y, 3)\n",
    "    \n",
    "    def sub_two(self):\n",
    "        x = self.num_x\n",
    "        y = self.num_y\n",
    "        return x - y"
   ]
  },
  {
   "cell_type": "code",
   "execution_count": 134,
   "id": "22c8fa47",
   "metadata": {},
   "outputs": [],
   "source": [
    "a = Math_class(2,0)"
   ]
  },
  {
   "cell_type": "code",
   "execution_count": 135,
   "id": "4ff7a581",
   "metadata": {},
   "outputs": [
    {
     "data": {
      "text/plain": [
       "2"
      ]
     },
     "execution_count": 135,
     "metadata": {},
     "output_type": "execute_result"
    }
   ],
   "source": [
    "a.add_two()"
   ]
  },
  {
   "cell_type": "code",
   "execution_count": 136,
   "id": "2b7df8fa",
   "metadata": {},
   "outputs": [
    {
     "data": {
      "text/plain": [
       "'0 나누기 error'"
      ]
     },
     "execution_count": 136,
     "metadata": {},
     "output_type": "execute_result"
    }
   ],
   "source": [
    "a.div_two()"
   ]
  },
  {
   "cell_type": "code",
   "execution_count": 120,
   "id": "f4600278",
   "metadata": {},
   "outputs": [],
   "source": [
    "class FourCal:\n",
    "    \n",
    "    def __init__(self, x, y):\n",
    "        self.x = x\n",
    "        self.y = y\n",
    "        \n",
    "    def addf(self):\n",
    "        result = self.x + self.y\n",
    "        return result\n",
    "        \n",
    "    def mulf(self):\n",
    "        result = self.x * self.y\n",
    "        return result\n",
    "    \n",
    "    def div(self):\n",
    "        result = self.x / self.y\n",
    "        return result\n",
    "    \n",
    "    def sub(self):\n",
    "        result = self.x - self.y\n",
    "        return result"
   ]
  },
  {
   "cell_type": "code",
   "execution_count": 139,
   "id": "b890addd",
   "metadata": {},
   "outputs": [],
   "source": [
    "sol = FourCal(2,4)"
   ]
  },
  {
   "cell_type": "code",
   "execution_count": 140,
   "id": "46e53dc6",
   "metadata": {},
   "outputs": [
    {
     "data": {
      "text/plain": [
       "6"
      ]
     },
     "execution_count": 140,
     "metadata": {},
     "output_type": "execute_result"
    }
   ],
   "source": [
    "sol.addf()"
   ]
  },
  {
   "cell_type": "code",
   "execution_count": 141,
   "id": "a8b75ff9",
   "metadata": {},
   "outputs": [
    {
     "data": {
      "text/plain": [
       "8"
      ]
     },
     "execution_count": 141,
     "metadata": {},
     "output_type": "execute_result"
    }
   ],
   "source": [
    "sol.mulf()"
   ]
  },
  {
   "cell_type": "code",
   "execution_count": 142,
   "id": "a5b2dcdd",
   "metadata": {},
   "outputs": [
    {
     "data": {
      "text/plain": [
       "0.5"
      ]
     },
     "execution_count": 142,
     "metadata": {},
     "output_type": "execute_result"
    }
   ],
   "source": [
    "sol.div()"
   ]
  },
  {
   "cell_type": "code",
   "execution_count": 143,
   "id": "ae253704",
   "metadata": {},
   "outputs": [
    {
     "data": {
      "text/plain": [
       "-2"
      ]
     },
     "execution_count": 143,
     "metadata": {},
     "output_type": "execute_result"
    }
   ],
   "source": [
    "sol.sub()"
   ]
  },
  {
   "cell_type": "markdown",
   "id": "a01907bf",
   "metadata": {},
   "source": [
    "class 상속"
   ]
  },
  {
   "cell_type": "code",
   "execution_count": 144,
   "id": "dc8dd096",
   "metadata": {},
   "outputs": [],
   "source": [
    "class FourCal1(FourCal):\n",
    "    def powf(self):\n",
    "        result = self.x ** self.y\n",
    "        return result"
   ]
  },
  {
   "cell_type": "code",
   "execution_count": 146,
   "id": "77f54c70",
   "metadata": {},
   "outputs": [],
   "source": [
    "fc = FourCal1(2, 4)"
   ]
  },
  {
   "cell_type": "code",
   "execution_count": 147,
   "id": "fc21466d",
   "metadata": {},
   "outputs": [
    {
     "data": {
      "text/plain": [
       "6"
      ]
     },
     "execution_count": 147,
     "metadata": {},
     "output_type": "execute_result"
    }
   ],
   "source": [
    "fc.addf()"
   ]
  },
  {
   "cell_type": "code",
   "execution_count": 148,
   "id": "20be4265",
   "metadata": {},
   "outputs": [
    {
     "data": {
      "text/plain": [
       "16"
      ]
     },
     "execution_count": 148,
     "metadata": {},
     "output_type": "execute_result"
    }
   ],
   "source": [
    "fc.powf()"
   ]
  },
  {
   "cell_type": "markdown",
   "id": "2419a010",
   "metadata": {},
   "source": [
    "***override***\n",
    "\n",
    "- 부모 클래스의 메소드를 수정 "
   ]
  },
  {
   "cell_type": "code",
   "execution_count": 150,
   "id": "e50b640b",
   "metadata": {},
   "outputs": [],
   "source": [
    "class SafeCal(FourCal):\n",
    "    def divf(self):        # 부모 클래스의 메소드를 수정 => override\n",
    "        if self.y == 0:\n",
    "            return 0\n",
    "        else:\n",
    "            return self.x / self.y"
   ]
  },
  {
   "cell_type": "code",
   "execution_count": 151,
   "id": "b1209d64",
   "metadata": {},
   "outputs": [],
   "source": [
    "sc = SafeCal(2,0)"
   ]
  },
  {
   "cell_type": "code",
   "execution_count": 152,
   "id": "dca70a5e",
   "metadata": {},
   "outputs": [
    {
     "data": {
      "text/plain": [
       "0"
      ]
     },
     "execution_count": 152,
     "metadata": {},
     "output_type": "execute_result"
    }
   ],
   "source": [
    "sc.divf()"
   ]
  },
  {
   "cell_type": "markdown",
   "id": "cff88935",
   "metadata": {},
   "source": [
    "## 클래스 매소드와 스태틱 매소드"
   ]
  },
  {
   "cell_type": "code",
   "execution_count": 156,
   "id": "eff8261a",
   "metadata": {},
   "outputs": [],
   "source": [
    "class Sam:\n",
    "    \n",
    "    data = 'python'   # 클래스 변수\n",
    "    \n",
    "    def __init__(self):\n",
    "        self.data1 = 'korea'     # 인스턴스 변수\n",
    "    \n",
    "    def instance_method(self):\n",
    "        print('instance method : ', self.data1)\n",
    "        \n",
    "        \n",
    "    # 클래스 메소드, cls 키워드로 클래스 변수에 접근     \n",
    "    @classmethod    \n",
    "    def class_method(cls):      \n",
    "        print('class method : ', cls.data)\n",
    "        # print('class method : ', cls.data1) - 클래스 메소드는 인스턴스 변수 접근 불가\n",
    "\n",
    "        \n",
    "    # 스태틱 메소드, self, cls 매개변수를 받지 않는다.\n",
    "    def static_method():\n",
    "        print('static method : ', Sam.data)\n",
    "        # print('class method : ', cls.data1) - 스태틱 메소드는 인스턴스 변수 접근 불가\n",
    "        "
   ]
  },
  {
   "cell_type": "code",
   "execution_count": 157,
   "id": "653f0e63",
   "metadata": {},
   "outputs": [],
   "source": [
    "s = Sam()"
   ]
  },
  {
   "cell_type": "code",
   "execution_count": 168,
   "id": "598bfb42",
   "metadata": {},
   "outputs": [
    {
     "name": "stdout",
     "output_type": "stream",
     "text": [
      "instance method :  korea\n",
      "class method :  python\n",
      "static method :  python\n"
     ]
    }
   ],
   "source": [
    "s.instance_method()\n",
    "s.class_method()\n",
    "Sam.static_method()"
   ]
  },
  {
   "cell_type": "markdown",
   "id": "c63bdf5d",
   "metadata": {},
   "source": [
    "* 클래스 매소드나 스테틱 메소드는 객체를 생성하지 않고 클래스 명으로 바로 호출 가능\n",
    "* 클래스 매소드와 스태틱 메소드는 클래스 변수에만 접근이 가능하다\n",
    "* 클래스 메소드나 cls키워드를 사용\n",
    "* 스태틱 메소드 cls를 사용하지 않고 클래스 명으로 호출한다."
   ]
  },
  {
   "cell_type": "code",
   "execution_count": 169,
   "id": "4d72940a",
   "metadata": {},
   "outputs": [],
   "source": [
    "# 학생리스트"
   ]
  },
  {
   "cell_type": "code",
   "execution_count": 181,
   "id": "68b0fa31",
   "metadata": {},
   "outputs": [],
   "source": [
    "student = [\n",
    "    {'name':'윤인성', 'korean': 87, 'math': 98, 'english' : 95, 'science' : 95},\n",
    "    {'name':'박민수', 'korean': 88, 'math': 98, 'english' : 64, 'science' : 95},\n",
    "    {'name':'박철호', 'korean': 95, 'math': 98, 'english' : 24, 'science' : 95},\n",
    "    {'name':'아호성', 'korean': 75, 'math': 98, 'english' : 85, 'science' : 95},\n",
    "    {'name':'최민수', 'korean': 62, 'math': 98, 'english' : 65, 'science' : 95},\n",
    "    {'name':'유인태', 'korean': 67, 'math': 98, 'english' : 81, 'science' : 95}\n",
    "]"
   ]
  },
  {
   "cell_type": "markdown",
   "id": "775b116f",
   "metadata": {},
   "source": [
    "***Quiz***   \n",
    "이 형식으로 출력하시오.    \n",
    "\n",
    "이름     총점     평점   \n",
    "윤인수    89       85   \n",
    "박민수    87       98"
   ]
  },
  {
   "cell_type": "markdown",
   "id": "23be612d",
   "metadata": {},
   "source": [
    "그냥 출력하기"
   ]
  },
  {
   "cell_type": "code",
   "execution_count": 216,
   "id": "fed0272b",
   "metadata": {},
   "outputs": [
    {
     "name": "stdout",
     "output_type": "stream",
     "text": [
      "이름\t총점\t평점\n",
      "윤인성\t375\t93.75\n",
      "박민수\t345\t86.25\n",
      "박철호\t312\t78.0\n",
      "아호성\t353\t88.25\n",
      "최민수\t320\t80.0\n",
      "유인태\t341\t85.25\n"
     ]
    }
   ],
   "source": [
    "print('{}\\t{}\\t{}'.format('이름', '총점', '평점'))\n",
    "for i in range(len(student)):\n",
    "    sum_ = sum(list(student[i].values())[1:])\n",
    "    avg_ = sum_ / 4\n",
    "    print('{}\\t{}\\t{}'.format(student[i]['name'], sum_, avg_))\n",
    "               "
   ]
  },
  {
   "cell_type": "markdown",
   "id": "9879ef3f",
   "metadata": {},
   "source": [
    "함수로 출력하기"
   ]
  },
  {
   "cell_type": "code",
   "execution_count": 209,
   "id": "ed8f5b5b",
   "metadata": {},
   "outputs": [
    {
     "data": {
      "text/plain": [
       "{'name': '윤인성', 'korean': 87, 'math': 88, 'english': 96, 'science': 78}"
      ]
     },
     "execution_count": 209,
     "metadata": {},
     "output_type": "execute_result"
    }
   ],
   "source": [
    "def create_student(name, kor, math, eng, sci):\n",
    "    return {'name':name, 'korean':kor, 'math':math, 'english':eng, 'science':sci}\n",
    "\n",
    "create_student('윤인성', 87, 88, 96, 78)"
   ]
  },
  {
   "cell_type": "code",
   "execution_count": 212,
   "id": "53c0b353",
   "metadata": {},
   "outputs": [],
   "source": [
    "def student_get_sum(s):\n",
    "    return s['korean'] + s['math'] + s['english'] + s['science']"
   ]
  },
  {
   "cell_type": "code",
   "execution_count": 213,
   "id": "3f24c963",
   "metadata": {},
   "outputs": [],
   "source": [
    "def student_get_average(s):\n",
    "    return student_get_sum(s) / 4"
   ]
  },
  {
   "cell_type": "code",
   "execution_count": 217,
   "id": "1d05cc45",
   "metadata": {},
   "outputs": [],
   "source": [
    "def student_to_string(s):\n",
    "    return '{}\\t{}\\t{}'.format(s['name'], student_get_sum(s), student_get_average(s))"
   ]
  },
  {
   "cell_type": "code",
   "execution_count": 219,
   "id": "bb981576",
   "metadata": {},
   "outputs": [
    {
     "name": "stdout",
     "output_type": "stream",
     "text": [
      "윤인성\t299\t74.75\n",
      "박철순\t297\t74.25\n",
      "김민수\t299\t74.75\n",
      "김도현\t297\t74.25\n",
      "이민정\t319\t79.75\n",
      "유인태\t292\t73.0\n"
     ]
    }
   ],
   "source": [
    "s = [\n",
    "    create_student('윤인성', 89, 87, 89, 34),\n",
    "    create_student('박철순', 87, 87, 89, 34),\n",
    "    create_student('김민수', 56, 87, 89, 67),\n",
    "    create_student('김도현', 65, 87, 89, 56),\n",
    "    create_student('이민정', 47, 87, 89, 96),\n",
    "    create_student('유인태', 70, 87, 89, 46),\n",
    "]\n",
    "for i in s:\n",
    "    print(student_to_string(i))"
   ]
  },
  {
   "cell_type": "markdown",
   "id": "c0b1fc78",
   "metadata": {},
   "source": [
    "클래스로 출력하기"
   ]
  },
  {
   "cell_type": "code",
   "execution_count": 231,
   "id": "43a45135",
   "metadata": {},
   "outputs": [],
   "source": [
    "class Student:\n",
    "    def __init__(self, name, kor, math, eng, sci):\n",
    "        self.name = name\n",
    "        self.kor = kor\n",
    "        self.math = math\n",
    "        self.eng = eng\n",
    "        self.sci = sci\n",
    "        \n",
    "    def get_sum(self):\n",
    "        return self.kor + self.math + self.eng + self.sci\n",
    "    \n",
    "    def get_average(self):\n",
    "        return self.get_sum() / 4\n",
    "    \n",
    "    def to_string(self):\n",
    "        return '{}\\t{}\\t{}'.format(self.name, self.get_sum(), self.get_average())"
   ]
  },
  {
   "cell_type": "code",
   "execution_count": 232,
   "id": "d024e7c3",
   "metadata": {},
   "outputs": [
    {
     "name": "stdout",
     "output_type": "stream",
     "text": [
      "윤인성\t299\t74.75\n",
      "박철순\t297\t74.25\n",
      "김민수\t299\t74.75\n",
      "김도현\t297\t74.25\n",
      "이민정\t319\t79.75\n",
      "유인태\t292\t73.0\n"
     ]
    }
   ],
   "source": [
    "students = [\n",
    "    Student('윤인성', 89, 87, 89, 34),\n",
    "    Student('박철순', 87, 87, 89, 34),\n",
    "    Student('김민수', 56, 87, 89, 67),\n",
    "    Student('김도현', 65, 87, 89, 56),\n",
    "    Student('이민정', 47, 87, 89, 96),\n",
    "    Student('유인태', 70, 87, 89, 46),\n",
    "]\n",
    "for s in students:\n",
    "    print(s.to_string())"
   ]
  },
  {
   "cell_type": "markdown",
   "id": "2e61fc8f",
   "metadata": {},
   "source": [
    "### 맹글링(mangling)"
   ]
  },
  {
   "cell_type": "code",
   "execution_count": 234,
   "id": "28740fe6",
   "metadata": {},
   "outputs": [],
   "source": [
    "# 은닉화\n",
    "# 클래스 내에서 변수의 값을 노출시키고 싶지 않을 때, 변수를 은닉화."
   ]
  },
  {
   "cell_type": "code",
   "execution_count": 246,
   "id": "91ef9549",
   "metadata": {},
   "outputs": [],
   "source": [
    "import math\n",
    "\n",
    "class Circle:\n",
    "    def __init__(self, radius):\n",
    "        # __변수명 : 외부에서 접근 금지, 클래스 내의 메소드에서만 접근이 가능\n",
    "        self.__radius = radius       \n",
    "    def get_circumference(self):\n",
    "        return 2 * math.pi * self.__radius\n",
    "    def get_area(self):\n",
    "        return math.pi * (self.__radius ** 2)\n",
    "    \n",
    "    \n",
    "    # 게터와 세터\n",
    "    # 게터 : 은닉된 변수의 값을 얻어올 수 있는 메서드\n",
    "    # 세터 : 은닉된 변수의 값을 수정할 수 있도록 하는 메서드\n",
    "\n",
    "    @property\n",
    "    def get_radius(self):\n",
    "        return self.__radius\n",
    "    \n",
    "    @get_radius.setter\n",
    "    def set_radius(self, value):\n",
    "        if value <= 0:\n",
    "            raise TypeError('길이는 양의 숫자이어야 합니다.')\n",
    "            \n",
    "        self.__radius = value"
   ]
  },
  {
   "cell_type": "code",
   "execution_count": 247,
   "id": "1f6dcc63",
   "metadata": {},
   "outputs": [],
   "source": [
    "cir = Circle(2)"
   ]
  },
  {
   "cell_type": "code",
   "execution_count": 248,
   "id": "8c004648",
   "metadata": {},
   "outputs": [
    {
     "data": {
      "text/plain": [
       "12.566370614359172"
      ]
     },
     "execution_count": 248,
     "metadata": {},
     "output_type": "execute_result"
    }
   ],
   "source": [
    "cir.get_circumference()"
   ]
  },
  {
   "cell_type": "code",
   "execution_count": 249,
   "id": "50c17ad0",
   "metadata": {},
   "outputs": [
    {
     "data": {
      "text/plain": [
       "12.566370614359172"
      ]
     },
     "execution_count": 249,
     "metadata": {},
     "output_type": "execute_result"
    }
   ],
   "source": [
    "cir.get_area()"
   ]
  },
  {
   "cell_type": "code",
   "execution_count": 250,
   "id": "48d1f95e",
   "metadata": {},
   "outputs": [
    {
     "ename": "AttributeError",
     "evalue": "type object 'Circle' has no attribute '__radius'",
     "output_type": "error",
     "traceback": [
      "\u001b[1;31m---------------------------------------------------------------------------\u001b[0m",
      "\u001b[1;31mAttributeError\u001b[0m                            Traceback (most recent call last)",
      "\u001b[1;32m~\\AppData\\Local\\Temp/ipykernel_6960/1204164446.py\u001b[0m in \u001b[0;36m<module>\u001b[1;34m\u001b[0m\n\u001b[1;32m----> 1\u001b[1;33m \u001b[0mCircle\u001b[0m\u001b[1;33m.\u001b[0m\u001b[0m__radius\u001b[0m\u001b[1;33m\u001b[0m\u001b[1;33m\u001b[0m\u001b[0m\n\u001b[0m",
      "\u001b[1;31mAttributeError\u001b[0m: type object 'Circle' has no attribute '__radius'"
     ]
    }
   ],
   "source": [
    "Circle.__radius  # 접근 불가"
   ]
  },
  {
   "cell_type": "code",
   "execution_count": 251,
   "id": "4fd9d2ca",
   "metadata": {},
   "outputs": [
    {
     "data": {
      "text/plain": [
       "2"
      ]
     },
     "execution_count": 251,
     "metadata": {},
     "output_type": "execute_result"
    }
   ],
   "source": [
    "cir.get_radius"
   ]
  },
  {
   "cell_type": "code",
   "execution_count": 252,
   "id": "da59df2c",
   "metadata": {},
   "outputs": [],
   "source": [
    "cir.set_radius = 10"
   ]
  },
  {
   "cell_type": "code",
   "execution_count": 253,
   "id": "ff45030e",
   "metadata": {},
   "outputs": [
    {
     "data": {
      "text/plain": [
       "10"
      ]
     },
     "execution_count": 253,
     "metadata": {},
     "output_type": "execute_result"
    }
   ],
   "source": [
    "cir.get_radius"
   ]
  },
  {
   "cell_type": "code",
   "execution_count": 254,
   "id": "5fb5c162",
   "metadata": {},
   "outputs": [
    {
     "data": {
      "text/plain": [
       "62.83185307179586"
      ]
     },
     "execution_count": 254,
     "metadata": {},
     "output_type": "execute_result"
    }
   ],
   "source": [
    "cir.get_circumference()"
   ]
  },
  {
   "cell_type": "code",
   "execution_count": 256,
   "id": "c8a07008",
   "metadata": {},
   "outputs": [
    {
     "data": {
      "text/plain": [
       "314.1592653589793"
      ]
     },
     "execution_count": 256,
     "metadata": {},
     "output_type": "execute_result"
    }
   ],
   "source": [
    "cir.get_area()"
   ]
  },
  {
   "cell_type": "code",
   "execution_count": null,
   "id": "0a50b5f5",
   "metadata": {},
   "outputs": [],
   "source": []
  }
 ],
 "metadata": {
  "kernelspec": {
   "display_name": "Python 3 (ipykernel)",
   "language": "python",
   "name": "python3"
  },
  "language_info": {
   "codemirror_mode": {
    "name": "ipython",
    "version": 3
   },
   "file_extension": ".py",
   "mimetype": "text/x-python",
   "name": "python",
   "nbconvert_exporter": "python",
   "pygments_lexer": "ipython3",
   "version": "3.9.7"
  }
 },
 "nbformat": 4,
 "nbformat_minor": 5
}
