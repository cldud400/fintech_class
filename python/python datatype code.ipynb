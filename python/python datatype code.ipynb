{
 "cells": [
  {
   "cell_type": "markdown",
   "id": "17649451",
   "metadata": {},
   "source": [
    "군집형 데이터 타입 - index(주소) - \\[ \\]   \n",
    "---\n",
    "___\n",
    "- string - 문자열, 원소의 수정, 삭제, 추가가 안됨   \n",
    "- list - 리스트, 원소의 수정, 삭제, 추가가 자유로움   \n",
    "- set - 집합, 중복데이터를 허용하지 않는다, 순서가 없음(index가 없음)   \n",
    "- tuple - 원소의 수정, 삭제, 추가가 안됨, 고정된 값을 표현, 데이터를 묶는 보조적 용도   \n",
    "- dictionary - 사전, 단어:뜻 => key:value = key가 인덱스 역할   "
   ]
  },
  {
   "cell_type": "code",
   "execution_count": null,
   "id": "1a1c3c63",
   "metadata": {},
   "outputs": [],
   "source": [
    "# String"
   ]
  },
  {
   "cell_type": "code",
   "execution_count": 7,
   "id": "e805da3f",
   "metadata": {},
   "outputs": [
    {
     "name": "stdout",
     "output_type": "stream",
     "text": [
      "ale\n",
      "A tale\n",
      "not\n",
      "1\n",
      "17\n",
      "25\n",
      "True\n"
     ]
    }
   ],
   "source": [
    "txt1 = 'A tale that was not right'"
   ]
  },
  {
   "cell_type": "code",
   "execution_count": 8,
   "id": "bf569e8b",
   "metadata": {},
   "outputs": [
    {
     "name": "stdout",
     "output_type": "stream",
     "text": [
      "ale\n"
     ]
    }
   ],
   "source": [
    "# 'ale' 이 출력..\n",
    "print(txt1[3:6])   # slicing"
   ]
  },
  {
   "cell_type": "code",
   "execution_count": 9,
   "id": "62bda5de",
   "metadata": {},
   "outputs": [
    {
     "name": "stdout",
     "output_type": "stream",
     "text": [
      "A tale\n"
     ]
    }
   ],
   "source": [
    "# 'A tale' 출력\n",
    "print(txt1[:6])"
   ]
  },
  {
   "cell_type": "code",
   "execution_count": 11,
   "id": "7f0899d2",
   "metadata": {},
   "outputs": [
    {
     "name": "stdout",
     "output_type": "stream",
     "text": [
      "not\n"
     ]
    }
   ],
   "source": [
    "# 'not' 출력\n",
    "print(txt1[-9:-6])"
   ]
  },
  {
   "cell_type": "code",
   "execution_count": 12,
   "id": "fb334352",
   "metadata": {},
   "outputs": [],
   "source": [
    "# txt1을 소문자 전환\n",
    "txt2 = txt1.lower()"
   ]
  },
  {
   "cell_type": "code",
   "execution_count": 13,
   "id": "f0d3b48c",
   "metadata": {},
   "outputs": [],
   "source": [
    "# txt1을 대문자 전환\n",
    "txt3 = txt2.upper()"
   ]
  },
  {
   "cell_type": "code",
   "execution_count": 14,
   "id": "4ec518c2",
   "metadata": {},
   "outputs": [
    {
     "name": "stdout",
     "output_type": "stream",
     "text": [
      "1\n"
     ]
    }
   ],
   "source": [
    "# 'o'가 몇 개 존재하는가?\n",
    "print(txt1.count('o'))"
   ]
  },
  {
   "cell_type": "code",
   "execution_count": 21,
   "id": "2c9af8af",
   "metadata": {},
   "outputs": [
    {
     "name": "stdout",
     "output_type": "stream",
     "text": [
      "17\n"
     ]
    }
   ],
   "source": [
    "# 'o'가 몇 번 인덱스에 존재하는가?\n",
    "print(txt1.find('o'))"
   ]
  },
  {
   "cell_type": "code",
   "execution_count": 22,
   "id": "d1ae75d3",
   "metadata": {},
   "outputs": [
    {
     "name": "stdout",
     "output_type": "stream",
     "text": [
      "17\n"
     ]
    }
   ],
   "source": [
    "print(txt1.index('o'))  # find와 index중 편한 것 사용"
   ]
  },
  {
   "cell_type": "code",
   "execution_count": 17,
   "id": "5ea78b00",
   "metadata": {},
   "outputs": [
    {
     "name": "stdout",
     "output_type": "stream",
     "text": [
      "25\n"
     ]
    }
   ],
   "source": [
    "# txt1의 길이는 어떻게 되는가?\n",
    "print(len(txt1))"
   ]
  },
  {
   "cell_type": "code",
   "execution_count": 31,
   "id": "b5d04fe7",
   "metadata": {},
   "outputs": [],
   "source": [
    "# space를 기준으로 나누어서 List에 담으세요..\n",
    "li = txt1.split()"
   ]
  },
  {
   "cell_type": "code",
   "execution_count": 32,
   "id": "ed546b8f",
   "metadata": {},
   "outputs": [],
   "source": [
    "# 'tale'을 'story'로 바꾸세요..\n",
    "txt4 = txt1.replace('tale','story')"
   ]
  },
  {
   "cell_type": "code",
   "execution_count": 33,
   "id": "798b8321",
   "metadata": {
    "scrolled": true
   },
   "outputs": [
    {
     "name": "stdout",
     "output_type": "stream",
     "text": [
      "True\n"
     ]
    }
   ],
   "source": [
    "# txt1 안에 'right'가 존재하는지 확인\n",
    "print('right' in txt1)"
   ]
  },
  {
   "cell_type": "code",
   "execution_count": null,
   "id": "b56caa61",
   "metadata": {},
   "outputs": [],
   "source": [
    "# List"
   ]
  },
  {
   "cell_type": "code",
   "execution_count": 13,
   "id": "9c3be278",
   "metadata": {},
   "outputs": [],
   "source": [
    "sol = ['태양','수성','금성','지구','화성','목성','지구']\n",
    "sol1 = ['토성','천황성','해왕성']\n",
    "planet = '지구'"
   ]
  },
  {
   "cell_type": "code",
   "execution_count": 58,
   "id": "f761b08e",
   "metadata": {},
   "outputs": [
    {
     "name": "stdout",
     "output_type": "stream",
     "text": [
      "['수성', '금성']\n"
     ]
    }
   ],
   "source": [
    "# 1. sol에서 ['수성','금성']을 출력\n",
    "print(sol[1:3])"
   ]
  },
  {
   "cell_type": "code",
   "execution_count": 59,
   "id": "207e7685",
   "metadata": {
    "scrolled": true
   },
   "outputs": [
    {
     "name": "stdout",
     "output_type": "stream",
     "text": [
      "3\n"
     ]
    }
   ],
   "source": [
    "# 2. sol에서 '지구' 위치 인덱스 출력\n",
    "print(sol.index('지구'))"
   ]
  },
  {
   "cell_type": "code",
   "execution_count": 60,
   "id": "94f8ed4c",
   "metadata": {},
   "outputs": [
    {
     "data": {
      "text/plain": [
       "['태양', '수성', '금성', '지구', '해왕성', '목성', '지구']"
      ]
     },
     "execution_count": 60,
     "metadata": {},
     "output_type": "execute_result"
    }
   ],
   "source": [
    "# 3. sol에서 '화성'을 '해왕성'으로 수정\n",
    "sol[-3] = '해왕성'\n",
    "sol"
   ]
  },
  {
   "cell_type": "code",
   "execution_count": 15,
   "id": "4951089c",
   "metadata": {},
   "outputs": [
    {
     "data": {
      "text/plain": [
       "['태양', '명왕성', '수성', '금성', '지구', '화성', '목성', '지구']"
      ]
     },
     "execution_count": 15,
     "metadata": {},
     "output_type": "execute_result"
    }
   ],
   "source": [
    "# 4. '수성'자리에 '명왕성' 삽입\n",
    "sol.insert(sol.index('수성'), '명왕성')\n",
    "sol"
   ]
  },
  {
   "cell_type": "code",
   "execution_count": 62,
   "id": "14d68cfd",
   "metadata": {},
   "outputs": [
    {
     "data": {
      "text/plain": [
       "['태양', '명왕성', '수성', '금성', '지구', '해왕성', '목성', '지구', '토성']"
      ]
     },
     "execution_count": 62,
     "metadata": {},
     "output_type": "execute_result"
    }
   ],
   "source": [
    "# 5. '토성'을 맨 끝에 삽입\n",
    "sol.append('토성')\n",
    "sol"
   ]
  },
  {
   "cell_type": "code",
   "execution_count": 63,
   "id": "1606e701",
   "metadata": {},
   "outputs": [
    {
     "name": "stdout",
     "output_type": "stream",
     "text": [
      "토성\n"
     ]
    },
    {
     "data": {
      "text/plain": [
       "['태양', '명왕성', '수성', '금성', '지구', '해왕성', '목성', '지구']"
      ]
     },
     "execution_count": 63,
     "metadata": {},
     "output_type": "execute_result"
    }
   ],
   "source": [
    "# 6. 맨 끝 요소를 삭제하고 리턴\n",
    "print(sol.pop())\n",
    "sol"
   ]
  },
  {
   "cell_type": "code",
   "execution_count": 17,
   "id": "61a2c39d",
   "metadata": {},
   "outputs": [
    {
     "data": {
      "text/plain": [
       "['태양', '명왕성', '수성', '지구', '화성', '목성', '지구']"
      ]
     },
     "execution_count": 17,
     "metadata": {},
     "output_type": "execute_result"
    }
   ],
   "source": [
    "# 7. '금성'을 제거\n",
    "# sol.remove('금성')\n",
    "sol.pop(sol.index('금성'))\n",
    "sol"
   ]
  },
  {
   "cell_type": "code",
   "execution_count": 65,
   "id": "ba67e5c4",
   "metadata": {},
   "outputs": [
    {
     "data": {
      "text/plain": [
       "['태양', '해왕성', '목성', '지구']"
      ]
     },
     "execution_count": 65,
     "metadata": {},
     "output_type": "execute_result"
    }
   ],
   "source": [
    "# 8. 1번 인덱스에서 3번 인덱스까지 삭제\n",
    "del sol[1:4]\n",
    "sol"
   ]
  },
  {
   "cell_type": "code",
   "execution_count": 66,
   "id": "3778ae7b",
   "metadata": {},
   "outputs": [
    {
     "data": {
      "text/plain": [
       "['태양', '해왕성', '지구']"
      ]
     },
     "execution_count": 66,
     "metadata": {},
     "output_type": "execute_result"
    }
   ],
   "source": [
    "# 9. 인덱스 2번 요소 삭제\n",
    "del sol[2]\n",
    "sol"
   ]
  },
  {
   "cell_type": "code",
   "execution_count": 67,
   "id": "1dcd2a92",
   "metadata": {},
   "outputs": [],
   "source": [
    "# 10. sol과 sol1을 합치세요\n",
    "sol = sol + sol1"
   ]
  },
  {
   "cell_type": "code",
   "execution_count": 68,
   "id": "7cfc8f74",
   "metadata": {},
   "outputs": [],
   "source": [
    "# 11. 내림차순 정렬\n",
    "# sol.sort(reverse=True)\n",
    "sorted(sol, reverse = True)"
   ]
  },
  {
   "cell_type": "code",
   "execution_count": 69,
   "id": "40843b2a",
   "metadata": {},
   "outputs": [],
   "source": [
    "# 12. 오름차순 정렬\n",
    "sol.sort()\n",
    "sorted(sol)"
   ]
  },
  {
   "cell_type": "code",
   "execution_count": 70,
   "id": "72e75fcb",
   "metadata": {},
   "outputs": [
    {
     "name": "stdout",
     "output_type": "stream",
     "text": [
      "False\n"
     ]
    }
   ],
   "source": [
    "# 13. '만리장성'이 있는지 확인\n",
    "print('만리장성' in sol)"
   ]
  },
  {
   "cell_type": "code",
   "execution_count": 75,
   "id": "8b325c9f",
   "metadata": {
    "scrolled": true
   },
   "outputs": [],
   "source": [
    "# 14. so1을 3번 반복하세요\n",
    "so1 = sol * 3"
   ]
  },
  {
   "cell_type": "code",
   "execution_count": 76,
   "id": "3c997c3f",
   "metadata": {},
   "outputs": [
    {
     "name": "stdout",
     "output_type": "stream",
     "text": [
      "6\n"
     ]
    }
   ],
   "source": [
    "# 15. 길이를 출력하세요\n",
    "print(len(sol))"
   ]
  },
  {
   "cell_type": "code",
   "execution_count": 77,
   "id": "60784bbd",
   "metadata": {},
   "outputs": [
    {
     "name": "stdout",
     "output_type": "stream",
     "text": [
      "1\n"
     ]
    }
   ],
   "source": [
    "# 16. '지구'가 몇 개 포함되어있는지 확인.\n",
    "print(sol.count('지구'))"
   ]
  },
  {
   "cell_type": "code",
   "execution_count": 83,
   "id": "42a43e04",
   "metadata": {},
   "outputs": [
    {
     "data": {
      "text/plain": [
       "[]"
      ]
     },
     "execution_count": 83,
     "metadata": {},
     "output_type": "execute_result"
    }
   ],
   "source": [
    "# 17. 모든 원소를 지우세요.\n",
    "# del sol[:]; print(sol)\n",
    "sol.clear()\n",
    "sol"
   ]
  },
  {
   "cell_type": "code",
   "execution_count": 84,
   "id": "7bb61858",
   "metadata": {
    "scrolled": true
   },
   "outputs": [
    {
     "ename": "NameError",
     "evalue": "name 'sol' is not defined",
     "output_type": "error",
     "traceback": [
      "\u001b[1;31m---------------------------------------------------------------------------\u001b[0m",
      "\u001b[1;31mNameError\u001b[0m                                 Traceback (most recent call last)",
      "\u001b[1;32m~\\AppData\\Local\\Temp/ipykernel_8988/708815970.py\u001b[0m in \u001b[0;36m<module>\u001b[1;34m\u001b[0m\n\u001b[0;32m      1\u001b[0m \u001b[1;31m# 18. sol리스트를 삭제하세요..\u001b[0m\u001b[1;33m\u001b[0m\u001b[1;33m\u001b[0m\u001b[0m\n\u001b[0;32m      2\u001b[0m \u001b[1;32mdel\u001b[0m \u001b[0msol\u001b[0m\u001b[1;33m\u001b[0m\u001b[1;33m\u001b[0m\u001b[0m\n\u001b[1;32m----> 3\u001b[1;33m \u001b[0msol\u001b[0m\u001b[1;33m\u001b[0m\u001b[1;33m\u001b[0m\u001b[0m\n\u001b[0m",
      "\u001b[1;31mNameError\u001b[0m: name 'sol' is not defined"
     ]
    }
   ],
   "source": [
    "# 18. sol리스트를 삭제하세요..\n",
    "del sol\n",
    "sol"
   ]
  },
  {
   "cell_type": "code",
   "execution_count": null,
   "id": "4f707376",
   "metadata": {},
   "outputs": [],
   "source": [
    "# Tuple - 원소 수정 안됨"
   ]
  },
  {
   "cell_type": "code",
   "execution_count": 85,
   "id": "963c8a38",
   "metadata": {},
   "outputs": [],
   "source": [
    "myTuple = ('tuple', (1,2,3) , [4,5,6,7,8] ,'7', '8', '9')"
   ]
  },
  {
   "cell_type": "code",
   "execution_count": 89,
   "id": "49433a08",
   "metadata": {},
   "outputs": [
    {
     "name": "stdout",
     "output_type": "stream",
     "text": [
      "tuple\n",
      "3\n",
      "[4, 5]\n",
      "[4, 5, 6]\n",
      "6\n",
      "True\n",
      "3\n",
      "1\n",
      "[4, 5, 6, 7, 8]\n",
      "8\n",
      "4\n",
      "30\n",
      "6.0\n",
      "[8, 7, 6, 5, 4]\n"
     ]
    }
   ],
   "source": [
    "# 'tuple'을 출력하세요\n",
    "print(myTuple[0])\n",
    "# 3을 출력하세요\n",
    "\n",
    "print(myTuple[1][2])\n",
    "\n",
    "# 4,5를 출력하세요\n",
    "# print(myTuple[2][0],myTuple[2][1], sep = ',')\n",
    "print(myTuple[2][:2])\n",
    "\n",
    "# [4,5,6]을 출력하세요\n",
    "print(myTuple[2][:3])\n",
    "\n",
    "# tuple의 길이를 리턴하세요 ( 요소의 갯수가 몇 개인지 )\n",
    "print(len(myTuple))\n",
    "\n",
    "# '7'이 있는지 확인하세요\n",
    "print('7' in myTuple)\n",
    "\n",
    "# '7'의 인덱스를 출력하세요.\n",
    "print(myTuple.index('7'))\n",
    "\n",
    "# '7'이 몇 개 있는지 확인하세요\n",
    "print(myTuple.count('7'))\n",
    "\n",
    "# 인데스 2번를 출력하세요\n",
    "print(myTuple[2])\n",
    "\n",
    "# 인데스 2번에서 최대값을 출력하세요\n",
    "print(max(myTuple[2]))\n",
    "\n",
    "# 인데스 2번에서 최소값을 출력하세요\n",
    "print(min(myTuple[2]))\n",
    "\n",
    "# 인데스 2번에서 총합을 출력하세요\n",
    "print(sum(myTuple[2]))\n",
    "\n",
    "# 인데스 2번에서 평균을 출력하세요\n",
    "import numpy as np\n",
    "print(np.mean(myTuple[2]))\n",
    "# print(sum(myTuple[2])/len(myTuple[2]))\n",
    "\n",
    "# 인데스 2번를 내림차순 정렬해서 출력하세요.\n",
    "print(sorted(myTuple[2], reverse=True))"
   ]
  },
  {
   "cell_type": "code",
   "execution_count": null,
   "id": "43bbc436",
   "metadata": {},
   "outputs": [],
   "source": [
    "# Set"
   ]
  },
  {
   "cell_type": "code",
   "execution_count": 99,
   "id": "fec4a7e8",
   "metadata": {},
   "outputs": [
    {
     "name": "stdout",
     "output_type": "stream",
     "text": [
      "{'sky', 'earth'}\n",
      "{1, 2, 'sky', 'earth'}\n",
      "{1, 2, 'earth'}\n",
      "{1, 2, 3}\n",
      "{4, 5, 6}\n",
      "{4, 5, 6, 7, 8, 9}\n",
      "True\n",
      "True\n",
      "6\n",
      "9\n",
      "1\n",
      "30\n",
      "5.0\n",
      "[9, 8, 7, 3, 2, 1]\n",
      "False\n"
     ]
    }
   ],
   "source": [
    "# 원소가 없는 set인 s를 만드세요\n",
    "s = set()\n",
    "\n",
    "# s에 원소'sky'와'earth'를 추가하세요\n",
    "s.add('sky'); s.add('earth'), print(s)\n",
    "\n",
    "# s에 1, 2 두 원소를 추가하세요\n",
    "# s.add(1); s.add(2), print(s)\n",
    "s.update({1,2})\n",
    "print(s)\n",
    "\n",
    "# s에서 'sky'를 삭제하세요\n",
    "s.remove('sky'); print(s)\n",
    "\n",
    "A = {1,2,3,4,5,6}\n",
    "B = {1,2,3,7,8,9}\n",
    "C = {1,2,3}\n",
    "\n",
    "# 두 집합의 합집합을 출력\n",
    "# print(A | B)\n",
    "A.union(B)\n",
    "\n",
    "# 두 집합의 교집합을 출력\n",
    "print(A & B)\n",
    "A.intersection(B)\n",
    "\n",
    "# A의 B에 대한 차집합\n",
    "print(A - B)\n",
    "A.difference(B)\n",
    "\n",
    "# 대칭차집합\n",
    "print(A ^ B)\n",
    "A.symmetric_difference(B)\n",
    "\n",
    "# C가 A의 부분집합인지 확인\n",
    "print(A > C)\n",
    "\n",
    "# A가 C를 포함하는지 확인\n",
    "print(C.issubset(A))\n",
    "\n",
    "# 집합 B의 길이를 출력\n",
    "print(len(B))\n",
    "\n",
    "# 집합 B의 최대값 출력\n",
    "print(max(B))\n",
    "\n",
    "# 집합 B의 최소값 출력\n",
    "print(min(B))\n",
    "\n",
    "# 집합 B의 합을 출력\n",
    "\n",
    "# 집합 B의 평균출력\n",
    "import numpy as np\n",
    "# print(sum(B)/len(B))\n",
    "print(np.mean(list(B)))\n",
    "\n",
    "# 집합 B의 내림차순 출력\n",
    "print(sorted(B, reverse=True))\n",
    "\n",
    "# 집합 B에 5가 포함되어 있는지 확인\n",
    "print(5 in B)"
   ]
  },
  {
   "cell_type": "code",
   "execution_count": 124,
   "id": "b4d693a5",
   "metadata": {},
   "outputs": [],
   "source": [
    "# Dictonary"
   ]
  },
  {
   "cell_type": "code",
   "execution_count": 1,
   "id": "28673007",
   "metadata": {},
   "outputs": [],
   "source": [
    "# 'mydict'라는 딕셔너리를 만드세요.\n",
    "mydict = dict()"
   ]
  },
  {
   "cell_type": "code",
   "execution_count": 2,
   "id": "75ea0691",
   "metadata": {},
   "outputs": [
    {
     "name": "stdout",
     "output_type": "stream",
     "text": [
      "{'red': 4, 'blue': 3, 'green': 1}\n",
      "{'red': 10, 'blue': 3, 'green': 1}\n"
     ]
    }
   ],
   "source": [
    "# 'red':4, 'blue':3, 'green':1 세 요소를 추가하세요.\n",
    "# 기존에 없는 키에 값을 넣으면 원소 추가\n",
    "mydict['red'], mydict['blue'], mydict['green'] = 4, 3, 1; print(mydict)\n",
    "\n",
    "# 기존에 있는 키에 값을 대입하면 덮어쓰기\n",
    "mydict['red'] = 10; print(mydict)"
   ]
  },
  {
   "cell_type": "code",
   "execution_count": 3,
   "id": "d29ba9c7",
   "metadata": {},
   "outputs": [
    {
     "name": "stdout",
     "output_type": "stream",
     "text": [
      "True\n"
     ]
    }
   ],
   "source": [
    "# key에 'blue'가 있는지 확인하세요.\n",
    "# print('blue' in mydict.keys())\n",
    "print('blue' in mydict)"
   ]
  },
  {
   "cell_type": "code",
   "execution_count": 4,
   "id": "1733f1c8",
   "metadata": {},
   "outputs": [
    {
     "name": "stdout",
     "output_type": "stream",
     "text": [
      "3\n"
     ]
    }
   ],
   "source": [
    "# mydict의 길이를 출력하세요.\n",
    "print(len(mydict))"
   ]
  },
  {
   "cell_type": "code",
   "execution_count": 5,
   "id": "06d82318",
   "metadata": {},
   "outputs": [
    {
     "name": "stdout",
     "output_type": "stream",
     "text": [
      "10\n"
     ]
    }
   ],
   "source": [
    "# 'red'의 값을 출력하세요.\n",
    "print(mydict['red'])"
   ]
  },
  {
   "cell_type": "code",
   "execution_count": 6,
   "id": "092b2023",
   "metadata": {},
   "outputs": [],
   "source": [
    "# 'red'의 값을 10으로 수정하세요.\n",
    "mydict['red'] = 10"
   ]
  },
  {
   "cell_type": "code",
   "execution_count": 7,
   "id": "47b0d3d4",
   "metadata": {},
   "outputs": [
    {
     "name": "stdout",
     "output_type": "stream",
     "text": [
      "dict_keys(['red', 'blue', 'green'])\n"
     ]
    }
   ],
   "source": [
    "# key값만 출력하세요\n",
    "print(mydict.keys())"
   ]
  },
  {
   "cell_type": "code",
   "execution_count": 8,
   "id": "7dc7361d",
   "metadata": {},
   "outputs": [
    {
     "name": "stdout",
     "output_type": "stream",
     "text": [
      "dict_values([10, 3, 1])\n"
     ]
    }
   ],
   "source": [
    "# value값만 출력하세요\n",
    "print(mydict.values())"
   ]
  },
  {
   "cell_type": "code",
   "execution_count": 9,
   "id": "030676e4",
   "metadata": {},
   "outputs": [
    {
     "name": "stdout",
     "output_type": "stream",
     "text": [
      "dict_items([('red', 10), ('blue', 3), ('green', 1)])\n"
     ]
    }
   ],
   "source": [
    "# key와 value를 튜플로 출력하세요.\n",
    "print(mydict.items())"
   ]
  },
  {
   "cell_type": "code",
   "execution_count": 10,
   "id": "17073596",
   "metadata": {},
   "outputs": [
    {
     "data": {
      "text/plain": [
       "[('blue', 3), ('green', 1), ('red', 10)]"
      ]
     },
     "execution_count": 10,
     "metadata": {},
     "output_type": "execute_result"
    }
   ],
   "source": [
    "# (key기준으로 정렬하세요.)\n",
    "sorted(mydict.items(), key =lambda x:x[0])"
   ]
  },
  {
   "cell_type": "code",
   "execution_count": 11,
   "id": "654f5fc0",
   "metadata": {},
   "outputs": [
    {
     "data": {
      "text/plain": [
       "[('green', 1), ('blue', 3), ('red', 10)]"
      ]
     },
     "execution_count": 11,
     "metadata": {},
     "output_type": "execute_result"
    }
   ],
   "source": [
    "# (value기준으로 정렬하세요)\n",
    "sorted(mydict.items(), key =lambda x:x[1])"
   ]
  },
  {
   "cell_type": "code",
   "execution_count": 12,
   "id": "5339d468",
   "metadata": {},
   "outputs": [
    {
     "data": {
      "text/plain": [
       "{'red': 10, 'green': 1}"
      ]
     },
     "execution_count": 12,
     "metadata": {},
     "output_type": "execute_result"
    }
   ],
   "source": [
    "# key 'blue'요소를 삭제하세요\n",
    "# del mydict['blue'];\n",
    "mydict.pop('blue')\n",
    "mydict"
   ]
  },
  {
   "cell_type": "code",
   "execution_count": 136,
   "id": "fc68253c",
   "metadata": {},
   "outputs": [
    {
     "name": "stdout",
     "output_type": "stream",
     "text": [
      "None\n"
     ]
    }
   ],
   "source": [
    "# key 'pink'요소 값을 출력하되 오류가 없도록 하세요\n",
    "# 없는 key를 요청 시 에러를 발생시키지 않는다.\n",
    "# dict.setdefault('key', value) - key가 존재하면 value를 리턴\n",
    "#                                       없는 key라면 (key,value) 원소를 추가\n",
    "print(mydict.get('pink'))"
   ]
  },
  {
   "cell_type": "code",
   "execution_count": 139,
   "id": "dcbe308c",
   "metadata": {},
   "outputs": [
    {
     "data": {
      "text/plain": [
       "100"
      ]
     },
     "execution_count": 139,
     "metadata": {},
     "output_type": "execute_result"
    }
   ],
   "source": [
    "mydict.setdefault('red',10)\n",
    "mydict.setdefault('pink',100)"
   ]
  },
  {
   "cell_type": "code",
   "execution_count": 141,
   "id": "195c2d80",
   "metadata": {},
   "outputs": [],
   "source": [
    "# key 'pink' 값을 출력하되 없으면, value 20으로 새로이 추가하세요\n",
    "if not mydict.get('pink'):\n",
    "    mydict['pink'] = 20\n",
    "    print(mydict)"
   ]
  },
  {
   "cell_type": "code",
   "execution_count": 140,
   "id": "e2aba0c7",
   "metadata": {},
   "outputs": [
    {
     "name": "stdout",
     "output_type": "stream",
     "text": [
      "False\n"
     ]
    }
   ],
   "source": [
    "# value에 20이 있는지 확인하세요.\n",
    "print(20 in mydict.values())"
   ]
  },
  {
   "cell_type": "code",
   "execution_count": 142,
   "id": "3feec5a1",
   "metadata": {},
   "outputs": [],
   "source": [
    "# key는 'yellow'에 value는 30을 추가하세요.\n",
    "mydict['yellow'] = 30"
   ]
  },
  {
   "cell_type": "code",
   "execution_count": 145,
   "id": "1328b6ef",
   "metadata": {
    "scrolled": true
   },
   "outputs": [
    {
     "data": {
      "text/plain": [
       "{'red': 10,\n",
       " 'blue': 3,\n",
       " 'green': 1,\n",
       " 'pink': 100,\n",
       " 'yellow': 30,\n",
       " '파랑': 50,\n",
       " '빨강': 70}"
      ]
     },
     "execution_count": 145,
     "metadata": {},
     "output_type": "execute_result"
    }
   ],
   "source": [
    "# # yourdict = {'파랑':50, '빨강':70}을 합하세요..\n",
    "yourdict = {'파랑':50, '빨강':70}\n",
    "mydict.update(yourdict)\n",
    "mydict"
   ]
  },
  {
   "cell_type": "code",
   "execution_count": 27,
   "id": "17218dbf",
   "metadata": {},
   "outputs": [
    {
     "data": {
      "text/plain": [
       "True"
      ]
     },
     "execution_count": 27,
     "metadata": {},
     "output_type": "execute_result"
    }
   ],
   "source": [
    "A = {1,2,3,4,5,6,7}\n",
    "B = {4,5,6,7,8,9,10}\n",
    "C = {1,2,3}\n",
    "A > C"
   ]
  },
  {
   "cell_type": "code",
   "execution_count": null,
   "id": "4c72b813",
   "metadata": {},
   "outputs": [],
   "source": []
  }
 ],
 "metadata": {
  "kernelspec": {
   "display_name": "Python 3 (ipykernel)",
   "language": "python",
   "name": "python3"
  },
  "language_info": {
   "codemirror_mode": {
    "name": "ipython",
    "version": 3
   },
   "file_extension": ".py",
   "mimetype": "text/x-python",
   "name": "python",
   "nbconvert_exporter": "python",
   "pygments_lexer": "ipython3",
   "version": "3.9.7"
  }
 },
 "nbformat": 4,
 "nbformat_minor": 5
}
