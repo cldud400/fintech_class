{
 "cells": [
  {
   "cell_type": "code",
   "execution_count": null,
   "id": "6fbb97c4",
   "metadata": {},
   "outputs": [],
   "source": [
    "# if"
   ]
  },
  {
   "cell_type": "code",
   "execution_count": null,
   "id": "6e7b8d66",
   "metadata": {},
   "outputs": [],
   "source": [
    "# 임의 정수(n)를 입력받은 후 0부터 n까지의 정수 중 짝수들의 합을 구하시오\n",
    "n = int(input('임의의 정수를 입력하세요: '))\n",
    "# sum_ = sum([i for i in range(0, n+1, 2))\n",
    "suma = 0\n",
    "for i in range(n+1):\n",
    "    if i % 2 == 0:\n",
    "        suma += i\n",
    "suma"
   ]
  },
  {
   "cell_type": "code",
   "execution_count": 8,
   "id": "0f3f0319",
   "metadata": {},
   "outputs": [
    {
     "name": "stdout",
     "output_type": "stream",
     "text": [
      "ban\n"
     ]
    },
    {
     "data": {
      "text/plain": [
       "{'mary': 1520, 'tom': 5214, 'park': 5478, 'sams': 5478, 'ban': 2000}"
      ]
     },
     "execution_count": 8,
     "metadata": {},
     "output_type": "execute_result"
    }
   ],
   "source": [
    "names = {'mary':1520, 'tom':5214, 'park':5478, 'sams':5478}\n",
    "name_input = input()\n",
    "if name_input not in names.keys():\n",
    "    names[name_input] = 2000\n",
    "else:\n",
    "    print(name[name_input])\n",
    "names"
   ]
  },
  {
   "cell_type": "code",
   "execution_count": 5,
   "id": "d8736cac",
   "metadata": {},
   "outputs": [
    {
     "name": "stdout",
     "output_type": "stream",
     "text": [
      "100\n",
      "당신은 'A'학점입니다\n"
     ]
    }
   ],
   "source": [
    "# 학점 출력.. 점수를 입력받은 후..\n",
    "num_ = int(input())\n",
    "# 90점 이상이면 \"당신은 'A'학점입니다\"를 출력\n",
    "if num_ >= 90:\n",
    "    print(\"당신은 'A'학점입니다\")\n",
    "# 80점 이상이면서 90점 미만이면 \"당신은 'B'학점입니다\"를 출력\n",
    "elif num_ >= 80:\n",
    "    print(\"당신은 'B'학점입니다\")\n",
    "# 70점 이상이면서 80점 미만이면 \"당신은 'C'학점입니다\"를 출력\n",
    "elif num_ >= 70:\n",
    "    print(\"당신은 'C'학점입니다\")\n",
    "# 70점 미만이면 \"당신은 D학점입니다\"를 출력\n",
    "else:\n",
    "    print(\"당신은 'D'학점입니다\")"
   ]
  },
  {
   "cell_type": "code",
   "execution_count": null,
   "id": "242d541a",
   "metadata": {},
   "outputs": [],
   "source": [
    "# for"
   ]
  },
  {
   "cell_type": "code",
   "execution_count": 11,
   "id": "dfeb4a26",
   "metadata": {},
   "outputs": [
    {
     "name": "stdout",
     "output_type": "stream",
     "text": [
      "O o 4\n",
      "I i 7\n",
      "U u 11\n"
     ]
    }
   ],
   "source": [
    "# text의 character를 모음만 대문자로 전환해서 출력하세요. 참고) 영어모음 = ‘aeiou’\n",
    "text = 'python is fun'\n",
    "for i in range(len(text)):\n",
    "    if text[i] in 'aeiou':\n",
    "        print(text[i].upper(), end = ' ')\n",
    "        print(text[i], i)"
   ]
  },
  {
   "cell_type": "code",
   "execution_count": 14,
   "id": "bc0e3157",
   "metadata": {},
   "outputs": [
    {
     "name": "stdout",
     "output_type": "stream",
     "text": [
      "0 p\n",
      "1 y\n",
      "2 t\n",
      "3 h\n",
      "4 o\n",
      "5 n\n",
      "6  \n",
      "7 i\n",
      "8 s\n",
      "9  \n",
      "10 f\n",
      "11 u\n",
      "12 n\n"
     ]
    }
   ],
   "source": [
    "# 위의 text의 문자를 index와 함께 출력하시오,\n",
    "text = 'python is fun'\n",
    "# for i in range(len(text)):\n",
    "#     print(text[i], i)\n",
    "for i, j in enumerate(text):\n",
    "    print(i, j)"
   ]
  },
  {
   "cell_type": "code",
   "execution_count": 15,
   "id": "cdb9b4d5",
   "metadata": {},
   "outputs": [],
   "source": [
    "# 1~20까지 수에서 짝수만 리스트에 담으세요.\n",
    "# => for문과 while문, list comprehension을 각각 활용\n",
    "for_ = []\n",
    "while_ = []\n",
    "list_comp = []\n",
    "for i in range(2,21,2):\n",
    "    for_.append(i)\n",
    "n = 1\n",
    "while n <= 20:\n",
    "    if n % 2 == 0:\n",
    "        while_.append(n)\n",
    "    n += 1\n",
    "list_comp = [i for i in range(2, n+1, 2)]"
   ]
  },
  {
   "cell_type": "code",
   "execution_count": 16,
   "id": "6aa9a2a8",
   "metadata": {},
   "outputs": [
    {
     "data": {
      "text/plain": [
       "[2, 4, 6, 8, 10, 12, 14, 16, 18, 20]"
      ]
     },
     "execution_count": 16,
     "metadata": {},
     "output_type": "execute_result"
    }
   ],
   "source": [
    "even_list = []\n",
    "for i in range(1,21):\n",
    "    if i%2 == 0:\n",
    "        even_list.append(i)\n",
    "even_list"
   ]
  },
  {
   "cell_type": "code",
   "execution_count": 22,
   "id": "ece313a0",
   "metadata": {},
   "outputs": [
    {
     "data": {
      "text/plain": [
       "[2, 4, 6, 8, 10, 12, 14, 16, 18, 20]"
      ]
     },
     "execution_count": 22,
     "metadata": {},
     "output_type": "execute_result"
    }
   ],
   "source": [
    "even_list = []\n",
    "cnt = 1\n",
    "while cnt <= 20:\n",
    "    if cnt % 2 == 0:\n",
    "        even_list.append(cnt)\n",
    "    cnt += 1\n",
    "even_list"
   ]
  },
  {
   "cell_type": "code",
   "execution_count": 23,
   "id": "b8ff1ed3",
   "metadata": {},
   "outputs": [
    {
     "data": {
      "text/plain": [
       "[2, 4, 6, 8, 10, 12, 14, 16, 18, 20]"
      ]
     },
     "execution_count": 23,
     "metadata": {},
     "output_type": "execute_result"
    }
   ],
   "source": [
    "even_list = [i for i in range(1, 21) if i%2 == 0]\n",
    "even_list"
   ]
  },
  {
   "cell_type": "code",
   "execution_count": 27,
   "id": "7d5e766f",
   "metadata": {},
   "outputs": [
    {
     "name": "stdout",
     "output_type": "stream",
     "text": [
      "3\n",
      "4\n",
      "5\n",
      "6\n"
     ]
    }
   ],
   "source": [
    "# 1~10까지 정수를 출력하는 while문에서 continue와 break를 이용해서 3,4,5,6만 출력하도록 하시오.\n",
    "while True:\n",
    "    for i in range(1, 11):\n",
    "        if i in [1,2,7,8,9,10]:\n",
    "            continue\n",
    "        print(i)\n",
    "    break"
   ]
  },
  {
   "cell_type": "code",
   "execution_count": 28,
   "id": "96079c64",
   "metadata": {},
   "outputs": [
    {
     "name": "stdout",
     "output_type": "stream",
     "text": [
      "3\n",
      "4\n",
      "5\n",
      "6\n"
     ]
    }
   ],
   "source": [
    "cnt = 0\n",
    "while cnt < 10:\n",
    "    \n",
    "    cnt += 1\n",
    "    if cnt < 3:\n",
    "        continue\n",
    "    if cnt > 6:\n",
    "        break\n",
    "    print(cnt)\n"
   ]
  },
  {
   "cell_type": "code",
   "execution_count": 29,
   "id": "1720eab4",
   "metadata": {},
   "outputs": [
    {
     "name": "stdout",
     "output_type": "stream",
     "text": [
      "[('a', '가'), ('a', '나'), ('a', '다'), ('a', '라'), ('a', '마'), ('b', '가'), ('b', '나'), ('b', '다'), ('b', '라'), ('b', '마'), ('c', '가'), ('c', '나'), ('c', '다'), ('c', '라'), ('c', '마'), ('d', '가'), ('d', '나'), ('d', '다'), ('d', '라'), ('d', '마'), ('e', '가'), ('e', '나'), ('e', '다'), ('e', '라'), ('e', '마')]\n"
     ]
    }
   ],
   "source": [
    "# x = ['a','b','c','d','e'], y = ['가','나','다','라','마'] 두 리스트의 원소들의 모든 조합을 아래와 같이 출력하시오. =>\n",
    "# [('a','가'), ('a','나'), ('a', '다') ... ('e','라'), ('e', '마')]\n",
    "x = ['a','b','c','d','e']; y = ['가','나','다','라','마']\n",
    "li = []\n",
    "for i in range(len(x)):\n",
    "    for j in range(len(y)):\n",
    "        li.append((x[i],y[j]))\n",
    "print(li)"
   ]
  },
  {
   "cell_type": "code",
   "execution_count": 30,
   "id": "1c3a948f",
   "metadata": {},
   "outputs": [
    {
     "data": {
      "text/plain": [
       "[('a', '가'), ('b', '나'), ('c', '다'), ('d', '라'), ('e', '마')]"
      ]
     },
     "execution_count": 30,
     "metadata": {},
     "output_type": "execute_result"
    }
   ],
   "source": [
    "L = []\n",
    "for i in zip(x,y):\n",
    "    L.append(i)\n",
    "L"
   ]
  },
  {
   "cell_type": "code",
   "execution_count": 32,
   "id": "aa983ad7",
   "metadata": {},
   "outputs": [
    {
     "data": {
      "text/plain": [
       "['o', 'p', 't', 't', 'o', 'a', ' ', 'h', 'n', 'i', 'g']"
      ]
     },
     "execution_count": 32,
     "metadata": {},
     "output_type": "execute_result"
    }
   ],
   "source": [
    "# computational thinking에서 홀수인덱스만 리스트에 담으세요..\n",
    "text = \"computational thinking\"\n",
    "li = []\n",
    "for i in range(1,len(text),2):\n",
    "    li.append(text[i])\n",
    "li"
   ]
  },
  {
   "cell_type": "code",
   "execution_count": 33,
   "id": "75464071",
   "metadata": {},
   "outputs": [
    {
     "name": "stdout",
     "output_type": "stream",
     "text": [
      "1\n",
      "2\n",
      "3\n",
      "4\n",
      "5\n",
      "3.0\n"
     ]
    }
   ],
   "source": [
    "# 점수를 5회 입력받은 후 평균을 출력하세요.\n",
    "scores = []\n",
    "for _ in range(5):\n",
    "    scores.append(int(input()))\n",
    "print(sum(scores)/5)"
   ]
  },
  {
   "cell_type": "code",
   "execution_count": 36,
   "id": "65267ed1",
   "metadata": {},
   "outputs": [
    {
     "name": "stdout",
     "output_type": "stream",
     "text": [
      "점수를 입력하세요: 1\n",
      "점수를 입력하세요: 2\n",
      "점수를 입력하세요: 3\n",
      "점수를 입력하세요: 4\n",
      "점수를 입력하세요: 5\n"
     ]
    },
    {
     "data": {
      "text/plain": [
       "3.0"
      ]
     },
     "execution_count": 36,
     "metadata": {},
     "output_type": "execute_result"
    }
   ],
   "source": [
    "cnt = 0\n",
    "score_sum = 0\n",
    "while cnt < 5:\n",
    "    score = int(input('점수를 입력하세요: '))\n",
    "    score_sum += score\n",
    "    cnt += 1\n",
    "score_sum/5"
   ]
  },
  {
   "cell_type": "code",
   "execution_count": 37,
   "id": "e5a273bf",
   "metadata": {},
   "outputs": [
    {
     "name": "stdout",
     "output_type": "stream",
     "text": [
      "(0, 'h'),(1, 'e'),(2, 'l'),(3, 'l'),(4, 'o'),(5, ' '),(6, 'w'),(7, 'o'),(8, 'r'),(9, 'l'),(10, 'd')\n"
     ]
    }
   ],
   "source": [
    "# for\n",
    "# text = 'hello world'에서 각 문자를 인덱스와 함께 튜플로 묶어서 출력\n",
    "text = 'hello world'\n",
    "li = []\n",
    "for i, v in enumerate(text):\n",
    "    li.append((i,v))\n",
    "    if i == len(text)-1:\n",
    "        print(li[i])\n",
    "    else:\n",
    "        print(li[i], end = ',')"
   ]
  },
  {
   "cell_type": "code",
   "execution_count": 49,
   "id": "4976359b",
   "metadata": {},
   "outputs": [
    {
     "name": "stdout",
     "output_type": "stream",
     "text": [
      "1*1=1    2*1=2    3*1=3    4*1=4    5*1=5    6*1=6    7*1=7    8*1=8    9*1=9    \n",
      "1*2=2    2*2=4    3*2=6    4*2=8    5*2=10   6*2=12   7*2=14   8*2=16   9*2=18   \n",
      "1*3=3    2*3=6    3*3=9    4*3=12   5*3=15   6*3=18   7*3=21   8*3=24   9*3=27   \n",
      "1*4=4    2*4=8    3*4=12   4*4=16   5*4=20   6*4=24   7*4=28   8*4=32   9*4=36   \n",
      "1*5=5    2*5=10   3*5=15   4*5=20   5*5=25   6*5=30   7*5=35   8*5=40   9*5=45   \n",
      "1*6=6    2*6=12   3*6=18   4*6=24   5*6=30   6*6=36   7*6=42   8*6=48   9*6=54   \n",
      "1*7=7    2*7=14   3*7=21   4*7=28   5*7=35   6*7=42   7*7=49   8*7=56   9*7=63   \n",
      "1*8=8    2*8=16   3*8=24   4*8=32   5*8=40   6*8=48   7*8=56   8*8=64   9*8=72   \n",
      "1*9=9    2*9=18   3*9=27   4*9=36   5*9=45   6*9=54   7*9=63   8*9=72   9*9=81   \n"
     ]
    }
   ],
   "source": [
    "# 구구단을 출력하시오...\n",
    "for i in range(1, 10):\n",
    "    for j in range(1, 10):\n",
    "#         print(f'{i} * {j} = {i*j}')\n",
    "        print('{0}*{1}={2:<2}'.format(j, i, i*j), end = '   ')\n",
    "    print()"
   ]
  },
  {
   "cell_type": "code",
   "execution_count": null,
   "id": "ceb3ff1f",
   "metadata": {},
   "outputs": [],
   "source": []
  }
 ],
 "metadata": {
  "kernelspec": {
   "display_name": "Python 3 (ipykernel)",
   "language": "python",
   "name": "python3"
  },
  "language_info": {
   "codemirror_mode": {
    "name": "ipython",
    "version": 3
   },
   "file_extension": ".py",
   "mimetype": "text/x-python",
   "name": "python",
   "nbconvert_exporter": "python",
   "pygments_lexer": "ipython3",
   "version": "3.9.7"
  }
 },
 "nbformat": 4,
 "nbformat_minor": 5
}
