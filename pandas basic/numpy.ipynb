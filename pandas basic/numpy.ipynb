{
 "cells": [
  {
   "cell_type": "code",
   "execution_count": 1,
   "id": "5f19047f",
   "metadata": {},
   "outputs": [],
   "source": [
    "import numpy as np"
   ]
  },
  {
   "cell_type": "code",
   "execution_count": 2,
   "id": "c22c592b",
   "metadata": {},
   "outputs": [],
   "source": [
    "# numpy\n",
    "# 공학, 수학 대수학을 처리하는 용도로 사용\n",
    "# scalar, vector, matrix, tensor"
   ]
  },
  {
   "cell_type": "markdown",
   "id": "e31ca091",
   "metadata": {},
   "source": [
    "# array\n",
    "---\n",
    "리스트와 거의 비슷하다"
   ]
  },
  {
   "cell_type": "code",
   "execution_count": 9,
   "id": "38b0f741",
   "metadata": {},
   "outputs": [
    {
     "data": {
      "text/plain": [
       "array([1, 4, 5, 7])"
      ]
     },
     "execution_count": 9,
     "metadata": {},
     "output_type": "execute_result"
    }
   ],
   "source": [
    "# list : [1,2,4,'a','b']\n",
    "# string : 'hello python'\n",
    "\n",
    "L = [1,4,5,7]\n",
    "\n",
    "test_arr = np.array(L)        # 리스트와 유사하다\n",
    "test_arr"
   ]
  },
  {
   "cell_type": "code",
   "execution_count": 10,
   "id": "750052a2",
   "metadata": {},
   "outputs": [
    {
     "data": {
      "text/plain": [
       "4"
      ]
     },
     "execution_count": 10,
     "metadata": {},
     "output_type": "execute_result"
    }
   ],
   "source": [
    "test_arr[1]        # indexing"
   ]
  },
  {
   "cell_type": "code",
   "execution_count": 14,
   "id": "e6fb793e",
   "metadata": {},
   "outputs": [
    {
     "data": {
      "text/plain": [
       "array([4, 5])"
      ]
     },
     "execution_count": 14,
     "metadata": {},
     "output_type": "execute_result"
    }
   ],
   "source": [
    "test_arr[1:3]      # slicing"
   ]
  },
  {
   "cell_type": "code",
   "execution_count": 15,
   "id": "bcd2b4b5",
   "metadata": {},
   "outputs": [
    {
     "data": {
      "text/plain": [
       "numpy.ndarray"
      ]
     },
     "execution_count": 15,
     "metadata": {},
     "output_type": "execute_result"
    }
   ],
   "source": [
    "type(test_arr)"
   ]
  },
  {
   "cell_type": "code",
   "execution_count": 17,
   "id": "3464e8cc",
   "metadata": {},
   "outputs": [
    {
     "data": {
      "text/plain": [
       "(4,)"
      ]
     },
     "execution_count": 17,
     "metadata": {},
     "output_type": "execute_result"
    }
   ],
   "source": [
    "test_arr.shape      # 원소가 4개인 1차원 array"
   ]
  },
  {
   "cell_type": "code",
   "execution_count": 20,
   "id": "79ff9e06",
   "metadata": {},
   "outputs": [],
   "source": [
    "L = [1,2,3,'258']"
   ]
  },
  {
   "cell_type": "code",
   "execution_count": 21,
   "id": "c86ce061",
   "metadata": {},
   "outputs": [
    {
     "data": {
      "text/plain": [
       "array(['1', '2', '3', '258'], dtype='<U11')"
      ]
     },
     "execution_count": 21,
     "metadata": {},
     "output_type": "execute_result"
    }
   ],
   "source": [
    "np.array(L)        # 모든 원소가 동일한 데이터 타입으로 구성 => 연산 속도가 높다"
   ]
  },
  {
   "cell_type": "code",
   "execution_count": 25,
   "id": "88b3f2c2",
   "metadata": {},
   "outputs": [
    {
     "data": {
      "text/plain": [
       "array([1.  , 2.  , 4.  , 3.14])"
      ]
     },
     "execution_count": 25,
     "metadata": {},
     "output_type": "execute_result"
    }
   ],
   "source": [
    "L = [1, 2, 4, 3.14]     # 모든 원소가 실수형으로 바뀜\n",
    "np.array(L)"
   ]
  },
  {
   "cell_type": "code",
   "execution_count": 26,
   "id": "8d52ee36",
   "metadata": {},
   "outputs": [
    {
     "data": {
      "text/plain": [
       "[[1, 2, 4, 5], [4, 5, 6, 4], [8, 6, 4, 3]]"
      ]
     },
     "execution_count": 26,
     "metadata": {},
     "output_type": "execute_result"
    }
   ],
   "source": [
    "L = [[1,2,4,5],[4,5,6,4],[8,6,4,3]]\n",
    "L"
   ]
  },
  {
   "cell_type": "code",
   "execution_count": 28,
   "id": "5f84fbb1",
   "metadata": {},
   "outputs": [
    {
     "data": {
      "text/plain": [
       "array([[1, 2, 4, 5],\n",
       "       [4, 5, 6, 4],\n",
       "       [8, 6, 4, 3]])"
      ]
     },
     "execution_count": 28,
     "metadata": {},
     "output_type": "execute_result"
    }
   ],
   "source": [
    "np.array(L)         # matrix(행렬)"
   ]
  },
  {
   "cell_type": "code",
   "execution_count": 31,
   "id": "47dea179",
   "metadata": {},
   "outputs": [
    {
     "data": {
      "text/plain": [
       "(3, 4)"
      ]
     },
     "execution_count": 31,
     "metadata": {},
     "output_type": "execute_result"
    }
   ],
   "source": [
    "np.array(L).shape    # 2차원 matrix 3행 4열"
   ]
  },
  {
   "cell_type": "code",
   "execution_count": 32,
   "id": "e64e114d",
   "metadata": {},
   "outputs": [
    {
     "data": {
      "text/plain": [
       "2"
      ]
     },
     "execution_count": 32,
     "metadata": {},
     "output_type": "execute_result"
    }
   ],
   "source": [
    "np.array(L).ndim      # 2차원(dimension)"
   ]
  },
  {
   "cell_type": "code",
   "execution_count": 33,
   "id": "75d1b0eb",
   "metadata": {},
   "outputs": [
    {
     "data": {
      "text/plain": [
       "[[[1, 2, 4, 5], [4, 5, 6, 4], [8, 6, 4, 3]],\n",
       " [[1, 2, 4, 5], [4, 5, 6, 4], [8, 6, 4, 3]]]"
      ]
     },
     "execution_count": 33,
     "metadata": {},
     "output_type": "execute_result"
    }
   ],
   "source": [
    "t = [[[1,2,4,5],[4,5,6,4],[8,6,4,3]],\n",
    "     [[1,2,4,5],[4,5,6,4],[8,6,4,3]]]\n",
    "t"
   ]
  },
  {
   "cell_type": "code",
   "execution_count": 34,
   "id": "b4771ea9",
   "metadata": {},
   "outputs": [
    {
     "data": {
      "text/plain": [
       "array([[[1, 2, 4, 5],\n",
       "        [4, 5, 6, 4],\n",
       "        [8, 6, 4, 3]],\n",
       "\n",
       "       [[1, 2, 4, 5],\n",
       "        [4, 5, 6, 4],\n",
       "        [8, 6, 4, 3]]])"
      ]
     },
     "execution_count": 34,
     "metadata": {},
     "output_type": "execute_result"
    }
   ],
   "source": [
    "np.array(t)"
   ]
  },
  {
   "cell_type": "code",
   "execution_count": 35,
   "id": "d267e62d",
   "metadata": {},
   "outputs": [
    {
     "data": {
      "text/plain": [
       "(2, 3, 4)"
      ]
     },
     "execution_count": 35,
     "metadata": {},
     "output_type": "execute_result"
    }
   ],
   "source": [
    "np.array(t).shape          # 3차원 tensor   3행 4열 리스트가 2개있는 3차원 리스트"
   ]
  },
  {
   "cell_type": "code",
   "execution_count": 37,
   "id": "9e2aa129",
   "metadata": {},
   "outputs": [
    {
     "data": {
      "text/plain": [
       "3"
      ]
     },
     "execution_count": 37,
     "metadata": {},
     "output_type": "execute_result"
    }
   ],
   "source": [
    "np.array(t).ndim"
   ]
  },
  {
   "cell_type": "code",
   "execution_count": 38,
   "id": "a905121b",
   "metadata": {},
   "outputs": [],
   "source": [
    "# reshape"
   ]
  },
  {
   "cell_type": "code",
   "execution_count": 40,
   "id": "8bed4e38",
   "metadata": {},
   "outputs": [
    {
     "data": {
      "text/plain": [
       "[[1, 2, 4, 5], [4, 5, 6, 4]]"
      ]
     },
     "execution_count": 40,
     "metadata": {},
     "output_type": "execute_result"
    }
   ],
   "source": [
    "L = [[1,2,4,5], [4,5,6,4]]\n",
    "L"
   ]
  },
  {
   "cell_type": "code",
   "execution_count": 41,
   "id": "53d14908",
   "metadata": {},
   "outputs": [
    {
     "data": {
      "text/plain": [
       "array([[1, 2, 4, 5],\n",
       "       [4, 5, 6, 4]])"
      ]
     },
     "execution_count": 41,
     "metadata": {},
     "output_type": "execute_result"
    }
   ],
   "source": [
    "test_mat = np.array(L)\n",
    "test_mat"
   ]
  },
  {
   "cell_type": "code",
   "execution_count": 42,
   "id": "d6893e56",
   "metadata": {},
   "outputs": [
    {
     "data": {
      "text/plain": [
       "(2, 4)"
      ]
     },
     "execution_count": 42,
     "metadata": {},
     "output_type": "execute_result"
    }
   ],
   "source": [
    "test_mat.shape"
   ]
  },
  {
   "cell_type": "code",
   "execution_count": 43,
   "id": "85a94210",
   "metadata": {},
   "outputs": [
    {
     "data": {
      "text/plain": [
       "array([[1, 2],\n",
       "       [4, 5],\n",
       "       [4, 5],\n",
       "       [6, 4]])"
      ]
     },
     "execution_count": 43,
     "metadata": {},
     "output_type": "execute_result"
    }
   ],
   "source": [
    "test_mat.reshape(4,2)     # matrix"
   ]
  },
  {
   "cell_type": "code",
   "execution_count": 44,
   "id": "acd1126f",
   "metadata": {},
   "outputs": [
    {
     "data": {
      "text/plain": [
       "array([1, 2, 4, 5, 4, 5, 6, 4])"
      ]
     },
     "execution_count": 44,
     "metadata": {},
     "output_type": "execute_result"
    }
   ],
   "source": [
    "test_mat.reshape(8)      # 1차원(vector)으로 변경 가능"
   ]
  },
  {
   "cell_type": "code",
   "execution_count": 47,
   "id": "6490b141",
   "metadata": {},
   "outputs": [
    {
     "data": {
      "text/plain": [
       "array([[[1, 2],\n",
       "        [4, 5]],\n",
       "\n",
       "       [[4, 5],\n",
       "        [6, 4]]])"
      ]
     },
     "execution_count": 47,
     "metadata": {},
     "output_type": "execute_result"
    }
   ],
   "source": [
    "test_mat.reshape(2,2,2)    # 3차원(tensor)으로 변경 가능"
   ]
  },
  {
   "cell_type": "code",
   "execution_count": 49,
   "id": "499567b9",
   "metadata": {},
   "outputs": [
    {
     "ename": "ValueError",
     "evalue": "cannot reshape array of size 8 into shape (4,3)",
     "output_type": "error",
     "traceback": [
      "\u001b[1;31m---------------------------------------------------------------------------\u001b[0m",
      "\u001b[1;31mValueError\u001b[0m                                Traceback (most recent call last)",
      "\u001b[1;32m~\\AppData\\Local\\Temp/ipykernel_13432/3695699710.py\u001b[0m in \u001b[0;36m<module>\u001b[1;34m\u001b[0m\n\u001b[1;32m----> 1\u001b[1;33m \u001b[0mtest_mat\u001b[0m\u001b[1;33m.\u001b[0m\u001b[0mreshape\u001b[0m\u001b[1;33m(\u001b[0m\u001b[1;36m4\u001b[0m\u001b[1;33m,\u001b[0m\u001b[1;36m3\u001b[0m\u001b[1;33m)\u001b[0m      \u001b[1;31m# 단, 원소의 개수는 맞춰줘야한다\u001b[0m\u001b[1;33m\u001b[0m\u001b[1;33m\u001b[0m\u001b[0m\n\u001b[0m",
      "\u001b[1;31mValueError\u001b[0m: cannot reshape array of size 8 into shape (4,3)"
     ]
    }
   ],
   "source": [
    "test_mat.reshape(4,3)      # 단, 원소의 개수는 맞춰줘야한다"
   ]
  },
  {
   "cell_type": "code",
   "execution_count": 50,
   "id": "f469c69e",
   "metadata": {},
   "outputs": [],
   "source": [
    "# np.array() : array로 형변환, datatype를 지정할 수 있다."
   ]
  },
  {
   "cell_type": "code",
   "execution_count": 51,
   "id": "d29aca37",
   "metadata": {},
   "outputs": [
    {
     "data": {
      "text/plain": [
       "array([[1., 2., 4., 5.],\n",
       "       [4., 5., 6., 4.]])"
      ]
     },
     "execution_count": 51,
     "metadata": {},
     "output_type": "execute_result"
    }
   ],
   "source": [
    "L = [[1,2,4,5], [4,5,6,4]]\n",
    "np.array(L, float)"
   ]
  },
  {
   "cell_type": "code",
   "execution_count": 52,
   "id": "d030a624",
   "metadata": {},
   "outputs": [
    {
     "data": {
      "text/plain": [
       "array([['1', '2', '4', '5'],\n",
       "       ['4', '5', '6', '4']], dtype='<U1')"
      ]
     },
     "execution_count": 52,
     "metadata": {},
     "output_type": "execute_result"
    }
   ],
   "source": [
    "L = [[1,2,4,5], [4,5,6,4]]\n",
    "np.array(L, str)"
   ]
  },
  {
   "cell_type": "code",
   "execution_count": 53,
   "id": "f74a5db8",
   "metadata": {},
   "outputs": [],
   "source": [
    "# indexing"
   ]
  },
  {
   "cell_type": "code",
   "execution_count": 54,
   "id": "140f9780",
   "metadata": {},
   "outputs": [
    {
     "data": {
      "text/plain": [
       "array([[1, 2, 4, 5],\n",
       "       [4, 5, 6, 4]])"
      ]
     },
     "execution_count": 54,
     "metadata": {},
     "output_type": "execute_result"
    }
   ],
   "source": [
    "tm = np.array(L)\n",
    "tm"
   ]
  },
  {
   "cell_type": "code",
   "execution_count": 56,
   "id": "c891d4b7",
   "metadata": {},
   "outputs": [],
   "source": [
    "# arr[row_index, col_index]"
   ]
  },
  {
   "cell_type": "code",
   "execution_count": 57,
   "id": "d1da3f49",
   "metadata": {},
   "outputs": [
    {
     "data": {
      "text/plain": [
       "6"
      ]
     },
     "execution_count": 57,
     "metadata": {},
     "output_type": "execute_result"
    }
   ],
   "source": [
    "tm[1,2]"
   ]
  },
  {
   "cell_type": "code",
   "execution_count": 58,
   "id": "23cc0718",
   "metadata": {},
   "outputs": [
    {
     "data": {
      "text/plain": [
       "6"
      ]
     },
     "execution_count": 58,
     "metadata": {},
     "output_type": "execute_result"
    }
   ],
   "source": [
    "tm[1][2]"
   ]
  },
  {
   "cell_type": "code",
   "execution_count": 59,
   "id": "858ac3af",
   "metadata": {},
   "outputs": [
    {
     "data": {
      "text/plain": [
       "array([[ 1,  2, 10,  5],\n",
       "       [ 4,  5,  6,  4]])"
      ]
     },
     "execution_count": 59,
     "metadata": {},
     "output_type": "execute_result"
    }
   ],
   "source": [
    "tm[0,2] = 10\n",
    "tm"
   ]
  },
  {
   "cell_type": "code",
   "execution_count": 60,
   "id": "a769eed7",
   "metadata": {},
   "outputs": [
    {
     "data": {
      "text/plain": [
       "array([[ 1,  2,  3,  4,  5],\n",
       "       [ 6,  7,  8,  9, 10]])"
      ]
     },
     "execution_count": 60,
     "metadata": {},
     "output_type": "execute_result"
    }
   ],
   "source": [
    "tm = np.array([[1,2,3,4,5],[6,7,8,9,10]], int)\n",
    "tm"
   ]
  },
  {
   "cell_type": "code",
   "execution_count": 62,
   "id": "771d310e",
   "metadata": {},
   "outputs": [
    {
     "data": {
      "text/plain": [
       "8"
      ]
     },
     "execution_count": 62,
     "metadata": {},
     "output_type": "execute_result"
    }
   ],
   "source": [
    "tm[1,2]"
   ]
  },
  {
   "cell_type": "code",
   "execution_count": 63,
   "id": "4b224b50",
   "metadata": {},
   "outputs": [
    {
     "data": {
      "text/plain": [
       "array([2, 3])"
      ]
     },
     "execution_count": 63,
     "metadata": {},
     "output_type": "execute_result"
    }
   ],
   "source": [
    "tm[0,1:3]"
   ]
  },
  {
   "cell_type": "code",
   "execution_count": 64,
   "id": "30a7fa05",
   "metadata": {},
   "outputs": [
    {
     "data": {
      "text/plain": [
       "array([4, 9])"
      ]
     },
     "execution_count": 64,
     "metadata": {},
     "output_type": "execute_result"
    }
   ],
   "source": [
    "tm[:,3]"
   ]
  },
  {
   "cell_type": "code",
   "execution_count": 65,
   "id": "608b1edb",
   "metadata": {},
   "outputs": [
    {
     "data": {
      "text/plain": [
       "array([[ 4,  5],\n",
       "       [ 9, 10]])"
      ]
     },
     "execution_count": 65,
     "metadata": {},
     "output_type": "execute_result"
    }
   ],
   "source": [
    "tm[:,3:]"
   ]
  },
  {
   "cell_type": "code",
   "execution_count": 71,
   "id": "56d7e7ab",
   "metadata": {},
   "outputs": [
    {
     "data": {
      "text/plain": [
       "array([[2, 4],\n",
       "       [7, 9]])"
      ]
     },
     "execution_count": 71,
     "metadata": {},
     "output_type": "execute_result"
    }
   ],
   "source": [
    "tm[:,1:4:2]"
   ]
  },
  {
   "cell_type": "code",
   "execution_count": 72,
   "id": "41a4dd6f",
   "metadata": {},
   "outputs": [],
   "source": [
    "# arange"
   ]
  },
  {
   "cell_type": "code",
   "execution_count": 73,
   "id": "02abb8ef",
   "metadata": {},
   "outputs": [
    {
     "data": {
      "text/plain": [
       "[1, 2, 3, 4, 5, 6, 7, 8, 9, 10]"
      ]
     },
     "execution_count": 73,
     "metadata": {},
     "output_type": "execute_result"
    }
   ],
   "source": [
    "list(range(1,11))"
   ]
  },
  {
   "cell_type": "code",
   "execution_count": 75,
   "id": "1149ce80",
   "metadata": {},
   "outputs": [
    {
     "data": {
      "text/plain": [
       "[1, 2, 3, 4, 5, 6, 7, 8, 9, 10]"
      ]
     },
     "execution_count": 75,
     "metadata": {},
     "output_type": "execute_result"
    }
   ],
   "source": [
    "list(np.arange(1,11))"
   ]
  },
  {
   "cell_type": "code",
   "execution_count": 76,
   "id": "27390be4",
   "metadata": {},
   "outputs": [
    {
     "data": {
      "text/plain": [
       "[1, 3, 5, 7, 9]"
      ]
     },
     "execution_count": 76,
     "metadata": {},
     "output_type": "execute_result"
    }
   ],
   "source": [
    "list(range(1,11,2))"
   ]
  },
  {
   "cell_type": "code",
   "execution_count": 77,
   "id": "b0d9fcb8",
   "metadata": {},
   "outputs": [
    {
     "ename": "TypeError",
     "evalue": "'float' object cannot be interpreted as an integer",
     "output_type": "error",
     "traceback": [
      "\u001b[1;31m---------------------------------------------------------------------------\u001b[0m",
      "\u001b[1;31mTypeError\u001b[0m                                 Traceback (most recent call last)",
      "\u001b[1;32m~\\AppData\\Local\\Temp/ipykernel_13432/403654532.py\u001b[0m in \u001b[0;36m<module>\u001b[1;34m\u001b[0m\n\u001b[1;32m----> 1\u001b[1;33m \u001b[0mlist\u001b[0m\u001b[1;33m(\u001b[0m\u001b[0mrange\u001b[0m\u001b[1;33m(\u001b[0m\u001b[1;36m1\u001b[0m\u001b[1;33m,\u001b[0m\u001b[1;36m11\u001b[0m\u001b[1;33m,\u001b[0m\u001b[1;36m0.5\u001b[0m\u001b[1;33m)\u001b[0m\u001b[1;33m)\u001b[0m\u001b[1;33m\u001b[0m\u001b[1;33m\u001b[0m\u001b[0m\n\u001b[0m",
      "\u001b[1;31mTypeError\u001b[0m: 'float' object cannot be interpreted as an integer"
     ]
    }
   ],
   "source": [
    "list(range(1,11,0.5))"
   ]
  },
  {
   "cell_type": "code",
   "execution_count": 83,
   "id": "48c871f0",
   "metadata": {},
   "outputs": [
    {
     "name": "stdout",
     "output_type": "stream",
     "text": [
      "[1.0, 1.2, 1.4, 1.5999999999999999, 1.7999999999999998, 1.9999999999999998, 2.1999999999999997, 2.3999999999999995, 2.5999999999999996, 2.8, 2.9999999999999996, 3.1999999999999993, 3.3999999999999995, 3.5999999999999996, 3.7999999999999994, 3.999999999999999, 4.199999999999999, 4.3999999999999995, 4.6, 4.799999999999999, 4.999999999999999, 5.199999999999999, 5.399999999999999, 5.599999999999999, 5.799999999999999, 5.999999999999999, 6.199999999999999, 6.399999999999999, 6.599999999999999, 6.799999999999999, 6.999999999999998, 7.199999999999998, 7.399999999999999, 7.599999999999999, 7.799999999999999, 7.999999999999998, 8.2, 8.399999999999999, 8.599999999999998, 8.799999999999997, 8.999999999999998, 9.199999999999998, 9.399999999999999, 9.599999999999998, 9.799999999999997, 9.999999999999998, 10.199999999999998, 10.399999999999999, 10.599999999999998, 10.799999999999997]\n"
     ]
    }
   ],
   "source": [
    "print(list(np.arange(1,11,0.2)))    # arange를 사용하면 step를 정교하게 줄 수 있다."
   ]
  },
  {
   "cell_type": "code",
   "execution_count": 87,
   "id": "cb62b409",
   "metadata": {},
   "outputs": [
    {
     "name": "stdout",
     "output_type": "stream",
     "text": [
      "[1.0, 1.2, 1.4, 1.6, 1.8, 2.0, 2.2, 2.4, 2.6, 2.8, 3.0, 3.2, 3.4, 3.6, 3.8, 4.0, 4.2, 4.4, 4.6, 4.8, 5.0, 5.2, 5.4, 5.6, 5.8, 6.0, 6.2, 6.4, 6.6, 6.8, 7.0, 7.2, 7.4, 7.6, 7.8, 8.0, 8.2, 8.4, 8.6, 8.8, 9.0, 9.2, 9.4, 9.6, 9.8, 10.0, 10.2, 10.4, 10.6, 10.8]\n"
     ]
    }
   ],
   "source": [
    "print([round(i,2) for i in np.arange(1,11,0.2)])"
   ]
  },
  {
   "cell_type": "code",
   "execution_count": 88,
   "id": "875eeedc",
   "metadata": {},
   "outputs": [
    {
     "data": {
      "text/plain": [
       "array([[ 1,  2,  3,  4,  5],\n",
       "       [ 6,  7,  8,  9, 10],\n",
       "       [11, 12, 13, 14, 15],\n",
       "       [16, 17, 18, 19, 20]])"
      ]
     },
     "execution_count": 88,
     "metadata": {},
     "output_type": "execute_result"
    }
   ],
   "source": [
    "np.arange(1,21).reshape(4,5)"
   ]
  },
  {
   "cell_type": "markdown",
   "id": "11880505",
   "metadata": {},
   "source": [
    "## Operation"
   ]
  },
  {
   "cell_type": "code",
   "execution_count": 89,
   "id": "3fbdac81",
   "metadata": {},
   "outputs": [
    {
     "data": {
      "text/plain": [
       "array([[ 0,  1,  2,  3,  4,  5],\n",
       "       [ 6,  7,  8,  9, 10, 11],\n",
       "       [12, 13, 14, 15, 16, 17],\n",
       "       [18, 19, 20, 21, 22, 23],\n",
       "       [24, 25, 26, 27, 28, 29]])"
      ]
     },
     "execution_count": 89,
     "metadata": {},
     "output_type": "execute_result"
    }
   ],
   "source": [
    "tm = np.arange(30).reshape(5,6)\n",
    "tm"
   ]
  },
  {
   "cell_type": "code",
   "execution_count": 90,
   "id": "0d69fe91",
   "metadata": {},
   "outputs": [
    {
     "data": {
      "text/plain": [
       "435"
      ]
     },
     "execution_count": 90,
     "metadata": {},
     "output_type": "execute_result"
    }
   ],
   "source": [
    "tm.sum()"
   ]
  },
  {
   "cell_type": "code",
   "execution_count": 92,
   "id": "2c26f71e",
   "metadata": {},
   "outputs": [
    {
     "data": {
      "text/plain": [
       "14.5"
      ]
     },
     "execution_count": 92,
     "metadata": {},
     "output_type": "execute_result"
    }
   ],
   "source": [
    "tm.mean()"
   ]
  },
  {
   "cell_type": "code",
   "execution_count": 93,
   "id": "afa79eaa",
   "metadata": {},
   "outputs": [
    {
     "data": {
      "text/plain": [
       "array([60, 65, 70, 75, 80, 85])"
      ]
     },
     "execution_count": 93,
     "metadata": {},
     "output_type": "execute_result"
    }
   ],
   "source": [
    "tm.sum(axis=0)   # axis=0 : col끼리 연산(세로방향)"
   ]
  },
  {
   "cell_type": "code",
   "execution_count": 199,
   "id": "2705c95d",
   "metadata": {},
   "outputs": [
    {
     "data": {
      "text/plain": [
       "array([ 15,  51,  87, 123, 159])"
      ]
     },
     "execution_count": 199,
     "metadata": {},
     "output_type": "execute_result"
    }
   ],
   "source": [
    "tm.sum(axis=1)   # axis=1 : row끼리 연산(가로방향)"
   ]
  },
  {
   "cell_type": "code",
   "execution_count": 96,
   "id": "f555850e",
   "metadata": {},
   "outputs": [
    {
     "data": {
      "text/plain": [
       "array([24, 25, 26, 27, 28, 29])"
      ]
     },
     "execution_count": 96,
     "metadata": {},
     "output_type": "execute_result"
    }
   ],
   "source": [
    "tm.max(axis=0)"
   ]
  },
  {
   "cell_type": "code",
   "execution_count": 98,
   "id": "5656d930",
   "metadata": {},
   "outputs": [
    {
     "data": {
      "text/plain": [
       "array([ 2.5,  8.5, 14.5, 20.5, 26.5])"
      ]
     },
     "execution_count": 98,
     "metadata": {},
     "output_type": "execute_result"
    }
   ],
   "source": [
    "tm.mean(axis=1)"
   ]
  },
  {
   "cell_type": "code",
   "execution_count": 99,
   "id": "adea6b2c",
   "metadata": {},
   "outputs": [
    {
     "data": {
      "text/plain": [
       "array([ 0,  6, 12, 18, 24])"
      ]
     },
     "execution_count": 99,
     "metadata": {},
     "output_type": "execute_result"
    }
   ],
   "source": [
    "tm.min(axis=1)"
   ]
  },
  {
   "cell_type": "code",
   "execution_count": 101,
   "id": "86fcc546",
   "metadata": {},
   "outputs": [
    {
     "data": {
      "text/plain": [
       "array([8.48528137, 8.48528137, 8.48528137, 8.48528137, 8.48528137,\n",
       "       8.48528137])"
      ]
     },
     "execution_count": 101,
     "metadata": {},
     "output_type": "execute_result"
    }
   ],
   "source": [
    "tm.std(axis = 0)       # 표준편차"
   ]
  },
  {
   "cell_type": "markdown",
   "id": "60348d16",
   "metadata": {},
   "source": [
    "### element wise peration : 원소간의 연산"
   ]
  },
  {
   "cell_type": "code",
   "execution_count": 103,
   "id": "83c832ff",
   "metadata": {},
   "outputs": [],
   "source": [
    "arr_a = np.arange(6).reshape(2,3)\n",
    "arr_b = np.arange(6).reshape(2,3)"
   ]
  },
  {
   "cell_type": "code",
   "execution_count": 104,
   "id": "a23c0ddc",
   "metadata": {},
   "outputs": [
    {
     "data": {
      "text/plain": [
       "array([[0, 1, 2],\n",
       "       [3, 4, 5]])"
      ]
     },
     "execution_count": 104,
     "metadata": {},
     "output_type": "execute_result"
    }
   ],
   "source": [
    "arr_a"
   ]
  },
  {
   "cell_type": "code",
   "execution_count": 105,
   "id": "f2c8942d",
   "metadata": {},
   "outputs": [
    {
     "data": {
      "text/plain": [
       "array([[0, 1, 2],\n",
       "       [3, 4, 5]])"
      ]
     },
     "execution_count": 105,
     "metadata": {},
     "output_type": "execute_result"
    }
   ],
   "source": [
    "arr_b"
   ]
  },
  {
   "cell_type": "code",
   "execution_count": 107,
   "id": "d5f9d940",
   "metadata": {},
   "outputs": [
    {
     "data": {
      "text/plain": [
       "array([[ 0,  2,  4],\n",
       "       [ 6,  8, 10]])"
      ]
     },
     "execution_count": 107,
     "metadata": {},
     "output_type": "execute_result"
    }
   ],
   "source": [
    "arr_a + arr_b"
   ]
  },
  {
   "cell_type": "code",
   "execution_count": 108,
   "id": "d84f324b",
   "metadata": {},
   "outputs": [
    {
     "data": {
      "text/plain": [
       "array([[0, 0, 0],\n",
       "       [0, 0, 0]])"
      ]
     },
     "execution_count": 108,
     "metadata": {},
     "output_type": "execute_result"
    }
   ],
   "source": [
    "arr_a - arr_b"
   ]
  },
  {
   "cell_type": "markdown",
   "id": "f74e11fc",
   "metadata": {},
   "source": [
    "### Broadcasting\n",
    "---\n",
    "shape이 서로 다른 array간에 연산을 하는 경우, shape이 작은 array의 shape이 확장이 되어 element간에 연산을 하게 된다."
   ]
  },
  {
   "cell_type": "code",
   "execution_count": 113,
   "id": "4d326aeb",
   "metadata": {},
   "outputs": [
    {
     "data": {
      "text/plain": [
       "array([[10, 11, 12],\n",
       "       [13, 14, 15]])"
      ]
     },
     "execution_count": 113,
     "metadata": {},
     "output_type": "execute_result"
    }
   ],
   "source": [
    "arr_a + 10       # scalar가 2by3 matrix로 확장되어서 element wise 연산을 한다\n",
    "\n",
    "# arr_a + [[10,10,10], [10,10,10]]"
   ]
  },
  {
   "cell_type": "code",
   "execution_count": 114,
   "id": "822aac8e",
   "metadata": {},
   "outputs": [
    {
     "data": {
      "text/plain": [
       "array([[0, 1, 2],\n",
       "       [3, 4, 5]])"
      ]
     },
     "execution_count": 114,
     "metadata": {},
     "output_type": "execute_result"
    }
   ],
   "source": [
    "arr_a"
   ]
  },
  {
   "cell_type": "code",
   "execution_count": 115,
   "id": "fff5f83b",
   "metadata": {},
   "outputs": [
    {
     "data": {
      "text/plain": [
       "array([1, 2, 4])"
      ]
     },
     "execution_count": 115,
     "metadata": {},
     "output_type": "execute_result"
    }
   ],
   "source": [
    "arr_v = np.array([1,2,4])\n",
    "arr_v"
   ]
  },
  {
   "cell_type": "code",
   "execution_count": 116,
   "id": "6819ab7b",
   "metadata": {},
   "outputs": [
    {
     "data": {
      "text/plain": [
       "array([[1, 3, 6],\n",
       "       [4, 6, 9]])"
      ]
     },
     "execution_count": 116,
     "metadata": {},
     "output_type": "execute_result"
    }
   ],
   "source": [
    "arr_a + arr_v"
   ]
  },
  {
   "cell_type": "markdown",
   "id": "d84fb602",
   "metadata": {},
   "source": [
    "### Boolean Indexing\n",
    "---\n",
    "boolean array를 index로 하여 True에 해당하는 값만을 추출\n",
    "\n",
    "array의 길이와 boolean array의 길이가 같아야 한다"
   ]
  },
  {
   "cell_type": "code",
   "execution_count": 118,
   "id": "3f759592",
   "metadata": {},
   "outputs": [],
   "source": [
    "ta = np.array([1,4,5,6,3,5,6])"
   ]
  },
  {
   "cell_type": "code",
   "execution_count": 119,
   "id": "aa8d060a",
   "metadata": {},
   "outputs": [],
   "source": [
    "# ta에서 5 이상인 값만 출력"
   ]
  },
  {
   "cell_type": "code",
   "execution_count": 122,
   "id": "c15f5e5a",
   "metadata": {},
   "outputs": [
    {
     "data": {
      "text/plain": [
       "array([False, False,  True,  True, False,  True,  True])"
      ]
     },
     "execution_count": 122,
     "metadata": {},
     "output_type": "execute_result"
    }
   ],
   "source": [
    "ta >= 5 "
   ]
  },
  {
   "cell_type": "code",
   "execution_count": 126,
   "id": "bb65bac1",
   "metadata": {},
   "outputs": [
    {
     "data": {
      "text/plain": [
       "array([5, 6, 5, 6])"
      ]
     },
     "execution_count": 126,
     "metadata": {},
     "output_type": "execute_result"
    }
   ],
   "source": [
    "ta[ta >= 5]"
   ]
  },
  {
   "cell_type": "code",
   "execution_count": 127,
   "id": "2fdae149",
   "metadata": {},
   "outputs": [],
   "source": [
    "# ta에서 짝수만 출력하시요"
   ]
  },
  {
   "cell_type": "code",
   "execution_count": 128,
   "id": "f95073b1",
   "metadata": {},
   "outputs": [
    {
     "data": {
      "text/plain": [
       "array([4, 6, 6])"
      ]
     },
     "execution_count": 128,
     "metadata": {},
     "output_type": "execute_result"
    }
   ],
   "source": [
    "ta[ta % 2 == 0]"
   ]
  },
  {
   "cell_type": "code",
   "execution_count": 130,
   "id": "3b3f0ff9",
   "metadata": {},
   "outputs": [
    {
     "data": {
      "text/plain": [
       "array([4, 6, 6])"
      ]
     },
     "execution_count": 130,
     "metadata": {},
     "output_type": "execute_result"
    }
   ],
   "source": [
    "np.array(list(filter(lambda x : x % 2 == 0, ta)))"
   ]
  },
  {
   "cell_type": "code",
   "execution_count": 131,
   "id": "28c39a6a",
   "metadata": {},
   "outputs": [],
   "source": [
    "# 1 ~ 100 사이의 정수에서 20보다 크고 30보다 작은 3의 배수를 출력"
   ]
  },
  {
   "cell_type": "code",
   "execution_count": 148,
   "id": "cd72bf9d",
   "metadata": {},
   "outputs": [
    {
     "data": {
      "text/plain": [
       "array([21, 24, 27])"
      ]
     },
     "execution_count": 148,
     "metadata": {},
     "output_type": "execute_result"
    }
   ],
   "source": [
    "ta = np.arange(1,101)\n",
    "ta = ta[ta > 20]\n",
    "ta = ta[ta < 30]\n",
    "ta = ta[ta % 3 == 0]\n",
    "ta"
   ]
  },
  {
   "cell_type": "code",
   "execution_count": 155,
   "id": "a8baf523",
   "metadata": {},
   "outputs": [
    {
     "data": {
      "text/plain": [
       "array([21, 24, 27])"
      ]
     },
     "execution_count": 155,
     "metadata": {},
     "output_type": "execute_result"
    }
   ],
   "source": [
    "ta = np.arange(1,101)\n",
    "ta[(ta > 20) & (ta < 30) & (ta % 3 == 0)]"
   ]
  },
  {
   "cell_type": "code",
   "execution_count": 198,
   "id": "f30035a1",
   "metadata": {},
   "outputs": [
    {
     "data": {
      "text/plain": [
       "array([  1,   2,   4,   5,   7,   8,  10,  11,  13,  14,  16,  17,  19,\n",
       "        20,  22,  23,  25,  26,  28,  29,  31,  32,  34,  35,  37,  38,\n",
       "        40,  41,  43,  44,  46,  47,  49,  50,  52,  53,  55,  56,  58,\n",
       "        59,  61,  62,  64,  65,  67,  68,  70,  71,  73,  74,  76,  77,\n",
       "        79,  80,  82,  83,  85,  86,  88,  89,  91,  92,  94,  95,  97,\n",
       "        98, 100])"
      ]
     },
     "execution_count": 198,
     "metadata": {},
     "output_type": "execute_result"
    }
   ],
   "source": [
    "ta[ta % 3 != 0]"
   ]
  },
  {
   "cell_type": "code",
   "execution_count": null,
   "id": "16c511f1",
   "metadata": {},
   "outputs": [],
   "source": []
  }
 ],
 "metadata": {
  "kernelspec": {
   "display_name": "Python 3 (ipykernel)",
   "language": "python",
   "name": "python3"
  },
  "language_info": {
   "codemirror_mode": {
    "name": "ipython",
    "version": 3
   },
   "file_extension": ".py",
   "mimetype": "text/x-python",
   "name": "python",
   "nbconvert_exporter": "python",
   "pygments_lexer": "ipython3",
   "version": "3.9.7"
  }
 },
 "nbformat": 4,
 "nbformat_minor": 5
}
