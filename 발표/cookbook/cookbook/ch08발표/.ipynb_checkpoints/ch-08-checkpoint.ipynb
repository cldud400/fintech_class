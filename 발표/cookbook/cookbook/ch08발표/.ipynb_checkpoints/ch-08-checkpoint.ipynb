{
 "cells": [
  {
   "cell_type": "code",
   "execution_count": 1,
   "id": "aa098453",
   "metadata": {},
   "outputs": [],
   "source": [
    "import pandas as pd\n",
    "import numpy as np\n",
    "pd.set_option('max_columns', 8, 'max_rows', 10, 'max_colwidth', 12)\n",
    "import matplotlib.pyplot as plt\n",
    "import seaborn as sns"
   ]
  },
  {
   "cell_type": "code",
   "execution_count": 2,
   "id": "6cee58e7",
   "metadata": {},
   "outputs": [],
   "source": [
    "import warnings\n",
    "warnings.simplefilter(action='ignore', category=FutureWarning)"
   ]
  },
  {
   "cell_type": "markdown",
   "id": "d2e29eb1",
   "metadata": {},
   "source": [
    "# 인덱스 정렬"
   ]
  },
  {
   "cell_type": "markdown",
   "id": "106b5ff7",
   "metadata": {},
   "source": [
    "## 인덱스 객체 검사"
   ]
  },
  {
   "cell_type": "code",
   "execution_count": 3,
   "id": "03492cd8",
   "metadata": {},
   "outputs": [
    {
     "data": {
      "text/plain": [
       "Index(['INSTNM', 'CITY', 'STABBR', 'HBCU', 'MENONLY', 'WOMENONLY', 'RELAFFIL',\n",
       "       'SATVRMID', 'SATMTMID', 'DISTANCEONLY', 'UGDS', 'UGDS_WHITE',\n",
       "       'UGDS_BLACK', 'UGDS_HISP', 'UGDS_ASIAN', 'UGDS_AIAN', 'UGDS_NHPI',\n",
       "       'UGDS_2MOR', 'UGDS_NRA', 'UGDS_UNKN', 'PPTUG_EF', 'CURROPER', 'PCTPELL',\n",
       "       'PCTFLOAN', 'UG25ABV', 'MD_EARN_WNE_P10', 'GRAD_DEBT_MDN_SUPP'],\n",
       "      dtype='object')"
      ]
     },
     "execution_count": 3,
     "metadata": {},
     "output_type": "execute_result"
    }
   ],
   "source": [
    "# 칼럼만 추출\n",
    "college = pd.read_csv('college.csv')\n",
    "columns = college.columns\n",
    "columns"
   ]
  },
  {
   "cell_type": "code",
   "execution_count": 5,
   "id": "dc3fbb60",
   "metadata": {},
   "outputs": [
    {
     "data": {
      "text/plain": [
       "array(['INSTNM', 'CITY', 'STABBR', 'HBCU', 'MENONLY', 'WOMENONLY',\n",
       "       'RELAFFIL', 'SATVRMID', 'SATMTMID', 'DISTANCEONLY', 'UGDS',\n",
       "       'UGDS_WHITE', 'UGDS_BLACK', 'UGDS_HISP', 'UGDS_ASIAN', 'UGDS_AIAN',\n",
       "       'UGDS_NHPI', 'UGDS_2MOR', 'UGDS_NRA', 'UGDS_UNKN', 'PPTUG_EF',\n",
       "       'CURROPER', 'PCTPELL', 'PCTFLOAN', 'UG25ABV', 'MD_EARN_WNE_P10',\n",
       "       'GRAD_DEBT_MDN_SUPP'], dtype=object)"
      ]
     },
     "execution_count": 5,
     "metadata": {},
     "output_type": "execute_result"
    }
   ],
   "source": [
    "# array\n",
    "columns.values"
   ]
  },
  {
   "cell_type": "code",
   "execution_count": 6,
   "id": "1948c0fa",
   "metadata": {},
   "outputs": [
    {
     "data": {
      "text/plain": [
       "'WOMENONLY'"
      ]
     },
     "execution_count": 6,
     "metadata": {},
     "output_type": "execute_result"
    }
   ],
   "source": [
    "columns[5]"
   ]
  },
  {
   "cell_type": "code",
   "execution_count": 7,
   "id": "6c161b2e",
   "metadata": {},
   "outputs": [
    {
     "data": {
      "text/plain": [
       "Index(['CITY', 'SATMTMID', 'UGDS'], dtype='object')"
      ]
     },
     "execution_count": 7,
     "metadata": {},
     "output_type": "execute_result"
    }
   ],
   "source": [
    "columns[[1,8,10]]"
   ]
  },
  {
   "cell_type": "code",
   "execution_count": 8,
   "id": "73f6c49d",
   "metadata": {},
   "outputs": [
    {
     "data": {
      "text/plain": [
       "Index(['PPTUG_EF', 'CURROPER', 'PCTPELL'], dtype='object')"
      ]
     },
     "execution_count": 8,
     "metadata": {},
     "output_type": "execute_result"
    }
   ],
   "source": [
    "columns[-7:-4]"
   ]
  },
  {
   "cell_type": "code",
   "execution_count": 9,
   "id": "74ab0a1b",
   "metadata": {},
   "outputs": [
    {
     "data": {
      "text/plain": [
       "('CITY', 'WOMENONLY', 0)"
      ]
     },
     "execution_count": 9,
     "metadata": {},
     "output_type": "execute_result"
    }
   ],
   "source": [
    "columns.min(), columns.max(), columns.isnull().sum()"
   ]
  },
  {
   "cell_type": "code",
   "execution_count": 10,
   "id": "d6910312",
   "metadata": {},
   "outputs": [
    {
     "data": {
      "text/plain": [
       "Index(['INSTNM_A', 'CITY_A', 'STABBR_A', 'HBCU_A', 'MENONLY_A', 'WOMENONLY_A',\n",
       "       'RELAFFIL_A', 'SATVRMID_A', 'SATMTMID_A', 'DISTANCEONLY_A', 'UGDS_A',\n",
       "       'UGDS_WHITE_A', 'UGDS_BLACK_A', 'UGDS_HISP_A', 'UGDS_ASIAN_A',\n",
       "       'UGDS_AIAN_A', 'UGDS_NHPI_A', 'UGDS_2MOR_A', 'UGDS_NRA_A',\n",
       "       'UGDS_UNKN_A', 'PPTUG_EF_A', 'CURROPER_A', 'PCTPELL_A', 'PCTFLOAN_A',\n",
       "       'UG25ABV_A', 'MD_EARN_WNE_P10_A', 'GRAD_DEBT_MDN_SUPP_A'],\n",
       "      dtype='object')"
      ]
     },
     "execution_count": 10,
     "metadata": {},
     "output_type": "execute_result"
    }
   ],
   "source": [
    "columns + '_A'"
   ]
  },
  {
   "cell_type": "code",
   "execution_count": 11,
   "id": "4315fb33",
   "metadata": {},
   "outputs": [
    {
     "data": {
      "text/plain": [
       "array([ True, False,  True,  True,  True,  True,  True,  True,  True,\n",
       "       False,  True,  True,  True,  True,  True,  True,  True,  True,\n",
       "        True,  True,  True, False,  True,  True,  True,  True,  True])"
      ]
     },
     "execution_count": 11,
     "metadata": {},
     "output_type": "execute_result"
    }
   ],
   "source": [
    "columns > 'G'"
   ]
  },
  {
   "cell_type": "code",
   "execution_count": 12,
   "id": "1325ac88",
   "metadata": {},
   "outputs": [
    {
     "ename": "TypeError",
     "evalue": "Index does not support mutable operations",
     "output_type": "error",
     "traceback": [
      "\u001b[1;31m---------------------------------------------------------------------------\u001b[0m",
      "\u001b[1;31mTypeError\u001b[0m                                 Traceback (most recent call last)",
      "\u001b[1;32m~\\AppData\\Local\\Temp/ipykernel_2460/315432724.py\u001b[0m in \u001b[0;36m<module>\u001b[1;34m\u001b[0m\n\u001b[0;32m      1\u001b[0m \u001b[1;31m# 변경은 불가\u001b[0m\u001b[1;33m\u001b[0m\u001b[1;33m\u001b[0m\u001b[0m\n\u001b[1;32m----> 2\u001b[1;33m \u001b[0mcolumns\u001b[0m\u001b[1;33m[\u001b[0m\u001b[1;36m1\u001b[0m\u001b[1;33m]\u001b[0m \u001b[1;33m=\u001b[0m \u001b[1;34m'city'\u001b[0m\u001b[1;33m\u001b[0m\u001b[1;33m\u001b[0m\u001b[0m\n\u001b[0m",
      "\u001b[1;32m~\\anaconda3\\lib\\site-packages\\pandas\\core\\indexes\\base.py\u001b[0m in \u001b[0;36m__setitem__\u001b[1;34m(self, key, value)\u001b[0m\n\u001b[0;32m   4583\u001b[0m     \u001b[1;33m@\u001b[0m\u001b[0mfinal\u001b[0m\u001b[1;33m\u001b[0m\u001b[1;33m\u001b[0m\u001b[0m\n\u001b[0;32m   4584\u001b[0m     \u001b[1;32mdef\u001b[0m \u001b[0m__setitem__\u001b[0m\u001b[1;33m(\u001b[0m\u001b[0mself\u001b[0m\u001b[1;33m,\u001b[0m \u001b[0mkey\u001b[0m\u001b[1;33m,\u001b[0m \u001b[0mvalue\u001b[0m\u001b[1;33m)\u001b[0m\u001b[1;33m:\u001b[0m\u001b[1;33m\u001b[0m\u001b[1;33m\u001b[0m\u001b[0m\n\u001b[1;32m-> 4585\u001b[1;33m         \u001b[1;32mraise\u001b[0m \u001b[0mTypeError\u001b[0m\u001b[1;33m(\u001b[0m\u001b[1;34m\"Index does not support mutable operations\"\u001b[0m\u001b[1;33m)\u001b[0m\u001b[1;33m\u001b[0m\u001b[1;33m\u001b[0m\u001b[0m\n\u001b[0m\u001b[0;32m   4586\u001b[0m \u001b[1;33m\u001b[0m\u001b[0m\n\u001b[0;32m   4587\u001b[0m     \u001b[1;32mdef\u001b[0m \u001b[0m__getitem__\u001b[0m\u001b[1;33m(\u001b[0m\u001b[0mself\u001b[0m\u001b[1;33m,\u001b[0m \u001b[0mkey\u001b[0m\u001b[1;33m)\u001b[0m\u001b[1;33m:\u001b[0m\u001b[1;33m\u001b[0m\u001b[1;33m\u001b[0m\u001b[0m\n",
      "\u001b[1;31mTypeError\u001b[0m: Index does not support mutable operations"
     ]
    }
   ],
   "source": [
    "# 변경은 불가\n",
    "columns[1] = 'city'"
   ]
  },
  {
   "cell_type": "code",
   "execution_count": null,
   "id": "d4de32cc",
   "metadata": {},
   "outputs": [],
   "source": [
    "c1 = columns[:4]\n",
    "c2 = columns[2:6]\n",
    "c1.union(c2) # or `c1 | c2`"
   ]
  },
  {
   "cell_type": "code",
   "execution_count": 13,
   "id": "1ce0976d",
   "metadata": {},
   "outputs": [
    {
     "ename": "NameError",
     "evalue": "name 'c1' is not defined",
     "output_type": "error",
     "traceback": [
      "\u001b[1;31m---------------------------------------------------------------------------\u001b[0m",
      "\u001b[1;31mNameError\u001b[0m                                 Traceback (most recent call last)",
      "\u001b[1;32m~\\AppData\\Local\\Temp/ipykernel_2460/385721156.py\u001b[0m in \u001b[0;36m<module>\u001b[1;34m\u001b[0m\n\u001b[0;32m      1\u001b[0m \u001b[1;31m# 대칭차집합\u001b[0m\u001b[1;33m\u001b[0m\u001b[1;33m\u001b[0m\u001b[0m\n\u001b[1;32m----> 2\u001b[1;33m \u001b[0mc1\u001b[0m\u001b[1;33m.\u001b[0m\u001b[0msymmetric_difference\u001b[0m\u001b[1;33m(\u001b[0m\u001b[0mc2\u001b[0m\u001b[1;33m)\u001b[0m \u001b[1;31m# or `c1 ^ c2`\u001b[0m\u001b[1;33m\u001b[0m\u001b[1;33m\u001b[0m\u001b[0m\n\u001b[0m",
      "\u001b[1;31mNameError\u001b[0m: name 'c1' is not defined"
     ]
    }
   ],
   "source": [
    "# 대칭차집합\n",
    "c1.symmetric_difference(c2) # or `c1 ^ c2`"
   ]
  },
  {
   "cell_type": "markdown",
   "id": "5d893d34",
   "metadata": {},
   "source": [
    "## 카디션 곱 생성"
   ]
  },
  {
   "cell_type": "code",
   "execution_count": 14,
   "id": "45d6fc15",
   "metadata": {},
   "outputs": [
    {
     "data": {
      "text/plain": [
       "a    0\n",
       "a    1\n",
       "a    2\n",
       "b    3\n",
       "dtype: int32"
      ]
     },
     "execution_count": 14,
     "metadata": {},
     "output_type": "execute_result"
    }
   ],
   "source": [
    "s1 = pd.Series(index=list('aaab'), data=np.arange(4))\n",
    "s1"
   ]
  },
  {
   "cell_type": "code",
   "execution_count": 15,
   "id": "645d69e3",
   "metadata": {},
   "outputs": [
    {
     "data": {
      "text/plain": [
       "c    0\n",
       "a    1\n",
       "b    2\n",
       "a    3\n",
       "b    4\n",
       "b    5\n",
       "dtype: int32"
      ]
     },
     "execution_count": 15,
     "metadata": {},
     "output_type": "execute_result"
    }
   ],
   "source": [
    "s2 = pd.Series(index=list('cababb'), data=np.arange(6))\n",
    "s2"
   ]
  },
  {
   "cell_type": "code",
   "execution_count": 16,
   "id": "e13dbc4a",
   "metadata": {},
   "outputs": [
    {
     "data": {
      "text/plain": [
       "a    1.0\n",
       "a    3.0\n",
       "a    2.0\n",
       "a    4.0\n",
       "a    3.0\n",
       "a    5.0\n",
       "b    5.0\n",
       "b    7.0\n",
       "b    8.0\n",
       "c    NaN\n",
       "dtype: float64"
      ]
     },
     "execution_count": 16,
     "metadata": {},
     "output_type": "execute_result"
    }
   ],
   "source": [
    "# s1의 a와 s2의 a가 쌍을 이루어 더하기 연산\n",
    "# a : 0+1, 0+3, 1+1, 1+3, 2+1, 2+3\n",
    "s1 + s2"
   ]
  },
  {
   "cell_type": "code",
   "execution_count": 17,
   "id": "16558dfa",
   "metadata": {},
   "outputs": [
    {
     "data": {
      "text/plain": [
       "a    2\n",
       "a    3\n",
       "a    4\n",
       "a    3\n",
       "a    4\n",
       "    ..\n",
       "a    6\n",
       "b    3\n",
       "b    4\n",
       "b    4\n",
       "b    5\n",
       "Length: 13, dtype: int32"
      ]
     },
     "execution_count": 17,
     "metadata": {},
     "output_type": "execute_result"
    }
   ],
   "source": [
    "s1 = pd.Series(index=list('aaabb'), data=np.arange(5))\n",
    "s2 = pd.Series(index=list('bbaaa'), data=np.arange(5))\n",
    "s1 + s2"
   ]
  },
  {
   "cell_type": "code",
   "execution_count": 18,
   "id": "ee9cf960",
   "metadata": {},
   "outputs": [
    {
     "data": {
      "text/plain": [
       "a    0\n",
       "a    2\n",
       "a    4\n",
       "b    6\n",
       "b    8\n",
       "dtype: int32"
      ]
     },
     "execution_count": 18,
     "metadata": {},
     "output_type": "execute_result"
    }
   ],
   "source": [
    "# Series의 index의 값과 순서가 모두 동일한 경우 카디션 곱은 생성되지 않는다.\n",
    "s1 = pd.Series(index=list('aaabb'), data=np.arange(5))\n",
    "s2 = pd.Series(index=list('aaabb'), data=np.arange(5))\n",
    "s1 + s2"
   ]
  },
  {
   "cell_type": "code",
   "execution_count": 19,
   "id": "c0a8b602",
   "metadata": {},
   "outputs": [
    {
     "data": {
      "text/plain": [
       "a    1\n",
       "b    1\n",
       "dtype: int32"
      ]
     },
     "execution_count": 19,
     "metadata": {},
     "output_type": "execute_result"
    }
   ],
   "source": [
    "# 중복이 없는 값 두개도 카디션 곱은 생성X\n",
    "s3 = pd.Series(index=list('ab'), data=np.arange(2))\n",
    "s4 = pd.Series(index=list('ba'), data=np.arange(2))\n",
    "s3 + s4"
   ]
  },
  {
   "cell_type": "markdown",
   "id": "1426320a",
   "metadata": {},
   "source": [
    "## 인덱스 폭발"
   ]
  },
  {
   "cell_type": "code",
   "execution_count": 20,
   "id": "572679f4",
   "metadata": {},
   "outputs": [
    {
     "data": {
      "text/html": [
       "<div>\n",
       "<style scoped>\n",
       "    .dataframe tbody tr th:only-of-type {\n",
       "        vertical-align: middle;\n",
       "    }\n",
       "\n",
       "    .dataframe tbody tr th {\n",
       "        vertical-align: top;\n",
       "    }\n",
       "\n",
       "    .dataframe thead th {\n",
       "        text-align: right;\n",
       "    }\n",
       "</style>\n",
       "<table border=\"1\" class=\"dataframe\">\n",
       "  <thead>\n",
       "    <tr style=\"text-align: right;\">\n",
       "      <th></th>\n",
       "      <th>UNIQUE_ID</th>\n",
       "      <th>POSITION_TITLE</th>\n",
       "      <th>DEPARTMENT</th>\n",
       "      <th>BASE_SALARY</th>\n",
       "      <th>...</th>\n",
       "      <th>GENDER</th>\n",
       "      <th>EMPLOYMENT_STATUS</th>\n",
       "      <th>HIRE_DATE</th>\n",
       "      <th>JOB_DATE</th>\n",
       "    </tr>\n",
       "    <tr>\n",
       "      <th>RACE</th>\n",
       "      <th></th>\n",
       "      <th></th>\n",
       "      <th></th>\n",
       "      <th></th>\n",
       "      <th></th>\n",
       "      <th></th>\n",
       "      <th></th>\n",
       "      <th></th>\n",
       "      <th></th>\n",
       "    </tr>\n",
       "  </thead>\n",
       "  <tbody>\n",
       "    <tr>\n",
       "      <th>Hispanic/Latino</th>\n",
       "      <td>0</td>\n",
       "      <td>ASSISTAN...</td>\n",
       "      <td>Municipa...</td>\n",
       "      <td>121862.0</td>\n",
       "      <td>...</td>\n",
       "      <td>Female</td>\n",
       "      <td>Active</td>\n",
       "      <td>2006-06-12</td>\n",
       "      <td>2012-10-13</td>\n",
       "    </tr>\n",
       "    <tr>\n",
       "      <th>Hispanic/Latino</th>\n",
       "      <td>1</td>\n",
       "      <td>LIBRARY ...</td>\n",
       "      <td>Library</td>\n",
       "      <td>26125.0</td>\n",
       "      <td>...</td>\n",
       "      <td>Female</td>\n",
       "      <td>Active</td>\n",
       "      <td>2000-07-19</td>\n",
       "      <td>2010-09-18</td>\n",
       "    </tr>\n",
       "    <tr>\n",
       "      <th>White</th>\n",
       "      <td>2</td>\n",
       "      <td>POLICE O...</td>\n",
       "      <td>Houston ...</td>\n",
       "      <td>45279.0</td>\n",
       "      <td>...</td>\n",
       "      <td>Male</td>\n",
       "      <td>Active</td>\n",
       "      <td>2015-02-03</td>\n",
       "      <td>2015-02-03</td>\n",
       "    </tr>\n",
       "    <tr>\n",
       "      <th>White</th>\n",
       "      <td>3</td>\n",
       "      <td>ENGINEER...</td>\n",
       "      <td>Houston ...</td>\n",
       "      <td>63166.0</td>\n",
       "      <td>...</td>\n",
       "      <td>Male</td>\n",
       "      <td>Active</td>\n",
       "      <td>1982-02-08</td>\n",
       "      <td>1991-05-25</td>\n",
       "    </tr>\n",
       "    <tr>\n",
       "      <th>White</th>\n",
       "      <td>4</td>\n",
       "      <td>ELECTRICIAN</td>\n",
       "      <td>General ...</td>\n",
       "      <td>56347.0</td>\n",
       "      <td>...</td>\n",
       "      <td>Male</td>\n",
       "      <td>Active</td>\n",
       "      <td>1989-06-19</td>\n",
       "      <td>1994-10-22</td>\n",
       "    </tr>\n",
       "  </tbody>\n",
       "</table>\n",
       "<p>5 rows × 9 columns</p>\n",
       "</div>"
      ],
      "text/plain": [
       "              UNIQUE_ID POSITION_TITLE   DEPARTMENT  BASE_SALARY  ...  GENDER  \\\n",
       "RACE                                                              ...           \n",
       "Hispanic/...          0  ASSISTAN...    Municipa...     121862.0  ...  Female   \n",
       "Hispanic/...          1  LIBRARY ...        Library      26125.0  ...  Female   \n",
       "White                 2  POLICE O...    Houston ...      45279.0  ...    Male   \n",
       "White                 3  ENGINEER...    Houston ...      63166.0  ...    Male   \n",
       "White                 4  ELECTRICIAN    General ...      56347.0  ...    Male   \n",
       "\n",
       "             EMPLOYMENT_STATUS   HIRE_DATE    JOB_DATE  \n",
       "RACE                                                    \n",
       "Hispanic/...       Active       2006-06-12  2012-10-13  \n",
       "Hispanic/...       Active       2000-07-19  2010-09-18  \n",
       "White              Active       2015-02-03  2015-02-03  \n",
       "White              Active       1982-02-08  1991-05-25  \n",
       "White              Active       1989-06-19  1994-10-22  \n",
       "\n",
       "[5 rows x 9 columns]"
      ]
     },
     "execution_count": 20,
     "metadata": {},
     "output_type": "execute_result"
    }
   ],
   "source": [
    "employee = pd.read_csv('employee.csv', index_col='RACE')\n",
    "employee.head()"
   ]
  },
  {
   "cell_type": "code",
   "execution_count": 21,
   "id": "39865d95",
   "metadata": {},
   "outputs": [
    {
     "data": {
      "text/plain": [
       "True"
      ]
     },
     "execution_count": 21,
     "metadata": {},
     "output_type": "execute_result"
    }
   ],
   "source": [
    "salary1 = employee['BASE_SALARY']\n",
    "salary2 = employee['BASE_SALARY']\n",
    "salary1 is salary2"
   ]
  },
  {
   "cell_type": "code",
   "execution_count": 22,
   "id": "adf6e313",
   "metadata": {},
   "outputs": [
    {
     "data": {
      "text/plain": [
       "False"
      ]
     },
     "execution_count": 22,
     "metadata": {},
     "output_type": "execute_result"
    }
   ],
   "source": [
    "# copy() : 리스트의 위치를 참조하여 가져오는 것\n",
    "salary2 = employee['BASE_SALARY'].copy()\n",
    "salary1 is salary2"
   ]
  },
  {
   "cell_type": "code",
   "execution_count": 143,
   "id": "bf0e3384",
   "metadata": {},
   "outputs": [
    {
     "data": {
      "text/plain": [
       "1942363995344"
      ]
     },
     "execution_count": 143,
     "metadata": {},
     "output_type": "execute_result"
    }
   ],
   "source": [
    "# 고유 id가 다르기 때문에 False\n",
    "id(salary1)"
   ]
  },
  {
   "cell_type": "code",
   "execution_count": 144,
   "id": "eb7353dc",
   "metadata": {},
   "outputs": [
    {
     "data": {
      "text/plain": [
       "1942364241680"
      ]
     },
     "execution_count": 144,
     "metadata": {},
     "output_type": "execute_result"
    }
   ],
   "source": [
    "id(salary2)"
   ]
  },
  {
   "cell_type": "code",
   "execution_count": 23,
   "id": "4643b2eb",
   "metadata": {},
   "outputs": [
    {
     "data": {
      "text/plain": [
       "RACE\n",
       "American Indian or Alaskan Native    78355.0\n",
       "American Indian or Alaskan Native    26125.0\n",
       "American Indian or Alaskan Native    98536.0\n",
       "American Indian or Alaskan Native        NaN\n",
       "American Indian or Alaskan Native    55461.0\n",
       "Name: BASE_SALARY, dtype: float64"
      ]
     },
     "execution_count": 23,
     "metadata": {},
     "output_type": "execute_result"
    }
   ],
   "source": [
    "salary1 = salary1.sort_index()\n",
    "salary1.head()"
   ]
  },
  {
   "cell_type": "code",
   "execution_count": 24,
   "id": "d4eff9f5",
   "metadata": {},
   "outputs": [
    {
     "data": {
      "text/plain": [
       "RACE\n",
       "Hispanic/Latino    121862.0\n",
       "Hispanic/Latino     26125.0\n",
       "White               45279.0\n",
       "White               63166.0\n",
       "White               56347.0\n",
       "Name: BASE_SALARY, dtype: float64"
      ]
     },
     "execution_count": 24,
     "metadata": {},
     "output_type": "execute_result"
    }
   ],
   "source": [
    "salary2.head()"
   ]
  },
  {
   "cell_type": "code",
   "execution_count": 25,
   "id": "ff61f2c4",
   "metadata": {},
   "outputs": [
    {
     "data": {
      "text/plain": [
       "(2000, 2000, 1175424, 2000)"
      ]
     },
     "execution_count": 25,
     "metadata": {},
     "output_type": "execute_result"
    }
   ],
   "source": [
    "salary_add = salary1 + salary2\n",
    "salary_add1 = salary1 + salary1\n",
    "len(salary1), len(salary2), len(salary_add), len(salary_add1)"
   ]
  },
  {
   "cell_type": "code",
   "execution_count": 26,
   "id": "faf7172f",
   "metadata": {},
   "outputs": [
    {
     "data": {
      "text/plain": [
       "Black or African American            700\n",
       "White                                665\n",
       "Hispanic/Latino                      480\n",
       "Asian/Pacific Islander               107\n",
       "NaN                                   35\n",
       "American Indian or Alaskan Native     11\n",
       "Others                                 2\n",
       "Name: RACE, dtype: int64"
      ]
     },
     "execution_count": 26,
     "metadata": {},
     "output_type": "execute_result"
    }
   ],
   "source": [
    "index_vc = salary1.index.value_counts(dropna=False)\n",
    "index_vc"
   ]
  },
  {
   "cell_type": "code",
   "execution_count": 27,
   "id": "589ba95c",
   "metadata": {},
   "outputs": [
    {
     "data": {
      "text/plain": [
       "1175424"
      ]
     },
     "execution_count": 27,
     "metadata": {},
     "output_type": "execute_result"
    }
   ],
   "source": [
    "# 모든 객체의 수를 제곱해서 더하면\n",
    "# salary_add 객체 수를 알 수있다\n",
    "index_vc.pow(2).sum()"
   ]
  },
  {
   "cell_type": "markdown",
   "id": "6d2d4670",
   "metadata": {},
   "source": [
    "## 동일하지 않은 인덱스로 값 채우기"
   ]
  },
  {
   "cell_type": "code",
   "execution_count": 28,
   "id": "6166dc69",
   "metadata": {},
   "outputs": [
    {
     "data": {
      "text/html": [
       "<div>\n",
       "<style scoped>\n",
       "    .dataframe tbody tr th:only-of-type {\n",
       "        vertical-align: middle;\n",
       "    }\n",
       "\n",
       "    .dataframe tbody tr th {\n",
       "        vertical-align: top;\n",
       "    }\n",
       "\n",
       "    .dataframe thead th {\n",
       "        text-align: right;\n",
       "    }\n",
       "</style>\n",
       "<table border=\"1\" class=\"dataframe\">\n",
       "  <thead>\n",
       "    <tr style=\"text-align: right;\">\n",
       "      <th></th>\n",
       "      <th>yearID</th>\n",
       "      <th>stint</th>\n",
       "      <th>teamID</th>\n",
       "      <th>lgID</th>\n",
       "      <th>...</th>\n",
       "      <th>HBP</th>\n",
       "      <th>SH</th>\n",
       "      <th>SF</th>\n",
       "      <th>GIDP</th>\n",
       "    </tr>\n",
       "    <tr>\n",
       "      <th>playerID</th>\n",
       "      <th></th>\n",
       "      <th></th>\n",
       "      <th></th>\n",
       "      <th></th>\n",
       "      <th></th>\n",
       "      <th></th>\n",
       "      <th></th>\n",
       "      <th></th>\n",
       "      <th></th>\n",
       "    </tr>\n",
       "  </thead>\n",
       "  <tbody>\n",
       "    <tr>\n",
       "      <th>altuvjo01</th>\n",
       "      <td>2014</td>\n",
       "      <td>1</td>\n",
       "      <td>HOU</td>\n",
       "      <td>AL</td>\n",
       "      <td>...</td>\n",
       "      <td>5.0</td>\n",
       "      <td>1.0</td>\n",
       "      <td>5.0</td>\n",
       "      <td>20.0</td>\n",
       "    </tr>\n",
       "    <tr>\n",
       "      <th>cartech02</th>\n",
       "      <td>2014</td>\n",
       "      <td>1</td>\n",
       "      <td>HOU</td>\n",
       "      <td>AL</td>\n",
       "      <td>...</td>\n",
       "      <td>5.0</td>\n",
       "      <td>0.0</td>\n",
       "      <td>4.0</td>\n",
       "      <td>12.0</td>\n",
       "    </tr>\n",
       "    <tr>\n",
       "      <th>castrja01</th>\n",
       "      <td>2014</td>\n",
       "      <td>1</td>\n",
       "      <td>HOU</td>\n",
       "      <td>AL</td>\n",
       "      <td>...</td>\n",
       "      <td>9.0</td>\n",
       "      <td>1.0</td>\n",
       "      <td>3.0</td>\n",
       "      <td>11.0</td>\n",
       "    </tr>\n",
       "    <tr>\n",
       "      <th>corpoca01</th>\n",
       "      <td>2014</td>\n",
       "      <td>1</td>\n",
       "      <td>HOU</td>\n",
       "      <td>AL</td>\n",
       "      <td>...</td>\n",
       "      <td>3.0</td>\n",
       "      <td>1.0</td>\n",
       "      <td>2.0</td>\n",
       "      <td>3.0</td>\n",
       "    </tr>\n",
       "    <tr>\n",
       "      <th>dominma01</th>\n",
       "      <td>2014</td>\n",
       "      <td>1</td>\n",
       "      <td>HOU</td>\n",
       "      <td>AL</td>\n",
       "      <td>...</td>\n",
       "      <td>5.0</td>\n",
       "      <td>2.0</td>\n",
       "      <td>7.0</td>\n",
       "      <td>23.0</td>\n",
       "    </tr>\n",
       "  </tbody>\n",
       "</table>\n",
       "<p>5 rows × 21 columns</p>\n",
       "</div>"
      ],
      "text/plain": [
       "           yearID  stint teamID lgID  ...  HBP   SH   SF  GIDP\n",
       "playerID                              ...                     \n",
       "altuvjo01    2014      1    HOU   AL  ...  5.0  1.0  5.0  20.0\n",
       "cartech02    2014      1    HOU   AL  ...  5.0  0.0  4.0  12.0\n",
       "castrja01    2014      1    HOU   AL  ...  9.0  1.0  3.0  11.0\n",
       "corpoca01    2014      1    HOU   AL  ...  3.0  1.0  2.0   3.0\n",
       "dominma01    2014      1    HOU   AL  ...  5.0  2.0  7.0  23.0\n",
       "\n",
       "[5 rows x 21 columns]"
      ]
     },
     "execution_count": 28,
     "metadata": {},
     "output_type": "execute_result"
    }
   ],
   "source": [
    "baseball_14 = pd.read_csv('baseball14.csv',\n",
    "   index_col='playerID')\n",
    "baseball_15 = pd.read_csv('baseball15.csv',\n",
    "   index_col='playerID')\n",
    "baseball_16 = pd.read_csv('baseball16.csv',\n",
    "   index_col='playerID')\n",
    "baseball_14.head()"
   ]
  },
  {
   "cell_type": "code",
   "execution_count": 29,
   "id": "3427a9d3",
   "metadata": {},
   "outputs": [
    {
     "data": {
      "text/plain": [
       "Index(['corpoca01', 'dominma01', 'fowlede01', 'grossro01', 'guzmaje01',\n",
       "       'hoeslj01', 'krausma01', 'preslal01', 'singljo02'],\n",
       "      dtype='object', name='playerID')"
      ]
     },
     "execution_count": 29,
     "metadata": {},
     "output_type": "execute_result"
    }
   ],
   "source": [
    "# 차집합\n",
    "baseball_14.index.difference(baseball_15.index)"
   ]
  },
  {
   "cell_type": "code",
   "execution_count": 30,
   "id": "81a64492",
   "metadata": {},
   "outputs": [
    {
     "data": {
      "text/plain": [
       "Index(['cartech02', 'corpoca01', 'dominma01', 'fowlede01', 'grossro01',\n",
       "       'guzmaje01', 'hoeslj01', 'krausma01', 'preslal01', 'singljo02',\n",
       "       'villajo01'],\n",
       "      dtype='object', name='playerID')"
      ]
     },
     "execution_count": 30,
     "metadata": {},
     "output_type": "execute_result"
    }
   ],
   "source": [
    "baseball_14.index.difference(baseball_16.index)"
   ]
  },
  {
   "cell_type": "code",
   "execution_count": 31,
   "id": "b5b90e6b",
   "metadata": {},
   "outputs": [
    {
     "data": {
      "text/plain": [
       "playerID\n",
       "altuvjo01    225\n",
       "cartech02    115\n",
       "castrja01    103\n",
       "corpoca01     40\n",
       "dominma01    121\n",
       "Name: H, dtype: int64"
      ]
     },
     "execution_count": 31,
     "metadata": {},
     "output_type": "execute_result"
    }
   ],
   "source": [
    "hits_14 = baseball_14['H']\n",
    "hits_15 = baseball_15['H']\n",
    "hits_16 = baseball_16['H']\n",
    "hits_14.head()"
   ]
  },
  {
   "cell_type": "code",
   "execution_count": 32,
   "id": "5417c7dc",
   "metadata": {},
   "outputs": [
    {
     "data": {
      "text/plain": [
       "playerID\n",
       "altuvjo01    425.0\n",
       "cartech02    193.0\n",
       "castrja01    174.0\n",
       "congeha01      NaN\n",
       "corpoca01      NaN\n",
       "Name: H, dtype: float64"
      ]
     },
     "execution_count": 32,
     "metadata": {},
     "output_type": "execute_result"
    }
   ],
   "source": [
    "(hits_14 + hits_15).head()"
   ]
  },
  {
   "cell_type": "code",
   "execution_count": 33,
   "id": "d49db3ea",
   "metadata": {},
   "outputs": [
    {
     "data": {
      "text/plain": [
       "playerID\n",
       "altuvjo01    425.0\n",
       "cartech02    193.0\n",
       "castrja01    174.0\n",
       "congeha01     46.0\n",
       "corpoca01     40.0\n",
       "Name: H, dtype: float64"
      ]
     },
     "execution_count": 33,
     "metadata": {},
     "output_type": "execute_result"
    }
   ],
   "source": [
    "# fill_value : 서로 일치하지 않는 인덱스의 값을 0으로 설정\n",
    "# 다른 값으로도 가능 알맞은 값을 찾아서 설정하자\n",
    "hits_14.add(hits_15, fill_value=0).head()"
   ]
  },
  {
   "cell_type": "code",
   "execution_count": 34,
   "id": "6b26e988",
   "metadata": {},
   "outputs": [
    {
     "data": {
      "text/plain": [
       "playerID\n",
       "altuvjo01    641.0\n",
       "bregmal01     53.0\n",
       "cartech02    193.0\n",
       "castrja01    243.0\n",
       "congeha01     46.0\n",
       "Name: H, dtype: float64"
      ]
     },
     "execution_count": 34,
     "metadata": {},
     "output_type": "execute_result"
    }
   ],
   "source": [
    "hits_total = (hits_14\n",
    "   .add(hits_15, fill_value=0)\n",
    "   .add(hits_16, fill_value=0)\n",
    ")\n",
    "hits_total.head()"
   ]
  },
  {
   "cell_type": "code",
   "execution_count": 35,
   "id": "302cdeef",
   "metadata": {},
   "outputs": [
    {
     "data": {
      "text/plain": [
       "False"
      ]
     },
     "execution_count": 35,
     "metadata": {},
     "output_type": "execute_result"
    }
   ],
   "source": [
    "# NaN값이 하나라도 있으면 True\n",
    "hits_total.hasnans"
   ]
  },
  {
   "cell_type": "code",
   "execution_count": 36,
   "id": "da3f01ea",
   "metadata": {},
   "outputs": [
    {
     "data": {
      "text/html": [
       "<div>\n",
       "<style scoped>\n",
       "    .dataframe tbody tr th:only-of-type {\n",
       "        vertical-align: middle;\n",
       "    }\n",
       "\n",
       "    .dataframe tbody tr th {\n",
       "        vertical-align: top;\n",
       "    }\n",
       "\n",
       "    .dataframe thead th {\n",
       "        text-align: right;\n",
       "    }\n",
       "</style>\n",
       "<table border=\"1\" class=\"dataframe\">\n",
       "  <thead>\n",
       "    <tr style=\"text-align: right;\">\n",
       "      <th></th>\n",
       "      <th>G</th>\n",
       "      <th>AB</th>\n",
       "      <th>R</th>\n",
       "      <th>H</th>\n",
       "    </tr>\n",
       "    <tr>\n",
       "      <th>playerID</th>\n",
       "      <th></th>\n",
       "      <th></th>\n",
       "      <th></th>\n",
       "      <th></th>\n",
       "    </tr>\n",
       "  </thead>\n",
       "  <tbody>\n",
       "    <tr>\n",
       "      <th>altuvjo01</th>\n",
       "      <td>158</td>\n",
       "      <td>660</td>\n",
       "      <td>85</td>\n",
       "      <td>225</td>\n",
       "    </tr>\n",
       "    <tr>\n",
       "      <th>cartech02</th>\n",
       "      <td>145</td>\n",
       "      <td>507</td>\n",
       "      <td>68</td>\n",
       "      <td>115</td>\n",
       "    </tr>\n",
       "    <tr>\n",
       "      <th>castrja01</th>\n",
       "      <td>126</td>\n",
       "      <td>465</td>\n",
       "      <td>43</td>\n",
       "      <td>103</td>\n",
       "    </tr>\n",
       "    <tr>\n",
       "      <th>corpoca01</th>\n",
       "      <td>55</td>\n",
       "      <td>170</td>\n",
       "      <td>22</td>\n",
       "      <td>40</td>\n",
       "    </tr>\n",
       "    <tr>\n",
       "      <th>dominma01</th>\n",
       "      <td>157</td>\n",
       "      <td>564</td>\n",
       "      <td>51</td>\n",
       "      <td>121</td>\n",
       "    </tr>\n",
       "  </tbody>\n",
       "</table>\n",
       "</div>"
      ],
      "text/plain": [
       "             G   AB   R    H\n",
       "playerID                    \n",
       "altuvjo01  158  660  85  225\n",
       "cartech02  145  507  68  115\n",
       "castrja01  126  465  43  103\n",
       "corpoca01   55  170  22   40\n",
       "dominma01  157  564  51  121"
      ]
     },
     "execution_count": 36,
     "metadata": {},
     "output_type": "execute_result"
    }
   ],
   "source": [
    "df_14 = baseball_14[['G','AB', 'R', 'H']]\n",
    "df_14.head()"
   ]
  },
  {
   "cell_type": "code",
   "execution_count": 37,
   "id": "27b4f98d",
   "metadata": {},
   "outputs": [
    {
     "data": {
      "text/html": [
       "<div>\n",
       "<style scoped>\n",
       "    .dataframe tbody tr th:only-of-type {\n",
       "        vertical-align: middle;\n",
       "    }\n",
       "\n",
       "    .dataframe tbody tr th {\n",
       "        vertical-align: top;\n",
       "    }\n",
       "\n",
       "    .dataframe thead th {\n",
       "        text-align: right;\n",
       "    }\n",
       "</style>\n",
       "<table border=\"1\" class=\"dataframe\">\n",
       "  <thead>\n",
       "    <tr style=\"text-align: right;\">\n",
       "      <th></th>\n",
       "      <th>AB</th>\n",
       "      <th>R</th>\n",
       "      <th>H</th>\n",
       "      <th>HR</th>\n",
       "    </tr>\n",
       "    <tr>\n",
       "      <th>playerID</th>\n",
       "      <th></th>\n",
       "      <th></th>\n",
       "      <th></th>\n",
       "      <th></th>\n",
       "    </tr>\n",
       "  </thead>\n",
       "  <tbody>\n",
       "    <tr>\n",
       "      <th>altuvjo01</th>\n",
       "      <td>638</td>\n",
       "      <td>86</td>\n",
       "      <td>200</td>\n",
       "      <td>15</td>\n",
       "    </tr>\n",
       "    <tr>\n",
       "      <th>cartech02</th>\n",
       "      <td>391</td>\n",
       "      <td>50</td>\n",
       "      <td>78</td>\n",
       "      <td>24</td>\n",
       "    </tr>\n",
       "    <tr>\n",
       "      <th>castrja01</th>\n",
       "      <td>337</td>\n",
       "      <td>38</td>\n",
       "      <td>71</td>\n",
       "      <td>11</td>\n",
       "    </tr>\n",
       "    <tr>\n",
       "      <th>congeha01</th>\n",
       "      <td>201</td>\n",
       "      <td>25</td>\n",
       "      <td>46</td>\n",
       "      <td>11</td>\n",
       "    </tr>\n",
       "    <tr>\n",
       "      <th>correca01</th>\n",
       "      <td>387</td>\n",
       "      <td>52</td>\n",
       "      <td>108</td>\n",
       "      <td>22</td>\n",
       "    </tr>\n",
       "  </tbody>\n",
       "</table>\n",
       "</div>"
      ],
      "text/plain": [
       "            AB   R    H  HR\n",
       "playerID                   \n",
       "altuvjo01  638  86  200  15\n",
       "cartech02  391  50   78  24\n",
       "castrja01  337  38   71  11\n",
       "congeha01  201  25   46  11\n",
       "correca01  387  52  108  22"
      ]
     },
     "execution_count": 37,
     "metadata": {},
     "output_type": "execute_result"
    }
   ],
   "source": [
    "df_15 = baseball_15[['AB', 'R', 'H', 'HR']]\n",
    "df_15.head()"
   ]
  },
  {
   "cell_type": "code",
   "execution_count": 38,
   "id": "eb982c5e",
   "metadata": {},
   "outputs": [
    {
     "data": {
      "text/html": [
       "<style type=\"text/css\">\n",
       "#T_2456d_row0_col1, #T_2456d_row0_col3, #T_2456d_row1_col1, #T_2456d_row1_col3, #T_2456d_row2_col1, #T_2456d_row2_col3, #T_2456d_row3_col0, #T_2456d_row3_col1, #T_2456d_row3_col2, #T_2456d_row3_col3, #T_2456d_row3_col4, #T_2456d_row4_col0, #T_2456d_row4_col1, #T_2456d_row4_col2, #T_2456d_row4_col3, #T_2456d_row4_col4, #T_2456d_row5_col0, #T_2456d_row5_col1, #T_2456d_row5_col2, #T_2456d_row5_col3, #T_2456d_row5_col4, #T_2456d_row6_col0, #T_2456d_row6_col1, #T_2456d_row6_col2, #T_2456d_row6_col3, #T_2456d_row6_col4, #T_2456d_row7_col0, #T_2456d_row7_col1, #T_2456d_row7_col2, #T_2456d_row7_col3, #T_2456d_row7_col4, #T_2456d_row8_col0, #T_2456d_row8_col1, #T_2456d_row8_col2, #T_2456d_row8_col3, #T_2456d_row8_col4, #T_2456d_row9_col0, #T_2456d_row9_col1, #T_2456d_row9_col2, #T_2456d_row9_col3, #T_2456d_row9_col4 {\n",
       "  background-color: yellow;\n",
       "}\n",
       "</style>\n",
       "<table id=\"T_2456d_\">\n",
       "  <thead>\n",
       "    <tr>\n",
       "      <th class=\"blank level0\" >&nbsp;</th>\n",
       "      <th class=\"col_heading level0 col0\" >AB</th>\n",
       "      <th class=\"col_heading level0 col1\" >G</th>\n",
       "      <th class=\"col_heading level0 col2\" >H</th>\n",
       "      <th class=\"col_heading level0 col3\" >HR</th>\n",
       "      <th class=\"col_heading level0 col4\" >R</th>\n",
       "    </tr>\n",
       "    <tr>\n",
       "      <th class=\"index_name level0\" >playerID</th>\n",
       "      <th class=\"blank col0\" >&nbsp;</th>\n",
       "      <th class=\"blank col1\" >&nbsp;</th>\n",
       "      <th class=\"blank col2\" >&nbsp;</th>\n",
       "      <th class=\"blank col3\" >&nbsp;</th>\n",
       "      <th class=\"blank col4\" >&nbsp;</th>\n",
       "    </tr>\n",
       "  </thead>\n",
       "  <tbody>\n",
       "    <tr>\n",
       "      <th id=\"T_2456d_level0_row0\" class=\"row_heading level0 row0\" >altuvjo01</th>\n",
       "      <td id=\"T_2456d_row0_col0\" class=\"data row0 col0\" >1298.000000</td>\n",
       "      <td id=\"T_2456d_row0_col1\" class=\"data row0 col1\" >nan</td>\n",
       "      <td id=\"T_2456d_row0_col2\" class=\"data row0 col2\" >425.000000</td>\n",
       "      <td id=\"T_2456d_row0_col3\" class=\"data row0 col3\" >nan</td>\n",
       "      <td id=\"T_2456d_row0_col4\" class=\"data row0 col4\" >171.000000</td>\n",
       "    </tr>\n",
       "    <tr>\n",
       "      <th id=\"T_2456d_level0_row1\" class=\"row_heading level0 row1\" >cartech02</th>\n",
       "      <td id=\"T_2456d_row1_col0\" class=\"data row1 col0\" >898.000000</td>\n",
       "      <td id=\"T_2456d_row1_col1\" class=\"data row1 col1\" >nan</td>\n",
       "      <td id=\"T_2456d_row1_col2\" class=\"data row1 col2\" >193.000000</td>\n",
       "      <td id=\"T_2456d_row1_col3\" class=\"data row1 col3\" >nan</td>\n",
       "      <td id=\"T_2456d_row1_col4\" class=\"data row1 col4\" >118.000000</td>\n",
       "    </tr>\n",
       "    <tr>\n",
       "      <th id=\"T_2456d_level0_row2\" class=\"row_heading level0 row2\" >castrja01</th>\n",
       "      <td id=\"T_2456d_row2_col0\" class=\"data row2 col0\" >802.000000</td>\n",
       "      <td id=\"T_2456d_row2_col1\" class=\"data row2 col1\" >nan</td>\n",
       "      <td id=\"T_2456d_row2_col2\" class=\"data row2 col2\" >174.000000</td>\n",
       "      <td id=\"T_2456d_row2_col3\" class=\"data row2 col3\" >nan</td>\n",
       "      <td id=\"T_2456d_row2_col4\" class=\"data row2 col4\" >81.000000</td>\n",
       "    </tr>\n",
       "    <tr>\n",
       "      <th id=\"T_2456d_level0_row3\" class=\"row_heading level0 row3\" >congeha01</th>\n",
       "      <td id=\"T_2456d_row3_col0\" class=\"data row3 col0\" >nan</td>\n",
       "      <td id=\"T_2456d_row3_col1\" class=\"data row3 col1\" >nan</td>\n",
       "      <td id=\"T_2456d_row3_col2\" class=\"data row3 col2\" >nan</td>\n",
       "      <td id=\"T_2456d_row3_col3\" class=\"data row3 col3\" >nan</td>\n",
       "      <td id=\"T_2456d_row3_col4\" class=\"data row3 col4\" >nan</td>\n",
       "    </tr>\n",
       "    <tr>\n",
       "      <th id=\"T_2456d_level0_row4\" class=\"row_heading level0 row4\" >corpoca01</th>\n",
       "      <td id=\"T_2456d_row4_col0\" class=\"data row4 col0\" >nan</td>\n",
       "      <td id=\"T_2456d_row4_col1\" class=\"data row4 col1\" >nan</td>\n",
       "      <td id=\"T_2456d_row4_col2\" class=\"data row4 col2\" >nan</td>\n",
       "      <td id=\"T_2456d_row4_col3\" class=\"data row4 col3\" >nan</td>\n",
       "      <td id=\"T_2456d_row4_col4\" class=\"data row4 col4\" >nan</td>\n",
       "    </tr>\n",
       "    <tr>\n",
       "      <th id=\"T_2456d_level0_row5\" class=\"row_heading level0 row5\" >correca01</th>\n",
       "      <td id=\"T_2456d_row5_col0\" class=\"data row5 col0\" >nan</td>\n",
       "      <td id=\"T_2456d_row5_col1\" class=\"data row5 col1\" >nan</td>\n",
       "      <td id=\"T_2456d_row5_col2\" class=\"data row5 col2\" >nan</td>\n",
       "      <td id=\"T_2456d_row5_col3\" class=\"data row5 col3\" >nan</td>\n",
       "      <td id=\"T_2456d_row5_col4\" class=\"data row5 col4\" >nan</td>\n",
       "    </tr>\n",
       "    <tr>\n",
       "      <th id=\"T_2456d_level0_row6\" class=\"row_heading level0 row6\" >dominma01</th>\n",
       "      <td id=\"T_2456d_row6_col0\" class=\"data row6 col0\" >nan</td>\n",
       "      <td id=\"T_2456d_row6_col1\" class=\"data row6 col1\" >nan</td>\n",
       "      <td id=\"T_2456d_row6_col2\" class=\"data row6 col2\" >nan</td>\n",
       "      <td id=\"T_2456d_row6_col3\" class=\"data row6 col3\" >nan</td>\n",
       "      <td id=\"T_2456d_row6_col4\" class=\"data row6 col4\" >nan</td>\n",
       "    </tr>\n",
       "    <tr>\n",
       "      <th id=\"T_2456d_level0_row7\" class=\"row_heading level0 row7\" >fowlede01</th>\n",
       "      <td id=\"T_2456d_row7_col0\" class=\"data row7 col0\" >nan</td>\n",
       "      <td id=\"T_2456d_row7_col1\" class=\"data row7 col1\" >nan</td>\n",
       "      <td id=\"T_2456d_row7_col2\" class=\"data row7 col2\" >nan</td>\n",
       "      <td id=\"T_2456d_row7_col3\" class=\"data row7 col3\" >nan</td>\n",
       "      <td id=\"T_2456d_row7_col4\" class=\"data row7 col4\" >nan</td>\n",
       "    </tr>\n",
       "    <tr>\n",
       "      <th id=\"T_2456d_level0_row8\" class=\"row_heading level0 row8\" >gattiev01</th>\n",
       "      <td id=\"T_2456d_row8_col0\" class=\"data row8 col0\" >nan</td>\n",
       "      <td id=\"T_2456d_row8_col1\" class=\"data row8 col1\" >nan</td>\n",
       "      <td id=\"T_2456d_row8_col2\" class=\"data row8 col2\" >nan</td>\n",
       "      <td id=\"T_2456d_row8_col3\" class=\"data row8 col3\" >nan</td>\n",
       "      <td id=\"T_2456d_row8_col4\" class=\"data row8 col4\" >nan</td>\n",
       "    </tr>\n",
       "    <tr>\n",
       "      <th id=\"T_2456d_level0_row9\" class=\"row_heading level0 row9\" >gomezca01</th>\n",
       "      <td id=\"T_2456d_row9_col0\" class=\"data row9 col0\" >nan</td>\n",
       "      <td id=\"T_2456d_row9_col1\" class=\"data row9 col1\" >nan</td>\n",
       "      <td id=\"T_2456d_row9_col2\" class=\"data row9 col2\" >nan</td>\n",
       "      <td id=\"T_2456d_row9_col3\" class=\"data row9 col3\" >nan</td>\n",
       "      <td id=\"T_2456d_row9_col4\" class=\"data row9 col4\" >nan</td>\n",
       "    </tr>\n",
       "  </tbody>\n",
       "</table>\n"
      ],
      "text/plain": [
       "<pandas.io.formats.style.Styler at 0x1c43df23fd0>"
      ]
     },
     "execution_count": 38,
     "metadata": {},
     "output_type": "execute_result"
    }
   ],
   "source": [
    "# NaN값의 데이터\n",
    "(df_14 + df_15).head(10).style.highlight_null('yellow')"
   ]
  },
  {
   "cell_type": "code",
   "execution_count": 39,
   "id": "520d03a7",
   "metadata": {},
   "outputs": [
    {
     "data": {
      "text/html": [
       "<style type=\"text/css\">\n",
       "#T_76adf_row3_col1, #T_76adf_row4_col3, #T_76adf_row5_col1, #T_76adf_row6_col3, #T_76adf_row7_col3, #T_76adf_row8_col1, #T_76adf_row9_col1 {\n",
       "  background-color: yellow;\n",
       "}\n",
       "</style>\n",
       "<table id=\"T_76adf_\">\n",
       "  <thead>\n",
       "    <tr>\n",
       "      <th class=\"blank level0\" >&nbsp;</th>\n",
       "      <th class=\"col_heading level0 col0\" >AB</th>\n",
       "      <th class=\"col_heading level0 col1\" >G</th>\n",
       "      <th class=\"col_heading level0 col2\" >H</th>\n",
       "      <th class=\"col_heading level0 col3\" >HR</th>\n",
       "      <th class=\"col_heading level0 col4\" >R</th>\n",
       "    </tr>\n",
       "    <tr>\n",
       "      <th class=\"index_name level0\" >playerID</th>\n",
       "      <th class=\"blank col0\" >&nbsp;</th>\n",
       "      <th class=\"blank col1\" >&nbsp;</th>\n",
       "      <th class=\"blank col2\" >&nbsp;</th>\n",
       "      <th class=\"blank col3\" >&nbsp;</th>\n",
       "      <th class=\"blank col4\" >&nbsp;</th>\n",
       "    </tr>\n",
       "  </thead>\n",
       "  <tbody>\n",
       "    <tr>\n",
       "      <th id=\"T_76adf_level0_row0\" class=\"row_heading level0 row0\" >altuvjo01</th>\n",
       "      <td id=\"T_76adf_row0_col0\" class=\"data row0 col0\" >1298.000000</td>\n",
       "      <td id=\"T_76adf_row0_col1\" class=\"data row0 col1\" >158.000000</td>\n",
       "      <td id=\"T_76adf_row0_col2\" class=\"data row0 col2\" >425.000000</td>\n",
       "      <td id=\"T_76adf_row0_col3\" class=\"data row0 col3\" >15.000000</td>\n",
       "      <td id=\"T_76adf_row0_col4\" class=\"data row0 col4\" >171.000000</td>\n",
       "    </tr>\n",
       "    <tr>\n",
       "      <th id=\"T_76adf_level0_row1\" class=\"row_heading level0 row1\" >cartech02</th>\n",
       "      <td id=\"T_76adf_row1_col0\" class=\"data row1 col0\" >898.000000</td>\n",
       "      <td id=\"T_76adf_row1_col1\" class=\"data row1 col1\" >145.000000</td>\n",
       "      <td id=\"T_76adf_row1_col2\" class=\"data row1 col2\" >193.000000</td>\n",
       "      <td id=\"T_76adf_row1_col3\" class=\"data row1 col3\" >24.000000</td>\n",
       "      <td id=\"T_76adf_row1_col4\" class=\"data row1 col4\" >118.000000</td>\n",
       "    </tr>\n",
       "    <tr>\n",
       "      <th id=\"T_76adf_level0_row2\" class=\"row_heading level0 row2\" >castrja01</th>\n",
       "      <td id=\"T_76adf_row2_col0\" class=\"data row2 col0\" >802.000000</td>\n",
       "      <td id=\"T_76adf_row2_col1\" class=\"data row2 col1\" >126.000000</td>\n",
       "      <td id=\"T_76adf_row2_col2\" class=\"data row2 col2\" >174.000000</td>\n",
       "      <td id=\"T_76adf_row2_col3\" class=\"data row2 col3\" >11.000000</td>\n",
       "      <td id=\"T_76adf_row2_col4\" class=\"data row2 col4\" >81.000000</td>\n",
       "    </tr>\n",
       "    <tr>\n",
       "      <th id=\"T_76adf_level0_row3\" class=\"row_heading level0 row3\" >congeha01</th>\n",
       "      <td id=\"T_76adf_row3_col0\" class=\"data row3 col0\" >201.000000</td>\n",
       "      <td id=\"T_76adf_row3_col1\" class=\"data row3 col1\" >nan</td>\n",
       "      <td id=\"T_76adf_row3_col2\" class=\"data row3 col2\" >46.000000</td>\n",
       "      <td id=\"T_76adf_row3_col3\" class=\"data row3 col3\" >11.000000</td>\n",
       "      <td id=\"T_76adf_row3_col4\" class=\"data row3 col4\" >25.000000</td>\n",
       "    </tr>\n",
       "    <tr>\n",
       "      <th id=\"T_76adf_level0_row4\" class=\"row_heading level0 row4\" >corpoca01</th>\n",
       "      <td id=\"T_76adf_row4_col0\" class=\"data row4 col0\" >170.000000</td>\n",
       "      <td id=\"T_76adf_row4_col1\" class=\"data row4 col1\" >55.000000</td>\n",
       "      <td id=\"T_76adf_row4_col2\" class=\"data row4 col2\" >40.000000</td>\n",
       "      <td id=\"T_76adf_row4_col3\" class=\"data row4 col3\" >nan</td>\n",
       "      <td id=\"T_76adf_row4_col4\" class=\"data row4 col4\" >22.000000</td>\n",
       "    </tr>\n",
       "    <tr>\n",
       "      <th id=\"T_76adf_level0_row5\" class=\"row_heading level0 row5\" >correca01</th>\n",
       "      <td id=\"T_76adf_row5_col0\" class=\"data row5 col0\" >387.000000</td>\n",
       "      <td id=\"T_76adf_row5_col1\" class=\"data row5 col1\" >nan</td>\n",
       "      <td id=\"T_76adf_row5_col2\" class=\"data row5 col2\" >108.000000</td>\n",
       "      <td id=\"T_76adf_row5_col3\" class=\"data row5 col3\" >22.000000</td>\n",
       "      <td id=\"T_76adf_row5_col4\" class=\"data row5 col4\" >52.000000</td>\n",
       "    </tr>\n",
       "    <tr>\n",
       "      <th id=\"T_76adf_level0_row6\" class=\"row_heading level0 row6\" >dominma01</th>\n",
       "      <td id=\"T_76adf_row6_col0\" class=\"data row6 col0\" >564.000000</td>\n",
       "      <td id=\"T_76adf_row6_col1\" class=\"data row6 col1\" >157.000000</td>\n",
       "      <td id=\"T_76adf_row6_col2\" class=\"data row6 col2\" >121.000000</td>\n",
       "      <td id=\"T_76adf_row6_col3\" class=\"data row6 col3\" >nan</td>\n",
       "      <td id=\"T_76adf_row6_col4\" class=\"data row6 col4\" >51.000000</td>\n",
       "    </tr>\n",
       "    <tr>\n",
       "      <th id=\"T_76adf_level0_row7\" class=\"row_heading level0 row7\" >fowlede01</th>\n",
       "      <td id=\"T_76adf_row7_col0\" class=\"data row7 col0\" >434.000000</td>\n",
       "      <td id=\"T_76adf_row7_col1\" class=\"data row7 col1\" >116.000000</td>\n",
       "      <td id=\"T_76adf_row7_col2\" class=\"data row7 col2\" >120.000000</td>\n",
       "      <td id=\"T_76adf_row7_col3\" class=\"data row7 col3\" >nan</td>\n",
       "      <td id=\"T_76adf_row7_col4\" class=\"data row7 col4\" >61.000000</td>\n",
       "    </tr>\n",
       "    <tr>\n",
       "      <th id=\"T_76adf_level0_row8\" class=\"row_heading level0 row8\" >gattiev01</th>\n",
       "      <td id=\"T_76adf_row8_col0\" class=\"data row8 col0\" >566.000000</td>\n",
       "      <td id=\"T_76adf_row8_col1\" class=\"data row8 col1\" >nan</td>\n",
       "      <td id=\"T_76adf_row8_col2\" class=\"data row8 col2\" >139.000000</td>\n",
       "      <td id=\"T_76adf_row8_col3\" class=\"data row8 col3\" >27.000000</td>\n",
       "      <td id=\"T_76adf_row8_col4\" class=\"data row8 col4\" >66.000000</td>\n",
       "    </tr>\n",
       "    <tr>\n",
       "      <th id=\"T_76adf_level0_row9\" class=\"row_heading level0 row9\" >gomezca01</th>\n",
       "      <td id=\"T_76adf_row9_col0\" class=\"data row9 col0\" >149.000000</td>\n",
       "      <td id=\"T_76adf_row9_col1\" class=\"data row9 col1\" >nan</td>\n",
       "      <td id=\"T_76adf_row9_col2\" class=\"data row9 col2\" >36.000000</td>\n",
       "      <td id=\"T_76adf_row9_col3\" class=\"data row9 col3\" >4.000000</td>\n",
       "      <td id=\"T_76adf_row9_col4\" class=\"data row9 col4\" >19.000000</td>\n",
       "    </tr>\n",
       "  </tbody>\n",
       "</table>\n"
      ],
      "text/plain": [
       "<pandas.io.formats.style.Styler at 0x1c43e9acc40>"
      ]
     },
     "execution_count": 39,
     "metadata": {},
     "output_type": "execute_result"
    }
   ],
   "source": [
    "(df_14\n",
    ".add(df_15, fill_value=0)\n",
    ".head(10)\n",
    ".style.highlight_null('yellow')\n",
    ")"
   ]
  },
  {
   "cell_type": "markdown",
   "id": "9ee49b50",
   "metadata": {},
   "source": [
    "## 다른 DataFrame의 열 더하기"
   ]
  },
  {
   "cell_type": "code",
   "execution_count": 40,
   "id": "f231399f",
   "metadata": {},
   "outputs": [],
   "source": [
    "employee = pd.read_csv('employee.csv')\n",
    "dept_sal = employee[['DEPARTMENT', 'BASE_SALARY']]"
   ]
  },
  {
   "cell_type": "code",
   "execution_count": 41,
   "id": "c632b5c0",
   "metadata": {},
   "outputs": [],
   "source": [
    "# DEPARTMENT는 오름차순, BASE_SALARY는 내림차순\n",
    "dept_sal = dept_sal.sort_values(['DEPARTMENT', 'BASE_SALARY'],\n",
    "    ascending=[True, False])"
   ]
  },
  {
   "cell_type": "code",
   "execution_count": 42,
   "id": "bfa2c434",
   "metadata": {},
   "outputs": [
    {
     "data": {
      "text/html": [
       "<div>\n",
       "<style scoped>\n",
       "    .dataframe tbody tr th:only-of-type {\n",
       "        vertical-align: middle;\n",
       "    }\n",
       "\n",
       "    .dataframe tbody tr th {\n",
       "        vertical-align: top;\n",
       "    }\n",
       "\n",
       "    .dataframe thead th {\n",
       "        text-align: right;\n",
       "    }\n",
       "</style>\n",
       "<table border=\"1\" class=\"dataframe\">\n",
       "  <thead>\n",
       "    <tr style=\"text-align: right;\">\n",
       "      <th></th>\n",
       "      <th>DEPARTMENT</th>\n",
       "      <th>BASE_SALARY</th>\n",
       "    </tr>\n",
       "  </thead>\n",
       "  <tbody>\n",
       "    <tr>\n",
       "      <th>1494</th>\n",
       "      <td>Admn. &amp; ...</td>\n",
       "      <td>140416.0</td>\n",
       "    </tr>\n",
       "    <tr>\n",
       "      <th>149</th>\n",
       "      <td>City Con...</td>\n",
       "      <td>64251.0</td>\n",
       "    </tr>\n",
       "    <tr>\n",
       "      <th>236</th>\n",
       "      <td>City Cou...</td>\n",
       "      <td>100000.0</td>\n",
       "    </tr>\n",
       "    <tr>\n",
       "      <th>647</th>\n",
       "      <td>Conventi...</td>\n",
       "      <td>38397.0</td>\n",
       "    </tr>\n",
       "    <tr>\n",
       "      <th>1500</th>\n",
       "      <td>Dept of ...</td>\n",
       "      <td>89221.0</td>\n",
       "    </tr>\n",
       "  </tbody>\n",
       "</table>\n",
       "</div>"
      ],
      "text/plain": [
       "       DEPARTMENT  BASE_SALARY\n",
       "1494  Admn. & ...     140416.0\n",
       "149   City Con...      64251.0\n",
       "236   City Cou...     100000.0\n",
       "647   Conventi...      38397.0\n",
       "1500  Dept of ...      89221.0"
      ]
     },
     "execution_count": 42,
     "metadata": {},
     "output_type": "execute_result"
    }
   ],
   "source": [
    "# drop_duplicates : 중복데이터 drop\n",
    "max_dept_sal = dept_sal.drop_duplicates(subset='DEPARTMENT')\n",
    "max_dept_sal.head()"
   ]
  },
  {
   "cell_type": "code",
   "execution_count": 43,
   "id": "ba86696c",
   "metadata": {},
   "outputs": [],
   "source": [
    "# index를 DEPARTENT의 값들로\n",
    "max_dept_sal = max_dept_sal.set_index('DEPARTMENT')\n",
    "employee = employee.set_index('DEPARTMENT')"
   ]
  },
  {
   "cell_type": "code",
   "execution_count": 44,
   "id": "9b21a9a6",
   "metadata": {
    "scrolled": true
   },
   "outputs": [
    {
     "data": {
      "text/html": [
       "<div>\n",
       "<style scoped>\n",
       "    .dataframe tbody tr th:only-of-type {\n",
       "        vertical-align: middle;\n",
       "    }\n",
       "\n",
       "    .dataframe tbody tr th {\n",
       "        vertical-align: top;\n",
       "    }\n",
       "\n",
       "    .dataframe thead th {\n",
       "        text-align: right;\n",
       "    }\n",
       "</style>\n",
       "<table border=\"1\" class=\"dataframe\">\n",
       "  <thead>\n",
       "    <tr style=\"text-align: right;\">\n",
       "      <th></th>\n",
       "      <th>UNIQUE_ID</th>\n",
       "      <th>POSITION_TITLE</th>\n",
       "      <th>BASE_SALARY</th>\n",
       "      <th>RACE</th>\n",
       "      <th>...</th>\n",
       "      <th>EMPLOYMENT_STATUS</th>\n",
       "      <th>HIRE_DATE</th>\n",
       "      <th>JOB_DATE</th>\n",
       "      <th>MAX_DEPT_SALARY</th>\n",
       "    </tr>\n",
       "    <tr>\n",
       "      <th>DEPARTMENT</th>\n",
       "      <th></th>\n",
       "      <th></th>\n",
       "      <th></th>\n",
       "      <th></th>\n",
       "      <th></th>\n",
       "      <th></th>\n",
       "      <th></th>\n",
       "      <th></th>\n",
       "      <th></th>\n",
       "    </tr>\n",
       "  </thead>\n",
       "  <tbody>\n",
       "    <tr>\n",
       "      <th>Municipal Courts Department</th>\n",
       "      <td>0</td>\n",
       "      <td>ASSISTAN...</td>\n",
       "      <td>121862.0</td>\n",
       "      <td>Hispanic...</td>\n",
       "      <td>...</td>\n",
       "      <td>Active</td>\n",
       "      <td>2006-06-12</td>\n",
       "      <td>2012-10-13</td>\n",
       "      <td>121862.0</td>\n",
       "    </tr>\n",
       "    <tr>\n",
       "      <th>Library</th>\n",
       "      <td>1</td>\n",
       "      <td>LIBRARY ...</td>\n",
       "      <td>26125.0</td>\n",
       "      <td>Hispanic...</td>\n",
       "      <td>...</td>\n",
       "      <td>Active</td>\n",
       "      <td>2000-07-19</td>\n",
       "      <td>2010-09-18</td>\n",
       "      <td>107763.0</td>\n",
       "    </tr>\n",
       "    <tr>\n",
       "      <th>Houston Police Department-HPD</th>\n",
       "      <td>2</td>\n",
       "      <td>POLICE O...</td>\n",
       "      <td>45279.0</td>\n",
       "      <td>White</td>\n",
       "      <td>...</td>\n",
       "      <td>Active</td>\n",
       "      <td>2015-02-03</td>\n",
       "      <td>2015-02-03</td>\n",
       "      <td>199596.0</td>\n",
       "    </tr>\n",
       "  </tbody>\n",
       "</table>\n",
       "<p>3 rows × 10 columns</p>\n",
       "</div>"
      ],
      "text/plain": [
       "              UNIQUE_ID POSITION_TITLE  BASE_SALARY         RACE  ...  \\\n",
       "DEPARTMENT                                                        ...   \n",
       "Municipal...          0  ASSISTAN...       121862.0  Hispanic...  ...   \n",
       "Library               1  LIBRARY ...        26125.0  Hispanic...  ...   \n",
       "Houston P...          2  POLICE O...        45279.0        White  ...   \n",
       "\n",
       "             EMPLOYMENT_STATUS   HIRE_DATE    JOB_DATE MAX_DEPT_SALARY  \n",
       "DEPARTMENT                                                              \n",
       "Municipal...       Active       2006-06-12  2012-10-13     121862.0     \n",
       "Library            Active       2000-07-19  2010-09-18     107763.0     \n",
       "Houston P...       Active       2015-02-03  2015-02-03     199596.0     \n",
       "\n",
       "[3 rows x 10 columns]"
      ]
     },
     "execution_count": 44,
     "metadata": {},
     "output_type": "execute_result"
    }
   ],
   "source": [
    "# assign을 통해 맨 뒤 칼럼을 MAX_DEPT_SALARY로 생성\n",
    "employee = (employee\n",
    "   .assign(MAX_DEPT_SALARY=max_dept_sal['BASE_SALARY'])\n",
    ")\n",
    "employee.head(3)"
   ]
  },
  {
   "cell_type": "code",
   "execution_count": 45,
   "id": "988656b2",
   "metadata": {},
   "outputs": [
    {
     "data": {
      "text/html": [
       "<div>\n",
       "<style scoped>\n",
       "    .dataframe tbody tr th:only-of-type {\n",
       "        vertical-align: middle;\n",
       "    }\n",
       "\n",
       "    .dataframe tbody tr th {\n",
       "        vertical-align: top;\n",
       "    }\n",
       "\n",
       "    .dataframe thead th {\n",
       "        text-align: right;\n",
       "    }\n",
       "</style>\n",
       "<table border=\"1\" class=\"dataframe\">\n",
       "  <thead>\n",
       "    <tr style=\"text-align: right;\">\n",
       "      <th></th>\n",
       "      <th>UNIQUE_ID</th>\n",
       "      <th>POSITION_TITLE</th>\n",
       "      <th>BASE_SALARY</th>\n",
       "      <th>RACE</th>\n",
       "      <th>...</th>\n",
       "      <th>EMPLOYMENT_STATUS</th>\n",
       "      <th>HIRE_DATE</th>\n",
       "      <th>JOB_DATE</th>\n",
       "      <th>MAX_DEPT_SALARY</th>\n",
       "    </tr>\n",
       "    <tr>\n",
       "      <th>DEPARTMENT</th>\n",
       "      <th></th>\n",
       "      <th></th>\n",
       "      <th></th>\n",
       "      <th></th>\n",
       "      <th></th>\n",
       "      <th></th>\n",
       "      <th></th>\n",
       "      <th></th>\n",
       "      <th></th>\n",
       "    </tr>\n",
       "  </thead>\n",
       "  <tbody>\n",
       "  </tbody>\n",
       "</table>\n",
       "<p>0 rows × 10 columns</p>\n",
       "</div>"
      ],
      "text/plain": [
       "Empty DataFrame\n",
       "Columns: [UNIQUE_ID, POSITION_TITLE, BASE_SALARY, RACE, EMPLOYMENT_TYPE, GENDER, EMPLOYMENT_STATUS, HIRE_DATE, JOB_DATE, MAX_DEPT_SALARY]\n",
       "Index: []\n",
       "\n",
       "[0 rows x 10 columns]"
      ]
     },
     "execution_count": 45,
     "metadata": {},
     "output_type": "execute_result"
    }
   ],
   "source": [
    "# query : 비교연산을 가능하게 해주는 매서드\n",
    "employee.query('BASE_SALARY > MAX_DEPT_SALARY')"
   ]
  },
  {
   "cell_type": "code",
   "execution_count": 46,
   "id": "13194422",
   "metadata": {},
   "outputs": [
    {
     "data": {
      "text/html": [
       "<div>\n",
       "<style scoped>\n",
       "    .dataframe tbody tr th:only-of-type {\n",
       "        vertical-align: middle;\n",
       "    }\n",
       "\n",
       "    .dataframe tbody tr th {\n",
       "        vertical-align: top;\n",
       "    }\n",
       "\n",
       "    .dataframe thead th {\n",
       "        text-align: right;\n",
       "    }\n",
       "</style>\n",
       "<table border=\"1\" class=\"dataframe\">\n",
       "  <thead>\n",
       "    <tr style=\"text-align: right;\">\n",
       "      <th></th>\n",
       "      <th>UNIQUE_ID</th>\n",
       "      <th>POSITION_TITLE</th>\n",
       "      <th>BASE_SALARY</th>\n",
       "      <th>RACE</th>\n",
       "      <th>...</th>\n",
       "      <th>EMPLOYMENT_STATUS</th>\n",
       "      <th>HIRE_DATE</th>\n",
       "      <th>JOB_DATE</th>\n",
       "      <th>MAX_DEPT_SALARY</th>\n",
       "    </tr>\n",
       "    <tr>\n",
       "      <th>DEPARTMENT</th>\n",
       "      <th></th>\n",
       "      <th></th>\n",
       "      <th></th>\n",
       "      <th></th>\n",
       "      <th></th>\n",
       "      <th></th>\n",
       "      <th></th>\n",
       "      <th></th>\n",
       "      <th></th>\n",
       "    </tr>\n",
       "  </thead>\n",
       "  <tbody>\n",
       "    <tr>\n",
       "      <th>Municipal Courts Department</th>\n",
       "      <td>0</td>\n",
       "      <td>ASSISTAN...</td>\n",
       "      <td>121862.0</td>\n",
       "      <td>Hispanic...</td>\n",
       "      <td>...</td>\n",
       "      <td>Active</td>\n",
       "      <td>2006-06-12</td>\n",
       "      <td>2012-10-13</td>\n",
       "      <td>121862.0</td>\n",
       "    </tr>\n",
       "    <tr>\n",
       "      <th>Health &amp; Human Services</th>\n",
       "      <td>11</td>\n",
       "      <td>CHIEF PH...</td>\n",
       "      <td>180416.0</td>\n",
       "      <td>Black or...</td>\n",
       "      <td>...</td>\n",
       "      <td>Active</td>\n",
       "      <td>1987-05-22</td>\n",
       "      <td>1999-08-28</td>\n",
       "      <td>180416.0</td>\n",
       "    </tr>\n",
       "    <tr>\n",
       "      <th>City Controller's Office</th>\n",
       "      <td>149</td>\n",
       "      <td>ADMINIST...</td>\n",
       "      <td>64251.0</td>\n",
       "      <td>Hispanic...</td>\n",
       "      <td>...</td>\n",
       "      <td>Active</td>\n",
       "      <td>1990-12-11</td>\n",
       "      <td>2010-05-01</td>\n",
       "      <td>64251.0</td>\n",
       "    </tr>\n",
       "  </tbody>\n",
       "</table>\n",
       "<p>3 rows × 10 columns</p>\n",
       "</div>"
      ],
      "text/plain": [
       "              UNIQUE_ID POSITION_TITLE  BASE_SALARY         RACE  ...  \\\n",
       "DEPARTMENT                                                        ...   \n",
       "Municipal...          0  ASSISTAN...       121862.0  Hispanic...  ...   \n",
       "Health & ...         11  CHIEF PH...       180416.0  Black or...  ...   \n",
       "City Cont...        149  ADMINIST...        64251.0  Hispanic...  ...   \n",
       "\n",
       "             EMPLOYMENT_STATUS   HIRE_DATE    JOB_DATE MAX_DEPT_SALARY  \n",
       "DEPARTMENT                                                              \n",
       "Municipal...       Active       2006-06-12  2012-10-13     121862.0     \n",
       "Health & ...       Active       1987-05-22  1999-08-28     180416.0     \n",
       "City Cont...       Active       1990-12-11  2010-05-01      64251.0     \n",
       "\n",
       "[3 rows x 10 columns]"
      ]
     },
     "execution_count": 46,
     "metadata": {},
     "output_type": "execute_result"
    }
   ],
   "source": [
    "employee.query('BASE_SALARY >= MAX_DEPT_SALARY').head(3)"
   ]
  },
  {
   "cell_type": "code",
   "execution_count": 70,
   "id": "b4fa9af1",
   "metadata": {},
   "outputs": [],
   "source": [
    "# 중복데이터를 없애 카디션곱이 일어나지않게 하자\n",
    "employee = pd.read_csv('employee.csv')\n",
    "max_dept_sal = (employee\n",
    "    [['DEPARTMENT', 'BASE_SALARY']]\n",
    "    .sort_values(['DEPARTMENT', 'BASE_SALARY'],\n",
    "        ascending=[True, False])\n",
    "    .drop_duplicates(subset='DEPARTMENT')\n",
    "    .set_index('DEPARTMENT')\n",
    ")"
   ]
  },
  {
   "cell_type": "code",
   "execution_count": 78,
   "id": "7e58fa70",
   "metadata": {
    "scrolled": true
   },
   "outputs": [
    {
     "data": {
      "text/html": [
       "<div>\n",
       "<style scoped>\n",
       "    .dataframe tbody tr th:only-of-type {\n",
       "        vertical-align: middle;\n",
       "    }\n",
       "\n",
       "    .dataframe tbody tr th {\n",
       "        vertical-align: top;\n",
       "    }\n",
       "\n",
       "    .dataframe thead th {\n",
       "        text-align: right;\n",
       "    }\n",
       "</style>\n",
       "<table border=\"1\" class=\"dataframe\">\n",
       "  <thead>\n",
       "    <tr style=\"text-align: right;\">\n",
       "      <th></th>\n",
       "      <th>UNIQUE_ID</th>\n",
       "      <th>POSITION_TITLE</th>\n",
       "      <th>BASE_SALARY</th>\n",
       "      <th>RACE</th>\n",
       "      <th>...</th>\n",
       "      <th>EMPLOYMENT_STATUS</th>\n",
       "      <th>HIRE_DATE</th>\n",
       "      <th>JOB_DATE</th>\n",
       "      <th>MAX_DEPT_SALARY</th>\n",
       "    </tr>\n",
       "    <tr>\n",
       "      <th>DEPARTMENT</th>\n",
       "      <th></th>\n",
       "      <th></th>\n",
       "      <th></th>\n",
       "      <th></th>\n",
       "      <th></th>\n",
       "      <th></th>\n",
       "      <th></th>\n",
       "      <th></th>\n",
       "      <th></th>\n",
       "    </tr>\n",
       "  </thead>\n",
       "  <tbody>\n",
       "    <tr>\n",
       "      <th>Municipal Courts Department</th>\n",
       "      <td>0</td>\n",
       "      <td>ASSISTAN...</td>\n",
       "      <td>121862.0</td>\n",
       "      <td>Hispanic...</td>\n",
       "      <td>...</td>\n",
       "      <td>Active</td>\n",
       "      <td>2006-06-12</td>\n",
       "      <td>2012-10-13</td>\n",
       "      <td>121862.0</td>\n",
       "    </tr>\n",
       "    <tr>\n",
       "      <th>Library</th>\n",
       "      <td>1</td>\n",
       "      <td>LIBRARY ...</td>\n",
       "      <td>26125.0</td>\n",
       "      <td>Hispanic...</td>\n",
       "      <td>...</td>\n",
       "      <td>Active</td>\n",
       "      <td>2000-07-19</td>\n",
       "      <td>2010-09-18</td>\n",
       "      <td>107763.0</td>\n",
       "    </tr>\n",
       "    <tr>\n",
       "      <th>Houston Police Department-HPD</th>\n",
       "      <td>2</td>\n",
       "      <td>POLICE O...</td>\n",
       "      <td>45279.0</td>\n",
       "      <td>White</td>\n",
       "      <td>...</td>\n",
       "      <td>Active</td>\n",
       "      <td>2015-02-03</td>\n",
       "      <td>2015-02-03</td>\n",
       "      <td>199596.0</td>\n",
       "    </tr>\n",
       "  </tbody>\n",
       "</table>\n",
       "<p>3 rows × 10 columns</p>\n",
       "</div>"
      ],
      "text/plain": [
       "              UNIQUE_ID POSITION_TITLE  BASE_SALARY         RACE  ...  \\\n",
       "DEPARTMENT                                                        ...   \n",
       "Municipal...          0  ASSISTAN...       121862.0  Hispanic...  ...   \n",
       "Library               1  LIBRARY ...        26125.0  Hispanic...  ...   \n",
       "Houston P...          2  POLICE O...        45279.0        White  ...   \n",
       "\n",
       "             EMPLOYMENT_STATUS   HIRE_DATE    JOB_DATE MAX_DEPT_SALARY  \n",
       "DEPARTMENT                                                              \n",
       "Municipal...       Active       2006-06-12  2012-10-13     121862.0     \n",
       "Library            Active       2000-07-19  2010-09-18     107763.0     \n",
       "Houston P...       Active       2015-02-03  2015-02-03     199596.0     \n",
       "\n",
       "[3 rows x 10 columns]"
      ]
     },
     "execution_count": 78,
     "metadata": {},
     "output_type": "execute_result"
    }
   ],
   "source": [
    "employee_new =(employee\n",
    "    .set_index('DEPARTMENT')\n",
    "    .assign(MAX_DEPT_SALARY=max_dept_sal['BASE_SALARY'])\n",
    ").head(3)\n",
    "employee_new"
   ]
  },
  {
   "cell_type": "code",
   "execution_count": 76,
   "id": "c3681052",
   "metadata": {},
   "outputs": [
    {
     "data": {
      "text/html": [
       "<div>\n",
       "<style scoped>\n",
       "    .dataframe tbody tr th:only-of-type {\n",
       "        vertical-align: middle;\n",
       "    }\n",
       "\n",
       "    .dataframe tbody tr th {\n",
       "        vertical-align: top;\n",
       "    }\n",
       "\n",
       "    .dataframe thead th {\n",
       "        text-align: right;\n",
       "    }\n",
       "</style>\n",
       "<table border=\"1\" class=\"dataframe\">\n",
       "  <thead>\n",
       "    <tr style=\"text-align: right;\">\n",
       "      <th></th>\n",
       "      <th>BASE_SALARY</th>\n",
       "    </tr>\n",
       "    <tr>\n",
       "      <th>DEPARTMENT</th>\n",
       "      <th></th>\n",
       "    </tr>\n",
       "  </thead>\n",
       "  <tbody>\n",
       "    <tr>\n",
       "      <th>Public Works &amp; Engineering-PWE</th>\n",
       "      <td>34861.0</td>\n",
       "    </tr>\n",
       "    <tr>\n",
       "      <th>Houston Airport System (HAS)</th>\n",
       "      <td>29286.0</td>\n",
       "    </tr>\n",
       "    <tr>\n",
       "      <th>Houston Police Department-HPD</th>\n",
       "      <td>31907.0</td>\n",
       "    </tr>\n",
       "    <tr>\n",
       "      <th>Houston Police Department-HPD</th>\n",
       "      <td>66614.0</td>\n",
       "    </tr>\n",
       "    <tr>\n",
       "      <th>Houston Police Department-HPD</th>\n",
       "      <td>42000.0</td>\n",
       "    </tr>\n",
       "    <tr>\n",
       "      <th>Houston Police Department-HPD</th>\n",
       "      <td>43443.0</td>\n",
       "    </tr>\n",
       "    <tr>\n",
       "      <th>Houston Police Department-HPD</th>\n",
       "      <td>66614.0</td>\n",
       "    </tr>\n",
       "    <tr>\n",
       "      <th>Public Works &amp; Engineering-PWE</th>\n",
       "      <td>52582.0</td>\n",
       "    </tr>\n",
       "    <tr>\n",
       "      <th>Finance</th>\n",
       "      <td>93168.0</td>\n",
       "    </tr>\n",
       "    <tr>\n",
       "      <th>Houston Police Department-HPD</th>\n",
       "      <td>35318.0</td>\n",
       "    </tr>\n",
       "  </tbody>\n",
       "</table>\n",
       "</div>"
      ],
      "text/plain": [
       "              BASE_SALARY\n",
       "DEPARTMENT               \n",
       "Public Wo...      34861.0\n",
       "Houston A...      29286.0\n",
       "Houston P...      31907.0\n",
       "Houston P...      66614.0\n",
       "Houston P...      42000.0\n",
       "Houston P...      43443.0\n",
       "Houston P...      66614.0\n",
       "Public Wo...      52582.0\n",
       "Finance           93168.0\n",
       "Houston P...      35318.0"
      ]
     },
     "execution_count": 76,
     "metadata": {},
     "output_type": "execute_result"
    }
   ],
   "source": [
    "# dept_sal = employee[['DEPARTMENT', 'BASE_SALARY']]\n",
    "random_salary = (dept_sal\n",
    "    .sample(n=10, random_state=42)\n",
    "    .set_index('DEPARTMENT')\n",
    ")\n",
    "random_salary"
   ]
  },
  {
   "cell_type": "code",
   "execution_count": 79,
   "id": "c15a3360",
   "metadata": {},
   "outputs": [
    {
     "data": {
      "text/plain": [
       "140416.0    29\n",
       "100000.0    11\n",
       "64251.0      5\n",
       "Name: MAX_SALARY2, dtype: int64"
      ]
     },
     "execution_count": 79,
     "metadata": {},
     "output_type": "execute_result"
    }
   ],
   "source": [
    "(employee\n",
    "    .set_index('DEPARTMENT')\n",
    "    .assign(MAX_SALARY2=max_dept_sal['BASE_SALARY'].head(3))\n",
    "    .MAX_SALARY2\n",
    "    .value_counts()\n",
    ")"
   ]
  },
  {
   "cell_type": "code",
   "execution_count": 83,
   "id": "3b48c967",
   "metadata": {},
   "outputs": [
    {
     "data": {
      "text/plain": [
       "DEPARTMENT\n",
       "Admn. & Regulatory Affairs        140416.0\n",
       "City Controller's Office           64251.0\n",
       "City Council                      100000.0\n",
       "Convention and Entertainment       38397.0\n",
       "Dept of Neighborhoods (DON)        89221.0\n",
       "                                    ...   \n",
       "Municipal Courts Department       121862.0\n",
       "Parks & Recreation                 85055.0\n",
       "Planning & Development             68762.0\n",
       "Public Works & Engineering-PWE    178331.0\n",
       "Solid Waste Management            110005.0\n",
       "Name: BASE_SALARY, Length: 24, dtype: float64"
      ]
     },
     "execution_count": 83,
     "metadata": {},
     "output_type": "execute_result"
    }
   ],
   "source": [
    "# max()를 사용하면 groupby칼럼의 순서대로 출력\n",
    "employee.groupby('DEPARTMENT').BASE_SALARY.max()"
   ]
  },
  {
   "cell_type": "code",
   "execution_count": 84,
   "id": "c1c071fa",
   "metadata": {},
   "outputs": [
    {
     "data": {
      "text/plain": [
       "0       121862.0\n",
       "1       107763.0\n",
       "2       199596.0\n",
       "3       210588.0\n",
       "4        89194.0\n",
       "          ...   \n",
       "1995    199596.0\n",
       "1996    210588.0\n",
       "1997    199596.0\n",
       "1998    199596.0\n",
       "1999    210588.0\n",
       "Name: BASE_SALARY, Length: 2000, dtype: float64"
      ]
     },
     "execution_count": 84,
     "metadata": {},
     "output_type": "execute_result"
    }
   ],
   "source": [
    "# transform을 사용하면 index가 유지된다.\n",
    "employee.groupby('DEPARTMENT').BASE_SALARY.transform('max')"
   ]
  },
  {
   "cell_type": "code",
   "execution_count": 80,
   "id": "a6bcb018",
   "metadata": {},
   "outputs": [],
   "source": [
    "max_sal = (employee\n",
    "    .groupby('DEPARTMENT')\n",
    "    .BASE_SALARY\n",
    "    .transform('max')\n",
    ")"
   ]
  },
  {
   "cell_type": "code",
   "execution_count": 81,
   "id": "4a6ff3dc",
   "metadata": {
    "collapsed": true
   },
   "outputs": [
    {
     "data": {
      "text/html": [
       "<div>\n",
       "<style scoped>\n",
       "    .dataframe tbody tr th:only-of-type {\n",
       "        vertical-align: middle;\n",
       "    }\n",
       "\n",
       "    .dataframe tbody tr th {\n",
       "        vertical-align: top;\n",
       "    }\n",
       "\n",
       "    .dataframe thead th {\n",
       "        text-align: right;\n",
       "    }\n",
       "</style>\n",
       "<table border=\"1\" class=\"dataframe\">\n",
       "  <thead>\n",
       "    <tr style=\"text-align: right;\">\n",
       "      <th></th>\n",
       "      <th>UNIQUE_ID</th>\n",
       "      <th>POSITION_TITLE</th>\n",
       "      <th>DEPARTMENT</th>\n",
       "      <th>BASE_SALARY</th>\n",
       "      <th>...</th>\n",
       "      <th>EMPLOYMENT_STATUS</th>\n",
       "      <th>HIRE_DATE</th>\n",
       "      <th>JOB_DATE</th>\n",
       "      <th>MAX_DEPT_SALARY</th>\n",
       "    </tr>\n",
       "  </thead>\n",
       "  <tbody>\n",
       "    <tr>\n",
       "      <th>0</th>\n",
       "      <td>0</td>\n",
       "      <td>ASSISTAN...</td>\n",
       "      <td>Municipa...</td>\n",
       "      <td>121862.0</td>\n",
       "      <td>...</td>\n",
       "      <td>Active</td>\n",
       "      <td>2006-06-12</td>\n",
       "      <td>2012-10-13</td>\n",
       "      <td>121862.0</td>\n",
       "    </tr>\n",
       "    <tr>\n",
       "      <th>1</th>\n",
       "      <td>1</td>\n",
       "      <td>LIBRARY ...</td>\n",
       "      <td>Library</td>\n",
       "      <td>26125.0</td>\n",
       "      <td>...</td>\n",
       "      <td>Active</td>\n",
       "      <td>2000-07-19</td>\n",
       "      <td>2010-09-18</td>\n",
       "      <td>107763.0</td>\n",
       "    </tr>\n",
       "    <tr>\n",
       "      <th>2</th>\n",
       "      <td>2</td>\n",
       "      <td>POLICE O...</td>\n",
       "      <td>Houston ...</td>\n",
       "      <td>45279.0</td>\n",
       "      <td>...</td>\n",
       "      <td>Active</td>\n",
       "      <td>2015-02-03</td>\n",
       "      <td>2015-02-03</td>\n",
       "      <td>199596.0</td>\n",
       "    </tr>\n",
       "    <tr>\n",
       "      <th>3</th>\n",
       "      <td>3</td>\n",
       "      <td>ENGINEER...</td>\n",
       "      <td>Houston ...</td>\n",
       "      <td>63166.0</td>\n",
       "      <td>...</td>\n",
       "      <td>Active</td>\n",
       "      <td>1982-02-08</td>\n",
       "      <td>1991-05-25</td>\n",
       "      <td>210588.0</td>\n",
       "    </tr>\n",
       "    <tr>\n",
       "      <th>4</th>\n",
       "      <td>4</td>\n",
       "      <td>ELECTRICIAN</td>\n",
       "      <td>General ...</td>\n",
       "      <td>56347.0</td>\n",
       "      <td>...</td>\n",
       "      <td>Active</td>\n",
       "      <td>1989-06-19</td>\n",
       "      <td>1994-10-22</td>\n",
       "      <td>89194.0</td>\n",
       "    </tr>\n",
       "    <tr>\n",
       "      <th>...</th>\n",
       "      <td>...</td>\n",
       "      <td>...</td>\n",
       "      <td>...</td>\n",
       "      <td>...</td>\n",
       "      <td>...</td>\n",
       "      <td>...</td>\n",
       "      <td>...</td>\n",
       "      <td>...</td>\n",
       "      <td>...</td>\n",
       "    </tr>\n",
       "    <tr>\n",
       "      <th>1995</th>\n",
       "      <td>1995</td>\n",
       "      <td>POLICE O...</td>\n",
       "      <td>Houston ...</td>\n",
       "      <td>43443.0</td>\n",
       "      <td>...</td>\n",
       "      <td>Active</td>\n",
       "      <td>2014-06-09</td>\n",
       "      <td>2015-06-09</td>\n",
       "      <td>199596.0</td>\n",
       "    </tr>\n",
       "    <tr>\n",
       "      <th>1996</th>\n",
       "      <td>1996</td>\n",
       "      <td>COMMUNIC...</td>\n",
       "      <td>Houston ...</td>\n",
       "      <td>66523.0</td>\n",
       "      <td>...</td>\n",
       "      <td>Active</td>\n",
       "      <td>2003-09-02</td>\n",
       "      <td>2013-10-06</td>\n",
       "      <td>210588.0</td>\n",
       "    </tr>\n",
       "    <tr>\n",
       "      <th>1997</th>\n",
       "      <td>1997</td>\n",
       "      <td>POLICE O...</td>\n",
       "      <td>Houston ...</td>\n",
       "      <td>43443.0</td>\n",
       "      <td>...</td>\n",
       "      <td>Active</td>\n",
       "      <td>2014-10-13</td>\n",
       "      <td>2015-10-13</td>\n",
       "      <td>199596.0</td>\n",
       "    </tr>\n",
       "    <tr>\n",
       "      <th>1998</th>\n",
       "      <td>1998</td>\n",
       "      <td>POLICE O...</td>\n",
       "      <td>Houston ...</td>\n",
       "      <td>55461.0</td>\n",
       "      <td>...</td>\n",
       "      <td>Active</td>\n",
       "      <td>2009-01-20</td>\n",
       "      <td>2011-07-02</td>\n",
       "      <td>199596.0</td>\n",
       "    </tr>\n",
       "    <tr>\n",
       "      <th>1999</th>\n",
       "      <td>1999</td>\n",
       "      <td>FIRE FIG...</td>\n",
       "      <td>Houston ...</td>\n",
       "      <td>51194.0</td>\n",
       "      <td>...</td>\n",
       "      <td>Active</td>\n",
       "      <td>2009-01-12</td>\n",
       "      <td>2010-07-12</td>\n",
       "      <td>210588.0</td>\n",
       "    </tr>\n",
       "  </tbody>\n",
       "</table>\n",
       "<p>2000 rows × 11 columns</p>\n",
       "</div>"
      ],
      "text/plain": [
       "      UNIQUE_ID POSITION_TITLE   DEPARTMENT  BASE_SALARY  ...  \\\n",
       "0             0  ASSISTAN...    Municipa...     121862.0  ...   \n",
       "1             1  LIBRARY ...        Library      26125.0  ...   \n",
       "2             2  POLICE O...    Houston ...      45279.0  ...   \n",
       "3             3  ENGINEER...    Houston ...      63166.0  ...   \n",
       "4             4  ELECTRICIAN    General ...      56347.0  ...   \n",
       "...         ...          ...            ...          ...  ...   \n",
       "1995       1995  POLICE O...    Houston ...      43443.0  ...   \n",
       "1996       1996  COMMUNIC...    Houston ...      66523.0  ...   \n",
       "1997       1997  POLICE O...    Houston ...      43443.0  ...   \n",
       "1998       1998  POLICE O...    Houston ...      55461.0  ...   \n",
       "1999       1999  FIRE FIG...    Houston ...      51194.0  ...   \n",
       "\n",
       "     EMPLOYMENT_STATUS   HIRE_DATE    JOB_DATE MAX_DEPT_SALARY  \n",
       "0          Active       2006-06-12  2012-10-13     121862.0     \n",
       "1          Active       2000-07-19  2010-09-18     107763.0     \n",
       "2          Active       2015-02-03  2015-02-03     199596.0     \n",
       "3          Active       1982-02-08  1991-05-25     210588.0     \n",
       "4          Active       1989-06-19  1994-10-22      89194.0     \n",
       "...           ...              ...         ...          ...     \n",
       "1995       Active       2014-06-09  2015-06-09     199596.0     \n",
       "1996       Active       2003-09-02  2013-10-06     210588.0     \n",
       "1997       Active       2014-10-13  2015-10-13     199596.0     \n",
       "1998       Active       2009-01-20  2011-07-02     199596.0     \n",
       "1999       Active       2009-01-12  2010-07-12     210588.0     \n",
       "\n",
       "[2000 rows x 11 columns]"
      ]
     },
     "execution_count": 81,
     "metadata": {},
     "output_type": "execute_result"
    }
   ],
   "source": [
    "# index가 유지되기 때문에 assign도 쉽게 가능\n",
    "(employee\n",
    "    .assign(MAX_DEPT_SALARY=max_sal)\n",
    ")"
   ]
  },
  {
   "cell_type": "code",
   "execution_count": 85,
   "id": "459c1dda",
   "metadata": {},
   "outputs": [],
   "source": [
    "max_sal = (employee\n",
    "    .groupby('DEPARTMENT')\n",
    "    .BASE_SALARY\n",
    "    .max()\n",
    ")"
   ]
  },
  {
   "cell_type": "code",
   "execution_count": 86,
   "id": "f95bab62",
   "metadata": {
    "scrolled": true
   },
   "outputs": [
    {
     "data": {
      "text/html": [
       "<div>\n",
       "<style scoped>\n",
       "    .dataframe tbody tr th:only-of-type {\n",
       "        vertical-align: middle;\n",
       "    }\n",
       "\n",
       "    .dataframe tbody tr th {\n",
       "        vertical-align: top;\n",
       "    }\n",
       "\n",
       "    .dataframe thead th {\n",
       "        text-align: right;\n",
       "    }\n",
       "</style>\n",
       "<table border=\"1\" class=\"dataframe\">\n",
       "  <thead>\n",
       "    <tr style=\"text-align: right;\">\n",
       "      <th></th>\n",
       "      <th>UNIQUE_ID</th>\n",
       "      <th>POSITION_TITLE</th>\n",
       "      <th>DEPARTMENT</th>\n",
       "      <th>BASE_SALARY</th>\n",
       "      <th>...</th>\n",
       "      <th>EMPLOYMENT_STATUS</th>\n",
       "      <th>HIRE_DATE</th>\n",
       "      <th>JOB_DATE</th>\n",
       "      <th>MAX_DEPT_SALARY</th>\n",
       "    </tr>\n",
       "  </thead>\n",
       "  <tbody>\n",
       "    <tr>\n",
       "      <th>0</th>\n",
       "      <td>0</td>\n",
       "      <td>ASSISTAN...</td>\n",
       "      <td>Municipa...</td>\n",
       "      <td>121862.0</td>\n",
       "      <td>...</td>\n",
       "      <td>Active</td>\n",
       "      <td>2006-06-12</td>\n",
       "      <td>2012-10-13</td>\n",
       "      <td>121862.0</td>\n",
       "    </tr>\n",
       "    <tr>\n",
       "      <th>1</th>\n",
       "      <td>1</td>\n",
       "      <td>LIBRARY ...</td>\n",
       "      <td>Library</td>\n",
       "      <td>26125.0</td>\n",
       "      <td>...</td>\n",
       "      <td>Active</td>\n",
       "      <td>2000-07-19</td>\n",
       "      <td>2010-09-18</td>\n",
       "      <td>107763.0</td>\n",
       "    </tr>\n",
       "    <tr>\n",
       "      <th>2</th>\n",
       "      <td>2</td>\n",
       "      <td>POLICE O...</td>\n",
       "      <td>Houston ...</td>\n",
       "      <td>45279.0</td>\n",
       "      <td>...</td>\n",
       "      <td>Active</td>\n",
       "      <td>2015-02-03</td>\n",
       "      <td>2015-02-03</td>\n",
       "      <td>199596.0</td>\n",
       "    </tr>\n",
       "    <tr>\n",
       "      <th>3</th>\n",
       "      <td>3</td>\n",
       "      <td>ENGINEER...</td>\n",
       "      <td>Houston ...</td>\n",
       "      <td>63166.0</td>\n",
       "      <td>...</td>\n",
       "      <td>Active</td>\n",
       "      <td>1982-02-08</td>\n",
       "      <td>1991-05-25</td>\n",
       "      <td>210588.0</td>\n",
       "    </tr>\n",
       "    <tr>\n",
       "      <th>4</th>\n",
       "      <td>4</td>\n",
       "      <td>ELECTRICIAN</td>\n",
       "      <td>General ...</td>\n",
       "      <td>56347.0</td>\n",
       "      <td>...</td>\n",
       "      <td>Active</td>\n",
       "      <td>1989-06-19</td>\n",
       "      <td>1994-10-22</td>\n",
       "      <td>89194.0</td>\n",
       "    </tr>\n",
       "    <tr>\n",
       "      <th>...</th>\n",
       "      <td>...</td>\n",
       "      <td>...</td>\n",
       "      <td>...</td>\n",
       "      <td>...</td>\n",
       "      <td>...</td>\n",
       "      <td>...</td>\n",
       "      <td>...</td>\n",
       "      <td>...</td>\n",
       "      <td>...</td>\n",
       "    </tr>\n",
       "    <tr>\n",
       "      <th>1995</th>\n",
       "      <td>1995</td>\n",
       "      <td>POLICE O...</td>\n",
       "      <td>Houston ...</td>\n",
       "      <td>43443.0</td>\n",
       "      <td>...</td>\n",
       "      <td>Active</td>\n",
       "      <td>2014-06-09</td>\n",
       "      <td>2015-06-09</td>\n",
       "      <td>199596.0</td>\n",
       "    </tr>\n",
       "    <tr>\n",
       "      <th>1996</th>\n",
       "      <td>1996</td>\n",
       "      <td>COMMUNIC...</td>\n",
       "      <td>Houston ...</td>\n",
       "      <td>66523.0</td>\n",
       "      <td>...</td>\n",
       "      <td>Active</td>\n",
       "      <td>2003-09-02</td>\n",
       "      <td>2013-10-06</td>\n",
       "      <td>210588.0</td>\n",
       "    </tr>\n",
       "    <tr>\n",
       "      <th>1997</th>\n",
       "      <td>1997</td>\n",
       "      <td>POLICE O...</td>\n",
       "      <td>Houston ...</td>\n",
       "      <td>43443.0</td>\n",
       "      <td>...</td>\n",
       "      <td>Active</td>\n",
       "      <td>2014-10-13</td>\n",
       "      <td>2015-10-13</td>\n",
       "      <td>199596.0</td>\n",
       "    </tr>\n",
       "    <tr>\n",
       "      <th>1998</th>\n",
       "      <td>1998</td>\n",
       "      <td>POLICE O...</td>\n",
       "      <td>Houston ...</td>\n",
       "      <td>55461.0</td>\n",
       "      <td>...</td>\n",
       "      <td>Active</td>\n",
       "      <td>2009-01-20</td>\n",
       "      <td>2011-07-02</td>\n",
       "      <td>199596.0</td>\n",
       "    </tr>\n",
       "    <tr>\n",
       "      <th>1999</th>\n",
       "      <td>1999</td>\n",
       "      <td>FIRE FIG...</td>\n",
       "      <td>Houston ...</td>\n",
       "      <td>51194.0</td>\n",
       "      <td>...</td>\n",
       "      <td>Active</td>\n",
       "      <td>2009-01-12</td>\n",
       "      <td>2010-07-12</td>\n",
       "      <td>210588.0</td>\n",
       "    </tr>\n",
       "  </tbody>\n",
       "</table>\n",
       "<p>2000 rows × 11 columns</p>\n",
       "</div>"
      ],
      "text/plain": [
       "      UNIQUE_ID POSITION_TITLE   DEPARTMENT  BASE_SALARY  ...  \\\n",
       "0             0  ASSISTAN...    Municipa...     121862.0  ...   \n",
       "1             1  LIBRARY ...        Library      26125.0  ...   \n",
       "2             2  POLICE O...    Houston ...      45279.0  ...   \n",
       "3             3  ENGINEER...    Houston ...      63166.0  ...   \n",
       "4             4  ELECTRICIAN    General ...      56347.0  ...   \n",
       "...         ...          ...            ...          ...  ...   \n",
       "1995       1995  POLICE O...    Houston ...      43443.0  ...   \n",
       "1996       1996  COMMUNIC...    Houston ...      66523.0  ...   \n",
       "1997       1997  POLICE O...    Houston ...      43443.0  ...   \n",
       "1998       1998  POLICE O...    Houston ...      55461.0  ...   \n",
       "1999       1999  FIRE FIG...    Houston ...      51194.0  ...   \n",
       "\n",
       "     EMPLOYMENT_STATUS   HIRE_DATE    JOB_DATE MAX_DEPT_SALARY  \n",
       "0          Active       2006-06-12  2012-10-13     121862.0     \n",
       "1          Active       2000-07-19  2010-09-18     107763.0     \n",
       "2          Active       2015-02-03  2015-02-03     199596.0     \n",
       "3          Active       1982-02-08  1991-05-25     210588.0     \n",
       "4          Active       1989-06-19  1994-10-22      89194.0     \n",
       "...           ...              ...         ...          ...     \n",
       "1995       Active       2014-06-09  2015-06-09     199596.0     \n",
       "1996       Active       2003-09-02  2013-10-06     210588.0     \n",
       "1997       Active       2014-10-13  2015-10-13     199596.0     \n",
       "1998       Active       2009-01-20  2011-07-02     199596.0     \n",
       "1999       Active       2009-01-12  2010-07-12     210588.0     \n",
       "\n",
       "[2000 rows x 11 columns]"
      ]
     },
     "execution_count": 86,
     "metadata": {},
     "output_type": "execute_result"
    }
   ],
   "source": [
    "# index가 유지가 안되기 때문에 merge로 값을 맞춰야 한다.\n",
    "(employee\n",
    "    .merge(max_sal.rename('MAX_DEPT_SALARY'),\n",
    "           how='left', left_on='DEPARTMENT',\n",
    "           right_index=True)\n",
    ")"
   ]
  },
  {
   "cell_type": "markdown",
   "id": "9f0fa305",
   "metadata": {},
   "source": [
    "## 각 열의 최댓값 강조"
   ]
  },
  {
   "cell_type": "code",
   "execution_count": 94,
   "id": "b31e9605",
   "metadata": {},
   "outputs": [
    {
     "data": {
      "text/plain": [
       "CITY                   object\n",
       "STABBR                 object\n",
       "HBCU                  float64\n",
       "MENONLY               float64\n",
       "WOMENONLY             float64\n",
       "                       ...   \n",
       "PCTPELL               float64\n",
       "PCTFLOAN              float64\n",
       "UG25ABV               float64\n",
       "MD_EARN_WNE_P10        object\n",
       "GRAD_DEBT_MDN_SUPP     object\n",
       "Length: 26, dtype: object"
      ]
     },
     "execution_count": 94,
     "metadata": {},
     "output_type": "execute_result"
    }
   ],
   "source": [
    "college = pd.read_csv('college.csv', index_col='INSTNM')\n",
    "college.dtypes"
   ]
  },
  {
   "cell_type": "code",
   "execution_count": 89,
   "id": "47090d92",
   "metadata": {},
   "outputs": [
    {
     "data": {
      "text/plain": [
       "INSTNM\n",
       "Career Point College                                      20700\n",
       "Ner Israel Rabbinical College                       PrivacyS...\n",
       "Reflections Academy of Beauty                               NaN\n",
       "Capital Area Technical College                            26400\n",
       "West Virginia University Institute of Technology          43400\n",
       "Mid-State Technical College                               32000\n",
       "Strayer University-Huntsville Campus                      49200\n",
       "National Aviation Academy of Tampa Bay                    45000\n",
       "University of California-Santa Cruz                       43000\n",
       "Lexington Theological Seminary                              NaN\n",
       "Name: MD_EARN_WNE_P10, dtype: object"
      ]
     },
     "execution_count": 89,
     "metadata": {},
     "output_type": "execute_result"
    }
   ],
   "source": [
    "college.MD_EARN_WNE_P10.sample(10, random_state=42)"
   ]
  },
  {
   "cell_type": "code",
   "execution_count": 90,
   "id": "b3b4d427",
   "metadata": {},
   "outputs": [
    {
     "data": {
      "text/plain": [
       "INSTNM\n",
       "Career Point College                                      14977\n",
       "Ner Israel Rabbinical College                       PrivacyS...\n",
       "Reflections Academy of Beauty                       PrivacyS...\n",
       "Capital Area Technical College                      PrivacyS...\n",
       "West Virginia University Institute of Technology          23969\n",
       "Mid-State Technical College                                8025\n",
       "Strayer University-Huntsville Campus                    36173.5\n",
       "National Aviation Academy of Tampa Bay                    22778\n",
       "University of California-Santa Cruz                       19884\n",
       "Lexington Theological Seminary                      PrivacyS...\n",
       "Name: GRAD_DEBT_MDN_SUPP, dtype: object"
      ]
     },
     "execution_count": 90,
     "metadata": {},
     "output_type": "execute_result"
    }
   ],
   "source": [
    "college.GRAD_DEBT_MDN_SUPP.sample(10, random_state=42)"
   ]
  },
  {
   "cell_type": "code",
   "execution_count": 95,
   "id": "b1262084",
   "metadata": {},
   "outputs": [
    {
     "data": {
      "text/plain": [
       "PrivacySuppressed    822\n",
       "38800                151\n",
       "21500                 97\n",
       "49200                 78\n",
       "27400                 46\n",
       "                    ... \n",
       "84000                  1\n",
       "66900                  1\n",
       "52800                  1\n",
       "67800                  1\n",
       "186500                 1\n",
       "Name: MD_EARN_WNE_P10, Length: 598, dtype: int64"
      ]
     },
     "execution_count": 95,
     "metadata": {},
     "output_type": "execute_result"
    }
   ],
   "source": [
    "# NaN값 제외 count\n",
    "college.MD_EARN_WNE_P10.value_counts()"
   ]
  },
  {
   "cell_type": "code",
   "execution_count": 98,
   "id": "0057134a",
   "metadata": {},
   "outputs": [
    {
     "data": {
      "text/plain": [
       "{float, str}"
      ]
     },
     "execution_count": 98,
     "metadata": {},
     "output_type": "execute_result"
    }
   ],
   "source": [
    "# set으로 만들면 unique한 값만 뽑을 수 있다.\n",
    "set(college.MD_EARN_WNE_P10.apply(type))"
   ]
  },
  {
   "cell_type": "code",
   "execution_count": 99,
   "id": "f96f976a",
   "metadata": {},
   "outputs": [
    {
     "data": {
      "text/plain": [
       "PrivacySuppressed    1510\n",
       "9500                  514\n",
       "27000                 306\n",
       "25827.5               136\n",
       "25000                 124\n",
       "                     ... \n",
       "9604                    1\n",
       "19262                   1\n",
       "8099                    1\n",
       "8050                    1\n",
       "11061                   1\n",
       "Name: GRAD_DEBT_MDN_SUPP, Length: 2038, dtype: int64"
      ]
     },
     "execution_count": 99,
     "metadata": {},
     "output_type": "execute_result"
    }
   ],
   "source": [
    "college.GRAD_DEBT_MDN_SUPP.value_counts()"
   ]
  },
  {
   "cell_type": "code",
   "execution_count": 100,
   "id": "5482952f",
   "metadata": {},
   "outputs": [],
   "source": [
    "# to_numeric : 숫자형으로 변환\n",
    "# errors = 'ignore' -> 만약 숫자로 변경할 수 없는 데이터라면 숫자로 변경하지 않고 원본 데이터를 그대로 반환합니다.\n",
    "# errors = 'coerce' -> 만약 숫자로 변경할 수 없는 데이터라면 기존 데이터를 지우고 NaN으로 설정하여 반환합니다.\n",
    "# errors = 'raise' -> 만약 숫자로 변경할 수 없는 데이터라면 에러를 일으키며 코드를 중단합니다.\n",
    "cols = ['MD_EARN_WNE_P10', 'GRAD_DEBT_MDN_SUPP']\n",
    "for col in cols:\n",
    "    college[col] = pd.to_numeric(college[col], errors='coerce')"
   ]
  },
  {
   "cell_type": "code",
   "execution_count": 101,
   "id": "d3af4d6b",
   "metadata": {},
   "outputs": [
    {
     "data": {
      "text/plain": [
       "MD_EARN_WNE_P10       float64\n",
       "GRAD_DEBT_MDN_SUPP    float64\n",
       "dtype: object"
      ]
     },
     "execution_count": 101,
     "metadata": {},
     "output_type": "execute_result"
    }
   ],
   "source": [
    "# float로 변경된 것을 확인\n",
    "college.dtypes.loc[cols]"
   ]
  },
  {
   "cell_type": "code",
   "execution_count": 102,
   "id": "0f3cddb8",
   "metadata": {},
   "outputs": [
    {
     "data": {
      "text/html": [
       "<div>\n",
       "<style scoped>\n",
       "    .dataframe tbody tr th:only-of-type {\n",
       "        vertical-align: middle;\n",
       "    }\n",
       "\n",
       "    .dataframe tbody tr th {\n",
       "        vertical-align: top;\n",
       "    }\n",
       "\n",
       "    .dataframe thead th {\n",
       "        text-align: right;\n",
       "    }\n",
       "</style>\n",
       "<table border=\"1\" class=\"dataframe\">\n",
       "  <thead>\n",
       "    <tr style=\"text-align: right;\">\n",
       "      <th></th>\n",
       "      <th>HBCU</th>\n",
       "      <th>MENONLY</th>\n",
       "      <th>WOMENONLY</th>\n",
       "      <th>RELAFFIL</th>\n",
       "      <th>...</th>\n",
       "      <th>PCTFLOAN</th>\n",
       "      <th>UG25ABV</th>\n",
       "      <th>MD_EARN_WNE_P10</th>\n",
       "      <th>GRAD_DEBT_MDN_SUPP</th>\n",
       "    </tr>\n",
       "    <tr>\n",
       "      <th>INSTNM</th>\n",
       "      <th></th>\n",
       "      <th></th>\n",
       "      <th></th>\n",
       "      <th></th>\n",
       "      <th></th>\n",
       "      <th></th>\n",
       "      <th></th>\n",
       "      <th></th>\n",
       "      <th></th>\n",
       "    </tr>\n",
       "  </thead>\n",
       "  <tbody>\n",
       "    <tr>\n",
       "      <th>Alabama A &amp; M University</th>\n",
       "      <td>1.0</td>\n",
       "      <td>0.0</td>\n",
       "      <td>0.0</td>\n",
       "      <td>0</td>\n",
       "      <td>...</td>\n",
       "      <td>0.8284</td>\n",
       "      <td>0.1049</td>\n",
       "      <td>30300.0</td>\n",
       "      <td>33888.0</td>\n",
       "    </tr>\n",
       "    <tr>\n",
       "      <th>University of Alabama at Birmingham</th>\n",
       "      <td>0.0</td>\n",
       "      <td>0.0</td>\n",
       "      <td>0.0</td>\n",
       "      <td>0</td>\n",
       "      <td>...</td>\n",
       "      <td>0.5214</td>\n",
       "      <td>0.2422</td>\n",
       "      <td>39700.0</td>\n",
       "      <td>21941.5</td>\n",
       "    </tr>\n",
       "    <tr>\n",
       "      <th>Amridge University</th>\n",
       "      <td>0.0</td>\n",
       "      <td>0.0</td>\n",
       "      <td>0.0</td>\n",
       "      <td>1</td>\n",
       "      <td>...</td>\n",
       "      <td>0.7795</td>\n",
       "      <td>0.8540</td>\n",
       "      <td>40100.0</td>\n",
       "      <td>23370.0</td>\n",
       "    </tr>\n",
       "    <tr>\n",
       "      <th>University of Alabama in Huntsville</th>\n",
       "      <td>0.0</td>\n",
       "      <td>0.0</td>\n",
       "      <td>0.0</td>\n",
       "      <td>0</td>\n",
       "      <td>...</td>\n",
       "      <td>0.4596</td>\n",
       "      <td>0.2640</td>\n",
       "      <td>45500.0</td>\n",
       "      <td>24097.0</td>\n",
       "    </tr>\n",
       "    <tr>\n",
       "      <th>Alabama State University</th>\n",
       "      <td>1.0</td>\n",
       "      <td>0.0</td>\n",
       "      <td>0.0</td>\n",
       "      <td>0</td>\n",
       "      <td>...</td>\n",
       "      <td>0.7554</td>\n",
       "      <td>0.1270</td>\n",
       "      <td>26600.0</td>\n",
       "      <td>33118.5</td>\n",
       "    </tr>\n",
       "  </tbody>\n",
       "</table>\n",
       "<p>5 rows × 24 columns</p>\n",
       "</div>"
      ],
      "text/plain": [
       "              HBCU  MENONLY  WOMENONLY  RELAFFIL  ...  PCTFLOAN  UG25ABV  \\\n",
       "INSTNM                                            ...                      \n",
       "Alabama A...   1.0      0.0        0.0         0  ...    0.8284   0.1049   \n",
       "Universit...   0.0      0.0        0.0         0  ...    0.5214   0.2422   \n",
       "Amridge U...   0.0      0.0        0.0         1  ...    0.7795   0.8540   \n",
       "Universit...   0.0      0.0        0.0         0  ...    0.4596   0.2640   \n",
       "Alabama S...   1.0      0.0        0.0         0  ...    0.7554   0.1270   \n",
       "\n",
       "              MD_EARN_WNE_P10  GRAD_DEBT_MDN_SUPP  \n",
       "INSTNM                                             \n",
       "Alabama A...      30300.0          33888.0         \n",
       "Universit...      39700.0          21941.5         \n",
       "Amridge U...      40100.0          23370.0         \n",
       "Universit...      45500.0          24097.0         \n",
       "Alabama S...      26600.0          33118.5         \n",
       "\n",
       "[5 rows x 24 columns]"
      ]
     },
     "execution_count": 102,
     "metadata": {},
     "output_type": "execute_result"
    }
   ],
   "source": [
    "# 최대값과 최소값을 구하기 위해 number type만 선택\n",
    "college_n = college.select_dtypes('number')\n",
    "college_n.head()"
   ]
  },
  {
   "cell_type": "code",
   "execution_count": 103,
   "id": "e1c1b43d",
   "metadata": {},
   "outputs": [
    {
     "data": {
      "text/plain": [
       "HBCU          True\n",
       "MENONLY       True\n",
       "WOMENONLY     True\n",
       "RELAFFIL      True\n",
       "SATVRMID     False\n",
       "dtype: bool"
      ]
     },
     "execution_count": 103,
     "metadata": {},
     "output_type": "execute_result"
    }
   ],
   "source": [
    "# value가 0 또는 1만 가진 이진형식의 칼럼이 많기 때문에 제거해준다 (최대, 최소에 중요하지 않음)\n",
    "binary_only = college_n.nunique() == 2\n",
    "binary_only.head()"
   ]
  },
  {
   "cell_type": "code",
   "execution_count": 104,
   "id": "969dffd8",
   "metadata": {},
   "outputs": [
    {
     "data": {
      "text/plain": [
       "['HBCU', 'MENONLY', 'WOMENONLY', 'RELAFFIL', 'DISTANCEONLY', 'CURROPER']"
      ]
     },
     "execution_count": 104,
     "metadata": {},
     "output_type": "execute_result"
    }
   ],
   "source": [
    "binary_cols = binary_only[binary_only].index.tolist()\n",
    "binary_cols"
   ]
  },
  {
   "cell_type": "code",
   "execution_count": 105,
   "id": "eeab261b",
   "metadata": {
    "scrolled": true
   },
   "outputs": [
    {
     "data": {
      "text/html": [
       "<div>\n",
       "<style scoped>\n",
       "    .dataframe tbody tr th:only-of-type {\n",
       "        vertical-align: middle;\n",
       "    }\n",
       "\n",
       "    .dataframe tbody tr th {\n",
       "        vertical-align: top;\n",
       "    }\n",
       "\n",
       "    .dataframe thead th {\n",
       "        text-align: right;\n",
       "    }\n",
       "</style>\n",
       "<table border=\"1\" class=\"dataframe\">\n",
       "  <thead>\n",
       "    <tr style=\"text-align: right;\">\n",
       "      <th></th>\n",
       "      <th>SATVRMID</th>\n",
       "      <th>SATMTMID</th>\n",
       "      <th>UGDS</th>\n",
       "      <th>UGDS_WHITE</th>\n",
       "      <th>...</th>\n",
       "      <th>PCTFLOAN</th>\n",
       "      <th>UG25ABV</th>\n",
       "      <th>MD_EARN_WNE_P10</th>\n",
       "      <th>GRAD_DEBT_MDN_SUPP</th>\n",
       "    </tr>\n",
       "    <tr>\n",
       "      <th>INSTNM</th>\n",
       "      <th></th>\n",
       "      <th></th>\n",
       "      <th></th>\n",
       "      <th></th>\n",
       "      <th></th>\n",
       "      <th></th>\n",
       "      <th></th>\n",
       "      <th></th>\n",
       "      <th></th>\n",
       "    </tr>\n",
       "  </thead>\n",
       "  <tbody>\n",
       "    <tr>\n",
       "      <th>Alabama A &amp; M University</th>\n",
       "      <td>424.0</td>\n",
       "      <td>420.0</td>\n",
       "      <td>4206.0</td>\n",
       "      <td>0.0333</td>\n",
       "      <td>...</td>\n",
       "      <td>0.8284</td>\n",
       "      <td>0.1049</td>\n",
       "      <td>30300.0</td>\n",
       "      <td>33888.0</td>\n",
       "    </tr>\n",
       "    <tr>\n",
       "      <th>University of Alabama at Birmingham</th>\n",
       "      <td>570.0</td>\n",
       "      <td>565.0</td>\n",
       "      <td>11383.0</td>\n",
       "      <td>0.5922</td>\n",
       "      <td>...</td>\n",
       "      <td>0.5214</td>\n",
       "      <td>0.2422</td>\n",
       "      <td>39700.0</td>\n",
       "      <td>21941.5</td>\n",
       "    </tr>\n",
       "    <tr>\n",
       "      <th>Amridge University</th>\n",
       "      <td>NaN</td>\n",
       "      <td>NaN</td>\n",
       "      <td>291.0</td>\n",
       "      <td>0.2990</td>\n",
       "      <td>...</td>\n",
       "      <td>0.7795</td>\n",
       "      <td>0.8540</td>\n",
       "      <td>40100.0</td>\n",
       "      <td>23370.0</td>\n",
       "    </tr>\n",
       "    <tr>\n",
       "      <th>University of Alabama in Huntsville</th>\n",
       "      <td>595.0</td>\n",
       "      <td>590.0</td>\n",
       "      <td>5451.0</td>\n",
       "      <td>0.6988</td>\n",
       "      <td>...</td>\n",
       "      <td>0.4596</td>\n",
       "      <td>0.2640</td>\n",
       "      <td>45500.0</td>\n",
       "      <td>24097.0</td>\n",
       "    </tr>\n",
       "    <tr>\n",
       "      <th>Alabama State University</th>\n",
       "      <td>425.0</td>\n",
       "      <td>430.0</td>\n",
       "      <td>4811.0</td>\n",
       "      <td>0.0158</td>\n",
       "      <td>...</td>\n",
       "      <td>0.7554</td>\n",
       "      <td>0.1270</td>\n",
       "      <td>26600.0</td>\n",
       "      <td>33118.5</td>\n",
       "    </tr>\n",
       "  </tbody>\n",
       "</table>\n",
       "<p>5 rows × 18 columns</p>\n",
       "</div>"
      ],
      "text/plain": [
       "              SATVRMID  SATMTMID     UGDS  UGDS_WHITE  ...  PCTFLOAN  UG25ABV  \\\n",
       "INSTNM                                                 ...                      \n",
       "Alabama A...     424.0     420.0   4206.0      0.0333  ...    0.8284   0.1049   \n",
       "Universit...     570.0     565.0  11383.0      0.5922  ...    0.5214   0.2422   \n",
       "Amridge U...       NaN       NaN    291.0      0.2990  ...    0.7795   0.8540   \n",
       "Universit...     595.0     590.0   5451.0      0.6988  ...    0.4596   0.2640   \n",
       "Alabama S...     425.0     430.0   4811.0      0.0158  ...    0.7554   0.1270   \n",
       "\n",
       "              MD_EARN_WNE_P10  GRAD_DEBT_MDN_SUPP  \n",
       "INSTNM                                             \n",
       "Alabama A...      30300.0          33888.0         \n",
       "Universit...      39700.0          21941.5         \n",
       "Amridge U...      40100.0          23370.0         \n",
       "Universit...      45500.0          24097.0         \n",
       "Alabama S...      26600.0          33118.5         \n",
       "\n",
       "[5 rows x 18 columns]"
      ]
     },
     "execution_count": 105,
     "metadata": {},
     "output_type": "execute_result"
    }
   ],
   "source": [
    "college_n2 = college_n.drop(columns=binary_cols)\n",
    "college_n2.head()"
   ]
  },
  {
   "cell_type": "code",
   "execution_count": 111,
   "id": "13b6328f",
   "metadata": {},
   "outputs": [
    {
     "data": {
      "text/plain": [
       "SATVRMID              Californ...\n",
       "SATMTMID              Californ...\n",
       "UGDS                  Universi...\n",
       "UGDS_WHITE            Mr Leon'...\n",
       "UGDS_BLACK            Velvatex...\n",
       "                         ...     \n",
       "PCTPELL               MTI Busi...\n",
       "PCTFLOAN              ABC Beau...\n",
       "UG25ABV               Dongguk ...\n",
       "MD_EARN_WNE_P10       Medical ...\n",
       "GRAD_DEBT_MDN_SUPP    Southwes...\n",
       "Length: 18, dtype: object"
      ]
     },
     "execution_count": 111,
     "metadata": {},
     "output_type": "execute_result"
    }
   ],
   "source": [
    "# idxmax : 각 열에서 최댓값을 갖는 인덱스를 찾을 수 있다.\n",
    "max_cols = college_n2.idxmax()\n",
    "max_cols"
   ]
  },
  {
   "cell_type": "code",
   "execution_count": 115,
   "id": "6e2f5395",
   "metadata": {
    "collapsed": true
   },
   "outputs": [
    {
     "data": {
      "text/plain": [
       "array(['California Institute of Technology',\n",
       "       'University of Phoenix-Arizona',\n",
       "       \"Mr Leon's School of Hair Design-Moscow\",\n",
       "       'Velvatex College of Beauty Culture',\n",
       "       'Thunderbird School of Global Management',\n",
       "       'Cosmopolitan Beauty and Tech School',\n",
       "       'Haskell Indian Nations University', 'Palau Community College',\n",
       "       'LIU Brentwood',\n",
       "       'California University of Management and Sciences',\n",
       "       'Le Cordon Bleu College of Culinary Arts-San Francisco',\n",
       "       'MTI Business College Inc', 'ABC Beauty College Inc',\n",
       "       'Dongguk University-Los Angeles', 'Medical College of Wisconsin',\n",
       "       'Southwest University of Visual Arts-Tucson'], dtype=object)"
      ]
     },
     "execution_count": 115,
     "metadata": {},
     "output_type": "execute_result"
    }
   ],
   "source": [
    "unique_max_cols = max_cols.unique()\n",
    "unique_max_cols"
   ]
  },
  {
   "cell_type": "code",
   "execution_count": 113,
   "id": "f8bd57ac",
   "metadata": {
    "scrolled": true
   },
   "outputs": [
    {
     "data": {
      "text/html": [
       "<style type=\"text/css\">\n",
       "#T_7d19d_row0_col0, #T_7d19d_row0_col1, #T_7d19d_row1_col2, #T_7d19d_row2_col3, #T_7d19d_row3_col4, #T_7d19d_row4_col5, #T_7d19d_row4_col12, #T_7d19d_row5_col6, #T_7d19d_row6_col7, #T_7d19d_row7_col8, #T_7d19d_row8_col9, #T_7d19d_row9_col10, #T_7d19d_row10_col11, #T_7d19d_row11_col13, #T_7d19d_row11_col14, #T_7d19d_row12_col14, #T_7d19d_row13_col15, #T_7d19d_row14_col16, #T_7d19d_row15_col17 {\n",
       "  background-color: yellow;\n",
       "}\n",
       "</style>\n",
       "<table id=\"T_7d19d_\">\n",
       "  <thead>\n",
       "    <tr>\n",
       "      <th class=\"blank level0\" >&nbsp;</th>\n",
       "      <th class=\"col_heading level0 col0\" >SATVRMID</th>\n",
       "      <th class=\"col_heading level0 col1\" >SATMTMID</th>\n",
       "      <th class=\"col_heading level0 col2\" >UGDS</th>\n",
       "      <th class=\"col_heading level0 col3\" >UGDS_WHITE</th>\n",
       "      <th class=\"col_heading level0 col4\" >UGDS_BLACK</th>\n",
       "      <th class=\"col_heading level0 col5\" >UGDS_HISP</th>\n",
       "      <th class=\"col_heading level0 col6\" >UGDS_ASIAN</th>\n",
       "      <th class=\"col_heading level0 col7\" >UGDS_AIAN</th>\n",
       "      <th class=\"col_heading level0 col8\" >UGDS_NHPI</th>\n",
       "      <th class=\"col_heading level0 col9\" >UGDS_2MOR</th>\n",
       "      <th class=\"col_heading level0 col10\" >UGDS_NRA</th>\n",
       "      <th class=\"col_heading level0 col11\" >UGDS_UNKN</th>\n",
       "      <th class=\"col_heading level0 col12\" >PPTUG_EF</th>\n",
       "      <th class=\"col_heading level0 col13\" >PCTPELL</th>\n",
       "      <th class=\"col_heading level0 col14\" >PCTFLOAN</th>\n",
       "      <th class=\"col_heading level0 col15\" >UG25ABV</th>\n",
       "      <th class=\"col_heading level0 col16\" >MD_EARN_WNE_P10</th>\n",
       "      <th class=\"col_heading level0 col17\" >GRAD_DEBT_MDN_SUPP</th>\n",
       "    </tr>\n",
       "    <tr>\n",
       "      <th class=\"index_name level0\" >INSTNM</th>\n",
       "      <th class=\"blank col0\" >&nbsp;</th>\n",
       "      <th class=\"blank col1\" >&nbsp;</th>\n",
       "      <th class=\"blank col2\" >&nbsp;</th>\n",
       "      <th class=\"blank col3\" >&nbsp;</th>\n",
       "      <th class=\"blank col4\" >&nbsp;</th>\n",
       "      <th class=\"blank col5\" >&nbsp;</th>\n",
       "      <th class=\"blank col6\" >&nbsp;</th>\n",
       "      <th class=\"blank col7\" >&nbsp;</th>\n",
       "      <th class=\"blank col8\" >&nbsp;</th>\n",
       "      <th class=\"blank col9\" >&nbsp;</th>\n",
       "      <th class=\"blank col10\" >&nbsp;</th>\n",
       "      <th class=\"blank col11\" >&nbsp;</th>\n",
       "      <th class=\"blank col12\" >&nbsp;</th>\n",
       "      <th class=\"blank col13\" >&nbsp;</th>\n",
       "      <th class=\"blank col14\" >&nbsp;</th>\n",
       "      <th class=\"blank col15\" >&nbsp;</th>\n",
       "      <th class=\"blank col16\" >&nbsp;</th>\n",
       "      <th class=\"blank col17\" >&nbsp;</th>\n",
       "    </tr>\n",
       "  </thead>\n",
       "  <tbody>\n",
       "    <tr>\n",
       "      <th id=\"T_7d19d_level0_row0\" class=\"row_heading level0 row0\" >California Institute of Technology</th>\n",
       "      <td id=\"T_7d19d_row0_col0\" class=\"data row0 col0\" >765.000000</td>\n",
       "      <td id=\"T_7d19d_row0_col1\" class=\"data row0 col1\" >785.000000</td>\n",
       "      <td id=\"T_7d19d_row0_col2\" class=\"data row0 col2\" >983.000000</td>\n",
       "      <td id=\"T_7d19d_row0_col3\" class=\"data row0 col3\" >0.278700</td>\n",
       "      <td id=\"T_7d19d_row0_col4\" class=\"data row0 col4\" >0.015300</td>\n",
       "      <td id=\"T_7d19d_row0_col5\" class=\"data row0 col5\" >0.122100</td>\n",
       "      <td id=\"T_7d19d_row0_col6\" class=\"data row0 col6\" >0.438500</td>\n",
       "      <td id=\"T_7d19d_row0_col7\" class=\"data row0 col7\" >0.001000</td>\n",
       "      <td id=\"T_7d19d_row0_col8\" class=\"data row0 col8\" >0.000000</td>\n",
       "      <td id=\"T_7d19d_row0_col9\" class=\"data row0 col9\" >0.057000</td>\n",
       "      <td id=\"T_7d19d_row0_col10\" class=\"data row0 col10\" >0.087500</td>\n",
       "      <td id=\"T_7d19d_row0_col11\" class=\"data row0 col11\" >0.000000</td>\n",
       "      <td id=\"T_7d19d_row0_col12\" class=\"data row0 col12\" >0.000000</td>\n",
       "      <td id=\"T_7d19d_row0_col13\" class=\"data row0 col13\" >0.112600</td>\n",
       "      <td id=\"T_7d19d_row0_col14\" class=\"data row0 col14\" >0.230300</td>\n",
       "      <td id=\"T_7d19d_row0_col15\" class=\"data row0 col15\" >0.008200</td>\n",
       "      <td id=\"T_7d19d_row0_col16\" class=\"data row0 col16\" >77800.000000</td>\n",
       "      <td id=\"T_7d19d_row0_col17\" class=\"data row0 col17\" >11812.500000</td>\n",
       "    </tr>\n",
       "    <tr>\n",
       "      <th id=\"T_7d19d_level0_row1\" class=\"row_heading level0 row1\" >University of Phoenix-Arizona</th>\n",
       "      <td id=\"T_7d19d_row1_col0\" class=\"data row1 col0\" >nan</td>\n",
       "      <td id=\"T_7d19d_row1_col1\" class=\"data row1 col1\" >nan</td>\n",
       "      <td id=\"T_7d19d_row1_col2\" class=\"data row1 col2\" >151558.000000</td>\n",
       "      <td id=\"T_7d19d_row1_col3\" class=\"data row1 col3\" >0.309800</td>\n",
       "      <td id=\"T_7d19d_row1_col4\" class=\"data row1 col4\" >0.155500</td>\n",
       "      <td id=\"T_7d19d_row1_col5\" class=\"data row1 col5\" >0.076000</td>\n",
       "      <td id=\"T_7d19d_row1_col6\" class=\"data row1 col6\" >0.008200</td>\n",
       "      <td id=\"T_7d19d_row1_col7\" class=\"data row1 col7\" >0.004200</td>\n",
       "      <td id=\"T_7d19d_row1_col8\" class=\"data row1 col8\" >0.005000</td>\n",
       "      <td id=\"T_7d19d_row1_col9\" class=\"data row1 col9\" >0.113100</td>\n",
       "      <td id=\"T_7d19d_row1_col10\" class=\"data row1 col10\" >0.013100</td>\n",
       "      <td id=\"T_7d19d_row1_col11\" class=\"data row1 col11\" >0.315200</td>\n",
       "      <td id=\"T_7d19d_row1_col12\" class=\"data row1 col12\" >0.000000</td>\n",
       "      <td id=\"T_7d19d_row1_col13\" class=\"data row1 col13\" >0.600900</td>\n",
       "      <td id=\"T_7d19d_row1_col14\" class=\"data row1 col14\" >0.592000</td>\n",
       "      <td id=\"T_7d19d_row1_col15\" class=\"data row1 col15\" >nan</td>\n",
       "      <td id=\"T_7d19d_row1_col16\" class=\"data row1 col16\" >nan</td>\n",
       "      <td id=\"T_7d19d_row1_col17\" class=\"data row1 col17\" >33000.000000</td>\n",
       "    </tr>\n",
       "    <tr>\n",
       "      <th id=\"T_7d19d_level0_row2\" class=\"row_heading level0 row2\" >Mr Leon's School of Hair Design-Moscow</th>\n",
       "      <td id=\"T_7d19d_row2_col0\" class=\"data row2 col0\" >nan</td>\n",
       "      <td id=\"T_7d19d_row2_col1\" class=\"data row2 col1\" >nan</td>\n",
       "      <td id=\"T_7d19d_row2_col2\" class=\"data row2 col2\" >16.000000</td>\n",
       "      <td id=\"T_7d19d_row2_col3\" class=\"data row2 col3\" >1.000000</td>\n",
       "      <td id=\"T_7d19d_row2_col4\" class=\"data row2 col4\" >0.000000</td>\n",
       "      <td id=\"T_7d19d_row2_col5\" class=\"data row2 col5\" >0.000000</td>\n",
       "      <td id=\"T_7d19d_row2_col6\" class=\"data row2 col6\" >0.000000</td>\n",
       "      <td id=\"T_7d19d_row2_col7\" class=\"data row2 col7\" >0.000000</td>\n",
       "      <td id=\"T_7d19d_row2_col8\" class=\"data row2 col8\" >0.000000</td>\n",
       "      <td id=\"T_7d19d_row2_col9\" class=\"data row2 col9\" >0.000000</td>\n",
       "      <td id=\"T_7d19d_row2_col10\" class=\"data row2 col10\" >0.000000</td>\n",
       "      <td id=\"T_7d19d_row2_col11\" class=\"data row2 col11\" >0.000000</td>\n",
       "      <td id=\"T_7d19d_row2_col12\" class=\"data row2 col12\" >0.000000</td>\n",
       "      <td id=\"T_7d19d_row2_col13\" class=\"data row2 col13\" >0.625000</td>\n",
       "      <td id=\"T_7d19d_row2_col14\" class=\"data row2 col14\" >0.625000</td>\n",
       "      <td id=\"T_7d19d_row2_col15\" class=\"data row2 col15\" >0.200000</td>\n",
       "      <td id=\"T_7d19d_row2_col16\" class=\"data row2 col16\" >nan</td>\n",
       "      <td id=\"T_7d19d_row2_col17\" class=\"data row2 col17\" >15710.000000</td>\n",
       "    </tr>\n",
       "    <tr>\n",
       "      <th id=\"T_7d19d_level0_row3\" class=\"row_heading level0 row3\" >Velvatex College of Beauty Culture</th>\n",
       "      <td id=\"T_7d19d_row3_col0\" class=\"data row3 col0\" >nan</td>\n",
       "      <td id=\"T_7d19d_row3_col1\" class=\"data row3 col1\" >nan</td>\n",
       "      <td id=\"T_7d19d_row3_col2\" class=\"data row3 col2\" >25.000000</td>\n",
       "      <td id=\"T_7d19d_row3_col3\" class=\"data row3 col3\" >0.000000</td>\n",
       "      <td id=\"T_7d19d_row3_col4\" class=\"data row3 col4\" >1.000000</td>\n",
       "      <td id=\"T_7d19d_row3_col5\" class=\"data row3 col5\" >0.000000</td>\n",
       "      <td id=\"T_7d19d_row3_col6\" class=\"data row3 col6\" >0.000000</td>\n",
       "      <td id=\"T_7d19d_row3_col7\" class=\"data row3 col7\" >0.000000</td>\n",
       "      <td id=\"T_7d19d_row3_col8\" class=\"data row3 col8\" >0.000000</td>\n",
       "      <td id=\"T_7d19d_row3_col9\" class=\"data row3 col9\" >0.000000</td>\n",
       "      <td id=\"T_7d19d_row3_col10\" class=\"data row3 col10\" >0.000000</td>\n",
       "      <td id=\"T_7d19d_row3_col11\" class=\"data row3 col11\" >0.000000</td>\n",
       "      <td id=\"T_7d19d_row3_col12\" class=\"data row3 col12\" >0.200000</td>\n",
       "      <td id=\"T_7d19d_row3_col13\" class=\"data row3 col13\" >0.769200</td>\n",
       "      <td id=\"T_7d19d_row3_col14\" class=\"data row3 col14\" >0.000000</td>\n",
       "      <td id=\"T_7d19d_row3_col15\" class=\"data row3 col15\" >0.520000</td>\n",
       "      <td id=\"T_7d19d_row3_col16\" class=\"data row3 col16\" >nan</td>\n",
       "      <td id=\"T_7d19d_row3_col17\" class=\"data row3 col17\" >nan</td>\n",
       "    </tr>\n",
       "    <tr>\n",
       "      <th id=\"T_7d19d_level0_row4\" class=\"row_heading level0 row4\" >Thunderbird School of Global Management</th>\n",
       "      <td id=\"T_7d19d_row4_col0\" class=\"data row4 col0\" >nan</td>\n",
       "      <td id=\"T_7d19d_row4_col1\" class=\"data row4 col1\" >nan</td>\n",
       "      <td id=\"T_7d19d_row4_col2\" class=\"data row4 col2\" >1.000000</td>\n",
       "      <td id=\"T_7d19d_row4_col3\" class=\"data row4 col3\" >0.000000</td>\n",
       "      <td id=\"T_7d19d_row4_col4\" class=\"data row4 col4\" >0.000000</td>\n",
       "      <td id=\"T_7d19d_row4_col5\" class=\"data row4 col5\" >1.000000</td>\n",
       "      <td id=\"T_7d19d_row4_col6\" class=\"data row4 col6\" >0.000000</td>\n",
       "      <td id=\"T_7d19d_row4_col7\" class=\"data row4 col7\" >0.000000</td>\n",
       "      <td id=\"T_7d19d_row4_col8\" class=\"data row4 col8\" >0.000000</td>\n",
       "      <td id=\"T_7d19d_row4_col9\" class=\"data row4 col9\" >0.000000</td>\n",
       "      <td id=\"T_7d19d_row4_col10\" class=\"data row4 col10\" >0.000000</td>\n",
       "      <td id=\"T_7d19d_row4_col11\" class=\"data row4 col11\" >0.000000</td>\n",
       "      <td id=\"T_7d19d_row4_col12\" class=\"data row4 col12\" >1.000000</td>\n",
       "      <td id=\"T_7d19d_row4_col13\" class=\"data row4 col13\" >0.000000</td>\n",
       "      <td id=\"T_7d19d_row4_col14\" class=\"data row4 col14\" >0.000000</td>\n",
       "      <td id=\"T_7d19d_row4_col15\" class=\"data row4 col15\" >0.000000</td>\n",
       "      <td id=\"T_7d19d_row4_col16\" class=\"data row4 col16\" >118900.000000</td>\n",
       "      <td id=\"T_7d19d_row4_col17\" class=\"data row4 col17\" >nan</td>\n",
       "    </tr>\n",
       "    <tr>\n",
       "      <th id=\"T_7d19d_level0_row5\" class=\"row_heading level0 row5\" >Cosmopolitan Beauty and Tech School</th>\n",
       "      <td id=\"T_7d19d_row5_col0\" class=\"data row5 col0\" >nan</td>\n",
       "      <td id=\"T_7d19d_row5_col1\" class=\"data row5 col1\" >nan</td>\n",
       "      <td id=\"T_7d19d_row5_col2\" class=\"data row5 col2\" >110.000000</td>\n",
       "      <td id=\"T_7d19d_row5_col3\" class=\"data row5 col3\" >0.009100</td>\n",
       "      <td id=\"T_7d19d_row5_col4\" class=\"data row5 col4\" >0.000000</td>\n",
       "      <td id=\"T_7d19d_row5_col5\" class=\"data row5 col5\" >0.018200</td>\n",
       "      <td id=\"T_7d19d_row5_col6\" class=\"data row5 col6\" >0.972700</td>\n",
       "      <td id=\"T_7d19d_row5_col7\" class=\"data row5 col7\" >0.000000</td>\n",
       "      <td id=\"T_7d19d_row5_col8\" class=\"data row5 col8\" >0.000000</td>\n",
       "      <td id=\"T_7d19d_row5_col9\" class=\"data row5 col9\" >0.000000</td>\n",
       "      <td id=\"T_7d19d_row5_col10\" class=\"data row5 col10\" >0.000000</td>\n",
       "      <td id=\"T_7d19d_row5_col11\" class=\"data row5 col11\" >0.000000</td>\n",
       "      <td id=\"T_7d19d_row5_col12\" class=\"data row5 col12\" >0.318200</td>\n",
       "      <td id=\"T_7d19d_row5_col13\" class=\"data row5 col13\" >0.776100</td>\n",
       "      <td id=\"T_7d19d_row5_col14\" class=\"data row5 col14\" >0.124400</td>\n",
       "      <td id=\"T_7d19d_row5_col15\" class=\"data row5 col15\" >0.954500</td>\n",
       "      <td id=\"T_7d19d_row5_col16\" class=\"data row5 col16\" >nan</td>\n",
       "      <td id=\"T_7d19d_row5_col17\" class=\"data row5 col17\" >nan</td>\n",
       "    </tr>\n",
       "    <tr>\n",
       "      <th id=\"T_7d19d_level0_row6\" class=\"row_heading level0 row6\" >Haskell Indian Nations University</th>\n",
       "      <td id=\"T_7d19d_row6_col0\" class=\"data row6 col0\" >430.000000</td>\n",
       "      <td id=\"T_7d19d_row6_col1\" class=\"data row6 col1\" >440.000000</td>\n",
       "      <td id=\"T_7d19d_row6_col2\" class=\"data row6 col2\" >805.000000</td>\n",
       "      <td id=\"T_7d19d_row6_col3\" class=\"data row6 col3\" >0.000000</td>\n",
       "      <td id=\"T_7d19d_row6_col4\" class=\"data row6 col4\" >0.000000</td>\n",
       "      <td id=\"T_7d19d_row6_col5\" class=\"data row6 col5\" >0.000000</td>\n",
       "      <td id=\"T_7d19d_row6_col6\" class=\"data row6 col6\" >0.000000</td>\n",
       "      <td id=\"T_7d19d_row6_col7\" class=\"data row6 col7\" >1.000000</td>\n",
       "      <td id=\"T_7d19d_row6_col8\" class=\"data row6 col8\" >0.000000</td>\n",
       "      <td id=\"T_7d19d_row6_col9\" class=\"data row6 col9\" >0.000000</td>\n",
       "      <td id=\"T_7d19d_row6_col10\" class=\"data row6 col10\" >0.000000</td>\n",
       "      <td id=\"T_7d19d_row6_col11\" class=\"data row6 col11\" >0.000000</td>\n",
       "      <td id=\"T_7d19d_row6_col12\" class=\"data row6 col12\" >0.022400</td>\n",
       "      <td id=\"T_7d19d_row6_col13\" class=\"data row6 col13\" >0.839600</td>\n",
       "      <td id=\"T_7d19d_row6_col14\" class=\"data row6 col14\" >0.000000</td>\n",
       "      <td id=\"T_7d19d_row6_col15\" class=\"data row6 col15\" >0.208900</td>\n",
       "      <td id=\"T_7d19d_row6_col16\" class=\"data row6 col16\" >22800.000000</td>\n",
       "      <td id=\"T_7d19d_row6_col17\" class=\"data row6 col17\" >nan</td>\n",
       "    </tr>\n",
       "    <tr>\n",
       "      <th id=\"T_7d19d_level0_row7\" class=\"row_heading level0 row7\" >Palau Community College</th>\n",
       "      <td id=\"T_7d19d_row7_col0\" class=\"data row7 col0\" >nan</td>\n",
       "      <td id=\"T_7d19d_row7_col1\" class=\"data row7 col1\" >nan</td>\n",
       "      <td id=\"T_7d19d_row7_col2\" class=\"data row7 col2\" >602.000000</td>\n",
       "      <td id=\"T_7d19d_row7_col3\" class=\"data row7 col3\" >0.000000</td>\n",
       "      <td id=\"T_7d19d_row7_col4\" class=\"data row7 col4\" >0.001700</td>\n",
       "      <td id=\"T_7d19d_row7_col5\" class=\"data row7 col5\" >0.000000</td>\n",
       "      <td id=\"T_7d19d_row7_col6\" class=\"data row7 col6\" >0.000000</td>\n",
       "      <td id=\"T_7d19d_row7_col7\" class=\"data row7 col7\" >0.000000</td>\n",
       "      <td id=\"T_7d19d_row7_col8\" class=\"data row7 col8\" >0.998300</td>\n",
       "      <td id=\"T_7d19d_row7_col9\" class=\"data row7 col9\" >0.000000</td>\n",
       "      <td id=\"T_7d19d_row7_col10\" class=\"data row7 col10\" >0.000000</td>\n",
       "      <td id=\"T_7d19d_row7_col11\" class=\"data row7 col11\" >0.000000</td>\n",
       "      <td id=\"T_7d19d_row7_col12\" class=\"data row7 col12\" >0.388700</td>\n",
       "      <td id=\"T_7d19d_row7_col13\" class=\"data row7 col13\" >0.856000</td>\n",
       "      <td id=\"T_7d19d_row7_col14\" class=\"data row7 col14\" >0.000000</td>\n",
       "      <td id=\"T_7d19d_row7_col15\" class=\"data row7 col15\" >0.261600</td>\n",
       "      <td id=\"T_7d19d_row7_col16\" class=\"data row7 col16\" >24700.000000</td>\n",
       "      <td id=\"T_7d19d_row7_col17\" class=\"data row7 col17\" >nan</td>\n",
       "    </tr>\n",
       "    <tr>\n",
       "      <th id=\"T_7d19d_level0_row8\" class=\"row_heading level0 row8\" >LIU Brentwood</th>\n",
       "      <td id=\"T_7d19d_row8_col0\" class=\"data row8 col0\" >nan</td>\n",
       "      <td id=\"T_7d19d_row8_col1\" class=\"data row8 col1\" >nan</td>\n",
       "      <td id=\"T_7d19d_row8_col2\" class=\"data row8 col2\" >15.000000</td>\n",
       "      <td id=\"T_7d19d_row8_col3\" class=\"data row8 col3\" >0.000000</td>\n",
       "      <td id=\"T_7d19d_row8_col4\" class=\"data row8 col4\" >0.133300</td>\n",
       "      <td id=\"T_7d19d_row8_col5\" class=\"data row8 col5\" >0.266700</td>\n",
       "      <td id=\"T_7d19d_row8_col6\" class=\"data row8 col6\" >0.000000</td>\n",
       "      <td id=\"T_7d19d_row8_col7\" class=\"data row8 col7\" >0.000000</td>\n",
       "      <td id=\"T_7d19d_row8_col8\" class=\"data row8 col8\" >0.000000</td>\n",
       "      <td id=\"T_7d19d_row8_col9\" class=\"data row8 col9\" >0.533300</td>\n",
       "      <td id=\"T_7d19d_row8_col10\" class=\"data row8 col10\" >0.000000</td>\n",
       "      <td id=\"T_7d19d_row8_col11\" class=\"data row8 col11\" >0.066700</td>\n",
       "      <td id=\"T_7d19d_row8_col12\" class=\"data row8 col12\" >0.400000</td>\n",
       "      <td id=\"T_7d19d_row8_col13\" class=\"data row8 col13\" >0.565200</td>\n",
       "      <td id=\"T_7d19d_row8_col14\" class=\"data row8 col14\" >0.782600</td>\n",
       "      <td id=\"T_7d19d_row8_col15\" class=\"data row8 col15\" >0.782600</td>\n",
       "      <td id=\"T_7d19d_row8_col16\" class=\"data row8 col16\" >44600.000000</td>\n",
       "      <td id=\"T_7d19d_row8_col17\" class=\"data row8 col17\" >25499.000000</td>\n",
       "    </tr>\n",
       "    <tr>\n",
       "      <th id=\"T_7d19d_level0_row9\" class=\"row_heading level0 row9\" >California University of Management and Sciences</th>\n",
       "      <td id=\"T_7d19d_row9_col0\" class=\"data row9 col0\" >nan</td>\n",
       "      <td id=\"T_7d19d_row9_col1\" class=\"data row9 col1\" >nan</td>\n",
       "      <td id=\"T_7d19d_row9_col2\" class=\"data row9 col2\" >98.000000</td>\n",
       "      <td id=\"T_7d19d_row9_col3\" class=\"data row9 col3\" >0.010200</td>\n",
       "      <td id=\"T_7d19d_row9_col4\" class=\"data row9 col4\" >0.020400</td>\n",
       "      <td id=\"T_7d19d_row9_col5\" class=\"data row9 col5\" >0.000000</td>\n",
       "      <td id=\"T_7d19d_row9_col6\" class=\"data row9 col6\" >0.040800</td>\n",
       "      <td id=\"T_7d19d_row9_col7\" class=\"data row9 col7\" >0.000000</td>\n",
       "      <td id=\"T_7d19d_row9_col8\" class=\"data row9 col8\" >0.000000</td>\n",
       "      <td id=\"T_7d19d_row9_col9\" class=\"data row9 col9\" >0.000000</td>\n",
       "      <td id=\"T_7d19d_row9_col10\" class=\"data row9 col10\" >0.928600</td>\n",
       "      <td id=\"T_7d19d_row9_col11\" class=\"data row9 col11\" >0.000000</td>\n",
       "      <td id=\"T_7d19d_row9_col12\" class=\"data row9 col12\" >0.000000</td>\n",
       "      <td id=\"T_7d19d_row9_col13\" class=\"data row9 col13\" >0.092600</td>\n",
       "      <td id=\"T_7d19d_row9_col14\" class=\"data row9 col14\" >0.055600</td>\n",
       "      <td id=\"T_7d19d_row9_col15\" class=\"data row9 col15\" >0.685200</td>\n",
       "      <td id=\"T_7d19d_row9_col16\" class=\"data row9 col16\" >nan</td>\n",
       "      <td id=\"T_7d19d_row9_col17\" class=\"data row9 col17\" >nan</td>\n",
       "    </tr>\n",
       "    <tr>\n",
       "      <th id=\"T_7d19d_level0_row10\" class=\"row_heading level0 row10\" >Le Cordon Bleu College of Culinary Arts-San Francisco</th>\n",
       "      <td id=\"T_7d19d_row10_col0\" class=\"data row10 col0\" >nan</td>\n",
       "      <td id=\"T_7d19d_row10_col1\" class=\"data row10 col1\" >nan</td>\n",
       "      <td id=\"T_7d19d_row10_col2\" class=\"data row10 col2\" >442.000000</td>\n",
       "      <td id=\"T_7d19d_row10_col3\" class=\"data row10 col3\" >0.031700</td>\n",
       "      <td id=\"T_7d19d_row10_col4\" class=\"data row10 col4\" >0.009000</td>\n",
       "      <td id=\"T_7d19d_row10_col5\" class=\"data row10 col5\" >0.011300</td>\n",
       "      <td id=\"T_7d19d_row10_col6\" class=\"data row10 col6\" >0.027100</td>\n",
       "      <td id=\"T_7d19d_row10_col7\" class=\"data row10 col7\" >0.004500</td>\n",
       "      <td id=\"T_7d19d_row10_col8\" class=\"data row10 col8\" >0.002300</td>\n",
       "      <td id=\"T_7d19d_row10_col9\" class=\"data row10 col9\" >0.011300</td>\n",
       "      <td id=\"T_7d19d_row10_col10\" class=\"data row10 col10\" >0.000000</td>\n",
       "      <td id=\"T_7d19d_row10_col11\" class=\"data row10 col11\" >0.902700</td>\n",
       "      <td id=\"T_7d19d_row10_col12\" class=\"data row10 col12\" >0.000000</td>\n",
       "      <td id=\"T_7d19d_row10_col13\" class=\"data row10 col13\" >0.372200</td>\n",
       "      <td id=\"T_7d19d_row10_col14\" class=\"data row10 col14\" >0.535800</td>\n",
       "      <td id=\"T_7d19d_row10_col15\" class=\"data row10 col15\" >0.544000</td>\n",
       "      <td id=\"T_7d19d_row10_col16\" class=\"data row10 col16\" >34000.000000</td>\n",
       "      <td id=\"T_7d19d_row10_col17\" class=\"data row10 col17\" >12931.000000</td>\n",
       "    </tr>\n",
       "    <tr>\n",
       "      <th id=\"T_7d19d_level0_row11\" class=\"row_heading level0 row11\" >MTI Business College Inc</th>\n",
       "      <td id=\"T_7d19d_row11_col0\" class=\"data row11 col0\" >nan</td>\n",
       "      <td id=\"T_7d19d_row11_col1\" class=\"data row11 col1\" >nan</td>\n",
       "      <td id=\"T_7d19d_row11_col2\" class=\"data row11 col2\" >146.000000</td>\n",
       "      <td id=\"T_7d19d_row11_col3\" class=\"data row11 col3\" >0.239700</td>\n",
       "      <td id=\"T_7d19d_row11_col4\" class=\"data row11 col4\" >0.513700</td>\n",
       "      <td id=\"T_7d19d_row11_col5\" class=\"data row11 col5\" >0.143800</td>\n",
       "      <td id=\"T_7d19d_row11_col6\" class=\"data row11 col6\" >0.047900</td>\n",
       "      <td id=\"T_7d19d_row11_col7\" class=\"data row11 col7\" >0.034200</td>\n",
       "      <td id=\"T_7d19d_row11_col8\" class=\"data row11 col8\" >0.020500</td>\n",
       "      <td id=\"T_7d19d_row11_col9\" class=\"data row11 col9\" >0.000000</td>\n",
       "      <td id=\"T_7d19d_row11_col10\" class=\"data row11 col10\" >0.000000</td>\n",
       "      <td id=\"T_7d19d_row11_col11\" class=\"data row11 col11\" >0.000000</td>\n",
       "      <td id=\"T_7d19d_row11_col12\" class=\"data row11 col12\" >0.000000</td>\n",
       "      <td id=\"T_7d19d_row11_col13\" class=\"data row11 col13\" >1.000000</td>\n",
       "      <td id=\"T_7d19d_row11_col14\" class=\"data row11 col14\" >1.000000</td>\n",
       "      <td id=\"T_7d19d_row11_col15\" class=\"data row11 col15\" >0.398600</td>\n",
       "      <td id=\"T_7d19d_row11_col16\" class=\"data row11 col16\" >23000.000000</td>\n",
       "      <td id=\"T_7d19d_row11_col17\" class=\"data row11 col17\" >9500.000000</td>\n",
       "    </tr>\n",
       "    <tr>\n",
       "      <th id=\"T_7d19d_level0_row12\" class=\"row_heading level0 row12\" >ABC Beauty College Inc</th>\n",
       "      <td id=\"T_7d19d_row12_col0\" class=\"data row12 col0\" >nan</td>\n",
       "      <td id=\"T_7d19d_row12_col1\" class=\"data row12 col1\" >nan</td>\n",
       "      <td id=\"T_7d19d_row12_col2\" class=\"data row12 col2\" >38.000000</td>\n",
       "      <td id=\"T_7d19d_row12_col3\" class=\"data row12 col3\" >0.289500</td>\n",
       "      <td id=\"T_7d19d_row12_col4\" class=\"data row12 col4\" >0.657900</td>\n",
       "      <td id=\"T_7d19d_row12_col5\" class=\"data row12 col5\" >0.052600</td>\n",
       "      <td id=\"T_7d19d_row12_col6\" class=\"data row12 col6\" >0.000000</td>\n",
       "      <td id=\"T_7d19d_row12_col7\" class=\"data row12 col7\" >0.000000</td>\n",
       "      <td id=\"T_7d19d_row12_col8\" class=\"data row12 col8\" >0.000000</td>\n",
       "      <td id=\"T_7d19d_row12_col9\" class=\"data row12 col9\" >0.000000</td>\n",
       "      <td id=\"T_7d19d_row12_col10\" class=\"data row12 col10\" >0.000000</td>\n",
       "      <td id=\"T_7d19d_row12_col11\" class=\"data row12 col11\" >0.000000</td>\n",
       "      <td id=\"T_7d19d_row12_col12\" class=\"data row12 col12\" >0.210500</td>\n",
       "      <td id=\"T_7d19d_row12_col13\" class=\"data row12 col13\" >0.981500</td>\n",
       "      <td id=\"T_7d19d_row12_col14\" class=\"data row12 col14\" >1.000000</td>\n",
       "      <td id=\"T_7d19d_row12_col15\" class=\"data row12 col15\" >0.468800</td>\n",
       "      <td id=\"T_7d19d_row12_col16\" class=\"data row12 col16\" >nan</td>\n",
       "      <td id=\"T_7d19d_row12_col17\" class=\"data row12 col17\" >16500.000000</td>\n",
       "    </tr>\n",
       "    <tr>\n",
       "      <th id=\"T_7d19d_level0_row13\" class=\"row_heading level0 row13\" >Dongguk University-Los Angeles</th>\n",
       "      <td id=\"T_7d19d_row13_col0\" class=\"data row13 col0\" >nan</td>\n",
       "      <td id=\"T_7d19d_row13_col1\" class=\"data row13 col1\" >nan</td>\n",
       "      <td id=\"T_7d19d_row13_col2\" class=\"data row13 col2\" >20.000000</td>\n",
       "      <td id=\"T_7d19d_row13_col3\" class=\"data row13 col3\" >0.350000</td>\n",
       "      <td id=\"T_7d19d_row13_col4\" class=\"data row13 col4\" >0.000000</td>\n",
       "      <td id=\"T_7d19d_row13_col5\" class=\"data row13 col5\" >0.150000</td>\n",
       "      <td id=\"T_7d19d_row13_col6\" class=\"data row13 col6\" >0.500000</td>\n",
       "      <td id=\"T_7d19d_row13_col7\" class=\"data row13 col7\" >0.000000</td>\n",
       "      <td id=\"T_7d19d_row13_col8\" class=\"data row13 col8\" >0.000000</td>\n",
       "      <td id=\"T_7d19d_row13_col9\" class=\"data row13 col9\" >0.000000</td>\n",
       "      <td id=\"T_7d19d_row13_col10\" class=\"data row13 col10\" >0.000000</td>\n",
       "      <td id=\"T_7d19d_row13_col11\" class=\"data row13 col11\" >0.000000</td>\n",
       "      <td id=\"T_7d19d_row13_col12\" class=\"data row13 col12\" >nan</td>\n",
       "      <td id=\"T_7d19d_row13_col13\" class=\"data row13 col13\" >nan</td>\n",
       "      <td id=\"T_7d19d_row13_col14\" class=\"data row13 col14\" >nan</td>\n",
       "      <td id=\"T_7d19d_row13_col15\" class=\"data row13 col15\" >1.000000</td>\n",
       "      <td id=\"T_7d19d_row13_col16\" class=\"data row13 col16\" >nan</td>\n",
       "      <td id=\"T_7d19d_row13_col17\" class=\"data row13 col17\" >nan</td>\n",
       "    </tr>\n",
       "    <tr>\n",
       "      <th id=\"T_7d19d_level0_row14\" class=\"row_heading level0 row14\" >Medical College of Wisconsin</th>\n",
       "      <td id=\"T_7d19d_row14_col0\" class=\"data row14 col0\" >nan</td>\n",
       "      <td id=\"T_7d19d_row14_col1\" class=\"data row14 col1\" >nan</td>\n",
       "      <td id=\"T_7d19d_row14_col2\" class=\"data row14 col2\" >nan</td>\n",
       "      <td id=\"T_7d19d_row14_col3\" class=\"data row14 col3\" >nan</td>\n",
       "      <td id=\"T_7d19d_row14_col4\" class=\"data row14 col4\" >nan</td>\n",
       "      <td id=\"T_7d19d_row14_col5\" class=\"data row14 col5\" >nan</td>\n",
       "      <td id=\"T_7d19d_row14_col6\" class=\"data row14 col6\" >nan</td>\n",
       "      <td id=\"T_7d19d_row14_col7\" class=\"data row14 col7\" >nan</td>\n",
       "      <td id=\"T_7d19d_row14_col8\" class=\"data row14 col8\" >nan</td>\n",
       "      <td id=\"T_7d19d_row14_col9\" class=\"data row14 col9\" >nan</td>\n",
       "      <td id=\"T_7d19d_row14_col10\" class=\"data row14 col10\" >nan</td>\n",
       "      <td id=\"T_7d19d_row14_col11\" class=\"data row14 col11\" >nan</td>\n",
       "      <td id=\"T_7d19d_row14_col12\" class=\"data row14 col12\" >nan</td>\n",
       "      <td id=\"T_7d19d_row14_col13\" class=\"data row14 col13\" >nan</td>\n",
       "      <td id=\"T_7d19d_row14_col14\" class=\"data row14 col14\" >nan</td>\n",
       "      <td id=\"T_7d19d_row14_col15\" class=\"data row14 col15\" >nan</td>\n",
       "      <td id=\"T_7d19d_row14_col16\" class=\"data row14 col16\" >233100.000000</td>\n",
       "      <td id=\"T_7d19d_row14_col17\" class=\"data row14 col17\" >nan</td>\n",
       "    </tr>\n",
       "    <tr>\n",
       "      <th id=\"T_7d19d_level0_row15\" class=\"row_heading level0 row15\" >Southwest University of Visual Arts-Tucson</th>\n",
       "      <td id=\"T_7d19d_row15_col0\" class=\"data row15 col0\" >nan</td>\n",
       "      <td id=\"T_7d19d_row15_col1\" class=\"data row15 col1\" >nan</td>\n",
       "      <td id=\"T_7d19d_row15_col2\" class=\"data row15 col2\" >161.000000</td>\n",
       "      <td id=\"T_7d19d_row15_col3\" class=\"data row15 col3\" >0.453400</td>\n",
       "      <td id=\"T_7d19d_row15_col4\" class=\"data row15 col4\" >0.043500</td>\n",
       "      <td id=\"T_7d19d_row15_col5\" class=\"data row15 col5\" >0.316800</td>\n",
       "      <td id=\"T_7d19d_row15_col6\" class=\"data row15 col6\" >0.006200</td>\n",
       "      <td id=\"T_7d19d_row15_col7\" class=\"data row15 col7\" >0.031100</td>\n",
       "      <td id=\"T_7d19d_row15_col8\" class=\"data row15 col8\" >0.000000</td>\n",
       "      <td id=\"T_7d19d_row15_col9\" class=\"data row15 col9\" >0.000000</td>\n",
       "      <td id=\"T_7d19d_row15_col10\" class=\"data row15 col10\" >0.000000</td>\n",
       "      <td id=\"T_7d19d_row15_col11\" class=\"data row15 col11\" >0.149100</td>\n",
       "      <td id=\"T_7d19d_row15_col12\" class=\"data row15 col12\" >0.279500</td>\n",
       "      <td id=\"T_7d19d_row15_col13\" class=\"data row15 col13\" >0.446900</td>\n",
       "      <td id=\"T_7d19d_row15_col14\" class=\"data row15 col14\" >0.429200</td>\n",
       "      <td id=\"T_7d19d_row15_col15\" class=\"data row15 col15\" >0.865700</td>\n",
       "      <td id=\"T_7d19d_row15_col16\" class=\"data row15 col16\" >27200.000000</td>\n",
       "      <td id=\"T_7d19d_row15_col17\" class=\"data row15 col17\" >49750.000000</td>\n",
       "    </tr>\n",
       "  </tbody>\n",
       "</table>\n"
      ],
      "text/plain": [
       "<pandas.io.formats.style.Styler at 0x1c43f0a68e0>"
      ]
     },
     "execution_count": 113,
     "metadata": {},
     "output_type": "execute_result"
    }
   ],
   "source": [
    "# style.highlight_max() : 강조\n",
    "college_n2.loc[unique_max_cols].style.highlight_max()"
   ]
  },
  {
   "cell_type": "code",
   "execution_count": null,
   "id": "4664f99c",
   "metadata": {},
   "outputs": [],
   "source": [
    "# 위의 방식과 동일함\n",
    "# pipe로 함수적용한 것만 다름"
   ]
  },
  {
   "cell_type": "code",
   "execution_count": 116,
   "id": "c830d5e4",
   "metadata": {},
   "outputs": [],
   "source": [
    "# 이진값을 가진 칼럼 drop\n",
    "def remove_binary_cols(df):\n",
    "    binary_only = df.nunique() == 2\n",
    "    cols = binary_only[binary_only].index.tolist()\n",
    "    return df.drop(columns=cols)"
   ]
  },
  {
   "cell_type": "code",
   "execution_count": 117,
   "id": "68ab4555",
   "metadata": {},
   "outputs": [],
   "source": [
    "# 최댓값을 가진 index만 리턴\n",
    "def select_rows_with_max_cols(df):\n",
    "    max_cols = df.idxmax()\n",
    "    unique = max_cols.unique()\n",
    "    return df.loc[unique]"
   ]
  },
  {
   "cell_type": "code",
   "execution_count": 119,
   "id": "f63b487e",
   "metadata": {},
   "outputs": [
    {
     "data": {
      "text/html": [
       "<style type=\"text/css\">\n",
       "#T_4dcbc_row0_col0, #T_4dcbc_row0_col1, #T_4dcbc_row1_col2, #T_4dcbc_row2_col3, #T_4dcbc_row3_col4, #T_4dcbc_row4_col5, #T_4dcbc_row4_col12, #T_4dcbc_row5_col6, #T_4dcbc_row6_col7, #T_4dcbc_row7_col8, #T_4dcbc_row8_col9, #T_4dcbc_row9_col10, #T_4dcbc_row10_col11, #T_4dcbc_row11_col13, #T_4dcbc_row11_col14, #T_4dcbc_row12_col14, #T_4dcbc_row13_col15, #T_4dcbc_row14_col16, #T_4dcbc_row15_col17 {\n",
       "  background-color: yellow;\n",
       "}\n",
       "</style>\n",
       "<table id=\"T_4dcbc_\">\n",
       "  <thead>\n",
       "    <tr>\n",
       "      <th class=\"blank level0\" >&nbsp;</th>\n",
       "      <th class=\"col_heading level0 col0\" >SATVRMID</th>\n",
       "      <th class=\"col_heading level0 col1\" >SATMTMID</th>\n",
       "      <th class=\"col_heading level0 col2\" >UGDS</th>\n",
       "      <th class=\"col_heading level0 col3\" >UGDS_WHITE</th>\n",
       "      <th class=\"col_heading level0 col4\" >UGDS_BLACK</th>\n",
       "      <th class=\"col_heading level0 col5\" >UGDS_HISP</th>\n",
       "      <th class=\"col_heading level0 col6\" >UGDS_ASIAN</th>\n",
       "      <th class=\"col_heading level0 col7\" >UGDS_AIAN</th>\n",
       "      <th class=\"col_heading level0 col8\" >UGDS_NHPI</th>\n",
       "      <th class=\"col_heading level0 col9\" >UGDS_2MOR</th>\n",
       "      <th class=\"col_heading level0 col10\" >UGDS_NRA</th>\n",
       "      <th class=\"col_heading level0 col11\" >UGDS_UNKN</th>\n",
       "      <th class=\"col_heading level0 col12\" >PPTUG_EF</th>\n",
       "      <th class=\"col_heading level0 col13\" >PCTPELL</th>\n",
       "      <th class=\"col_heading level0 col14\" >PCTFLOAN</th>\n",
       "      <th class=\"col_heading level0 col15\" >UG25ABV</th>\n",
       "      <th class=\"col_heading level0 col16\" >MD_EARN_WNE_P10</th>\n",
       "      <th class=\"col_heading level0 col17\" >GRAD_DEBT_MDN_SUPP</th>\n",
       "    </tr>\n",
       "    <tr>\n",
       "      <th class=\"index_name level0\" >INSTNM</th>\n",
       "      <th class=\"blank col0\" >&nbsp;</th>\n",
       "      <th class=\"blank col1\" >&nbsp;</th>\n",
       "      <th class=\"blank col2\" >&nbsp;</th>\n",
       "      <th class=\"blank col3\" >&nbsp;</th>\n",
       "      <th class=\"blank col4\" >&nbsp;</th>\n",
       "      <th class=\"blank col5\" >&nbsp;</th>\n",
       "      <th class=\"blank col6\" >&nbsp;</th>\n",
       "      <th class=\"blank col7\" >&nbsp;</th>\n",
       "      <th class=\"blank col8\" >&nbsp;</th>\n",
       "      <th class=\"blank col9\" >&nbsp;</th>\n",
       "      <th class=\"blank col10\" >&nbsp;</th>\n",
       "      <th class=\"blank col11\" >&nbsp;</th>\n",
       "      <th class=\"blank col12\" >&nbsp;</th>\n",
       "      <th class=\"blank col13\" >&nbsp;</th>\n",
       "      <th class=\"blank col14\" >&nbsp;</th>\n",
       "      <th class=\"blank col15\" >&nbsp;</th>\n",
       "      <th class=\"blank col16\" >&nbsp;</th>\n",
       "      <th class=\"blank col17\" >&nbsp;</th>\n",
       "    </tr>\n",
       "  </thead>\n",
       "  <tbody>\n",
       "    <tr>\n",
       "      <th id=\"T_4dcbc_level0_row0\" class=\"row_heading level0 row0\" >California Institute of Technology</th>\n",
       "      <td id=\"T_4dcbc_row0_col0\" class=\"data row0 col0\" >765.000000</td>\n",
       "      <td id=\"T_4dcbc_row0_col1\" class=\"data row0 col1\" >785.000000</td>\n",
       "      <td id=\"T_4dcbc_row0_col2\" class=\"data row0 col2\" >983.000000</td>\n",
       "      <td id=\"T_4dcbc_row0_col3\" class=\"data row0 col3\" >0.278700</td>\n",
       "      <td id=\"T_4dcbc_row0_col4\" class=\"data row0 col4\" >0.015300</td>\n",
       "      <td id=\"T_4dcbc_row0_col5\" class=\"data row0 col5\" >0.122100</td>\n",
       "      <td id=\"T_4dcbc_row0_col6\" class=\"data row0 col6\" >0.438500</td>\n",
       "      <td id=\"T_4dcbc_row0_col7\" class=\"data row0 col7\" >0.001000</td>\n",
       "      <td id=\"T_4dcbc_row0_col8\" class=\"data row0 col8\" >0.000000</td>\n",
       "      <td id=\"T_4dcbc_row0_col9\" class=\"data row0 col9\" >0.057000</td>\n",
       "      <td id=\"T_4dcbc_row0_col10\" class=\"data row0 col10\" >0.087500</td>\n",
       "      <td id=\"T_4dcbc_row0_col11\" class=\"data row0 col11\" >0.000000</td>\n",
       "      <td id=\"T_4dcbc_row0_col12\" class=\"data row0 col12\" >0.000000</td>\n",
       "      <td id=\"T_4dcbc_row0_col13\" class=\"data row0 col13\" >0.112600</td>\n",
       "      <td id=\"T_4dcbc_row0_col14\" class=\"data row0 col14\" >0.230300</td>\n",
       "      <td id=\"T_4dcbc_row0_col15\" class=\"data row0 col15\" >0.008200</td>\n",
       "      <td id=\"T_4dcbc_row0_col16\" class=\"data row0 col16\" >77800.000000</td>\n",
       "      <td id=\"T_4dcbc_row0_col17\" class=\"data row0 col17\" >11812.500000</td>\n",
       "    </tr>\n",
       "    <tr>\n",
       "      <th id=\"T_4dcbc_level0_row1\" class=\"row_heading level0 row1\" >University of Phoenix-Arizona</th>\n",
       "      <td id=\"T_4dcbc_row1_col0\" class=\"data row1 col0\" >nan</td>\n",
       "      <td id=\"T_4dcbc_row1_col1\" class=\"data row1 col1\" >nan</td>\n",
       "      <td id=\"T_4dcbc_row1_col2\" class=\"data row1 col2\" >151558.000000</td>\n",
       "      <td id=\"T_4dcbc_row1_col3\" class=\"data row1 col3\" >0.309800</td>\n",
       "      <td id=\"T_4dcbc_row1_col4\" class=\"data row1 col4\" >0.155500</td>\n",
       "      <td id=\"T_4dcbc_row1_col5\" class=\"data row1 col5\" >0.076000</td>\n",
       "      <td id=\"T_4dcbc_row1_col6\" class=\"data row1 col6\" >0.008200</td>\n",
       "      <td id=\"T_4dcbc_row1_col7\" class=\"data row1 col7\" >0.004200</td>\n",
       "      <td id=\"T_4dcbc_row1_col8\" class=\"data row1 col8\" >0.005000</td>\n",
       "      <td id=\"T_4dcbc_row1_col9\" class=\"data row1 col9\" >0.113100</td>\n",
       "      <td id=\"T_4dcbc_row1_col10\" class=\"data row1 col10\" >0.013100</td>\n",
       "      <td id=\"T_4dcbc_row1_col11\" class=\"data row1 col11\" >0.315200</td>\n",
       "      <td id=\"T_4dcbc_row1_col12\" class=\"data row1 col12\" >0.000000</td>\n",
       "      <td id=\"T_4dcbc_row1_col13\" class=\"data row1 col13\" >0.600900</td>\n",
       "      <td id=\"T_4dcbc_row1_col14\" class=\"data row1 col14\" >0.592000</td>\n",
       "      <td id=\"T_4dcbc_row1_col15\" class=\"data row1 col15\" >nan</td>\n",
       "      <td id=\"T_4dcbc_row1_col16\" class=\"data row1 col16\" >nan</td>\n",
       "      <td id=\"T_4dcbc_row1_col17\" class=\"data row1 col17\" >33000.000000</td>\n",
       "    </tr>\n",
       "    <tr>\n",
       "      <th id=\"T_4dcbc_level0_row2\" class=\"row_heading level0 row2\" >Mr Leon's School of Hair Design-Moscow</th>\n",
       "      <td id=\"T_4dcbc_row2_col0\" class=\"data row2 col0\" >nan</td>\n",
       "      <td id=\"T_4dcbc_row2_col1\" class=\"data row2 col1\" >nan</td>\n",
       "      <td id=\"T_4dcbc_row2_col2\" class=\"data row2 col2\" >16.000000</td>\n",
       "      <td id=\"T_4dcbc_row2_col3\" class=\"data row2 col3\" >1.000000</td>\n",
       "      <td id=\"T_4dcbc_row2_col4\" class=\"data row2 col4\" >0.000000</td>\n",
       "      <td id=\"T_4dcbc_row2_col5\" class=\"data row2 col5\" >0.000000</td>\n",
       "      <td id=\"T_4dcbc_row2_col6\" class=\"data row2 col6\" >0.000000</td>\n",
       "      <td id=\"T_4dcbc_row2_col7\" class=\"data row2 col7\" >0.000000</td>\n",
       "      <td id=\"T_4dcbc_row2_col8\" class=\"data row2 col8\" >0.000000</td>\n",
       "      <td id=\"T_4dcbc_row2_col9\" class=\"data row2 col9\" >0.000000</td>\n",
       "      <td id=\"T_4dcbc_row2_col10\" class=\"data row2 col10\" >0.000000</td>\n",
       "      <td id=\"T_4dcbc_row2_col11\" class=\"data row2 col11\" >0.000000</td>\n",
       "      <td id=\"T_4dcbc_row2_col12\" class=\"data row2 col12\" >0.000000</td>\n",
       "      <td id=\"T_4dcbc_row2_col13\" class=\"data row2 col13\" >0.625000</td>\n",
       "      <td id=\"T_4dcbc_row2_col14\" class=\"data row2 col14\" >0.625000</td>\n",
       "      <td id=\"T_4dcbc_row2_col15\" class=\"data row2 col15\" >0.200000</td>\n",
       "      <td id=\"T_4dcbc_row2_col16\" class=\"data row2 col16\" >nan</td>\n",
       "      <td id=\"T_4dcbc_row2_col17\" class=\"data row2 col17\" >15710.000000</td>\n",
       "    </tr>\n",
       "    <tr>\n",
       "      <th id=\"T_4dcbc_level0_row3\" class=\"row_heading level0 row3\" >Velvatex College of Beauty Culture</th>\n",
       "      <td id=\"T_4dcbc_row3_col0\" class=\"data row3 col0\" >nan</td>\n",
       "      <td id=\"T_4dcbc_row3_col1\" class=\"data row3 col1\" >nan</td>\n",
       "      <td id=\"T_4dcbc_row3_col2\" class=\"data row3 col2\" >25.000000</td>\n",
       "      <td id=\"T_4dcbc_row3_col3\" class=\"data row3 col3\" >0.000000</td>\n",
       "      <td id=\"T_4dcbc_row3_col4\" class=\"data row3 col4\" >1.000000</td>\n",
       "      <td id=\"T_4dcbc_row3_col5\" class=\"data row3 col5\" >0.000000</td>\n",
       "      <td id=\"T_4dcbc_row3_col6\" class=\"data row3 col6\" >0.000000</td>\n",
       "      <td id=\"T_4dcbc_row3_col7\" class=\"data row3 col7\" >0.000000</td>\n",
       "      <td id=\"T_4dcbc_row3_col8\" class=\"data row3 col8\" >0.000000</td>\n",
       "      <td id=\"T_4dcbc_row3_col9\" class=\"data row3 col9\" >0.000000</td>\n",
       "      <td id=\"T_4dcbc_row3_col10\" class=\"data row3 col10\" >0.000000</td>\n",
       "      <td id=\"T_4dcbc_row3_col11\" class=\"data row3 col11\" >0.000000</td>\n",
       "      <td id=\"T_4dcbc_row3_col12\" class=\"data row3 col12\" >0.200000</td>\n",
       "      <td id=\"T_4dcbc_row3_col13\" class=\"data row3 col13\" >0.769200</td>\n",
       "      <td id=\"T_4dcbc_row3_col14\" class=\"data row3 col14\" >0.000000</td>\n",
       "      <td id=\"T_4dcbc_row3_col15\" class=\"data row3 col15\" >0.520000</td>\n",
       "      <td id=\"T_4dcbc_row3_col16\" class=\"data row3 col16\" >nan</td>\n",
       "      <td id=\"T_4dcbc_row3_col17\" class=\"data row3 col17\" >nan</td>\n",
       "    </tr>\n",
       "    <tr>\n",
       "      <th id=\"T_4dcbc_level0_row4\" class=\"row_heading level0 row4\" >Thunderbird School of Global Management</th>\n",
       "      <td id=\"T_4dcbc_row4_col0\" class=\"data row4 col0\" >nan</td>\n",
       "      <td id=\"T_4dcbc_row4_col1\" class=\"data row4 col1\" >nan</td>\n",
       "      <td id=\"T_4dcbc_row4_col2\" class=\"data row4 col2\" >1.000000</td>\n",
       "      <td id=\"T_4dcbc_row4_col3\" class=\"data row4 col3\" >0.000000</td>\n",
       "      <td id=\"T_4dcbc_row4_col4\" class=\"data row4 col4\" >0.000000</td>\n",
       "      <td id=\"T_4dcbc_row4_col5\" class=\"data row4 col5\" >1.000000</td>\n",
       "      <td id=\"T_4dcbc_row4_col6\" class=\"data row4 col6\" >0.000000</td>\n",
       "      <td id=\"T_4dcbc_row4_col7\" class=\"data row4 col7\" >0.000000</td>\n",
       "      <td id=\"T_4dcbc_row4_col8\" class=\"data row4 col8\" >0.000000</td>\n",
       "      <td id=\"T_4dcbc_row4_col9\" class=\"data row4 col9\" >0.000000</td>\n",
       "      <td id=\"T_4dcbc_row4_col10\" class=\"data row4 col10\" >0.000000</td>\n",
       "      <td id=\"T_4dcbc_row4_col11\" class=\"data row4 col11\" >0.000000</td>\n",
       "      <td id=\"T_4dcbc_row4_col12\" class=\"data row4 col12\" >1.000000</td>\n",
       "      <td id=\"T_4dcbc_row4_col13\" class=\"data row4 col13\" >0.000000</td>\n",
       "      <td id=\"T_4dcbc_row4_col14\" class=\"data row4 col14\" >0.000000</td>\n",
       "      <td id=\"T_4dcbc_row4_col15\" class=\"data row4 col15\" >0.000000</td>\n",
       "      <td id=\"T_4dcbc_row4_col16\" class=\"data row4 col16\" >118900.000000</td>\n",
       "      <td id=\"T_4dcbc_row4_col17\" class=\"data row4 col17\" >nan</td>\n",
       "    </tr>\n",
       "    <tr>\n",
       "      <th id=\"T_4dcbc_level0_row5\" class=\"row_heading level0 row5\" >Cosmopolitan Beauty and Tech School</th>\n",
       "      <td id=\"T_4dcbc_row5_col0\" class=\"data row5 col0\" >nan</td>\n",
       "      <td id=\"T_4dcbc_row5_col1\" class=\"data row5 col1\" >nan</td>\n",
       "      <td id=\"T_4dcbc_row5_col2\" class=\"data row5 col2\" >110.000000</td>\n",
       "      <td id=\"T_4dcbc_row5_col3\" class=\"data row5 col3\" >0.009100</td>\n",
       "      <td id=\"T_4dcbc_row5_col4\" class=\"data row5 col4\" >0.000000</td>\n",
       "      <td id=\"T_4dcbc_row5_col5\" class=\"data row5 col5\" >0.018200</td>\n",
       "      <td id=\"T_4dcbc_row5_col6\" class=\"data row5 col6\" >0.972700</td>\n",
       "      <td id=\"T_4dcbc_row5_col7\" class=\"data row5 col7\" >0.000000</td>\n",
       "      <td id=\"T_4dcbc_row5_col8\" class=\"data row5 col8\" >0.000000</td>\n",
       "      <td id=\"T_4dcbc_row5_col9\" class=\"data row5 col9\" >0.000000</td>\n",
       "      <td id=\"T_4dcbc_row5_col10\" class=\"data row5 col10\" >0.000000</td>\n",
       "      <td id=\"T_4dcbc_row5_col11\" class=\"data row5 col11\" >0.000000</td>\n",
       "      <td id=\"T_4dcbc_row5_col12\" class=\"data row5 col12\" >0.318200</td>\n",
       "      <td id=\"T_4dcbc_row5_col13\" class=\"data row5 col13\" >0.776100</td>\n",
       "      <td id=\"T_4dcbc_row5_col14\" class=\"data row5 col14\" >0.124400</td>\n",
       "      <td id=\"T_4dcbc_row5_col15\" class=\"data row5 col15\" >0.954500</td>\n",
       "      <td id=\"T_4dcbc_row5_col16\" class=\"data row5 col16\" >nan</td>\n",
       "      <td id=\"T_4dcbc_row5_col17\" class=\"data row5 col17\" >nan</td>\n",
       "    </tr>\n",
       "    <tr>\n",
       "      <th id=\"T_4dcbc_level0_row6\" class=\"row_heading level0 row6\" >Haskell Indian Nations University</th>\n",
       "      <td id=\"T_4dcbc_row6_col0\" class=\"data row6 col0\" >430.000000</td>\n",
       "      <td id=\"T_4dcbc_row6_col1\" class=\"data row6 col1\" >440.000000</td>\n",
       "      <td id=\"T_4dcbc_row6_col2\" class=\"data row6 col2\" >805.000000</td>\n",
       "      <td id=\"T_4dcbc_row6_col3\" class=\"data row6 col3\" >0.000000</td>\n",
       "      <td id=\"T_4dcbc_row6_col4\" class=\"data row6 col4\" >0.000000</td>\n",
       "      <td id=\"T_4dcbc_row6_col5\" class=\"data row6 col5\" >0.000000</td>\n",
       "      <td id=\"T_4dcbc_row6_col6\" class=\"data row6 col6\" >0.000000</td>\n",
       "      <td id=\"T_4dcbc_row6_col7\" class=\"data row6 col7\" >1.000000</td>\n",
       "      <td id=\"T_4dcbc_row6_col8\" class=\"data row6 col8\" >0.000000</td>\n",
       "      <td id=\"T_4dcbc_row6_col9\" class=\"data row6 col9\" >0.000000</td>\n",
       "      <td id=\"T_4dcbc_row6_col10\" class=\"data row6 col10\" >0.000000</td>\n",
       "      <td id=\"T_4dcbc_row6_col11\" class=\"data row6 col11\" >0.000000</td>\n",
       "      <td id=\"T_4dcbc_row6_col12\" class=\"data row6 col12\" >0.022400</td>\n",
       "      <td id=\"T_4dcbc_row6_col13\" class=\"data row6 col13\" >0.839600</td>\n",
       "      <td id=\"T_4dcbc_row6_col14\" class=\"data row6 col14\" >0.000000</td>\n",
       "      <td id=\"T_4dcbc_row6_col15\" class=\"data row6 col15\" >0.208900</td>\n",
       "      <td id=\"T_4dcbc_row6_col16\" class=\"data row6 col16\" >22800.000000</td>\n",
       "      <td id=\"T_4dcbc_row6_col17\" class=\"data row6 col17\" >nan</td>\n",
       "    </tr>\n",
       "    <tr>\n",
       "      <th id=\"T_4dcbc_level0_row7\" class=\"row_heading level0 row7\" >Palau Community College</th>\n",
       "      <td id=\"T_4dcbc_row7_col0\" class=\"data row7 col0\" >nan</td>\n",
       "      <td id=\"T_4dcbc_row7_col1\" class=\"data row7 col1\" >nan</td>\n",
       "      <td id=\"T_4dcbc_row7_col2\" class=\"data row7 col2\" >602.000000</td>\n",
       "      <td id=\"T_4dcbc_row7_col3\" class=\"data row7 col3\" >0.000000</td>\n",
       "      <td id=\"T_4dcbc_row7_col4\" class=\"data row7 col4\" >0.001700</td>\n",
       "      <td id=\"T_4dcbc_row7_col5\" class=\"data row7 col5\" >0.000000</td>\n",
       "      <td id=\"T_4dcbc_row7_col6\" class=\"data row7 col6\" >0.000000</td>\n",
       "      <td id=\"T_4dcbc_row7_col7\" class=\"data row7 col7\" >0.000000</td>\n",
       "      <td id=\"T_4dcbc_row7_col8\" class=\"data row7 col8\" >0.998300</td>\n",
       "      <td id=\"T_4dcbc_row7_col9\" class=\"data row7 col9\" >0.000000</td>\n",
       "      <td id=\"T_4dcbc_row7_col10\" class=\"data row7 col10\" >0.000000</td>\n",
       "      <td id=\"T_4dcbc_row7_col11\" class=\"data row7 col11\" >0.000000</td>\n",
       "      <td id=\"T_4dcbc_row7_col12\" class=\"data row7 col12\" >0.388700</td>\n",
       "      <td id=\"T_4dcbc_row7_col13\" class=\"data row7 col13\" >0.856000</td>\n",
       "      <td id=\"T_4dcbc_row7_col14\" class=\"data row7 col14\" >0.000000</td>\n",
       "      <td id=\"T_4dcbc_row7_col15\" class=\"data row7 col15\" >0.261600</td>\n",
       "      <td id=\"T_4dcbc_row7_col16\" class=\"data row7 col16\" >24700.000000</td>\n",
       "      <td id=\"T_4dcbc_row7_col17\" class=\"data row7 col17\" >nan</td>\n",
       "    </tr>\n",
       "    <tr>\n",
       "      <th id=\"T_4dcbc_level0_row8\" class=\"row_heading level0 row8\" >LIU Brentwood</th>\n",
       "      <td id=\"T_4dcbc_row8_col0\" class=\"data row8 col0\" >nan</td>\n",
       "      <td id=\"T_4dcbc_row8_col1\" class=\"data row8 col1\" >nan</td>\n",
       "      <td id=\"T_4dcbc_row8_col2\" class=\"data row8 col2\" >15.000000</td>\n",
       "      <td id=\"T_4dcbc_row8_col3\" class=\"data row8 col3\" >0.000000</td>\n",
       "      <td id=\"T_4dcbc_row8_col4\" class=\"data row8 col4\" >0.133300</td>\n",
       "      <td id=\"T_4dcbc_row8_col5\" class=\"data row8 col5\" >0.266700</td>\n",
       "      <td id=\"T_4dcbc_row8_col6\" class=\"data row8 col6\" >0.000000</td>\n",
       "      <td id=\"T_4dcbc_row8_col7\" class=\"data row8 col7\" >0.000000</td>\n",
       "      <td id=\"T_4dcbc_row8_col8\" class=\"data row8 col8\" >0.000000</td>\n",
       "      <td id=\"T_4dcbc_row8_col9\" class=\"data row8 col9\" >0.533300</td>\n",
       "      <td id=\"T_4dcbc_row8_col10\" class=\"data row8 col10\" >0.000000</td>\n",
       "      <td id=\"T_4dcbc_row8_col11\" class=\"data row8 col11\" >0.066700</td>\n",
       "      <td id=\"T_4dcbc_row8_col12\" class=\"data row8 col12\" >0.400000</td>\n",
       "      <td id=\"T_4dcbc_row8_col13\" class=\"data row8 col13\" >0.565200</td>\n",
       "      <td id=\"T_4dcbc_row8_col14\" class=\"data row8 col14\" >0.782600</td>\n",
       "      <td id=\"T_4dcbc_row8_col15\" class=\"data row8 col15\" >0.782600</td>\n",
       "      <td id=\"T_4dcbc_row8_col16\" class=\"data row8 col16\" >44600.000000</td>\n",
       "      <td id=\"T_4dcbc_row8_col17\" class=\"data row8 col17\" >25499.000000</td>\n",
       "    </tr>\n",
       "    <tr>\n",
       "      <th id=\"T_4dcbc_level0_row9\" class=\"row_heading level0 row9\" >California University of Management and Sciences</th>\n",
       "      <td id=\"T_4dcbc_row9_col0\" class=\"data row9 col0\" >nan</td>\n",
       "      <td id=\"T_4dcbc_row9_col1\" class=\"data row9 col1\" >nan</td>\n",
       "      <td id=\"T_4dcbc_row9_col2\" class=\"data row9 col2\" >98.000000</td>\n",
       "      <td id=\"T_4dcbc_row9_col3\" class=\"data row9 col3\" >0.010200</td>\n",
       "      <td id=\"T_4dcbc_row9_col4\" class=\"data row9 col4\" >0.020400</td>\n",
       "      <td id=\"T_4dcbc_row9_col5\" class=\"data row9 col5\" >0.000000</td>\n",
       "      <td id=\"T_4dcbc_row9_col6\" class=\"data row9 col6\" >0.040800</td>\n",
       "      <td id=\"T_4dcbc_row9_col7\" class=\"data row9 col7\" >0.000000</td>\n",
       "      <td id=\"T_4dcbc_row9_col8\" class=\"data row9 col8\" >0.000000</td>\n",
       "      <td id=\"T_4dcbc_row9_col9\" class=\"data row9 col9\" >0.000000</td>\n",
       "      <td id=\"T_4dcbc_row9_col10\" class=\"data row9 col10\" >0.928600</td>\n",
       "      <td id=\"T_4dcbc_row9_col11\" class=\"data row9 col11\" >0.000000</td>\n",
       "      <td id=\"T_4dcbc_row9_col12\" class=\"data row9 col12\" >0.000000</td>\n",
       "      <td id=\"T_4dcbc_row9_col13\" class=\"data row9 col13\" >0.092600</td>\n",
       "      <td id=\"T_4dcbc_row9_col14\" class=\"data row9 col14\" >0.055600</td>\n",
       "      <td id=\"T_4dcbc_row9_col15\" class=\"data row9 col15\" >0.685200</td>\n",
       "      <td id=\"T_4dcbc_row9_col16\" class=\"data row9 col16\" >nan</td>\n",
       "      <td id=\"T_4dcbc_row9_col17\" class=\"data row9 col17\" >nan</td>\n",
       "    </tr>\n",
       "    <tr>\n",
       "      <th id=\"T_4dcbc_level0_row10\" class=\"row_heading level0 row10\" >Le Cordon Bleu College of Culinary Arts-San Francisco</th>\n",
       "      <td id=\"T_4dcbc_row10_col0\" class=\"data row10 col0\" >nan</td>\n",
       "      <td id=\"T_4dcbc_row10_col1\" class=\"data row10 col1\" >nan</td>\n",
       "      <td id=\"T_4dcbc_row10_col2\" class=\"data row10 col2\" >442.000000</td>\n",
       "      <td id=\"T_4dcbc_row10_col3\" class=\"data row10 col3\" >0.031700</td>\n",
       "      <td id=\"T_4dcbc_row10_col4\" class=\"data row10 col4\" >0.009000</td>\n",
       "      <td id=\"T_4dcbc_row10_col5\" class=\"data row10 col5\" >0.011300</td>\n",
       "      <td id=\"T_4dcbc_row10_col6\" class=\"data row10 col6\" >0.027100</td>\n",
       "      <td id=\"T_4dcbc_row10_col7\" class=\"data row10 col7\" >0.004500</td>\n",
       "      <td id=\"T_4dcbc_row10_col8\" class=\"data row10 col8\" >0.002300</td>\n",
       "      <td id=\"T_4dcbc_row10_col9\" class=\"data row10 col9\" >0.011300</td>\n",
       "      <td id=\"T_4dcbc_row10_col10\" class=\"data row10 col10\" >0.000000</td>\n",
       "      <td id=\"T_4dcbc_row10_col11\" class=\"data row10 col11\" >0.902700</td>\n",
       "      <td id=\"T_4dcbc_row10_col12\" class=\"data row10 col12\" >0.000000</td>\n",
       "      <td id=\"T_4dcbc_row10_col13\" class=\"data row10 col13\" >0.372200</td>\n",
       "      <td id=\"T_4dcbc_row10_col14\" class=\"data row10 col14\" >0.535800</td>\n",
       "      <td id=\"T_4dcbc_row10_col15\" class=\"data row10 col15\" >0.544000</td>\n",
       "      <td id=\"T_4dcbc_row10_col16\" class=\"data row10 col16\" >34000.000000</td>\n",
       "      <td id=\"T_4dcbc_row10_col17\" class=\"data row10 col17\" >12931.000000</td>\n",
       "    </tr>\n",
       "    <tr>\n",
       "      <th id=\"T_4dcbc_level0_row11\" class=\"row_heading level0 row11\" >MTI Business College Inc</th>\n",
       "      <td id=\"T_4dcbc_row11_col0\" class=\"data row11 col0\" >nan</td>\n",
       "      <td id=\"T_4dcbc_row11_col1\" class=\"data row11 col1\" >nan</td>\n",
       "      <td id=\"T_4dcbc_row11_col2\" class=\"data row11 col2\" >146.000000</td>\n",
       "      <td id=\"T_4dcbc_row11_col3\" class=\"data row11 col3\" >0.239700</td>\n",
       "      <td id=\"T_4dcbc_row11_col4\" class=\"data row11 col4\" >0.513700</td>\n",
       "      <td id=\"T_4dcbc_row11_col5\" class=\"data row11 col5\" >0.143800</td>\n",
       "      <td id=\"T_4dcbc_row11_col6\" class=\"data row11 col6\" >0.047900</td>\n",
       "      <td id=\"T_4dcbc_row11_col7\" class=\"data row11 col7\" >0.034200</td>\n",
       "      <td id=\"T_4dcbc_row11_col8\" class=\"data row11 col8\" >0.020500</td>\n",
       "      <td id=\"T_4dcbc_row11_col9\" class=\"data row11 col9\" >0.000000</td>\n",
       "      <td id=\"T_4dcbc_row11_col10\" class=\"data row11 col10\" >0.000000</td>\n",
       "      <td id=\"T_4dcbc_row11_col11\" class=\"data row11 col11\" >0.000000</td>\n",
       "      <td id=\"T_4dcbc_row11_col12\" class=\"data row11 col12\" >0.000000</td>\n",
       "      <td id=\"T_4dcbc_row11_col13\" class=\"data row11 col13\" >1.000000</td>\n",
       "      <td id=\"T_4dcbc_row11_col14\" class=\"data row11 col14\" >1.000000</td>\n",
       "      <td id=\"T_4dcbc_row11_col15\" class=\"data row11 col15\" >0.398600</td>\n",
       "      <td id=\"T_4dcbc_row11_col16\" class=\"data row11 col16\" >23000.000000</td>\n",
       "      <td id=\"T_4dcbc_row11_col17\" class=\"data row11 col17\" >9500.000000</td>\n",
       "    </tr>\n",
       "    <tr>\n",
       "      <th id=\"T_4dcbc_level0_row12\" class=\"row_heading level0 row12\" >ABC Beauty College Inc</th>\n",
       "      <td id=\"T_4dcbc_row12_col0\" class=\"data row12 col0\" >nan</td>\n",
       "      <td id=\"T_4dcbc_row12_col1\" class=\"data row12 col1\" >nan</td>\n",
       "      <td id=\"T_4dcbc_row12_col2\" class=\"data row12 col2\" >38.000000</td>\n",
       "      <td id=\"T_4dcbc_row12_col3\" class=\"data row12 col3\" >0.289500</td>\n",
       "      <td id=\"T_4dcbc_row12_col4\" class=\"data row12 col4\" >0.657900</td>\n",
       "      <td id=\"T_4dcbc_row12_col5\" class=\"data row12 col5\" >0.052600</td>\n",
       "      <td id=\"T_4dcbc_row12_col6\" class=\"data row12 col6\" >0.000000</td>\n",
       "      <td id=\"T_4dcbc_row12_col7\" class=\"data row12 col7\" >0.000000</td>\n",
       "      <td id=\"T_4dcbc_row12_col8\" class=\"data row12 col8\" >0.000000</td>\n",
       "      <td id=\"T_4dcbc_row12_col9\" class=\"data row12 col9\" >0.000000</td>\n",
       "      <td id=\"T_4dcbc_row12_col10\" class=\"data row12 col10\" >0.000000</td>\n",
       "      <td id=\"T_4dcbc_row12_col11\" class=\"data row12 col11\" >0.000000</td>\n",
       "      <td id=\"T_4dcbc_row12_col12\" class=\"data row12 col12\" >0.210500</td>\n",
       "      <td id=\"T_4dcbc_row12_col13\" class=\"data row12 col13\" >0.981500</td>\n",
       "      <td id=\"T_4dcbc_row12_col14\" class=\"data row12 col14\" >1.000000</td>\n",
       "      <td id=\"T_4dcbc_row12_col15\" class=\"data row12 col15\" >0.468800</td>\n",
       "      <td id=\"T_4dcbc_row12_col16\" class=\"data row12 col16\" >nan</td>\n",
       "      <td id=\"T_4dcbc_row12_col17\" class=\"data row12 col17\" >16500.000000</td>\n",
       "    </tr>\n",
       "    <tr>\n",
       "      <th id=\"T_4dcbc_level0_row13\" class=\"row_heading level0 row13\" >Dongguk University-Los Angeles</th>\n",
       "      <td id=\"T_4dcbc_row13_col0\" class=\"data row13 col0\" >nan</td>\n",
       "      <td id=\"T_4dcbc_row13_col1\" class=\"data row13 col1\" >nan</td>\n",
       "      <td id=\"T_4dcbc_row13_col2\" class=\"data row13 col2\" >20.000000</td>\n",
       "      <td id=\"T_4dcbc_row13_col3\" class=\"data row13 col3\" >0.350000</td>\n",
       "      <td id=\"T_4dcbc_row13_col4\" class=\"data row13 col4\" >0.000000</td>\n",
       "      <td id=\"T_4dcbc_row13_col5\" class=\"data row13 col5\" >0.150000</td>\n",
       "      <td id=\"T_4dcbc_row13_col6\" class=\"data row13 col6\" >0.500000</td>\n",
       "      <td id=\"T_4dcbc_row13_col7\" class=\"data row13 col7\" >0.000000</td>\n",
       "      <td id=\"T_4dcbc_row13_col8\" class=\"data row13 col8\" >0.000000</td>\n",
       "      <td id=\"T_4dcbc_row13_col9\" class=\"data row13 col9\" >0.000000</td>\n",
       "      <td id=\"T_4dcbc_row13_col10\" class=\"data row13 col10\" >0.000000</td>\n",
       "      <td id=\"T_4dcbc_row13_col11\" class=\"data row13 col11\" >0.000000</td>\n",
       "      <td id=\"T_4dcbc_row13_col12\" class=\"data row13 col12\" >nan</td>\n",
       "      <td id=\"T_4dcbc_row13_col13\" class=\"data row13 col13\" >nan</td>\n",
       "      <td id=\"T_4dcbc_row13_col14\" class=\"data row13 col14\" >nan</td>\n",
       "      <td id=\"T_4dcbc_row13_col15\" class=\"data row13 col15\" >1.000000</td>\n",
       "      <td id=\"T_4dcbc_row13_col16\" class=\"data row13 col16\" >nan</td>\n",
       "      <td id=\"T_4dcbc_row13_col17\" class=\"data row13 col17\" >nan</td>\n",
       "    </tr>\n",
       "    <tr>\n",
       "      <th id=\"T_4dcbc_level0_row14\" class=\"row_heading level0 row14\" >Medical College of Wisconsin</th>\n",
       "      <td id=\"T_4dcbc_row14_col0\" class=\"data row14 col0\" >nan</td>\n",
       "      <td id=\"T_4dcbc_row14_col1\" class=\"data row14 col1\" >nan</td>\n",
       "      <td id=\"T_4dcbc_row14_col2\" class=\"data row14 col2\" >nan</td>\n",
       "      <td id=\"T_4dcbc_row14_col3\" class=\"data row14 col3\" >nan</td>\n",
       "      <td id=\"T_4dcbc_row14_col4\" class=\"data row14 col4\" >nan</td>\n",
       "      <td id=\"T_4dcbc_row14_col5\" class=\"data row14 col5\" >nan</td>\n",
       "      <td id=\"T_4dcbc_row14_col6\" class=\"data row14 col6\" >nan</td>\n",
       "      <td id=\"T_4dcbc_row14_col7\" class=\"data row14 col7\" >nan</td>\n",
       "      <td id=\"T_4dcbc_row14_col8\" class=\"data row14 col8\" >nan</td>\n",
       "      <td id=\"T_4dcbc_row14_col9\" class=\"data row14 col9\" >nan</td>\n",
       "      <td id=\"T_4dcbc_row14_col10\" class=\"data row14 col10\" >nan</td>\n",
       "      <td id=\"T_4dcbc_row14_col11\" class=\"data row14 col11\" >nan</td>\n",
       "      <td id=\"T_4dcbc_row14_col12\" class=\"data row14 col12\" >nan</td>\n",
       "      <td id=\"T_4dcbc_row14_col13\" class=\"data row14 col13\" >nan</td>\n",
       "      <td id=\"T_4dcbc_row14_col14\" class=\"data row14 col14\" >nan</td>\n",
       "      <td id=\"T_4dcbc_row14_col15\" class=\"data row14 col15\" >nan</td>\n",
       "      <td id=\"T_4dcbc_row14_col16\" class=\"data row14 col16\" >233100.000000</td>\n",
       "      <td id=\"T_4dcbc_row14_col17\" class=\"data row14 col17\" >nan</td>\n",
       "    </tr>\n",
       "    <tr>\n",
       "      <th id=\"T_4dcbc_level0_row15\" class=\"row_heading level0 row15\" >Southwest University of Visual Arts-Tucson</th>\n",
       "      <td id=\"T_4dcbc_row15_col0\" class=\"data row15 col0\" >nan</td>\n",
       "      <td id=\"T_4dcbc_row15_col1\" class=\"data row15 col1\" >nan</td>\n",
       "      <td id=\"T_4dcbc_row15_col2\" class=\"data row15 col2\" >161.000000</td>\n",
       "      <td id=\"T_4dcbc_row15_col3\" class=\"data row15 col3\" >0.453400</td>\n",
       "      <td id=\"T_4dcbc_row15_col4\" class=\"data row15 col4\" >0.043500</td>\n",
       "      <td id=\"T_4dcbc_row15_col5\" class=\"data row15 col5\" >0.316800</td>\n",
       "      <td id=\"T_4dcbc_row15_col6\" class=\"data row15 col6\" >0.006200</td>\n",
       "      <td id=\"T_4dcbc_row15_col7\" class=\"data row15 col7\" >0.031100</td>\n",
       "      <td id=\"T_4dcbc_row15_col8\" class=\"data row15 col8\" >0.000000</td>\n",
       "      <td id=\"T_4dcbc_row15_col9\" class=\"data row15 col9\" >0.000000</td>\n",
       "      <td id=\"T_4dcbc_row15_col10\" class=\"data row15 col10\" >0.000000</td>\n",
       "      <td id=\"T_4dcbc_row15_col11\" class=\"data row15 col11\" >0.149100</td>\n",
       "      <td id=\"T_4dcbc_row15_col12\" class=\"data row15 col12\" >0.279500</td>\n",
       "      <td id=\"T_4dcbc_row15_col13\" class=\"data row15 col13\" >0.446900</td>\n",
       "      <td id=\"T_4dcbc_row15_col14\" class=\"data row15 col14\" >0.429200</td>\n",
       "      <td id=\"T_4dcbc_row15_col15\" class=\"data row15 col15\" >0.865700</td>\n",
       "      <td id=\"T_4dcbc_row15_col16\" class=\"data row15 col16\" >27200.000000</td>\n",
       "      <td id=\"T_4dcbc_row15_col17\" class=\"data row15 col17\" >49750.000000</td>\n",
       "    </tr>\n",
       "  </tbody>\n",
       "</table>\n"
      ],
      "text/plain": [
       "<pandas.io.formats.style.Styler at 0x1c43e99ea30>"
      ]
     },
     "execution_count": 119,
     "metadata": {},
     "output_type": "execute_result"
    }
   ],
   "source": [
    "# pipe : dataframe에 함수를 적용할 때 사용\n",
    "# apply : series에 함수를 적용할 때 사용\n",
    "(college\n",
    "   .assign(\n",
    "       MD_EARN_WNE_P10=pd.to_numeric(college.MD_EARN_WNE_P10, errors='coerce'),\n",
    "       GRAD_DEBT_MDN_SUPP=pd.to_numeric(college.GRAD_DEBT_MDN_SUPP, errors='coerce'))\n",
    "   .select_dtypes('number')\n",
    "   .pipe(remove_binary_cols)\n",
    "   .pipe(select_rows_with_max_cols).style.highlight_max()\n",
    ")"
   ]
  },
  {
   "cell_type": "code",
   "execution_count": 121,
   "id": "bd9afeae",
   "metadata": {},
   "outputs": [],
   "source": [
    "# filter로 칼럼을 걸러준다\n",
    "college = pd.read_csv('college.csv', index_col='INSTNM')\n",
    "college_ugds = college.filter(like='UGDS_').head()"
   ]
  },
  {
   "cell_type": "code",
   "execution_count": 123,
   "id": "3af17731",
   "metadata": {},
   "outputs": [
    {
     "data": {
      "text/html": [
       "<style type=\"text/css\">\n",
       "#T_dee35_row0_col1, #T_dee35_row1_col0, #T_dee35_row2_col1, #T_dee35_row3_col0, #T_dee35_row4_col1 {\n",
       "  background-color: yellow;\n",
       "}\n",
       "</style>\n",
       "<table id=\"T_dee35_\">\n",
       "  <thead>\n",
       "    <tr>\n",
       "      <th class=\"blank level0\" >&nbsp;</th>\n",
       "      <th class=\"col_heading level0 col0\" >UGDS_WHITE</th>\n",
       "      <th class=\"col_heading level0 col1\" >UGDS_BLACK</th>\n",
       "      <th class=\"col_heading level0 col2\" >UGDS_HISP</th>\n",
       "      <th class=\"col_heading level0 col3\" >UGDS_ASIAN</th>\n",
       "      <th class=\"col_heading level0 col4\" >UGDS_AIAN</th>\n",
       "      <th class=\"col_heading level0 col5\" >UGDS_NHPI</th>\n",
       "      <th class=\"col_heading level0 col6\" >UGDS_2MOR</th>\n",
       "      <th class=\"col_heading level0 col7\" >UGDS_NRA</th>\n",
       "      <th class=\"col_heading level0 col8\" >UGDS_UNKN</th>\n",
       "    </tr>\n",
       "    <tr>\n",
       "      <th class=\"index_name level0\" >INSTNM</th>\n",
       "      <th class=\"blank col0\" >&nbsp;</th>\n",
       "      <th class=\"blank col1\" >&nbsp;</th>\n",
       "      <th class=\"blank col2\" >&nbsp;</th>\n",
       "      <th class=\"blank col3\" >&nbsp;</th>\n",
       "      <th class=\"blank col4\" >&nbsp;</th>\n",
       "      <th class=\"blank col5\" >&nbsp;</th>\n",
       "      <th class=\"blank col6\" >&nbsp;</th>\n",
       "      <th class=\"blank col7\" >&nbsp;</th>\n",
       "      <th class=\"blank col8\" >&nbsp;</th>\n",
       "    </tr>\n",
       "  </thead>\n",
       "  <tbody>\n",
       "    <tr>\n",
       "      <th id=\"T_dee35_level0_row0\" class=\"row_heading level0 row0\" >Alabama A & M University</th>\n",
       "      <td id=\"T_dee35_row0_col0\" class=\"data row0 col0\" >0.033300</td>\n",
       "      <td id=\"T_dee35_row0_col1\" class=\"data row0 col1\" >0.935300</td>\n",
       "      <td id=\"T_dee35_row0_col2\" class=\"data row0 col2\" >0.005500</td>\n",
       "      <td id=\"T_dee35_row0_col3\" class=\"data row0 col3\" >0.001900</td>\n",
       "      <td id=\"T_dee35_row0_col4\" class=\"data row0 col4\" >0.002400</td>\n",
       "      <td id=\"T_dee35_row0_col5\" class=\"data row0 col5\" >0.001900</td>\n",
       "      <td id=\"T_dee35_row0_col6\" class=\"data row0 col6\" >0.000000</td>\n",
       "      <td id=\"T_dee35_row0_col7\" class=\"data row0 col7\" >0.005900</td>\n",
       "      <td id=\"T_dee35_row0_col8\" class=\"data row0 col8\" >0.013800</td>\n",
       "    </tr>\n",
       "    <tr>\n",
       "      <th id=\"T_dee35_level0_row1\" class=\"row_heading level0 row1\" >University of Alabama at Birmingham</th>\n",
       "      <td id=\"T_dee35_row1_col0\" class=\"data row1 col0\" >0.592200</td>\n",
       "      <td id=\"T_dee35_row1_col1\" class=\"data row1 col1\" >0.260000</td>\n",
       "      <td id=\"T_dee35_row1_col2\" class=\"data row1 col2\" >0.028300</td>\n",
       "      <td id=\"T_dee35_row1_col3\" class=\"data row1 col3\" >0.051800</td>\n",
       "      <td id=\"T_dee35_row1_col4\" class=\"data row1 col4\" >0.002200</td>\n",
       "      <td id=\"T_dee35_row1_col5\" class=\"data row1 col5\" >0.000700</td>\n",
       "      <td id=\"T_dee35_row1_col6\" class=\"data row1 col6\" >0.036800</td>\n",
       "      <td id=\"T_dee35_row1_col7\" class=\"data row1 col7\" >0.017900</td>\n",
       "      <td id=\"T_dee35_row1_col8\" class=\"data row1 col8\" >0.010000</td>\n",
       "    </tr>\n",
       "    <tr>\n",
       "      <th id=\"T_dee35_level0_row2\" class=\"row_heading level0 row2\" >Amridge University</th>\n",
       "      <td id=\"T_dee35_row2_col0\" class=\"data row2 col0\" >0.299000</td>\n",
       "      <td id=\"T_dee35_row2_col1\" class=\"data row2 col1\" >0.419200</td>\n",
       "      <td id=\"T_dee35_row2_col2\" class=\"data row2 col2\" >0.006900</td>\n",
       "      <td id=\"T_dee35_row2_col3\" class=\"data row2 col3\" >0.003400</td>\n",
       "      <td id=\"T_dee35_row2_col4\" class=\"data row2 col4\" >0.000000</td>\n",
       "      <td id=\"T_dee35_row2_col5\" class=\"data row2 col5\" >0.000000</td>\n",
       "      <td id=\"T_dee35_row2_col6\" class=\"data row2 col6\" >0.000000</td>\n",
       "      <td id=\"T_dee35_row2_col7\" class=\"data row2 col7\" >0.000000</td>\n",
       "      <td id=\"T_dee35_row2_col8\" class=\"data row2 col8\" >0.271500</td>\n",
       "    </tr>\n",
       "    <tr>\n",
       "      <th id=\"T_dee35_level0_row3\" class=\"row_heading level0 row3\" >University of Alabama in Huntsville</th>\n",
       "      <td id=\"T_dee35_row3_col0\" class=\"data row3 col0\" >0.698800</td>\n",
       "      <td id=\"T_dee35_row3_col1\" class=\"data row3 col1\" >0.125500</td>\n",
       "      <td id=\"T_dee35_row3_col2\" class=\"data row3 col2\" >0.038200</td>\n",
       "      <td id=\"T_dee35_row3_col3\" class=\"data row3 col3\" >0.037600</td>\n",
       "      <td id=\"T_dee35_row3_col4\" class=\"data row3 col4\" >0.014300</td>\n",
       "      <td id=\"T_dee35_row3_col5\" class=\"data row3 col5\" >0.000200</td>\n",
       "      <td id=\"T_dee35_row3_col6\" class=\"data row3 col6\" >0.017200</td>\n",
       "      <td id=\"T_dee35_row3_col7\" class=\"data row3 col7\" >0.033200</td>\n",
       "      <td id=\"T_dee35_row3_col8\" class=\"data row3 col8\" >0.035000</td>\n",
       "    </tr>\n",
       "    <tr>\n",
       "      <th id=\"T_dee35_level0_row4\" class=\"row_heading level0 row4\" >Alabama State University</th>\n",
       "      <td id=\"T_dee35_row4_col0\" class=\"data row4 col0\" >0.015800</td>\n",
       "      <td id=\"T_dee35_row4_col1\" class=\"data row4 col1\" >0.920800</td>\n",
       "      <td id=\"T_dee35_row4_col2\" class=\"data row4 col2\" >0.012100</td>\n",
       "      <td id=\"T_dee35_row4_col3\" class=\"data row4 col3\" >0.001900</td>\n",
       "      <td id=\"T_dee35_row4_col4\" class=\"data row4 col4\" >0.001000</td>\n",
       "      <td id=\"T_dee35_row4_col5\" class=\"data row4 col5\" >0.000600</td>\n",
       "      <td id=\"T_dee35_row4_col6\" class=\"data row4 col6\" >0.009800</td>\n",
       "      <td id=\"T_dee35_row4_col7\" class=\"data row4 col7\" >0.024300</td>\n",
       "      <td id=\"T_dee35_row4_col8\" class=\"data row4 col8\" >0.013700</td>\n",
       "    </tr>\n",
       "  </tbody>\n",
       "</table>\n"
      ],
      "text/plain": [
       "<pandas.io.formats.style.Styler at 0x1c43efa20d0>"
      ]
     },
     "execution_count": 123,
     "metadata": {},
     "output_type": "execute_result"
    }
   ],
   "source": [
    "college_ugds.style.highlight_max(axis='columns') # axis = 1"
   ]
  },
  {
   "cell_type": "markdown",
   "id": "b9c8b24b",
   "metadata": {},
   "source": [
    "## 메서드 체인을 idxmax 복제"
   ]
  },
  {
   "cell_type": "code",
   "execution_count": 126,
   "id": "688b0455",
   "metadata": {},
   "outputs": [],
   "source": [
    "def remove_binary_cols(df):\n",
    "    binary_only = df.nunique() == 2\n",
    "    cols = binary_only[binary_only].index.tolist()\n",
    "    return df.drop(columns=cols)"
   ]
  },
  {
   "cell_type": "code",
   "execution_count": 127,
   "id": "448b877f",
   "metadata": {},
   "outputs": [],
   "source": [
    "college_n = (college\n",
    "   .assign(\n",
    "       MD_EARN_WNE_P10=pd.to_numeric(college.MD_EARN_WNE_P10, errors='coerce'),\n",
    "       GRAD_DEBT_MDN_SUPP=pd.to_numeric(college.GRAD_DEBT_MDN_SUPP, errors='coerce'))\n",
    "   .select_dtypes('number')\n",
    "   .pipe(remove_binary_cols)\n",
    ")"
   ]
  },
  {
   "cell_type": "code",
   "execution_count": 128,
   "id": "4db6f6d9",
   "metadata": {},
   "outputs": [
    {
     "data": {
      "text/plain": [
       "SATVRMID         765.0\n",
       "SATMTMID         785.0\n",
       "UGDS          151558.0\n",
       "UGDS_WHITE         1.0\n",
       "UGDS_BLACK         1.0\n",
       "dtype: float64"
      ]
     },
     "execution_count": 128,
     "metadata": {},
     "output_type": "execute_result"
    }
   ],
   "source": [
    "college_n.max().head()"
   ]
  },
  {
   "cell_type": "code",
   "execution_count": 129,
   "id": "395ee171",
   "metadata": {
    "scrolled": true
   },
   "outputs": [
    {
     "data": {
      "text/html": [
       "<div>\n",
       "<style scoped>\n",
       "    .dataframe tbody tr th:only-of-type {\n",
       "        vertical-align: middle;\n",
       "    }\n",
       "\n",
       "    .dataframe tbody tr th {\n",
       "        vertical-align: top;\n",
       "    }\n",
       "\n",
       "    .dataframe thead th {\n",
       "        text-align: right;\n",
       "    }\n",
       "</style>\n",
       "<table border=\"1\" class=\"dataframe\">\n",
       "  <thead>\n",
       "    <tr style=\"text-align: right;\">\n",
       "      <th></th>\n",
       "      <th>SATVRMID</th>\n",
       "      <th>SATMTMID</th>\n",
       "      <th>UGDS</th>\n",
       "      <th>UGDS_WHITE</th>\n",
       "      <th>...</th>\n",
       "      <th>PCTFLOAN</th>\n",
       "      <th>UG25ABV</th>\n",
       "      <th>MD_EARN_WNE_P10</th>\n",
       "      <th>GRAD_DEBT_MDN_SUPP</th>\n",
       "    </tr>\n",
       "    <tr>\n",
       "      <th>INSTNM</th>\n",
       "      <th></th>\n",
       "      <th></th>\n",
       "      <th></th>\n",
       "      <th></th>\n",
       "      <th></th>\n",
       "      <th></th>\n",
       "      <th></th>\n",
       "      <th></th>\n",
       "      <th></th>\n",
       "    </tr>\n",
       "  </thead>\n",
       "  <tbody>\n",
       "    <tr>\n",
       "      <th>Alabama A &amp; M University</th>\n",
       "      <td>False</td>\n",
       "      <td>False</td>\n",
       "      <td>False</td>\n",
       "      <td>False</td>\n",
       "      <td>...</td>\n",
       "      <td>False</td>\n",
       "      <td>False</td>\n",
       "      <td>False</td>\n",
       "      <td>False</td>\n",
       "    </tr>\n",
       "    <tr>\n",
       "      <th>University of Alabama at Birmingham</th>\n",
       "      <td>False</td>\n",
       "      <td>False</td>\n",
       "      <td>False</td>\n",
       "      <td>False</td>\n",
       "      <td>...</td>\n",
       "      <td>False</td>\n",
       "      <td>False</td>\n",
       "      <td>False</td>\n",
       "      <td>False</td>\n",
       "    </tr>\n",
       "    <tr>\n",
       "      <th>Amridge University</th>\n",
       "      <td>False</td>\n",
       "      <td>False</td>\n",
       "      <td>False</td>\n",
       "      <td>False</td>\n",
       "      <td>...</td>\n",
       "      <td>False</td>\n",
       "      <td>False</td>\n",
       "      <td>False</td>\n",
       "      <td>False</td>\n",
       "    </tr>\n",
       "    <tr>\n",
       "      <th>University of Alabama in Huntsville</th>\n",
       "      <td>False</td>\n",
       "      <td>False</td>\n",
       "      <td>False</td>\n",
       "      <td>False</td>\n",
       "      <td>...</td>\n",
       "      <td>False</td>\n",
       "      <td>False</td>\n",
       "      <td>False</td>\n",
       "      <td>False</td>\n",
       "    </tr>\n",
       "    <tr>\n",
       "      <th>Alabama State University</th>\n",
       "      <td>False</td>\n",
       "      <td>False</td>\n",
       "      <td>False</td>\n",
       "      <td>False</td>\n",
       "      <td>...</td>\n",
       "      <td>False</td>\n",
       "      <td>False</td>\n",
       "      <td>False</td>\n",
       "      <td>False</td>\n",
       "    </tr>\n",
       "  </tbody>\n",
       "</table>\n",
       "<p>5 rows × 18 columns</p>\n",
       "</div>"
      ],
      "text/plain": [
       "              SATVRMID  SATMTMID   UGDS  UGDS_WHITE  ...  PCTFLOAN  UG25ABV  \\\n",
       "INSTNM                                               ...                      \n",
       "Alabama A...     False     False  False       False  ...     False    False   \n",
       "Universit...     False     False  False       False  ...     False    False   \n",
       "Amridge U...     False     False  False       False  ...     False    False   \n",
       "Universit...     False     False  False       False  ...     False    False   \n",
       "Alabama S...     False     False  False       False  ...     False    False   \n",
       "\n",
       "              MD_EARN_WNE_P10  GRAD_DEBT_MDN_SUPP  \n",
       "INSTNM                                             \n",
       "Alabama A...        False            False         \n",
       "Universit...        False            False         \n",
       "Amridge U...        False            False         \n",
       "Universit...        False            False         \n",
       "Alabama S...        False            False         \n",
       "\n",
       "[5 rows x 18 columns]"
      ]
     },
     "execution_count": 129,
     "metadata": {},
     "output_type": "execute_result"
    }
   ],
   "source": [
    "college_n.eq(college_n.max()).head()"
   ]
  },
  {
   "cell_type": "code",
   "execution_count": null,
   "id": "92041707",
   "metadata": {},
   "outputs": [],
   "source": [
    "# 최댓값이 여려개인 경우, 첫번째 출현한 최댓값을 구해보자"
   ]
  },
  {
   "cell_type": "code",
   "execution_count": 152,
   "id": "809aec2a",
   "metadata": {},
   "outputs": [
    {
     "data": {
      "text/plain": [
       "401"
      ]
     },
     "execution_count": 152,
     "metadata": {},
     "output_type": "execute_result"
    }
   ],
   "source": [
    "# .eq = '=='연산자\n",
    "#  any : 하나라도 NaN값이 있으면 False\n",
    "has_row_max = (college_n\n",
    "    .eq(college_n.max())\n",
    "    .any(axis='columns')\n",
    ")\n",
    "\n",
    "# Nan값이 아닌 데이터 수\n",
    "has_row_max.sum()"
   ]
  },
  {
   "cell_type": "code",
   "execution_count": 153,
   "id": "d3a1adfa",
   "metadata": {
    "scrolled": true
   },
   "outputs": [
    {
     "data": {
      "text/html": [
       "<div>\n",
       "<style scoped>\n",
       "    .dataframe tbody tr th:only-of-type {\n",
       "        vertical-align: middle;\n",
       "    }\n",
       "\n",
       "    .dataframe tbody tr th {\n",
       "        vertical-align: top;\n",
       "    }\n",
       "\n",
       "    .dataframe thead th {\n",
       "        text-align: right;\n",
       "    }\n",
       "</style>\n",
       "<table border=\"1\" class=\"dataframe\">\n",
       "  <thead>\n",
       "    <tr style=\"text-align: right;\">\n",
       "      <th></th>\n",
       "      <th>SATVRMID</th>\n",
       "      <th>SATMTMID</th>\n",
       "      <th>UGDS</th>\n",
       "      <th>UGDS_WHITE</th>\n",
       "      <th>...</th>\n",
       "      <th>PCTFLOAN</th>\n",
       "      <th>UG25ABV</th>\n",
       "      <th>MD_EARN_WNE_P10</th>\n",
       "      <th>GRAD_DEBT_MDN_SUPP</th>\n",
       "    </tr>\n",
       "    <tr>\n",
       "      <th>INSTNM</th>\n",
       "      <th></th>\n",
       "      <th></th>\n",
       "      <th></th>\n",
       "      <th></th>\n",
       "      <th></th>\n",
       "      <th></th>\n",
       "      <th></th>\n",
       "      <th></th>\n",
       "      <th></th>\n",
       "    </tr>\n",
       "  </thead>\n",
       "  <tbody>\n",
       "    <tr>\n",
       "      <th>Alabama A &amp; M University</th>\n",
       "      <td>0</td>\n",
       "      <td>0</td>\n",
       "      <td>0</td>\n",
       "      <td>0</td>\n",
       "      <td>...</td>\n",
       "      <td>0</td>\n",
       "      <td>0</td>\n",
       "      <td>0</td>\n",
       "      <td>0</td>\n",
       "    </tr>\n",
       "    <tr>\n",
       "      <th>University of Alabama at Birmingham</th>\n",
       "      <td>0</td>\n",
       "      <td>0</td>\n",
       "      <td>0</td>\n",
       "      <td>0</td>\n",
       "      <td>...</td>\n",
       "      <td>0</td>\n",
       "      <td>0</td>\n",
       "      <td>0</td>\n",
       "      <td>0</td>\n",
       "    </tr>\n",
       "    <tr>\n",
       "      <th>Amridge University</th>\n",
       "      <td>0</td>\n",
       "      <td>0</td>\n",
       "      <td>0</td>\n",
       "      <td>0</td>\n",
       "      <td>...</td>\n",
       "      <td>0</td>\n",
       "      <td>0</td>\n",
       "      <td>0</td>\n",
       "      <td>0</td>\n",
       "    </tr>\n",
       "    <tr>\n",
       "      <th>University of Alabama in Huntsville</th>\n",
       "      <td>0</td>\n",
       "      <td>0</td>\n",
       "      <td>0</td>\n",
       "      <td>0</td>\n",
       "      <td>...</td>\n",
       "      <td>0</td>\n",
       "      <td>0</td>\n",
       "      <td>0</td>\n",
       "      <td>0</td>\n",
       "    </tr>\n",
       "    <tr>\n",
       "      <th>Alabama State University</th>\n",
       "      <td>0</td>\n",
       "      <td>0</td>\n",
       "      <td>0</td>\n",
       "      <td>0</td>\n",
       "      <td>...</td>\n",
       "      <td>0</td>\n",
       "      <td>0</td>\n",
       "      <td>0</td>\n",
       "      <td>0</td>\n",
       "    </tr>\n",
       "    <tr>\n",
       "      <th>...</th>\n",
       "      <td>...</td>\n",
       "      <td>...</td>\n",
       "      <td>...</td>\n",
       "      <td>...</td>\n",
       "      <td>...</td>\n",
       "      <td>...</td>\n",
       "      <td>...</td>\n",
       "      <td>...</td>\n",
       "      <td>...</td>\n",
       "    </tr>\n",
       "    <tr>\n",
       "      <th>SAE Institute of Technology  San Francisco</th>\n",
       "      <td>1</td>\n",
       "      <td>1</td>\n",
       "      <td>1</td>\n",
       "      <td>109</td>\n",
       "      <td>...</td>\n",
       "      <td>55</td>\n",
       "      <td>12</td>\n",
       "      <td>1</td>\n",
       "      <td>2</td>\n",
       "    </tr>\n",
       "    <tr>\n",
       "      <th>Rasmussen College - Overland Park</th>\n",
       "      <td>1</td>\n",
       "      <td>1</td>\n",
       "      <td>1</td>\n",
       "      <td>109</td>\n",
       "      <td>...</td>\n",
       "      <td>55</td>\n",
       "      <td>12</td>\n",
       "      <td>1</td>\n",
       "      <td>2</td>\n",
       "    </tr>\n",
       "    <tr>\n",
       "      <th>National Personal Training Institute of Cleveland</th>\n",
       "      <td>1</td>\n",
       "      <td>1</td>\n",
       "      <td>1</td>\n",
       "      <td>109</td>\n",
       "      <td>...</td>\n",
       "      <td>55</td>\n",
       "      <td>12</td>\n",
       "      <td>1</td>\n",
       "      <td>2</td>\n",
       "    </tr>\n",
       "    <tr>\n",
       "      <th>Bay Area Medical Academy - San Jose Satellite Location</th>\n",
       "      <td>1</td>\n",
       "      <td>1</td>\n",
       "      <td>1</td>\n",
       "      <td>109</td>\n",
       "      <td>...</td>\n",
       "      <td>55</td>\n",
       "      <td>12</td>\n",
       "      <td>1</td>\n",
       "      <td>2</td>\n",
       "    </tr>\n",
       "    <tr>\n",
       "      <th>Excel Learning Center-San Antonio South</th>\n",
       "      <td>1</td>\n",
       "      <td>1</td>\n",
       "      <td>1</td>\n",
       "      <td>109</td>\n",
       "      <td>...</td>\n",
       "      <td>55</td>\n",
       "      <td>12</td>\n",
       "      <td>1</td>\n",
       "      <td>2</td>\n",
       "    </tr>\n",
       "  </tbody>\n",
       "</table>\n",
       "<p>7535 rows × 18 columns</p>\n",
       "</div>"
      ],
      "text/plain": [
       "              SATVRMID  SATMTMID  UGDS  UGDS_WHITE  ...  PCTFLOAN  UG25ABV  \\\n",
       "INSTNM                                              ...                      \n",
       "Alabama A...         0         0     0           0  ...         0        0   \n",
       "Universit...         0         0     0           0  ...         0        0   \n",
       "Amridge U...         0         0     0           0  ...         0        0   \n",
       "Universit...         0         0     0           0  ...         0        0   \n",
       "Alabama S...         0         0     0           0  ...         0        0   \n",
       "...                ...       ...   ...         ...  ...       ...      ...   \n",
       "SAE Insti...         1         1     1         109  ...        55       12   \n",
       "Rasmussen...         1         1     1         109  ...        55       12   \n",
       "National ...         1         1     1         109  ...        55       12   \n",
       "Bay Area ...         1         1     1         109  ...        55       12   \n",
       "Excel Lea...         1         1     1         109  ...        55       12   \n",
       "\n",
       "              MD_EARN_WNE_P10  GRAD_DEBT_MDN_SUPP  \n",
       "INSTNM                                             \n",
       "Alabama A...            0                0         \n",
       "Universit...            0                0         \n",
       "Amridge U...            0                0         \n",
       "Universit...            0                0         \n",
       "Alabama S...            0                0         \n",
       "...                   ...              ...         \n",
       "SAE Insti...            1                2         \n",
       "Rasmussen...            1                2         \n",
       "National ...            1                2         \n",
       "Bay Area ...            1                2         \n",
       "Excel Lea...            1                2         \n",
       "\n",
       "[7535 rows x 18 columns]"
      ]
     },
     "execution_count": 153,
     "metadata": {},
     "output_type": "execute_result"
    }
   ],
   "source": [
    "# cumsum() : 누적 합\n",
    "# 여기선 True값을 누적 합\n",
    "college_n.eq(college_n.max()).cumsum()"
   ]
  },
  {
   "cell_type": "code",
   "execution_count": 154,
   "id": "25ad3573",
   "metadata": {},
   "outputs": [
    {
     "data": {
      "text/html": [
       "<div>\n",
       "<style scoped>\n",
       "    .dataframe tbody tr th:only-of-type {\n",
       "        vertical-align: middle;\n",
       "    }\n",
       "\n",
       "    .dataframe tbody tr th {\n",
       "        vertical-align: top;\n",
       "    }\n",
       "\n",
       "    .dataframe thead th {\n",
       "        text-align: right;\n",
       "    }\n",
       "</style>\n",
       "<table border=\"1\" class=\"dataframe\">\n",
       "  <thead>\n",
       "    <tr style=\"text-align: right;\">\n",
       "      <th></th>\n",
       "      <th>SATVRMID</th>\n",
       "      <th>SATMTMID</th>\n",
       "      <th>UGDS</th>\n",
       "      <th>UGDS_WHITE</th>\n",
       "      <th>...</th>\n",
       "      <th>PCTFLOAN</th>\n",
       "      <th>UG25ABV</th>\n",
       "      <th>MD_EARN_WNE_P10</th>\n",
       "      <th>GRAD_DEBT_MDN_SUPP</th>\n",
       "    </tr>\n",
       "    <tr>\n",
       "      <th>INSTNM</th>\n",
       "      <th></th>\n",
       "      <th></th>\n",
       "      <th></th>\n",
       "      <th></th>\n",
       "      <th></th>\n",
       "      <th></th>\n",
       "      <th></th>\n",
       "      <th></th>\n",
       "      <th></th>\n",
       "    </tr>\n",
       "  </thead>\n",
       "  <tbody>\n",
       "    <tr>\n",
       "      <th>Alabama A &amp; M University</th>\n",
       "      <td>0</td>\n",
       "      <td>0</td>\n",
       "      <td>0</td>\n",
       "      <td>0</td>\n",
       "      <td>...</td>\n",
       "      <td>0</td>\n",
       "      <td>0</td>\n",
       "      <td>0</td>\n",
       "      <td>0</td>\n",
       "    </tr>\n",
       "    <tr>\n",
       "      <th>University of Alabama at Birmingham</th>\n",
       "      <td>0</td>\n",
       "      <td>0</td>\n",
       "      <td>0</td>\n",
       "      <td>0</td>\n",
       "      <td>...</td>\n",
       "      <td>0</td>\n",
       "      <td>0</td>\n",
       "      <td>0</td>\n",
       "      <td>0</td>\n",
       "    </tr>\n",
       "    <tr>\n",
       "      <th>Amridge University</th>\n",
       "      <td>0</td>\n",
       "      <td>0</td>\n",
       "      <td>0</td>\n",
       "      <td>0</td>\n",
       "      <td>...</td>\n",
       "      <td>0</td>\n",
       "      <td>0</td>\n",
       "      <td>0</td>\n",
       "      <td>0</td>\n",
       "    </tr>\n",
       "    <tr>\n",
       "      <th>University of Alabama in Huntsville</th>\n",
       "      <td>0</td>\n",
       "      <td>0</td>\n",
       "      <td>0</td>\n",
       "      <td>0</td>\n",
       "      <td>...</td>\n",
       "      <td>0</td>\n",
       "      <td>0</td>\n",
       "      <td>0</td>\n",
       "      <td>0</td>\n",
       "    </tr>\n",
       "    <tr>\n",
       "      <th>Alabama State University</th>\n",
       "      <td>0</td>\n",
       "      <td>0</td>\n",
       "      <td>0</td>\n",
       "      <td>0</td>\n",
       "      <td>...</td>\n",
       "      <td>0</td>\n",
       "      <td>0</td>\n",
       "      <td>0</td>\n",
       "      <td>0</td>\n",
       "    </tr>\n",
       "    <tr>\n",
       "      <th>...</th>\n",
       "      <td>...</td>\n",
       "      <td>...</td>\n",
       "      <td>...</td>\n",
       "      <td>...</td>\n",
       "      <td>...</td>\n",
       "      <td>...</td>\n",
       "      <td>...</td>\n",
       "      <td>...</td>\n",
       "      <td>...</td>\n",
       "    </tr>\n",
       "    <tr>\n",
       "      <th>SAE Institute of Technology  San Francisco</th>\n",
       "      <td>7305</td>\n",
       "      <td>7305</td>\n",
       "      <td>415</td>\n",
       "      <td>379750</td>\n",
       "      <td>...</td>\n",
       "      <td>170273</td>\n",
       "      <td>36183</td>\n",
       "      <td>3445</td>\n",
       "      <td>10266</td>\n",
       "    </tr>\n",
       "    <tr>\n",
       "      <th>Rasmussen College - Overland Park</th>\n",
       "      <td>7306</td>\n",
       "      <td>7306</td>\n",
       "      <td>416</td>\n",
       "      <td>379859</td>\n",
       "      <td>...</td>\n",
       "      <td>170328</td>\n",
       "      <td>36195</td>\n",
       "      <td>3446</td>\n",
       "      <td>10268</td>\n",
       "    </tr>\n",
       "    <tr>\n",
       "      <th>National Personal Training Institute of Cleveland</th>\n",
       "      <td>7307</td>\n",
       "      <td>7307</td>\n",
       "      <td>417</td>\n",
       "      <td>379968</td>\n",
       "      <td>...</td>\n",
       "      <td>170383</td>\n",
       "      <td>36207</td>\n",
       "      <td>3447</td>\n",
       "      <td>10270</td>\n",
       "    </tr>\n",
       "    <tr>\n",
       "      <th>Bay Area Medical Academy - San Jose Satellite Location</th>\n",
       "      <td>7308</td>\n",
       "      <td>7308</td>\n",
       "      <td>418</td>\n",
       "      <td>380077</td>\n",
       "      <td>...</td>\n",
       "      <td>170438</td>\n",
       "      <td>36219</td>\n",
       "      <td>3448</td>\n",
       "      <td>10272</td>\n",
       "    </tr>\n",
       "    <tr>\n",
       "      <th>Excel Learning Center-San Antonio South</th>\n",
       "      <td>7309</td>\n",
       "      <td>7309</td>\n",
       "      <td>419</td>\n",
       "      <td>380186</td>\n",
       "      <td>...</td>\n",
       "      <td>170493</td>\n",
       "      <td>36231</td>\n",
       "      <td>3449</td>\n",
       "      <td>10274</td>\n",
       "    </tr>\n",
       "  </tbody>\n",
       "</table>\n",
       "<p>7535 rows × 18 columns</p>\n",
       "</div>"
      ],
      "text/plain": [
       "              SATVRMID  SATMTMID  UGDS  UGDS_WHITE  ...  PCTFLOAN  UG25ABV  \\\n",
       "INSTNM                                              ...                      \n",
       "Alabama A...         0         0     0           0  ...         0        0   \n",
       "Universit...         0         0     0           0  ...         0        0   \n",
       "Amridge U...         0         0     0           0  ...         0        0   \n",
       "Universit...         0         0     0           0  ...         0        0   \n",
       "Alabama S...         0         0     0           0  ...         0        0   \n",
       "...                ...       ...   ...         ...  ...       ...      ...   \n",
       "SAE Insti...      7305      7305   415      379750  ...    170273    36183   \n",
       "Rasmussen...      7306      7306   416      379859  ...    170328    36195   \n",
       "National ...      7307      7307   417      379968  ...    170383    36207   \n",
       "Bay Area ...      7308      7308   418      380077  ...    170438    36219   \n",
       "Excel Lea...      7309      7309   419      380186  ...    170493    36231   \n",
       "\n",
       "              MD_EARN_WNE_P10  GRAD_DEBT_MDN_SUPP  \n",
       "INSTNM                                             \n",
       "Alabama A...            0                0         \n",
       "Universit...            0                0         \n",
       "Amridge U...            0                0         \n",
       "Universit...            0                0         \n",
       "Alabama S...            0                0         \n",
       "...                   ...              ...         \n",
       "SAE Insti...         3445            10266         \n",
       "Rasmussen...         3446            10268         \n",
       "National ...         3447            10270         \n",
       "Bay Area ...         3448            10272         \n",
       "Excel Lea...         3449            10274         \n",
       "\n",
       "[7535 rows x 18 columns]"
      ]
     },
     "execution_count": 154,
     "metadata": {},
     "output_type": "execute_result"
    }
   ],
   "source": [
    "# 최초로 1이 등장한 경우가 처음 등장한 최댓값\n",
    "(college_n\n",
    "    .eq(college_n.max())\n",
    "    .cumsum()\n",
    "    .cumsum()\n",
    ")"
   ]
  },
  {
   "cell_type": "code",
   "execution_count": 155,
   "id": "20c9b650",
   "metadata": {},
   "outputs": [],
   "source": [
    "# 값이 1과 같은 데이터만 남긴다\n",
    "has_row_max2 = (college_n\n",
    "    .eq(college_n.max()) \n",
    "    .cumsum() \n",
    "    .cumsum() \n",
    "    .eq(1) \n",
    "    .any(axis='columns')\n",
    ")"
   ]
  },
  {
   "cell_type": "code",
   "execution_count": 156,
   "id": "9b6d2c55",
   "metadata": {},
   "outputs": [
    {
     "data": {
      "text/plain": [
       "INSTNM\n",
       "Alabama A & M University               False\n",
       "University of Alabama at Birmingham    False\n",
       "Amridge University                     False\n",
       "University of Alabama in Huntsville    False\n",
       "Alabama State University               False\n",
       "dtype: bool"
      ]
     },
     "execution_count": 156,
     "metadata": {},
     "output_type": "execute_result"
    }
   ],
   "source": [
    "has_row_max2.head()"
   ]
  },
  {
   "cell_type": "code",
   "execution_count": 159,
   "id": "daa248ba",
   "metadata": {},
   "outputs": [
    {
     "data": {
      "text/plain": [
       "16"
      ]
     },
     "execution_count": 159,
     "metadata": {},
     "output_type": "execute_result"
    }
   ],
   "source": [
    "# index의 개수보다 많으면 잘못 프로그래밍한 것\n",
    "has_row_max2.sum()"
   ]
  },
  {
   "cell_type": "code",
   "execution_count": 157,
   "id": "1aabc38a",
   "metadata": {},
   "outputs": [
    {
     "data": {
      "text/plain": [
       "Index(['Thunderbird School of Global Management',\n",
       "       'Southwest University of Visual Arts-Tucson', 'ABC Beauty College Inc',\n",
       "       'Velvatex College of Beauty Culture',\n",
       "       'California Institute of Technology',\n",
       "       'Le Cordon Bleu College of Culinary Arts-San Francisco',\n",
       "       'MTI Business College Inc', 'Dongguk University-Los Angeles',\n",
       "       'Mr Leon's School of Hair Design-Moscow',\n",
       "       'Haskell Indian Nations University', 'LIU Brentwood',\n",
       "       'Medical College of Wisconsin', 'Palau Community College',\n",
       "       'California University of Management and Sciences',\n",
       "       'Cosmopolitan Beauty and Tech School', 'University of Phoenix-Arizona'],\n",
       "      dtype='object', name='INSTNM')"
      ]
     },
     "execution_count": 157,
     "metadata": {},
     "output_type": "execute_result"
    }
   ],
   "source": [
    "idxmax_cols = has_row_max2[has_row_max2].index\n",
    "idxmax_cols"
   ]
  },
  {
   "cell_type": "code",
   "execution_count": 161,
   "id": "fc0d71a8",
   "metadata": {},
   "outputs": [
    {
     "data": {
      "text/plain": [
       "True"
      ]
     },
     "execution_count": 161,
     "metadata": {},
     "output_type": "execute_result"
    }
   ],
   "source": [
    "# index 확인\n",
    "set(college_n.idxmax().unique()) == set(idxmax_cols)"
   ]
  },
  {
   "cell_type": "code",
   "execution_count": 162,
   "id": "c0eaed51",
   "metadata": {},
   "outputs": [],
   "source": [
    "# 함수로 구현\n",
    "def idx_max(df):\n",
    "     has_row_max = (df\n",
    "         .eq(df.max())\n",
    "         .cumsum()\n",
    "         .cumsum()\n",
    "         .eq(1)\n",
    "         .any(axis='columns')\n",
    "     )\n",
    "     return has_row_max[has_row_max].index"
   ]
  },
  {
   "cell_type": "code",
   "execution_count": 169,
   "id": "08efe31e",
   "metadata": {},
   "outputs": [
    {
     "data": {
      "text/plain": [
       "Index(['Thunderbird School of Global Management',\n",
       "       'Southwest University of Visual Arts-Tucson', 'ABC Beauty College Inc',\n",
       "       'Velvatex College of Beauty Culture',\n",
       "       'California Institute of Technology',\n",
       "       'Le Cordon Bleu College of Culinary Arts-San Francisco',\n",
       "       'MTI Business College Inc', 'Dongguk University-Los Angeles',\n",
       "       'Mr Leon's School of Hair Design-Moscow',\n",
       "       'Haskell Indian Nations University', 'LIU Brentwood',\n",
       "       'Medical College of Wisconsin', 'Palau Community College',\n",
       "       'California University of Management and Sciences',\n",
       "       'Cosmopolitan Beauty and Tech School', 'University of Phoenix-Arizona'],\n",
       "      dtype='object', name='INSTNM')"
      ]
     },
     "execution_count": 169,
     "metadata": {},
     "output_type": "execute_result"
    }
   ],
   "source": [
    "idx_max(college_n)"
   ]
  },
  {
   "cell_type": "code",
   "execution_count": 164,
   "id": "3b73dcb6",
   "metadata": {},
   "outputs": [],
   "source": [
    "# index 함수를 lambda 함수(익명 함수)로 바꿔주면 뭐가 다를까??\n",
    "def idx_max(df):\n",
    "     has_row_max = (df\n",
    "         .eq(df.max())\n",
    "         .cumsum()\n",
    "         .cumsum()\n",
    "         .eq(1)\n",
    "         .any(axis='columns')\n",
    "         [lambda df_: df_]\n",
    "         .index\n",
    "     )\n",
    "     return has_row_max"
   ]
  },
  {
   "cell_type": "code",
   "execution_count": 170,
   "id": "ad99f955",
   "metadata": {},
   "outputs": [
    {
     "name": "stdout",
     "output_type": "stream",
     "text": [
      "767 µs ± 10.8 µs per loop (mean ± std. dev. of 7 runs, 1000 loops each)\n"
     ]
    }
   ],
   "source": [
    "%timeit college_n.idxmax().values"
   ]
  },
  {
   "cell_type": "code",
   "execution_count": 171,
   "id": "feeb583c",
   "metadata": {},
   "outputs": [
    {
     "name": "stdout",
     "output_type": "stream",
     "text": [
      "1.31 ms ± 12 µs per loop (mean ± std. dev. of 7 runs, 1000 loops each)\n"
     ]
    }
   ],
   "source": [
    "%timeit idx_max(college_n)"
   ]
  },
  {
   "cell_type": "code",
   "execution_count": 172,
   "id": "fd1f49a5",
   "metadata": {},
   "outputs": [],
   "source": [
    "# 그냥 내장 매서드를 사용하자"
   ]
  },
  {
   "cell_type": "markdown",
   "id": "bc4bf3fd",
   "metadata": {},
   "source": [
    "## 열에서최대 공통 최댓값 찾기"
   ]
  },
  {
   "cell_type": "code",
   "execution_count": 173,
   "id": "c8595db2",
   "metadata": {},
   "outputs": [
    {
     "data": {
      "text/html": [
       "<div>\n",
       "<style scoped>\n",
       "    .dataframe tbody tr th:only-of-type {\n",
       "        vertical-align: middle;\n",
       "    }\n",
       "\n",
       "    .dataframe tbody tr th {\n",
       "        vertical-align: top;\n",
       "    }\n",
       "\n",
       "    .dataframe thead th {\n",
       "        text-align: right;\n",
       "    }\n",
       "</style>\n",
       "<table border=\"1\" class=\"dataframe\">\n",
       "  <thead>\n",
       "    <tr style=\"text-align: right;\">\n",
       "      <th></th>\n",
       "      <th>UGDS_WHITE</th>\n",
       "      <th>UGDS_BLACK</th>\n",
       "      <th>UGDS_HISP</th>\n",
       "      <th>UGDS_ASIAN</th>\n",
       "      <th>...</th>\n",
       "      <th>UGDS_NHPI</th>\n",
       "      <th>UGDS_2MOR</th>\n",
       "      <th>UGDS_NRA</th>\n",
       "      <th>UGDS_UNKN</th>\n",
       "    </tr>\n",
       "    <tr>\n",
       "      <th>INSTNM</th>\n",
       "      <th></th>\n",
       "      <th></th>\n",
       "      <th></th>\n",
       "      <th></th>\n",
       "      <th></th>\n",
       "      <th></th>\n",
       "      <th></th>\n",
       "      <th></th>\n",
       "      <th></th>\n",
       "    </tr>\n",
       "  </thead>\n",
       "  <tbody>\n",
       "    <tr>\n",
       "      <th>Alabama A &amp; M University</th>\n",
       "      <td>0.0333</td>\n",
       "      <td>0.9353</td>\n",
       "      <td>0.0055</td>\n",
       "      <td>0.0019</td>\n",
       "      <td>...</td>\n",
       "      <td>0.0019</td>\n",
       "      <td>0.0000</td>\n",
       "      <td>0.0059</td>\n",
       "      <td>0.0138</td>\n",
       "    </tr>\n",
       "    <tr>\n",
       "      <th>University of Alabama at Birmingham</th>\n",
       "      <td>0.5922</td>\n",
       "      <td>0.2600</td>\n",
       "      <td>0.0283</td>\n",
       "      <td>0.0518</td>\n",
       "      <td>...</td>\n",
       "      <td>0.0007</td>\n",
       "      <td>0.0368</td>\n",
       "      <td>0.0179</td>\n",
       "      <td>0.0100</td>\n",
       "    </tr>\n",
       "    <tr>\n",
       "      <th>Amridge University</th>\n",
       "      <td>0.2990</td>\n",
       "      <td>0.4192</td>\n",
       "      <td>0.0069</td>\n",
       "      <td>0.0034</td>\n",
       "      <td>...</td>\n",
       "      <td>0.0000</td>\n",
       "      <td>0.0000</td>\n",
       "      <td>0.0000</td>\n",
       "      <td>0.2715</td>\n",
       "    </tr>\n",
       "    <tr>\n",
       "      <th>University of Alabama in Huntsville</th>\n",
       "      <td>0.6988</td>\n",
       "      <td>0.1255</td>\n",
       "      <td>0.0382</td>\n",
       "      <td>0.0376</td>\n",
       "      <td>...</td>\n",
       "      <td>0.0002</td>\n",
       "      <td>0.0172</td>\n",
       "      <td>0.0332</td>\n",
       "      <td>0.0350</td>\n",
       "    </tr>\n",
       "    <tr>\n",
       "      <th>Alabama State University</th>\n",
       "      <td>0.0158</td>\n",
       "      <td>0.9208</td>\n",
       "      <td>0.0121</td>\n",
       "      <td>0.0019</td>\n",
       "      <td>...</td>\n",
       "      <td>0.0006</td>\n",
       "      <td>0.0098</td>\n",
       "      <td>0.0243</td>\n",
       "      <td>0.0137</td>\n",
       "    </tr>\n",
       "  </tbody>\n",
       "</table>\n",
       "<p>5 rows × 9 columns</p>\n",
       "</div>"
      ],
      "text/plain": [
       "              UGDS_WHITE  UGDS_BLACK  UGDS_HISP  UGDS_ASIAN  ...  UGDS_NHPI  \\\n",
       "INSTNM                                                       ...              \n",
       "Alabama A...      0.0333      0.9353     0.0055      0.0019  ...     0.0019   \n",
       "Universit...      0.5922      0.2600     0.0283      0.0518  ...     0.0007   \n",
       "Amridge U...      0.2990      0.4192     0.0069      0.0034  ...     0.0000   \n",
       "Universit...      0.6988      0.1255     0.0382      0.0376  ...     0.0002   \n",
       "Alabama S...      0.0158      0.9208     0.0121      0.0019  ...     0.0006   \n",
       "\n",
       "              UGDS_2MOR  UGDS_NRA  UGDS_UNKN  \n",
       "INSTNM                                        \n",
       "Alabama A...     0.0000    0.0059     0.0138  \n",
       "Universit...     0.0368    0.0179     0.0100  \n",
       "Amridge U...     0.0000    0.0000     0.2715  \n",
       "Universit...     0.0172    0.0332     0.0350  \n",
       "Alabama S...     0.0098    0.0243     0.0137  \n",
       "\n",
       "[5 rows x 9 columns]"
      ]
     },
     "execution_count": 173,
     "metadata": {},
     "output_type": "execute_result"
    }
   ],
   "source": [
    "college = pd.read_csv('college.csv', index_col='INSTNM')\n",
    "college_ugds = college.filter(like='UGDS_')\n",
    "college_ugds.head()"
   ]
  },
  {
   "cell_type": "code",
   "execution_count": 174,
   "id": "0e388153",
   "metadata": {},
   "outputs": [
    {
     "data": {
      "text/plain": [
       "INSTNM\n",
       "Alabama A & M University               UGDS_BLACK\n",
       "University of Alabama at Birmingham    UGDS_WHITE\n",
       "Amridge University                     UGDS_BLACK\n",
       "University of Alabama in Huntsville    UGDS_WHITE\n",
       "Alabama State University               UGDS_BLACK\n",
       "dtype: object"
      ]
     },
     "execution_count": 174,
     "metadata": {},
     "output_type": "execute_result"
    }
   ],
   "source": [
    "highest_percentage_race = college_ugds.idxmax(axis='columns')\n",
    "highest_percentage_race.head()"
   ]
  },
  {
   "cell_type": "code",
   "execution_count": 181,
   "id": "5f718f67",
   "metadata": {},
   "outputs": [
    {
     "data": {
      "text/plain": [
       "UGDS_WHITE    0.670352\n",
       "UGDS_BLACK    0.151586\n",
       "UGDS_HISP     0.129473\n",
       "UGDS_UNKN     0.023422\n",
       "UGDS_ASIAN    0.012074\n",
       "UGDS_AIAN     0.006110\n",
       "UGDS_NRA      0.004073\n",
       "UGDS_NHPI     0.001746\n",
       "UGDS_2MOR     0.001164\n",
       "dtype: float64"
      ]
     },
     "execution_count": 181,
     "metadata": {},
     "output_type": "execute_result"
    }
   ],
   "source": [
    "# True 값의 상대 빈도 (normalize = True) \n",
    "highest_percentage_race.value_counts(normalize=True)\n",
    "\n",
    "# 같은 것\n",
    "# sum_ = highest_percentage_race.value_counts().sum()\n",
    "# highest_percentage_race.value_counts().div(sum_)"
   ]
  },
  {
   "cell_type": "code",
   "execution_count": 176,
   "id": "d385e229",
   "metadata": {},
   "outputs": [
    {
     "data": {
      "text/plain": [
       "UGDS_WHITE    0.661228\n",
       "UGDS_HISP     0.230326\n",
       "UGDS_UNKN     0.071977\n",
       "UGDS_NRA      0.018234\n",
       "UGDS_ASIAN    0.009597\n",
       "UGDS_2MOR     0.006718\n",
       "UGDS_AIAN     0.000960\n",
       "UGDS_NHPI     0.000960\n",
       "dtype: float64"
      ]
     },
     "execution_count": 176,
     "metadata": {},
     "output_type": "execute_result"
    }
   ],
   "source": [
    "(college_ugds\n",
    "    [highest_percentage_race == 'UGDS_BLACK']\n",
    "    .drop(columns='UGDS_BLACK')\n",
    "    .idxmax(axis='columns')\n",
    "    .value_counts(normalize=True)\n",
    ")"
   ]
  },
  {
   "cell_type": "code",
   "execution_count": null,
   "id": "a0858978",
   "metadata": {},
   "outputs": [],
   "source": []
  }
 ],
 "metadata": {
  "kernelspec": {
   "display_name": "Python 3 (ipykernel)",
   "language": "python",
   "name": "python3"
  },
  "language_info": {
   "codemirror_mode": {
    "name": "ipython",
    "version": 3
   },
   "file_extension": ".py",
   "mimetype": "text/x-python",
   "name": "python",
   "nbconvert_exporter": "python",
   "pygments_lexer": "ipython3",
   "version": "3.9.7"
  }
 },
 "nbformat": 4,
 "nbformat_minor": 5
}
