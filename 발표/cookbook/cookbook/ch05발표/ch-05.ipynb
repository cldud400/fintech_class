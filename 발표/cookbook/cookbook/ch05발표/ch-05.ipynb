{
 "cells": [
  {
   "cell_type": "code",
   "execution_count": 1,
   "id": "88239644",
   "metadata": {},
   "outputs": [],
   "source": [
    "import pandas as pd\n",
    "import numpy as np\n",
    "pd.set_option('max_columns', 8, 'max_rows', 10, 'max_colwidth', 12)\n",
    "import matplotlib.pyplot as plt\n",
    "import seaborn as sns"
   ]
  },
  {
   "cell_type": "code",
   "execution_count": 2,
   "id": "bdb54a0e",
   "metadata": {},
   "outputs": [],
   "source": [
    "import warnings\n",
    "warnings.simplefilter(action='ignore', category=FutureWarning)"
   ]
  },
  {
   "cell_type": "code",
   "execution_count": 5,
   "id": "04214115",
   "metadata": {},
   "outputs": [
    {
     "name": "stderr",
     "output_type": "stream",
     "text": [
      "하위 디렉터리 또는 파일 tmp이(가) 이미 있습니다.\n"
     ]
    }
   ],
   "source": [
    "mkdir tmp"
   ]
  },
  {
   "cell_type": "markdown",
   "id": "976a020d",
   "metadata": {},
   "source": [
    "# 탐색적 데이터 분석\n",
    "---\n",
    "- 요악 통계량 - describe()\n",
    "- 열의 데이터 형식\n",
    "- category data\n",
    "- 연속 데이터\n",
    "- 범주간의 연속 값 비교\n",
    "- 두 개의 연속 열 비교\n",
    "- 범주 값과 범주 값 비교\n",
    "- pandas 프로파일링 라이브러리"
   ]
  },
  {
   "cell_type": "markdown",
   "id": "9d998a4a",
   "metadata": {},
   "source": [
    "## 요약 통계량\n",
    "---\n",
    "평균, 분위수, 표준편차   \n",
    "descrtbe()로 한번에"
   ]
  },
  {
   "cell_type": "code",
   "execution_count": 3,
   "id": "4209f1aa",
   "metadata": {},
   "outputs": [
    {
     "data": {
      "text/html": [
       "<div>\n",
       "<style scoped>\n",
       "    .dataframe tbody tr th:only-of-type {\n",
       "        vertical-align: middle;\n",
       "    }\n",
       "\n",
       "    .dataframe tbody tr th {\n",
       "        vertical-align: top;\n",
       "    }\n",
       "\n",
       "    .dataframe thead th {\n",
       "        text-align: right;\n",
       "    }\n",
       "</style>\n",
       "<table border=\"1\" class=\"dataframe\">\n",
       "  <thead>\n",
       "    <tr style=\"text-align: right;\">\n",
       "      <th></th>\n",
       "      <th>barrels08</th>\n",
       "      <th>barrelsA08</th>\n",
       "      <th>charge120</th>\n",
       "      <th>charge240</th>\n",
       "      <th>...</th>\n",
       "      <th>startStop</th>\n",
       "      <th>phevCity</th>\n",
       "      <th>phevHwy</th>\n",
       "      <th>phevComb</th>\n",
       "    </tr>\n",
       "  </thead>\n",
       "  <tbody>\n",
       "    <tr>\n",
       "      <th>0</th>\n",
       "      <td>15.695714</td>\n",
       "      <td>0.0</td>\n",
       "      <td>0.0</td>\n",
       "      <td>0.0</td>\n",
       "      <td>...</td>\n",
       "      <td>NaN</td>\n",
       "      <td>0</td>\n",
       "      <td>0</td>\n",
       "      <td>0</td>\n",
       "    </tr>\n",
       "    <tr>\n",
       "      <th>1</th>\n",
       "      <td>29.964545</td>\n",
       "      <td>0.0</td>\n",
       "      <td>0.0</td>\n",
       "      <td>0.0</td>\n",
       "      <td>...</td>\n",
       "      <td>NaN</td>\n",
       "      <td>0</td>\n",
       "      <td>0</td>\n",
       "      <td>0</td>\n",
       "    </tr>\n",
       "    <tr>\n",
       "      <th>2</th>\n",
       "      <td>12.207778</td>\n",
       "      <td>0.0</td>\n",
       "      <td>0.0</td>\n",
       "      <td>0.0</td>\n",
       "      <td>...</td>\n",
       "      <td>NaN</td>\n",
       "      <td>0</td>\n",
       "      <td>0</td>\n",
       "      <td>0</td>\n",
       "    </tr>\n",
       "    <tr>\n",
       "      <th>3</th>\n",
       "      <td>29.964545</td>\n",
       "      <td>0.0</td>\n",
       "      <td>0.0</td>\n",
       "      <td>0.0</td>\n",
       "      <td>...</td>\n",
       "      <td>NaN</td>\n",
       "      <td>0</td>\n",
       "      <td>0</td>\n",
       "      <td>0</td>\n",
       "    </tr>\n",
       "    <tr>\n",
       "      <th>4</th>\n",
       "      <td>17.347895</td>\n",
       "      <td>0.0</td>\n",
       "      <td>0.0</td>\n",
       "      <td>0.0</td>\n",
       "      <td>...</td>\n",
       "      <td>NaN</td>\n",
       "      <td>0</td>\n",
       "      <td>0</td>\n",
       "      <td>0</td>\n",
       "    </tr>\n",
       "  </tbody>\n",
       "</table>\n",
       "<p>5 rows × 83 columns</p>\n",
       "</div>"
      ],
      "text/plain": [
       "   barrels08  barrelsA08  charge120  charge240  ...  startStop  phevCity  \\\n",
       "0  15.695714         0.0        0.0        0.0  ...        NaN         0   \n",
       "1  29.964545         0.0        0.0        0.0  ...        NaN         0   \n",
       "2  12.207778         0.0        0.0        0.0  ...        NaN         0   \n",
       "3  29.964545         0.0        0.0        0.0  ...        NaN         0   \n",
       "4  17.347895         0.0        0.0        0.0  ...        NaN         0   \n",
       "\n",
       "   phevHwy  phevComb  \n",
       "0        0         0  \n",
       "1        0         0  \n",
       "2        0         0  \n",
       "3        0         0  \n",
       "4        0         0  \n",
       "\n",
       "[5 rows x 83 columns]"
      ]
     },
     "execution_count": 3,
     "metadata": {},
     "output_type": "execute_result"
    }
   ],
   "source": [
    "#low_memory = False는 파일의 정보를 누락없이 가져온다.(칼럼값의 데이터 타입이 다르면 에러가 나기 때문)\n",
    "\n",
    "fueleco = pd.read_csv('vehicles.csv.zip',low_memory=False)\n",
    "fueleco.head()"
   ]
  },
  {
   "cell_type": "code",
   "execution_count": 4,
   "id": "43a199ca",
   "metadata": {},
   "outputs": [
    {
     "data": {
      "text/plain": [
       "barrels08         17.442712\n",
       "barrelsA08         0.219276\n",
       "charge120          0.000000\n",
       "charge240          0.029630\n",
       "city08            18.077799\n",
       "                   ...     \n",
       "youSaveSpend   -3459.572645\n",
       "charge240b         0.005869\n",
       "phevCity           0.094703\n",
       "phevHwy            0.094269\n",
       "phevComb           0.094141\n",
       "Length: 60, dtype: float64"
      ]
     },
     "execution_count": 4,
     "metadata": {},
     "output_type": "execute_result"
    }
   ],
   "source": [
    "# mean(), max(), quantile([0,.25,.5,.75,1]), std()\n",
    "fueleco.mean()\n",
    "# fueleco.max()\n",
    "# fueleco.std()"
   ]
  },
  {
   "cell_type": "code",
   "execution_count": 5,
   "id": "1720467c",
   "metadata": {},
   "outputs": [
    {
     "data": {
      "text/html": [
       "<div>\n",
       "<style scoped>\n",
       "    .dataframe tbody tr th:only-of-type {\n",
       "        vertical-align: middle;\n",
       "    }\n",
       "\n",
       "    .dataframe tbody tr th {\n",
       "        vertical-align: top;\n",
       "    }\n",
       "\n",
       "    .dataframe thead th {\n",
       "        text-align: right;\n",
       "    }\n",
       "</style>\n",
       "<table border=\"1\" class=\"dataframe\">\n",
       "  <thead>\n",
       "    <tr style=\"text-align: right;\">\n",
       "      <th></th>\n",
       "      <th>count</th>\n",
       "      <th>mean</th>\n",
       "      <th>std</th>\n",
       "      <th>min</th>\n",
       "      <th>25%</th>\n",
       "      <th>50%</th>\n",
       "      <th>75%</th>\n",
       "      <th>max</th>\n",
       "    </tr>\n",
       "  </thead>\n",
       "  <tbody>\n",
       "    <tr>\n",
       "      <th>barrels08</th>\n",
       "      <td>39101.0</td>\n",
       "      <td>17.442712</td>\n",
       "      <td>4.580230</td>\n",
       "      <td>0.06</td>\n",
       "      <td>14.33087</td>\n",
       "      <td>17.347895</td>\n",
       "      <td>20.115</td>\n",
       "      <td>47.087143</td>\n",
       "    </tr>\n",
       "    <tr>\n",
       "      <th>barrelsA08</th>\n",
       "      <td>39101.0</td>\n",
       "      <td>0.219276</td>\n",
       "      <td>1.143837</td>\n",
       "      <td>0.00</td>\n",
       "      <td>0.00000</td>\n",
       "      <td>0.000000</td>\n",
       "      <td>0.000</td>\n",
       "      <td>18.311667</td>\n",
       "    </tr>\n",
       "    <tr>\n",
       "      <th>charge120</th>\n",
       "      <td>39101.0</td>\n",
       "      <td>0.000000</td>\n",
       "      <td>0.000000</td>\n",
       "      <td>0.00</td>\n",
       "      <td>0.00000</td>\n",
       "      <td>0.000000</td>\n",
       "      <td>0.000</td>\n",
       "      <td>0.000000</td>\n",
       "    </tr>\n",
       "    <tr>\n",
       "      <th>charge240</th>\n",
       "      <td>39101.0</td>\n",
       "      <td>0.029630</td>\n",
       "      <td>0.487408</td>\n",
       "      <td>0.00</td>\n",
       "      <td>0.00000</td>\n",
       "      <td>0.000000</td>\n",
       "      <td>0.000</td>\n",
       "      <td>12.000000</td>\n",
       "    </tr>\n",
       "    <tr>\n",
       "      <th>city08</th>\n",
       "      <td>39101.0</td>\n",
       "      <td>18.077799</td>\n",
       "      <td>6.970672</td>\n",
       "      <td>6.00</td>\n",
       "      <td>15.00000</td>\n",
       "      <td>17.000000</td>\n",
       "      <td>20.000</td>\n",
       "      <td>150.000000</td>\n",
       "    </tr>\n",
       "    <tr>\n",
       "      <th>...</th>\n",
       "      <td>...</td>\n",
       "      <td>...</td>\n",
       "      <td>...</td>\n",
       "      <td>...</td>\n",
       "      <td>...</td>\n",
       "      <td>...</td>\n",
       "      <td>...</td>\n",
       "      <td>...</td>\n",
       "    </tr>\n",
       "    <tr>\n",
       "      <th>youSaveSpend</th>\n",
       "      <td>39101.0</td>\n",
       "      <td>-3459.572645</td>\n",
       "      <td>3010.284617</td>\n",
       "      <td>-26500.00</td>\n",
       "      <td>-4750.00000</td>\n",
       "      <td>-3500.000000</td>\n",
       "      <td>-1500.000</td>\n",
       "      <td>5250.000000</td>\n",
       "    </tr>\n",
       "    <tr>\n",
       "      <th>charge240b</th>\n",
       "      <td>39101.0</td>\n",
       "      <td>0.005869</td>\n",
       "      <td>0.165399</td>\n",
       "      <td>0.00</td>\n",
       "      <td>0.00000</td>\n",
       "      <td>0.000000</td>\n",
       "      <td>0.000</td>\n",
       "      <td>7.000000</td>\n",
       "    </tr>\n",
       "    <tr>\n",
       "      <th>phevCity</th>\n",
       "      <td>39101.0</td>\n",
       "      <td>0.094703</td>\n",
       "      <td>2.279478</td>\n",
       "      <td>0.00</td>\n",
       "      <td>0.00000</td>\n",
       "      <td>0.000000</td>\n",
       "      <td>0.000</td>\n",
       "      <td>97.000000</td>\n",
       "    </tr>\n",
       "    <tr>\n",
       "      <th>phevHwy</th>\n",
       "      <td>39101.0</td>\n",
       "      <td>0.094269</td>\n",
       "      <td>2.191115</td>\n",
       "      <td>0.00</td>\n",
       "      <td>0.00000</td>\n",
       "      <td>0.000000</td>\n",
       "      <td>0.000</td>\n",
       "      <td>81.000000</td>\n",
       "    </tr>\n",
       "    <tr>\n",
       "      <th>phevComb</th>\n",
       "      <td>39101.0</td>\n",
       "      <td>0.094141</td>\n",
       "      <td>2.226500</td>\n",
       "      <td>0.00</td>\n",
       "      <td>0.00000</td>\n",
       "      <td>0.000000</td>\n",
       "      <td>0.000</td>\n",
       "      <td>88.000000</td>\n",
       "    </tr>\n",
       "  </tbody>\n",
       "</table>\n",
       "<p>59 rows × 8 columns</p>\n",
       "</div>"
      ],
      "text/plain": [
       "                count         mean          std       min         25%  \\\n",
       "barrels08     39101.0    17.442712     4.580230      0.06    14.33087   \n",
       "barrelsA08    39101.0     0.219276     1.143837      0.00     0.00000   \n",
       "charge120     39101.0     0.000000     0.000000      0.00     0.00000   \n",
       "charge240     39101.0     0.029630     0.487408      0.00     0.00000   \n",
       "city08        39101.0    18.077799     6.970672      6.00    15.00000   \n",
       "...               ...          ...          ...       ...         ...   \n",
       "youSaveSpend  39101.0 -3459.572645  3010.284617 -26500.00 -4750.00000   \n",
       "charge240b    39101.0     0.005869     0.165399      0.00     0.00000   \n",
       "phevCity      39101.0     0.094703     2.279478      0.00     0.00000   \n",
       "phevHwy       39101.0     0.094269     2.191115      0.00     0.00000   \n",
       "phevComb      39101.0     0.094141     2.226500      0.00     0.00000   \n",
       "\n",
       "                      50%       75%          max  \n",
       "barrels08       17.347895    20.115    47.087143  \n",
       "barrelsA08       0.000000     0.000    18.311667  \n",
       "charge120        0.000000     0.000     0.000000  \n",
       "charge240        0.000000     0.000    12.000000  \n",
       "city08          17.000000    20.000   150.000000  \n",
       "...                   ...       ...          ...  \n",
       "youSaveSpend -3500.000000 -1500.000  5250.000000  \n",
       "charge240b       0.000000     0.000     7.000000  \n",
       "phevCity         0.000000     0.000    97.000000  \n",
       "phevHwy          0.000000     0.000    81.000000  \n",
       "phevComb         0.000000     0.000    88.000000  \n",
       "\n",
       "[59 rows x 8 columns]"
      ]
     },
     "execution_count": 5,
     "metadata": {},
     "output_type": "execute_result"
    }
   ],
   "source": [
    "# 전체 통계\n",
    "fueleco.describe().T\n",
    "# include : datatype를 제한하여 통계\n",
    "# fueleco.describe(include = object).T\n",
    "# exclude도 가능\n",
    "# fueleco.describe(exclude = int).T"
   ]
  },
  {
   "cell_type": "markdown",
   "id": "465c673a",
   "metadata": {},
   "source": [
    "## 열의 데이터 형식"
   ]
  },
  {
   "cell_type": "code",
   "execution_count": 6,
   "id": "edec5ace",
   "metadata": {},
   "outputs": [
    {
     "data": {
      "text/plain": [
       "barrels08     float64\n",
       "barrelsA08    float64\n",
       "charge120     float64\n",
       "charge240     float64\n",
       "city08          int64\n",
       "               ...   \n",
       "modifiedOn     object\n",
       "startStop      object\n",
       "phevCity        int64\n",
       "phevHwy         int64\n",
       "phevComb        int64\n",
       "Length: 83, dtype: object"
      ]
     },
     "execution_count": 6,
     "metadata": {},
     "output_type": "execute_result"
    }
   ],
   "source": [
    "# 세로방향\n",
    "fueleco.dtypes"
   ]
  },
  {
   "cell_type": "code",
   "execution_count": 7,
   "id": "be9fdf51",
   "metadata": {},
   "outputs": [
    {
     "data": {
      "text/plain": [
       "float64    32\n",
       "int64      27\n",
       "object     23\n",
       "bool        1\n",
       "dtype: int64"
      ]
     },
     "execution_count": 7,
     "metadata": {},
     "output_type": "execute_result"
    }
   ],
   "source": [
    "# 가로방향\n",
    "fueleco.dtypes.value_counts()"
   ]
  },
  {
   "cell_type": "code",
   "execution_count": 8,
   "id": "ac75beaf",
   "metadata": {},
   "outputs": [
    {
     "data": {
      "text/html": [
       "<div>\n",
       "<style scoped>\n",
       "    .dataframe tbody tr th:only-of-type {\n",
       "        vertical-align: middle;\n",
       "    }\n",
       "\n",
       "    .dataframe tbody tr th {\n",
       "        vertical-align: top;\n",
       "    }\n",
       "\n",
       "    .dataframe thead th {\n",
       "        text-align: right;\n",
       "    }\n",
       "</style>\n",
       "<table border=\"1\" class=\"dataframe\">\n",
       "  <thead>\n",
       "    <tr style=\"text-align: right;\">\n",
       "      <th></th>\n",
       "      <th>city08</th>\n",
       "      <th>cityA08</th>\n",
       "      <th>co2</th>\n",
       "      <th>co2A</th>\n",
       "      <th>...</th>\n",
       "      <th>youSaveSpend</th>\n",
       "      <th>phevCity</th>\n",
       "      <th>phevHwy</th>\n",
       "      <th>phevComb</th>\n",
       "    </tr>\n",
       "  </thead>\n",
       "  <tbody>\n",
       "    <tr>\n",
       "      <th>count</th>\n",
       "      <td>39101.00...</td>\n",
       "      <td>39101.00...</td>\n",
       "      <td>39101.00...</td>\n",
       "      <td>39101.00...</td>\n",
       "      <td>...</td>\n",
       "      <td>39101.00...</td>\n",
       "      <td>39101.00...</td>\n",
       "      <td>39101.00...</td>\n",
       "      <td>39101.00...</td>\n",
       "    </tr>\n",
       "    <tr>\n",
       "      <th>mean</th>\n",
       "      <td>18.077799</td>\n",
       "      <td>0.569883</td>\n",
       "      <td>72.538989</td>\n",
       "      <td>5.543950</td>\n",
       "      <td>...</td>\n",
       "      <td>-3459.572645</td>\n",
       "      <td>0.094703</td>\n",
       "      <td>0.094269</td>\n",
       "      <td>0.094141</td>\n",
       "    </tr>\n",
       "    <tr>\n",
       "      <th>std</th>\n",
       "      <td>6.970672</td>\n",
       "      <td>4.297124</td>\n",
       "      <td>163.252019</td>\n",
       "      <td>55.956932</td>\n",
       "      <td>...</td>\n",
       "      <td>3010.284617</td>\n",
       "      <td>2.279478</td>\n",
       "      <td>2.191115</td>\n",
       "      <td>2.226500</td>\n",
       "    </tr>\n",
       "    <tr>\n",
       "      <th>min</th>\n",
       "      <td>6.000000</td>\n",
       "      <td>0.000000</td>\n",
       "      <td>-1.000000</td>\n",
       "      <td>-1.000000</td>\n",
       "      <td>...</td>\n",
       "      <td>-26500.00...</td>\n",
       "      <td>0.000000</td>\n",
       "      <td>0.000000</td>\n",
       "      <td>0.000000</td>\n",
       "    </tr>\n",
       "    <tr>\n",
       "      <th>25%</th>\n",
       "      <td>15.000000</td>\n",
       "      <td>0.000000</td>\n",
       "      <td>-1.000000</td>\n",
       "      <td>-1.000000</td>\n",
       "      <td>...</td>\n",
       "      <td>-4750.000000</td>\n",
       "      <td>0.000000</td>\n",
       "      <td>0.000000</td>\n",
       "      <td>0.000000</td>\n",
       "    </tr>\n",
       "    <tr>\n",
       "      <th>50%</th>\n",
       "      <td>17.000000</td>\n",
       "      <td>0.000000</td>\n",
       "      <td>-1.000000</td>\n",
       "      <td>-1.000000</td>\n",
       "      <td>...</td>\n",
       "      <td>-3500.000000</td>\n",
       "      <td>0.000000</td>\n",
       "      <td>0.000000</td>\n",
       "      <td>0.000000</td>\n",
       "    </tr>\n",
       "    <tr>\n",
       "      <th>75%</th>\n",
       "      <td>20.000000</td>\n",
       "      <td>0.000000</td>\n",
       "      <td>-1.000000</td>\n",
       "      <td>-1.000000</td>\n",
       "      <td>...</td>\n",
       "      <td>-1500.000000</td>\n",
       "      <td>0.000000</td>\n",
       "      <td>0.000000</td>\n",
       "      <td>0.000000</td>\n",
       "    </tr>\n",
       "    <tr>\n",
       "      <th>max</th>\n",
       "      <td>150.000000</td>\n",
       "      <td>145.000000</td>\n",
       "      <td>847.000000</td>\n",
       "      <td>713.000000</td>\n",
       "      <td>...</td>\n",
       "      <td>5250.000000</td>\n",
       "      <td>97.000000</td>\n",
       "      <td>81.000000</td>\n",
       "      <td>88.000000</td>\n",
       "    </tr>\n",
       "  </tbody>\n",
       "</table>\n",
       "<p>8 rows × 27 columns</p>\n",
       "</div>"
      ],
      "text/plain": [
       "            city08      cityA08          co2         co2A  ...  youSaveSpend  \\\n",
       "count  39101.00...  39101.00...  39101.00...  39101.00...  ...  39101.00...    \n",
       "mean     18.077799     0.569883    72.538989     5.543950  ... -3459.572645    \n",
       "std       6.970672     4.297124   163.252019    55.956932  ...  3010.284617    \n",
       "min       6.000000     0.000000    -1.000000    -1.000000  ... -26500.00...    \n",
       "25%      15.000000     0.000000    -1.000000    -1.000000  ... -4750.000000    \n",
       "50%      17.000000     0.000000    -1.000000    -1.000000  ... -3500.000000    \n",
       "75%      20.000000     0.000000    -1.000000    -1.000000  ... -1500.000000    \n",
       "max     150.000000   145.000000   847.000000   713.000000  ...  5250.000000    \n",
       "\n",
       "          phevCity      phevHwy     phevComb  \n",
       "count  39101.00...  39101.00...  39101.00...  \n",
       "mean      0.094703     0.094269     0.094141  \n",
       "std       2.279478     2.191115     2.226500  \n",
       "min       0.000000     0.000000     0.000000  \n",
       "25%       0.000000     0.000000     0.000000  \n",
       "50%       0.000000     0.000000     0.000000  \n",
       "75%       0.000000     0.000000     0.000000  \n",
       "max      97.000000    81.000000    88.000000  \n",
       "\n",
       "[8 rows x 27 columns]"
      ]
     },
     "execution_count": 8,
     "metadata": {},
     "output_type": "execute_result"
    }
   ],
   "source": [
    "# int64 타입만 select\n",
    "fueleco.select_dtypes('int64').describe()"
   ]
  },
  {
   "cell_type": "markdown",
   "id": "6e900c0e",
   "metadata": {},
   "source": [
    "### 메모리 줄이기"
   ]
  },
  {
   "cell_type": "code",
   "execution_count": 10,
   "id": "c3c026f9",
   "metadata": {},
   "outputs": [
    {
     "data": {
      "text/plain": [
       "iinfo(min=-128, max=127, dtype=int8)"
      ]
     },
     "execution_count": 10,
     "metadata": {},
     "output_type": "execute_result"
    }
   ],
   "source": [
    "np.iinfo(np.int8)\n",
    "# np.iinfo(np.int16)"
   ]
  },
  {
   "cell_type": "code",
   "execution_count": 11,
   "id": "9d633218",
   "metadata": {},
   "outputs": [
    {
     "name": "stdout",
     "output_type": "stream",
     "text": [
      "<class 'pandas.core.frame.DataFrame'>\n",
      "RangeIndex: 39101 entries, 0 to 39100\n",
      "Data columns (total 2 columns):\n",
      " #   Column  Non-Null Count  Dtype\n",
      "---  ------  --------------  -----\n",
      " 0   city08  39101 non-null  int64\n",
      " 1   comb08  39101 non-null  int64\n",
      "dtypes: int64(2)\n",
      "memory usage: 611.1 KB\n"
     ]
    }
   ],
   "source": [
    "# city07 과 comb08은 150을 넘지 않는다.\n",
    "# int 64 => 적절한 용량의 int로 변환\n",
    "fueleco[['city08', 'comb08']].info(memory_usage='deep')"
   ]
  },
  {
   "cell_type": "code",
   "execution_count": 12,
   "id": "ec68caa9",
   "metadata": {},
   "outputs": [
    {
     "name": "stdout",
     "output_type": "stream",
     "text": [
      "<class 'pandas.core.frame.DataFrame'>\n",
      "RangeIndex: 39101 entries, 0 to 39100\n",
      "Data columns (total 2 columns):\n",
      " #   Column  Non-Null Count  Dtype\n",
      "---  ------  --------------  -----\n",
      " 0   city08  39101 non-null  int16\n",
      " 1   comb08  39101 non-null  int16\n",
      "dtypes: int16(2)\n",
      "memory usage: 152.9 KB\n"
     ]
    }
   ],
   "source": [
    "# assign : 데이터 합치기(열 형식 데이터)\n",
    "# astype : 데이터 변환\n",
    "# 데이터가 줄어듦\n",
    "fueleco[['city08', 'comb08']].assign(\n",
    "    city08=fueleco.city08.astype(np.int16),\n",
    "    comb08=fueleco.comb08.astype(np.int16)).info()\n"
   ]
  },
  {
   "cell_type": "code",
   "execution_count": 13,
   "id": "a9006baa",
   "metadata": {},
   "outputs": [
    {
     "data": {
      "text/html": [
       "<div>\n",
       "<style scoped>\n",
       "    .dataframe tbody tr th:only-of-type {\n",
       "        vertical-align: middle;\n",
       "    }\n",
       "\n",
       "    .dataframe tbody tr th {\n",
       "        vertical-align: top;\n",
       "    }\n",
       "\n",
       "    .dataframe thead th {\n",
       "        text-align: right;\n",
       "    }\n",
       "</style>\n",
       "<table border=\"1\" class=\"dataframe\">\n",
       "  <thead>\n",
       "    <tr style=\"text-align: right;\">\n",
       "      <th></th>\n",
       "      <th>A</th>\n",
       "      <th>B</th>\n",
       "      <th>C</th>\n",
       "    </tr>\n",
       "  </thead>\n",
       "  <tbody>\n",
       "    <tr>\n",
       "      <th>0</th>\n",
       "      <td>1</td>\n",
       "      <td>1</td>\n",
       "      <td>2</td>\n",
       "    </tr>\n",
       "    <tr>\n",
       "      <th>1</th>\n",
       "      <td>2</td>\n",
       "      <td>2</td>\n",
       "      <td>4</td>\n",
       "    </tr>\n",
       "    <tr>\n",
       "      <th>2</th>\n",
       "      <td>3</td>\n",
       "      <td>3</td>\n",
       "      <td>6</td>\n",
       "    </tr>\n",
       "  </tbody>\n",
       "</table>\n",
       "</div>"
      ],
      "text/plain": [
       "   A  B  C\n",
       "0  1  1  2\n",
       "1  2  2  4\n",
       "2  3  3  6"
      ]
     },
     "execution_count": 13,
     "metadata": {},
     "output_type": "execute_result"
    }
   ],
   "source": [
    "# assign 예시)\n",
    "test_df = pd.DataFrame({'A': [1, 2, 3]})\n",
    "\n",
    "test_df.assign(B=test_df.A, C=lambda x:x['A']+ x['B'])"
   ]
  },
  {
   "cell_type": "code",
   "execution_count": 14,
   "id": "b286a2d5",
   "metadata": {},
   "outputs": [
    {
     "name": "stdout",
     "output_type": "stream",
     "text": [
      "76\n",
      "76\n",
      "76\n",
      "76\n",
      "76\n"
     ]
    }
   ],
   "source": [
    "# category로 변환 : 중복도가 높은 object는 category로 변환하면 메모리 절약\n",
    "# category : 중복되는 문자열을 저장하여 그 주소값을 불러오기 때문에 메모리 절약\n",
    "\n",
    "# 중복도가 낮으면 카디널리티가 높다라고 표현\n",
    "# ex) : 학점, 성별, 영화장르 등등\n",
    "\n",
    "\n",
    "import sys\n",
    "print(sys.getsizeof('안'))\n",
    "print(sys.getsizeof('녕'))\n",
    "print(sys.getsizeof('하'))\n",
    "print(sys.getsizeof('세'))\n",
    "print(sys.getsizeof('요'))"
   ]
  },
  {
   "cell_type": "code",
   "execution_count": 57,
   "id": "363d753c",
   "metadata": {},
   "outputs": [
    {
     "name": "stdout",
     "output_type": "stream",
     "text": [
      "84\n"
     ]
    }
   ],
   "source": [
    "print(sys.getsizeof('안녕하세요'))"
   ]
  },
  {
   "cell_type": "code",
   "execution_count": 15,
   "id": "90205229",
   "metadata": {},
   "outputs": [
    {
     "data": {
      "text/plain": [
       "134"
      ]
     },
     "execution_count": 15,
     "metadata": {},
     "output_type": "execute_result"
    }
   ],
   "source": [
    "# 고유한 값의 수 nunique()\n",
    "# nunique() = len(unique())\n",
    "fueleco.make.nunique()"
   ]
  },
  {
   "cell_type": "code",
   "execution_count": 16,
   "id": "4f7e9e76",
   "metadata": {},
   "outputs": [
    {
     "name": "stdout",
     "output_type": "stream",
     "text": [
      "<class 'pandas.core.frame.DataFrame'>\n",
      "RangeIndex: 39101 entries, 0 to 39100\n",
      "Data columns (total 1 columns):\n",
      " #   Column  Non-Null Count  Dtype \n",
      "---  ------  --------------  ----- \n",
      " 0   model   39101 non-null  object\n",
      "dtypes: object(1)\n",
      "memory usage: 305.6+ KB\n"
     ]
    }
   ],
   "source": [
    "fueleco[['model']].info()"
   ]
  },
  {
   "cell_type": "code",
   "execution_count": 17,
   "id": "4f0eafda",
   "metadata": {
    "scrolled": true
   },
   "outputs": [
    {
     "name": "stdout",
     "output_type": "stream",
     "text": [
      "<class 'pandas.core.frame.DataFrame'>\n",
      "RangeIndex: 39101 entries, 0 to 39100\n",
      "Data columns (total 1 columns):\n",
      " #   Column  Non-Null Count  Dtype   \n",
      "---  ------  --------------  -----   \n",
      " 0   make    39101 non-null  category\n",
      "dtypes: category(1)\n",
      "memory usage: 81.6 KB\n"
     ]
    }
   ],
   "source": [
    "fueleco[['make']].assign(make=fueleco.make.astype('category')).info()"
   ]
  },
  {
   "cell_type": "code",
   "execution_count": 18,
   "id": "5401fe0e",
   "metadata": {},
   "outputs": [
    {
     "name": "stdout",
     "output_type": "stream",
     "text": [
      "<class 'pandas.core.frame.DataFrame'>\n",
      "RangeIndex: 39101 entries, 0 to 39100\n",
      "Data columns (total 1 columns):\n",
      " #   Column  Non-Null Count  Dtype \n",
      "---  ------  --------------  ----- \n",
      " 0   model   39101 non-null  object\n",
      "dtypes: object(1)\n",
      "memory usage: 305.6+ KB\n"
     ]
    }
   ],
   "source": [
    "fueleco[['model']].info()"
   ]
  },
  {
   "cell_type": "code",
   "execution_count": 19,
   "id": "199a240b",
   "metadata": {},
   "outputs": [
    {
     "name": "stdout",
     "output_type": "stream",
     "text": [
      "<class 'pandas.core.frame.DataFrame'>\n",
      "RangeIndex: 39101 entries, 0 to 39100\n",
      "Data columns (total 1 columns):\n",
      " #   Column  Non-Null Count  Dtype   \n",
      "---  ------  --------------  -----   \n",
      " 0   model   39101 non-null  category\n",
      "dtypes: category(1)\n",
      "memory usage: 235.3 KB\n"
     ]
    }
   ],
   "source": [
    "fueleco[['model']].assign(model=fueleco.model.astype('category')).info()"
   ]
  },
  {
   "cell_type": "markdown",
   "id": "f15ce47e",
   "metadata": {},
   "source": [
    "## Categorical Data (범주형 데이터)"
   ]
  },
  {
   "cell_type": "code",
   "execution_count": 20,
   "id": "1fbd080b",
   "metadata": {},
   "outputs": [
    {
     "data": {
      "text/plain": [
       "Index(['drive', 'eng_dscr', 'fuelType', 'fuelType1', 'make', 'model',\n",
       "       'mpgData', 'trany', 'VClass', 'guzzler', 'trans_dscr', 'tCharger',\n",
       "       'sCharger', 'atvType', 'fuelType2', 'rangeA', 'evMotor', 'mfrCode',\n",
       "       'c240Dscr', 'c240bDscr', 'createdOn', 'modifiedOn', 'startStop'],\n",
       "      dtype='object')"
      ]
     },
     "execution_count": 20,
     "metadata": {},
     "output_type": "execute_result"
    }
   ],
   "source": [
    "fueleco.select_dtypes(object).columns"
   ]
  },
  {
   "cell_type": "code",
   "execution_count": 21,
   "id": "553ec7bb",
   "metadata": {},
   "outputs": [
    {
     "data": {
      "text/plain": [
       "7"
      ]
     },
     "execution_count": 21,
     "metadata": {},
     "output_type": "execute_result"
    }
   ],
   "source": [
    "# 카디럴리티 확인\n",
    "fueleco.drive.nunique()"
   ]
  },
  {
   "cell_type": "code",
   "execution_count": 22,
   "id": "3fe0dcc5",
   "metadata": {},
   "outputs": [
    {
     "data": {
      "text/plain": [
       "4217     4-Wheel ...\n",
       "1736     4-Wheel ...\n",
       "36029    Rear-Whe...\n",
       "37631    Front-Wh...\n",
       "1668     Rear-Whe...\n",
       "Name: drive, dtype: object"
      ]
     },
     "execution_count": 22,
     "metadata": {},
     "output_type": "execute_result"
    }
   ],
   "source": [
    "# 무작위로 5개를 뽑는데 random_state : 여러번 실행해도 값이 바뀌지 않는다\n",
    "# random_state=num : num마다 고유 값이 정해져 있음\n",
    "fueleco.drive.sample(5, random_state=42)"
   ]
  },
  {
   "cell_type": "code",
   "execution_count": 23,
   "id": "50e63910",
   "metadata": {},
   "outputs": [
    {
     "data": {
      "text/plain": [
       "3.0408429451932175"
      ]
     },
     "execution_count": 23,
     "metadata": {},
     "output_type": "execute_result"
    }
   ],
   "source": [
    "# 결측치 %\n",
    "fueleco.drive.isna().mean() * 100"
   ]
  },
  {
   "cell_type": "code",
   "execution_count": 24,
   "id": "3659f16a",
   "metadata": {},
   "outputs": [
    {
     "data": {
      "text/plain": [
       "Index(['Chevrolet', 'Ford', 'Dodge', 'GMC', 'Toyota', 'BMW'], dtype='object')"
      ]
     },
     "execution_count": 24,
     "metadata": {},
     "output_type": "execute_result"
    }
   ],
   "source": [
    "fueleco.make.value_counts().index[:6]"
   ]
  },
  {
   "cell_type": "code",
   "execution_count": 25,
   "id": "5f6b57d0",
   "metadata": {},
   "outputs": [
    {
     "data": {
      "text/plain": [
       "<AxesSubplot:>"
      ]
     },
     "execution_count": 25,
     "metadata": {},
     "output_type": "execute_result"
    },
    {
     "data": {
      "image/png": "[encoded data removed]",
      "text/plain": [
       "<Figure size 720x576 with 1 Axes>"
      ]
     },
     "metadata": {
      "needs_background": "light"
     },
     "output_type": "display_data"
    }
   ],
   "source": [
    "# bar plot\n",
    "# 열을 요약해 상위 6개만 그래프 화\n",
    "# fueleco.make.value_counts()\n",
    "\n",
    "fig, ax = plt.subplots(figsize=(10, 8))\n",
    "\n",
    "# where(조건, other=NaN) : 조건에 포함되지 않으면 NaN값으로 변경\n",
    "\n",
    "top_n = fueleco.make.value_counts().index[:6]\n",
    "(fueleco.assign(make=fueleco.make.where(fueleco.make.isin(top_n),\n",
    "              'Other')).make.value_counts().plot.bar(ax=ax))"
   ]
  },
  {
   "cell_type": "code",
   "execution_count": 26,
   "id": "f9d1a6a3",
   "metadata": {},
   "outputs": [
    {
     "data": {
      "text/plain": [
       "<AxesSubplot:xlabel='count', ylabel='make'>"
      ]
     },
     "execution_count": 26,
     "metadata": {},
     "output_type": "execute_result"
    },
    {
     "data": {
      "image/png": "[encoded data removed]",
      "text/plain": [
       "<Figure size 720x576 with 1 Axes>"
      ]
     },
     "metadata": {
      "needs_background": "light"
     },
     "output_type": "display_data"
    }
   ],
   "source": [
    "# seaborn ver\n",
    "\n",
    "fig, ax = plt.subplots(figsize=(10, 8))\n",
    "top_n = fueleco.make.value_counts().index[:6]\n",
    "sns.countplot(y='make',data= (fueleco.assign(make=fueleco.make.where(fueleco.make.isin(top_n),'Other'))))"
   ]
  },
  {
   "cell_type": "code",
   "execution_count": 27,
   "id": "dadb1d71",
   "metadata": {},
   "outputs": [
    {
     "data": {
      "text/plain": [
       "Front-Wheel Drive             13653\n",
       "Rear-Wheel Drive              13284\n",
       "4-Wheel or All-Wheel Drive     6648\n",
       "All-Wheel Drive                2401\n",
       "4-Wheel Drive                  1221\n",
       "2-Wheel Drive                   507\n",
       "Part-time 4-Wheel Drive         198\n",
       "Name: drive, dtype: int64"
      ]
     },
     "execution_count": 27,
     "metadata": {},
     "output_type": "execute_result"
    }
   ],
   "source": [
    "# category형 변수를 검사 할 때는 결측치를 확인하자\n",
    "# type 변환을 할 때 에러가 날 수 있기 때문\n",
    "fueleco.drive.value_counts()"
   ]
  },
  {
   "cell_type": "code",
   "execution_count": 82,
   "id": "909fe0a4",
   "metadata": {},
   "outputs": [
    {
     "data": {
      "text/plain": [
       "Front-Wheel Drive             13653\n",
       "Rear-Wheel Drive              13284\n",
       "4-Wheel or All-Wheel Drive     6648\n",
       "All-Wheel Drive                2401\n",
       "4-Wheel Drive                  1221\n",
       "NaN                            1189\n",
       "2-Wheel Drive                   507\n",
       "Part-time 4-Wheel Drive         198\n",
       "Name: drive, dtype: int64"
      ]
     },
     "execution_count": 82,
     "metadata": {},
     "output_type": "execute_result"
    }
   ],
   "source": [
    "fueleco.drive.value_counts(dropna=False)"
   ]
  },
  {
   "cell_type": "markdown",
   "id": "dab682df",
   "metadata": {},
   "source": [
    "## 연속 데이터"
   ]
  },
  {
   "cell_type": "code",
   "execution_count": 67,
   "id": "2c3d6a31",
   "metadata": {
    "scrolled": true
   },
   "outputs": [
    {
     "data": {
      "text/html": [
       "<div>\n",
       "<style scoped>\n",
       "    .dataframe tbody tr th:only-of-type {\n",
       "        vertical-align: middle;\n",
       "    }\n",
       "\n",
       "    .dataframe tbody tr th {\n",
       "        vertical-align: top;\n",
       "    }\n",
       "\n",
       "    .dataframe thead th {\n",
       "        text-align: right;\n",
       "    }\n",
       "</style>\n",
       "<table border=\"1\" class=\"dataframe\">\n",
       "  <thead>\n",
       "    <tr style=\"text-align: right;\">\n",
       "      <th></th>\n",
       "      <th>barrels08</th>\n",
       "      <th>barrelsA08</th>\n",
       "      <th>...</th>\n",
       "      <th>phevHwy</th>\n",
       "      <th>phevComb</th>\n",
       "    </tr>\n",
       "  </thead>\n",
       "  <tbody>\n",
       "    <tr>\n",
       "      <th>0</th>\n",
       "      <td>15.695714</td>\n",
       "      <td>0.0</td>\n",
       "      <td>...</td>\n",
       "      <td>0</td>\n",
       "      <td>0</td>\n",
       "    </tr>\n",
       "    <tr>\n",
       "      <th>1</th>\n",
       "      <td>29.964545</td>\n",
       "      <td>0.0</td>\n",
       "      <td>...</td>\n",
       "      <td>0</td>\n",
       "      <td>0</td>\n",
       "    </tr>\n",
       "    <tr>\n",
       "      <th>2</th>\n",
       "      <td>12.207778</td>\n",
       "      <td>0.0</td>\n",
       "      <td>...</td>\n",
       "      <td>0</td>\n",
       "      <td>0</td>\n",
       "    </tr>\n",
       "    <tr>\n",
       "      <th>3</th>\n",
       "      <td>29.964545</td>\n",
       "      <td>0.0</td>\n",
       "      <td>...</td>\n",
       "      <td>0</td>\n",
       "      <td>0</td>\n",
       "    </tr>\n",
       "    <tr>\n",
       "      <th>4</th>\n",
       "      <td>17.347895</td>\n",
       "      <td>0.0</td>\n",
       "      <td>...</td>\n",
       "      <td>0</td>\n",
       "      <td>0</td>\n",
       "    </tr>\n",
       "    <tr>\n",
       "      <th>...</th>\n",
       "      <td>...</td>\n",
       "      <td>...</td>\n",
       "      <td>...</td>\n",
       "      <td>...</td>\n",
       "      <td>...</td>\n",
       "    </tr>\n",
       "    <tr>\n",
       "      <th>39096</th>\n",
       "      <td>14.982273</td>\n",
       "      <td>0.0</td>\n",
       "      <td>...</td>\n",
       "      <td>0</td>\n",
       "      <td>0</td>\n",
       "    </tr>\n",
       "    <tr>\n",
       "      <th>39097</th>\n",
       "      <td>14.330870</td>\n",
       "      <td>0.0</td>\n",
       "      <td>...</td>\n",
       "      <td>0</td>\n",
       "      <td>0</td>\n",
       "    </tr>\n",
       "    <tr>\n",
       "      <th>39098</th>\n",
       "      <td>15.695714</td>\n",
       "      <td>0.0</td>\n",
       "      <td>...</td>\n",
       "      <td>0</td>\n",
       "      <td>0</td>\n",
       "    </tr>\n",
       "    <tr>\n",
       "      <th>39099</th>\n",
       "      <td>15.695714</td>\n",
       "      <td>0.0</td>\n",
       "      <td>...</td>\n",
       "      <td>0</td>\n",
       "      <td>0</td>\n",
       "    </tr>\n",
       "    <tr>\n",
       "      <th>39100</th>\n",
       "      <td>18.311667</td>\n",
       "      <td>0.0</td>\n",
       "      <td>...</td>\n",
       "      <td>0</td>\n",
       "      <td>0</td>\n",
       "    </tr>\n",
       "  </tbody>\n",
       "</table>\n",
       "<p>39101 rows × 59 columns</p>\n",
       "</div>"
      ],
      "text/plain": [
       "       barrels08  barrelsA08  ...  phevHwy  phevComb\n",
       "0      15.695714         0.0  ...        0         0\n",
       "1      29.964545         0.0  ...        0         0\n",
       "2      12.207778         0.0  ...        0         0\n",
       "3      29.964545         0.0  ...        0         0\n",
       "4      17.347895         0.0  ...        0         0\n",
       "...          ...         ...  ...      ...       ...\n",
       "39096  14.982273         0.0  ...        0         0\n",
       "39097  14.330870         0.0  ...        0         0\n",
       "39098  15.695714         0.0  ...        0         0\n",
       "39099  15.695714         0.0  ...        0         0\n",
       "39100  18.311667         0.0  ...        0         0\n",
       "\n",
       "[39101 rows x 59 columns]"
      ]
     },
     "execution_count": 67,
     "metadata": {},
     "output_type": "execute_result"
    }
   ],
   "source": [
    "fueleco.select_dtypes('number')"
   ]
  },
  {
   "cell_type": "code",
   "execution_count": 68,
   "id": "c12040a0",
   "metadata": {},
   "outputs": [
    {
     "data": {
      "text/plain": [
       "4217     11\n",
       "1736     21\n",
       "36029    16\n",
       "37631    16\n",
       "1668     17\n",
       "Name: city08, dtype: int64"
      ]
     },
     "execution_count": 68,
     "metadata": {},
     "output_type": "execute_result"
    }
   ],
   "source": [
    "fueleco.city08.sample(5, random_state=42)"
   ]
  },
  {
   "cell_type": "code",
   "execution_count": 69,
   "id": "785178be",
   "metadata": {},
   "outputs": [
    {
     "data": {
      "text/plain": [
       "0"
      ]
     },
     "execution_count": 69,
     "metadata": {},
     "output_type": "execute_result"
    }
   ],
   "source": [
    "fueleco.city08.isna().sum()"
   ]
  },
  {
   "cell_type": "code",
   "execution_count": 70,
   "id": "1400280d",
   "metadata": {},
   "outputs": [
    {
     "data": {
      "text/plain": [
       "count    39101.00...\n",
       "mean       18.077799\n",
       "std         6.970672\n",
       "min         6.000000\n",
       "25%        15.000000\n",
       "50%        17.000000\n",
       "75%        20.000000\n",
       "max       150.000000\n",
       "Name: city08, dtype: float64"
      ]
     },
     "execution_count": 70,
     "metadata": {},
     "output_type": "execute_result"
    }
   ],
   "source": [
    "fueleco.city08.describe()"
   ]
  },
  {
   "cell_type": "code",
   "execution_count": 72,
   "id": "44f9a7d5",
   "metadata": {},
   "outputs": [
    {
     "data": {
      "image/png": "[encoded data removed]",
      "text/plain": [
       "<Figure size 720x576 with 1 Axes>"
      ]
     },
     "metadata": {
      "needs_background": "light"
     },
     "output_type": "display_data"
    }
   ],
   "source": [
    "# histogram\n",
    "fig, ax = plt.subplots(figsize=(10, 8))\n",
    "fueleco.city08.hist(ax=ax)\n"
   ]
  },
  {
   "cell_type": "code",
   "execution_count": 66,
   "id": "eb8b3b19",
   "metadata": {},
   "outputs": [
    {
     "data": {
      "text/plain": [
       "<AxesSubplot:>"
      ]
     },
     "execution_count": 66,
     "metadata": {},
     "output_type": "execute_result"
    },
    {
     "data": {
      "image/png": "[encoded data removed]",
      "text/plain": [
       "<Figure size 720x576 with 1 Axes>"
      ]
     },
     "metadata": {
      "needs_background": "light"
     },
     "output_type": "display_data"
    }
   ],
   "source": [
    "# bins의 갯수를 증가시킴 (히스토그램의 한 구간)\n",
    "\n",
    "fig, ax = plt.subplots(figsize=(10, 8))\n",
    "fueleco.city08.hist(ax=ax, bins=30)"
   ]
  },
  {
   "cell_type": "code",
   "execution_count": 68,
   "id": "387eb561",
   "metadata": {},
   "outputs": [
    {
     "data": {
      "text/plain": [
       "<AxesSubplot:xlabel='city08', ylabel='Density'>"
      ]
     },
     "execution_count": 68,
     "metadata": {},
     "output_type": "execute_result"
    },
    {
     "data": {
      "image/png": "[encoded data removed]",
      "text/plain": [
       "<Figure size 720x576 with 1 Axes>"
      ]
     },
     "metadata": {
      "needs_background": "light"
     },
     "output_type": "display_data"
    }
   ],
   "source": [
    "# seaborn 버전\n",
    "\n",
    "fig, ax = plt.subplots(figsize=(10, 8))\n",
    "sns.distplot(fueleco.city08, rug=True, ax=ax)"
   ]
  },
  {
   "cell_type": "code",
   "execution_count": 69,
   "id": "565b8523",
   "metadata": {},
   "outputs": [
    {
     "data": {
      "text/plain": [
       "<AxesSubplot:xlabel='city08'>"
      ]
     },
     "execution_count": 69,
     "metadata": {},
     "output_type": "execute_result"
    },
    {
     "data": {
      "image/png": "[encoded data removed]",
      "text/plain": [
       "<Figure size 720x576 with 3 Axes>"
      ]
     },
     "metadata": {
      "needs_background": "light"
     },
     "output_type": "display_data"
    }
   ],
   "source": [
    "# seaborn의 box plot, boxen plot, violin plot\n",
    "\n",
    "fig, axs = plt.subplots(nrows=3, figsize=(10, 8))\n",
    "sns.boxplot(fueleco.city08, ax=axs[0])\n",
    "sns.violinplot(fueleco.city08, ax=axs[1])\n",
    "sns.boxenplot(fueleco.city08, ax=axs[2])\n",
    " "
   ]
  },
  {
   "cell_type": "code",
   "execution_count": 29,
   "id": "1fa81951",
   "metadata": {},
   "outputs": [
    {
     "data": {
      "text/plain": [
       "KstestResult(statistic=0.9999999990134123, pvalue=0.0)"
      ]
     },
     "execution_count": 29,
     "metadata": {},
     "output_type": "execute_result"
    }
   ],
   "source": [
    "# 콜모고로프스미르노프 검증 (두 집단의 관계성)\n",
    "# cdf = 'norm' : 정규분포와 상관관계가 있는지 확인\n",
    "from scipy import stats\n",
    "stats.kstest(fueleco.city08, cdf='norm')"
   ]
  },
  {
   "cell_type": "code",
   "execution_count": 30,
   "id": "1a544e28",
   "metadata": {},
   "outputs": [
    {
     "data": {
      "text/plain": [
       "((array([-4.1352692 , -3.92687024, -3.81314873, ...,  3.81314873,\n",
       "          3.92687024,  4.1352692 ]),\n",
       "  array([  6,   6,   6, ..., 137, 138, 150], dtype=int64)),\n",
       " (5.385946629915967, 18.077798521776934, 0.7725879414597128))"
      ]
     },
     "execution_count": 30,
     "metadata": {},
     "output_type": "execute_result"
    },
    {
     "data": {
      "image/png": "[encoded data removed]",
      "text/plain": [
       "<Figure size 720x576 with 1 Axes>"
      ]
     },
     "metadata": {
      "needs_background": "light"
     },
     "output_type": "display_data"
    }
   ],
   "source": [
    "# probplot\n",
    "# 정규분포 표를 따르는지 확인\n",
    "fig, ax = plt.subplots(figsize=(10, 8))\n",
    "stats.probplot(fueleco.city08, plot=ax)  "
   ]
  },
  {
   "cell_type": "markdown",
   "id": "b963cf77",
   "metadata": {},
   "source": [
    "## 범주간의 연속 값 비교"
   ]
  },
  {
   "cell_type": "code",
   "execution_count": 31,
   "id": "e387323b",
   "metadata": {},
   "outputs": [
    {
     "data": {
      "text/html": [
       "<div>\n",
       "<style scoped>\n",
       "    .dataframe tbody tr th:only-of-type {\n",
       "        vertical-align: middle;\n",
       "    }\n",
       "\n",
       "    .dataframe tbody tr th {\n",
       "        vertical-align: top;\n",
       "    }\n",
       "\n",
       "    .dataframe thead th {\n",
       "        text-align: right;\n",
       "    }\n",
       "</style>\n",
       "<table border=\"1\" class=\"dataframe\">\n",
       "  <thead>\n",
       "    <tr style=\"text-align: right;\">\n",
       "      <th></th>\n",
       "      <th>mean</th>\n",
       "      <th>std</th>\n",
       "    </tr>\n",
       "    <tr>\n",
       "      <th>make</th>\n",
       "      <th></th>\n",
       "      <th></th>\n",
       "    </tr>\n",
       "  </thead>\n",
       "  <tbody>\n",
       "    <tr>\n",
       "      <th>BMW</th>\n",
       "      <td>17.817377</td>\n",
       "      <td>7.372907</td>\n",
       "    </tr>\n",
       "    <tr>\n",
       "      <th>Ford</th>\n",
       "      <td>16.853803</td>\n",
       "      <td>6.701029</td>\n",
       "    </tr>\n",
       "    <tr>\n",
       "      <th>Honda</th>\n",
       "      <td>24.372973</td>\n",
       "      <td>9.154064</td>\n",
       "    </tr>\n",
       "    <tr>\n",
       "      <th>Tesla</th>\n",
       "      <td>92.826087</td>\n",
       "      <td>5.538970</td>\n",
       "    </tr>\n",
       "  </tbody>\n",
       "</table>\n",
       "</div>"
      ],
      "text/plain": [
       "            mean       std\n",
       "make                      \n",
       "BMW    17.817377  7.372907\n",
       "Ford   16.853803  6.701029\n",
       "Honda  24.372973  9.154064\n",
       "Tesla  92.826087  5.538970"
      ]
     },
     "execution_count": 31,
     "metadata": {},
     "output_type": "execute_result"
    }
   ],
   "source": [
    "# 평균과 표준편차\n",
    "# groupby().agg(함수) : 객체에 함수를 적용\n",
    "mask = fueleco.make.isin(['Ford', 'Honda', 'Tesla', 'BMW'])\n",
    "fueleco[mask].groupby('make').city08.agg(['mean', 'std'])"
   ]
  },
  {
   "cell_type": "code",
   "execution_count": 32,
   "id": "ca9c5266",
   "metadata": {},
   "outputs": [
    {
     "data": {
      "image/png": "[encoded data removed]",
      "text/plain": [
       "<Figure size 360x360 with 1 Axes>"
      ]
     },
     "metadata": {
      "needs_background": "light"
     },
     "output_type": "display_data"
    }
   ],
   "source": [
    "# seaborn으로 시각화\n",
    "# catplot\n",
    "g = sns.catplot(x='make', y='city08',data=fueleco[mask], kind='box')"
   ]
  },
  {
   "cell_type": "code",
   "execution_count": 87,
   "id": "1aca63b8",
   "metadata": {},
   "outputs": [
    {
     "data": {
      "image/png": "[encoded data removed]",
      "text/plain": [
       "<Figure size 720x720 with 4 Axes>"
      ]
     },
     "metadata": {
      "needs_background": "light"
     },
     "output_type": "display_data"
    }
   ],
   "source": [
    "# col 매개변수를 사용하면 도표를 나눌 수 있다.\n",
    "g = sns.catplot(x='make', y='city08', data=fueleco[mask], kind='box',col='year',\n",
    "                col_order=[2012, 2014, 2016, 2018],col_wrap=2)\n"
   ]
  },
  {
   "cell_type": "code",
   "execution_count": 89,
   "id": "d1b3d71e",
   "metadata": {},
   "outputs": [
    {
     "data": {
      "image/png": "[encoded data removed]",
      "text/plain": [
       "<Figure size 421.5x360 with 1 Axes>"
      ]
     },
     "metadata": {
      "needs_background": "light"
     },
     "output_type": "display_data"
    }
   ],
   "source": [
    "# hue 매개변수를 사용하면 col을 사용한 것 처럼 그래프를 나눌 필요없이 한번에 나타낼 수 있다.\n",
    "g = sns.catplot(x='make', y='city08',data=fueleco[mask], kind='box',\n",
    "                hue='year', hue_order=[2012, 2014, 2016, 2018])"
   ]
  },
  {
   "cell_type": "code",
   "execution_count": 91,
   "id": "2fa70342",
   "metadata": {},
   "outputs": [
    {
     "data": {
      "text/html": [
       "<style type=\"text/css\">\n",
       "#T_ff21f_row0_col0 {\n",
       "  background-color: #700320;\n",
       "  color: #f1f1f1;\n",
       "}\n",
       "#T_ff21f_row0_col1 {\n",
       "  background-color: #f5f6f7;\n",
       "  color: #000000;\n",
       "}\n",
       "#T_ff21f_row1_col0, #T_ff21f_row3_col1 {\n",
       "  background-color: #67001f;\n",
       "  color: #f1f1f1;\n",
       "}\n",
       "#T_ff21f_row1_col1 {\n",
       "  background-color: #f6b191;\n",
       "  color: #000000;\n",
       "}\n",
       "#T_ff21f_row2_col0 {\n",
       "  background-color: #b1182b;\n",
       "  color: #f1f1f1;\n",
       "}\n",
       "#T_ff21f_row2_col1, #T_ff21f_row3_col0 {\n",
       "  background-color: #053061;\n",
       "  color: #f1f1f1;\n",
       "}\n",
       "</style>\n",
       "<table id=\"T_ff21f_\">\n",
       "  <thead>\n",
       "    <tr>\n",
       "      <th class=\"blank level0\" >&nbsp;</th>\n",
       "      <th class=\"col_heading level0 col0\" >mean</th>\n",
       "      <th class=\"col_heading level0 col1\" >std</th>\n",
       "    </tr>\n",
       "    <tr>\n",
       "      <th class=\"index_name level0\" >make</th>\n",
       "      <th class=\"blank col0\" >&nbsp;</th>\n",
       "      <th class=\"blank col1\" >&nbsp;</th>\n",
       "    </tr>\n",
       "  </thead>\n",
       "  <tbody>\n",
       "    <tr>\n",
       "      <th id=\"T_ff21f_level0_row0\" class=\"row_heading level0 row0\" >BMW</th>\n",
       "      <td id=\"T_ff21f_row0_col0\" class=\"data row0 col0\" >17.817377</td>\n",
       "      <td id=\"T_ff21f_row0_col1\" class=\"data row0 col1\" >7.372907</td>\n",
       "    </tr>\n",
       "    <tr>\n",
       "      <th id=\"T_ff21f_level0_row1\" class=\"row_heading level0 row1\" >Ford</th>\n",
       "      <td id=\"T_ff21f_row1_col0\" class=\"data row1 col0\" >16.853803</td>\n",
       "      <td id=\"T_ff21f_row1_col1\" class=\"data row1 col1\" >6.701029</td>\n",
       "    </tr>\n",
       "    <tr>\n",
       "      <th id=\"T_ff21f_level0_row2\" class=\"row_heading level0 row2\" >Honda</th>\n",
       "      <td id=\"T_ff21f_row2_col0\" class=\"data row2 col0\" >24.372973</td>\n",
       "      <td id=\"T_ff21f_row2_col1\" class=\"data row2 col1\" >9.154064</td>\n",
       "    </tr>\n",
       "    <tr>\n",
       "      <th id=\"T_ff21f_level0_row3\" class=\"row_heading level0 row3\" >Tesla</th>\n",
       "      <td id=\"T_ff21f_row3_col0\" class=\"data row3 col0\" >92.826087</td>\n",
       "      <td id=\"T_ff21f_row3_col1\" class=\"data row3 col1\" >5.538970</td>\n",
       "    </tr>\n",
       "  </tbody>\n",
       "</table>\n"
      ],
      "text/plain": [
       "<pandas.io.formats.style.Styler at 0x21927267340>"
      ]
     },
     "execution_count": 91,
     "metadata": {},
     "output_type": "execute_result"
    }
   ],
   "source": [
    "# style.background_gradient(cmap='RdBu', axis=0)) 출력 스타일 지정\n",
    "# 강조 할 수 있다.\n",
    "mask = fueleco.make.isin(['Ford', 'Honda', 'Tesla', 'BMW'])\n",
    "(fueleco[mask].groupby('make').city08.agg(['mean', 'std'])\n",
    " .style.background_gradient(cmap='RdBu', axis=0))"
   ]
  },
  {
   "cell_type": "markdown",
   "id": "f0e59f5a",
   "metadata": {},
   "source": [
    "## 두개의 연속 열 비교"
   ]
  },
  {
   "cell_type": "code",
   "execution_count": 92,
   "id": "132bf2d9",
   "metadata": {},
   "outputs": [
    {
     "data": {
      "text/plain": [
       "46.333260236736244"
      ]
     },
     "execution_count": 92,
     "metadata": {},
     "output_type": "execute_result"
    }
   ],
   "source": [
    "# 공분산 : 수치가 높을 수록 두 변수간의 관계가 높다\n",
    "fueleco.city08.cov(fueleco.highway08)"
   ]
  },
  {
   "cell_type": "code",
   "execution_count": 93,
   "id": "b243a0dc",
   "metadata": {},
   "outputs": [
    {
     "data": {
      "text/plain": [
       "47.41994667819078"
      ]
     },
     "execution_count": 93,
     "metadata": {},
     "output_type": "execute_result"
    }
   ],
   "source": [
    "fueleco.city08.cov(fueleco.comb08)"
   ]
  },
  {
   "cell_type": "code",
   "execution_count": 94,
   "id": "7d96b13d",
   "metadata": {},
   "outputs": [
    {
     "data": {
      "text/plain": [
       "-5.931560263764761"
      ]
     },
     "execution_count": 94,
     "metadata": {},
     "output_type": "execute_result"
    }
   ],
   "source": [
    "fueleco.city08.cov(fueleco.cylinders)"
   ]
  },
  {
   "cell_type": "code",
   "execution_count": 95,
   "id": "d570fa95",
   "metadata": {},
   "outputs": [
    {
     "data": {
      "text/plain": [
       "0.9324945062284952"
      ]
     },
     "execution_count": 95,
     "metadata": {},
     "output_type": "execute_result"
    }
   ],
   "source": [
    "# 피어슨 상관계수 : 공분산을 -1 ~ 1사이의 수로 변환\n",
    "fueleco.city08.corr(fueleco.highway08)"
   ]
  },
  {
   "cell_type": "code",
   "execution_count": 96,
   "id": "b15d4416",
   "metadata": {},
   "outputs": [
    {
     "data": {
      "text/plain": [
       "-0.7016548423827886"
      ]
     },
     "execution_count": 96,
     "metadata": {},
     "output_type": "execute_result"
    }
   ],
   "source": [
    "fueleco.city08.corr(fueleco.cylinders)"
   ]
  },
  {
   "cell_type": "code",
   "execution_count": 98,
   "id": "1cc20f27",
   "metadata": {},
   "outputs": [
    {
     "name": "stderr",
     "output_type": "stream",
     "text": [
      "C:\\Users\\bitcamp\\AppData\\Local\\Temp/ipykernel_11724/1652357687.py:4: DeprecationWarning: `np.bool` is a deprecated alias for the builtin `bool`. To silence this warning, use `bool` by itself. Doing this will not modify any behavior and is safe. If you specifically wanted the numpy scalar type, use `np.bool_` here.\n",
      "Deprecated in NumPy 1.20; for more details and guidance: https://numpy.org/devdocs/release/1.20.0-notes.html#deprecations\n",
      "  mask = np.zeros_like(corr, dtype=np.bool)\n"
     ]
    },
    {
     "data": {
      "text/plain": [
       "<AxesSubplot:>"
      ]
     },
     "execution_count": 98,
     "metadata": {},
     "output_type": "execute_result"
    },
    {
     "data": {
      "image/png": "[encoded data removed]",
      "text/plain": [
       "<Figure size 576x576 with 2 Axes>"
      ]
     },
     "metadata": {
      "needs_background": "light"
     },
     "output_type": "display_data"
    }
   ],
   "source": [
    "# seaborn으로 도식화\n",
    "# corr() : 상관계수를 보여준다.\n",
    "\n",
    "# np.zeros_like : 변수의 크기만큼 0을 가진 array를 만들어 준다.\n",
    "# np.zeros_like([1,2,3,4]) == np.array[0,0,0,0]\n",
    "# dtype=np.bool : False로 채워준다\n",
    "\n",
    "\n",
    "fig, ax = plt.subplots(figsize=(8,8))\n",
    "corr = fueleco[['city08', 'highway08', 'cylinders']].corr()\n",
    "mask = np.zeros_like(corr, dtype=np.bool)\n",
    "# 모듈로 위 쪽 삼각형에 True, 아래 삼각형에 False를 실행합니다(heatmap plot을 그릴 때 사용되는 함수)\n",
    "mask[np.triu_indices_from(mask)] = True\n",
    "sns.heatmap(corr, mask=mask,\n",
    "    fmt='.2f', annot=True, ax=ax, cmap='RdBu', vmin=-1, vmax=1,\n",
    "    square=True)\n"
   ]
  },
  {
   "cell_type": "code",
   "execution_count": 109,
   "id": "540f46db",
   "metadata": {
    "collapsed": true
   },
   "outputs": [
    {
     "name": "stderr",
     "output_type": "stream",
     "text": [
      "C:\\Users\\bitcamp\\AppData\\Local\\Temp/ipykernel_11724/1303275060.py:3: DeprecationWarning: `np.bool` is a deprecated alias for the builtin `bool`. To silence this warning, use `bool` by itself. Doing this will not modify any behavior and is safe. If you specifically wanted the numpy scalar type, use `np.bool_` here.\n",
      "Deprecated in NumPy 1.20; for more details and guidance: https://numpy.org/devdocs/release/1.20.0-notes.html#deprecations\n",
      "  mask = np.zeros_like(corr, dtype=np.bool)\n"
     ]
    },
    {
     "data": {
      "text/plain": [
       "<AxesSubplot:>"
      ]
     },
     "execution_count": 109,
     "metadata": {},
     "output_type": "execute_result"
    },
    {
     "data": {
      "image/png": "[encoded data removed]",
      "text/plain": [
       "<Figure size 576x576 with 2 Axes>"
      ]
     },
     "metadata": {
      "needs_background": "light"
     },
     "output_type": "display_data"
    }
   ],
   "source": [
    "# mask[np.triu_indices_from(mask)] = True 없을 때\n",
    "fig, ax = plt.subplots(figsize=(8,8))\n",
    "corr = fueleco[['city08', 'highway08', 'cylinders']].corr()\n",
    "mask = np.zeros_like(corr, dtype=np.bool)\n",
    "sns.heatmap(corr, mask=mask,\n",
    "    fmt='.2f', annot=True, ax=ax, cmap='RdBu', vmin=-1, vmax=1,\n",
    "    square=True)"
   ]
  },
  {
   "cell_type": "code",
   "execution_count": 111,
   "id": "71541cfd",
   "metadata": {},
   "outputs": [
    {
     "data": {
      "text/plain": [
       "<AxesSubplot:xlabel='city08', ylabel='highway08'>"
      ]
     },
     "execution_count": 111,
     "metadata": {},
     "output_type": "execute_result"
    },
    {
     "data": {
      "image/png": "[encoded data removed]",
      "text/plain": [
       "<Figure size 576x576 with 1 Axes>"
      ]
     },
     "metadata": {
      "needs_background": "light"
     },
     "output_type": "display_data"
    }
   ],
   "source": [
    "# pandas로 산포도\n",
    "fig, ax = plt.subplots(figsize=(8,8))\n",
    "fueleco.plot.scatter(x='city08', y='highway08', alpha=.1, ax=ax)"
   ]
  },
  {
   "cell_type": "code",
   "execution_count": 112,
   "id": "243382d8",
   "metadata": {},
   "outputs": [
    {
     "data": {
      "text/plain": [
       "<AxesSubplot:xlabel='city08', ylabel='cylinders'>"
      ]
     },
     "execution_count": 112,
     "metadata": {},
     "output_type": "execute_result"
    },
    {
     "data": {
      "image/png": "[encoded data removed]",
      "text/plain": [
       "<Figure size 576x576 with 1 Axes>"
      ]
     },
     "metadata": {
      "needs_background": "light"
     },
     "output_type": "display_data"
    }
   ],
   "source": [
    "fig, ax = plt.subplots(figsize=(8,8))\n",
    "fueleco.plot.scatter(x='city08', y='cylinders', alpha=.1, ax=ax)"
   ]
  },
  {
   "cell_type": "code",
   "execution_count": 113,
   "id": "daf28f7b",
   "metadata": {},
   "outputs": [
    {
     "data": {
      "image/png": "[encoded data removed]",
      "text/plain": [
       "<Figure size 360x360 with 1 Axes>"
      ]
     },
     "metadata": {
      "needs_background": "light"
     },
     "output_type": "display_data"
    }
   ],
   "source": [
    "# Regresson을 추가\n",
    "res = sns.lmplot(x='city08', y='highway08', data=fueleco)"
   ]
  },
  {
   "cell_type": "code",
   "execution_count": null,
   "id": "0c2205ab",
   "metadata": {},
   "outputs": [],
   "source": [
    "# 도시 마일리지와 고속도로 마일리지사이의 강한 관계가 있다"
   ]
  },
  {
   "cell_type": "code",
   "execution_count": 117,
   "id": "0441bf5e",
   "metadata": {},
   "outputs": [
    {
     "data": {
      "image/png": "[encoded data removed]",
      "text/plain": [
       "<Figure size 639.25x576 with 1 Axes>"
      ]
     },
     "metadata": {
      "needs_background": "light"
     },
     "output_type": "display_data"
    }
   ],
   "source": [
    "# 변수 비교를 위해 hue사용\n",
    "res = sns.relplot(x='city08', y='highway08',\n",
    "   data=fueleco.assign(\n",
    "       cylinders=fueleco.cylinders.fillna(0)),\n",
    "   hue='year', size='barrels08', alpha=.5, height=8)"
   ]
  },
  {
   "cell_type": "code",
   "execution_count": 118,
   "id": "fdf27d4c",
   "metadata": {},
   "outputs": [
    {
     "data": {
      "image/png": "[encoded data removed]",
      "text/plain": [
       "<Figure size 1215.25x576 with 2 Axes>"
      ]
     },
     "metadata": {
      "needs_background": "light"
     },
     "output_type": "display_data"
    }
   ],
   "source": [
    "res = sns.relplot(x='city08', y='highway08',\n",
    "  data=fueleco.assign(\n",
    "  cylinders=fueleco.cylinders.fillna(0)),\n",
    "  hue='year', size='barrels08', alpha=.5, height=8,\n",
    "  col='make', col_order=['Ford', 'Tesla'])"
   ]
  },
  {
   "cell_type": "code",
   "execution_count": 147,
   "id": "72c4bf1b",
   "metadata": {},
   "outputs": [
    {
     "data": {
      "text/plain": [
       "-124"
      ]
     },
     "execution_count": 147,
     "metadata": {},
     "output_type": "execute_result"
    }
   ],
   "source": [
    "~123"
   ]
  },
  {
   "cell_type": "markdown",
   "id": "41b37258",
   "metadata": {},
   "source": [
    "## 범주 값과 범주 값 비교"
   ]
  },
  {
   "cell_type": "code",
   "execution_count": 42,
   "id": "f2b37c1c",
   "metadata": {},
   "outputs": [],
   "source": [
    "# ser : 칼럼 , match_name : 2개의 value\n",
    "\n",
    "def generalize(ser, match_name, default):\n",
    "    seen = None\n",
    "    for match, name in match_name:\n",
    "        # mask = ser에서 march를 포함하는 value 갯수\n",
    "        mask = ser.str.contains(match)\n",
    "        if seen is None:\n",
    "            seen = mask\n",
    "        # 이진수 OR연산\n",
    "        else:\n",
    "            seen |= mask\n",
    "        # where(조건, other=name) : 조건에 포함되지 않으면 name값으로 변경\n",
    "        ser = ser.where(~mask, name)\n",
    "    ser = ser.where(seen, default)\n",
    "    return ser"
   ]
  },
  {
   "cell_type": "code",
   "execution_count": 43,
   "id": "b7b25827",
   "metadata": {
    "scrolled": true
   },
   "outputs": [
    {
     "data": {
      "text/html": [
       "<div>\n",
       "<style scoped>\n",
       "    .dataframe tbody tr th:only-of-type {\n",
       "        vertical-align: middle;\n",
       "    }\n",
       "\n",
       "    .dataframe tbody tr th {\n",
       "        vertical-align: top;\n",
       "    }\n",
       "\n",
       "    .dataframe thead th {\n",
       "        text-align: right;\n",
       "    }\n",
       "</style>\n",
       "<table border=\"1\" class=\"dataframe\">\n",
       "  <thead>\n",
       "    <tr style=\"text-align: right;\">\n",
       "      <th></th>\n",
       "      <th>barrels08</th>\n",
       "      <th>barrelsA08</th>\n",
       "      <th>charge120</th>\n",
       "      <th>charge240</th>\n",
       "      <th>...</th>\n",
       "      <th>phevCity</th>\n",
       "      <th>phevHwy</th>\n",
       "      <th>phevComb</th>\n",
       "      <th>SClass</th>\n",
       "    </tr>\n",
       "  </thead>\n",
       "  <tbody>\n",
       "    <tr>\n",
       "      <th>7</th>\n",
       "      <td>13.733750</td>\n",
       "      <td>0.0</td>\n",
       "      <td>0.0</td>\n",
       "      <td>0.0</td>\n",
       "      <td>...</td>\n",
       "      <td>0</td>\n",
       "      <td>0</td>\n",
       "      <td>0</td>\n",
       "      <td>Car</td>\n",
       "    </tr>\n",
       "    <tr>\n",
       "      <th>8</th>\n",
       "      <td>12.677308</td>\n",
       "      <td>0.0</td>\n",
       "      <td>0.0</td>\n",
       "      <td>0.0</td>\n",
       "      <td>...</td>\n",
       "      <td>0</td>\n",
       "      <td>0</td>\n",
       "      <td>0</td>\n",
       "      <td>Car</td>\n",
       "    </tr>\n",
       "    <tr>\n",
       "      <th>9</th>\n",
       "      <td>13.184400</td>\n",
       "      <td>0.0</td>\n",
       "      <td>0.0</td>\n",
       "      <td>0.0</td>\n",
       "      <td>...</td>\n",
       "      <td>0</td>\n",
       "      <td>0</td>\n",
       "      <td>0</td>\n",
       "      <td>Car</td>\n",
       "    </tr>\n",
       "    <tr>\n",
       "      <th>10</th>\n",
       "      <td>12.677308</td>\n",
       "      <td>0.0</td>\n",
       "      <td>0.0</td>\n",
       "      <td>0.0</td>\n",
       "      <td>...</td>\n",
       "      <td>0</td>\n",
       "      <td>0</td>\n",
       "      <td>0</td>\n",
       "      <td>Car</td>\n",
       "    </tr>\n",
       "    <tr>\n",
       "      <th>20</th>\n",
       "      <td>20.600625</td>\n",
       "      <td>0.0</td>\n",
       "      <td>0.0</td>\n",
       "      <td>0.0</td>\n",
       "      <td>...</td>\n",
       "      <td>0</td>\n",
       "      <td>0</td>\n",
       "      <td>0</td>\n",
       "      <td>Car</td>\n",
       "    </tr>\n",
       "    <tr>\n",
       "      <th>...</th>\n",
       "      <td>...</td>\n",
       "      <td>...</td>\n",
       "      <td>...</td>\n",
       "      <td>...</td>\n",
       "      <td>...</td>\n",
       "      <td>...</td>\n",
       "      <td>...</td>\n",
       "      <td>...</td>\n",
       "      <td>...</td>\n",
       "    </tr>\n",
       "    <tr>\n",
       "      <th>39014</th>\n",
       "      <td>10.987000</td>\n",
       "      <td>0.0</td>\n",
       "      <td>0.0</td>\n",
       "      <td>0.0</td>\n",
       "      <td>...</td>\n",
       "      <td>0</td>\n",
       "      <td>0</td>\n",
       "      <td>0</td>\n",
       "      <td>Car</td>\n",
       "    </tr>\n",
       "    <tr>\n",
       "      <th>39015</th>\n",
       "      <td>15.695714</td>\n",
       "      <td>0.0</td>\n",
       "      <td>0.0</td>\n",
       "      <td>0.0</td>\n",
       "      <td>...</td>\n",
       "      <td>0</td>\n",
       "      <td>0</td>\n",
       "      <td>0</td>\n",
       "      <td>Car</td>\n",
       "    </tr>\n",
       "    <tr>\n",
       "      <th>39016</th>\n",
       "      <td>13.733750</td>\n",
       "      <td>0.0</td>\n",
       "      <td>0.0</td>\n",
       "      <td>0.0</td>\n",
       "      <td>...</td>\n",
       "      <td>0</td>\n",
       "      <td>0</td>\n",
       "      <td>0</td>\n",
       "      <td>Car</td>\n",
       "    </tr>\n",
       "    <tr>\n",
       "      <th>39017</th>\n",
       "      <td>17.347895</td>\n",
       "      <td>0.0</td>\n",
       "      <td>0.0</td>\n",
       "      <td>0.0</td>\n",
       "      <td>...</td>\n",
       "      <td>0</td>\n",
       "      <td>0</td>\n",
       "      <td>0</td>\n",
       "      <td>Car</td>\n",
       "    </tr>\n",
       "    <tr>\n",
       "      <th>39018</th>\n",
       "      <td>15.695714</td>\n",
       "      <td>0.0</td>\n",
       "      <td>0.0</td>\n",
       "      <td>0.0</td>\n",
       "      <td>...</td>\n",
       "      <td>0</td>\n",
       "      <td>0</td>\n",
       "      <td>0</td>\n",
       "      <td>Car</td>\n",
       "    </tr>\n",
       "  </tbody>\n",
       "</table>\n",
       "<p>7037 rows × 84 columns</p>\n",
       "</div>"
      ],
      "text/plain": [
       "       barrels08  barrelsA08  charge120  charge240  ...  phevCity  phevHwy  \\\n",
       "7      13.733750         0.0        0.0        0.0  ...         0        0   \n",
       "8      12.677308         0.0        0.0        0.0  ...         0        0   \n",
       "9      13.184400         0.0        0.0        0.0  ...         0        0   \n",
       "10     12.677308         0.0        0.0        0.0  ...         0        0   \n",
       "20     20.600625         0.0        0.0        0.0  ...         0        0   \n",
       "...          ...         ...        ...        ...  ...       ...      ...   \n",
       "39014  10.987000         0.0        0.0        0.0  ...         0        0   \n",
       "39015  15.695714         0.0        0.0        0.0  ...         0        0   \n",
       "39016  13.733750         0.0        0.0        0.0  ...         0        0   \n",
       "39017  17.347895         0.0        0.0        0.0  ...         0        0   \n",
       "39018  15.695714         0.0        0.0        0.0  ...         0        0   \n",
       "\n",
       "       phevComb  SClass  \n",
       "7             0     Car  \n",
       "8             0     Car  \n",
       "9             0     Car  \n",
       "10            0     Car  \n",
       "20            0     Car  \n",
       "...         ...     ...  \n",
       "39014         0     Car  \n",
       "39015         0     Car  \n",
       "39016         0     Car  \n",
       "39017         0     Car  \n",
       "39018         0     Car  \n",
       "\n",
       "[7037 rows x 84 columns]"
      ]
     },
     "execution_count": 43,
     "metadata": {},
     "output_type": "execute_result"
    }
   ],
   "source": [
    "makes = ['Ford', 'Tesla', 'BMW', 'Toyota']\n",
    "# SClass라는 column을 만들어 합친다\n",
    "data = (fueleco [fueleco.make.isin(makes)].assign(SClass=lambda df_: generalize(df_.VClass,[('Seaters', 'Car'), ('Car', 'Car'), ('Utility', 'SUV'),\n",
    "     ('Truck', 'Truck'), ('Van', 'Van'), ('van', 'Van'), ('Wagon', 'Wagon')], 'other')))\n",
    "data"
   ]
  },
  {
   "cell_type": "code",
   "execution_count": 44,
   "id": "d538304e",
   "metadata": {},
   "outputs": [
    {
     "data": {
      "text/html": [
       "<div>\n",
       "<style scoped>\n",
       "    .dataframe tbody tr th:only-of-type {\n",
       "        vertical-align: middle;\n",
       "    }\n",
       "\n",
       "    .dataframe tbody tr th {\n",
       "        vertical-align: top;\n",
       "    }\n",
       "\n",
       "    .dataframe thead th {\n",
       "        text-align: right;\n",
       "    }\n",
       "</style>\n",
       "<table border=\"1\" class=\"dataframe\">\n",
       "  <thead>\n",
       "    <tr style=\"text-align: right;\">\n",
       "      <th>SClass</th>\n",
       "      <th>Car</th>\n",
       "      <th>SUV</th>\n",
       "      <th>Truck</th>\n",
       "      <th>Van</th>\n",
       "      <th>Wagon</th>\n",
       "      <th>other</th>\n",
       "    </tr>\n",
       "    <tr>\n",
       "      <th>make</th>\n",
       "      <th></th>\n",
       "      <th></th>\n",
       "      <th></th>\n",
       "      <th></th>\n",
       "      <th></th>\n",
       "      <th></th>\n",
       "    </tr>\n",
       "  </thead>\n",
       "  <tbody>\n",
       "    <tr>\n",
       "      <th>BMW</th>\n",
       "      <td>1557.0</td>\n",
       "      <td>158.0</td>\n",
       "      <td>NaN</td>\n",
       "      <td>NaN</td>\n",
       "      <td>92.0</td>\n",
       "      <td>NaN</td>\n",
       "    </tr>\n",
       "    <tr>\n",
       "      <th>Ford</th>\n",
       "      <td>1075.0</td>\n",
       "      <td>372.0</td>\n",
       "      <td>1040.0</td>\n",
       "      <td>332.0</td>\n",
       "      <td>155.0</td>\n",
       "      <td>234.0</td>\n",
       "    </tr>\n",
       "    <tr>\n",
       "      <th>Tesla</th>\n",
       "      <td>36.0</td>\n",
       "      <td>10.0</td>\n",
       "      <td>NaN</td>\n",
       "      <td>NaN</td>\n",
       "      <td>NaN</td>\n",
       "      <td>NaN</td>\n",
       "    </tr>\n",
       "    <tr>\n",
       "      <th>Toyota</th>\n",
       "      <td>773.0</td>\n",
       "      <td>376.0</td>\n",
       "      <td>478.0</td>\n",
       "      <td>94.0</td>\n",
       "      <td>132.0</td>\n",
       "      <td>123.0</td>\n",
       "    </tr>\n",
       "  </tbody>\n",
       "</table>\n",
       "</div>"
      ],
      "text/plain": [
       "SClass     Car    SUV   Truck    Van  Wagon  other\n",
       "make                                              \n",
       "BMW     1557.0  158.0     NaN    NaN   92.0    NaN\n",
       "Ford    1075.0  372.0  1040.0  332.0  155.0  234.0\n",
       "Tesla     36.0   10.0     NaN    NaN    NaN    NaN\n",
       "Toyota   773.0  376.0   478.0   94.0  132.0  123.0"
      ]
     },
     "execution_count": 44,
     "metadata": {},
     "output_type": "execute_result"
    }
   ],
   "source": [
    "data.groupby(['make', 'SClass']).size().unstack()"
   ]
  },
  {
   "cell_type": "code",
   "execution_count": 45,
   "id": "be9d9174",
   "metadata": {},
   "outputs": [
    {
     "data": {
      "text/html": [
       "<div>\n",
       "<style scoped>\n",
       "    .dataframe tbody tr th:only-of-type {\n",
       "        vertical-align: middle;\n",
       "    }\n",
       "\n",
       "    .dataframe tbody tr th {\n",
       "        vertical-align: top;\n",
       "    }\n",
       "\n",
       "    .dataframe thead th {\n",
       "        text-align: right;\n",
       "    }\n",
       "</style>\n",
       "<table border=\"1\" class=\"dataframe\">\n",
       "  <thead>\n",
       "    <tr style=\"text-align: right;\">\n",
       "      <th>SClass</th>\n",
       "      <th>Car</th>\n",
       "      <th>SUV</th>\n",
       "      <th>Truck</th>\n",
       "      <th>Van</th>\n",
       "      <th>Wagon</th>\n",
       "      <th>other</th>\n",
       "    </tr>\n",
       "    <tr>\n",
       "      <th>make</th>\n",
       "      <th></th>\n",
       "      <th></th>\n",
       "      <th></th>\n",
       "      <th></th>\n",
       "      <th></th>\n",
       "      <th></th>\n",
       "    </tr>\n",
       "  </thead>\n",
       "  <tbody>\n",
       "    <tr>\n",
       "      <th>BMW</th>\n",
       "      <td>1557</td>\n",
       "      <td>158</td>\n",
       "      <td>0</td>\n",
       "      <td>0</td>\n",
       "      <td>92</td>\n",
       "      <td>0</td>\n",
       "    </tr>\n",
       "    <tr>\n",
       "      <th>Ford</th>\n",
       "      <td>1075</td>\n",
       "      <td>372</td>\n",
       "      <td>1040</td>\n",
       "      <td>332</td>\n",
       "      <td>155</td>\n",
       "      <td>234</td>\n",
       "    </tr>\n",
       "    <tr>\n",
       "      <th>Tesla</th>\n",
       "      <td>36</td>\n",
       "      <td>10</td>\n",
       "      <td>0</td>\n",
       "      <td>0</td>\n",
       "      <td>0</td>\n",
       "      <td>0</td>\n",
       "    </tr>\n",
       "    <tr>\n",
       "      <th>Toyota</th>\n",
       "      <td>773</td>\n",
       "      <td>376</td>\n",
       "      <td>478</td>\n",
       "      <td>94</td>\n",
       "      <td>132</td>\n",
       "      <td>123</td>\n",
       "    </tr>\n",
       "  </tbody>\n",
       "</table>\n",
       "</div>"
      ],
      "text/plain": [
       "SClass   Car  SUV  Truck  Van  Wagon  other\n",
       "make                                       \n",
       "BMW     1557  158      0    0     92      0\n",
       "Ford    1075  372   1040  332    155    234\n",
       "Tesla     36   10      0    0      0      0\n",
       "Toyota   773  376    478   94    132    123"
      ]
     },
     "execution_count": 45,
     "metadata": {},
     "output_type": "execute_result"
    }
   ],
   "source": [
    "# unique한 value끼리 1 대 1 대응시켜서 값이 없으면 0\n",
    "pd.crosstab(data.make, data.SClass)"
   ]
  },
  {
   "cell_type": "code",
   "execution_count": 68,
   "id": "86f74dbe",
   "metadata": {},
   "outputs": [
    {
     "data": {
      "text/html": [
       "<div>\n",
       "<style scoped>\n",
       "    .dataframe tbody tr th:only-of-type {\n",
       "        vertical-align: middle;\n",
       "    }\n",
       "\n",
       "    .dataframe tbody tr th {\n",
       "        vertical-align: top;\n",
       "    }\n",
       "\n",
       "    .dataframe thead th {\n",
       "        text-align: right;\n",
       "    }\n",
       "</style>\n",
       "<table border=\"1\" class=\"dataframe\">\n",
       "  <thead>\n",
       "    <tr style=\"text-align: right;\">\n",
       "      <th>test2</th>\n",
       "      <th>1</th>\n",
       "      <th>2</th>\n",
       "    </tr>\n",
       "    <tr>\n",
       "      <th>test1</th>\n",
       "      <th></th>\n",
       "      <th></th>\n",
       "    </tr>\n",
       "  </thead>\n",
       "  <tbody>\n",
       "    <tr>\n",
       "      <th>1</th>\n",
       "      <td>1</td>\n",
       "      <td>0</td>\n",
       "    </tr>\n",
       "    <tr>\n",
       "      <th>2</th>\n",
       "      <td>2</td>\n",
       "      <td>0</td>\n",
       "    </tr>\n",
       "    <tr>\n",
       "      <th>3</th>\n",
       "      <td>1</td>\n",
       "      <td>0</td>\n",
       "    </tr>\n",
       "    <tr>\n",
       "      <th>5</th>\n",
       "      <td>0</td>\n",
       "      <td>1</td>\n",
       "    </tr>\n",
       "  </tbody>\n",
       "</table>\n",
       "</div>"
      ],
      "text/plain": [
       "test2  1  2\n",
       "test1      \n",
       "1      1  0\n",
       "2      2  0\n",
       "3      1  0\n",
       "5      0  1"
      ]
     },
     "execution_count": 68,
     "metadata": {},
     "output_type": "execute_result"
    }
   ],
   "source": [
    "# crosstab 예시\n",
    "a = {'test1': [1,3,2,2,5], 'test2': [1,1,1,1,2]}\n",
    "a = pd.DataFrame(a)\n",
    "tbl = pd.crosstab(a.test1,a.test2)\n",
    "tbl"
   ]
  },
  {
   "cell_type": "code",
   "execution_count": 47,
   "id": "16a8ac47",
   "metadata": {},
   "outputs": [
    {
     "data": {
      "text/html": [
       "<div>\n",
       "<style scoped>\n",
       "    .dataframe tbody tr th:only-of-type {\n",
       "        vertical-align: middle;\n",
       "    }\n",
       "\n",
       "    .dataframe tbody tr th {\n",
       "        vertical-align: top;\n",
       "    }\n",
       "\n",
       "    .dataframe thead tr th {\n",
       "        text-align: left;\n",
       "    }\n",
       "\n",
       "    .dataframe thead tr:last-of-type th {\n",
       "        text-align: right;\n",
       "    }\n",
       "</style>\n",
       "<table border=\"1\" class=\"dataframe\">\n",
       "  <thead>\n",
       "    <tr>\n",
       "      <th></th>\n",
       "      <th>SClass</th>\n",
       "      <th colspan=\"4\" halign=\"left\">Car</th>\n",
       "      <th>...</th>\n",
       "      <th>Wagon</th>\n",
       "      <th colspan=\"3\" halign=\"left\">other</th>\n",
       "    </tr>\n",
       "    <tr>\n",
       "      <th></th>\n",
       "      <th>VClass</th>\n",
       "      <th>Compact Cars</th>\n",
       "      <th>Large Cars</th>\n",
       "      <th>Midsize Cars</th>\n",
       "      <th>Minicompact Cars</th>\n",
       "      <th>...</th>\n",
       "      <th>Small Station Wagons</th>\n",
       "      <th>Special Purpose Vehicle 2WD</th>\n",
       "      <th>Special Purpose Vehicle 4WD</th>\n",
       "      <th>Special Purpose Vehicles</th>\n",
       "    </tr>\n",
       "    <tr>\n",
       "      <th>year</th>\n",
       "      <th>make</th>\n",
       "      <th></th>\n",
       "      <th></th>\n",
       "      <th></th>\n",
       "      <th></th>\n",
       "      <th></th>\n",
       "      <th></th>\n",
       "      <th></th>\n",
       "      <th></th>\n",
       "      <th></th>\n",
       "    </tr>\n",
       "  </thead>\n",
       "  <tbody>\n",
       "    <tr>\n",
       "      <th rowspan=\"3\" valign=\"top\">1984</th>\n",
       "      <th>BMW</th>\n",
       "      <td>6</td>\n",
       "      <td>0</td>\n",
       "      <td>0</td>\n",
       "      <td>0</td>\n",
       "      <td>...</td>\n",
       "      <td>0</td>\n",
       "      <td>0</td>\n",
       "      <td>0</td>\n",
       "      <td>0</td>\n",
       "    </tr>\n",
       "    <tr>\n",
       "      <th>Ford</th>\n",
       "      <td>33</td>\n",
       "      <td>3</td>\n",
       "      <td>9</td>\n",
       "      <td>0</td>\n",
       "      <td>...</td>\n",
       "      <td>12</td>\n",
       "      <td>0</td>\n",
       "      <td>21</td>\n",
       "      <td>6</td>\n",
       "    </tr>\n",
       "    <tr>\n",
       "      <th>Toyota</th>\n",
       "      <td>13</td>\n",
       "      <td>0</td>\n",
       "      <td>0</td>\n",
       "      <td>3</td>\n",
       "      <td>...</td>\n",
       "      <td>10</td>\n",
       "      <td>0</td>\n",
       "      <td>3</td>\n",
       "      <td>2</td>\n",
       "    </tr>\n",
       "    <tr>\n",
       "      <th rowspan=\"2\" valign=\"top\">1985</th>\n",
       "      <th>BMW</th>\n",
       "      <td>7</td>\n",
       "      <td>0</td>\n",
       "      <td>0</td>\n",
       "      <td>0</td>\n",
       "      <td>...</td>\n",
       "      <td>0</td>\n",
       "      <td>0</td>\n",
       "      <td>0</td>\n",
       "      <td>0</td>\n",
       "    </tr>\n",
       "    <tr>\n",
       "      <th>Ford</th>\n",
       "      <td>31</td>\n",
       "      <td>2</td>\n",
       "      <td>5</td>\n",
       "      <td>0</td>\n",
       "      <td>...</td>\n",
       "      <td>13</td>\n",
       "      <td>5</td>\n",
       "      <td>9</td>\n",
       "      <td>6</td>\n",
       "    </tr>\n",
       "    <tr>\n",
       "      <th>...</th>\n",
       "      <th>...</th>\n",
       "      <td>...</td>\n",
       "      <td>...</td>\n",
       "      <td>...</td>\n",
       "      <td>...</td>\n",
       "      <td>...</td>\n",
       "      <td>...</td>\n",
       "      <td>...</td>\n",
       "      <td>...</td>\n",
       "      <td>...</td>\n",
       "    </tr>\n",
       "    <tr>\n",
       "      <th rowspan=\"2\" valign=\"top\">2017</th>\n",
       "      <th>Tesla</th>\n",
       "      <td>0</td>\n",
       "      <td>8</td>\n",
       "      <td>0</td>\n",
       "      <td>0</td>\n",
       "      <td>...</td>\n",
       "      <td>0</td>\n",
       "      <td>0</td>\n",
       "      <td>0</td>\n",
       "      <td>0</td>\n",
       "    </tr>\n",
       "    <tr>\n",
       "      <th>Toyota</th>\n",
       "      <td>3</td>\n",
       "      <td>0</td>\n",
       "      <td>16</td>\n",
       "      <td>2</td>\n",
       "      <td>...</td>\n",
       "      <td>0</td>\n",
       "      <td>0</td>\n",
       "      <td>0</td>\n",
       "      <td>0</td>\n",
       "    </tr>\n",
       "    <tr>\n",
       "      <th rowspan=\"3\" valign=\"top\">2018</th>\n",
       "      <th>BMW</th>\n",
       "      <td>37</td>\n",
       "      <td>12</td>\n",
       "      <td>5</td>\n",
       "      <td>0</td>\n",
       "      <td>...</td>\n",
       "      <td>2</td>\n",
       "      <td>0</td>\n",
       "      <td>0</td>\n",
       "      <td>0</td>\n",
       "    </tr>\n",
       "    <tr>\n",
       "      <th>Ford</th>\n",
       "      <td>0</td>\n",
       "      <td>0</td>\n",
       "      <td>8</td>\n",
       "      <td>0</td>\n",
       "      <td>...</td>\n",
       "      <td>0</td>\n",
       "      <td>6</td>\n",
       "      <td>0</td>\n",
       "      <td>0</td>\n",
       "    </tr>\n",
       "    <tr>\n",
       "      <th>Toyota</th>\n",
       "      <td>4</td>\n",
       "      <td>0</td>\n",
       "      <td>16</td>\n",
       "      <td>0</td>\n",
       "      <td>...</td>\n",
       "      <td>0</td>\n",
       "      <td>0</td>\n",
       "      <td>0</td>\n",
       "      <td>0</td>\n",
       "    </tr>\n",
       "  </tbody>\n",
       "</table>\n",
       "<p>111 rows × 29 columns</p>\n",
       "</div>"
      ],
      "text/plain": [
       "SClass               Car                                           ...  \\\n",
       "VClass      Compact Cars Large Cars Midsize Cars Minicompact Cars  ...   \n",
       "year make                                                          ...   \n",
       "1984 BMW               6          0            0            0      ...   \n",
       "     Ford             33          3            9            0      ...   \n",
       "     Toyota           13          0            0            3      ...   \n",
       "1985 BMW               7          0            0            0      ...   \n",
       "     Ford             31          2            5            0      ...   \n",
       "...                  ...        ...          ...          ...      ...   \n",
       "2017 Tesla             0          8            0            0      ...   \n",
       "     Toyota            3          0           16            2      ...   \n",
       "2018 BMW              37         12            5            0      ...   \n",
       "     Ford              0          0            8            0      ...   \n",
       "     Toyota            4          0           16            0      ...   \n",
       "\n",
       "SClass                     Wagon                       other  \\\n",
       "VClass      Small Station Wagons Special Purpose Vehicle 2WD   \n",
       "year make                                                      \n",
       "1984 BMW               0                    0                  \n",
       "     Ford             12                    0                  \n",
       "     Toyota           10                    0                  \n",
       "1985 BMW               0                    0                  \n",
       "     Ford             13                    5                  \n",
       "...                  ...                  ...                  \n",
       "2017 Tesla             0                    0                  \n",
       "     Toyota            0                    0                  \n",
       "2018 BMW               2                    0                  \n",
       "     Ford              0                    6                  \n",
       "     Toyota            0                    0                  \n",
       "\n",
       "SClass                                                            \n",
       "VClass      Special Purpose Vehicle 4WD Special Purpose Vehicles  \n",
       "year make                                                         \n",
       "1984 BMW               0                           0              \n",
       "     Ford             21                           6              \n",
       "     Toyota            3                           2              \n",
       "1985 BMW               0                           0              \n",
       "     Ford              9                           6              \n",
       "...                  ...                         ...              \n",
       "2017 Tesla             0                           0              \n",
       "     Toyota            0                           0              \n",
       "2018 BMW               0                           0              \n",
       "     Ford              0                           0              \n",
       "     Toyota            0                           0              \n",
       "\n",
       "[111 rows x 29 columns]"
      ]
     },
     "execution_count": 47,
     "metadata": {},
     "output_type": "execute_result"
    }
   ],
   "source": [
    "# crosstab([index1, index2], [column1,column2])\n",
    "pd.crosstab([data.year, data.make], [data.SClass, data.VClass])"
   ]
  },
  {
   "cell_type": "code",
   "execution_count": 48,
   "id": "9004ba49",
   "metadata": {},
   "outputs": [],
   "source": [
    "# cramers 척도 (상관관계를 분석해 준다.)\n",
    "\n",
    "import scipy.stats as ss\n",
    "import numpy as np\n",
    "def cramers_v(x, y):\n",
    "    confusion_matrix = pd.crosstab(x,y)\n",
    "    chi2 = ss.chi2_contingency(confusion_matrix)[0]\n",
    "    n = confusion_matrix.sum().sum()\n",
    "    phi2 = chi2/n\n",
    "    # chi2_contingency : 카이제곱 분포\n",
    "    r,k = confusion_matrix.shape\n",
    "    phi2corr = max(0, phi2-((k-1)*(r-1))/(n-1))\n",
    "    rcorr = r-((r-1)**2)/(n-1)\n",
    "    kcorr = k-((k-1)**2)/(n-1)\n",
    "    return np.sqrt(phi2corr/min((kcorr-1),(rcorr-1)))"
   ]
  },
  {
   "cell_type": "code",
   "execution_count": 49,
   "id": "e07af48b",
   "metadata": {},
   "outputs": [
    {
     "data": {
      "text/plain": [
       "0.2859720982171866"
      ]
     },
     "execution_count": 49,
     "metadata": {},
     "output_type": "execute_result"
    }
   ],
   "source": [
    "cramers_v(data.make, data.SClass)"
   ]
  },
  {
   "cell_type": "code",
   "execution_count": 59,
   "id": "9fb3b0ba",
   "metadata": {},
   "outputs": [
    {
     "data": {
      "text/plain": [
       "0.2859720982171866"
      ]
     },
     "execution_count": 59,
     "metadata": {},
     "output_type": "execute_result"
    }
   ],
   "source": [
    "data.make.corr(data.SClass, cramers_v)"
   ]
  },
  {
   "cell_type": "markdown",
   "id": "55c27eea",
   "metadata": {},
   "source": [
    "generalize 함수를 사용하여 카디널리티를 낮춰 막대 그래프의 간격을 넓혔다"
   ]
  },
  {
   "cell_type": "code",
   "execution_count": 53,
   "id": "81869365",
   "metadata": {},
   "outputs": [
    {
     "data": {
      "text/plain": [
       "<AxesSubplot:xlabel='make'>"
      ]
     },
     "execution_count": 53,
     "metadata": {},
     "output_type": "execute_result"
    },
    {
     "data": {
      "image/png": "[encoded data removed]",
      "text/plain": [
       "<Figure size 720x576 with 1 Axes>"
      ]
     },
     "metadata": {
      "needs_background": "light"
     },
     "output_type": "display_data"
    }
   ],
   "source": [
    "# subplot\n",
    "fig, ax = plt.subplots(figsize=(10,8))\n",
    "(data.pipe(lambda x : pd.crosstab(x.make, x.SClass)).plot.bar(ax=ax))"
   ]
  },
  {
   "cell_type": "code",
   "execution_count": 52,
   "id": "a7c50a9b",
   "metadata": {},
   "outputs": [
    {
     "data": {
      "image/png": "[encoded data removed]",
      "text/plain": [
       "<Figure size 430.125x360 with 1 Axes>"
      ]
     },
     "metadata": {
      "needs_background": "light"
     },
     "output_type": "display_data"
    }
   ],
   "source": [
    "# seaborn\n",
    "res = sns.catplot(kind='count',x='make', hue='SClass', data=data)"
   ]
  },
  {
   "cell_type": "code",
   "execution_count": 54,
   "id": "676fbe76",
   "metadata": {},
   "outputs": [
    {
     "data": {
      "text/plain": [
       "<AxesSubplot:xlabel='make'>"
      ]
     },
     "execution_count": 54,
     "metadata": {},
     "output_type": "execute_result"
    },
    {
     "data": {
      "image/png": "[encoded data removed]",
      "text/plain": [
       "<Figure size 720x576 with 1 Axes>"
      ]
     },
     "metadata": {
      "needs_background": "light"
     },
     "output_type": "display_data"
    }
   ],
   "source": [
    "# 겹쳐서 그리기\n",
    "fig, ax = plt.subplots(figsize=(10,8))\n",
    "(data.pipe(lambda df_: pd.crosstab(df_.make, df_.SClass))\n",
    " .pipe(lambda df_: df_.div(df_.sum(axis=1), axis=0))\n",
    " .plot.bar(stacked=True, ax=ax))"
   ]
  },
  {
   "cell_type": "markdown",
   "id": "12dd921a",
   "metadata": {},
   "source": [
    "## 프로파일링 라이브러리"
   ]
  },
  {
   "cell_type": "code",
   "execution_count": 66,
   "id": "ead67cb7",
   "metadata": {
    "collapsed": true
   },
   "outputs": [
    {
     "name": "stdout",
     "output_type": "stream",
     "text": [
      "Collecting pandas-profiling\n",
      "  Using cached pandas_profiling-3.1.0-py2.py3-none-any.whl (261 kB)\n",
      "Requirement already satisfied: markupsafe~=2.0.1 in c:\\users\\user\\anaconda3\\lib\\site-packages (from pandas-profiling) (2.0.1)\n",
      "Requirement already satisfied: multimethod>=1.4 in c:\\users\\user\\anaconda3\\lib\\site-packages (from pandas-profiling) (1.7)\n",
      "Requirement already satisfied: matplotlib>=3.2.0 in c:\\users\\user\\anaconda3\\lib\\site-packages (from pandas-profiling) (3.4.3)\n",
      "Requirement already satisfied: pandas!=1.0.0,!=1.0.1,!=1.0.2,!=1.1.0,>=0.25.3 in c:\\users\\user\\anaconda3\\lib\\site-packages (from pandas-profiling) (1.3.4)\n",
      "Collecting joblib~=1.0.1\n",
      "  Using cached joblib-1.0.1-py3-none-any.whl (303 kB)\n",
      "Requirement already satisfied: visions[type_image_path]==0.7.4 in c:\\users\\user\\anaconda3\\lib\\site-packages (from pandas-profiling) (0.7.4)\n",
      "Requirement already satisfied: PyYAML>=5.0.0 in c:\\users\\user\\anaconda3\\lib\\site-packages (from pandas-profiling) (6.0)\n",
      "Collecting missingno>=0.4.2\n",
      "  Using cached missingno-0.5.0-py3-none-any.whl (8.8 kB)\n",
      "Collecting phik>=0.11.1\n",
      "  Using cached phik-0.12.0-cp39-cp39-win_amd64.whl (659 kB)\n",
      "Requirement already satisfied: seaborn>=0.10.1 in c:\\users\\user\\anaconda3\\lib\\site-packages (from pandas-profiling) (0.11.2)\n",
      "Requirement already satisfied: scipy>=1.4.1 in c:\\users\\user\\anaconda3\\lib\\site-packages (from pandas-profiling) (1.7.1)\n",
      "Requirement already satisfied: jinja2>=2.11.1 in c:\\users\\user\\anaconda3\\lib\\site-packages (from pandas-profiling) (2.11.3)\n",
      "Collecting htmlmin>=0.1.12\n",
      "  Using cached htmlmin-0.1.12-py3-none-any.whl\n",
      "Requirement already satisfied: tqdm>=4.48.2 in c:\\users\\user\\anaconda3\\lib\\site-packages (from pandas-profiling) (4.62.3)\n",
      "Requirement already satisfied: tangled-up-in-unicode==0.1.0 in c:\\users\\user\\anaconda3\\lib\\site-packages (from pandas-profiling) (0.1.0)\n",
      "Requirement already satisfied: numpy>=1.16.0 in c:\\users\\user\\anaconda3\\lib\\site-packages (from pandas-profiling) (1.20.3)\n",
      "Requirement already satisfied: requests>=2.24.0 in c:\\users\\user\\anaconda3\\lib\\site-packages (from pandas-profiling) (2.26.0)\n",
      "Collecting pydantic>=1.8.1\n",
      "  Using cached pydantic-1.9.0-cp39-cp39-win_amd64.whl (2.1 MB)\n",
      "Requirement already satisfied: networkx>=2.4 in c:\\users\\user\\anaconda3\\lib\\site-packages (from visions[type_image_path]==0.7.4->pandas-profiling) (2.6.3)\n",
      "Requirement already satisfied: attrs>=19.3.0 in c:\\users\\user\\anaconda3\\lib\\site-packages (from visions[type_image_path]==0.7.4->pandas-profiling) (21.2.0)\n",
      "Collecting imagehash\n",
      "  Using cached ImageHash-4.2.1-py2.py3-none-any.whl\n",
      "Requirement already satisfied: Pillow in c:\\users\\user\\anaconda3\\lib\\site-packages (from visions[type_image_path]==0.7.4->pandas-profiling) (8.4.0)\n",
      "Requirement already satisfied: kiwisolver>=1.0.1 in c:\\users\\user\\anaconda3\\lib\\site-packages (from matplotlib>=3.2.0->pandas-profiling) (1.3.1)\n",
      "Requirement already satisfied: python-dateutil>=2.7 in c:\\users\\user\\anaconda3\\lib\\site-packages (from matplotlib>=3.2.0->pandas-profiling) (2.8.2)\n",
      "Requirement already satisfied: pyparsing>=2.2.1 in c:\\users\\user\\anaconda3\\lib\\site-packages (from matplotlib>=3.2.0->pandas-profiling) (3.0.4)\n",
      "Requirement already satisfied: cycler>=0.10 in c:\\users\\user\\anaconda3\\lib\\site-packages (from matplotlib>=3.2.0->pandas-profiling) (0.10.0)\n",
      "Requirement already satisfied: six in c:\\users\\user\\anaconda3\\lib\\site-packages (from cycler>=0.10->matplotlib>=3.2.0->pandas-profiling) (1.16.0)\n",
      "Requirement already satisfied: pytz>=2017.3 in c:\\users\\user\\anaconda3\\lib\\site-packages (from pandas!=1.0.0,!=1.0.1,!=1.0.2,!=1.1.0,>=0.25.3->pandas-profiling) (2021.3)\n",
      "Requirement already satisfied: typing-extensions>=3.7.4.3 in c:\\users\\user\\anaconda3\\lib\\site-packages (from pydantic>=1.8.1->pandas-profiling) (3.10.0.2)\n",
      "Requirement already satisfied: charset-normalizer~=2.0.0 in c:\\users\\user\\anaconda3\\lib\\site-packages (from requests>=2.24.0->pandas-profiling) (2.0.4)\n",
      "Requirement already satisfied: certifi>=2017.4.17 in c:\\users\\user\\anaconda3\\lib\\site-packages (from requests>=2.24.0->pandas-profiling) (2021.10.8)\n",
      "Requirement already satisfied: urllib3<1.27,>=1.21.1 in c:\\users\\user\\anaconda3\\lib\\site-packages (from requests>=2.24.0->pandas-profiling) (1.26.7)\n",
      "Requirement already satisfied: idna<4,>=2.5 in c:\\users\\user\\anaconda3\\lib\\site-packages (from requests>=2.24.0->pandas-profiling) (3.2)\n",
      "Requirement already satisfied: colorama in c:\\users\\user\\anaconda3\\lib\\site-packages (from tqdm>=4.48.2->pandas-profiling) (0.4.4)\n",
      "Requirement already satisfied: PyWavelets in c:\\users\\user\\anaconda3\\lib\\site-packages (from imagehash->visions[type_image_path]==0.7.4->pandas-profiling) (1.1.1)\n",
      "Installing collected packages: joblib, imagehash, pydantic, phik, missingno, htmlmin, pandas-profiling\n",
      "  Attempting uninstall: joblib\n",
      "    Found existing installation: joblib 1.1.0\n",
      "    Uninstalling joblib-1.1.0:\n",
      "      Successfully uninstalled joblib-1.1.0\n",
      "Successfully installed htmlmin-0.1.12 imagehash-4.2.1 joblib-1.0.1 missingno-0.5.0 pandas-profiling-3.1.0 phik-0.12.0 pydantic-1.9.0\n"
     ]
    }
   ],
   "source": [
    "!pip install -U pandas-profiling"
   ]
  },
  {
   "cell_type": "code",
   "execution_count": null,
   "id": "e780a750",
   "metadata": {},
   "outputs": [
    {
     "data": {
      "application/vnd.jupyter.widget-view+json": {
       "model_id": "ad7babe9d48c41ba9f487a167d2fa7f3",
       "version_major": 2,
       "version_minor": 0
      },
      "text/plain": [
       "Summarize dataset:   0%|          | 0/5 [00:00<?, ?it/s]"
      ]
     },
     "metadata": {},
     "output_type": "display_data"
    }
   ],
   "source": [
    "report = pp.ProfileReport(fueleco)\n",
    "report.to_file('/tmp/fuel.html')"
   ]
  },
  {
   "cell_type": "code",
   "execution_count": null,
   "id": "0800b83f",
   "metadata": {},
   "outputs": [],
   "source": []
  }
 ],
 "metadata": {
  "kernelspec": {
   "display_name": "Python 3 (ipykernel)",
   "language": "python",
   "name": "python3"
  },
  "language_info": {
   "codemirror_mode": {
    "name": "ipython",
    "version": 3
   },
   "file_extension": ".py",
   "mimetype": "text/x-python",
   "name": "python",
   "nbconvert_exporter": "python",
   "pygments_lexer": "ipython3",
   "version": "3.9.7"
  }
 },
 "nbformat": 4,
 "nbformat_minor": 5
}
