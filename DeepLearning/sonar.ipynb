{
 "cells": [
  {
   "cell_type": "code",
   "execution_count": 1,
   "id": "4789e0b5",
   "metadata": {},
   "outputs": [],
   "source": [
    "import pandas as pd\n",
    "import numpy as np\n",
    "import matplotlib.pyplot as plt\n",
    "import seaborn as sns"
   ]
  },
  {
   "cell_type": "code",
   "execution_count": 2,
   "id": "ed9828b7",
   "metadata": {},
   "outputs": [],
   "source": [
    "from tensorflow.keras.models import Sequential\n",
    "from tensorflow.keras.layers import Dense\n",
    "import tensorflow as tf\n",
    "\n",
    "from sklearn.preprocessing import LabelEncoder"
   ]
  },
  {
   "cell_type": "code",
   "execution_count": 4,
   "id": "fdc1170a",
   "metadata": {
    "collapsed": true
   },
   "outputs": [
    {
     "data": {
      "text/html": [
       "<div>\n",
       "<style scoped>\n",
       "    .dataframe tbody tr th:only-of-type {\n",
       "        vertical-align: middle;\n",
       "    }\n",
       "\n",
       "    .dataframe tbody tr th {\n",
       "        vertical-align: top;\n",
       "    }\n",
       "\n",
       "    .dataframe thead th {\n",
       "        text-align: right;\n",
       "    }\n",
       "</style>\n",
       "<table border=\"1\" class=\"dataframe\">\n",
       "  <thead>\n",
       "    <tr style=\"text-align: right;\">\n",
       "      <th></th>\n",
       "      <th>0</th>\n",
       "      <th>1</th>\n",
       "      <th>2</th>\n",
       "      <th>3</th>\n",
       "      <th>4</th>\n",
       "      <th>5</th>\n",
       "      <th>6</th>\n",
       "      <th>7</th>\n",
       "      <th>8</th>\n",
       "      <th>9</th>\n",
       "      <th>...</th>\n",
       "      <th>51</th>\n",
       "      <th>52</th>\n",
       "      <th>53</th>\n",
       "      <th>54</th>\n",
       "      <th>55</th>\n",
       "      <th>56</th>\n",
       "      <th>57</th>\n",
       "      <th>58</th>\n",
       "      <th>59</th>\n",
       "      <th>60</th>\n",
       "    </tr>\n",
       "  </thead>\n",
       "  <tbody>\n",
       "    <tr>\n",
       "      <th>0</th>\n",
       "      <td>0.0200</td>\n",
       "      <td>0.0371</td>\n",
       "      <td>0.0428</td>\n",
       "      <td>0.0207</td>\n",
       "      <td>0.0954</td>\n",
       "      <td>0.0986</td>\n",
       "      <td>0.1539</td>\n",
       "      <td>0.1601</td>\n",
       "      <td>0.3109</td>\n",
       "      <td>0.2111</td>\n",
       "      <td>...</td>\n",
       "      <td>0.0027</td>\n",
       "      <td>0.0065</td>\n",
       "      <td>0.0159</td>\n",
       "      <td>0.0072</td>\n",
       "      <td>0.0167</td>\n",
       "      <td>0.0180</td>\n",
       "      <td>0.0084</td>\n",
       "      <td>0.0090</td>\n",
       "      <td>0.0032</td>\n",
       "      <td>R</td>\n",
       "    </tr>\n",
       "    <tr>\n",
       "      <th>1</th>\n",
       "      <td>0.0453</td>\n",
       "      <td>0.0523</td>\n",
       "      <td>0.0843</td>\n",
       "      <td>0.0689</td>\n",
       "      <td>0.1183</td>\n",
       "      <td>0.2583</td>\n",
       "      <td>0.2156</td>\n",
       "      <td>0.3481</td>\n",
       "      <td>0.3337</td>\n",
       "      <td>0.2872</td>\n",
       "      <td>...</td>\n",
       "      <td>0.0084</td>\n",
       "      <td>0.0089</td>\n",
       "      <td>0.0048</td>\n",
       "      <td>0.0094</td>\n",
       "      <td>0.0191</td>\n",
       "      <td>0.0140</td>\n",
       "      <td>0.0049</td>\n",
       "      <td>0.0052</td>\n",
       "      <td>0.0044</td>\n",
       "      <td>R</td>\n",
       "    </tr>\n",
       "    <tr>\n",
       "      <th>2</th>\n",
       "      <td>0.0262</td>\n",
       "      <td>0.0582</td>\n",
       "      <td>0.1099</td>\n",
       "      <td>0.1083</td>\n",
       "      <td>0.0974</td>\n",
       "      <td>0.2280</td>\n",
       "      <td>0.2431</td>\n",
       "      <td>0.3771</td>\n",
       "      <td>0.5598</td>\n",
       "      <td>0.6194</td>\n",
       "      <td>...</td>\n",
       "      <td>0.0232</td>\n",
       "      <td>0.0166</td>\n",
       "      <td>0.0095</td>\n",
       "      <td>0.0180</td>\n",
       "      <td>0.0244</td>\n",
       "      <td>0.0316</td>\n",
       "      <td>0.0164</td>\n",
       "      <td>0.0095</td>\n",
       "      <td>0.0078</td>\n",
       "      <td>R</td>\n",
       "    </tr>\n",
       "    <tr>\n",
       "      <th>3</th>\n",
       "      <td>0.0100</td>\n",
       "      <td>0.0171</td>\n",
       "      <td>0.0623</td>\n",
       "      <td>0.0205</td>\n",
       "      <td>0.0205</td>\n",
       "      <td>0.0368</td>\n",
       "      <td>0.1098</td>\n",
       "      <td>0.1276</td>\n",
       "      <td>0.0598</td>\n",
       "      <td>0.1264</td>\n",
       "      <td>...</td>\n",
       "      <td>0.0121</td>\n",
       "      <td>0.0036</td>\n",
       "      <td>0.0150</td>\n",
       "      <td>0.0085</td>\n",
       "      <td>0.0073</td>\n",
       "      <td>0.0050</td>\n",
       "      <td>0.0044</td>\n",
       "      <td>0.0040</td>\n",
       "      <td>0.0117</td>\n",
       "      <td>R</td>\n",
       "    </tr>\n",
       "    <tr>\n",
       "      <th>4</th>\n",
       "      <td>0.0762</td>\n",
       "      <td>0.0666</td>\n",
       "      <td>0.0481</td>\n",
       "      <td>0.0394</td>\n",
       "      <td>0.0590</td>\n",
       "      <td>0.0649</td>\n",
       "      <td>0.1209</td>\n",
       "      <td>0.2467</td>\n",
       "      <td>0.3564</td>\n",
       "      <td>0.4459</td>\n",
       "      <td>...</td>\n",
       "      <td>0.0031</td>\n",
       "      <td>0.0054</td>\n",
       "      <td>0.0105</td>\n",
       "      <td>0.0110</td>\n",
       "      <td>0.0015</td>\n",
       "      <td>0.0072</td>\n",
       "      <td>0.0048</td>\n",
       "      <td>0.0107</td>\n",
       "      <td>0.0094</td>\n",
       "      <td>R</td>\n",
       "    </tr>\n",
       "  </tbody>\n",
       "</table>\n",
       "<p>5 rows × 61 columns</p>\n",
       "</div>"
      ],
      "text/plain": [
       "       0       1       2       3       4       5       6       7       8   \\\n",
       "0  0.0200  0.0371  0.0428  0.0207  0.0954  0.0986  0.1539  0.1601  0.3109   \n",
       "1  0.0453  0.0523  0.0843  0.0689  0.1183  0.2583  0.2156  0.3481  0.3337   \n",
       "2  0.0262  0.0582  0.1099  0.1083  0.0974  0.2280  0.2431  0.3771  0.5598   \n",
       "3  0.0100  0.0171  0.0623  0.0205  0.0205  0.0368  0.1098  0.1276  0.0598   \n",
       "4  0.0762  0.0666  0.0481  0.0394  0.0590  0.0649  0.1209  0.2467  0.3564   \n",
       "\n",
       "       9   ...      51      52      53      54      55      56      57  \\\n",
       "0  0.2111  ...  0.0027  0.0065  0.0159  0.0072  0.0167  0.0180  0.0084   \n",
       "1  0.2872  ...  0.0084  0.0089  0.0048  0.0094  0.0191  0.0140  0.0049   \n",
       "2  0.6194  ...  0.0232  0.0166  0.0095  0.0180  0.0244  0.0316  0.0164   \n",
       "3  0.1264  ...  0.0121  0.0036  0.0150  0.0085  0.0073  0.0050  0.0044   \n",
       "4  0.4459  ...  0.0031  0.0054  0.0105  0.0110  0.0015  0.0072  0.0048   \n",
       "\n",
       "       58      59  60  \n",
       "0  0.0090  0.0032   R  \n",
       "1  0.0052  0.0044   R  \n",
       "2  0.0095  0.0078   R  \n",
       "3  0.0040  0.0117   R  \n",
       "4  0.0107  0.0094   R  \n",
       "\n",
       "[5 rows x 61 columns]"
      ]
     },
     "execution_count": 4,
     "metadata": {},
     "output_type": "execute_result"
    }
   ],
   "source": [
    "df = pd.read_csv('./deep_source_files/sonar.csv', header=None)\n",
    "df.head()"
   ]
  },
  {
   "cell_type": "code",
   "execution_count": 5,
   "id": "da823de8",
   "metadata": {
    "collapsed": true
   },
   "outputs": [
    {
     "name": "stdout",
     "output_type": "stream",
     "text": [
      "<class 'pandas.core.frame.DataFrame'>\n",
      "RangeIndex: 208 entries, 0 to 207\n",
      "Data columns (total 61 columns):\n",
      " #   Column  Non-Null Count  Dtype  \n",
      "---  ------  --------------  -----  \n",
      " 0   0       208 non-null    float64\n",
      " 1   1       208 non-null    float64\n",
      " 2   2       208 non-null    float64\n",
      " 3   3       208 non-null    float64\n",
      " 4   4       208 non-null    float64\n",
      " 5   5       208 non-null    float64\n",
      " 6   6       208 non-null    float64\n",
      " 7   7       208 non-null    float64\n",
      " 8   8       208 non-null    float64\n",
      " 9   9       208 non-null    float64\n",
      " 10  10      208 non-null    float64\n",
      " 11  11      208 non-null    float64\n",
      " 12  12      208 non-null    float64\n",
      " 13  13      208 non-null    float64\n",
      " 14  14      208 non-null    float64\n",
      " 15  15      208 non-null    float64\n",
      " 16  16      208 non-null    float64\n",
      " 17  17      208 non-null    float64\n",
      " 18  18      208 non-null    float64\n",
      " 19  19      208 non-null    float64\n",
      " 20  20      208 non-null    float64\n",
      " 21  21      208 non-null    float64\n",
      " 22  22      208 non-null    float64\n",
      " 23  23      208 non-null    float64\n",
      " 24  24      208 non-null    float64\n",
      " 25  25      208 non-null    float64\n",
      " 26  26      208 non-null    float64\n",
      " 27  27      208 non-null    float64\n",
      " 28  28      208 non-null    float64\n",
      " 29  29      208 non-null    float64\n",
      " 30  30      208 non-null    float64\n",
      " 31  31      208 non-null    float64\n",
      " 32  32      208 non-null    float64\n",
      " 33  33      208 non-null    float64\n",
      " 34  34      208 non-null    float64\n",
      " 35  35      208 non-null    float64\n",
      " 36  36      208 non-null    float64\n",
      " 37  37      208 non-null    float64\n",
      " 38  38      208 non-null    float64\n",
      " 39  39      208 non-null    float64\n",
      " 40  40      208 non-null    float64\n",
      " 41  41      208 non-null    float64\n",
      " 42  42      208 non-null    float64\n",
      " 43  43      208 non-null    float64\n",
      " 44  44      208 non-null    float64\n",
      " 45  45      208 non-null    float64\n",
      " 46  46      208 non-null    float64\n",
      " 47  47      208 non-null    float64\n",
      " 48  48      208 non-null    float64\n",
      " 49  49      208 non-null    float64\n",
      " 50  50      208 non-null    float64\n",
      " 51  51      208 non-null    float64\n",
      " 52  52      208 non-null    float64\n",
      " 53  53      208 non-null    float64\n",
      " 54  54      208 non-null    float64\n",
      " 55  55      208 non-null    float64\n",
      " 56  56      208 non-null    float64\n",
      " 57  57      208 non-null    float64\n",
      " 58  58      208 non-null    float64\n",
      " 59  59      208 non-null    float64\n",
      " 60  60      208 non-null    object \n",
      "dtypes: float64(60), object(1)\n",
      "memory usage: 99.2+ KB\n"
     ]
    }
   ],
   "source": [
    "df.info()"
   ]
  },
  {
   "cell_type": "code",
   "execution_count": 7,
   "id": "9dd1b95a",
   "metadata": {},
   "outputs": [
    {
     "data": {
      "text/plain": [
       "M    111\n",
       "R     97\n",
       "Name: 60, dtype: int64"
      ]
     },
     "execution_count": 7,
     "metadata": {},
     "output_type": "execute_result"
    }
   ],
   "source": [
    "df.iloc[:, 60].value_counts()"
   ]
  },
  {
   "cell_type": "code",
   "execution_count": null,
   "id": "ef609b2b",
   "metadata": {},
   "outputs": [],
   "source": []
  },
  {
   "cell_type": "code",
   "execution_count": 12,
   "id": "cbb4d909",
   "metadata": {},
   "outputs": [],
   "source": [
    "x = df.values[:,:60]\n",
    "y = df.values[:, 60]"
   ]
  },
  {
   "cell_type": "code",
   "execution_count": null,
   "id": "80efe249",
   "metadata": {},
   "outputs": [],
   "source": []
  },
  {
   "cell_type": "code",
   "execution_count": 8,
   "id": "15ef438e",
   "metadata": {},
   "outputs": [],
   "source": [
    "# binary..."
   ]
  },
  {
   "cell_type": "code",
   "execution_count": 18,
   "id": "30e184f2",
   "metadata": {
    "collapsed": true
   },
   "outputs": [
    {
     "data": {
      "text/plain": [
       "array([1, 1, 1, 1, 1, 1, 1, 1, 1, 1, 1, 1, 1, 1, 1, 1, 1, 1, 1, 1, 1, 1,\n",
       "       1, 1, 1, 1, 1, 1, 1, 1, 1, 1, 1, 1, 1, 1, 1, 1, 1, 1, 1, 1, 1, 1,\n",
       "       1, 1, 1, 1, 1, 1, 1, 1, 1, 1, 1, 1, 1, 1, 1, 1, 1, 1, 1, 1, 1, 1,\n",
       "       1, 1, 1, 1, 1, 1, 1, 1, 1, 1, 1, 1, 1, 1, 1, 1, 1, 1, 1, 1, 1, 1,\n",
       "       1, 1, 1, 1, 1, 1, 1, 1, 1, 0, 0, 0, 0, 0, 0, 0, 0, 0, 0, 0, 0, 0,\n",
       "       0, 0, 0, 0, 0, 0, 0, 0, 0, 0, 0, 0, 0, 0, 0, 0, 0, 0, 0, 0, 0, 0,\n",
       "       0, 0, 0, 0, 0, 0, 0, 0, 0, 0, 0, 0, 0, 0, 0, 0, 0, 0, 0, 0, 0, 0,\n",
       "       0, 0, 0, 0, 0, 0, 0, 0, 0, 0, 0, 0, 0, 0, 0, 0, 0, 0, 0, 0, 0, 0,\n",
       "       0, 0, 0, 0, 0, 0, 0, 0, 0, 0, 0, 0, 0, 0, 0, 0, 0, 0, 0, 0, 0, 0,\n",
       "       0, 0, 0, 0, 0, 0, 0, 0, 0, 0])"
      ]
     },
     "execution_count": 18,
     "metadata": {},
     "output_type": "execute_result"
    }
   ],
   "source": [
    "enc = LabelEncoder()\n",
    "y_enc = enc.fit_transform(y)\n",
    "y_enc"
   ]
  },
  {
   "cell_type": "code",
   "execution_count": 19,
   "id": "844b3cc3",
   "metadata": {},
   "outputs": [
    {
     "data": {
      "text/plain": [
       "(208, 60)"
      ]
     },
     "execution_count": 19,
     "metadata": {},
     "output_type": "execute_result"
    }
   ],
   "source": [
    "x.shape"
   ]
  },
  {
   "cell_type": "code",
   "execution_count": 21,
   "id": "bda9a344",
   "metadata": {
    "collapsed": true
   },
   "outputs": [
    {
     "name": "stdout",
     "output_type": "stream",
     "text": [
      "Model: \"sequential\"\n",
      "_________________________________________________________________\n",
      " Layer (type)                Output Shape              Param #   \n",
      "=================================================================\n",
      " dense (Dense)               (None, 24)                1464      \n",
      "                                                                 \n",
      " dense_1 (Dense)             (None, 12)                300       \n",
      "                                                                 \n",
      " dense_2 (Dense)             (None, 6)                 78        \n",
      "                                                                 \n",
      " dense_3 (Dense)             (None, 1)                 7         \n",
      "                                                                 \n",
      "=================================================================\n",
      "Total params: 1,849\n",
      "Trainable params: 1,849\n",
      "Non-trainable params: 0\n",
      "_________________________________________________________________\n"
     ]
    }
   ],
   "source": [
    "model = Sequential()\n",
    "model.add(Dense(24, input_dim=60, activation='relu'))\n",
    "model.add(Dense(12, activation='relu'))\n",
    "model.add(Dense(6, activation='relu'))\n",
    "model.add(Dense(1, activation='sigmoid'))\n",
    "model.summary()"
   ]
  },
  {
   "cell_type": "code",
   "execution_count": null,
   "id": "9b17287b",
   "metadata": {},
   "outputs": [],
   "source": []
  },
  {
   "cell_type": "code",
   "execution_count": 23,
   "id": "0a51eb0f",
   "metadata": {},
   "outputs": [],
   "source": [
    "model.compile(loss='binary_crossentropy', metrics=['accuracy'], optimizer='adam')"
   ]
  },
  {
   "cell_type": "code",
   "execution_count": null,
   "id": "1dede685",
   "metadata": {},
   "outputs": [],
   "source": []
  },
  {
   "cell_type": "code",
   "execution_count": 27,
   "id": "b491e9c2",
   "metadata": {
    "collapsed": true
   },
   "outputs": [
    {
     "name": "stdout",
     "output_type": "stream",
     "text": [
      "Epoch 1/100\n",
      "21/21 [==============================] - 0s 996us/step - loss: 0.1611 - accuracy: 0.9471\n",
      "Epoch 2/100\n",
      "21/21 [==============================] - 0s 1ms/step - loss: 0.1585 - accuracy: 0.9471\n",
      "Epoch 3/100\n",
      "21/21 [==============================] - 0s 898us/step - loss: 0.1536 - accuracy: 0.9567\n",
      "Epoch 4/100\n",
      "21/21 [==============================] - 0s 900us/step - loss: 0.1513 - accuracy: 0.9663\n",
      "Epoch 5/100\n",
      "21/21 [==============================] - 0s 947us/step - loss: 0.1471 - accuracy: 0.9615\n",
      "Epoch 6/100\n",
      "21/21 [==============================] - 0s 857us/step - loss: 0.1402 - accuracy: 0.9567\n",
      "Epoch 7/100\n",
      "21/21 [==============================] - 0s 997us/step - loss: 0.1453 - accuracy: 0.9519\n",
      "Epoch 8/100\n",
      "21/21 [==============================] - 0s 997us/step - loss: 0.1354 - accuracy: 0.9471\n",
      "Epoch 9/100\n",
      "21/21 [==============================] - 0s 947us/step - loss: 0.1274 - accuracy: 0.9615\n",
      "Epoch 10/100\n",
      "21/21 [==============================] - 0s 1ms/step - loss: 0.1211 - accuracy: 0.9712\n",
      "Epoch 11/100\n",
      "21/21 [==============================] - 0s 999us/step - loss: 0.1150 - accuracy: 0.9615\n",
      "Epoch 12/100\n",
      "21/21 [==============================] - 0s 841us/step - loss: 0.1164 - accuracy: 0.9663\n",
      "Epoch 13/100\n",
      "21/21 [==============================] - 0s 898us/step - loss: 0.1089 - accuracy: 0.9712\n",
      "Epoch 14/100\n",
      "21/21 [==============================] - 0s 947us/step - loss: 0.1260 - accuracy: 0.9615\n",
      "Epoch 15/100\n",
      "21/21 [==============================] - 0s 1ms/step - loss: 0.1076 - accuracy: 0.9712\n",
      "Epoch 16/100\n",
      "21/21 [==============================] - 0s 901us/step - loss: 0.1001 - accuracy: 0.9760\n",
      "Epoch 17/100\n",
      "21/21 [==============================] - 0s 994us/step - loss: 0.0979 - accuracy: 0.9712\n",
      "Epoch 18/100\n",
      "21/21 [==============================] - 0s 1ms/step - loss: 0.1032 - accuracy: 0.9712\n",
      "Epoch 19/100\n",
      "21/21 [==============================] - 0s 1ms/step - loss: 0.0913 - accuracy: 0.9760\n",
      "Epoch 20/100\n",
      "21/21 [==============================] - 0s 949us/step - loss: 0.0874 - accuracy: 0.9856\n",
      "Epoch 21/100\n",
      "21/21 [==============================] - 0s 947us/step - loss: 0.0837 - accuracy: 0.9808\n",
      "Epoch 22/100\n",
      "21/21 [==============================] - 0s 848us/step - loss: 0.0812 - accuracy: 0.9808\n",
      "Epoch 23/100\n",
      "21/21 [==============================] - 0s 848us/step - loss: 0.0781 - accuracy: 0.9856\n",
      "Epoch 24/100\n",
      "21/21 [==============================] - 0s 952us/step - loss: 0.0765 - accuracy: 0.9808\n",
      "Epoch 25/100\n",
      "21/21 [==============================] - 0s 994us/step - loss: 0.0758 - accuracy: 0.9904\n",
      "Epoch 26/100\n",
      "21/21 [==============================] - 0s 848us/step - loss: 0.0769 - accuracy: 0.9856\n",
      "Epoch 27/100\n",
      "21/21 [==============================] - 0s 898us/step - loss: 0.0809 - accuracy: 0.9808\n",
      "Epoch 28/100\n",
      "21/21 [==============================] - 0s 947us/step - loss: 0.0668 - accuracy: 0.9856\n",
      "Epoch 29/100\n",
      "21/21 [==============================] - 0s 1ms/step - loss: 0.0952 - accuracy: 0.9663\n",
      "Epoch 30/100\n",
      "21/21 [==============================] - 0s 929us/step - loss: 0.0673 - accuracy: 0.9856\n",
      "Epoch 31/100\n",
      "21/21 [==============================] - 0s 872us/step - loss: 0.0620 - accuracy: 0.9904\n",
      "Epoch 32/100\n",
      "21/21 [==============================] - 0s 889us/step - loss: 0.0574 - accuracy: 0.9856\n",
      "Epoch 33/100\n",
      "21/21 [==============================] - 0s 846us/step - loss: 0.0597 - accuracy: 0.9952\n",
      "Epoch 34/100\n",
      "21/21 [==============================] - 0s 849us/step - loss: 0.0541 - accuracy: 1.0000\n",
      "Epoch 35/100\n",
      "21/21 [==============================] - 0s 999us/step - loss: 0.0500 - accuracy: 0.9952\n",
      "Epoch 36/100\n",
      "21/21 [==============================] - 0s 948us/step - loss: 0.0513 - accuracy: 1.0000\n",
      "Epoch 37/100\n",
      "21/21 [==============================] - 0s 1ms/step - loss: 0.0469 - accuracy: 1.0000\n",
      "Epoch 38/100\n",
      "21/21 [==============================] - 0s 1ms/step - loss: 0.0462 - accuracy: 1.0000\n",
      "Epoch 39/100\n",
      "21/21 [==============================] - 0s 1ms/step - loss: 0.0470 - accuracy: 1.0000\n",
      "Epoch 40/100\n",
      "21/21 [==============================] - 0s 1ms/step - loss: 0.0467 - accuracy: 0.9952\n",
      "Epoch 41/100\n",
      "21/21 [==============================] - 0s 997us/step - loss: 0.0454 - accuracy: 1.0000\n",
      "Epoch 42/100\n",
      "21/21 [==============================] - 0s 948us/step - loss: 0.0379 - accuracy: 1.0000\n",
      "Epoch 43/100\n",
      "21/21 [==============================] - 0s 798us/step - loss: 0.0373 - accuracy: 1.0000\n",
      "Epoch 44/100\n",
      "21/21 [==============================] - 0s 748us/step - loss: 0.0370 - accuracy: 1.0000\n",
      "Epoch 45/100\n",
      "21/21 [==============================] - 0s 898us/step - loss: 0.0352 - accuracy: 1.0000\n",
      "Epoch 46/100\n",
      "21/21 [==============================] - 0s 943us/step - loss: 0.0353 - accuracy: 1.0000\n",
      "Epoch 47/100\n",
      "21/21 [==============================] - 0s 997us/step - loss: 0.0336 - accuracy: 1.0000\n",
      "Epoch 48/100\n",
      "21/21 [==============================] - 0s 848us/step - loss: 0.0366 - accuracy: 1.0000\n",
      "Epoch 49/100\n",
      "21/21 [==============================] - 0s 996us/step - loss: 0.0358 - accuracy: 1.0000\n",
      "Epoch 50/100\n",
      "21/21 [==============================] - 0s 896us/step - loss: 0.0316 - accuracy: 1.0000\n",
      "Epoch 51/100\n",
      "21/21 [==============================] - 0s 798us/step - loss: 0.0308 - accuracy: 1.0000\n",
      "Epoch 52/100\n",
      "21/21 [==============================] - 0s 900us/step - loss: 0.0307 - accuracy: 1.0000\n",
      "Epoch 53/100\n",
      "21/21 [==============================] - 0s 1ms/step - loss: 0.0295 - accuracy: 1.0000\n",
      "Epoch 54/100\n",
      "21/21 [==============================] - 0s 1ms/step - loss: 0.0296 - accuracy: 1.0000\n",
      "Epoch 55/100\n",
      "21/21 [==============================] - 0s 895us/step - loss: 0.0274 - accuracy: 1.0000\n",
      "Epoch 56/100\n",
      "21/21 [==============================] - 0s 855us/step - loss: 0.0257 - accuracy: 1.0000\n",
      "Epoch 57/100\n",
      "21/21 [==============================] - 0s 1ms/step - loss: 0.0237 - accuracy: 1.0000\n",
      "Epoch 58/100\n",
      "21/21 [==============================] - 0s 849us/step - loss: 0.0240 - accuracy: 1.0000\n",
      "Epoch 59/100\n",
      "21/21 [==============================] - 0s 897us/step - loss: 0.0216 - accuracy: 1.0000\n",
      "Epoch 60/100\n",
      "21/21 [==============================] - 0s 898us/step - loss: 0.0206 - accuracy: 1.0000\n",
      "Epoch 61/100\n",
      "21/21 [==============================] - 0s 997us/step - loss: 0.0211 - accuracy: 1.0000\n",
      "Epoch 62/100\n",
      "21/21 [==============================] - 0s 849us/step - loss: 0.0192 - accuracy: 1.0000\n",
      "Epoch 63/100\n",
      "21/21 [==============================] - 0s 799us/step - loss: 0.0188 - accuracy: 1.0000\n",
      "Epoch 64/100\n",
      "21/21 [==============================] - 0s 848us/step - loss: 0.0177 - accuracy: 1.0000\n",
      "Epoch 65/100\n",
      "21/21 [==============================] - 0s 1ms/step - loss: 0.0179 - accuracy: 1.0000\n",
      "Epoch 66/100\n",
      "21/21 [==============================] - 0s 1ms/step - loss: 0.0181 - accuracy: 1.0000\n",
      "Epoch 67/100\n",
      "21/21 [==============================] - 0s 947us/step - loss: 0.0177 - accuracy: 1.0000\n",
      "Epoch 68/100\n",
      "21/21 [==============================] - 0s 969us/step - loss: 0.0162 - accuracy: 1.0000\n",
      "Epoch 69/100\n",
      "21/21 [==============================] - 0s 798us/step - loss: 0.0154 - accuracy: 1.0000\n",
      "Epoch 70/100\n",
      "21/21 [==============================] - 0s 930us/step - loss: 0.0145 - accuracy: 1.0000\n",
      "Epoch 71/100\n",
      "21/21 [==============================] - 0s 898us/step - loss: 0.0137 - accuracy: 1.0000\n",
      "Epoch 72/100\n",
      "21/21 [==============================] - 0s 946us/step - loss: 0.0141 - accuracy: 1.0000\n",
      "Epoch 73/100\n",
      "21/21 [==============================] - 0s 927us/step - loss: 0.0143 - accuracy: 1.0000\n",
      "Epoch 74/100\n",
      "21/21 [==============================] - 0s 896us/step - loss: 0.0132 - accuracy: 1.0000\n",
      "Epoch 75/100\n",
      "21/21 [==============================] - 0s 898us/step - loss: 0.0123 - accuracy: 1.0000\n",
      "Epoch 76/100\n",
      "21/21 [==============================] - 0s 1ms/step - loss: 0.0119 - accuracy: 1.0000\n",
      "Epoch 77/100\n",
      "21/21 [==============================] - 0s 890us/step - loss: 0.0114 - accuracy: 1.0000\n",
      "Epoch 78/100\n",
      "21/21 [==============================] - 0s 896us/step - loss: 0.0119 - accuracy: 1.0000\n",
      "Epoch 79/100\n",
      "21/21 [==============================] - 0s 873us/step - loss: 0.0112 - accuracy: 1.0000\n",
      "Epoch 80/100\n",
      "21/21 [==============================] - 0s 798us/step - loss: 0.0115 - accuracy: 1.0000\n",
      "Epoch 81/100\n"
     ]
    },
    {
     "name": "stdout",
     "output_type": "stream",
     "text": [
      "21/21 [==============================] - 0s 848us/step - loss: 0.0100 - accuracy: 1.0000\n",
      "Epoch 82/100\n",
      "21/21 [==============================] - 0s 998us/step - loss: 0.0099 - accuracy: 1.0000\n",
      "Epoch 83/100\n",
      "21/21 [==============================] - 0s 896us/step - loss: 0.0100 - accuracy: 1.0000\n",
      "Epoch 84/100\n",
      "21/21 [==============================] - 0s 916us/step - loss: 0.0095 - accuracy: 1.0000\n",
      "Epoch 85/100\n",
      "21/21 [==============================] - 0s 898us/step - loss: 0.0090 - accuracy: 1.0000\n",
      "Epoch 86/100\n",
      "21/21 [==============================] - 0s 1ms/step - loss: 0.0107 - accuracy: 1.0000\n",
      "Epoch 87/100\n",
      "21/21 [==============================] - 0s 848us/step - loss: 0.0089 - accuracy: 1.0000\n",
      "Epoch 88/100\n",
      "21/21 [==============================] - 0s 898us/step - loss: 0.0087 - accuracy: 1.0000\n",
      "Epoch 89/100\n",
      "21/21 [==============================] - 0s 846us/step - loss: 0.0087 - accuracy: 1.0000\n",
      "Epoch 90/100\n",
      "21/21 [==============================] - 0s 947us/step - loss: 0.0087 - accuracy: 1.0000\n",
      "Epoch 91/100\n",
      "21/21 [==============================] - 0s 898us/step - loss: 0.0081 - accuracy: 1.0000\n",
      "Epoch 92/100\n",
      "21/21 [==============================] - 0s 897us/step - loss: 0.0077 - accuracy: 1.0000\n",
      "Epoch 93/100\n",
      "21/21 [==============================] - 0s 848us/step - loss: 0.0093 - accuracy: 1.0000\n",
      "Epoch 94/100\n",
      "21/21 [==============================] - 0s 947us/step - loss: 0.0086 - accuracy: 1.0000\n",
      "Epoch 95/100\n",
      "21/21 [==============================] - 0s 1ms/step - loss: 0.0070 - accuracy: 1.0000\n",
      "Epoch 96/100\n",
      "21/21 [==============================] - 0s 848us/step - loss: 0.0066 - accuracy: 1.0000\n",
      "Epoch 97/100\n",
      "21/21 [==============================] - 0s 834us/step - loss: 0.0068 - accuracy: 1.0000\n",
      "Epoch 98/100\n",
      "21/21 [==============================] - 0s 947us/step - loss: 0.0066 - accuracy: 1.0000\n",
      "Epoch 99/100\n",
      "21/21 [==============================] - 0s 899us/step - loss: 0.0061 - accuracy: 1.0000\n",
      "Epoch 100/100\n",
      "21/21 [==============================] - 0s 848us/step - loss: 0.0064 - accuracy: 1.0000\n"
     ]
    },
    {
     "data": {
      "text/plain": [
       "<keras.callbacks.History at 0x1bfee0b4fd0>"
      ]
     },
     "execution_count": 27,
     "metadata": {},
     "output_type": "execute_result"
    }
   ],
   "source": [
    "model.fit(x.astype(float), y_enc, epochs=100, batch_size=10)"
   ]
  },
  {
   "cell_type": "code",
   "execution_count": null,
   "id": "9fee1c68",
   "metadata": {},
   "outputs": [],
   "source": []
  },
  {
   "cell_type": "code",
   "execution_count": 28,
   "id": "cf44aa55",
   "metadata": {},
   "outputs": [],
   "source": [
    "# multiclassification..."
   ]
  },
  {
   "cell_type": "code",
   "execution_count": 33,
   "id": "7b614ff9",
   "metadata": {},
   "outputs": [],
   "source": [
    "y_oh = tf.keras.utils.to_categorical(y_enc)"
   ]
  },
  {
   "cell_type": "code",
   "execution_count": 30,
   "id": "473c0a8e",
   "metadata": {
    "collapsed": true
   },
   "outputs": [
    {
     "name": "stdout",
     "output_type": "stream",
     "text": [
      "Model: \"sequential_2\"\n",
      "_________________________________________________________________\n",
      " Layer (type)                Output Shape              Param #   \n",
      "=================================================================\n",
      " dense_6 (Dense)             (None, 24)                1464      \n",
      "                                                                 \n",
      " dense_7 (Dense)             (None, 12)                300       \n",
      "                                                                 \n",
      " dense_8 (Dense)             (None, 6)                 78        \n",
      "                                                                 \n",
      " dense_9 (Dense)             (None, 2)                 14        \n",
      "                                                                 \n",
      "=================================================================\n",
      "Total params: 1,856\n",
      "Trainable params: 1,856\n",
      "Non-trainable params: 0\n",
      "_________________________________________________________________\n"
     ]
    }
   ],
   "source": [
    "model = Sequential()\n",
    "model.add(Dense(24, activation='relu', input_dim=60))\n",
    "model.add(Dense(12, activation='relu'))\n",
    "model.add(Dense(6, activation='relu'))\n",
    "model.add(Dense(2, activation='softmax'))\n",
    "model.summary()"
   ]
  },
  {
   "cell_type": "code",
   "execution_count": 31,
   "id": "e8a165a9",
   "metadata": {},
   "outputs": [],
   "source": [
    "model.compile(loss='categorical_crossentropy', metrics=['accuracy'], optimizer='adam')"
   ]
  },
  {
   "cell_type": "code",
   "execution_count": 35,
   "id": "c7575e8c",
   "metadata": {
    "collapsed": true
   },
   "outputs": [
    {
     "name": "stdout",
     "output_type": "stream",
     "text": [
      "Epoch 1/100\n",
      "21/21 [==============================] - 0s 898us/step - loss: 0.6834 - accuracy: 0.5385\n",
      "Epoch 2/100\n",
      "21/21 [==============================] - 0s 996us/step - loss: 0.6611 - accuracy: 0.5865\n",
      "Epoch 3/100\n",
      "21/21 [==============================] - 0s 1ms/step - loss: 0.6369 - accuracy: 0.6587\n",
      "Epoch 4/100\n",
      "21/21 [==============================] - 0s 873us/step - loss: 0.6157 - accuracy: 0.6923\n",
      "Epoch 5/100\n",
      "21/21 [==============================] - 0s 840us/step - loss: 0.5940 - accuracy: 0.7019\n",
      "Epoch 6/100\n",
      "21/21 [==============================] - 0s 899us/step - loss: 0.5799 - accuracy: 0.7260\n",
      "Epoch 7/100\n",
      "21/21 [==============================] - 0s 899us/step - loss: 0.5408 - accuracy: 0.7500\n",
      "Epoch 8/100\n",
      "21/21 [==============================] - 0s 936us/step - loss: 0.5278 - accuracy: 0.7692\n",
      "Epoch 9/100\n",
      "21/21 [==============================] - 0s 846us/step - loss: 0.4905 - accuracy: 0.7788\n",
      "Epoch 10/100\n",
      "21/21 [==============================] - 0s 996us/step - loss: 0.4715 - accuracy: 0.7788\n",
      "Epoch 11/100\n",
      "21/21 [==============================] - 0s 950us/step - loss: 0.4517 - accuracy: 0.8077\n",
      "Epoch 12/100\n",
      "21/21 [==============================] - 0s 946us/step - loss: 0.4465 - accuracy: 0.8125\n",
      "Epoch 13/100\n",
      "21/21 [==============================] - 0s 1ms/step - loss: 0.4245 - accuracy: 0.8269\n",
      "Epoch 14/100\n",
      "21/21 [==============================] - 0s 1ms/step - loss: 0.4024 - accuracy: 0.8221\n",
      "Epoch 15/100\n",
      "21/21 [==============================] - 0s 848us/step - loss: 0.4002 - accuracy: 0.8462\n",
      "Epoch 16/100\n",
      "21/21 [==============================] - 0s 886us/step - loss: 0.3769 - accuracy: 0.8365\n",
      "Epoch 17/100\n",
      "21/21 [==============================] - 0s 846us/step - loss: 0.3662 - accuracy: 0.8462\n",
      "Epoch 18/100\n",
      "21/21 [==============================] - 0s 997us/step - loss: 0.3857 - accuracy: 0.8365\n",
      "Epoch 19/100\n",
      "21/21 [==============================] - 0s 898us/step - loss: 0.3582 - accuracy: 0.8413\n",
      "Epoch 20/100\n",
      "21/21 [==============================] - 0s 924us/step - loss: 0.3388 - accuracy: 0.8702\n",
      "Epoch 21/100\n",
      "21/21 [==============================] - 0s 897us/step - loss: 0.3224 - accuracy: 0.8654\n",
      "Epoch 22/100\n",
      "21/21 [==============================] - 0s 1ms/step - loss: 0.3101 - accuracy: 0.8606\n",
      "Epoch 23/100\n",
      "21/21 [==============================] - 0s 896us/step - loss: 0.3257 - accuracy: 0.8654\n",
      "Epoch 24/100\n",
      "21/21 [==============================] - 0s 896us/step - loss: 0.3320 - accuracy: 0.8317\n",
      "Epoch 25/100\n",
      "21/21 [==============================] - 0s 799us/step - loss: 0.3250 - accuracy: 0.8558\n",
      "Epoch 26/100\n",
      "21/21 [==============================] - 0s 933us/step - loss: 0.2843 - accuracy: 0.8894\n",
      "Epoch 27/100\n",
      "21/21 [==============================] - 0s 861us/step - loss: 0.2900 - accuracy: 0.8798\n",
      "Epoch 28/100\n",
      "21/21 [==============================] - 0s 866us/step - loss: 0.2730 - accuracy: 0.9087\n",
      "Epoch 29/100\n",
      "21/21 [==============================] - 0s 997us/step - loss: 0.2648 - accuracy: 0.8990\n",
      "Epoch 30/100\n",
      "21/21 [==============================] - 0s 948us/step - loss: 0.2627 - accuracy: 0.8942\n",
      "Epoch 31/100\n",
      "21/21 [==============================] - 0s 947us/step - loss: 0.2457 - accuracy: 0.8990\n",
      "Epoch 32/100\n",
      "21/21 [==============================] - 0s 1ms/step - loss: 0.2359 - accuracy: 0.9279\n",
      "Epoch 33/100\n",
      "21/21 [==============================] - 0s 897us/step - loss: 0.2263 - accuracy: 0.9231\n",
      "Epoch 34/100\n",
      "21/21 [==============================] - 0s 947us/step - loss: 0.2206 - accuracy: 0.9375\n",
      "Epoch 35/100\n",
      "21/21 [==============================] - 0s 998us/step - loss: 0.2146 - accuracy: 0.9423\n",
      "Epoch 36/100\n",
      "21/21 [==============================] - 0s 921us/step - loss: 0.2185 - accuracy: 0.9135\n",
      "Epoch 37/100\n",
      "21/21 [==============================] - 0s 865us/step - loss: 0.2156 - accuracy: 0.9087\n",
      "Epoch 38/100\n",
      "21/21 [==============================] - 0s 997us/step - loss: 0.2061 - accuracy: 0.9087\n",
      "Epoch 39/100\n",
      "21/21 [==============================] - 0s 898us/step - loss: 0.1949 - accuracy: 0.9231\n",
      "Epoch 40/100\n",
      "21/21 [==============================] - 0s 848us/step - loss: 0.2021 - accuracy: 0.9087\n",
      "Epoch 41/100\n",
      "21/21 [==============================] - 0s 799us/step - loss: 0.1883 - accuracy: 0.9423\n",
      "Epoch 42/100\n",
      "21/21 [==============================] - 0s 948us/step - loss: 0.1880 - accuracy: 0.9279\n",
      "Epoch 43/100\n",
      "21/21 [==============================] - 0s 948us/step - loss: 0.1676 - accuracy: 0.9471\n",
      "Epoch 44/100\n",
      "21/21 [==============================] - 0s 949us/step - loss: 0.1708 - accuracy: 0.9231\n",
      "Epoch 45/100\n",
      "21/21 [==============================] - 0s 846us/step - loss: 0.1589 - accuracy: 0.9423\n",
      "Epoch 46/100\n",
      "21/21 [==============================] - 0s 946us/step - loss: 0.1551 - accuracy: 0.9423\n",
      "Epoch 47/100\n",
      "21/21 [==============================] - 0s 949us/step - loss: 0.1517 - accuracy: 0.9615\n",
      "Epoch 48/100\n",
      "21/21 [==============================] - 0s 896us/step - loss: 0.1440 - accuracy: 0.9519\n",
      "Epoch 49/100\n",
      "21/21 [==============================] - 0s 910us/step - loss: 0.1375 - accuracy: 0.9567\n",
      "Epoch 50/100\n",
      "21/21 [==============================] - 0s 1ms/step - loss: 0.1315 - accuracy: 0.9615\n",
      "Epoch 51/100\n",
      "21/21 [==============================] - 0s 1ms/step - loss: 0.1250 - accuracy: 0.9712\n",
      "Epoch 52/100\n",
      "21/21 [==============================] - 0s 898us/step - loss: 0.1319 - accuracy: 0.9519\n",
      "Epoch 53/100\n",
      "21/21 [==============================] - 0s 807us/step - loss: 0.1348 - accuracy: 0.9712\n",
      "Epoch 54/100\n",
      "21/21 [==============================] - 0s 995us/step - loss: 0.1277 - accuracy: 0.9567\n",
      "Epoch 55/100\n",
      "21/21 [==============================] - 0s 946us/step - loss: 0.1158 - accuracy: 0.9760\n",
      "Epoch 56/100\n",
      "21/21 [==============================] - 0s 872us/step - loss: 0.1046 - accuracy: 0.9760\n",
      "Epoch 57/100\n",
      "21/21 [==============================] - 0s 921us/step - loss: 0.1121 - accuracy: 0.9808\n",
      "Epoch 58/100\n",
      "21/21 [==============================] - 0s 916us/step - loss: 0.1149 - accuracy: 0.9615\n",
      "Epoch 59/100\n",
      "21/21 [==============================] - 0s 847us/step - loss: 0.0995 - accuracy: 0.9760\n",
      "Epoch 60/100\n",
      "21/21 [==============================] - 0s 897us/step - loss: 0.0937 - accuracy: 0.9760\n",
      "Epoch 61/100\n",
      "21/21 [==============================] - 0s 1ms/step - loss: 0.0890 - accuracy: 0.9808\n",
      "Epoch 62/100\n",
      "21/21 [==============================] - 0s 848us/step - loss: 0.0910 - accuracy: 0.9663\n",
      "Epoch 63/100\n",
      "21/21 [==============================] - 0s 860us/step - loss: 0.0890 - accuracy: 0.9856\n",
      "Epoch 64/100\n",
      "21/21 [==============================] - 0s 798us/step - loss: 0.0819 - accuracy: 0.9904\n",
      "Epoch 65/100\n",
      "21/21 [==============================] - 0s 946us/step - loss: 0.0770 - accuracy: 0.9904\n",
      "Epoch 66/100\n",
      "21/21 [==============================] - 0s 892us/step - loss: 0.0739 - accuracy: 0.9856\n",
      "Epoch 67/100\n",
      "21/21 [==============================] - 0s 898us/step - loss: 0.0735 - accuracy: 0.9904\n",
      "Epoch 68/100\n",
      "21/21 [==============================] - 0s 841us/step - loss: 0.0667 - accuracy: 0.9904\n",
      "Epoch 69/100\n",
      "21/21 [==============================] - 0s 819us/step - loss: 0.0715 - accuracy: 0.9904\n",
      "Epoch 70/100\n",
      "21/21 [==============================] - 0s 846us/step - loss: 0.0697 - accuracy: 0.9856\n",
      "Epoch 71/100\n",
      "21/21 [==============================] - 0s 1ms/step - loss: 0.0634 - accuracy: 0.9904\n",
      "Epoch 72/100\n",
      "21/21 [==============================] - 0s 1ms/step - loss: 0.0592 - accuracy: 0.9904\n",
      "Epoch 73/100\n",
      "21/21 [==============================] - 0s 1ms/step - loss: 0.0579 - accuracy: 0.9952\n",
      "Epoch 74/100\n",
      "21/21 [==============================] - 0s 947us/step - loss: 0.0625 - accuracy: 0.9904\n",
      "Epoch 75/100\n",
      "21/21 [==============================] - 0s 898us/step - loss: 0.0608 - accuracy: 0.9808\n",
      "Epoch 76/100\n",
      "21/21 [==============================] - 0s 799us/step - loss: 0.0528 - accuracy: 0.9856\n",
      "Epoch 77/100\n",
      "21/21 [==============================] - 0s 1ms/step - loss: 0.0539 - accuracy: 0.9952\n",
      "Epoch 78/100\n",
      "21/21 [==============================] - 0s 995us/step - loss: 0.0476 - accuracy: 0.9904\n",
      "Epoch 79/100\n",
      "21/21 [==============================] - 0s 948us/step - loss: 0.0476 - accuracy: 0.9904\n",
      "Epoch 80/100\n",
      "21/21 [==============================] - 0s 1ms/step - loss: 0.0503 - accuracy: 0.9952\n",
      "Epoch 81/100\n"
     ]
    },
    {
     "name": "stdout",
     "output_type": "stream",
     "text": [
      "21/21 [==============================] - 0s 947us/step - loss: 0.0459 - accuracy: 0.9904\n",
      "Epoch 82/100\n",
      "21/21 [==============================] - 0s 897us/step - loss: 0.0482 - accuracy: 0.9904\n",
      "Epoch 83/100\n",
      "21/21 [==============================] - 0s 848us/step - loss: 0.0448 - accuracy: 0.9952\n",
      "Epoch 84/100\n",
      "21/21 [==============================] - 0s 947us/step - loss: 0.0430 - accuracy: 0.9904\n",
      "Epoch 85/100\n",
      "21/21 [==============================] - 0s 797us/step - loss: 0.0390 - accuracy: 0.9952\n",
      "Epoch 86/100\n",
      "21/21 [==============================] - 0s 896us/step - loss: 0.0349 - accuracy: 0.9904\n",
      "Epoch 87/100\n",
      "21/21 [==============================] - 0s 896us/step - loss: 0.0325 - accuracy: 0.9952\n",
      "Epoch 88/100\n",
      "21/21 [==============================] - 0s 897us/step - loss: 0.0392 - accuracy: 0.9952\n",
      "Epoch 89/100\n",
      "21/21 [==============================] - 0s 947us/step - loss: 0.0427 - accuracy: 0.9952\n",
      "Epoch 90/100\n",
      "21/21 [==============================] - 0s 896us/step - loss: 0.0426 - accuracy: 0.9904\n",
      "Epoch 91/100\n",
      "21/21 [==============================] - 0s 798us/step - loss: 0.0355 - accuracy: 0.9904\n",
      "Epoch 92/100\n",
      "21/21 [==============================] - 0s 846us/step - loss: 0.0288 - accuracy: 0.9952\n",
      "Epoch 93/100\n",
      "21/21 [==============================] - 0s 848us/step - loss: 0.0272 - accuracy: 0.9952\n",
      "Epoch 94/100\n",
      "21/21 [==============================] - 0s 947us/step - loss: 0.0382 - accuracy: 0.9904\n",
      "Epoch 95/100\n",
      "21/21 [==============================] - 0s 948us/step - loss: 0.0289 - accuracy: 0.9952\n",
      "Epoch 96/100\n",
      "21/21 [==============================] - 0s 898us/step - loss: 0.0310 - accuracy: 1.0000\n",
      "Epoch 97/100\n",
      "21/21 [==============================] - 0s 945us/step - loss: 0.0263 - accuracy: 0.9952\n",
      "Epoch 98/100\n",
      "21/21 [==============================] - 0s 798us/step - loss: 0.0293 - accuracy: 0.9952\n",
      "Epoch 99/100\n",
      "21/21 [==============================] - 0s 1ms/step - loss: 0.0234 - accuracy: 0.9952\n",
      "Epoch 100/100\n",
      "21/21 [==============================] - 0s 898us/step - loss: 0.0215 - accuracy: 0.9952\n"
     ]
    },
    {
     "data": {
      "text/plain": [
       "<keras.callbacks.History at 0x1bfee187580>"
      ]
     },
     "execution_count": 35,
     "metadata": {},
     "output_type": "execute_result"
    }
   ],
   "source": [
    "model.fit(x.astype(float), y_oh, epochs=100, batch_size=10)"
   ]
  },
  {
   "cell_type": "code",
   "execution_count": 36,
   "id": "a7cb0b24",
   "metadata": {},
   "outputs": [
    {
     "name": "stdout",
     "output_type": "stream",
     "text": [
      "7/7 [==============================] - 0s 831us/step - loss: 0.0308 - accuracy: 0.9952\n"
     ]
    },
    {
     "data": {
      "text/plain": [
       "[0.03081272728741169, 0.995192289352417]"
      ]
     },
     "execution_count": 36,
     "metadata": {},
     "output_type": "execute_result"
    }
   ],
   "source": [
    "model.evaluate(x.astype(float), y_oh)"
   ]
  },
  {
   "cell_type": "code",
   "execution_count": null,
   "id": "6d02f6cd",
   "metadata": {},
   "outputs": [],
   "source": []
  },
  {
   "cell_type": "code",
   "execution_count": null,
   "id": "d71cd5d0",
   "metadata": {},
   "outputs": [],
   "source": [
    "# train_test_split"
   ]
  },
  {
   "cell_type": "code",
   "execution_count": 37,
   "id": "1440afcb",
   "metadata": {},
   "outputs": [],
   "source": [
    "from sklearn.model_selection import train_test_split\n",
    "x_train, x_test, y_train, y_test = train_test_split(x.astype(float), y_oh)"
   ]
  },
  {
   "cell_type": "code",
   "execution_count": 38,
   "id": "4188c249",
   "metadata": {
    "collapsed": true
   },
   "outputs": [
    {
     "name": "stdout",
     "output_type": "stream",
     "text": [
      "Epoch 1/100\n",
      "16/16 [==============================] - 0s 972us/step - loss: 0.0245 - accuracy: 0.9936\n",
      "Epoch 2/100\n",
      "16/16 [==============================] - 0s 1ms/step - loss: 0.0189 - accuracy: 1.0000\n",
      "Epoch 3/100\n",
      "16/16 [==============================] - 0s 931us/step - loss: 0.0184 - accuracy: 1.0000\n",
      "Epoch 4/100\n",
      "16/16 [==============================] - 0s 931us/step - loss: 0.0174 - accuracy: 1.0000\n",
      "Epoch 5/100\n",
      "16/16 [==============================] - 0s 999us/step - loss: 0.0174 - accuracy: 1.0000\n",
      "Epoch 6/100\n",
      "16/16 [==============================] - 0s 1ms/step - loss: 0.0178 - accuracy: 0.9936\n",
      "Epoch 7/100\n",
      "16/16 [==============================] - 0s 995us/step - loss: 0.0148 - accuracy: 1.0000\n",
      "Epoch 8/100\n",
      "16/16 [==============================] - 0s 1ms/step - loss: 0.0162 - accuracy: 1.0000\n",
      "Epoch 9/100\n",
      "16/16 [==============================] - 0s 997us/step - loss: 0.0152 - accuracy: 1.0000\n",
      "Epoch 10/100\n",
      "16/16 [==============================] - 0s 998us/step - loss: 0.0136 - accuracy: 1.0000\n",
      "Epoch 11/100\n",
      "16/16 [==============================] - 0s 1ms/step - loss: 0.0131 - accuracy: 1.0000\n",
      "Epoch 12/100\n",
      "16/16 [==============================] - 0s 863us/step - loss: 0.0123 - accuracy: 1.0000\n",
      "Epoch 13/100\n",
      "16/16 [==============================] - 0s 864us/step - loss: 0.0122 - accuracy: 1.0000\n",
      "Epoch 14/100\n",
      "16/16 [==============================] - 0s 931us/step - loss: 0.0116 - accuracy: 1.0000\n",
      "Epoch 15/100\n",
      "16/16 [==============================] - 0s 931us/step - loss: 0.0111 - accuracy: 1.0000\n",
      "Epoch 16/100\n",
      "16/16 [==============================] - 0s 997us/step - loss: 0.0112 - accuracy: 1.0000\n",
      "Epoch 17/100\n",
      "16/16 [==============================] - 0s 862us/step - loss: 0.0117 - accuracy: 1.0000\n",
      "Epoch 18/100\n",
      "16/16 [==============================] - 0s 925us/step - loss: 0.0104 - accuracy: 1.0000\n",
      "Epoch 19/100\n",
      "16/16 [==============================] - 0s 931us/step - loss: 0.0097 - accuracy: 1.0000\n",
      "Epoch 20/100\n",
      "16/16 [==============================] - 0s 1ms/step - loss: 0.0099 - accuracy: 1.0000\n",
      "Epoch 21/100\n",
      "16/16 [==============================] - 0s 1ms/step - loss: 0.0098 - accuracy: 1.0000\n",
      "Epoch 22/100\n",
      "16/16 [==============================] - 0s 1ms/step - loss: 0.0091 - accuracy: 1.0000\n",
      "Epoch 23/100\n",
      "16/16 [==============================] - 0s 1ms/step - loss: 0.0092 - accuracy: 1.0000\n",
      "Epoch 24/100\n",
      "16/16 [==============================] - 0s 1ms/step - loss: 0.0087 - accuracy: 1.0000\n",
      "Epoch 25/100\n",
      "16/16 [==============================] - 0s 931us/step - loss: 0.0093 - accuracy: 1.0000\n",
      "Epoch 26/100\n",
      "16/16 [==============================] - 0s 1ms/step - loss: 0.0089 - accuracy: 1.0000\n",
      "Epoch 27/100\n",
      "16/16 [==============================] - 0s 974us/step - loss: 0.0094 - accuracy: 1.0000\n",
      "Epoch 28/100\n",
      "16/16 [==============================] - 0s 798us/step - loss: 0.0076 - accuracy: 1.0000\n",
      "Epoch 29/100\n",
      "16/16 [==============================] - 0s 731us/step - loss: 0.0072 - accuracy: 1.0000\n",
      "Epoch 30/100\n",
      "16/16 [==============================] - 0s 731us/step - loss: 0.0073 - accuracy: 1.0000\n",
      "Epoch 31/100\n",
      "16/16 [==============================] - 0s 798us/step - loss: 0.0069 - accuracy: 1.0000\n",
      "Epoch 32/100\n",
      "16/16 [==============================] - 0s 838us/step - loss: 0.0067 - accuracy: 1.0000\n",
      "Epoch 33/100\n",
      "16/16 [==============================] - 0s 930us/step - loss: 0.0067 - accuracy: 1.0000\n",
      "Epoch 34/100\n",
      "16/16 [==============================] - 0s 864us/step - loss: 0.0069 - accuracy: 1.0000\n",
      "Epoch 35/100\n",
      "16/16 [==============================] - 0s 933us/step - loss: 0.0062 - accuracy: 1.0000\n",
      "Epoch 36/100\n",
      "16/16 [==============================] - 0s 931us/step - loss: 0.0065 - accuracy: 1.0000\n",
      "Epoch 37/100\n",
      "16/16 [==============================] - 0s 867us/step - loss: 0.0060 - accuracy: 1.0000\n",
      "Epoch 38/100\n",
      "16/16 [==============================] - 0s 898us/step - loss: 0.0060 - accuracy: 1.0000\n",
      "Epoch 39/100\n",
      "16/16 [==============================] - 0s 866us/step - loss: 0.0059 - accuracy: 1.0000\n",
      "Epoch 40/100\n",
      "16/16 [==============================] - 0s 864us/step - loss: 0.0065 - accuracy: 1.0000\n",
      "Epoch 41/100\n",
      "16/16 [==============================] - 0s 799us/step - loss: 0.0054 - accuracy: 1.0000\n",
      "Epoch 42/100\n",
      "16/16 [==============================] - 0s 931us/step - loss: 0.0054 - accuracy: 1.0000\n",
      "Epoch 43/100\n",
      "16/16 [==============================] - 0s 1ms/step - loss: 0.0053 - accuracy: 1.0000\n",
      "Epoch 44/100\n",
      "16/16 [==============================] - 0s 863us/step - loss: 0.0050 - accuracy: 1.0000\n",
      "Epoch 45/100\n",
      "16/16 [==============================] - 0s 931us/step - loss: 0.0053 - accuracy: 1.0000\n",
      "Epoch 46/100\n",
      "16/16 [==============================] - 0s 866us/step - loss: 0.0053 - accuracy: 1.0000\n",
      "Epoch 47/100\n",
      "16/16 [==============================] - 0s 863us/step - loss: 0.0049 - accuracy: 1.0000\n",
      "Epoch 48/100\n",
      "16/16 [==============================] - 0s 922us/step - loss: 0.0044 - accuracy: 1.0000\n",
      "Epoch 49/100\n",
      "16/16 [==============================] - 0s 931us/step - loss: 0.0046 - accuracy: 1.0000\n",
      "Epoch 50/100\n",
      "16/16 [==============================] - 0s 901us/step - loss: 0.0043 - accuracy: 1.0000\n",
      "Epoch 51/100\n",
      "16/16 [==============================] - 0s 931us/step - loss: 0.0044 - accuracy: 1.0000\n",
      "Epoch 52/100\n",
      "16/16 [==============================] - 0s 997us/step - loss: 0.0046 - accuracy: 1.0000\n",
      "Epoch 53/100\n",
      "16/16 [==============================] - 0s 864us/step - loss: 0.0041 - accuracy: 1.0000\n",
      "Epoch 54/100\n",
      "16/16 [==============================] - 0s 798us/step - loss: 0.0043 - accuracy: 1.0000\n",
      "Epoch 55/100\n",
      "16/16 [==============================] - 0s 997us/step - loss: 0.0039 - accuracy: 1.0000\n",
      "Epoch 56/100\n",
      "16/16 [==============================] - 0s 997us/step - loss: 0.0037 - accuracy: 1.0000\n",
      "Epoch 57/100\n",
      "16/16 [==============================] - 0s 1ms/step - loss: 0.0035 - accuracy: 1.0000\n",
      "Epoch 58/100\n",
      "16/16 [==============================] - 0s 931us/step - loss: 0.0034 - accuracy: 1.0000\n",
      "Epoch 59/100\n",
      "16/16 [==============================] - 0s 864us/step - loss: 0.0034 - accuracy: 1.0000\n",
      "Epoch 60/100\n",
      "16/16 [==============================] - 0s 931us/step - loss: 0.0037 - accuracy: 1.0000\n",
      "Epoch 61/100\n",
      "16/16 [==============================] - 0s 931us/step - loss: 0.0032 - accuracy: 1.0000\n",
      "Epoch 62/100\n",
      "16/16 [==============================] - 0s 931us/step - loss: 0.0031 - accuracy: 1.0000\n",
      "Epoch 63/100\n",
      "16/16 [==============================] - 0s 866us/step - loss: 0.0033 - accuracy: 1.0000\n",
      "Epoch 64/100\n",
      "16/16 [==============================] - 0s 798us/step - loss: 0.0030 - accuracy: 1.0000\n",
      "Epoch 65/100\n",
      "16/16 [==============================] - 0s 997us/step - loss: 0.0030 - accuracy: 1.0000\n",
      "Epoch 66/100\n",
      "16/16 [==============================] - 0s 864us/step - loss: 0.0032 - accuracy: 1.0000\n",
      "Epoch 67/100\n",
      "16/16 [==============================] - 0s 863us/step - loss: 0.0031 - accuracy: 1.0000\n",
      "Epoch 68/100\n",
      "16/16 [==============================] - 0s 1ms/step - loss: 0.0030 - accuracy: 1.0000\n",
      "Epoch 69/100\n",
      "16/16 [==============================] - 0s 865us/step - loss: 0.0029 - accuracy: 1.0000\n",
      "Epoch 70/100\n",
      "16/16 [==============================] - 0s 931us/step - loss: 0.0027 - accuracy: 1.0000\n",
      "Epoch 71/100\n",
      "16/16 [==============================] - 0s 795us/step - loss: 0.0026 - accuracy: 1.0000\n",
      "Epoch 72/100\n",
      "16/16 [==============================] - 0s 800us/step - loss: 0.0025 - accuracy: 1.0000\n",
      "Epoch 73/100\n",
      "16/16 [==============================] - 0s 875us/step - loss: 0.0025 - accuracy: 1.0000\n",
      "Epoch 74/100\n",
      "16/16 [==============================] - 0s 798us/step - loss: 0.0025 - accuracy: 1.0000\n",
      "Epoch 75/100\n",
      "16/16 [==============================] - 0s 863us/step - loss: 0.0027 - accuracy: 1.0000\n",
      "Epoch 76/100\n",
      "16/16 [==============================] - 0s 959us/step - loss: 0.0033 - accuracy: 1.0000\n",
      "Epoch 77/100\n",
      "16/16 [==============================] - 0s 858us/step - loss: 0.0029 - accuracy: 1.0000\n",
      "Epoch 78/100\n",
      "16/16 [==============================] - 0s 931us/step - loss: 0.0023 - accuracy: 1.0000\n",
      "Epoch 79/100\n",
      "16/16 [==============================] - 0s 864us/step - loss: 0.0022 - accuracy: 1.0000\n",
      "Epoch 80/100\n",
      "16/16 [==============================] - 0s 951us/step - loss: 0.0021 - accuracy: 1.0000\n",
      "Epoch 81/100\n"
     ]
    },
    {
     "name": "stdout",
     "output_type": "stream",
     "text": [
      "16/16 [==============================] - 0s 997us/step - loss: 0.0021 - accuracy: 1.0000\n",
      "Epoch 82/100\n",
      "16/16 [==============================] - 0s 931us/step - loss: 0.0020 - accuracy: 1.0000\n",
      "Epoch 83/100\n",
      "16/16 [==============================] - 0s 865us/step - loss: 0.0020 - accuracy: 1.0000\n",
      "Epoch 84/100\n",
      "16/16 [==============================] - 0s 798us/step - loss: 0.0020 - accuracy: 1.0000\n",
      "Epoch 85/100\n",
      "16/16 [==============================] - 0s 864us/step - loss: 0.0020 - accuracy: 1.0000\n",
      "Epoch 86/100\n",
      "16/16 [==============================] - 0s 733us/step - loss: 0.0020 - accuracy: 1.0000\n",
      "Epoch 87/100\n",
      "16/16 [==============================] - 0s 929us/step - loss: 0.0019 - accuracy: 1.0000\n",
      "Epoch 88/100\n",
      "16/16 [==============================] - 0s 864us/step - loss: 0.0020 - accuracy: 1.0000\n",
      "Epoch 89/100\n",
      "16/16 [==============================] - 0s 866us/step - loss: 0.0018 - accuracy: 1.0000\n",
      "Epoch 90/100\n",
      "16/16 [==============================] - 0s 864us/step - loss: 0.0018 - accuracy: 1.0000\n",
      "Epoch 91/100\n",
      "16/16 [==============================] - 0s 799us/step - loss: 0.0017 - accuracy: 1.0000\n",
      "Epoch 92/100\n",
      "16/16 [==============================] - 0s 861us/step - loss: 0.0016 - accuracy: 1.0000\n",
      "Epoch 93/100\n",
      "16/16 [==============================] - 0s 1ms/step - loss: 0.0016 - accuracy: 1.0000\n",
      "Epoch 94/100\n",
      "16/16 [==============================] - 0s 888us/step - loss: 0.0016 - accuracy: 1.0000\n",
      "Epoch 95/100\n",
      "16/16 [==============================] - 0s 864us/step - loss: 0.0016 - accuracy: 1.0000\n",
      "Epoch 96/100\n",
      "16/16 [==============================] - 0s 798us/step - loss: 0.0016 - accuracy: 1.0000\n",
      "Epoch 97/100\n",
      "16/16 [==============================] - 0s 864us/step - loss: 0.0015 - accuracy: 1.0000\n",
      "Epoch 98/100\n",
      "16/16 [==============================] - 0s 931us/step - loss: 0.0015 - accuracy: 1.0000\n",
      "Epoch 99/100\n",
      "16/16 [==============================] - 0s 866us/step - loss: 0.0015 - accuracy: 1.0000\n",
      "Epoch 100/100\n",
      "16/16 [==============================] - 0s 996us/step - loss: 0.0014 - accuracy: 1.0000\n"
     ]
    },
    {
     "data": {
      "text/plain": [
       "<keras.callbacks.History at 0x1bfee0cdbb0>"
      ]
     },
     "execution_count": 38,
     "metadata": {},
     "output_type": "execute_result"
    }
   ],
   "source": [
    "model.fit(x_train, y_train, epochs=100, batch_size=10)"
   ]
  },
  {
   "cell_type": "code",
   "execution_count": 39,
   "id": "d74a7c18",
   "metadata": {
    "collapsed": true
   },
   "outputs": [
    {
     "name": "stdout",
     "output_type": "stream",
     "text": [
      "2/2 [==============================] - 0s 2ms/step - loss: 0.0266 - accuracy: 1.0000\n"
     ]
    },
    {
     "data": {
      "text/plain": [
       "[0.026619229465723038, 1.0]"
      ]
     },
     "execution_count": 39,
     "metadata": {},
     "output_type": "execute_result"
    }
   ],
   "source": [
    "model.evaluate(x_test, y_test)"
   ]
  },
  {
   "cell_type": "code",
   "execution_count": null,
   "id": "136cacc2",
   "metadata": {},
   "outputs": [],
   "source": []
  },
  {
   "cell_type": "code",
   "execution_count": 40,
   "id": "be297508",
   "metadata": {},
   "outputs": [],
   "source": [
    "# model save"
   ]
  },
  {
   "cell_type": "code",
   "execution_count": 41,
   "id": "e0c2600b",
   "metadata": {},
   "outputs": [],
   "source": [
    "model.save('./deep_model/my_model.h5')"
   ]
  },
  {
   "cell_type": "code",
   "execution_count": null,
   "id": "f3d70cbe",
   "metadata": {},
   "outputs": [],
   "source": []
  },
  {
   "cell_type": "code",
   "execution_count": 42,
   "id": "173cc8f8",
   "metadata": {},
   "outputs": [],
   "source": [
    "# load_model"
   ]
  },
  {
   "cell_type": "code",
   "execution_count": 44,
   "id": "732eaee4",
   "metadata": {},
   "outputs": [],
   "source": [
    "from tensorflow.keras.models import load_model"
   ]
  },
  {
   "cell_type": "code",
   "execution_count": 46,
   "id": "640faffa",
   "metadata": {},
   "outputs": [],
   "source": [
    "new_model = load_model('./deep_model/my_model.h5')"
   ]
  },
  {
   "cell_type": "code",
   "execution_count": 47,
   "id": "37dc6a40",
   "metadata": {
    "collapsed": true
   },
   "outputs": [
    {
     "name": "stdout",
     "output_type": "stream",
     "text": [
      "2/2 [==============================] - 0s 2ms/step - loss: 0.0266 - accuracy: 1.0000\n"
     ]
    },
    {
     "data": {
      "text/plain": [
       "[0.026619229465723038, 1.0]"
      ]
     },
     "execution_count": 47,
     "metadata": {},
     "output_type": "execute_result"
    }
   ],
   "source": [
    "new_model.evaluate(x_test, y_test)"
   ]
  },
  {
   "cell_type": "code",
   "execution_count": null,
   "id": "f4bf70e2",
   "metadata": {},
   "outputs": [],
   "source": []
  },
  {
   "cell_type": "code",
   "execution_count": null,
   "id": "ca11371a",
   "metadata": {},
   "outputs": [],
   "source": []
  },
  {
   "cell_type": "code",
   "execution_count": null,
   "id": "1e36d98a",
   "metadata": {},
   "outputs": [],
   "source": []
  },
  {
   "cell_type": "code",
   "execution_count": null,
   "id": "e1f7ca6c",
   "metadata": {},
   "outputs": [],
   "source": []
  },
  {
   "cell_type": "code",
   "execution_count": null,
   "id": "9a2eb8bd",
   "metadata": {},
   "outputs": [],
   "source": []
  },
  {
   "cell_type": "code",
   "execution_count": null,
   "id": "9fe8c7f1",
   "metadata": {},
   "outputs": [],
   "source": []
  }
 ],
 "metadata": {
  "kernelspec": {
   "display_name": "Python 3 (ipykernel)",
   "language": "python",
   "name": "python3"
  },
  "language_info": {
   "codemirror_mode": {
    "name": "ipython",
    "version": 3
   },
   "file_extension": ".py",
   "mimetype": "text/x-python",
   "name": "python",
   "nbconvert_exporter": "python",
   "pygments_lexer": "ipython3",
   "version": "3.9.7"
  }
 },
 "nbformat": 4,
 "nbformat_minor": 5
}
