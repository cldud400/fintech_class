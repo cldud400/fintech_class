{
 "cells": [
  {
   "cell_type": "code",
   "execution_count": 1,
   "metadata": {
    "executionInfo": {
     "elapsed": 1068,
     "status": "ok",
     "timestamp": 1648093490882,
     "user": {
      "displayName": "반치영",
      "photoUrl": "https://lh3.googleusercontent.com/a/default-user=s64",
      "userId": "02232750095748228317"
     },
     "user_tz": -540
    },
    "id": "Os6PAsR3BlpU"
   },
   "outputs": [],
   "source": [
    "import pandas as pd\n",
    "import numpy as np\n",
    "import matplotlib.pyplot as plt\n",
    "import seaborn as sns"
   ]
  },
  {
   "cell_type": "code",
   "execution_count": 2,
   "metadata": {
    "executionInfo": {
     "elapsed": 5869,
     "status": "ok",
     "timestamp": 1648093496750,
     "user": {
      "displayName": "반치영",
      "photoUrl": "https://lh3.googleusercontent.com/a/default-user=s64",
      "userId": "02232750095748228317"
     },
     "user_tz": -540
    },
    "id": "36pN-CpeBtPd"
   },
   "outputs": [],
   "source": [
    "from tensorflow.keras.models import Sequential\n",
    "from tensorflow.keras.layers import Dense, Dropout\n",
    "from tensorflow.keras import utils\n",
    "import tensorflow as tf"
   ]
  },
  {
   "cell_type": "code",
   "execution_count": 4,
   "metadata": {
    "colab": {
     "base_uri": "https://localhost:8080/",
     "height": 492
    },
    "executionInfo": {
     "elapsed": 283,
     "status": "error",
     "timestamp": 1648093758479,
     "user": {
      "displayName": "반치영",
      "photoUrl": "https://lh3.googleusercontent.com/a/default-user=s64",
      "userId": "02232750095748228317"
     },
     "user_tz": -540
    },
    "id": "oNcCZVXMBtXU",
    "outputId": "aacdb9e3-2405-4a1f-f57e-4619d4788be1"
   },
   "outputs": [
    {
     "data": {
      "text/html": [
       "<div>\n",
       "<style scoped>\n",
       "    .dataframe tbody tr th:only-of-type {\n",
       "        vertical-align: middle;\n",
       "    }\n",
       "\n",
       "    .dataframe tbody tr th {\n",
       "        vertical-align: top;\n",
       "    }\n",
       "\n",
       "    .dataframe thead th {\n",
       "        text-align: right;\n",
       "    }\n",
       "</style>\n",
       "<table border=\"1\" class=\"dataframe\">\n",
       "  <thead>\n",
       "    <tr style=\"text-align: right;\">\n",
       "      <th></th>\n",
       "      <th>Cement (component 1)(kg in a m^3 mixture)</th>\n",
       "      <th>Blast Furnace Slag (component 2)(kg in a m^3 mixture)</th>\n",
       "      <th>Fly Ash (component 3)(kg in a m^3 mixture)</th>\n",
       "      <th>Water  (component 4)(kg in a m^3 mixture)</th>\n",
       "      <th>Superplasticizer (component 5)(kg in a m^3 mixture)</th>\n",
       "      <th>Coarse Aggregate  (component 6)(kg in a m^3 mixture)</th>\n",
       "      <th>Fine Aggregate (component 7)(kg in a m^3 mixture)</th>\n",
       "      <th>Age (day)</th>\n",
       "      <th>Concrete compressive strength(MPa, megapascals)</th>\n",
       "    </tr>\n",
       "  </thead>\n",
       "  <tbody>\n",
       "    <tr>\n",
       "      <th>0</th>\n",
       "      <td>540.0</td>\n",
       "      <td>0.0</td>\n",
       "      <td>0.0</td>\n",
       "      <td>162.0</td>\n",
       "      <td>2.5</td>\n",
       "      <td>1040.0</td>\n",
       "      <td>676.0</td>\n",
       "      <td>28</td>\n",
       "      <td>79.986111</td>\n",
       "    </tr>\n",
       "    <tr>\n",
       "      <th>1</th>\n",
       "      <td>540.0</td>\n",
       "      <td>0.0</td>\n",
       "      <td>0.0</td>\n",
       "      <td>162.0</td>\n",
       "      <td>2.5</td>\n",
       "      <td>1055.0</td>\n",
       "      <td>676.0</td>\n",
       "      <td>28</td>\n",
       "      <td>61.887366</td>\n",
       "    </tr>\n",
       "    <tr>\n",
       "      <th>2</th>\n",
       "      <td>332.5</td>\n",
       "      <td>142.5</td>\n",
       "      <td>0.0</td>\n",
       "      <td>228.0</td>\n",
       "      <td>0.0</td>\n",
       "      <td>932.0</td>\n",
       "      <td>594.0</td>\n",
       "      <td>270</td>\n",
       "      <td>40.269535</td>\n",
       "    </tr>\n",
       "  </tbody>\n",
       "</table>\n",
       "</div>"
      ],
      "text/plain": [
       "   Cement (component 1)(kg in a m^3 mixture)  \\\n",
       "0                                      540.0   \n",
       "1                                      540.0   \n",
       "2                                      332.5   \n",
       "\n",
       "   Blast Furnace Slag (component 2)(kg in a m^3 mixture)  \\\n",
       "0                                                0.0       \n",
       "1                                                0.0       \n",
       "2                                              142.5       \n",
       "\n",
       "   Fly Ash (component 3)(kg in a m^3 mixture)  \\\n",
       "0                                         0.0   \n",
       "1                                         0.0   \n",
       "2                                         0.0   \n",
       "\n",
       "   Water  (component 4)(kg in a m^3 mixture)  \\\n",
       "0                                      162.0   \n",
       "1                                      162.0   \n",
       "2                                      228.0   \n",
       "\n",
       "   Superplasticizer (component 5)(kg in a m^3 mixture)  \\\n",
       "0                                                2.5     \n",
       "1                                                2.5     \n",
       "2                                                0.0     \n",
       "\n",
       "   Coarse Aggregate  (component 6)(kg in a m^3 mixture)  \\\n",
       "0                                             1040.0      \n",
       "1                                             1055.0      \n",
       "2                                              932.0      \n",
       "\n",
       "   Fine Aggregate (component 7)(kg in a m^3 mixture)  Age (day)  \\\n",
       "0                                              676.0         28   \n",
       "1                                              676.0         28   \n",
       "2                                              594.0        270   \n",
       "\n",
       "   Concrete compressive strength(MPa, megapascals)   \n",
       "0                                         79.986111  \n",
       "1                                         61.887366  \n",
       "2                                         40.269535  "
      ]
     },
     "execution_count": 4,
     "metadata": {},
     "output_type": "execute_result"
    }
   ],
   "source": [
    "df = pd.read_excel('datafiles/Concrete_Data.xls')\n",
    "df.head(3)"
   ]
  },
  {
   "cell_type": "code",
   "execution_count": 5,
   "metadata": {
    "id": "1UPxxZpyB2Ct"
   },
   "outputs": [],
   "source": [
    "df.columns = ['cement', 'furnace', 'ash', 'water', 'superplasticizer', 'coarse', 'fine', 'age', 'strength']"
   ]
  },
  {
   "cell_type": "code",
   "execution_count": 6,
   "metadata": {},
   "outputs": [
    {
     "name": "stdout",
     "output_type": "stream",
     "text": [
      "<class 'pandas.core.frame.DataFrame'>\n",
      "RangeIndex: 1030 entries, 0 to 1029\n",
      "Data columns (total 9 columns):\n",
      " #   Column            Non-Null Count  Dtype  \n",
      "---  ------            --------------  -----  \n",
      " 0   cement            1030 non-null   float64\n",
      " 1   furnace           1030 non-null   float64\n",
      " 2   ash               1030 non-null   float64\n",
      " 3   water             1030 non-null   float64\n",
      " 4   superplasticizer  1030 non-null   float64\n",
      " 5   coarse            1030 non-null   float64\n",
      " 6   fine              1030 non-null   float64\n",
      " 7   age               1030 non-null   int64  \n",
      " 8   strength          1030 non-null   float64\n",
      "dtypes: float64(8), int64(1)\n",
      "memory usage: 72.5 KB\n"
     ]
    }
   ],
   "source": [
    "df.info()"
   ]
  },
  {
   "cell_type": "code",
   "execution_count": null,
   "metadata": {},
   "outputs": [],
   "source": []
  },
  {
   "cell_type": "code",
   "execution_count": 7,
   "metadata": {},
   "outputs": [],
   "source": [
    "x = df.drop('strength', axis=1)\n",
    "y = df.strength"
   ]
  },
  {
   "cell_type": "code",
   "execution_count": 8,
   "metadata": {},
   "outputs": [],
   "source": [
    "from sklearn.model_selection import train_test_split\n",
    "x_train, x_test, y_train, y_test = train_test_split(x,y, random_state=111)"
   ]
  },
  {
   "cell_type": "code",
   "execution_count": 9,
   "metadata": {},
   "outputs": [],
   "source": [
    "from sklearn.preprocessing import StandardScaler\n",
    "scaler = StandardScaler()\n",
    "scaler.fit(x_train)\n",
    "x_train_scaled = scaler.transform(x_train)\n",
    "x_test_scaled = scaler.transform(x_test)"
   ]
  },
  {
   "cell_type": "code",
   "execution_count": 10,
   "metadata": {},
   "outputs": [
    {
     "data": {
      "text/plain": [
       "(772, 8)"
      ]
     },
     "execution_count": 10,
     "metadata": {},
     "output_type": "execute_result"
    }
   ],
   "source": [
    "x_train_scaled.shape"
   ]
  },
  {
   "cell_type": "code",
   "execution_count": 11,
   "metadata": {},
   "outputs": [
    {
     "name": "stdout",
     "output_type": "stream",
     "text": [
      "Model: \"sequential\"\n",
      "_________________________________________________________________\n",
      " Layer (type)                Output Shape              Param #   \n",
      "=================================================================\n",
      " dense (Dense)               (None, 256)               2304      \n",
      "                                                                 \n",
      " dense_1 (Dense)             (None, 128)               32896     \n",
      "                                                                 \n",
      " dense_2 (Dense)             (None, 64)                8256      \n",
      "                                                                 \n",
      " dense_3 (Dense)             (None, 32)                2080      \n",
      "                                                                 \n",
      " dense_4 (Dense)             (None, 1)                 33        \n",
      "                                                                 \n",
      "=================================================================\n",
      "Total params: 45,569\n",
      "Trainable params: 45,569\n",
      "Non-trainable params: 0\n",
      "_________________________________________________________________\n"
     ]
    }
   ],
   "source": [
    "model = Sequential()\n",
    "model.add(Dense(256, input_dim=8, activation='relu'))   # Dense : fully connected layer\n",
    "model.add(Dense(128, activation='relu'))\n",
    "model.add(Dense(64, activation='relu'))\n",
    "model.add(Dense(32, activation='relu'))\n",
    "\n",
    "model.add(Dense(1))\n",
    "model.summary()"
   ]
  },
  {
   "cell_type": "code",
   "execution_count": 12,
   "metadata": {},
   "outputs": [],
   "source": [
    "model.compile(loss='mean_squared_error', optimizer='adam')"
   ]
  },
  {
   "cell_type": "code",
   "execution_count": 13,
   "metadata": {},
   "outputs": [
    {
     "name": "stdout",
     "output_type": "stream",
     "text": [
      "Epoch 1/100\n",
      "62/62 [==============================] - 0s 3ms/step - loss: 750.1287 - val_loss: 226.5719\n",
      "Epoch 2/100\n",
      "62/62 [==============================] - 0s 1ms/step - loss: 200.6170 - val_loss: 171.7618\n",
      "Epoch 3/100\n",
      "62/62 [==============================] - 0s 1ms/step - loss: 173.1793 - val_loss: 167.5269\n",
      "Epoch 4/100\n",
      "62/62 [==============================] - 0s 1ms/step - loss: 153.1242 - val_loss: 161.5631\n",
      "Epoch 5/100\n",
      "62/62 [==============================] - 0s 1ms/step - loss: 134.9577 - val_loss: 137.2625\n",
      "Epoch 6/100\n",
      "62/62 [==============================] - 0s 1ms/step - loss: 116.0066 - val_loss: 120.9042\n",
      "Epoch 7/100\n",
      "62/62 [==============================] - 0s 1ms/step - loss: 93.9020 - val_loss: 106.1338\n",
      "Epoch 8/100\n",
      "62/62 [==============================] - 0s 1ms/step - loss: 77.8905 - val_loss: 82.6216\n",
      "Epoch 9/100\n",
      "62/62 [==============================] - 0s 1ms/step - loss: 60.9276 - val_loss: 58.5882\n",
      "Epoch 10/100\n",
      "62/62 [==============================] - 0s 1ms/step - loss: 49.5959 - val_loss: 62.5085\n",
      "Epoch 11/100\n",
      "62/62 [==============================] - 0s 1ms/step - loss: 42.8598 - val_loss: 47.6263\n",
      "Epoch 12/100\n",
      "62/62 [==============================] - 0s 1ms/step - loss: 44.1450 - val_loss: 44.4292\n",
      "Epoch 13/100\n",
      "62/62 [==============================] - 0s 1ms/step - loss: 36.8202 - val_loss: 43.8993\n",
      "Epoch 14/100\n",
      "62/62 [==============================] - 0s 1ms/step - loss: 40.1330 - val_loss: 43.5804\n",
      "Epoch 15/100\n",
      "62/62 [==============================] - 0s 1ms/step - loss: 34.9334 - val_loss: 45.0300\n",
      "Epoch 16/100\n",
      "62/62 [==============================] - 0s 1ms/step - loss: 33.3526 - val_loss: 40.0551\n",
      "Epoch 17/100\n",
      "62/62 [==============================] - 0s 1ms/step - loss: 31.6245 - val_loss: 36.3039\n",
      "Epoch 18/100\n",
      "62/62 [==============================] - 0s 1ms/step - loss: 29.5210 - val_loss: 37.8367\n",
      "Epoch 19/100\n",
      "62/62 [==============================] - 0s 1ms/step - loss: 32.0217 - val_loss: 33.5604\n",
      "Epoch 20/100\n",
      "62/62 [==============================] - 0s 1ms/step - loss: 28.4703 - val_loss: 39.6207\n",
      "Epoch 21/100\n",
      "62/62 [==============================] - 0s 1ms/step - loss: 26.0553 - val_loss: 36.1933\n",
      "Epoch 22/100\n",
      "62/62 [==============================] - 0s 1ms/step - loss: 25.9903 - val_loss: 35.2883\n",
      "Epoch 23/100\n",
      "62/62 [==============================] - 0s 1ms/step - loss: 24.3354 - val_loss: 38.6712\n",
      "Epoch 24/100\n",
      "62/62 [==============================] - 0s 1ms/step - loss: 25.2455 - val_loss: 31.5883\n",
      "Epoch 25/100\n",
      "62/62 [==============================] - 0s 1ms/step - loss: 21.8203 - val_loss: 29.8903\n",
      "Epoch 26/100\n",
      "62/62 [==============================] - 0s 1ms/step - loss: 23.7933 - val_loss: 30.2775\n",
      "Epoch 27/100\n",
      "62/62 [==============================] - 0s 1ms/step - loss: 22.4452 - val_loss: 36.0918\n",
      "Epoch 28/100\n",
      "62/62 [==============================] - 0s 1ms/step - loss: 23.0418 - val_loss: 31.8401\n",
      "Epoch 29/100\n",
      "62/62 [==============================] - 0s 1ms/step - loss: 26.3559 - val_loss: 31.8661\n",
      "Epoch 30/100\n",
      "62/62 [==============================] - 0s 1ms/step - loss: 24.9353 - val_loss: 37.0387\n",
      "Epoch 31/100\n",
      "62/62 [==============================] - 0s 1ms/step - loss: 21.3094 - val_loss: 30.0964\n",
      "Epoch 32/100\n",
      "62/62 [==============================] - 0s 1ms/step - loss: 19.3970 - val_loss: 32.4804\n",
      "Epoch 33/100\n",
      "62/62 [==============================] - 0s 1ms/step - loss: 20.9073 - val_loss: 31.9789\n",
      "Epoch 34/100\n",
      "62/62 [==============================] - 0s 1ms/step - loss: 20.9536 - val_loss: 27.7895\n",
      "Epoch 35/100\n",
      "62/62 [==============================] - 0s 1ms/step - loss: 19.1605 - val_loss: 28.2837\n",
      "Epoch 36/100\n",
      "62/62 [==============================] - 0s 1ms/step - loss: 18.3218 - val_loss: 31.0793\n",
      "Epoch 37/100\n",
      "62/62 [==============================] - 0s 1ms/step - loss: 20.5731 - val_loss: 29.8999\n",
      "Epoch 38/100\n",
      "62/62 [==============================] - 0s 1ms/step - loss: 18.2050 - val_loss: 41.5700\n",
      "Epoch 39/100\n",
      "62/62 [==============================] - 0s 1ms/step - loss: 17.9941 - val_loss: 28.7903\n",
      "Epoch 40/100\n",
      "62/62 [==============================] - 0s 1ms/step - loss: 18.8480 - val_loss: 26.4561\n",
      "Epoch 41/100\n",
      "62/62 [==============================] - 0s 1ms/step - loss: 17.2640 - val_loss: 28.9047\n",
      "Epoch 42/100\n",
      "62/62 [==============================] - 0s 1ms/step - loss: 17.8366 - val_loss: 31.4051\n",
      "Epoch 43/100\n",
      "62/62 [==============================] - 0s 1ms/step - loss: 17.5964 - val_loss: 27.2419\n",
      "Epoch 44/100\n",
      "62/62 [==============================] - 0s 1ms/step - loss: 17.7867 - val_loss: 25.7626\n",
      "Epoch 45/100\n",
      "62/62 [==============================] - 0s 1ms/step - loss: 17.5590 - val_loss: 33.5184\n",
      "Epoch 46/100\n",
      "62/62 [==============================] - 0s 1ms/step - loss: 20.2067 - val_loss: 29.1851\n",
      "Epoch 47/100\n",
      "62/62 [==============================] - 0s 1ms/step - loss: 17.2852 - val_loss: 24.7707\n",
      "Epoch 48/100\n",
      "62/62 [==============================] - 0s 1ms/step - loss: 16.3965 - val_loss: 26.3130\n",
      "Epoch 49/100\n",
      "62/62 [==============================] - 0s 1ms/step - loss: 16.4457 - val_loss: 27.5208\n",
      "Epoch 50/100\n",
      "62/62 [==============================] - 0s 1ms/step - loss: 14.8769 - val_loss: 28.7324\n",
      "Epoch 51/100\n",
      "62/62 [==============================] - 0s 1ms/step - loss: 17.4678 - val_loss: 27.3573\n",
      "Epoch 52/100\n",
      "62/62 [==============================] - 0s 1ms/step - loss: 17.0810 - val_loss: 24.6889\n",
      "Epoch 53/100\n",
      "62/62 [==============================] - 0s 1ms/step - loss: 13.7500 - val_loss: 31.3198\n",
      "Epoch 54/100\n",
      "62/62 [==============================] - 0s 1ms/step - loss: 16.1060 - val_loss: 26.2242\n",
      "Epoch 55/100\n",
      "62/62 [==============================] - 0s 1ms/step - loss: 14.3406 - val_loss: 28.2265\n",
      "Epoch 56/100\n",
      "62/62 [==============================] - 0s 1ms/step - loss: 15.8546 - val_loss: 32.7326\n",
      "Epoch 57/100\n",
      "62/62 [==============================] - 0s 1ms/step - loss: 15.2888 - val_loss: 27.9944\n",
      "Epoch 58/100\n",
      "62/62 [==============================] - 0s 1ms/step - loss: 16.8845 - val_loss: 28.6687\n",
      "Epoch 59/100\n",
      "62/62 [==============================] - 0s 1ms/step - loss: 18.0722 - val_loss: 28.2899\n",
      "Epoch 60/100\n",
      "62/62 [==============================] - 0s 1ms/step - loss: 17.6289 - val_loss: 28.2000\n",
      "Epoch 61/100\n",
      "62/62 [==============================] - 0s 1ms/step - loss: 16.1097 - val_loss: 28.5676\n",
      "Epoch 62/100\n",
      "62/62 [==============================] - 0s 1ms/step - loss: 13.7349 - val_loss: 25.0461\n",
      "Epoch 63/100\n",
      "62/62 [==============================] - 0s 1ms/step - loss: 14.2582 - val_loss: 26.5584\n",
      "Epoch 64/100\n",
      "62/62 [==============================] - 0s 1ms/step - loss: 14.4459 - val_loss: 26.0129\n",
      "Epoch 65/100\n",
      "62/62 [==============================] - 0s 1ms/step - loss: 14.1106 - val_loss: 28.3029\n",
      "Epoch 66/100\n",
      "62/62 [==============================] - 0s 1ms/step - loss: 13.9499 - val_loss: 24.4979\n",
      "Epoch 67/100\n",
      "62/62 [==============================] - 0s 1ms/step - loss: 12.5035 - val_loss: 28.5252\n",
      "Epoch 68/100\n",
      "62/62 [==============================] - 0s 1ms/step - loss: 14.4965 - val_loss: 25.8560\n",
      "Epoch 69/100\n",
      "62/62 [==============================] - 0s 1ms/step - loss: 13.0687 - val_loss: 32.9056\n",
      "Epoch 70/100\n",
      "62/62 [==============================] - 0s 1ms/step - loss: 13.3448 - val_loss: 24.0390\n",
      "Epoch 71/100\n",
      "62/62 [==============================] - 0s 1ms/step - loss: 13.3709 - val_loss: 27.9519\n",
      "Epoch 72/100\n",
      "62/62 [==============================] - 0s 1ms/step - loss: 12.1960 - val_loss: 26.6195\n",
      "Epoch 73/100\n",
      "62/62 [==============================] - 0s 1ms/step - loss: 12.2160 - val_loss: 27.6297\n",
      "Epoch 74/100\n",
      "62/62 [==============================] - 0s 1ms/step - loss: 12.9026 - val_loss: 29.8034\n",
      "Epoch 75/100\n",
      "62/62 [==============================] - 0s 1ms/step - loss: 12.9549 - val_loss: 27.6190\n",
      "Epoch 76/100\n",
      "62/62 [==============================] - 0s 1ms/step - loss: 13.1528 - val_loss: 26.1163\n",
      "Epoch 77/100\n",
      "62/62 [==============================] - 0s 1ms/step - loss: 13.4115 - val_loss: 27.5945\n",
      "Epoch 78/100\n",
      "62/62 [==============================] - 0s 1ms/step - loss: 12.3822 - val_loss: 26.5874\n",
      "Epoch 79/100\n",
      "62/62 [==============================] - 0s 1ms/step - loss: 13.7787 - val_loss: 25.9632\n",
      "Epoch 80/100\n",
      "62/62 [==============================] - 0s 1ms/step - loss: 12.8771 - val_loss: 25.2245\n",
      "Epoch 81/100\n"
     ]
    },
    {
     "name": "stdout",
     "output_type": "stream",
     "text": [
      "62/62 [==============================] - 0s 1ms/step - loss: 12.4187 - val_loss: 28.1855\n",
      "Epoch 82/100\n",
      "62/62 [==============================] - 0s 1ms/step - loss: 11.8976 - val_loss: 30.1785\n",
      "Epoch 83/100\n",
      "62/62 [==============================] - 0s 1ms/step - loss: 12.3170 - val_loss: 29.4830\n",
      "Epoch 84/100\n",
      "62/62 [==============================] - 0s 1ms/step - loss: 11.9372 - val_loss: 32.0521\n",
      "Epoch 85/100\n",
      "62/62 [==============================] - 0s 1ms/step - loss: 13.1560 - val_loss: 27.7595\n",
      "Epoch 86/100\n",
      "62/62 [==============================] - 0s 1ms/step - loss: 13.8253 - val_loss: 28.5060\n",
      "Epoch 87/100\n",
      "62/62 [==============================] - 0s 1ms/step - loss: 16.4798 - val_loss: 27.8138\n",
      "Epoch 88/100\n",
      "62/62 [==============================] - 0s 1ms/step - loss: 12.7435 - val_loss: 26.5002\n",
      "Epoch 89/100\n",
      "62/62 [==============================] - 0s 1ms/step - loss: 13.0133 - val_loss: 25.5885\n",
      "Epoch 90/100\n",
      "62/62 [==============================] - 0s 1ms/step - loss: 13.9295 - val_loss: 31.1665\n",
      "Epoch 91/100\n",
      "62/62 [==============================] - 0s 1ms/step - loss: 13.2472 - val_loss: 27.5475\n",
      "Epoch 92/100\n",
      "62/62 [==============================] - 0s 1ms/step - loss: 12.1991 - val_loss: 29.1350\n",
      "Epoch 93/100\n",
      "62/62 [==============================] - 0s 1ms/step - loss: 13.3401 - val_loss: 24.0343\n",
      "Epoch 94/100\n",
      "62/62 [==============================] - 0s 1ms/step - loss: 10.8301 - val_loss: 24.6153\n",
      "Epoch 95/100\n",
      "62/62 [==============================] - 0s 1ms/step - loss: 11.7544 - val_loss: 23.6288\n",
      "Epoch 96/100\n",
      "62/62 [==============================] - 0s 1ms/step - loss: 11.9259 - val_loss: 26.8902\n",
      "Epoch 97/100\n",
      "62/62 [==============================] - 0s 1ms/step - loss: 10.8165 - val_loss: 28.9363\n",
      "Epoch 98/100\n",
      "62/62 [==============================] - 0s 1ms/step - loss: 11.2104 - val_loss: 27.6268\n",
      "Epoch 99/100\n",
      "62/62 [==============================] - 0s 1ms/step - loss: 12.9452 - val_loss: 24.7990\n",
      "Epoch 100/100\n",
      "62/62 [==============================] - 0s 1ms/step - loss: 11.4157 - val_loss: 27.1381\n"
     ]
    }
   ],
   "source": [
    "hist = model.fit(x_train_scaled,y_train, epochs=100, batch_size=10, validation_split=0.2)"
   ]
  },
  {
   "cell_type": "code",
   "execution_count": 14,
   "metadata": {},
   "outputs": [
    {
     "data": {
      "text/plain": [
       "[<matplotlib.lines.Line2D at 0x280e9d38160>]"
      ]
     },
     "execution_count": 14,
     "metadata": {},
     "output_type": "execute_result"
    },
    {
     "data": {
      "image/png": "[encoded data removed]",
      "text/plain": [
       "<Figure size 432x288 with 1 Axes>"
      ]
     },
     "metadata": {
      "needs_background": "light"
     },
     "output_type": "display_data"
    }
   ],
   "source": [
    "plt.plot(hist.history['loss'], c='r')\n",
    "plt.plot(hist.history['val_loss'], c='b')"
   ]
  },
  {
   "cell_type": "code",
   "execution_count": null,
   "metadata": {},
   "outputs": [],
   "source": []
  }
 ],
 "metadata": {
  "colab": {
   "authorship_tag": "ABX9TyNsVonY0U/sOC0dPu2a5G7D",
   "mount_file_id": "1uOwgaiM94-SpQPCBqZn0AhHEFJrutCxg",
   "name": "cocrete_strength.ipynb",
   "provenance": []
  },
  "kernelspec": {
   "display_name": "Python 3 (ipykernel)",
   "language": "python",
   "name": "python3"
  },
  "language_info": {
   "codemirror_mode": {
    "name": "ipython",
    "version": 3
   },
   "file_extension": ".py",
   "mimetype": "text/x-python",
   "name": "python",
   "nbconvert_exporter": "python",
   "pygments_lexer": "ipython3",
   "version": "3.9.7"
  }
 },
 "nbformat": 4,
 "nbformat_minor": 1
}
