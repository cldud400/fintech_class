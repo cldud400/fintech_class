{
 "cells": [
  {
   "cell_type": "code",
   "execution_count": null,
   "id": "6722028f",
   "metadata": {},
   "outputs": [],
   "source": [
    "# ! pip install tensorflow"
   ]
  },
  {
   "cell_type": "code",
   "execution_count": null,
   "id": "7823b19a",
   "metadata": {},
   "outputs": [],
   "source": [
    "# https://drive.google.com/drive/folders/1TDAeYT30IDKgULs0UBxsv3YLaDnawOkg?usp=sharing"
   ]
  },
  {
   "cell_type": "code",
   "execution_count": 1,
   "id": "e994f944",
   "metadata": {},
   "outputs": [],
   "source": [
    "from tensorflow.keras.models import Sequential\n",
    "from tensorflow.keras.layers import Dense"
   ]
  },
  {
   "cell_type": "code",
   "execution_count": 2,
   "id": "74286d7d",
   "metadata": {},
   "outputs": [],
   "source": [
    "import numpy as np\n",
    "import tensorflow as tf"
   ]
  },
  {
   "cell_type": "code",
   "execution_count": 3,
   "id": "d3f5919a",
   "metadata": {},
   "outputs": [
    {
     "data": {
      "text/plain": [
       "array([[293.  ,   1.  ,   3.8 , ...,   0.  ,  62.  ,   0.  ],\n",
       "       [  1.  ,   2.  ,   2.88, ...,   0.  ,  60.  ,   0.  ],\n",
       "       [  8.  ,   2.  ,   3.19, ...,   0.  ,  66.  ,   1.  ],\n",
       "       ...,\n",
       "       [406.  ,   6.  ,   5.36, ...,   0.  ,  62.  ,   0.  ],\n",
       "       [ 25.  ,   8.  ,   4.32, ...,   0.  ,  58.  ,   1.  ],\n",
       "       [447.  ,   8.  ,   5.2 , ...,   0.  ,  49.  ,   0.  ]])"
      ]
     },
     "execution_count": 3,
     "metadata": {},
     "output_type": "execute_result"
    }
   ],
   "source": [
    "data_set = np.loadtxt('./datafiles/ThoraricSurgery.csv', delimiter=',')\n",
    "data_set"
   ]
  },
  {
   "cell_type": "code",
   "execution_count": null,
   "id": "4ca4bbe8",
   "metadata": {},
   "outputs": [],
   "source": []
  },
  {
   "cell_type": "code",
   "execution_count": 4,
   "id": "c61ded94",
   "metadata": {},
   "outputs": [],
   "source": [
    "x = data_set[:,0:17]\n",
    "y = data_set[:, 17]"
   ]
  },
  {
   "cell_type": "code",
   "execution_count": null,
   "id": "9f3df19c",
   "metadata": {},
   "outputs": [],
   "source": []
  },
  {
   "cell_type": "markdown",
   "id": "3f7a0fdb",
   "metadata": {},
   "source": [
    "binary classification에선 sigmoid가 적합"
   ]
  },
  {
   "cell_type": "code",
   "execution_count": 5,
   "id": "2c57a61a",
   "metadata": {},
   "outputs": [
    {
     "name": "stdout",
     "output_type": "stream",
     "text": [
      "Model: \"sequential\"\n",
      "_________________________________________________________________\n",
      " Layer (type)                Output Shape              Param #   \n",
      "=================================================================\n",
      " dense (Dense)               (None, 3)                 54        \n",
      "                                                                 \n",
      " dense_1 (Dense)             (None, 4)                 16        \n",
      "                                                                 \n",
      " dense_2 (Dense)             (None, 1)                 5         \n",
      "                                                                 \n",
      "=================================================================\n",
      "Total params: 75\n",
      "Trainable params: 75\n",
      "Non-trainable params: 0\n",
      "_________________________________________________________________\n"
     ]
    }
   ],
   "source": [
    "model = Sequential()\n",
    "# 첫번째 layer에 shape을 맞춰준다.\n",
    "# hidden layer에서는 relu사용\n",
    "model.add(Dense(3, input_dim=17, activation='relu'))\n",
    "model.add(Dense(4, activation='relu'))\n",
    "# 마지막 output layer에서만 sigmoid 사용하는 것이 정확도가 높다.\n",
    "model.add(Dense(1, activation='sigmoid'))\n",
    "model.summary()"
   ]
  },
  {
   "cell_type": "code",
   "execution_count": 6,
   "id": "3a424866",
   "metadata": {},
   "outputs": [],
   "source": [
    "# loss function : binary_crossentripy (0과 1로 된 target)\n",
    "# loss function : error를 가작 적게 만드는 매개편수를 찾아야 한다.\n",
    "# optimizer : 'adam'(gradient이름), 평가지표 : accuracy\n",
    "model.compile(loss='binary_crossentropy', metrics=['accuracy'], optimizer='adam')"
   ]
  },
  {
   "cell_type": "code",
   "execution_count": 7,
   "id": "2a951515",
   "metadata": {},
   "outputs": [
    {
     "name": "stdout",
     "output_type": "stream",
     "text": [
      "Epoch 1/10\n",
      "15/15 [==============================] - 0s 781us/step - loss: 2.1503 - accuracy: 0.2085\n",
      "Epoch 2/10\n",
      "15/15 [==============================] - 0s 784us/step - loss: 1.6756 - accuracy: 0.2319\n",
      "Epoch 3/10\n",
      "15/15 [==============================] - 0s 712us/step - loss: 1.3375 - accuracy: 0.2745\n",
      "Epoch 4/10\n",
      "15/15 [==============================] - 0s 786us/step - loss: 1.0984 - accuracy: 0.3106\n",
      "Epoch 5/10\n",
      "15/15 [==============================] - 0s 784us/step - loss: 0.9477 - accuracy: 0.3574\n",
      "Epoch 6/10\n",
      "15/15 [==============================] - 0s 784us/step - loss: 0.8392 - accuracy: 0.4298\n",
      "Epoch 7/10\n",
      "15/15 [==============================] - 0s 786us/step - loss: 0.7314 - accuracy: 0.6298\n",
      "Epoch 8/10\n",
      "15/15 [==============================] - 0s 786us/step - loss: 0.6639 - accuracy: 0.8319\n",
      "Epoch 9/10\n",
      "15/15 [==============================] - 0s 784us/step - loss: 0.6574 - accuracy: 0.8511\n",
      "Epoch 10/10\n",
      "15/15 [==============================] - 0s 784us/step - loss: 0.6543 - accuracy: 0.8511\n"
     ]
    },
    {
     "data": {
      "text/plain": [
       "<keras.callbacks.History at 0x20914356af0>"
      ]
     },
     "execution_count": 7,
     "metadata": {},
     "output_type": "execute_result"
    }
   ],
   "source": [
    "model.fit(x,y, epochs=10)"
   ]
  },
  {
   "cell_type": "code",
   "execution_count": null,
   "id": "0ab8768d",
   "metadata": {},
   "outputs": [],
   "source": []
  }
 ],
 "metadata": {
  "kernelspec": {
   "display_name": "Python 3 (ipykernel)",
   "language": "python",
   "name": "python3"
  },
  "language_info": {
   "codemirror_mode": {
    "name": "ipython",
    "version": 3
   },
   "file_extension": ".py",
   "mimetype": "text/x-python",
   "name": "python",
   "nbconvert_exporter": "python",
   "pygments_lexer": "ipython3",
   "version": "3.9.7"
  }
 },
 "nbformat": 4,
 "nbformat_minor": 5
}
