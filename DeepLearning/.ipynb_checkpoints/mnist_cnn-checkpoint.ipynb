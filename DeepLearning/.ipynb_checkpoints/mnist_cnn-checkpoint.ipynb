{
 "cells": [
  {
   "cell_type": "code",
   "execution_count": 1,
   "id": "9c618e53",
   "metadata": {},
   "outputs": [],
   "source": [
    "import pandas as pd\n",
    "import numpy as np\n",
    "import matplotlib.pyplot as plt\n",
    "import seaborn as sns"
   ]
  },
  {
   "cell_type": "code",
   "execution_count": 4,
   "id": "22101cf4",
   "metadata": {},
   "outputs": [],
   "source": [
    "from tensorflow.keras.datasets import mnist\n",
    "from tensorflow.keras import utils\n",
    "import tensorflow as tf"
   ]
  },
  {
   "cell_type": "code",
   "execution_count": 15,
   "id": "0a6b0cea",
   "metadata": {},
   "outputs": [],
   "source": [
    "from tensorflow.keras.models import Sequential\n",
    "from tensorflow.keras.layers import Dense"
   ]
  },
  {
   "cell_type": "code",
   "execution_count": 5,
   "id": "828d2831",
   "metadata": {},
   "outputs": [
    {
     "name": "stdout",
     "output_type": "stream",
     "text": [
      "Downloading data from https://storage.googleapis.com/tensorflow/tf-keras-datasets/mnist.npz\n",
      "11493376/11490434 [==============================] - 0s 0us/step\n",
      "11501568/11490434 [==============================] - 0s 0us/step\n"
     ]
    }
   ],
   "source": [
    "(x_train, y_train), (x_test, y_test) = mnist.load_data()"
   ]
  },
  {
   "cell_type": "code",
   "execution_count": 6,
   "id": "37cfa969",
   "metadata": {},
   "outputs": [
    {
     "name": "stdout",
     "output_type": "stream",
     "text": [
      "(60000, 28, 28)\n",
      "(10000, 28, 28)\n",
      "(60000,)\n",
      "(10000,)\n"
     ]
    }
   ],
   "source": [
    "print(x_train.shape)\n",
    "print(x_test.shape)\n",
    "print(y_train.shape)\n",
    "print(y_test.shape)"
   ]
  },
  {
   "cell_type": "code",
   "execution_count": 7,
   "id": "7d28d285",
   "metadata": {},
   "outputs": [
    {
     "data": {
      "text/plain": [
       "(28, 28)"
      ]
     },
     "execution_count": 7,
     "metadata": {},
     "output_type": "execute_result"
    }
   ],
   "source": [
    "x_train[0].shape"
   ]
  },
  {
   "cell_type": "code",
   "execution_count": 9,
   "id": "7bf30c94",
   "metadata": {},
   "outputs": [
    {
     "data": {
      "text/plain": [
       "<matplotlib.image.AxesImage at 0x2cc66b89be0>"
      ]
     },
     "execution_count": 9,
     "metadata": {},
     "output_type": "execute_result"
    },
    {
     "data": {
      "image/png": "[encoded data removed]",
      "text/plain": [
       "<Figure size 432x288 with 1 Axes>"
      ]
     },
     "metadata": {
      "needs_background": "light"
     },
     "output_type": "display_data"
    }
   ],
   "source": [
    "plt.imshow(x_train[0], cmap='Greys')"
   ]
  },
  {
   "cell_type": "code",
   "execution_count": null,
   "id": "c9e2df65",
   "metadata": {},
   "outputs": [],
   "source": []
  },
  {
   "cell_type": "code",
   "execution_count": null,
   "id": "3f81253d",
   "metadata": {},
   "outputs": [],
   "source": [
    "# DNN"
   ]
  },
  {
   "cell_type": "code",
   "execution_count": 11,
   "id": "07763c85",
   "metadata": {},
   "outputs": [],
   "source": [
    "# 모델링을 하기 위해 vector구조로 reshape\n",
    "x_train_vec = x_train.reshape(60000, 28*28)\n",
    "x_test_vec = x_test.reshape(10000, 28*28)"
   ]
  },
  {
   "cell_type": "code",
   "execution_count": 14,
   "id": "85578e68",
   "metadata": {},
   "outputs": [],
   "source": [
    "# y데이터 카테고리화\n",
    "y_train_oh = utils.to_categorical(y_train)\n",
    "y_test_oh = utils.to_categorical(y_test)"
   ]
  },
  {
   "cell_type": "code",
   "execution_count": null,
   "id": "2104eec1",
   "metadata": {},
   "outputs": [],
   "source": []
  },
  {
   "cell_type": "code",
   "execution_count": 27,
   "id": "bf9f726f",
   "metadata": {},
   "outputs": [
    {
     "name": "stdout",
     "output_type": "stream",
     "text": [
      "Model: \"sequential_2\"\n",
      "_________________________________________________________________\n",
      " Layer (type)                Output Shape              Param #   \n",
      "=================================================================\n",
      " dense_8 (Dense)             (None, 64)                50240     \n",
      "                                                                 \n",
      " dense_9 (Dense)             (None, 32)                2080      \n",
      "                                                                 \n",
      " dense_10 (Dense)            (None, 16)                528       \n",
      "                                                                 \n",
      " dense_11 (Dense)            (None, 10)                170       \n",
      "                                                                 \n",
      "=================================================================\n",
      "Total params: 53,018\n",
      "Trainable params: 53,018\n",
      "Non-trainable params: 0\n",
      "_________________________________________________________________\n"
     ]
    }
   ],
   "source": [
    "# 모델링\n",
    "model = Sequential()\n",
    "model.add(Dense(64, input_dim=28*28, activation='relu'))\n",
    "model.add(Dense(32, activation='relu'))\n",
    "model.add(Dense(16, activation='relu'))\n",
    "model.add(Dense(10, activation='softmax'))\n",
    "model.summary()"
   ]
  },
  {
   "cell_type": "code",
   "execution_count": 28,
   "id": "d9d16643",
   "metadata": {},
   "outputs": [],
   "source": [
    "model.compile(loss='categorical_crossentropy', metrics=['accuracy'], optimizer='adam')"
   ]
  },
  {
   "cell_type": "code",
   "execution_count": null,
   "id": "9138aa4c",
   "metadata": {},
   "outputs": [],
   "source": []
  },
  {
   "cell_type": "code",
   "execution_count": 29,
   "id": "5980f21b",
   "metadata": {},
   "outputs": [
    {
     "name": "stdout",
     "output_type": "stream",
     "text": [
      "Epoch 1/30\n",
      "2400/2400 [==============================] - 3s 1ms/step - loss: 1.8474 - accuracy: 0.3507 - val_loss: 1.3251 - val_accuracy: 0.4773\n",
      "Epoch 2/30\n",
      "2400/2400 [==============================] - 2s 920us/step - loss: 1.0721 - accuracy: 0.5897 - val_loss: 0.8620 - val_accuracy: 0.6705\n",
      "Epoch 3/30\n",
      "2400/2400 [==============================] - 2s 969us/step - loss: 0.5751 - accuracy: 0.8037 - val_loss: 0.3251 - val_accuracy: 0.9237\n",
      "Epoch 4/30\n",
      "2400/2400 [==============================] - 2s 913us/step - loss: 0.2617 - accuracy: 0.9347 - val_loss: 0.2319 - val_accuracy: 0.9412\n",
      "Epoch 5/30\n",
      "2400/2400 [==============================] - 2s 977us/step - loss: 0.1905 - accuracy: 0.9487 - val_loss: 0.1943 - val_accuracy: 0.9527\n",
      "Epoch 6/30\n",
      "2400/2400 [==============================] - 2s 923us/step - loss: 0.1581 - accuracy: 0.9580 - val_loss: 0.1936 - val_accuracy: 0.9546\n",
      "Epoch 7/30\n",
      "2400/2400 [==============================] - 2s 938us/step - loss: 0.1396 - accuracy: 0.9619 - val_loss: 0.1928 - val_accuracy: 0.9525\n",
      "Epoch 8/30\n",
      "2400/2400 [==============================] - 2s 952us/step - loss: 0.1269 - accuracy: 0.9656 - val_loss: 0.1694 - val_accuracy: 0.9588\n",
      "Epoch 9/30\n",
      "2400/2400 [==============================] - 2s 933us/step - loss: 0.1120 - accuracy: 0.9694 - val_loss: 0.1725 - val_accuracy: 0.9609\n",
      "Epoch 10/30\n",
      "2400/2400 [==============================] - 2s 937us/step - loss: 0.1066 - accuracy: 0.9716 - val_loss: 0.1566 - val_accuracy: 0.9611\n",
      "Epoch 11/30\n",
      "2400/2400 [==============================] - 2s 920us/step - loss: 0.0957 - accuracy: 0.9743 - val_loss: 0.2174 - val_accuracy: 0.9492\n",
      "Epoch 12/30\n",
      "2400/2400 [==============================] - 2s 938us/step - loss: 0.0934 - accuracy: 0.9748 - val_loss: 0.1703 - val_accuracy: 0.9617\n",
      "Epoch 13/30\n",
      "2400/2400 [==============================] - 2s 920us/step - loss: 0.0843 - accuracy: 0.9775 - val_loss: 0.1756 - val_accuracy: 0.9643\n",
      "Epoch 14/30\n",
      "2400/2400 [==============================] - 2s 980us/step - loss: 0.0839 - accuracy: 0.9783 - val_loss: 0.1687 - val_accuracy: 0.9637\n",
      "Epoch 15/30\n",
      "2400/2400 [==============================] - 2s 949us/step - loss: 0.0792 - accuracy: 0.9790 - val_loss: 0.1917 - val_accuracy: 0.9607\n",
      "Epoch 16/30\n",
      "2400/2400 [==============================] - 2s 965us/step - loss: 0.0751 - accuracy: 0.9800 - val_loss: 0.1770 - val_accuracy: 0.9643\n",
      "Epoch 17/30\n",
      "2400/2400 [==============================] - 2s 987us/step - loss: 0.0720 - accuracy: 0.9809 - val_loss: 0.1740 - val_accuracy: 0.9646\n",
      "Epoch 18/30\n",
      "2400/2400 [==============================] - 2s 946us/step - loss: 0.0659 - accuracy: 0.9824 - val_loss: 0.2024 - val_accuracy: 0.9609\n",
      "Epoch 19/30\n",
      "2400/2400 [==============================] - 2s 970us/step - loss: 0.0709 - accuracy: 0.9813 - val_loss: 0.1756 - val_accuracy: 0.9632\n",
      "Epoch 20/30\n",
      "2400/2400 [==============================] - 2s 933us/step - loss: 0.0644 - accuracy: 0.9833 - val_loss: 0.1959 - val_accuracy: 0.9638\n",
      "Epoch 21/30\n",
      "2400/2400 [==============================] - 2s 997us/step - loss: 0.0622 - accuracy: 0.9837 - val_loss: 0.1851 - val_accuracy: 0.9632\n",
      "Epoch 22/30\n",
      "2400/2400 [==============================] - 2s 945us/step - loss: 0.0559 - accuracy: 0.9855 - val_loss: 0.1848 - val_accuracy: 0.9664\n",
      "Epoch 23/30\n",
      "2400/2400 [==============================] - 2s 981us/step - loss: 0.0596 - accuracy: 0.9840 - val_loss: 0.1772 - val_accuracy: 0.9663\n",
      "Epoch 24/30\n",
      "2400/2400 [==============================] - 2s 938us/step - loss: 0.0553 - accuracy: 0.9853 - val_loss: 0.2032 - val_accuracy: 0.9621\n",
      "Epoch 25/30\n",
      "2400/2400 [==============================] - 2s 1ms/step - loss: 0.0565 - accuracy: 0.9856 - val_loss: 0.2452 - val_accuracy: 0.9629\n",
      "Epoch 26/30\n",
      "2400/2400 [==============================] - 2s 983us/step - loss: 0.0522 - accuracy: 0.9857 - val_loss: 0.2319 - val_accuracy: 0.9606\n",
      "Epoch 27/30\n",
      "2400/2400 [==============================] - 2s 1ms/step - loss: 0.0506 - accuracy: 0.9871 - val_loss: 0.2162 - val_accuracy: 0.9654\n",
      "Epoch 28/30\n",
      "2400/2400 [==============================] - 2s 1ms/step - loss: 0.0523 - accuracy: 0.9867 - val_loss: 0.2218 - val_accuracy: 0.9659\n",
      "Epoch 29/30\n",
      "2400/2400 [==============================] - 2s 974us/step - loss: 0.0494 - accuracy: 0.9874 - val_loss: 0.2218 - val_accuracy: 0.9659\n",
      "Epoch 30/30\n",
      "2400/2400 [==============================] - 2s 984us/step - loss: 0.0494 - accuracy: 0.9877 - val_loss: 0.2303 - val_accuracy: 0.9655\n"
     ]
    }
   ],
   "source": [
    "# epochs가 너무 높으면 overfitting이 될 수 있다.\n",
    "# bacti_size = 20 : 20개의 데이터마다 실제 레이블과 비교, \n",
    "#                   처음에 틀리게 예측하더라도 가중치 업데이트를 하면서 뒤에는 맞추게 될 확률이 높다.\n",
    "hist = model.fit(x_train_vec, y_train_oh, epochs=30, batch_size=20, validation_split=0.2)"
   ]
  },
  {
   "cell_type": "code",
   "execution_count": 30,
   "id": "3b6c9c5d",
   "metadata": {},
   "outputs": [
    {
     "name": "stdout",
     "output_type": "stream",
     "text": [
      "313/313 [==============================] - 0s 991us/step - loss: 0.2351 - accuracy: 0.9665\n"
     ]
    },
    {
     "data": {
      "text/plain": [
       "[0.23507565259933472, 0.9664999842643738]"
      ]
     },
     "execution_count": 30,
     "metadata": {},
     "output_type": "execute_result"
    }
   ],
   "source": [
    "model.evaluate(x_test_vec, y_test_oh)"
   ]
  },
  {
   "cell_type": "code",
   "execution_count": null,
   "id": "9b139aba",
   "metadata": {},
   "outputs": [],
   "source": []
  },
  {
   "cell_type": "code",
   "execution_count": 32,
   "id": "31eb78d4",
   "metadata": {},
   "outputs": [
    {
     "data": {
      "text/plain": [
       "[<matplotlib.lines.Line2D at 0x2cc69133070>]"
      ]
     },
     "execution_count": 32,
     "metadata": {},
     "output_type": "execute_result"
    },
    {
     "data": {
      "image/png": "[encoded data removed]",
      "text/plain": [
       "<Figure size 432x288 with 1 Axes>"
      ]
     },
     "metadata": {
      "needs_background": "light"
     },
     "output_type": "display_data"
    }
   ],
   "source": [
    "plt.plot(hist.history['accuracy'], c='r')\n",
    "plt.plot(hist.history['val_accuracy'], c='b')"
   ]
  },
  {
   "cell_type": "code",
   "execution_count": null,
   "id": "69a051e5",
   "metadata": {},
   "outputs": [],
   "source": []
  },
  {
   "cell_type": "code",
   "execution_count": 33,
   "id": "4ab75ed8",
   "metadata": {},
   "outputs": [],
   "source": [
    "# CNN"
   ]
  },
  {
   "cell_type": "code",
   "execution_count": 35,
   "id": "2811494e",
   "metadata": {},
   "outputs": [],
   "source": [
    "from tensorflow.keras.layers import Conv2D, Flatten, MaxPooling2D, Dropout"
   ]
  },
  {
   "cell_type": "code",
   "execution_count": 37,
   "id": "456876d0",
   "metadata": {},
   "outputs": [],
   "source": [
    "# data num, row num, col num, depth\n",
    "x_train_cov = x_train.reshape(60000, 28, 28, 1)\n",
    "x_test_cov = x_test.reshape(10000, 28, 28, 1)"
   ]
  },
  {
   "cell_type": "code",
   "execution_count": null,
   "id": "728b0531",
   "metadata": {},
   "outputs": [],
   "source": []
  },
  {
   "cell_type": "code",
   "execution_count": 47,
   "id": "dbda8f18",
   "metadata": {},
   "outputs": [
    {
     "name": "stdout",
     "output_type": "stream",
     "text": [
      "Model: \"sequential_5\"\n",
      "_________________________________________________________________\n",
      " Layer (type)                Output Shape              Param #   \n",
      "=================================================================\n",
      " conv2d_4 (Conv2D)           (None, 26, 26, 32)        320       \n",
      "                                                                 \n",
      " conv2d_5 (Conv2D)           (None, 24, 24, 64)        18496     \n",
      "                                                                 \n",
      " max_pooling2d_2 (MaxPooling  (None, 12, 12, 64)       0         \n",
      " 2D)                                                             \n",
      "                                                                 \n",
      " flatten_2 (Flatten)         (None, 9216)              0         \n",
      "                                                                 \n",
      " dense_16 (Dense)            (None, 128)               1179776   \n",
      "                                                                 \n",
      " dense_17 (Dense)            (None, 10)                1290      \n",
      "                                                                 \n",
      "=================================================================\n",
      "Total params: 1,199,882\n",
      "Trainable params: 1,199,882\n",
      "Non-trainable params: 0\n",
      "_________________________________________________________________\n"
     ]
    }
   ],
   "source": [
    "model = Sequential()\n",
    "# Dense가 아니라 Conv2D layer\n",
    "# input layer에 shape를 지정해준다.\n",
    "# filter 갯수 = 32\n",
    "model.add((Conv2D(32, kernel_size=(3,3), input_shape=(28,28,1), activation='relu')))\n",
    "\n",
    "# kernel_size = (3,3)\n",
    "# filter 갯수 = 64\n",
    "model.add((Conv2D(64, (3,3), activation='relu')))\n",
    "\n",
    "# Max값을 뽑아내는 pooling filter\n",
    "# pooling filter size = 2\n",
    "model.add(MaxPooling2D(pool_size=2))\n",
    "\n",
    "# Flatten : 1차원으로 변경\n",
    "model.add((Flatten()))\n",
    "model.add(Dense(128, activation='relu'))\n",
    "model.add(Dense(10, activation='softmax'))\n",
    "model.summary()"
   ]
  },
  {
   "cell_type": "code",
   "execution_count": null,
   "id": "afbd755d",
   "metadata": {},
   "outputs": [],
   "source": []
  },
  {
   "cell_type": "code",
   "execution_count": 48,
   "id": "2e2a48a5",
   "metadata": {},
   "outputs": [],
   "source": [
    "model.compile(loss='categorical_crossentropy', metrics=['accuracy'], optimizer='adam')"
   ]
  },
  {
   "cell_type": "code",
   "execution_count": 49,
   "id": "724a3d49",
   "metadata": {},
   "outputs": [
    {
     "name": "stdout",
     "output_type": "stream",
     "text": [
      "Epoch 1/10\n",
      "2400/2400 [==============================] - 32s 13ms/step - loss: 0.2571 - accuracy: 0.9568 - val_loss: 0.0881 - val_accuracy: 0.9753\n",
      "Epoch 2/10\n",
      "2400/2400 [==============================] - 32s 13ms/step - loss: 0.0558 - accuracy: 0.9829 - val_loss: 0.0843 - val_accuracy: 0.9749\n",
      "Epoch 3/10\n",
      "2400/2400 [==============================] - 32s 13ms/step - loss: 0.0398 - accuracy: 0.9873 - val_loss: 0.0709 - val_accuracy: 0.9826\n",
      "Epoch 4/10\n",
      "2400/2400 [==============================] - 32s 13ms/step - loss: 0.0313 - accuracy: 0.9905 - val_loss: 0.0782 - val_accuracy: 0.9808\n",
      "Epoch 5/10\n",
      "2400/2400 [==============================] - 32s 13ms/step - loss: 0.0253 - accuracy: 0.9922 - val_loss: 0.0951 - val_accuracy: 0.9796\n",
      "Epoch 6/10\n",
      "2400/2400 [==============================] - 32s 13ms/step - loss: 0.0218 - accuracy: 0.9934 - val_loss: 0.1030 - val_accuracy: 0.9804\n",
      "Epoch 7/10\n",
      "2400/2400 [==============================] - 32s 13ms/step - loss: 0.0194 - accuracy: 0.9948 - val_loss: 0.1021 - val_accuracy: 0.9831\n",
      "Epoch 8/10\n",
      "2400/2400 [==============================] - 32s 13ms/step - loss: 0.0180 - accuracy: 0.9954 - val_loss: 0.1120 - val_accuracy: 0.9848\n",
      "Epoch 9/10\n",
      "2400/2400 [==============================] - 32s 13ms/step - loss: 0.0225 - accuracy: 0.9948 - val_loss: 0.1228 - val_accuracy: 0.9827\n",
      "Epoch 10/10\n",
      "2400/2400 [==============================] - 32s 13ms/step - loss: 0.0146 - accuracy: 0.9963 - val_loss: 0.1174 - val_accuracy: 0.9868\n"
     ]
    }
   ],
   "source": [
    "hist = model.fit(x_train_cov, y_train_oh, epochs=10, batch_size=20, validation_split=0.2)"
   ]
  },
  {
   "cell_type": "code",
   "execution_count": null,
   "id": "fb073aea",
   "metadata": {},
   "outputs": [],
   "source": [
    "model.evaluate(x_test_vec, y_test_oh)"
   ]
  },
  {
   "cell_type": "code",
   "execution_count": null,
   "id": "b51d8fd1",
   "metadata": {},
   "outputs": [],
   "source": [
    "plt.plot(hist,history['accuracy'])\n",
    "plt.plot(hist,history['val_accuracy'])"
   ]
  }
 ],
 "metadata": {
  "kernelspec": {
   "display_name": "Python 3 (ipykernel)",
   "language": "python",
   "name": "python3"
  },
  "language_info": {
   "codemirror_mode": {
    "name": "ipython",
    "version": 3
   },
   "file_extension": ".py",
   "mimetype": "text/x-python",
   "name": "python",
   "nbconvert_exporter": "python",
   "pygments_lexer": "ipython3",
   "version": "3.9.7"
  }
 },
 "nbformat": 4,
 "nbformat_minor": 5
}
