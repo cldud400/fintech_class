{
 "cells": [
  {
   "cell_type": "code",
   "execution_count": 1,
   "id": "f6fc57e1",
   "metadata": {},
   "outputs": [],
   "source": [
    "import pandas as pd\n",
    "import numpy as np\n",
    "import matplotlib.pyplot as plt\n",
    "import seaborn as sns"
   ]
  },
  {
   "cell_type": "code",
   "execution_count": 3,
   "id": "6a825a65",
   "metadata": {},
   "outputs": [],
   "source": [
    "from tensorflow.keras.layers import *\n",
    "from tensorflow.keras.models import *\n",
    "import tensorflow as tf\n",
    "from tensorflow import keras"
   ]
  },
  {
   "cell_type": "code",
   "execution_count": 19,
   "id": "1a30f5b9",
   "metadata": {
    "scrolled": true
   },
   "outputs": [],
   "source": [
    "(train_input, train_target), (test_input, test_target) = keras.datasets.fashion_mnist.load_data()"
   ]
  },
  {
   "cell_type": "code",
   "execution_count": 20,
   "id": "16405775",
   "metadata": {},
   "outputs": [
    {
     "name": "stdout",
     "output_type": "stream",
     "text": [
      "((60000, 28, 28), (60000,))\n"
     ]
    }
   ],
   "source": [
    "print((train_input.shape, train_target.shape))"
   ]
  },
  {
   "cell_type": "code",
   "execution_count": 22,
   "id": "6c2c26e5",
   "metadata": {},
   "outputs": [
    {
     "name": "stdout",
     "output_type": "stream",
     "text": [
      "((10000, 28, 28), (10000,))\n"
     ]
    }
   ],
   "source": [
    "print((test_input.shape, test_target.shape))"
   ]
  },
  {
   "cell_type": "code",
   "execution_count": null,
   "id": "a679fda0",
   "metadata": {},
   "outputs": [],
   "source": []
  },
  {
   "cell_type": "code",
   "execution_count": 23,
   "id": "a92abc1a",
   "metadata": {},
   "outputs": [
    {
     "data": {
      "image/png": "[encoded data removed]",
      "text/plain": [
       "<Figure size 720x720 with 10 Axes>"
      ]
     },
     "metadata": {
      "needs_background": "light"
     },
     "output_type": "display_data"
    }
   ],
   "source": [
    "fig, axs = plt.subplots(1,10, figsize=(10,10))\n",
    "for i in range(10):\n",
    "    axs[i].imshow(train_input[i], cmap='gray_r')\n",
    "    axs[i].axis('off')\n",
    "plt.show()"
   ]
  },
  {
   "cell_type": "code",
   "execution_count": 24,
   "id": "6494742a",
   "metadata": {},
   "outputs": [
    {
     "data": {
      "text/plain": [
       "array([9, 0, 0, 3, 0, 2, 7, 2, 5, 5], dtype=uint8)"
      ]
     },
     "execution_count": 24,
     "metadata": {},
     "output_type": "execute_result"
    }
   ],
   "source": [
    "train_target[:10]"
   ]
  },
  {
   "cell_type": "code",
   "execution_count": 25,
   "id": "f0dcab79",
   "metadata": {},
   "outputs": [
    {
     "data": {
      "text/plain": [
       "9    6000\n",
       "0    6000\n",
       "3    6000\n",
       "2    6000\n",
       "7    6000\n",
       "5    6000\n",
       "1    6000\n",
       "6    6000\n",
       "4    6000\n",
       "8    6000\n",
       "dtype: int64"
      ]
     },
     "execution_count": 25,
     "metadata": {},
     "output_type": "execute_result"
    }
   ],
   "source": [
    "pd.Series(train_target).value_counts()"
   ]
  },
  {
   "cell_type": "code",
   "execution_count": null,
   "id": "850731a3",
   "metadata": {},
   "outputs": [],
   "source": []
  },
  {
   "cell_type": "code",
   "execution_count": 26,
   "id": "e1207091",
   "metadata": {},
   "outputs": [
    {
     "data": {
      "text/plain": [
       "<matplotlib.image.AxesImage at 0x232bc0c8be0>"
      ]
     },
     "execution_count": 26,
     "metadata": {},
     "output_type": "execute_result"
    },
    {
     "data": {
      "image/png": "[encoded data removed]",
      "text/plain": [
       "<Figure size 432x288 with 1 Axes>"
      ]
     },
     "metadata": {
      "needs_background": "light"
     },
     "output_type": "display_data"
    }
   ],
   "source": [
    "plt.imshow(train_input[0], cmap='gray_r')"
   ]
  },
  {
   "cell_type": "code",
   "execution_count": 33,
   "id": "fe3c9448",
   "metadata": {},
   "outputs": [],
   "source": [
    "x_train, x_test, y_train, y_test = train_input.reshape(60000,28*28), test_input.reshape(10000, 28*28),\\\n",
    "                                   train_target, test_target"
   ]
  },
  {
   "cell_type": "code",
   "execution_count": 40,
   "id": "a0ec0f6a",
   "metadata": {},
   "outputs": [],
   "source": [
    "y_train_oh = tf.keras.utils.to_categorical(y_train)\n",
    "y_test_oh = tf.keras.utils.to_categorical(y_test)"
   ]
  },
  {
   "cell_type": "code",
   "execution_count": null,
   "id": "c71b7096",
   "metadata": {},
   "outputs": [],
   "source": [
    "# logisticRegression"
   ]
  },
  {
   "cell_type": "code",
   "execution_count": 34,
   "id": "382a1f74",
   "metadata": {},
   "outputs": [
    {
     "name": "stderr",
     "output_type": "stream",
     "text": [
      "C:\\Users\\bitcamp\\anaconda3\\lib\\site-packages\\sklearn\\linear_model\\_logistic.py:814: ConvergenceWarning: lbfgs failed to converge (status=1):\n",
      "STOP: TOTAL NO. of ITERATIONS REACHED LIMIT.\n",
      "\n",
      "Increase the number of iterations (max_iter) or scale the data as shown in:\n",
      "    https://scikit-learn.org/stable/modules/preprocessing.html\n",
      "Please also refer to the documentation for alternative solver options:\n",
      "    https://scikit-learn.org/stable/modules/linear_model.html#logistic-regression\n",
      "  n_iter_i = _check_optimize_result(\n"
     ]
    },
    {
     "data": {
      "text/plain": [
       "0.8412"
      ]
     },
     "execution_count": 34,
     "metadata": {},
     "output_type": "execute_result"
    }
   ],
   "source": [
    "from sklearn.linear_model import LogisticRegression\n",
    "log = LogisticRegression()\n",
    "log.fit(x_train, y_train)\n",
    "log.score(x_test, y_test)"
   ]
  },
  {
   "cell_type": "code",
   "execution_count": null,
   "id": "8f3ef2b2",
   "metadata": {},
   "outputs": [],
   "source": []
  },
  {
   "cell_type": "code",
   "execution_count": 53,
   "id": "d667e0f7",
   "metadata": {},
   "outputs": [],
   "source": [
    "# deep learning"
   ]
  },
  {
   "cell_type": "code",
   "execution_count": 46,
   "id": "d3bbd73d",
   "metadata": {},
   "outputs": [
    {
     "name": "stdout",
     "output_type": "stream",
     "text": [
      "Model: \"sequential_1\"\n",
      "_________________________________________________________________\n",
      " Layer (type)                Output Shape              Param #   \n",
      "=================================================================\n",
      " dense_3 (Dense)             (None, 128)               100480    \n",
      "                                                                 \n",
      " dense_4 (Dense)             (None, 64)                8256      \n",
      "                                                                 \n",
      " dense_5 (Dense)             (None, 10)                650       \n",
      "                                                                 \n",
      "=================================================================\n",
      "Total params: 109,386\n",
      "Trainable params: 109,386\n",
      "Non-trainable params: 0\n",
      "_________________________________________________________________\n"
     ]
    }
   ],
   "source": [
    "model = Sequential()\n",
    "model.add(Dense(128, input_dim=28*28, activation='relu'))\n",
    "model.add(Dense(64, activation='relu'))\n",
    "model.add(Dense(10, activation='softmax'))\n",
    "model.summary()"
   ]
  },
  {
   "cell_type": "code",
   "execution_count": 47,
   "id": "4c883bf7",
   "metadata": {},
   "outputs": [],
   "source": [
    "model.compile(loss='categorical_crossentropy', metrics=['accuracy'], optimizer='adam')"
   ]
  },
  {
   "cell_type": "code",
   "execution_count": 48,
   "id": "5b7a7448",
   "metadata": {},
   "outputs": [
    {
     "name": "stdout",
     "output_type": "stream",
     "text": [
      "Epoch 1/50\n",
      "2400/2400 [==============================] - 3s 1ms/step - loss: 2.2086 - accuracy: 0.7368 - val_loss: 0.6998 - val_accuracy: 0.7827\n",
      "Epoch 2/50\n",
      "2400/2400 [==============================] - 2s 943us/step - loss: 0.5947 - accuracy: 0.7998 - val_loss: 0.5644 - val_accuracy: 0.8034\n",
      "Epoch 3/50\n",
      "2400/2400 [==============================] - 2s 1ms/step - loss: 0.5114 - accuracy: 0.8199 - val_loss: 0.5187 - val_accuracy: 0.8227\n",
      "Epoch 4/50\n",
      "2400/2400 [==============================] - 2s 913us/step - loss: 0.4718 - accuracy: 0.8329 - val_loss: 0.4606 - val_accuracy: 0.8318\n",
      "Epoch 5/50\n",
      "2400/2400 [==============================] - 2s 1ms/step - loss: 0.4410 - accuracy: 0.8429 - val_loss: 0.5371 - val_accuracy: 0.8096\n",
      "Epoch 6/50\n",
      "2400/2400 [==============================] - 2s 962us/step - loss: 0.4178 - accuracy: 0.8503 - val_loss: 0.4207 - val_accuracy: 0.8528\n",
      "Epoch 7/50\n",
      "2400/2400 [==============================] - 2s 986us/step - loss: 0.4122 - accuracy: 0.8537 - val_loss: 0.4562 - val_accuracy: 0.8443\n",
      "Epoch 8/50\n",
      "2400/2400 [==============================] - 2s 962us/step - loss: 0.3949 - accuracy: 0.8590 - val_loss: 0.4296 - val_accuracy: 0.8543\n",
      "Epoch 9/50\n",
      "2400/2400 [==============================] - 2s 1ms/step - loss: 0.3880 - accuracy: 0.8618 - val_loss: 0.4420 - val_accuracy: 0.8518\n",
      "Epoch 10/50\n",
      "2400/2400 [==============================] - 2s 1ms/step - loss: 0.3770 - accuracy: 0.8662 - val_loss: 0.4371 - val_accuracy: 0.8430\n",
      "Epoch 11/50\n",
      "2400/2400 [==============================] - 2s 1ms/step - loss: 0.3769 - accuracy: 0.8669 - val_loss: 0.4288 - val_accuracy: 0.8558\n",
      "Epoch 12/50\n",
      "2400/2400 [==============================] - 2s 1ms/step - loss: 0.3764 - accuracy: 0.8673 - val_loss: 0.4380 - val_accuracy: 0.8556\n",
      "Epoch 13/50\n",
      "2400/2400 [==============================] - 2s 1ms/step - loss: 0.3665 - accuracy: 0.8688 - val_loss: 0.4455 - val_accuracy: 0.8516\n",
      "Epoch 14/50\n",
      "2400/2400 [==============================] - 2s 1ms/step - loss: 0.3686 - accuracy: 0.8694 - val_loss: 0.4693 - val_accuracy: 0.8493\n",
      "Epoch 15/50\n",
      "2400/2400 [==============================] - 2s 1ms/step - loss: 0.3563 - accuracy: 0.8738 - val_loss: 0.4369 - val_accuracy: 0.8605\n",
      "Epoch 16/50\n",
      "2400/2400 [==============================] - 2s 1ms/step - loss: 0.3637 - accuracy: 0.8723 - val_loss: 0.4221 - val_accuracy: 0.8637\n",
      "Epoch 17/50\n",
      "2400/2400 [==============================] - 2s 1ms/step - loss: 0.3607 - accuracy: 0.8741 - val_loss: 0.4305 - val_accuracy: 0.8535\n",
      "Epoch 18/50\n",
      "2400/2400 [==============================] - 2s 1ms/step - loss: 0.3560 - accuracy: 0.8750 - val_loss: 0.4387 - val_accuracy: 0.8622\n",
      "Epoch 19/50\n",
      "2400/2400 [==============================] - 2s 1ms/step - loss: 0.3524 - accuracy: 0.8752 - val_loss: 0.4605 - val_accuracy: 0.8566\n",
      "Epoch 20/50\n",
      "2400/2400 [==============================] - 2s 1ms/step - loss: 0.3443 - accuracy: 0.8777 - val_loss: 0.4956 - val_accuracy: 0.8515\n",
      "Epoch 21/50\n",
      "2400/2400 [==============================] - 2s 927us/step - loss: 0.3470 - accuracy: 0.8764 - val_loss: 0.4226 - val_accuracy: 0.8616\n",
      "Epoch 22/50\n",
      "2400/2400 [==============================] - 3s 1ms/step - loss: 0.3422 - accuracy: 0.8789 - val_loss: 0.4933 - val_accuracy: 0.8527\n",
      "Epoch 23/50\n",
      "2400/2400 [==============================] - 2s 965us/step - loss: 0.3500 - accuracy: 0.8779 - val_loss: 0.4510 - val_accuracy: 0.8637\n",
      "Epoch 24/50\n",
      "2400/2400 [==============================] - 3s 1ms/step - loss: 0.3468 - accuracy: 0.8792 - val_loss: 0.4923 - val_accuracy: 0.8418\n",
      "Epoch 25/50\n",
      "2400/2400 [==============================] - 2s 976us/step - loss: 0.3332 - accuracy: 0.8813 - val_loss: 0.4611 - val_accuracy: 0.8662\n",
      "Epoch 26/50\n",
      "2400/2400 [==============================] - 2s 1ms/step - loss: 0.3347 - accuracy: 0.8818 - val_loss: 0.4687 - val_accuracy: 0.8590\n",
      "Epoch 27/50\n",
      "2400/2400 [==============================] - 2s 963us/step - loss: 0.3348 - accuracy: 0.8816 - val_loss: 0.4581 - val_accuracy: 0.8645\n",
      "Epoch 28/50\n",
      "2400/2400 [==============================] - 2s 1ms/step - loss: 0.3388 - accuracy: 0.8810 - val_loss: 0.5908 - val_accuracy: 0.8317\n",
      "Epoch 29/50\n",
      "2400/2400 [==============================] - 3s 1ms/step - loss: 0.3321 - accuracy: 0.8824 - val_loss: 0.4986 - val_accuracy: 0.8545\n",
      "Epoch 30/50\n",
      "2400/2400 [==============================] - 2s 1ms/step - loss: 0.3342 - accuracy: 0.8820 - val_loss: 0.4566 - val_accuracy: 0.8560\n",
      "Epoch 31/50\n",
      "2400/2400 [==============================] - 2s 999us/step - loss: 0.3257 - accuracy: 0.8861 - val_loss: 0.4832 - val_accuracy: 0.8667\n",
      "Epoch 32/50\n",
      "2400/2400 [==============================] - 3s 1ms/step - loss: 0.3256 - accuracy: 0.8840 - val_loss: 0.4904 - val_accuracy: 0.8599\n",
      "Epoch 33/50\n",
      "2400/2400 [==============================] - 3s 1ms/step - loss: 0.3290 - accuracy: 0.8841 - val_loss: 0.5025 - val_accuracy: 0.8497\n",
      "Epoch 34/50\n",
      "2400/2400 [==============================] - 2s 1ms/step - loss: 0.3325 - accuracy: 0.8834 - val_loss: 0.5382 - val_accuracy: 0.8560\n",
      "Epoch 35/50\n",
      "2400/2400 [==============================] - 2s 998us/step - loss: 0.3259 - accuracy: 0.8848 - val_loss: 0.5343 - val_accuracy: 0.8615\n",
      "Epoch 36/50\n",
      "2400/2400 [==============================] - 2s 974us/step - loss: 0.3301 - accuracy: 0.8841 - val_loss: 0.5379 - val_accuracy: 0.8512\n",
      "Epoch 37/50\n",
      "2400/2400 [==============================] - 3s 1ms/step - loss: 0.3196 - accuracy: 0.8862 - val_loss: 0.5101 - val_accuracy: 0.8538\n",
      "Epoch 38/50\n",
      "2400/2400 [==============================] - 2s 923us/step - loss: 0.3201 - accuracy: 0.8858 - val_loss: 0.4739 - val_accuracy: 0.8678\n",
      "Epoch 39/50\n",
      "2400/2400 [==============================] - 3s 1ms/step - loss: 0.3088 - accuracy: 0.8905 - val_loss: 0.5025 - val_accuracy: 0.8634\n",
      "Epoch 40/50\n",
      "2400/2400 [==============================] - 2s 965us/step - loss: 0.3238 - accuracy: 0.8855 - val_loss: 0.5056 - val_accuracy: 0.8594\n",
      "Epoch 41/50\n",
      "2400/2400 [==============================] - 3s 1ms/step - loss: 0.3235 - accuracy: 0.8854 - val_loss: 0.5746 - val_accuracy: 0.8498\n",
      "Epoch 42/50\n",
      "2400/2400 [==============================] - 2s 996us/step - loss: 0.3121 - accuracy: 0.8875 - val_loss: 0.5028 - val_accuracy: 0.8645\n",
      "Epoch 43/50\n",
      "2400/2400 [==============================] - 3s 1ms/step - loss: 0.3136 - accuracy: 0.8876 - val_loss: 0.6069 - val_accuracy: 0.8683\n",
      "Epoch 44/50\n",
      "2400/2400 [==============================] - 2s 983us/step - loss: 0.3303 - accuracy: 0.8844 - val_loss: 0.5700 - val_accuracy: 0.8618\n",
      "Epoch 45/50\n",
      "2400/2400 [==============================] - 2s 1ms/step - loss: 0.3079 - accuracy: 0.8896 - val_loss: 0.5787 - val_accuracy: 0.8482\n",
      "Epoch 46/50\n",
      "2400/2400 [==============================] - 2s 999us/step - loss: 0.3177 - accuracy: 0.8891 - val_loss: 0.5400 - val_accuracy: 0.8666\n",
      "Epoch 47/50\n",
      "2400/2400 [==============================] - 2s 1ms/step - loss: 0.3052 - accuracy: 0.8915 - val_loss: 0.5792 - val_accuracy: 0.8660\n",
      "Epoch 48/50\n",
      "2400/2400 [==============================] - 2s 1ms/step - loss: 0.3195 - accuracy: 0.8869 - val_loss: 0.5803 - val_accuracy: 0.8470\n",
      "Epoch 49/50\n",
      "2400/2400 [==============================] - 2s 1ms/step - loss: 0.3113 - accuracy: 0.8901 - val_loss: 0.5697 - val_accuracy: 0.8541\n",
      "Epoch 50/50\n",
      "2400/2400 [==============================] - 3s 1ms/step - loss: 0.3134 - accuracy: 0.8891 - val_loss: 0.6009 - val_accuracy: 0.8524\n"
     ]
    }
   ],
   "source": [
    "hist = model.fit(x_train, y_train_oh, validation_split=0.2, epochs=50, batch_size=20)"
   ]
  },
  {
   "cell_type": "code",
   "execution_count": 49,
   "id": "7fb084ef",
   "metadata": {},
   "outputs": [
    {
     "data": {
      "text/plain": [
       "[<matplotlib.lines.Line2D at 0x232ce551580>]"
      ]
     },
     "execution_count": 49,
     "metadata": {},
     "output_type": "execute_result"
    },
    {
     "data": {
      "image/png": "[encoded data removed]",
      "text/plain": [
       "<Figure size 432x288 with 1 Axes>"
      ]
     },
     "metadata": {
      "needs_background": "light"
     },
     "output_type": "display_data"
    }
   ],
   "source": [
    "plt.plot(hist.history['loss'])\n",
    "plt.plot(hist.history['val_loss'])"
   ]
  },
  {
   "cell_type": "code",
   "execution_count": 50,
   "id": "4f2d1a03",
   "metadata": {},
   "outputs": [
    {
     "data": {
      "text/plain": [
       "[<matplotlib.lines.Line2D at 0x232ce5cc7f0>]"
      ]
     },
     "execution_count": 50,
     "metadata": {},
     "output_type": "execute_result"
    },
    {
     "data": {
      "image/png": "[encoded data removed]",
      "text/plain": [
       "<Figure size 432x288 with 1 Axes>"
      ]
     },
     "metadata": {
      "needs_background": "light"
     },
     "output_type": "display_data"
    }
   ],
   "source": [
    "plt.plot(hist.history['accuracy'])\n",
    "plt.plot(hist.history['val_accuracy'])"
   ]
  },
  {
   "cell_type": "code",
   "execution_count": 52,
   "id": "74e10e10",
   "metadata": {},
   "outputs": [
    {
     "name": "stdout",
     "output_type": "stream",
     "text": [
      "313/313 [==============================] - 0s 1ms/step - loss: 0.6250 - accuracy: 0.8479\n"
     ]
    },
    {
     "data": {
      "text/plain": [
       "[0.6250352263450623, 0.8478999733924866]"
      ]
     },
     "execution_count": 52,
     "metadata": {},
     "output_type": "execute_result"
    }
   ],
   "source": [
    "model.evaluate(x_test, y_test_oh)"
   ]
  },
  {
   "cell_type": "code",
   "execution_count": null,
   "id": "d191e51d",
   "metadata": {},
   "outputs": [],
   "source": []
  },
  {
   "cell_type": "code",
   "execution_count": null,
   "id": "f9a75bf3",
   "metadata": {},
   "outputs": [],
   "source": []
  },
  {
   "cell_type": "code",
   "execution_count": null,
   "id": "1dccf45e",
   "metadata": {},
   "outputs": [],
   "source": [
    "# image matrix 데이터를 vectorizing하지 말고, matrix구조 그대로 학습 => CNN"
   ]
  }
 ],
 "metadata": {
  "kernelspec": {
   "display_name": "Python 3 (ipykernel)",
   "language": "python",
   "name": "python3"
  },
  "language_info": {
   "codemirror_mode": {
    "name": "ipython",
    "version": 3
   },
   "file_extension": ".py",
   "mimetype": "text/x-python",
   "name": "python",
   "nbconvert_exporter": "python",
   "pygments_lexer": "ipython3",
   "version": "3.9.7"
  }
 },
 "nbformat": 4,
 "nbformat_minor": 5
}
