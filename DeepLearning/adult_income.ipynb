{
 "cells": [
  {
   "cell_type": "code",
   "execution_count": null,
   "id": "b081b543",
   "metadata": {},
   "outputs": [],
   "source": [
    "# https://drive.google.com/drive/folders/1TDAeYT30IDKgULs0UBxsv3YLaDnawOkg?usp=sharing"
   ]
  },
  {
   "cell_type": "code",
   "execution_count": 3,
   "id": "6bfa282a",
   "metadata": {},
   "outputs": [],
   "source": [
    "import pandas as pd\n",
    "import numpy as np\n",
    "import matplotlib.pyplot as plt\n",
    "import seaborn as sns"
   ]
  },
  {
   "cell_type": "code",
   "execution_count": 98,
   "id": "bda46c6e",
   "metadata": {},
   "outputs": [],
   "source": [
    "from tensorflow.keras.layers import *\n",
    "from tensorflow.keras.models import *\n",
    "import tensorflow as tf"
   ]
  },
  {
   "cell_type": "code",
   "execution_count": 9,
   "id": "df780b8c",
   "metadata": {},
   "outputs": [
    {
     "data": {
      "text/html": [
       "<div>\n",
       "<style scoped>\n",
       "    .dataframe tbody tr th:only-of-type {\n",
       "        vertical-align: middle;\n",
       "    }\n",
       "\n",
       "    .dataframe tbody tr th {\n",
       "        vertical-align: top;\n",
       "    }\n",
       "\n",
       "    .dataframe thead th {\n",
       "        text-align: right;\n",
       "    }\n",
       "</style>\n",
       "<table border=\"1\" class=\"dataframe\">\n",
       "  <thead>\n",
       "    <tr style=\"text-align: right;\">\n",
       "      <th></th>\n",
       "      <th>age</th>\n",
       "      <th>workclass</th>\n",
       "      <th>fnlwgt</th>\n",
       "      <th>education</th>\n",
       "      <th>education_num</th>\n",
       "      <th>marital_status</th>\n",
       "      <th>occupation</th>\n",
       "      <th>relationship</th>\n",
       "      <th>race</th>\n",
       "      <th>sex</th>\n",
       "      <th>capital-gain</th>\n",
       "      <th>capital-loss</th>\n",
       "      <th>hours-per-week</th>\n",
       "      <th>native-country</th>\n",
       "      <th>50k</th>\n",
       "    </tr>\n",
       "  </thead>\n",
       "  <tbody>\n",
       "    <tr>\n",
       "      <th>0</th>\n",
       "      <td>39</td>\n",
       "      <td>State-gov</td>\n",
       "      <td>77516</td>\n",
       "      <td>Bachelors</td>\n",
       "      <td>13</td>\n",
       "      <td>Never-married</td>\n",
       "      <td>Adm-clerical</td>\n",
       "      <td>Not-in-family</td>\n",
       "      <td>White</td>\n",
       "      <td>Male</td>\n",
       "      <td>2174</td>\n",
       "      <td>0</td>\n",
       "      <td>40</td>\n",
       "      <td>United-States</td>\n",
       "      <td>&lt;=50K</td>\n",
       "    </tr>\n",
       "    <tr>\n",
       "      <th>1</th>\n",
       "      <td>50</td>\n",
       "      <td>Self-emp-not-inc</td>\n",
       "      <td>83311</td>\n",
       "      <td>Bachelors</td>\n",
       "      <td>13</td>\n",
       "      <td>Married-civ-spouse</td>\n",
       "      <td>Exec-managerial</td>\n",
       "      <td>Husband</td>\n",
       "      <td>White</td>\n",
       "      <td>Male</td>\n",
       "      <td>0</td>\n",
       "      <td>0</td>\n",
       "      <td>13</td>\n",
       "      <td>United-States</td>\n",
       "      <td>&lt;=50K</td>\n",
       "    </tr>\n",
       "    <tr>\n",
       "      <th>2</th>\n",
       "      <td>38</td>\n",
       "      <td>Private</td>\n",
       "      <td>215646</td>\n",
       "      <td>HS-grad</td>\n",
       "      <td>9</td>\n",
       "      <td>Divorced</td>\n",
       "      <td>Handlers-cleaners</td>\n",
       "      <td>Not-in-family</td>\n",
       "      <td>White</td>\n",
       "      <td>Male</td>\n",
       "      <td>0</td>\n",
       "      <td>0</td>\n",
       "      <td>40</td>\n",
       "      <td>United-States</td>\n",
       "      <td>&lt;=50K</td>\n",
       "    </tr>\n",
       "  </tbody>\n",
       "</table>\n",
       "</div>"
      ],
      "text/plain": [
       "   age          workclass  fnlwgt   education  education_num  \\\n",
       "0   39          State-gov   77516   Bachelors             13   \n",
       "1   50   Self-emp-not-inc   83311   Bachelors             13   \n",
       "2   38            Private  215646     HS-grad              9   \n",
       "\n",
       "        marital_status          occupation    relationship    race    sex  \\\n",
       "0        Never-married        Adm-clerical   Not-in-family   White   Male   \n",
       "1   Married-civ-spouse     Exec-managerial         Husband   White   Male   \n",
       "2             Divorced   Handlers-cleaners   Not-in-family   White   Male   \n",
       "\n",
       "   capital-gain  capital-loss  hours-per-week  native-country     50k  \n",
       "0          2174             0              40   United-States   <=50K  \n",
       "1             0             0              13   United-States   <=50K  \n",
       "2             0             0              40   United-States   <=50K  "
      ]
     },
     "execution_count": 9,
     "metadata": {},
     "output_type": "execute_result"
    }
   ],
   "source": [
    "df = pd.read_csv('./datafiles/adult.txt', header=None, names = ['age', 'workclass','fnlwgt', 'education', 'education_num', 'marital_status', 'occupation', 'relationship', 'race'\\\n",
    ", 'sex', 'capital-gain', 'capital-loss', 'hours-per-week', 'native-country', '50k'])\n",
    "df.head(3)"
   ]
  },
  {
   "cell_type": "code",
   "execution_count": 10,
   "id": "92ac8c14",
   "metadata": {},
   "outputs": [
    {
     "name": "stdout",
     "output_type": "stream",
     "text": [
      "<class 'pandas.core.frame.DataFrame'>\n",
      "RangeIndex: 32561 entries, 0 to 32560\n",
      "Data columns (total 15 columns):\n",
      " #   Column          Non-Null Count  Dtype \n",
      "---  ------          --------------  ----- \n",
      " 0   age             32561 non-null  int64 \n",
      " 1   workclass       32561 non-null  object\n",
      " 2   fnlwgt          32561 non-null  int64 \n",
      " 3   education       32561 non-null  object\n",
      " 4   education_num   32561 non-null  int64 \n",
      " 5   marital_status  32561 non-null  object\n",
      " 6   occupation      32561 non-null  object\n",
      " 7   relationship    32561 non-null  object\n",
      " 8   race            32561 non-null  object\n",
      " 9   sex             32561 non-null  object\n",
      " 10  capital-gain    32561 non-null  int64 \n",
      " 11  capital-loss    32561 non-null  int64 \n",
      " 12  hours-per-week  32561 non-null  int64 \n",
      " 13  native-country  32561 non-null  object\n",
      " 14  50k             32561 non-null  object\n",
      "dtypes: int64(6), object(9)\n",
      "memory usage: 3.7+ MB\n"
     ]
    }
   ],
   "source": [
    "df.info()"
   ]
  },
  {
   "cell_type": "code",
   "execution_count": null,
   "id": "eaa5fd8b",
   "metadata": {},
   "outputs": [],
   "source": [
    "# deep learning model을 생성, 학습 후 평가\n",
    "# machine learning 모델과 비교"
   ]
  },
  {
   "cell_type": "code",
   "execution_count": 29,
   "id": "34f1e70e",
   "metadata": {},
   "outputs": [],
   "source": [
    "y = df.iloc[:,14]\n",
    "x = df.iloc[:,:14]"
   ]
  },
  {
   "cell_type": "code",
   "execution_count": 48,
   "id": "a62b3645",
   "metadata": {},
   "outputs": [
    {
     "data": {
      "text/plain": [
       "array([0, 0, 0, ..., 0, 0, 1])"
      ]
     },
     "execution_count": 48,
     "metadata": {},
     "output_type": "execute_result"
    }
   ],
   "source": [
    "import tensorflow as tf\n",
    "from sklearn.preprocessing import LabelEncoder\n",
    "e = LabelEncoder()\n",
    "y_en = e.fit_transform(y)\n",
    "y_en"
   ]
  },
  {
   "cell_type": "code",
   "execution_count": 36,
   "id": "5881d581",
   "metadata": {},
   "outputs": [],
   "source": [
    "x = pd.get_dummies(x)"
   ]
  },
  {
   "cell_type": "code",
   "execution_count": 39,
   "id": "1ff2d2ea",
   "metadata": {},
   "outputs": [
    {
     "data": {
      "text/plain": [
       "(32561, 108)"
      ]
     },
     "execution_count": 39,
     "metadata": {},
     "output_type": "execute_result"
    }
   ],
   "source": [
    "x.shape"
   ]
  },
  {
   "cell_type": "code",
   "execution_count": 49,
   "id": "f6c7f50b",
   "metadata": {},
   "outputs": [],
   "source": [
    "from sklearn.model_selection import train_test_split\n",
    "x_train, x_test, y_train, y_test = train_test_split(x,y_en, random_state=111)"
   ]
  },
  {
   "cell_type": "code",
   "execution_count": 50,
   "id": "06f46f73",
   "metadata": {},
   "outputs": [
    {
     "name": "stdout",
     "output_type": "stream",
     "text": [
      "Model: \"sequential_2\"\n",
      "_________________________________________________________________\n",
      " Layer (type)                Output Shape              Param #   \n",
      "=================================================================\n",
      " dense_16 (Dense)            (None, 200)               21800     \n",
      "                                                                 \n",
      " dense_17 (Dense)            (None, 100)               20100     \n",
      "                                                                 \n",
      " dense_18 (Dense)            (None, 50)                5050      \n",
      "                                                                 \n",
      " dense_19 (Dense)            (None, 25)                1275      \n",
      "                                                                 \n",
      " dense_20 (Dense)            (None, 12)                312       \n",
      "                                                                 \n",
      " dense_21 (Dense)            (None, 6)                 78        \n",
      "                                                                 \n",
      " dense_22 (Dense)            (None, 3)                 21        \n",
      "                                                                 \n",
      " dense_23 (Dense)            (None, 1)                 4         \n",
      "                                                                 \n",
      "=================================================================\n",
      "Total params: 48,640\n",
      "Trainable params: 48,640\n",
      "Non-trainable params: 0\n",
      "_________________________________________________________________\n"
     ]
    }
   ],
   "source": [
    "model = Sequential()\n",
    "# input layer에서 차원을 맞춘다.\n",
    "model.add(Dense(200, input_dim=108, activation='relu'))   # Dense : fully connected layer\n",
    "model.add(Dense(100, activation='relu'))\n",
    "model.add(Dense(50, activation='relu'))\n",
    "model.add(Dense(25, activation='relu'))\n",
    "model.add(Dense(12, activation='relu'))\n",
    "model.add(Dense(6, activation='relu'))\n",
    "model.add(Dense(3, activation='relu'))\n",
    "\n",
    "# sigmoid : 2분 클래스를 분류할 때 사용\n",
    "model.add(Dense(1, activation='sigmoid'))\n",
    "model.summary()"
   ]
  },
  {
   "cell_type": "code",
   "execution_count": 51,
   "id": "b4d4bdaf",
   "metadata": {},
   "outputs": [],
   "source": [
    "model.compile(loss='binary_crossentropy', metrics=['accuracy'], optimizer='adam')"
   ]
  },
  {
   "cell_type": "code",
   "execution_count": 64,
   "id": "6f15b417",
   "metadata": {
    "scrolled": true
   },
   "outputs": [
    {
     "name": "stdout",
     "output_type": "stream",
     "text": [
      "Epoch 1/100\n",
      "1221/1221 [==============================] - 2s 1ms/step - loss: 285.7203 - accuracy: 0.7642\n",
      "Epoch 2/100\n",
      "1221/1221 [==============================] - 1s 1ms/step - loss: 0.6042 - accuracy: 0.7618\n",
      "Epoch 3/100\n",
      "1221/1221 [==============================] - 1s 1ms/step - loss: 0.5548 - accuracy: 0.7612\n",
      "Epoch 4/100\n",
      "1221/1221 [==============================] - 1s 1ms/step - loss: 0.5492 - accuracy: 0.7612\n",
      "Epoch 5/100\n",
      "1221/1221 [==============================] - 2s 1ms/step - loss: 0.5492 - accuracy: 0.7612\n",
      "Epoch 6/100\n",
      "1221/1221 [==============================] - 2s 1ms/step - loss: 0.5492 - accuracy: 0.7612\n",
      "Epoch 7/100\n",
      "1221/1221 [==============================] - 1s 1ms/step - loss: 0.5492 - accuracy: 0.7612\n",
      "Epoch 8/100\n",
      "1221/1221 [==============================] - 1s 1ms/step - loss: 0.5492 - accuracy: 0.7612\n",
      "Epoch 9/100\n",
      "1221/1221 [==============================] - 1s 1ms/step - loss: 0.5492 - accuracy: 0.7612\n",
      "Epoch 10/100\n",
      "1221/1221 [==============================] - 1s 1ms/step - loss: 0.5492 - accuracy: 0.7612\n",
      "Epoch 11/100\n",
      "1221/1221 [==============================] - 1s 1ms/step - loss: 0.5492 - accuracy: 0.7612\n",
      "Epoch 12/100\n",
      "1221/1221 [==============================] - 1s 1ms/step - loss: 0.5492 - accuracy: 0.7612\n",
      "Epoch 13/100\n",
      "1221/1221 [==============================] - 1s 1ms/step - loss: 0.5492 - accuracy: 0.7612\n",
      "Epoch 14/100\n",
      "1221/1221 [==============================] - 1s 1ms/step - loss: 0.5492 - accuracy: 0.7612\n",
      "Epoch 15/100\n",
      "1221/1221 [==============================] - 2s 1ms/step - loss: 0.5492 - accuracy: 0.7612\n",
      "Epoch 16/100\n",
      "1221/1221 [==============================] - 2s 1ms/step - loss: 0.5493 - accuracy: 0.7612\n",
      "Epoch 17/100\n",
      "1221/1221 [==============================] - 1s 1ms/step - loss: 0.5492 - accuracy: 0.7612\n",
      "Epoch 18/100\n",
      "1221/1221 [==============================] - 1s 1ms/step - loss: 0.5493 - accuracy: 0.7612\n",
      "Epoch 19/100\n",
      "1221/1221 [==============================] - 1s 1ms/step - loss: 0.5493 - accuracy: 0.7612\n",
      "Epoch 20/100\n",
      "1221/1221 [==============================] - 2s 1ms/step - loss: 0.5493 - accuracy: 0.7612\n",
      "Epoch 21/100\n",
      "1221/1221 [==============================] - 1s 1ms/step - loss: 0.5493 - accuracy: 0.7612\n",
      "Epoch 22/100\n",
      "1221/1221 [==============================] - 1s 1ms/step - loss: 0.5493 - accuracy: 0.7612\n",
      "Epoch 23/100\n",
      "1221/1221 [==============================] - 1s 1ms/step - loss: 0.5494 - accuracy: 0.7612\n",
      "Epoch 24/100\n",
      "1221/1221 [==============================] - 1s 1ms/step - loss: 0.5493 - accuracy: 0.7612\n",
      "Epoch 25/100\n",
      "1221/1221 [==============================] - 1s 1ms/step - loss: 0.5493 - accuracy: 0.7612\n",
      "Epoch 26/100\n",
      "1221/1221 [==============================] - 1s 1ms/step - loss: 0.5493 - accuracy: 0.7612\n",
      "Epoch 27/100\n",
      "1221/1221 [==============================] - 2s 1ms/step - loss: 11.7727 - accuracy: 0.7606\n",
      "Epoch 28/100\n",
      "1221/1221 [==============================] - 1s 1ms/step - loss: 0.8020 - accuracy: 0.7607\n",
      "Epoch 29/100\n",
      "1221/1221 [==============================] - 1s 1ms/step - loss: 0.5520 - accuracy: 0.7593\n",
      "Epoch 30/100\n",
      "1221/1221 [==============================] - 1s 1ms/step - loss: 0.5519 - accuracy: 0.7593\n",
      "Epoch 31/100\n",
      "1221/1221 [==============================] - 1s 1ms/step - loss: 0.5520 - accuracy: 0.7593\n",
      "Epoch 32/100\n",
      "1221/1221 [==============================] - 1s 1ms/step - loss: 0.5520 - accuracy: 0.7593\n",
      "Epoch 33/100\n",
      "1221/1221 [==============================] - 1s 1ms/step - loss: 0.5520 - accuracy: 0.7593\n",
      "Epoch 34/100\n",
      "1221/1221 [==============================] - 1s 1ms/step - loss: 0.5520 - accuracy: 0.7593\n",
      "Epoch 35/100\n",
      "1221/1221 [==============================] - 1s 1ms/step - loss: 0.5520 - accuracy: 0.7593\n",
      "Epoch 36/100\n",
      "1221/1221 [==============================] - 1s 1ms/step - loss: 0.5520 - accuracy: 0.7593\n",
      "Epoch 37/100\n",
      "1221/1221 [==============================] - 2s 1ms/step - loss: 0.5520 - accuracy: 0.7593\n",
      "Epoch 38/100\n",
      "1221/1221 [==============================] - 1s 1ms/step - loss: 0.5520 - accuracy: 0.7593\n",
      "Epoch 39/100\n",
      "1221/1221 [==============================] - 1s 1ms/step - loss: 0.5520 - accuracy: 0.7593\n",
      "Epoch 40/100\n",
      "1221/1221 [==============================] - 1s 1ms/step - loss: 0.5520 - accuracy: 0.7593\n",
      "Epoch 41/100\n",
      "1221/1221 [==============================] - 1s 1ms/step - loss: 0.5520 - accuracy: 0.7593\n",
      "Epoch 42/100\n",
      "1221/1221 [==============================] - 1s 1ms/step - loss: 0.5521 - accuracy: 0.7593\n",
      "Epoch 43/100\n",
      "1221/1221 [==============================] - 1s 1ms/step - loss: 0.5521 - accuracy: 0.7593\n",
      "Epoch 44/100\n",
      "1221/1221 [==============================] - 2s 1ms/step - loss: 0.5520 - accuracy: 0.7593\n",
      "Epoch 45/100\n",
      "1221/1221 [==============================] - 1s 1ms/step - loss: 0.5520 - accuracy: 0.7593\n",
      "Epoch 46/100\n",
      "1221/1221 [==============================] - 1s 1ms/step - loss: 0.5521 - accuracy: 0.7593\n",
      "Epoch 47/100\n",
      "1221/1221 [==============================] - 1s 1ms/step - loss: 0.5520 - accuracy: 0.7593\n",
      "Epoch 48/100\n",
      "1221/1221 [==============================] - 1s 1ms/step - loss: 0.5521 - accuracy: 0.7593\n",
      "Epoch 49/100\n",
      "1221/1221 [==============================] - 1s 1ms/step - loss: 0.5521 - accuracy: 0.7593\n",
      "Epoch 50/100\n",
      "1221/1221 [==============================] - 1s 1ms/step - loss: 0.5521 - accuracy: 0.7593\n",
      "Epoch 51/100\n",
      "1221/1221 [==============================] - 1s 1ms/step - loss: 0.5521 - accuracy: 0.7593\n",
      "Epoch 52/100\n",
      "1221/1221 [==============================] - 1s 1ms/step - loss: 0.5521 - accuracy: 0.7593\n",
      "Epoch 53/100\n",
      "1221/1221 [==============================] - 2s 1ms/step - loss: 0.5520 - accuracy: 0.7593\n",
      "Epoch 54/100\n",
      "1221/1221 [==============================] - 2s 1ms/step - loss: 0.5520 - accuracy: 0.7593\n",
      "Epoch 55/100\n",
      "1221/1221 [==============================] - 1s 1ms/step - loss: 0.5521 - accuracy: 0.7593\n",
      "Epoch 56/100\n",
      "1221/1221 [==============================] - 1s 1ms/step - loss: 0.5521 - accuracy: 0.7593\n",
      "Epoch 57/100\n",
      "1221/1221 [==============================] - 1s 1ms/step - loss: 0.5521 - accuracy: 0.7593\n",
      "Epoch 58/100\n",
      "1221/1221 [==============================] - 1s 1ms/step - loss: 0.5520 - accuracy: 0.7593\n",
      "Epoch 59/100\n",
      "1221/1221 [==============================] - 1s 1ms/step - loss: 0.5521 - accuracy: 0.7593\n",
      "Epoch 60/100\n",
      "1221/1221 [==============================] - 1s 1ms/step - loss: 0.5521 - accuracy: 0.7593\n",
      "Epoch 61/100\n",
      "1221/1221 [==============================] - 2s 1ms/step - loss: 0.5520 - accuracy: 0.7593\n",
      "Epoch 62/100\n",
      "1221/1221 [==============================] - 2s 1ms/step - loss: 0.5521 - accuracy: 0.7593\n",
      "Epoch 63/100\n",
      "1221/1221 [==============================] - 1s 1ms/step - loss: 0.5520 - accuracy: 0.7593\n",
      "Epoch 64/100\n",
      "1221/1221 [==============================] - 1s 1ms/step - loss: 0.5520 - accuracy: 0.7593\n",
      "Epoch 65/100\n",
      "1221/1221 [==============================] - 1s 1ms/step - loss: 0.5521 - accuracy: 0.7593\n",
      "Epoch 66/100\n",
      "1221/1221 [==============================] - 1s 1ms/step - loss: 0.5520 - accuracy: 0.7593\n",
      "Epoch 67/100\n",
      "1221/1221 [==============================] - 1s 1ms/step - loss: 0.5521 - accuracy: 0.7593\n",
      "Epoch 68/100\n",
      "1221/1221 [==============================] - 2s 1ms/step - loss: 0.5521 - accuracy: 0.7593\n",
      "Epoch 69/100\n",
      "1221/1221 [==============================] - 1s 1ms/step - loss: 0.5521 - accuracy: 0.7593\n",
      "Epoch 70/100\n",
      "1221/1221 [==============================] - 1s 1ms/step - loss: 0.5520 - accuracy: 0.7593\n",
      "Epoch 71/100\n",
      "1221/1221 [==============================] - 1s 1ms/step - loss: 0.5520 - accuracy: 0.7593\n",
      "Epoch 72/100\n",
      "1221/1221 [==============================] - 1s 1ms/step - loss: 0.5520 - accuracy: 0.7593\n",
      "Epoch 73/100\n",
      "1221/1221 [==============================] - 1s 1ms/step - loss: 0.5521 - accuracy: 0.7593\n",
      "Epoch 74/100\n",
      "1221/1221 [==============================] - 1s 1ms/step - loss: 0.5520 - accuracy: 0.7593\n",
      "Epoch 75/100\n",
      "1221/1221 [==============================] - 2s 1ms/step - loss: 0.5520 - accuracy: 0.7593\n",
      "Epoch 76/100\n",
      "1221/1221 [==============================] - 2s 1ms/step - loss: 0.5520 - accuracy: 0.7593\n",
      "Epoch 77/100\n",
      "1221/1221 [==============================] - 1s 1ms/step - loss: 0.5520 - accuracy: 0.7593\n",
      "Epoch 78/100\n",
      "1221/1221 [==============================] - 1s 1ms/step - loss: 0.5520 - accuracy: 0.7593\n",
      "Epoch 79/100\n"
     ]
    },
    {
     "name": "stdout",
     "output_type": "stream",
     "text": [
      "1221/1221 [==============================] - 1s 1ms/step - loss: 0.5520 - accuracy: 0.7593\n",
      "Epoch 80/100\n",
      "1221/1221 [==============================] - 1s 1ms/step - loss: 0.5521 - accuracy: 0.7593\n",
      "Epoch 81/100\n",
      "1221/1221 [==============================] - 1s 1ms/step - loss: 0.5520 - accuracy: 0.7593\n",
      "Epoch 82/100\n",
      "1221/1221 [==============================] - 1s 1ms/step - loss: 0.5520 - accuracy: 0.7593\n",
      "Epoch 83/100\n",
      "1221/1221 [==============================] - 1s 1ms/step - loss: 0.5520 - accuracy: 0.7593\n",
      "Epoch 84/100\n",
      "1221/1221 [==============================] - 1s 1ms/step - loss: 0.5520 - accuracy: 0.7593\n",
      "Epoch 85/100\n",
      "1221/1221 [==============================] - 1s 1ms/step - loss: 0.5521 - accuracy: 0.7593\n",
      "Epoch 86/100\n",
      "1221/1221 [==============================] - 2s 1ms/step - loss: 0.5520 - accuracy: 0.7593\n",
      "Epoch 87/100\n",
      "1221/1221 [==============================] - 1s 1ms/step - loss: 0.5521 - accuracy: 0.7593\n",
      "Epoch 88/100\n",
      "1221/1221 [==============================] - 1s 1ms/step - loss: 0.5520 - accuracy: 0.7593\n",
      "Epoch 89/100\n",
      "1221/1221 [==============================] - 1s 1ms/step - loss: 0.5521 - accuracy: 0.7593\n",
      "Epoch 90/100\n",
      "1221/1221 [==============================] - 1s 1ms/step - loss: 0.5520 - accuracy: 0.7593\n",
      "Epoch 91/100\n",
      "1221/1221 [==============================] - 1s 1ms/step - loss: 0.5521 - accuracy: 0.7593\n",
      "Epoch 92/100\n",
      "1221/1221 [==============================] - 1s 1ms/step - loss: 0.5521 - accuracy: 0.7593\n",
      "Epoch 93/100\n",
      "1221/1221 [==============================] - 1s 1ms/step - loss: 0.5520 - accuracy: 0.7593\n",
      "Epoch 94/100\n",
      "1221/1221 [==============================] - 1s 1ms/step - loss: 0.5521 - accuracy: 0.7593\n",
      "Epoch 95/100\n",
      "1221/1221 [==============================] - 2s 1ms/step - loss: 0.5521 - accuracy: 0.7593\n",
      "Epoch 96/100\n",
      "1221/1221 [==============================] - 2s 1ms/step - loss: 0.5520 - accuracy: 0.7593\n",
      "Epoch 97/100\n",
      "1221/1221 [==============================] - 1s 1ms/step - loss: 0.5521 - accuracy: 0.7593\n",
      "Epoch 98/100\n",
      "1221/1221 [==============================] - 1s 1ms/step - loss: 0.5521 - accuracy: 0.7593\n",
      "Epoch 99/100\n",
      "1221/1221 [==============================] - 1s 1ms/step - loss: 0.5521 - accuracy: 0.7593\n",
      "Epoch 100/100\n",
      "1221/1221 [==============================] - 1s 1ms/step - loss: 0.5521 - accuracy: 0.7593\n"
     ]
    },
    {
     "data": {
      "text/plain": [
       "<keras.callbacks.History at 0x20f740cd0d0>"
      ]
     },
     "execution_count": 64,
     "metadata": {},
     "output_type": "execute_result"
    }
   ],
   "source": [
    "model.fit(x_train,y_train, epochs=100, batch_size=20)"
   ]
  },
  {
   "cell_type": "code",
   "execution_count": 67,
   "id": "a7f3543a",
   "metadata": {},
   "outputs": [
    {
     "name": "stdout",
     "output_type": "stream",
     "text": [
      "255/255 [==============================] - 0s 1ms/step - loss: 0.5523 - accuracy: 0.7590\n"
     ]
    },
    {
     "data": {
      "text/plain": [
       "[0.5523282885551453, 0.7589976787567139]"
      ]
     },
     "execution_count": 67,
     "metadata": {},
     "output_type": "execute_result"
    }
   ],
   "source": [
    "model.evaluate(x_test, y_test)"
   ]
  },
  {
   "cell_type": "code",
   "execution_count": null,
   "id": "4e1ae716",
   "metadata": {},
   "outputs": [],
   "source": []
  },
  {
   "cell_type": "code",
   "execution_count": null,
   "id": "52c62f71",
   "metadata": {},
   "outputs": [],
   "source": [
    "# scaling"
   ]
  },
  {
   "cell_type": "code",
   "execution_count": 53,
   "id": "f3efb286",
   "metadata": {},
   "outputs": [],
   "source": [
    "from sklearn.preprocessing import StandardScaler\n",
    "scaler = StandardScaler()\n",
    "scaler.fit(x_train)\n",
    "x_train_scaled = scaler.transform(x_train)\n",
    "x_test_scaled = scaler.transform(x_test)"
   ]
  },
  {
   "cell_type": "code",
   "execution_count": 54,
   "id": "010c8b2a",
   "metadata": {},
   "outputs": [
    {
     "name": "stdout",
     "output_type": "stream",
     "text": [
      "Model: \"sequential_3\"\n",
      "_________________________________________________________________\n",
      " Layer (type)                Output Shape              Param #   \n",
      "=================================================================\n",
      " dense_24 (Dense)            (None, 200)               21800     \n",
      "                                                                 \n",
      " dense_25 (Dense)            (None, 100)               20100     \n",
      "                                                                 \n",
      " dense_26 (Dense)            (None, 50)                5050      \n",
      "                                                                 \n",
      " dense_27 (Dense)            (None, 25)                1275      \n",
      "                                                                 \n",
      " dense_28 (Dense)            (None, 12)                312       \n",
      "                                                                 \n",
      " dense_29 (Dense)            (None, 6)                 78        \n",
      "                                                                 \n",
      " dense_30 (Dense)            (None, 3)                 21        \n",
      "                                                                 \n",
      " dense_31 (Dense)            (None, 1)                 4         \n",
      "                                                                 \n",
      "=================================================================\n",
      "Total params: 48,640\n",
      "Trainable params: 48,640\n",
      "Non-trainable params: 0\n",
      "_________________________________________________________________\n",
      "Epoch 1/100\n",
      "1221/1221 [==============================] - 2s 1ms/step - loss: 0.3522 - accuracy: 0.8340\n",
      "Epoch 2/100\n",
      "1221/1221 [==============================] - 1s 989us/step - loss: 0.3111 - accuracy: 0.8534\n",
      "Epoch 3/100\n",
      "1221/1221 [==============================] - 1s 915us/step - loss: 0.3040 - accuracy: 0.8578\n",
      "Epoch 4/100\n",
      "1221/1221 [==============================] - 1s 881us/step - loss: 0.2977 - accuracy: 0.8587\n",
      "Epoch 5/100\n",
      "1221/1221 [==============================] - 1s 882us/step - loss: 0.2928 - accuracy: 0.8627\n",
      "Epoch 6/100\n",
      "1221/1221 [==============================] - 1s 905us/step - loss: 0.2881 - accuracy: 0.8645\n",
      "Epoch 7/100\n",
      "1221/1221 [==============================] - 1s 913us/step - loss: 0.2835 - accuracy: 0.8667\n",
      "Epoch 8/100\n",
      "1221/1221 [==============================] - 1s 874us/step - loss: 0.2773 - accuracy: 0.8691\n",
      "Epoch 9/100\n",
      "1221/1221 [==============================] - 1s 889us/step - loss: 0.2737 - accuracy: 0.8706\n",
      "Epoch 10/100\n",
      "1221/1221 [==============================] - 1s 883us/step - loss: 0.2675 - accuracy: 0.8729\n",
      "Epoch 11/100\n",
      "1221/1221 [==============================] - 1s 886us/step - loss: 0.2619 - accuracy: 0.8763\n",
      "Epoch 12/100\n",
      "1221/1221 [==============================] - 1s 908us/step - loss: 0.2571 - accuracy: 0.8778\n",
      "Epoch 13/100\n",
      "1221/1221 [==============================] - 1s 859us/step - loss: 0.2515 - accuracy: 0.8794\n",
      "Epoch 14/100\n",
      "1221/1221 [==============================] - 1s 880us/step - loss: 0.2457 - accuracy: 0.8832\n",
      "Epoch 15/100\n",
      "1221/1221 [==============================] - 1s 886us/step - loss: 0.2402 - accuracy: 0.8860\n",
      "Epoch 16/100\n",
      "1221/1221 [==============================] - 1s 884us/step - loss: 0.2348 - accuracy: 0.8880\n",
      "Epoch 17/100\n",
      "1221/1221 [==============================] - 1s 887us/step - loss: 0.2285 - accuracy: 0.8910\n",
      "Epoch 18/100\n",
      "1221/1221 [==============================] - 1s 915us/step - loss: 0.2250 - accuracy: 0.8922\n",
      "Epoch 19/100\n",
      "1221/1221 [==============================] - 1s 915us/step - loss: 0.2189 - accuracy: 0.8954\n",
      "Epoch 20/100\n",
      "1221/1221 [==============================] - 1s 910us/step - loss: 0.2147 - accuracy: 0.8963\n",
      "Epoch 21/100\n",
      "1221/1221 [==============================] - 1s 925us/step - loss: 0.2126 - accuracy: 0.8998\n",
      "Epoch 22/100\n",
      "1221/1221 [==============================] - 1s 889us/step - loss: 0.2047 - accuracy: 0.9017\n",
      "Epoch 23/100\n",
      "1221/1221 [==============================] - 1s 890us/step - loss: 0.2010 - accuracy: 0.9017\n",
      "Epoch 24/100\n",
      "1221/1221 [==============================] - 1s 904us/step - loss: 0.1998 - accuracy: 0.9032\n",
      "Epoch 25/100\n",
      "1221/1221 [==============================] - 1s 912us/step - loss: 0.1974 - accuracy: 0.9061\n",
      "Epoch 26/100\n",
      "1221/1221 [==============================] - 1s 933us/step - loss: 0.1955 - accuracy: 0.9066\n",
      "Epoch 27/100\n",
      "1221/1221 [==============================] - 1s 860us/step - loss: 0.1892 - accuracy: 0.9079\n",
      "Epoch 28/100\n",
      "1221/1221 [==============================] - 1s 894us/step - loss: 0.1864 - accuracy: 0.9095\n",
      "Epoch 29/100\n",
      "1221/1221 [==============================] - 1s 885us/step - loss: 0.1845 - accuracy: 0.9113\n",
      "Epoch 30/100\n",
      "1221/1221 [==============================] - 1s 888us/step - loss: 0.1804 - accuracy: 0.9124\n",
      "Epoch 31/100\n",
      "1221/1221 [==============================] - 1s 871us/step - loss: 0.1769 - accuracy: 0.9142\n",
      "Epoch 32/100\n",
      "1221/1221 [==============================] - 1s 876us/step - loss: 0.1793 - accuracy: 0.9154\n",
      "Epoch 33/100\n",
      "1221/1221 [==============================] - 1s 874us/step - loss: 0.1733 - accuracy: 0.9176\n",
      "Epoch 34/100\n",
      "1221/1221 [==============================] - 1s 895us/step - loss: 0.1728 - accuracy: 0.9158\n",
      "Epoch 35/100\n",
      "1221/1221 [==============================] - 1s 913us/step - loss: 0.1698 - accuracy: 0.9173\n",
      "Epoch 36/100\n",
      "1221/1221 [==============================] - 1s 867us/step - loss: 0.1693 - accuracy: 0.9182\n",
      "Epoch 37/100\n",
      "1221/1221 [==============================] - 1s 870us/step - loss: 0.1683 - accuracy: 0.9198\n",
      "Epoch 38/100\n",
      "1221/1221 [==============================] - 1s 882us/step - loss: 0.1627 - accuracy: 0.9217\n",
      "Epoch 39/100\n",
      "1221/1221 [==============================] - 1s 884us/step - loss: 0.1664 - accuracy: 0.9229\n",
      "Epoch 40/100\n",
      "1221/1221 [==============================] - 1s 908us/step - loss: 0.1575 - accuracy: 0.9247\n",
      "Epoch 41/100\n",
      "1221/1221 [==============================] - 1s 871us/step - loss: 0.1556 - accuracy: 0.9248\n",
      "Epoch 42/100\n",
      "1221/1221 [==============================] - 1s 897us/step - loss: 0.1575 - accuracy: 0.9249\n",
      "Epoch 43/100\n",
      "1221/1221 [==============================] - 1s 910us/step - loss: 0.1565 - accuracy: 0.9254\n",
      "Epoch 44/100\n",
      "1221/1221 [==============================] - 1s 903us/step - loss: 0.1513 - accuracy: 0.9271\n",
      "Epoch 45/100\n",
      "1221/1221 [==============================] - 1s 923us/step - loss: 0.1498 - accuracy: 0.9278\n",
      "Epoch 46/100\n",
      "1221/1221 [==============================] - 1s 870us/step - loss: 0.1504 - accuracy: 0.9276\n",
      "Epoch 47/100\n",
      "1221/1221 [==============================] - 1s 889us/step - loss: 0.1493 - accuracy: 0.9302\n",
      "Epoch 48/100\n",
      "1221/1221 [==============================] - 1s 892us/step - loss: 0.1466 - accuracy: 0.9297\n",
      "Epoch 49/100\n",
      "1221/1221 [==============================] - 1s 905us/step - loss: 0.1443 - accuracy: 0.9301\n",
      "Epoch 50/100\n",
      "1221/1221 [==============================] - 1s 894us/step - loss: 0.1462 - accuracy: 0.9327\n",
      "Epoch 51/100\n",
      "1221/1221 [==============================] - 1s 893us/step - loss: 0.1408 - accuracy: 0.9340\n",
      "Epoch 52/100\n",
      "1221/1221 [==============================] - 1s 905us/step - loss: 0.1427 - accuracy: 0.9344\n",
      "Epoch 53/100\n",
      "1221/1221 [==============================] - 1s 913us/step - loss: 0.1389 - accuracy: 0.9342\n",
      "Epoch 54/100\n",
      "1221/1221 [==============================] - 1s 903us/step - loss: 0.1416 - accuracy: 0.9335\n",
      "Epoch 55/100\n",
      "1221/1221 [==============================] - 1s 867us/step - loss: 0.1395 - accuracy: 0.9343\n",
      "Epoch 56/100\n",
      "1221/1221 [==============================] - 1s 882us/step - loss: 0.1407 - accuracy: 0.9345\n",
      "Epoch 57/100\n",
      "1221/1221 [==============================] - 1s 881us/step - loss: 0.1318 - accuracy: 0.9381\n",
      "Epoch 58/100\n",
      "1221/1221 [==============================] - 1s 881us/step - loss: 0.1316 - accuracy: 0.9375\n",
      "Epoch 59/100\n",
      "1221/1221 [==============================] - 1s 896us/step - loss: 0.1350 - accuracy: 0.9376\n",
      "Epoch 60/100\n",
      "1221/1221 [==============================] - 1s 874us/step - loss: 0.1394 - accuracy: 0.9366\n",
      "Epoch 61/100\n",
      "1221/1221 [==============================] - 1s 881us/step - loss: 0.1276 - accuracy: 0.9399\n",
      "Epoch 62/100\n",
      "1221/1221 [==============================] - 1s 877us/step - loss: 0.1300 - accuracy: 0.9404\n",
      "Epoch 63/100\n",
      "1221/1221 [==============================] - 1s 884us/step - loss: 0.1274 - accuracy: 0.9406\n",
      "Epoch 64/100\n"
     ]
    },
    {
     "name": "stdout",
     "output_type": "stream",
     "text": [
      "1221/1221 [==============================] - 1s 890us/step - loss: 0.1305 - accuracy: 0.9398\n",
      "Epoch 65/100\n",
      "1221/1221 [==============================] - 1s 863us/step - loss: 0.1257 - accuracy: 0.9416\n",
      "Epoch 66/100\n",
      "1221/1221 [==============================] - 1s 886us/step - loss: 0.1240 - accuracy: 0.9429\n",
      "Epoch 67/100\n",
      "1221/1221 [==============================] - 1s 887us/step - loss: 0.1259 - accuracy: 0.9410\n",
      "Epoch 68/100\n",
      "1221/1221 [==============================] - 1s 903us/step - loss: 0.1239 - accuracy: 0.9437\n",
      "Epoch 69/100\n",
      "1221/1221 [==============================] - 1s 902us/step - loss: 0.1219 - accuracy: 0.9433\n",
      "Epoch 70/100\n",
      "1221/1221 [==============================] - 1s 872us/step - loss: 0.1204 - accuracy: 0.9446\n",
      "Epoch 71/100\n",
      "1221/1221 [==============================] - 1s 911us/step - loss: 0.1203 - accuracy: 0.9439\n",
      "Epoch 72/100\n",
      "1221/1221 [==============================] - 1s 910us/step - loss: 0.1185 - accuracy: 0.9447\n",
      "Epoch 73/100\n",
      "1221/1221 [==============================] - 1s 938us/step - loss: 0.1160 - accuracy: 0.9463\n",
      "Epoch 74/100\n",
      "1221/1221 [==============================] - 1s 898us/step - loss: 0.1143 - accuracy: 0.9470\n",
      "Epoch 75/100\n",
      "1221/1221 [==============================] - 1s 885us/step - loss: 0.1210 - accuracy: 0.9444\n",
      "Epoch 76/100\n",
      "1221/1221 [==============================] - 1s 887us/step - loss: 0.1237 - accuracy: 0.9468\n",
      "Epoch 77/100\n",
      "1221/1221 [==============================] - 1s 889us/step - loss: 0.1158 - accuracy: 0.9474\n",
      "Epoch 78/100\n",
      "1221/1221 [==============================] - 1s 896us/step - loss: 0.1129 - accuracy: 0.9484\n",
      "Epoch 79/100\n",
      "1221/1221 [==============================] - 1s 880us/step - loss: 0.1162 - accuracy: 0.9481\n",
      "Epoch 80/100\n",
      "1221/1221 [==============================] - 1s 895us/step - loss: 0.1095 - accuracy: 0.9491\n",
      "Epoch 81/100\n",
      "1221/1221 [==============================] - 1s 896us/step - loss: 0.1160 - accuracy: 0.9462\n",
      "Epoch 82/100\n",
      "1221/1221 [==============================] - 1s 885us/step - loss: 0.1117 - accuracy: 0.9482\n",
      "Epoch 83/100\n",
      "1221/1221 [==============================] - 1s 906us/step - loss: 0.1100 - accuracy: 0.9500\n",
      "Epoch 84/100\n",
      "1221/1221 [==============================] - 1s 880us/step - loss: 0.1079 - accuracy: 0.9500\n",
      "Epoch 85/100\n",
      "1221/1221 [==============================] - 1s 884us/step - loss: 0.1109 - accuracy: 0.9484\n",
      "Epoch 86/100\n",
      "1221/1221 [==============================] - 1s 892us/step - loss: 0.1084 - accuracy: 0.9507\n",
      "Epoch 87/100\n",
      "1221/1221 [==============================] - 1s 886us/step - loss: 0.1089 - accuracy: 0.9502\n",
      "Epoch 88/100\n",
      "1221/1221 [==============================] - 1s 889us/step - loss: 0.1126 - accuracy: 0.9501\n",
      "Epoch 89/100\n",
      "1221/1221 [==============================] - 1s 919us/step - loss: 0.1086 - accuracy: 0.9505\n",
      "Epoch 90/100\n",
      "1221/1221 [==============================] - 1s 922us/step - loss: 0.1049 - accuracy: 0.9511\n",
      "Epoch 91/100\n",
      "1221/1221 [==============================] - 1s 930us/step - loss: 0.1078 - accuracy: 0.9498\n",
      "Epoch 92/100\n",
      "1221/1221 [==============================] - 1s 924us/step - loss: 0.1079 - accuracy: 0.9513\n",
      "Epoch 93/100\n",
      "1221/1221 [==============================] - 1s 891us/step - loss: 0.1066 - accuracy: 0.9528\n",
      "Epoch 94/100\n",
      "1221/1221 [==============================] - 1s 882us/step - loss: 0.1041 - accuracy: 0.9510\n",
      "Epoch 95/100\n",
      "1221/1221 [==============================] - 1s 889us/step - loss: 0.1068 - accuracy: 0.9522\n",
      "Epoch 96/100\n",
      "1221/1221 [==============================] - 1s 885us/step - loss: 0.1037 - accuracy: 0.9535\n",
      "Epoch 97/100\n",
      "1221/1221 [==============================] - 1s 914us/step - loss: 0.1023 - accuracy: 0.9528\n",
      "Epoch 98/100\n",
      "1221/1221 [==============================] - 1s 864us/step - loss: 0.0975 - accuracy: 0.9541\n",
      "Epoch 99/100\n",
      "1221/1221 [==============================] - 1s 890us/step - loss: 0.1050 - accuracy: 0.9518\n",
      "Epoch 100/100\n",
      "1221/1221 [==============================] - 1s 886us/step - loss: 0.0984 - accuracy: 0.9540\n"
     ]
    },
    {
     "data": {
      "text/plain": [
       "<keras.callbacks.History at 0x20f0056f5b0>"
      ]
     },
     "execution_count": 54,
     "metadata": {},
     "output_type": "execute_result"
    }
   ],
   "source": [
    "model = Sequential()\n",
    "# input layer에서 차원을 맞춘다.\n",
    "model.add(Dense(200, input_dim=108, activation='relu'))   # Dense : fully connected layer\n",
    "model.add(Dense(100, activation='relu'))\n",
    "model.add(Dense(50, activation='relu'))\n",
    "model.add(Dense(25, activation='relu'))\n",
    "model.add(Dense(12, activation='relu'))\n",
    "model.add(Dense(6, activation='relu'))\n",
    "model.add(Dense(3, activation='relu'))\n",
    "\n",
    "# sigmoid : 2분 클래스를 분류할 때 사용\n",
    "model.add(Dense(1, activation='sigmoid'))\n",
    "model.summary()\n",
    "model.compile(loss='binary_crossentropy', metrics=['accuracy'], optimizer='adam')\n",
    "model.fit(x_train_scaled,y_train, epochs=100, batch_size=20)"
   ]
  },
  {
   "cell_type": "code",
   "execution_count": 56,
   "id": "2e86c98c",
   "metadata": {},
   "outputs": [
    {
     "name": "stdout",
     "output_type": "stream",
     "text": [
      "255/255 [==============================] - 0s 734us/step - loss: 1.2475 - accuracy: 0.8247\n"
     ]
    },
    {
     "data": {
      "text/plain": [
       "[1.2474936246871948, 0.8247144222259521]"
      ]
     },
     "execution_count": 56,
     "metadata": {},
     "output_type": "execute_result"
    }
   ],
   "source": [
    "model.evaluate(x_test_scaled, y_test)"
   ]
  },
  {
   "cell_type": "code",
   "execution_count": 57,
   "id": "6ac0ff62",
   "metadata": {},
   "outputs": [],
   "source": [
    "from sklearn.linear_model import LogisticRegression"
   ]
  },
  {
   "cell_type": "code",
   "execution_count": 61,
   "id": "301ac527",
   "metadata": {},
   "outputs": [
    {
     "data": {
      "text/plain": [
       "0.8513696106129468"
      ]
     },
     "execution_count": 61,
     "metadata": {},
     "output_type": "execute_result"
    }
   ],
   "source": [
    "log = LogisticRegression()\n",
    "log.fit(x_train_scaled, y_train)\n",
    "preds = log.predict(x_test_scaled)\n",
    "log.score(x_test_scaled, y_test)"
   ]
  },
  {
   "cell_type": "code",
   "execution_count": null,
   "id": "dd8f7c99",
   "metadata": {},
   "outputs": [],
   "source": []
  },
  {
   "cell_type": "code",
   "execution_count": null,
   "id": "1e697ed2",
   "metadata": {},
   "outputs": [],
   "source": []
  },
  {
   "cell_type": "code",
   "execution_count": 62,
   "id": "d45876e7",
   "metadata": {},
   "outputs": [],
   "source": [
    "# 강사님 ver"
   ]
  },
  {
   "cell_type": "code",
   "execution_count": 65,
   "id": "c5359f4a",
   "metadata": {},
   "outputs": [],
   "source": [
    "y = df['50k'].apply(lambda x: 1 if x == ' >50K' else 0)\n",
    "x = df.loc[:,:'native-country']"
   ]
  },
  {
   "cell_type": "code",
   "execution_count": 69,
   "id": "04e3e450",
   "metadata": {},
   "outputs": [
    {
     "data": {
      "text/plain": [
       "(32561, 14)"
      ]
     },
     "execution_count": 69,
     "metadata": {},
     "output_type": "execute_result"
    }
   ],
   "source": [
    "x.shape"
   ]
  },
  {
   "cell_type": "code",
   "execution_count": 70,
   "id": "7d4461e7",
   "metadata": {},
   "outputs": [],
   "source": [
    "x = pd.get_dummies(x)"
   ]
  },
  {
   "cell_type": "code",
   "execution_count": 71,
   "id": "8af2fa8c",
   "metadata": {},
   "outputs": [],
   "source": [
    "from sklearn.model_selection import train_test_split\n",
    "x_train, x_test, y_train, y_test = train_test_split(x,y, test_size=0.3, random_state=111)"
   ]
  },
  {
   "cell_type": "code",
   "execution_count": 84,
   "id": "fc56342a",
   "metadata": {},
   "outputs": [],
   "source": [
    "from sklearn.preprocessing import StandardScaler\n",
    "scaler = StandardScaler()\n",
    "\n",
    "scaler.fit(x_train)\n",
    "\n",
    "x_train_scaled = scaler.transform(x_train)\n",
    "x_test_scaled = scaler.transform(x_test)"
   ]
  },
  {
   "cell_type": "code",
   "execution_count": 85,
   "id": "55718cf3",
   "metadata": {},
   "outputs": [
    {
     "data": {
      "text/plain": [
       "(22792, 108)"
      ]
     },
     "execution_count": 85,
     "metadata": {},
     "output_type": "execute_result"
    }
   ],
   "source": [
    "x_train_scaled.shape"
   ]
  },
  {
   "cell_type": "code",
   "execution_count": 89,
   "id": "08caef67",
   "metadata": {},
   "outputs": [
    {
     "name": "stdout",
     "output_type": "stream",
     "text": [
      "Model: \"sequential_7\"\n",
      "_________________________________________________________________\n",
      " Layer (type)                Output Shape              Param #   \n",
      "=================================================================\n",
      " dense_43 (Dense)            (None, 64)                6976      \n",
      "                                                                 \n",
      " dense_44 (Dense)            (None, 32)                2080      \n",
      "                                                                 \n",
      " dense_45 (Dense)            (None, 16)                528       \n",
      "                                                                 \n",
      " dense_46 (Dense)            (None, 1)                 17        \n",
      "                                                                 \n",
      "=================================================================\n",
      "Total params: 9,601\n",
      "Trainable params: 9,601\n",
      "Non-trainable params: 0\n",
      "_________________________________________________________________\n"
     ]
    }
   ],
   "source": [
    "model = Sequential()\n",
    "model.add(Dense(1024, activation = 'relu', input_dim = 108))\n",
    "model.add(Dense(512, activation = 'relu'))\n",
    "model.add(Dense(128, activation = 'relu'))\n",
    "model.add(Dense(1, activation = 'sigmoid'))\n",
    "model.summary()"
   ]
  },
  {
   "cell_type": "code",
   "execution_count": 90,
   "id": "2ec3d237",
   "metadata": {},
   "outputs": [],
   "source": [
    "model.compile(loss='binary_crossentropy', metrics=['accuracy'], optimizer='adam')"
   ]
  },
  {
   "cell_type": "code",
   "execution_count": 91,
   "id": "663a1391",
   "metadata": {},
   "outputs": [
    {
     "name": "stdout",
     "output_type": "stream",
     "text": [
      "Epoch 1/50\n",
      "912/912 [==============================] - 1s 1ms/step - loss: 0.3608 - accuracy: 0.8288 - val_loss: 0.3167 - val_accuracy: 0.8495\n",
      "Epoch 2/50\n",
      "912/912 [==============================] - 1s 944us/step - loss: 0.3190 - accuracy: 0.8492 - val_loss: 0.3113 - val_accuracy: 0.8568\n",
      "Epoch 3/50\n",
      "912/912 [==============================] - 1s 948us/step - loss: 0.3076 - accuracy: 0.8540 - val_loss: 0.3082 - val_accuracy: 0.8533\n",
      "Epoch 4/50\n",
      "912/912 [==============================] - 1s 937us/step - loss: 0.3010 - accuracy: 0.8570 - val_loss: 0.3067 - val_accuracy: 0.8533\n",
      "Epoch 5/50\n",
      "912/912 [==============================] - 1s 910us/step - loss: 0.2952 - accuracy: 0.8621 - val_loss: 0.3055 - val_accuracy: 0.8548\n",
      "Epoch 6/50\n",
      "912/912 [==============================] - 1s 916us/step - loss: 0.2891 - accuracy: 0.8639 - val_loss: 0.3107 - val_accuracy: 0.8519\n",
      "Epoch 7/50\n",
      "912/912 [==============================] - 1s 906us/step - loss: 0.2837 - accuracy: 0.8663 - val_loss: 0.3080 - val_accuracy: 0.8546\n",
      "Epoch 8/50\n",
      "912/912 [==============================] - 1s 957us/step - loss: 0.2791 - accuracy: 0.8680 - val_loss: 0.3130 - val_accuracy: 0.8528\n",
      "Epoch 9/50\n",
      "912/912 [==============================] - 1s 955us/step - loss: 0.2741 - accuracy: 0.8719 - val_loss: 0.3153 - val_accuracy: 0.8522\n",
      "Epoch 10/50\n",
      "912/912 [==============================] - 1s 950us/step - loss: 0.2695 - accuracy: 0.8727 - val_loss: 0.3124 - val_accuracy: 0.8482\n",
      "Epoch 11/50\n",
      "912/912 [==============================] - 1s 921us/step - loss: 0.2649 - accuracy: 0.8755 - val_loss: 0.3200 - val_accuracy: 0.8480\n",
      "Epoch 12/50\n",
      "912/912 [==============================] - 1s 919us/step - loss: 0.2607 - accuracy: 0.8765 - val_loss: 0.3211 - val_accuracy: 0.8500\n",
      "Epoch 13/50\n",
      "912/912 [==============================] - 1s 912us/step - loss: 0.2554 - accuracy: 0.8792 - val_loss: 0.3282 - val_accuracy: 0.8480\n",
      "Epoch 14/50\n",
      "912/912 [==============================] - 1s 913us/step - loss: 0.2509 - accuracy: 0.8818 - val_loss: 0.3379 - val_accuracy: 0.8460\n",
      "Epoch 15/50\n",
      "912/912 [==============================] - 1s 937us/step - loss: 0.2483 - accuracy: 0.8816 - val_loss: 0.3471 - val_accuracy: 0.8454\n",
      "Epoch 16/50\n",
      "912/912 [==============================] - 1s 932us/step - loss: 0.2410 - accuracy: 0.8853 - val_loss: 0.3578 - val_accuracy: 0.8434\n",
      "Epoch 17/50\n",
      "912/912 [==============================] - 1s 934us/step - loss: 0.2385 - accuracy: 0.8855 - val_loss: 0.3555 - val_accuracy: 0.8412\n",
      "Epoch 18/50\n",
      "912/912 [==============================] - 1s 906us/step - loss: 0.2368 - accuracy: 0.8867 - val_loss: 0.3688 - val_accuracy: 0.8425\n",
      "Epoch 19/50\n",
      "912/912 [==============================] - 1s 920us/step - loss: 0.2322 - accuracy: 0.8899 - val_loss: 0.3811 - val_accuracy: 0.8484\n",
      "Epoch 20/50\n",
      "912/912 [==============================] - 1s 913us/step - loss: 0.2284 - accuracy: 0.8923 - val_loss: 0.3926 - val_accuracy: 0.8454\n",
      "Epoch 21/50\n",
      "912/912 [==============================] - 1s 954us/step - loss: 0.2259 - accuracy: 0.8916 - val_loss: 0.3836 - val_accuracy: 0.8421\n",
      "Epoch 22/50\n",
      "912/912 [==============================] - 1s 960us/step - loss: 0.2237 - accuracy: 0.8941 - val_loss: 0.3980 - val_accuracy: 0.8410\n",
      "Epoch 23/50\n",
      "912/912 [==============================] - 1s 956us/step - loss: 0.2200 - accuracy: 0.8962 - val_loss: 0.4033 - val_accuracy: 0.8421\n",
      "Epoch 24/50\n",
      "912/912 [==============================] - 1s 957us/step - loss: 0.2171 - accuracy: 0.8960 - val_loss: 0.4210 - val_accuracy: 0.8412\n",
      "Epoch 25/50\n",
      "912/912 [==============================] - 1s 928us/step - loss: 0.2148 - accuracy: 0.8989 - val_loss: 0.4291 - val_accuracy: 0.8331\n",
      "Epoch 26/50\n",
      "912/912 [==============================] - 1s 897us/step - loss: 0.2141 - accuracy: 0.8985 - val_loss: 0.4381 - val_accuracy: 0.8313\n",
      "Epoch 27/50\n",
      "912/912 [==============================] - 1s 947us/step - loss: 0.2102 - accuracy: 0.9013 - val_loss: 0.4407 - val_accuracy: 0.8386\n",
      "Epoch 28/50\n",
      "912/912 [==============================] - 1s 947us/step - loss: 0.2075 - accuracy: 0.9026 - val_loss: 0.4457 - val_accuracy: 0.8252\n",
      "Epoch 29/50\n",
      "912/912 [==============================] - 1s 934us/step - loss: 0.2051 - accuracy: 0.9031 - val_loss: 0.4653 - val_accuracy: 0.8386\n",
      "Epoch 30/50\n",
      "912/912 [==============================] - 1s 925us/step - loss: 0.2025 - accuracy: 0.9025 - val_loss: 0.4715 - val_accuracy: 0.8333\n",
      "Epoch 31/50\n",
      "912/912 [==============================] - 1s 931us/step - loss: 0.2022 - accuracy: 0.9051 - val_loss: 0.4685 - val_accuracy: 0.8337\n",
      "Epoch 32/50\n",
      "912/912 [==============================] - 1s 909us/step - loss: 0.1977 - accuracy: 0.9074 - val_loss: 0.4939 - val_accuracy: 0.8348\n",
      "Epoch 33/50\n",
      "912/912 [==============================] - 1s 951us/step - loss: 0.1976 - accuracy: 0.9047 - val_loss: 0.5051 - val_accuracy: 0.8302\n",
      "Epoch 34/50\n",
      "912/912 [==============================] - 1s 959us/step - loss: 0.1973 - accuracy: 0.9076 - val_loss: 0.5093 - val_accuracy: 0.8265\n",
      "Epoch 35/50\n",
      "912/912 [==============================] - 1s 951us/step - loss: 0.1943 - accuracy: 0.9074 - val_loss: 0.5147 - val_accuracy: 0.8324\n",
      "Epoch 36/50\n",
      "912/912 [==============================] - 1s 971us/step - loss: 0.1907 - accuracy: 0.9108 - val_loss: 0.5262 - val_accuracy: 0.8329\n",
      "Epoch 37/50\n",
      "912/912 [==============================] - 1s 944us/step - loss: 0.1923 - accuracy: 0.9105 - val_loss: 0.5047 - val_accuracy: 0.8320\n",
      "Epoch 38/50\n",
      "912/912 [==============================] - 1s 915us/step - loss: 0.1831 - accuracy: 0.9160 - val_loss: 0.5254 - val_accuracy: 0.8283\n",
      "Epoch 39/50\n",
      "912/912 [==============================] - 1s 964us/step - loss: 0.1850 - accuracy: 0.9121 - val_loss: 0.5239 - val_accuracy: 0.8291\n",
      "Epoch 40/50\n",
      "912/912 [==============================] - 1s 943us/step - loss: 0.1840 - accuracy: 0.9135 - val_loss: 0.5562 - val_accuracy: 0.8307\n",
      "Epoch 41/50\n",
      "912/912 [==============================] - 1s 946us/step - loss: 0.1826 - accuracy: 0.9147 - val_loss: 0.5620 - val_accuracy: 0.8265\n",
      "Epoch 42/50\n",
      "912/912 [==============================] - 1s 945us/step - loss: 0.1855 - accuracy: 0.9135 - val_loss: 0.5496 - val_accuracy: 0.8272\n",
      "Epoch 43/50\n",
      "912/912 [==============================] - 1s 927us/step - loss: 0.1781 - accuracy: 0.9158 - val_loss: 0.5581 - val_accuracy: 0.8344\n",
      "Epoch 44/50\n",
      "912/912 [==============================] - 1s 931us/step - loss: 0.1813 - accuracy: 0.9147 - val_loss: 0.5978 - val_accuracy: 0.8309\n",
      "Epoch 45/50\n",
      "912/912 [==============================] - 1s 945us/step - loss: 0.1748 - accuracy: 0.9205 - val_loss: 0.5826 - val_accuracy: 0.8225\n",
      "Epoch 46/50\n",
      "912/912 [==============================] - 1s 917us/step - loss: 0.1736 - accuracy: 0.9186 - val_loss: 0.5950 - val_accuracy: 0.8318\n",
      "Epoch 47/50\n",
      "912/912 [==============================] - 1s 906us/step - loss: 0.1736 - accuracy: 0.9199 - val_loss: 0.6009 - val_accuracy: 0.8359\n",
      "Epoch 48/50\n",
      "912/912 [==============================] - 1s 932us/step - loss: 0.1720 - accuracy: 0.9177 - val_loss: 0.6249 - val_accuracy: 0.8263\n",
      "Epoch 49/50\n",
      "912/912 [==============================] - 1s 937us/step - loss: 0.1696 - accuracy: 0.9204 - val_loss: 0.6440 - val_accuracy: 0.8252\n",
      "Epoch 50/50\n",
      "912/912 [==============================] - 1s 888us/step - loss: 0.1665 - accuracy: 0.9211 - val_loss: 0.6466 - val_accuracy: 0.8304\n"
     ]
    }
   ],
   "source": [
    "hist = model.fit(x_train_scaled, y_train, validation_split=0.2, epochs=50, batch_size=20)"
   ]
  },
  {
   "cell_type": "code",
   "execution_count": null,
   "id": "2b6d2841",
   "metadata": {},
   "outputs": [],
   "source": [
    "# binary로는 전혀 학습이 되지 않는다."
   ]
  },
  {
   "cell_type": "code",
   "execution_count": null,
   "id": "84b47863",
   "metadata": {},
   "outputs": [],
   "source": []
  },
  {
   "cell_type": "code",
   "execution_count": null,
   "id": "2d9a3a92",
   "metadata": {},
   "outputs": [],
   "source": []
  },
  {
   "cell_type": "code",
   "execution_count": null,
   "id": "4a03ea6e",
   "metadata": {},
   "outputs": [],
   "source": [
    "# multi classification ver"
   ]
  },
  {
   "cell_type": "code",
   "execution_count": 103,
   "id": "acf3c52a",
   "metadata": {},
   "outputs": [
    {
     "data": {
      "text/plain": [
       "array([[1., 0.],\n",
       "       [1., 0.],\n",
       "       [1., 0.],\n",
       "       ...,\n",
       "       [1., 0.],\n",
       "       [1., 0.],\n",
       "       [0., 1.]], dtype=float32)"
      ]
     },
     "execution_count": 103,
     "metadata": {},
     "output_type": "execute_result"
    }
   ],
   "source": [
    "# one-hot 형식으로 바꿔주기\n",
    "y_oh = tf.keras.utils.to_categorical(y)\n",
    "y_oh"
   ]
  },
  {
   "cell_type": "code",
   "execution_count": 104,
   "id": "0b75018c",
   "metadata": {},
   "outputs": [],
   "source": [
    "from sklearn.model_selection import train_test_split\n",
    "x_train, x_test, y_train, y_test = train_test_split(x,y_oh, test_size=0.3, random_state=111)"
   ]
  },
  {
   "cell_type": "code",
   "execution_count": 129,
   "id": "e95a3537",
   "metadata": {},
   "outputs": [
    {
     "name": "stdout",
     "output_type": "stream",
     "text": [
      "Model: \"sequential_15\"\n",
      "_________________________________________________________________\n",
      " Layer (type)                Output Shape              Param #   \n",
      "=================================================================\n",
      " dense_76 (Dense)            (None, 256)               27904     \n",
      "                                                                 \n",
      " dropout_7 (Dropout)         (None, 256)               0         \n",
      "                                                                 \n",
      " dense_77 (Dense)            (None, 128)               32896     \n",
      "                                                                 \n",
      " dropout_8 (Dropout)         (None, 128)               0         \n",
      "                                                                 \n",
      " dense_78 (Dense)            (None, 64)                8256      \n",
      "                                                                 \n",
      " dropout_9 (Dropout)         (None, 64)                0         \n",
      "                                                                 \n",
      " dense_79 (Dense)            (None, 32)                2080      \n",
      "                                                                 \n",
      " dropout_10 (Dropout)        (None, 32)                0         \n",
      "                                                                 \n",
      " dense_80 (Dense)            (None, 2)                 66        \n",
      "                                                                 \n",
      "=================================================================\n",
      "Total params: 71,202\n",
      "Trainable params: 71,202\n",
      "Non-trainable params: 0\n",
      "_________________________________________________________________\n"
     ]
    }
   ],
   "source": [
    "model = Sequential()\n",
    "model.add(Dense(256, activation = 'relu', input_dim = 108))\n",
    "# Dropout : 과적합을 해소해준다, 0.7(70%)에 해당하는 노드들만 남겨두고 다 지워버리는 것을 의미한다.\n",
    "model.add(Dropout(0.3))\n",
    "model.add(Dense(128, activation = 'relu'))\n",
    "model.add(Dropout(0.3))\n",
    "model.add(Dense(64, activation = 'relu'))\n",
    "model.add(Dropout(0.3))\n",
    "model.add(Dense(32, activation = 'relu'))\n",
    "model.add(Dropout(0.3))\n",
    "model.add(Dense(2, activation = 'softmax'))\n",
    "model.summary()\n",
    "model.compile(loss='categorical_crossentropy', metrics=['accuracy'], optimizer='adagrad')"
   ]
  },
  {
   "cell_type": "code",
   "execution_count": 130,
   "id": "c03bfe68",
   "metadata": {},
   "outputs": [
    {
     "name": "stdout",
     "output_type": "stream",
     "text": [
      "Epoch 1/50\n",
      "912/912 [==============================] - 2s 1ms/step - loss: 0.5901 - accuracy: 0.7207 - val_loss: 0.4742 - val_accuracy: 0.7730\n",
      "Epoch 2/50\n",
      "912/912 [==============================] - 1s 1ms/step - loss: 0.5182 - accuracy: 0.7585 - val_loss: 0.4240 - val_accuracy: 0.8074\n",
      "Epoch 3/50\n",
      "912/912 [==============================] - 1s 1ms/step - loss: 0.4830 - accuracy: 0.7718 - val_loss: 0.3946 - val_accuracy: 0.8285\n",
      "Epoch 4/50\n",
      "912/912 [==============================] - 1s 1ms/step - loss: 0.4530 - accuracy: 0.7835 - val_loss: 0.3768 - val_accuracy: 0.8370\n",
      "Epoch 5/50\n",
      "912/912 [==============================] - 1s 1ms/step - loss: 0.4343 - accuracy: 0.7944 - val_loss: 0.3663 - val_accuracy: 0.8419\n",
      "Epoch 6/50\n",
      "912/912 [==============================] - 1s 1ms/step - loss: 0.4256 - accuracy: 0.7995 - val_loss: 0.3596 - val_accuracy: 0.8421\n",
      "Epoch 7/50\n",
      "912/912 [==============================] - 1s 1ms/step - loss: 0.4197 - accuracy: 0.8004 - val_loss: 0.3561 - val_accuracy: 0.8405\n",
      "Epoch 8/50\n",
      "912/912 [==============================] - 1s 1ms/step - loss: 0.4132 - accuracy: 0.8027 - val_loss: 0.3528 - val_accuracy: 0.8412\n",
      "Epoch 9/50\n",
      "912/912 [==============================] - 1s 1ms/step - loss: 0.4094 - accuracy: 0.8090 - val_loss: 0.3503 - val_accuracy: 0.8410\n",
      "Epoch 10/50\n",
      "912/912 [==============================] - 1s 1ms/step - loss: 0.4043 - accuracy: 0.8087 - val_loss: 0.3484 - val_accuracy: 0.8399\n",
      "Epoch 11/50\n",
      "912/912 [==============================] - 1s 1ms/step - loss: 0.3995 - accuracy: 0.8115 - val_loss: 0.3462 - val_accuracy: 0.8412\n",
      "Epoch 12/50\n",
      "912/912 [==============================] - 1s 1ms/step - loss: 0.3970 - accuracy: 0.8111 - val_loss: 0.3448 - val_accuracy: 0.8423\n",
      "Epoch 13/50\n",
      "912/912 [==============================] - 1s 1ms/step - loss: 0.3942 - accuracy: 0.8154 - val_loss: 0.3434 - val_accuracy: 0.8427\n",
      "Epoch 14/50\n",
      "912/912 [==============================] - 1s 1ms/step - loss: 0.3933 - accuracy: 0.8159 - val_loss: 0.3422 - val_accuracy: 0.8447\n",
      "Epoch 15/50\n",
      "912/912 [==============================] - 1s 1ms/step - loss: 0.3900 - accuracy: 0.8159 - val_loss: 0.3407 - val_accuracy: 0.8447\n",
      "Epoch 16/50\n",
      "912/912 [==============================] - 1s 1ms/step - loss: 0.3874 - accuracy: 0.8165 - val_loss: 0.3399 - val_accuracy: 0.8462\n",
      "Epoch 17/50\n",
      "912/912 [==============================] - 1s 1ms/step - loss: 0.3894 - accuracy: 0.8163 - val_loss: 0.3392 - val_accuracy: 0.8471\n",
      "Epoch 18/50\n",
      "912/912 [==============================] - 1s 1ms/step - loss: 0.3856 - accuracy: 0.8208 - val_loss: 0.3385 - val_accuracy: 0.8478\n",
      "Epoch 19/50\n",
      "912/912 [==============================] - 1s 1ms/step - loss: 0.3810 - accuracy: 0.8190 - val_loss: 0.3376 - val_accuracy: 0.8480\n",
      "Epoch 20/50\n",
      "912/912 [==============================] - 1s 1ms/step - loss: 0.3821 - accuracy: 0.8216 - val_loss: 0.3372 - val_accuracy: 0.8491\n",
      "Epoch 21/50\n",
      "912/912 [==============================] - 1s 1ms/step - loss: 0.3807 - accuracy: 0.8181 - val_loss: 0.3364 - val_accuracy: 0.8491\n",
      "Epoch 22/50\n",
      "912/912 [==============================] - 1s 1ms/step - loss: 0.3779 - accuracy: 0.8232 - val_loss: 0.3358 - val_accuracy: 0.8489\n",
      "Epoch 23/50\n",
      "912/912 [==============================] - 1s 1ms/step - loss: 0.3823 - accuracy: 0.8216 - val_loss: 0.3354 - val_accuracy: 0.8482\n",
      "Epoch 24/50\n",
      "912/912 [==============================] - 1s 1ms/step - loss: 0.3775 - accuracy: 0.8204 - val_loss: 0.3348 - val_accuracy: 0.8484\n",
      "Epoch 25/50\n",
      "912/912 [==============================] - 1s 1ms/step - loss: 0.3762 - accuracy: 0.8225 - val_loss: 0.3344 - val_accuracy: 0.8480\n",
      "Epoch 26/50\n",
      "912/912 [==============================] - 1s 1ms/step - loss: 0.3795 - accuracy: 0.8240 - val_loss: 0.3341 - val_accuracy: 0.8489\n",
      "Epoch 27/50\n",
      "912/912 [==============================] - 1s 1ms/step - loss: 0.3761 - accuracy: 0.8244 - val_loss: 0.3337 - val_accuracy: 0.8487\n",
      "Epoch 28/50\n",
      "912/912 [==============================] - 1s 1ms/step - loss: 0.3769 - accuracy: 0.8254 - val_loss: 0.3333 - val_accuracy: 0.8478\n",
      "Epoch 29/50\n",
      "912/912 [==============================] - 1s 1ms/step - loss: 0.3738 - accuracy: 0.8240 - val_loss: 0.3329 - val_accuracy: 0.8471\n",
      "Epoch 30/50\n",
      "912/912 [==============================] - 1s 1ms/step - loss: 0.3707 - accuracy: 0.8276 - val_loss: 0.3325 - val_accuracy: 0.8476\n",
      "Epoch 31/50\n",
      "912/912 [==============================] - 1s 1ms/step - loss: 0.3737 - accuracy: 0.8233 - val_loss: 0.3322 - val_accuracy: 0.8484\n",
      "Epoch 32/50\n",
      "912/912 [==============================] - 1s 1ms/step - loss: 0.3690 - accuracy: 0.8261 - val_loss: 0.3317 - val_accuracy: 0.8480\n",
      "Epoch 33/50\n",
      "912/912 [==============================] - 1s 1ms/step - loss: 0.3690 - accuracy: 0.8249 - val_loss: 0.3312 - val_accuracy: 0.8478\n",
      "Epoch 34/50\n",
      "912/912 [==============================] - 1s 1ms/step - loss: 0.3676 - accuracy: 0.8282 - val_loss: 0.3309 - val_accuracy: 0.8480\n",
      "Epoch 35/50\n",
      "912/912 [==============================] - 1s 1ms/step - loss: 0.3678 - accuracy: 0.8289 - val_loss: 0.3307 - val_accuracy: 0.8491\n",
      "Epoch 36/50\n",
      "912/912 [==============================] - 1s 1ms/step - loss: 0.3657 - accuracy: 0.8276 - val_loss: 0.3303 - val_accuracy: 0.8489\n",
      "Epoch 37/50\n",
      "912/912 [==============================] - 1s 1ms/step - loss: 0.3642 - accuracy: 0.8289 - val_loss: 0.3300 - val_accuracy: 0.8491\n",
      "Epoch 38/50\n",
      "912/912 [==============================] - 1s 1ms/step - loss: 0.3670 - accuracy: 0.8314 - val_loss: 0.3297 - val_accuracy: 0.8482\n",
      "Epoch 39/50\n",
      "912/912 [==============================] - 1s 1ms/step - loss: 0.3645 - accuracy: 0.8299 - val_loss: 0.3295 - val_accuracy: 0.8489\n",
      "Epoch 40/50\n",
      "912/912 [==============================] - 1s 1ms/step - loss: 0.3652 - accuracy: 0.8286 - val_loss: 0.3290 - val_accuracy: 0.8489\n",
      "Epoch 41/50\n",
      "912/912 [==============================] - 1s 1ms/step - loss: 0.3630 - accuracy: 0.8301 - val_loss: 0.3288 - val_accuracy: 0.8487\n",
      "Epoch 42/50\n",
      "912/912 [==============================] - 1s 1ms/step - loss: 0.3635 - accuracy: 0.8323 - val_loss: 0.3286 - val_accuracy: 0.8491\n",
      "Epoch 43/50\n",
      "912/912 [==============================] - 1s 1ms/step - loss: 0.3652 - accuracy: 0.8304 - val_loss: 0.3285 - val_accuracy: 0.8489\n",
      "Epoch 44/50\n",
      "912/912 [==============================] - 1s 1ms/step - loss: 0.3619 - accuracy: 0.8317 - val_loss: 0.3282 - val_accuracy: 0.8495\n",
      "Epoch 45/50\n",
      "912/912 [==============================] - 1s 1ms/step - loss: 0.3594 - accuracy: 0.8328 - val_loss: 0.3278 - val_accuracy: 0.8497\n",
      "Epoch 46/50\n",
      "912/912 [==============================] - 1s 1ms/step - loss: 0.3619 - accuracy: 0.8281 - val_loss: 0.3277 - val_accuracy: 0.8495\n",
      "Epoch 47/50\n",
      "912/912 [==============================] - 1s 1ms/step - loss: 0.3621 - accuracy: 0.8287 - val_loss: 0.3274 - val_accuracy: 0.8495\n",
      "Epoch 48/50\n",
      "912/912 [==============================] - 1s 1ms/step - loss: 0.3638 - accuracy: 0.8287 - val_loss: 0.3272 - val_accuracy: 0.8497\n",
      "Epoch 49/50\n",
      "912/912 [==============================] - 1s 1ms/step - loss: 0.3581 - accuracy: 0.8337 - val_loss: 0.3270 - val_accuracy: 0.8500\n",
      "Epoch 50/50\n",
      "912/912 [==============================] - 1s 1ms/step - loss: 0.3600 - accuracy: 0.8316 - val_loss: 0.3267 - val_accuracy: 0.8491\n"
     ]
    }
   ],
   "source": [
    "hist = model.fit(x_train_scaled, y_train, validation_split=0.2, epochs=50, batch_size=20)"
   ]
  },
  {
   "cell_type": "code",
   "execution_count": 131,
   "id": "bf305124",
   "metadata": {},
   "outputs": [
    {
     "name": "stdout",
     "output_type": "stream",
     "text": [
      "306/306 [==============================] - 0s 824us/step - loss: 0.3416 - accuracy: 0.8428\n"
     ]
    },
    {
     "data": {
      "text/plain": [
       "[0.3415783643722534, 0.8427679538726807]"
      ]
     },
     "execution_count": 131,
     "metadata": {},
     "output_type": "execute_result"
    }
   ],
   "source": [
    "model.evaluate(x_test_scaled, y_test)"
   ]
  },
  {
   "cell_type": "code",
   "execution_count": 132,
   "id": "edeb655d",
   "metadata": {},
   "outputs": [
    {
     "data": {
      "text/plain": [
       "[<matplotlib.lines.Line2D at 0x20f2b2758e0>]"
      ]
     },
     "execution_count": 132,
     "metadata": {},
     "output_type": "execute_result"
    },
    {
     "data": {
      "image/png": "[encoded data removed]",
      "text/plain": [
       "<Figure size 432x288 with 1 Axes>"
      ]
     },
     "metadata": {
      "needs_background": "light"
     },
     "output_type": "display_data"
    }
   ],
   "source": [
    "plt.plot(hist.history['loss'], c='r')\n",
    "plt.plot(hist.history['val_loss'], c='b')"
   ]
  },
  {
   "cell_type": "code",
   "execution_count": 133,
   "id": "4f6f0e8c",
   "metadata": {
    "scrolled": true
   },
   "outputs": [
    {
     "data": {
      "text/plain": [
       "[<matplotlib.lines.Line2D at 0x20f2b2ab6d0>]"
      ]
     },
     "execution_count": 133,
     "metadata": {},
     "output_type": "execute_result"
    },
    {
     "data": {
      "image/png": "[encoded data removed]",
      "text/plain": [
       "<Figure size 432x288 with 1 Axes>"
      ]
     },
     "metadata": {
      "needs_background": "light"
     },
     "output_type": "display_data"
    }
   ],
   "source": [
    "plt.plot(hist.history['accuracy'], c='r')\n",
    "plt.plot(hist.history['val_accuracy'], c='b')"
   ]
  },
  {
   "cell_type": "code",
   "execution_count": null,
   "id": "e1257072",
   "metadata": {},
   "outputs": [],
   "source": [
    "# 머신러닝"
   ]
  },
  {
   "cell_type": "code",
   "execution_count": 134,
   "id": "eb822ea0",
   "metadata": {},
   "outputs": [],
   "source": [
    "from sklearn.ensemble import RandomForestClassifier"
   ]
  },
  {
   "cell_type": "code",
   "execution_count": 135,
   "id": "8297f965",
   "metadata": {},
   "outputs": [
    {
     "data": {
      "text/plain": [
       "0.8505476507319071"
      ]
     },
     "execution_count": 135,
     "metadata": {},
     "output_type": "execute_result"
    }
   ],
   "source": [
    "rfc = RandomForestClassifier()\n",
    "rfc.fit(x_train_scaled, y_train)\n",
    "rfc.score(x_test_scaled, y_test)"
   ]
  },
  {
   "cell_type": "code",
   "execution_count": null,
   "id": "bc0cf9d5",
   "metadata": {},
   "outputs": [],
   "source": []
  }
 ],
 "metadata": {
  "kernelspec": {
   "display_name": "Python 3 (ipykernel)",
   "language": "python",
   "name": "python3"
  },
  "language_info": {
   "codemirror_mode": {
    "name": "ipython",
    "version": 3
   },
   "file_extension": ".py",
   "mimetype": "text/x-python",
   "name": "python",
   "nbconvert_exporter": "python",
   "pygments_lexer": "ipython3",
   "version": "3.9.7"
  }
 },
 "nbformat": 4,
 "nbformat_minor": 5
}
