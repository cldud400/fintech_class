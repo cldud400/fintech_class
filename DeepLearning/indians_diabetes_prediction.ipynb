{
 "cells": [
  {
   "cell_type": "code",
   "execution_count": 1,
   "id": "dd3ed8cd",
   "metadata": {},
   "outputs": [],
   "source": [
    "import pandas as pd\n",
    "import numpy as np\n",
    "import matplotlib.pyplot as plt\n",
    "import seaborn as sns"
   ]
  },
  {
   "cell_type": "code",
   "execution_count": 2,
   "id": "ed688d73",
   "metadata": {},
   "outputs": [],
   "source": [
    "from tensorflow.keras.models import Sequential\n",
    "from tensorflow.keras.layers import Dense, Dropout\n",
    "from tensorflow.keras import utils\n",
    "import tensorflow as tf"
   ]
  },
  {
   "cell_type": "code",
   "execution_count": 5,
   "id": "1e9025a1",
   "metadata": {},
   "outputs": [
    {
     "data": {
      "text/html": [
       "<div>\n",
       "<style scoped>\n",
       "    .dataframe tbody tr th:only-of-type {\n",
       "        vertical-align: middle;\n",
       "    }\n",
       "\n",
       "    .dataframe tbody tr th {\n",
       "        vertical-align: top;\n",
       "    }\n",
       "\n",
       "    .dataframe thead th {\n",
       "        text-align: right;\n",
       "    }\n",
       "</style>\n",
       "<table border=\"1\" class=\"dataframe\">\n",
       "  <thead>\n",
       "    <tr style=\"text-align: right;\">\n",
       "      <th></th>\n",
       "      <th>0</th>\n",
       "      <th>1</th>\n",
       "      <th>2</th>\n",
       "      <th>3</th>\n",
       "      <th>4</th>\n",
       "      <th>5</th>\n",
       "      <th>6</th>\n",
       "      <th>7</th>\n",
       "      <th>8</th>\n",
       "    </tr>\n",
       "  </thead>\n",
       "  <tbody>\n",
       "    <tr>\n",
       "      <th>0</th>\n",
       "      <td>6</td>\n",
       "      <td>148</td>\n",
       "      <td>72</td>\n",
       "      <td>35</td>\n",
       "      <td>0</td>\n",
       "      <td>33.6</td>\n",
       "      <td>0.627</td>\n",
       "      <td>50</td>\n",
       "      <td>1</td>\n",
       "    </tr>\n",
       "    <tr>\n",
       "      <th>1</th>\n",
       "      <td>1</td>\n",
       "      <td>85</td>\n",
       "      <td>66</td>\n",
       "      <td>29</td>\n",
       "      <td>0</td>\n",
       "      <td>26.6</td>\n",
       "      <td>0.351</td>\n",
       "      <td>31</td>\n",
       "      <td>0</td>\n",
       "    </tr>\n",
       "    <tr>\n",
       "      <th>2</th>\n",
       "      <td>8</td>\n",
       "      <td>183</td>\n",
       "      <td>64</td>\n",
       "      <td>0</td>\n",
       "      <td>0</td>\n",
       "      <td>23.3</td>\n",
       "      <td>0.672</td>\n",
       "      <td>32</td>\n",
       "      <td>1</td>\n",
       "    </tr>\n",
       "  </tbody>\n",
       "</table>\n",
       "</div>"
      ],
      "text/plain": [
       "   0    1   2   3  4     5      6   7  8\n",
       "0  6  148  72  35  0  33.6  0.627  50  1\n",
       "1  1   85  66  29  0  26.6  0.351  31  0\n",
       "2  8  183  64   0  0  23.3  0.672  32  1"
      ]
     },
     "execution_count": 5,
     "metadata": {},
     "output_type": "execute_result"
    }
   ],
   "source": [
    "df = pd.read_csv('./datafiles/pima-indians-diabetes.csv', header=None)\n",
    "df.head(3)"
   ]
  },
  {
   "cell_type": "code",
   "execution_count": 6,
   "id": "93837f16",
   "metadata": {},
   "outputs": [
    {
     "name": "stdout",
     "output_type": "stream",
     "text": [
      "<class 'pandas.core.frame.DataFrame'>\n",
      "RangeIndex: 768 entries, 0 to 767\n",
      "Data columns (total 9 columns):\n",
      " #   Column  Non-Null Count  Dtype  \n",
      "---  ------  --------------  -----  \n",
      " 0   0       768 non-null    int64  \n",
      " 1   1       768 non-null    int64  \n",
      " 2   2       768 non-null    int64  \n",
      " 3   3       768 non-null    int64  \n",
      " 4   4       768 non-null    int64  \n",
      " 5   5       768 non-null    float64\n",
      " 6   6       768 non-null    float64\n",
      " 7   7       768 non-null    int64  \n",
      " 8   8       768 non-null    int64  \n",
      "dtypes: float64(2), int64(7)\n",
      "memory usage: 54.1 KB\n"
     ]
    }
   ],
   "source": [
    "df.info()"
   ]
  },
  {
   "cell_type": "code",
   "execution_count": null,
   "id": "d3b9d729",
   "metadata": {},
   "outputs": [],
   "source": []
  },
  {
   "cell_type": "code",
   "execution_count": 7,
   "id": "a421a6c7",
   "metadata": {},
   "outputs": [],
   "source": [
    "# diabetes 여부를 판별하는 모델을 만들고, 모델을 평가"
   ]
  },
  {
   "cell_type": "code",
   "execution_count": 43,
   "id": "bf838f7b",
   "metadata": {},
   "outputs": [],
   "source": [
    "x = df.iloc[:,:8]\n",
    "y = df.iloc[:,8]"
   ]
  },
  {
   "cell_type": "code",
   "execution_count": 44,
   "id": "365a60b0",
   "metadata": {},
   "outputs": [],
   "source": [
    "from sklearn.preprocessing import MinMaxScaler\n",
    "scaler = MinMaxScaler()\n",
    "x_sc = scaler.fit_transform(x)"
   ]
  },
  {
   "cell_type": "code",
   "execution_count": 45,
   "id": "e3878611",
   "metadata": {},
   "outputs": [],
   "source": [
    "y_oh = pd.get_dummies(y)"
   ]
  },
  {
   "cell_type": "code",
   "execution_count": 46,
   "id": "fe654b4b",
   "metadata": {},
   "outputs": [
    {
     "data": {
      "text/plain": [
       "(768, 8)"
      ]
     },
     "execution_count": 46,
     "metadata": {},
     "output_type": "execute_result"
    }
   ],
   "source": [
    "x_sc.shape"
   ]
  },
  {
   "cell_type": "code",
   "execution_count": 47,
   "id": "4e1e02c2",
   "metadata": {},
   "outputs": [
    {
     "data": {
      "text/plain": [
       "(768, 2)"
      ]
     },
     "execution_count": 47,
     "metadata": {},
     "output_type": "execute_result"
    }
   ],
   "source": [
    "y_oh.shape"
   ]
  },
  {
   "cell_type": "code",
   "execution_count": 53,
   "id": "2dab98ef",
   "metadata": {},
   "outputs": [
    {
     "name": "stdout",
     "output_type": "stream",
     "text": [
      "Model: \"sequential_5\"\n",
      "_________________________________________________________________\n",
      " Layer (type)                Output Shape              Param #   \n",
      "=================================================================\n",
      " dense_23 (Dense)            (None, 128)               1152      \n",
      "                                                                 \n",
      " dense_24 (Dense)            (None, 64)                8256      \n",
      "                                                                 \n",
      " dropout_4 (Dropout)         (None, 64)                0         \n",
      "                                                                 \n",
      " dense_25 (Dense)            (None, 32)                2080      \n",
      "                                                                 \n",
      " dropout_5 (Dropout)         (None, 32)                0         \n",
      "                                                                 \n",
      " dense_26 (Dense)            (None, 1)                 33        \n",
      "                                                                 \n",
      "=================================================================\n",
      "Total params: 11,521\n",
      "Trainable params: 11,521\n",
      "Non-trainable params: 0\n",
      "_________________________________________________________________\n"
     ]
    }
   ],
   "source": [
    "model = Sequential()\n",
    "model.add(Dense(128, input_dim=8, activation='relu'))\n",
    "model.add(Dense(64, activation='relu'))\n",
    "model.add(Dropout(0.3))\n",
    "model.add(Dense(32, activation='relu'))\n",
    "model.add(Dropout(0.3))\n",
    "# model.add(Dense(16, activation='relu'))\n",
    "model.add(Dense(1, activation='sigmoid'))\n",
    "model.summary()"
   ]
  },
  {
   "cell_type": "code",
   "execution_count": 55,
   "id": "1061539b",
   "metadata": {},
   "outputs": [],
   "source": [
    "model.compile(loss='binary_crossentropy', metrics=['accuracy'], optimizer='adam')"
   ]
  },
  {
   "cell_type": "code",
   "execution_count": 56,
   "id": "c97f2d1d",
   "metadata": {},
   "outputs": [
    {
     "name": "stdout",
     "output_type": "stream",
     "text": [
      "Epoch 1/100\n",
      "62/62 [==============================] - 0s 2ms/step - loss: 0.6669 - accuracy: 0.6336 - val_loss: 0.6450 - val_accuracy: 0.6429\n",
      "Epoch 2/100\n",
      "62/62 [==============================] - 0s 1ms/step - loss: 0.6374 - accuracy: 0.6645 - val_loss: 0.5982 - val_accuracy: 0.6688\n",
      "Epoch 3/100\n",
      "62/62 [==============================] - 0s 1ms/step - loss: 0.6026 - accuracy: 0.6824 - val_loss: 0.5866 - val_accuracy: 0.6494\n",
      "Epoch 4/100\n",
      "62/62 [==============================] - 0s 1ms/step - loss: 0.5878 - accuracy: 0.7036 - val_loss: 0.5337 - val_accuracy: 0.7338\n",
      "Epoch 5/100\n",
      "62/62 [==============================] - 0s 1ms/step - loss: 0.5557 - accuracy: 0.7296 - val_loss: 0.5318 - val_accuracy: 0.7922\n",
      "Epoch 6/100\n",
      "62/62 [==============================] - 0s 1ms/step - loss: 0.5394 - accuracy: 0.7410 - val_loss: 0.4825 - val_accuracy: 0.8117\n",
      "Epoch 7/100\n",
      "62/62 [==============================] - 0s 1ms/step - loss: 0.5227 - accuracy: 0.7443 - val_loss: 0.4818 - val_accuracy: 0.7662\n",
      "Epoch 8/100\n",
      "62/62 [==============================] - 0s 1ms/step - loss: 0.4991 - accuracy: 0.7590 - val_loss: 0.4954 - val_accuracy: 0.7857\n",
      "Epoch 9/100\n",
      "62/62 [==============================] - 0s 1ms/step - loss: 0.5100 - accuracy: 0.7476 - val_loss: 0.4432 - val_accuracy: 0.7857\n",
      "Epoch 10/100\n",
      "62/62 [==============================] - 0s 1ms/step - loss: 0.4987 - accuracy: 0.7785 - val_loss: 0.4506 - val_accuracy: 0.7987\n",
      "Epoch 11/100\n",
      "62/62 [==============================] - 0s 1ms/step - loss: 0.5022 - accuracy: 0.7752 - val_loss: 0.4577 - val_accuracy: 0.8117\n",
      "Epoch 12/100\n",
      "62/62 [==============================] - 0s 1ms/step - loss: 0.4763 - accuracy: 0.7573 - val_loss: 0.4544 - val_accuracy: 0.7922\n",
      "Epoch 13/100\n",
      "62/62 [==============================] - 0s 1ms/step - loss: 0.4673 - accuracy: 0.7687 - val_loss: 0.5010 - val_accuracy: 0.7143\n",
      "Epoch 14/100\n",
      "62/62 [==============================] - 0s 1ms/step - loss: 0.4746 - accuracy: 0.7752 - val_loss: 0.4632 - val_accuracy: 0.7987\n",
      "Epoch 15/100\n",
      "62/62 [==============================] - 0s 1ms/step - loss: 0.4575 - accuracy: 0.7964 - val_loss: 0.4559 - val_accuracy: 0.7662\n",
      "Epoch 16/100\n",
      "62/62 [==============================] - 0s 1ms/step - loss: 0.4638 - accuracy: 0.7801 - val_loss: 0.4326 - val_accuracy: 0.7857\n",
      "Epoch 17/100\n",
      "62/62 [==============================] - 0s 1ms/step - loss: 0.4639 - accuracy: 0.7899 - val_loss: 0.4390 - val_accuracy: 0.7792\n",
      "Epoch 18/100\n",
      "62/62 [==============================] - 0s 1ms/step - loss: 0.4632 - accuracy: 0.7736 - val_loss: 0.4502 - val_accuracy: 0.7662\n",
      "Epoch 19/100\n",
      "62/62 [==============================] - 0s 1ms/step - loss: 0.4644 - accuracy: 0.7866 - val_loss: 0.4502 - val_accuracy: 0.7857\n",
      "Epoch 20/100\n",
      "62/62 [==============================] - 0s 1ms/step - loss: 0.4544 - accuracy: 0.7915 - val_loss: 0.4497 - val_accuracy: 0.7987\n",
      "Epoch 21/100\n",
      "62/62 [==============================] - 0s 1ms/step - loss: 0.4518 - accuracy: 0.7932 - val_loss: 0.4477 - val_accuracy: 0.7857\n",
      "Epoch 22/100\n",
      "62/62 [==============================] - 0s 1ms/step - loss: 0.4337 - accuracy: 0.8046 - val_loss: 0.4398 - val_accuracy: 0.8117\n",
      "Epoch 23/100\n",
      "62/62 [==============================] - 0s 1ms/step - loss: 0.4443 - accuracy: 0.7964 - val_loss: 0.4816 - val_accuracy: 0.7468\n",
      "Epoch 24/100\n",
      "62/62 [==============================] - 0s 1ms/step - loss: 0.4446 - accuracy: 0.7883 - val_loss: 0.4460 - val_accuracy: 0.7987\n",
      "Epoch 25/100\n",
      "62/62 [==============================] - 0s 1ms/step - loss: 0.4489 - accuracy: 0.7834 - val_loss: 0.4474 - val_accuracy: 0.7987\n",
      "Epoch 26/100\n",
      "62/62 [==============================] - 0s 1ms/step - loss: 0.4408 - accuracy: 0.7818 - val_loss: 0.4601 - val_accuracy: 0.8117\n",
      "Epoch 27/100\n",
      "62/62 [==============================] - 0s 1ms/step - loss: 0.4698 - accuracy: 0.7704 - val_loss: 0.4544 - val_accuracy: 0.7792\n",
      "Epoch 28/100\n",
      "62/62 [==============================] - 0s 1ms/step - loss: 0.4404 - accuracy: 0.7915 - val_loss: 0.4855 - val_accuracy: 0.7532\n",
      "Epoch 29/100\n",
      "62/62 [==============================] - 0s 1ms/step - loss: 0.4259 - accuracy: 0.7932 - val_loss: 0.4833 - val_accuracy: 0.7597\n",
      "Epoch 30/100\n",
      "62/62 [==============================] - 0s 1ms/step - loss: 0.4322 - accuracy: 0.7850 - val_loss: 0.4675 - val_accuracy: 0.7987\n",
      "Epoch 31/100\n",
      "62/62 [==============================] - 0s 1ms/step - loss: 0.4221 - accuracy: 0.7850 - val_loss: 0.4589 - val_accuracy: 0.7792\n",
      "Epoch 32/100\n",
      "62/62 [==============================] - 0s 1ms/step - loss: 0.4558 - accuracy: 0.7915 - val_loss: 0.4729 - val_accuracy: 0.7922\n",
      "Epoch 33/100\n",
      "62/62 [==============================] - 0s 1ms/step - loss: 0.4305 - accuracy: 0.8111 - val_loss: 0.4787 - val_accuracy: 0.7662\n",
      "Epoch 34/100\n",
      "62/62 [==============================] - 0s 1ms/step - loss: 0.4242 - accuracy: 0.8029 - val_loss: 0.4543 - val_accuracy: 0.7987\n",
      "Epoch 35/100\n",
      "62/62 [==============================] - 0s 1ms/step - loss: 0.4269 - accuracy: 0.7964 - val_loss: 0.4742 - val_accuracy: 0.8182\n",
      "Epoch 36/100\n",
      "62/62 [==============================] - 0s 1ms/step - loss: 0.4404 - accuracy: 0.7997 - val_loss: 0.4735 - val_accuracy: 0.7792\n",
      "Epoch 37/100\n",
      "62/62 [==============================] - 0s 1ms/step - loss: 0.4166 - accuracy: 0.7932 - val_loss: 0.4749 - val_accuracy: 0.7987\n",
      "Epoch 38/100\n",
      "62/62 [==============================] - 0s 1ms/step - loss: 0.4273 - accuracy: 0.7948 - val_loss: 0.5065 - val_accuracy: 0.7273\n",
      "Epoch 39/100\n",
      "62/62 [==============================] - 0s 1ms/step - loss: 0.4188 - accuracy: 0.7980 - val_loss: 0.4980 - val_accuracy: 0.7597\n",
      "Epoch 40/100\n",
      "62/62 [==============================] - 0s 1ms/step - loss: 0.4102 - accuracy: 0.7997 - val_loss: 0.4708 - val_accuracy: 0.8052\n",
      "Epoch 41/100\n",
      "62/62 [==============================] - 0s 1ms/step - loss: 0.4286 - accuracy: 0.8029 - val_loss: 0.4881 - val_accuracy: 0.7727\n",
      "Epoch 42/100\n",
      "62/62 [==============================] - 0s 1ms/step - loss: 0.4172 - accuracy: 0.8046 - val_loss: 0.4896 - val_accuracy: 0.7792\n",
      "Epoch 43/100\n",
      "62/62 [==============================] - 0s 1ms/step - loss: 0.4203 - accuracy: 0.8029 - val_loss: 0.4794 - val_accuracy: 0.7857\n",
      "Epoch 44/100\n",
      "62/62 [==============================] - 0s 1ms/step - loss: 0.4105 - accuracy: 0.8013 - val_loss: 0.4740 - val_accuracy: 0.7922\n",
      "Epoch 45/100\n",
      "62/62 [==============================] - 0s 1ms/step - loss: 0.4173 - accuracy: 0.8160 - val_loss: 0.5009 - val_accuracy: 0.7792\n",
      "Epoch 46/100\n",
      "62/62 [==============================] - 0s 1ms/step - loss: 0.3974 - accuracy: 0.8160 - val_loss: 0.5295 - val_accuracy: 0.7468\n",
      "Epoch 47/100\n",
      "62/62 [==============================] - 0s 1ms/step - loss: 0.4208 - accuracy: 0.8013 - val_loss: 0.4965 - val_accuracy: 0.7922\n",
      "Epoch 48/100\n",
      "62/62 [==============================] - 0s 1ms/step - loss: 0.4077 - accuracy: 0.8078 - val_loss: 0.5024 - val_accuracy: 0.7922\n",
      "Epoch 49/100\n",
      "62/62 [==============================] - 0s 1ms/step - loss: 0.4230 - accuracy: 0.7915 - val_loss: 0.4818 - val_accuracy: 0.8052\n",
      "Epoch 50/100\n",
      "62/62 [==============================] - 0s 1ms/step - loss: 0.4039 - accuracy: 0.8176 - val_loss: 0.4906 - val_accuracy: 0.8052\n",
      "Epoch 51/100\n",
      "62/62 [==============================] - 0s 1ms/step - loss: 0.3936 - accuracy: 0.8078 - val_loss: 0.5022 - val_accuracy: 0.7597\n",
      "Epoch 52/100\n",
      "62/62 [==============================] - 0s 1ms/step - loss: 0.4017 - accuracy: 0.8111 - val_loss: 0.5048 - val_accuracy: 0.8052\n",
      "Epoch 53/100\n",
      "62/62 [==============================] - 0s 1ms/step - loss: 0.4112 - accuracy: 0.8062 - val_loss: 0.4924 - val_accuracy: 0.7857\n",
      "Epoch 54/100\n",
      "62/62 [==============================] - 0s 1ms/step - loss: 0.3977 - accuracy: 0.8046 - val_loss: 0.4957 - val_accuracy: 0.8052\n",
      "Epoch 55/100\n",
      "62/62 [==============================] - 0s 1ms/step - loss: 0.4068 - accuracy: 0.8143 - val_loss: 0.5185 - val_accuracy: 0.7857\n",
      "Epoch 56/100\n",
      "62/62 [==============================] - 0s 1ms/step - loss: 0.3865 - accuracy: 0.8176 - val_loss: 0.5375 - val_accuracy: 0.7338\n",
      "Epoch 57/100\n",
      "62/62 [==============================] - 0s 1ms/step - loss: 0.4083 - accuracy: 0.7980 - val_loss: 0.5073 - val_accuracy: 0.7792\n",
      "Epoch 58/100\n",
      "62/62 [==============================] - 0s 1ms/step - loss: 0.4024 - accuracy: 0.8046 - val_loss: 0.5260 - val_accuracy: 0.8052\n"
     ]
    },
    {
     "name": "stdout",
     "output_type": "stream",
     "text": [
      "Epoch 59/100\n",
      "62/62 [==============================] - 0s 1ms/step - loss: 0.4008 - accuracy: 0.8013 - val_loss: 0.5157 - val_accuracy: 0.7792\n",
      "Epoch 60/100\n",
      "62/62 [==============================] - 0s 1ms/step - loss: 0.3905 - accuracy: 0.8208 - val_loss: 0.5179 - val_accuracy: 0.7792\n",
      "Epoch 61/100\n",
      "62/62 [==============================] - 0s 1ms/step - loss: 0.3725 - accuracy: 0.8127 - val_loss: 0.5285 - val_accuracy: 0.7987\n",
      "Epoch 62/100\n",
      "62/62 [==============================] - 0s 1ms/step - loss: 0.3841 - accuracy: 0.8274 - val_loss: 0.5161 - val_accuracy: 0.7857\n",
      "Epoch 63/100\n",
      "62/62 [==============================] - 0s 1ms/step - loss: 0.3802 - accuracy: 0.8257 - val_loss: 0.5118 - val_accuracy: 0.7987\n",
      "Epoch 64/100\n",
      "62/62 [==============================] - 0s 1ms/step - loss: 0.3871 - accuracy: 0.8111 - val_loss: 0.5651 - val_accuracy: 0.7403\n",
      "Epoch 65/100\n",
      "62/62 [==============================] - 0s 1ms/step - loss: 0.4042 - accuracy: 0.8046 - val_loss: 0.4971 - val_accuracy: 0.8052\n",
      "Epoch 66/100\n",
      "62/62 [==============================] - 0s 1ms/step - loss: 0.3869 - accuracy: 0.8062 - val_loss: 0.5130 - val_accuracy: 0.7857\n",
      "Epoch 67/100\n",
      "62/62 [==============================] - 0s 1ms/step - loss: 0.3708 - accuracy: 0.8225 - val_loss: 0.5167 - val_accuracy: 0.7922\n",
      "Epoch 68/100\n",
      "62/62 [==============================] - 0s 1ms/step - loss: 0.3765 - accuracy: 0.8208 - val_loss: 0.5308 - val_accuracy: 0.7922\n",
      "Epoch 69/100\n",
      "62/62 [==============================] - 0s 1ms/step - loss: 0.3698 - accuracy: 0.8160 - val_loss: 0.5234 - val_accuracy: 0.7987\n",
      "Epoch 70/100\n",
      "62/62 [==============================] - 0s 1ms/step - loss: 0.3696 - accuracy: 0.8241 - val_loss: 0.5222 - val_accuracy: 0.7987\n",
      "Epoch 71/100\n",
      "62/62 [==============================] - 0s 1ms/step - loss: 0.3644 - accuracy: 0.8274 - val_loss: 0.5328 - val_accuracy: 0.7987\n",
      "Epoch 72/100\n",
      "62/62 [==============================] - 0s 1ms/step - loss: 0.3760 - accuracy: 0.8111 - val_loss: 0.5402 - val_accuracy: 0.7987\n",
      "Epoch 73/100\n",
      "62/62 [==============================] - 0s 1ms/step - loss: 0.3780 - accuracy: 0.8208 - val_loss: 0.5197 - val_accuracy: 0.7792\n",
      "Epoch 74/100\n",
      "62/62 [==============================] - 0s 1ms/step - loss: 0.3642 - accuracy: 0.8274 - val_loss: 0.5395 - val_accuracy: 0.8182\n",
      "Epoch 75/100\n",
      "62/62 [==============================] - 0s 1ms/step - loss: 0.3668 - accuracy: 0.8176 - val_loss: 0.5387 - val_accuracy: 0.8052\n",
      "Epoch 76/100\n",
      "62/62 [==============================] - 0s 1ms/step - loss: 0.3815 - accuracy: 0.8094 - val_loss: 0.5378 - val_accuracy: 0.8052\n",
      "Epoch 77/100\n",
      "62/62 [==============================] - 0s 1ms/step - loss: 0.3827 - accuracy: 0.8257 - val_loss: 0.5473 - val_accuracy: 0.7987\n",
      "Epoch 78/100\n",
      "62/62 [==============================] - 0s 1ms/step - loss: 0.3955 - accuracy: 0.8160 - val_loss: 0.5292 - val_accuracy: 0.7468\n",
      "Epoch 79/100\n",
      "62/62 [==============================] - 0s 1ms/step - loss: 0.3690 - accuracy: 0.8225 - val_loss: 0.5317 - val_accuracy: 0.8052\n",
      "Epoch 80/100\n",
      "62/62 [==============================] - 0s 1ms/step - loss: 0.3576 - accuracy: 0.8306 - val_loss: 0.5402 - val_accuracy: 0.7987\n",
      "Epoch 81/100\n",
      "62/62 [==============================] - 0s 1ms/step - loss: 0.3571 - accuracy: 0.8111 - val_loss: 0.5493 - val_accuracy: 0.8182\n",
      "Epoch 82/100\n",
      "62/62 [==============================] - 0s 1ms/step - loss: 0.3539 - accuracy: 0.8257 - val_loss: 0.5492 - val_accuracy: 0.7857\n",
      "Epoch 83/100\n",
      "62/62 [==============================] - 0s 1ms/step - loss: 0.3528 - accuracy: 0.8257 - val_loss: 0.5455 - val_accuracy: 0.8052\n",
      "Epoch 84/100\n",
      "62/62 [==============================] - 0s 1ms/step - loss: 0.3580 - accuracy: 0.8355 - val_loss: 0.5537 - val_accuracy: 0.8182\n",
      "Epoch 85/100\n",
      "62/62 [==============================] - 0s 1ms/step - loss: 0.3535 - accuracy: 0.8339 - val_loss: 0.5593 - val_accuracy: 0.8182\n",
      "Epoch 86/100\n",
      "62/62 [==============================] - 0s 1ms/step - loss: 0.3517 - accuracy: 0.8208 - val_loss: 0.5582 - val_accuracy: 0.8182\n",
      "Epoch 87/100\n",
      "62/62 [==============================] - 0s 1ms/step - loss: 0.3423 - accuracy: 0.8388 - val_loss: 0.5795 - val_accuracy: 0.7922\n",
      "Epoch 88/100\n",
      "62/62 [==============================] - 0s 1ms/step - loss: 0.3631 - accuracy: 0.8274 - val_loss: 0.5639 - val_accuracy: 0.8052\n",
      "Epoch 89/100\n",
      "62/62 [==============================] - 0s 1ms/step - loss: 0.3453 - accuracy: 0.8355 - val_loss: 0.5727 - val_accuracy: 0.8052\n",
      "Epoch 90/100\n",
      "62/62 [==============================] - 0s 1ms/step - loss: 0.3525 - accuracy: 0.8404 - val_loss: 0.5991 - val_accuracy: 0.7987\n",
      "Epoch 91/100\n",
      "62/62 [==============================] - 0s 1ms/step - loss: 0.3641 - accuracy: 0.8241 - val_loss: 0.5896 - val_accuracy: 0.8117\n",
      "Epoch 92/100\n",
      "62/62 [==============================] - 0s 1ms/step - loss: 0.3411 - accuracy: 0.8322 - val_loss: 0.5897 - val_accuracy: 0.8117\n",
      "Epoch 93/100\n",
      "62/62 [==============================] - 0s 1ms/step - loss: 0.3653 - accuracy: 0.8306 - val_loss: 0.6442 - val_accuracy: 0.7922\n",
      "Epoch 94/100\n",
      "62/62 [==============================] - 0s 1ms/step - loss: 0.3594 - accuracy: 0.8339 - val_loss: 0.5792 - val_accuracy: 0.8247\n",
      "Epoch 95/100\n",
      "62/62 [==============================] - 0s 1ms/step - loss: 0.3499 - accuracy: 0.8339 - val_loss: 0.5733 - val_accuracy: 0.8052\n",
      "Epoch 96/100\n",
      "62/62 [==============================] - 0s 1ms/step - loss: 0.3529 - accuracy: 0.8404 - val_loss: 0.5610 - val_accuracy: 0.7922\n",
      "Epoch 97/100\n",
      "62/62 [==============================] - 0s 1ms/step - loss: 0.3657 - accuracy: 0.8241 - val_loss: 0.5667 - val_accuracy: 0.7922\n",
      "Epoch 98/100\n",
      "62/62 [==============================] - 0s 1ms/step - loss: 0.3499 - accuracy: 0.8355 - val_loss: 0.5838 - val_accuracy: 0.8182\n",
      "Epoch 99/100\n",
      "62/62 [==============================] - 0s 1ms/step - loss: 0.3227 - accuracy: 0.8436 - val_loss: 0.5815 - val_accuracy: 0.8117\n",
      "Epoch 100/100\n",
      "62/62 [==============================] - 0s 1ms/step - loss: 0.3570 - accuracy: 0.8241 - val_loss: 0.5684 - val_accuracy: 0.8117\n"
     ]
    }
   ],
   "source": [
    "hist = model.fit(x_sc, y, epochs=100, batch_size=10, validation_split=0.2)"
   ]
  },
  {
   "cell_type": "code",
   "execution_count": 57,
   "id": "6d077d4a",
   "metadata": {},
   "outputs": [
    {
     "data": {
      "text/plain": [
       "[<matplotlib.lines.Line2D at 0x1e9bdc62c40>]"
      ]
     },
     "execution_count": 57,
     "metadata": {},
     "output_type": "execute_result"
    },
    {
     "data": {
      "image/png": "[encoded data removed]",
      "text/plain": [
       "<Figure size 432x288 with 1 Axes>"
      ]
     },
     "metadata": {
      "needs_background": "light"
     },
     "output_type": "display_data"
    }
   ],
   "source": [
    "plt.plot(hist.history['accuracy'], c='r')\n",
    "plt.plot(hist.history['val_accuracy'], c='b')"
   ]
  },
  {
   "cell_type": "code",
   "execution_count": 58,
   "id": "0c6a7fe9",
   "metadata": {},
   "outputs": [
    {
     "data": {
      "text/plain": [
       "[<matplotlib.lines.Line2D at 0x1e9bec7f9a0>]"
      ]
     },
     "execution_count": 58,
     "metadata": {},
     "output_type": "execute_result"
    },
    {
     "data": {
      "image/png": "[encoded data removed]",
      "text/plain": [
       "<Figure size 432x288 with 1 Axes>"
      ]
     },
     "metadata": {
      "needs_background": "light"
     },
     "output_type": "display_data"
    }
   ],
   "source": [
    "plt.plot(hist.history['loss'], c='r')\n",
    "plt.plot(hist.history['val_loss'], c='b')"
   ]
  },
  {
   "cell_type": "code",
   "execution_count": 59,
   "id": "3a60645c",
   "metadata": {},
   "outputs": [],
   "source": [
    "preds = model.predict(x_sc)"
   ]
  },
  {
   "cell_type": "code",
   "execution_count": 60,
   "id": "d2bf619d",
   "metadata": {},
   "outputs": [
    {
     "name": "stdout",
     "output_type": "stream",
     "text": [
      "24/24 [==============================] - 0s 824us/step - loss: 0.3665 - accuracy: 0.8529\n"
     ]
    },
    {
     "data": {
      "text/plain": [
       "[0.366451621055603, 0.8528645634651184]"
      ]
     },
     "execution_count": 60,
     "metadata": {},
     "output_type": "execute_result"
    }
   ],
   "source": [
    "model.evaluate(x_sc, y)"
   ]
  },
  {
   "cell_type": "code",
   "execution_count": null,
   "id": "ae25ced8",
   "metadata": {},
   "outputs": [],
   "source": []
  }
 ],
 "metadata": {
  "kernelspec": {
   "display_name": "Python 3 (ipykernel)",
   "language": "python",
   "name": "python3"
  },
  "language_info": {
   "codemirror_mode": {
    "name": "ipython",
    "version": 3
   },
   "file_extension": ".py",
   "mimetype": "text/x-python",
   "name": "python",
   "nbconvert_exporter": "python",
   "pygments_lexer": "ipython3",
   "version": "3.9.7"
  }
 },
 "nbformat": 4,
 "nbformat_minor": 5
}
