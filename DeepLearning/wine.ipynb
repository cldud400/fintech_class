{
 "cells": [
  {
   "cell_type": "code",
   "execution_count": 23,
   "id": "89cf913f",
   "metadata": {},
   "outputs": [],
   "source": [
    "import pandas as pd\n",
    "import numpy as np\n",
    "import matplotlib.pyplot as plt\n",
    "import seaborn as sns"
   ]
  },
  {
   "cell_type": "code",
   "execution_count": 24,
   "id": "66a36635",
   "metadata": {},
   "outputs": [],
   "source": [
    "from tensorflow.keras.models import Sequential\n",
    "from tensorflow.keras.layers import Dense\n",
    "import tensorflow as tf"
   ]
  },
  {
   "cell_type": "code",
   "execution_count": 25,
   "id": "cba2e247",
   "metadata": {},
   "outputs": [
    {
     "data": {
      "text/html": [
       "<div>\n",
       "<style scoped>\n",
       "    .dataframe tbody tr th:only-of-type {\n",
       "        vertical-align: middle;\n",
       "    }\n",
       "\n",
       "    .dataframe tbody tr th {\n",
       "        vertical-align: top;\n",
       "    }\n",
       "\n",
       "    .dataframe thead th {\n",
       "        text-align: right;\n",
       "    }\n",
       "</style>\n",
       "<table border=\"1\" class=\"dataframe\">\n",
       "  <thead>\n",
       "    <tr style=\"text-align: right;\">\n",
       "      <th></th>\n",
       "      <th>0</th>\n",
       "      <th>1</th>\n",
       "      <th>2</th>\n",
       "      <th>3</th>\n",
       "      <th>4</th>\n",
       "      <th>5</th>\n",
       "      <th>6</th>\n",
       "      <th>7</th>\n",
       "      <th>8</th>\n",
       "      <th>9</th>\n",
       "      <th>10</th>\n",
       "      <th>11</th>\n",
       "      <th>12</th>\n",
       "    </tr>\n",
       "  </thead>\n",
       "  <tbody>\n",
       "    <tr>\n",
       "      <th>0</th>\n",
       "      <td>7.4</td>\n",
       "      <td>0.70</td>\n",
       "      <td>0.00</td>\n",
       "      <td>1.9</td>\n",
       "      <td>0.076</td>\n",
       "      <td>11.0</td>\n",
       "      <td>34.0</td>\n",
       "      <td>0.9978</td>\n",
       "      <td>3.51</td>\n",
       "      <td>0.56</td>\n",
       "      <td>9.4</td>\n",
       "      <td>5</td>\n",
       "      <td>1</td>\n",
       "    </tr>\n",
       "    <tr>\n",
       "      <th>1</th>\n",
       "      <td>7.8</td>\n",
       "      <td>0.88</td>\n",
       "      <td>0.00</td>\n",
       "      <td>2.6</td>\n",
       "      <td>0.098</td>\n",
       "      <td>25.0</td>\n",
       "      <td>67.0</td>\n",
       "      <td>0.9968</td>\n",
       "      <td>3.20</td>\n",
       "      <td>0.68</td>\n",
       "      <td>9.8</td>\n",
       "      <td>5</td>\n",
       "      <td>1</td>\n",
       "    </tr>\n",
       "    <tr>\n",
       "      <th>2</th>\n",
       "      <td>7.8</td>\n",
       "      <td>0.76</td>\n",
       "      <td>0.04</td>\n",
       "      <td>2.3</td>\n",
       "      <td>0.092</td>\n",
       "      <td>15.0</td>\n",
       "      <td>54.0</td>\n",
       "      <td>0.9970</td>\n",
       "      <td>3.26</td>\n",
       "      <td>0.65</td>\n",
       "      <td>9.8</td>\n",
       "      <td>5</td>\n",
       "      <td>1</td>\n",
       "    </tr>\n",
       "    <tr>\n",
       "      <th>3</th>\n",
       "      <td>11.2</td>\n",
       "      <td>0.28</td>\n",
       "      <td>0.56</td>\n",
       "      <td>1.9</td>\n",
       "      <td>0.075</td>\n",
       "      <td>17.0</td>\n",
       "      <td>60.0</td>\n",
       "      <td>0.9980</td>\n",
       "      <td>3.16</td>\n",
       "      <td>0.58</td>\n",
       "      <td>9.8</td>\n",
       "      <td>6</td>\n",
       "      <td>1</td>\n",
       "    </tr>\n",
       "    <tr>\n",
       "      <th>4</th>\n",
       "      <td>7.4</td>\n",
       "      <td>0.70</td>\n",
       "      <td>0.00</td>\n",
       "      <td>1.9</td>\n",
       "      <td>0.076</td>\n",
       "      <td>11.0</td>\n",
       "      <td>34.0</td>\n",
       "      <td>0.9978</td>\n",
       "      <td>3.51</td>\n",
       "      <td>0.56</td>\n",
       "      <td>9.4</td>\n",
       "      <td>5</td>\n",
       "      <td>1</td>\n",
       "    </tr>\n",
       "  </tbody>\n",
       "</table>\n",
       "</div>"
      ],
      "text/plain": [
       "     0     1     2    3      4     5     6       7     8     9    10  11  12\n",
       "0   7.4  0.70  0.00  1.9  0.076  11.0  34.0  0.9978  3.51  0.56  9.4   5   1\n",
       "1   7.8  0.88  0.00  2.6  0.098  25.0  67.0  0.9968  3.20  0.68  9.8   5   1\n",
       "2   7.8  0.76  0.04  2.3  0.092  15.0  54.0  0.9970  3.26  0.65  9.8   5   1\n",
       "3  11.2  0.28  0.56  1.9  0.075  17.0  60.0  0.9980  3.16  0.58  9.8   6   1\n",
       "4   7.4  0.70  0.00  1.9  0.076  11.0  34.0  0.9978  3.51  0.56  9.4   5   1"
      ]
     },
     "execution_count": 25,
     "metadata": {},
     "output_type": "execute_result"
    }
   ],
   "source": [
    "df = pd.read_csv('./deep_source_files/wine.csv', header=None)\n",
    "df.head()"
   ]
  },
  {
   "cell_type": "code",
   "execution_count": 26,
   "id": "845c7a75",
   "metadata": {},
   "outputs": [
    {
     "name": "stdout",
     "output_type": "stream",
     "text": [
      "<class 'pandas.core.frame.DataFrame'>\n",
      "RangeIndex: 6497 entries, 0 to 6496\n",
      "Data columns (total 13 columns):\n",
      " #   Column  Non-Null Count  Dtype  \n",
      "---  ------  --------------  -----  \n",
      " 0   0       6497 non-null   float64\n",
      " 1   1       6497 non-null   float64\n",
      " 2   2       6497 non-null   float64\n",
      " 3   3       6497 non-null   float64\n",
      " 4   4       6497 non-null   float64\n",
      " 5   5       6497 non-null   float64\n",
      " 6   6       6497 non-null   float64\n",
      " 7   7       6497 non-null   float64\n",
      " 8   8       6497 non-null   float64\n",
      " 9   9       6497 non-null   float64\n",
      " 10  10      6497 non-null   float64\n",
      " 11  11      6497 non-null   int64  \n",
      " 12  12      6497 non-null   int64  \n",
      "dtypes: float64(11), int64(2)\n",
      "memory usage: 660.0 KB\n"
     ]
    }
   ],
   "source": [
    "df.info()"
   ]
  },
  {
   "cell_type": "code",
   "execution_count": 27,
   "id": "95b73ac0",
   "metadata": {},
   "outputs": [
    {
     "data": {
      "text/plain": [
       "0       1\n",
       "1       1\n",
       "2       1\n",
       "3       1\n",
       "4       1\n",
       "       ..\n",
       "6492    0\n",
       "6493    0\n",
       "6494    0\n",
       "6495    0\n",
       "6496    0\n",
       "Name: 12, Length: 6497, dtype: int64"
      ]
     },
     "execution_count": 27,
     "metadata": {},
     "output_type": "execute_result"
    }
   ],
   "source": [
    "df.iloc[:, 12]"
   ]
  },
  {
   "cell_type": "code",
   "execution_count": null,
   "id": "5be5933e",
   "metadata": {},
   "outputs": [],
   "source": []
  },
  {
   "cell_type": "code",
   "execution_count": 28,
   "id": "48bb932c",
   "metadata": {},
   "outputs": [],
   "source": [
    "# binary classification, muliti classification 두 가지 방식으로 nural network model을 만들고 \n",
    "# train data로 학습시킨 후 test data로 accuracy를 평가하시오"
   ]
  },
  {
   "cell_type": "code",
   "execution_count": 29,
   "id": "15ea5140",
   "metadata": {},
   "outputs": [],
   "source": [
    "y = df.iloc[:, 12].values\n",
    "x = df.iloc[:, :12].values"
   ]
  },
  {
   "cell_type": "code",
   "execution_count": 30,
   "id": "9ee6a1d9",
   "metadata": {},
   "outputs": [],
   "source": [
    "y_oh = tf.keras.utils.to_categorical(y)"
   ]
  },
  {
   "cell_type": "code",
   "execution_count": null,
   "id": "027a13e2",
   "metadata": {},
   "outputs": [],
   "source": []
  },
  {
   "cell_type": "code",
   "execution_count": 31,
   "id": "62a70b9c",
   "metadata": {},
   "outputs": [],
   "source": [
    "# binary"
   ]
  },
  {
   "cell_type": "code",
   "execution_count": 32,
   "id": "c98cbeeb",
   "metadata": {},
   "outputs": [],
   "source": [
    "from sklearn.model_selection import train_test_split\n",
    "x_train, x_test, y_train, y_test = train_test_split(x, y)"
   ]
  },
  {
   "cell_type": "code",
   "execution_count": 33,
   "id": "90c9764a",
   "metadata": {
    "collapsed": true
   },
   "outputs": [
    {
     "data": {
      "text/plain": [
       "(6497, 12)"
      ]
     },
     "execution_count": 33,
     "metadata": {},
     "output_type": "execute_result"
    }
   ],
   "source": [
    "x.shape"
   ]
  },
  {
   "cell_type": "code",
   "execution_count": 34,
   "id": "d13070cf",
   "metadata": {
    "collapsed": true
   },
   "outputs": [
    {
     "name": "stdout",
     "output_type": "stream",
     "text": [
      "Model: \"sequential_1\"\n",
      "_________________________________________________________________\n",
      " Layer (type)                Output Shape              Param #   \n",
      "=================================================================\n",
      " dense_4 (Dense)             (None, 36)                468       \n",
      "                                                                 \n",
      " dense_5 (Dense)             (None, 18)                666       \n",
      "                                                                 \n",
      " dense_6 (Dense)             (None, 9)                 171       \n",
      "                                                                 \n",
      " dense_7 (Dense)             (None, 1)                 10        \n",
      "                                                                 \n",
      "=================================================================\n",
      "Total params: 1,315\n",
      "Trainable params: 1,315\n",
      "Non-trainable params: 0\n",
      "_________________________________________________________________\n"
     ]
    }
   ],
   "source": [
    "model = Sequential()\n",
    "model.add(Dense(36, activation='relu', input_dim=12))\n",
    "model.add(Dense(18, activation='relu'))\n",
    "model.add(Dense(9, activation='relu'))\n",
    "model.add(Dense(1, activation='sigmoid'))\n",
    "model.summary()"
   ]
  },
  {
   "cell_type": "code",
   "execution_count": 40,
   "id": "a2e2fe63",
   "metadata": {},
   "outputs": [],
   "source": [
    "model.compile(loss='binary_crossentropy', metrics=['accuracy'], optimizer='adam')"
   ]
  },
  {
   "cell_type": "code",
   "execution_count": 41,
   "id": "d3674f63",
   "metadata": {},
   "outputs": [
    {
     "data": {
      "text/plain": [
       "(4872, 12)"
      ]
     },
     "execution_count": 41,
     "metadata": {},
     "output_type": "execute_result"
    }
   ],
   "source": [
    "x_train.shape"
   ]
  },
  {
   "cell_type": "code",
   "execution_count": 42,
   "id": "1d69eca3",
   "metadata": {},
   "outputs": [
    {
     "data": {
      "text/plain": [
       "(4872,)"
      ]
     },
     "execution_count": 42,
     "metadata": {},
     "output_type": "execute_result"
    }
   ],
   "source": [
    "y_train.shape"
   ]
  },
  {
   "cell_type": "code",
   "execution_count": 43,
   "id": "3bbd1474",
   "metadata": {
    "collapsed": true
   },
   "outputs": [
    {
     "data": {
      "text/plain": [
       "0     0\n",
       "1     0\n",
       "2     0\n",
       "3     0\n",
       "4     0\n",
       "5     0\n",
       "6     0\n",
       "7     0\n",
       "8     0\n",
       "9     0\n",
       "10    0\n",
       "11    0\n",
       "12    0\n",
       "dtype: int64"
      ]
     },
     "execution_count": 43,
     "metadata": {},
     "output_type": "execute_result"
    }
   ],
   "source": [
    "df.isnull().sum()"
   ]
  },
  {
   "cell_type": "code",
   "execution_count": 44,
   "id": "dfef521d",
   "metadata": {
    "collapsed": true
   },
   "outputs": [
    {
     "name": "stdout",
     "output_type": "stream",
     "text": [
      "Epoch 1/50\n",
      "244/244 [==============================] - 1s 847us/step - loss: 0.2216 - accuracy: 0.9208\n",
      "Epoch 2/50\n",
      "244/244 [==============================] - 0s 823us/step - loss: 0.1876 - accuracy: 0.9349\n",
      "Epoch 3/50\n",
      "244/244 [==============================] - 0s 816us/step - loss: 0.1734 - accuracy: 0.9419\n",
      "Epoch 4/50\n",
      "244/244 [==============================] - 0s 855us/step - loss: 0.1520 - accuracy: 0.9493\n",
      "Epoch 5/50\n",
      "244/244 [==============================] - 0s 846us/step - loss: 0.1369 - accuracy: 0.9530\n",
      "Epoch 6/50\n",
      "244/244 [==============================] - 0s 810us/step - loss: 0.1210 - accuracy: 0.9602\n",
      "Epoch 7/50\n",
      "244/244 [==============================] - 0s 840us/step - loss: 0.1244 - accuracy: 0.9589\n",
      "Epoch 8/50\n",
      "244/244 [==============================] - 0s 851us/step - loss: 0.1172 - accuracy: 0.9587\n",
      "Epoch 9/50\n",
      "244/244 [==============================] - 0s 823us/step - loss: 0.1074 - accuracy: 0.9665\n",
      "Epoch 10/50\n",
      "244/244 [==============================] - 0s 814us/step - loss: 0.0996 - accuracy: 0.9665\n",
      "Epoch 11/50\n",
      "244/244 [==============================] - 0s 899us/step - loss: 0.0908 - accuracy: 0.9719\n",
      "Epoch 12/50\n",
      "244/244 [==============================] - 0s 944us/step - loss: 0.0852 - accuracy: 0.9729\n",
      "Epoch 13/50\n",
      "244/244 [==============================] - 0s 836us/step - loss: 0.0844 - accuracy: 0.9743\n",
      "Epoch 14/50\n",
      "244/244 [==============================] - 0s 902us/step - loss: 0.0889 - accuracy: 0.9739\n",
      "Epoch 15/50\n",
      "244/244 [==============================] - 0s 903us/step - loss: 0.0888 - accuracy: 0.9737\n",
      "Epoch 16/50\n",
      "244/244 [==============================] - 0s 936us/step - loss: 0.0852 - accuracy: 0.9752\n",
      "Epoch 17/50\n",
      "244/244 [==============================] - 0s 838us/step - loss: 0.0777 - accuracy: 0.9780\n",
      "Epoch 18/50\n",
      "244/244 [==============================] - 0s 822us/step - loss: 0.0816 - accuracy: 0.9752\n",
      "Epoch 19/50\n",
      "244/244 [==============================] - 0s 822us/step - loss: 0.0699 - accuracy: 0.9793\n",
      "Epoch 20/50\n",
      "244/244 [==============================] - 0s 946us/step - loss: 0.0777 - accuracy: 0.9750\n",
      "Epoch 21/50\n",
      "244/244 [==============================] - 0s 805us/step - loss: 0.0789 - accuracy: 0.9780\n",
      "Epoch 22/50\n",
      "244/244 [==============================] - 0s 904us/step - loss: 0.0711 - accuracy: 0.9774\n",
      "Epoch 23/50\n",
      "244/244 [==============================] - 0s 921us/step - loss: 0.0745 - accuracy: 0.9776\n",
      "Epoch 24/50\n",
      "244/244 [==============================] - 0s 910us/step - loss: 0.0670 - accuracy: 0.9799\n",
      "Epoch 25/50\n",
      "244/244 [==============================] - 0s 866us/step - loss: 0.0722 - accuracy: 0.9780\n",
      "Epoch 26/50\n",
      "244/244 [==============================] - 0s 917us/step - loss: 0.0748 - accuracy: 0.9758\n",
      "Epoch 27/50\n",
      "244/244 [==============================] - 0s 828us/step - loss: 0.0659 - accuracy: 0.9803\n",
      "Epoch 28/50\n",
      "244/244 [==============================] - 0s 825us/step - loss: 0.0696 - accuracy: 0.9807\n",
      "Epoch 29/50\n",
      "244/244 [==============================] - 0s 809us/step - loss: 0.0688 - accuracy: 0.9780\n",
      "Epoch 30/50\n",
      "244/244 [==============================] - 0s 799us/step - loss: 0.0704 - accuracy: 0.9795\n",
      "Epoch 31/50\n",
      "244/244 [==============================] - 0s 851us/step - loss: 0.0634 - accuracy: 0.9809\n",
      "Epoch 32/50\n",
      "244/244 [==============================] - 0s 883us/step - loss: 0.0639 - accuracy: 0.9813\n",
      "Epoch 33/50\n",
      "244/244 [==============================] - 0s 924us/step - loss: 0.0663 - accuracy: 0.9805\n",
      "Epoch 34/50\n",
      "244/244 [==============================] - 0s 916us/step - loss: 0.0638 - accuracy: 0.9809\n",
      "Epoch 35/50\n",
      "244/244 [==============================] - 0s 903us/step - loss: 0.0609 - accuracy: 0.9826\n",
      "Epoch 36/50\n",
      "244/244 [==============================] - 0s 833us/step - loss: 0.0793 - accuracy: 0.9750\n",
      "Epoch 37/50\n",
      "244/244 [==============================] - 0s 794us/step - loss: 0.0674 - accuracy: 0.9799\n",
      "Epoch 38/50\n",
      "244/244 [==============================] - 0s 881us/step - loss: 0.0618 - accuracy: 0.9811\n",
      "Epoch 39/50\n",
      "244/244 [==============================] - 0s 884us/step - loss: 0.0597 - accuracy: 0.9828\n",
      "Epoch 40/50\n",
      "244/244 [==============================] - 0s 915us/step - loss: 0.0615 - accuracy: 0.9811\n",
      "Epoch 41/50\n",
      "244/244 [==============================] - 0s 964us/step - loss: 0.0639 - accuracy: 0.9801\n",
      "Epoch 42/50\n",
      "244/244 [==============================] - 0s 964us/step - loss: 0.0647 - accuracy: 0.9811\n",
      "Epoch 43/50\n",
      "244/244 [==============================] - 0s 935us/step - loss: 0.0630 - accuracy: 0.9787\n",
      "Epoch 44/50\n",
      "244/244 [==============================] - 0s 1ms/step - loss: 0.0653 - accuracy: 0.9787\n",
      "Epoch 45/50\n",
      "244/244 [==============================] - 0s 872us/step - loss: 0.0602 - accuracy: 0.9830\n",
      "Epoch 46/50\n",
      "244/244 [==============================] - 0s 946us/step - loss: 0.0631 - accuracy: 0.9815\n",
      "Epoch 47/50\n",
      "244/244 [==============================] - 0s 821us/step - loss: 0.0614 - accuracy: 0.9807\n",
      "Epoch 48/50\n",
      "244/244 [==============================] - 0s 850us/step - loss: 0.0545 - accuracy: 0.9838\n",
      "Epoch 49/50\n",
      "244/244 [==============================] - 0s 858us/step - loss: 0.0597 - accuracy: 0.9803\n",
      "Epoch 50/50\n",
      "244/244 [==============================] - 0s 863us/step - loss: 0.0631 - accuracy: 0.9821\n"
     ]
    },
    {
     "data": {
      "text/plain": [
       "<keras.callbacks.History at 0x270476a1a60>"
      ]
     },
     "execution_count": 44,
     "metadata": {},
     "output_type": "execute_result"
    }
   ],
   "source": [
    "model.fit(x_train.astype(float), y_train, epochs=50, batch_size=20)"
   ]
  },
  {
   "cell_type": "code",
   "execution_count": 45,
   "id": "b959b8b5",
   "metadata": {
    "collapsed": true
   },
   "outputs": [
    {
     "name": "stdout",
     "output_type": "stream",
     "text": [
      "51/51 [==============================] - 0s 698us/step - loss: 0.0595 - accuracy: 0.9822\n"
     ]
    },
    {
     "data": {
      "text/plain": [
       "[0.059461187571287155, 0.9821538329124451]"
      ]
     },
     "execution_count": 45,
     "metadata": {},
     "output_type": "execute_result"
    }
   ],
   "source": [
    "model.evaluate(x_test, y_test)"
   ]
  },
  {
   "cell_type": "code",
   "execution_count": null,
   "id": "1d114d33",
   "metadata": {},
   "outputs": [],
   "source": []
  },
  {
   "cell_type": "code",
   "execution_count": null,
   "id": "128ef595",
   "metadata": {},
   "outputs": [],
   "source": [
    "# multiclassification"
   ]
  },
  {
   "cell_type": "code",
   "execution_count": 76,
   "id": "d43c8edd",
   "metadata": {},
   "outputs": [],
   "source": [
    "x_train, x_test, y_train, y_test = train_test_split(x, y_oh)"
   ]
  },
  {
   "cell_type": "code",
   "execution_count": 77,
   "id": "7b405f02",
   "metadata": {},
   "outputs": [
    {
     "name": "stdout",
     "output_type": "stream",
     "text": [
      "Model: \"sequential_4\"\n",
      "_________________________________________________________________\n",
      " Layer (type)                Output Shape              Param #   \n",
      "=================================================================\n",
      " dense_16 (Dense)            (None, 36)                468       \n",
      "                                                                 \n",
      " dense_17 (Dense)            (None, 18)                666       \n",
      "                                                                 \n",
      " dense_18 (Dense)            (None, 9)                 171       \n",
      "                                                                 \n",
      " dense_19 (Dense)            (None, 2)                 20        \n",
      "                                                                 \n",
      "=================================================================\n",
      "Total params: 1,325\n",
      "Trainable params: 1,325\n",
      "Non-trainable params: 0\n",
      "_________________________________________________________________\n"
     ]
    }
   ],
   "source": [
    "model = Sequential()\n",
    "model.add(Dense(36, activation='relu', input_dim=12))\n",
    "model.add(Dense(18, activation='relu'))\n",
    "model.add(Dense(9, activation='relu'))\n",
    "model.add(Dense(2, activation='softmax'))\n",
    "model.summary()"
   ]
  },
  {
   "cell_type": "code",
   "execution_count": 78,
   "id": "71640536",
   "metadata": {},
   "outputs": [],
   "source": [
    "model.compile(loss='categorical_crossentropy', metrics=['accuracy'], optimizer='adam')"
   ]
  },
  {
   "cell_type": "code",
   "execution_count": 49,
   "id": "6504d6f9",
   "metadata": {
    "collapsed": true
   },
   "outputs": [
    {
     "name": "stdout",
     "output_type": "stream",
     "text": [
      "Epoch 1/50\n",
      "244/244 [==============================] - 0s 816us/step - loss: 0.4275 - accuracy: 0.8732\n",
      "Epoch 2/50\n",
      "244/244 [==============================] - 0s 788us/step - loss: 0.1786 - accuracy: 0.9394\n",
      "Epoch 3/50\n",
      "244/244 [==============================] - 0s 810us/step - loss: 0.1638 - accuracy: 0.9419\n",
      "Epoch 4/50\n",
      "244/244 [==============================] - 0s 810us/step - loss: 0.1497 - accuracy: 0.9458\n",
      "Epoch 5/50\n",
      "244/244 [==============================] - 0s 848us/step - loss: 0.1432 - accuracy: 0.9518\n",
      "Epoch 6/50\n",
      "244/244 [==============================] - 0s 821us/step - loss: 0.1295 - accuracy: 0.9559\n",
      "Epoch 7/50\n",
      "244/244 [==============================] - 0s 795us/step - loss: 0.1240 - accuracy: 0.9555\n",
      "Epoch 8/50\n",
      "244/244 [==============================] - 0s 777us/step - loss: 0.1210 - accuracy: 0.9585\n",
      "Epoch 9/50\n",
      "244/244 [==============================] - 0s 794us/step - loss: 0.1118 - accuracy: 0.9633\n",
      "Epoch 10/50\n",
      "244/244 [==============================] - 0s 782us/step - loss: 0.1036 - accuracy: 0.9661\n",
      "Epoch 11/50\n",
      "244/244 [==============================] - 0s 803us/step - loss: 0.1034 - accuracy: 0.9645\n",
      "Epoch 12/50\n",
      "244/244 [==============================] - 0s 779us/step - loss: 0.0966 - accuracy: 0.9698\n",
      "Epoch 13/50\n",
      "244/244 [==============================] - 0s 789us/step - loss: 0.0918 - accuracy: 0.9694\n",
      "Epoch 14/50\n",
      "244/244 [==============================] - 0s 780us/step - loss: 0.0862 - accuracy: 0.9727\n",
      "Epoch 15/50\n",
      "244/244 [==============================] - 0s 825us/step - loss: 0.0850 - accuracy: 0.9721\n",
      "Epoch 16/50\n",
      "244/244 [==============================] - 0s 788us/step - loss: 0.0805 - accuracy: 0.9752\n",
      "Epoch 17/50\n",
      "244/244 [==============================] - 0s 784us/step - loss: 0.0771 - accuracy: 0.9754\n",
      "Epoch 18/50\n",
      "244/244 [==============================] - 0s 767us/step - loss: 0.0814 - accuracy: 0.9752\n",
      "Epoch 19/50\n",
      "244/244 [==============================] - 0s 803us/step - loss: 0.0743 - accuracy: 0.9770\n",
      "Epoch 20/50\n",
      "244/244 [==============================] - 0s 1ms/step - loss: 0.0770 - accuracy: 0.9750\n",
      "Epoch 21/50\n",
      "244/244 [==============================] - 0s 790us/step - loss: 0.0724 - accuracy: 0.9780\n",
      "Epoch 22/50\n",
      "244/244 [==============================] - 0s 909us/step - loss: 0.0720 - accuracy: 0.9789\n",
      "Epoch 23/50\n",
      "244/244 [==============================] - 0s 883us/step - loss: 0.0672 - accuracy: 0.9799\n",
      "Epoch 24/50\n",
      "244/244 [==============================] - 0s 916us/step - loss: 0.0724 - accuracy: 0.9797\n",
      "Epoch 25/50\n",
      "244/244 [==============================] - 0s 904us/step - loss: 0.0684 - accuracy: 0.9803\n",
      "Epoch 26/50\n",
      "244/244 [==============================] - 0s 803us/step - loss: 0.0672 - accuracy: 0.9797\n",
      "Epoch 27/50\n",
      "244/244 [==============================] - 0s 855us/step - loss: 0.0755 - accuracy: 0.9758\n",
      "Epoch 28/50\n",
      "244/244 [==============================] - 0s 898us/step - loss: 0.0634 - accuracy: 0.9834\n",
      "Epoch 29/50\n",
      "244/244 [==============================] - 0s 888us/step - loss: 0.0724 - accuracy: 0.9760\n",
      "Epoch 30/50\n",
      "244/244 [==============================] - 0s 854us/step - loss: 0.0671 - accuracy: 0.9791\n",
      "Epoch 31/50\n",
      "244/244 [==============================] - 0s 861us/step - loss: 0.0620 - accuracy: 0.9821\n",
      "Epoch 32/50\n",
      "244/244 [==============================] - 0s 900us/step - loss: 0.0643 - accuracy: 0.9811\n",
      "Epoch 33/50\n",
      "244/244 [==============================] - 0s 810us/step - loss: 0.0655 - accuracy: 0.9801\n",
      "Epoch 34/50\n",
      "244/244 [==============================] - 0s 925us/step - loss: 0.0718 - accuracy: 0.9778\n",
      "Epoch 35/50\n",
      "244/244 [==============================] - 0s 851us/step - loss: 0.0660 - accuracy: 0.9797\n",
      "Epoch 36/50\n",
      "244/244 [==============================] - 0s 907us/step - loss: 0.0687 - accuracy: 0.9776\n",
      "Epoch 37/50\n",
      "244/244 [==============================] - 0s 891us/step - loss: 0.0653 - accuracy: 0.9809\n",
      "Epoch 38/50\n",
      "244/244 [==============================] - 0s 937us/step - loss: 0.0599 - accuracy: 0.9823\n",
      "Epoch 39/50\n",
      "244/244 [==============================] - 0s 888us/step - loss: 0.0613 - accuracy: 0.9803\n",
      "Epoch 40/50\n",
      "244/244 [==============================] - 0s 892us/step - loss: 0.0614 - accuracy: 0.9821\n",
      "Epoch 41/50\n",
      "244/244 [==============================] - 0s 812us/step - loss: 0.0623 - accuracy: 0.9817\n",
      "Epoch 42/50\n",
      "244/244 [==============================] - 0s 836us/step - loss: 0.0665 - accuracy: 0.9821\n",
      "Epoch 43/50\n",
      "244/244 [==============================] - 0s 806us/step - loss: 0.0773 - accuracy: 0.9750\n",
      "Epoch 44/50\n",
      "244/244 [==============================] - 0s 898us/step - loss: 0.0616 - accuracy: 0.9819\n",
      "Epoch 45/50\n",
      "244/244 [==============================] - 0s 768us/step - loss: 0.0596 - accuracy: 0.9834\n",
      "Epoch 46/50\n",
      "244/244 [==============================] - 0s 800us/step - loss: 0.0627 - accuracy: 0.9807\n",
      "Epoch 47/50\n",
      "244/244 [==============================] - 0s 768us/step - loss: 0.0586 - accuracy: 0.9832\n",
      "Epoch 48/50\n",
      "244/244 [==============================] - 0s 901us/step - loss: 0.0586 - accuracy: 0.9828\n",
      "Epoch 49/50\n",
      "244/244 [==============================] - 0s 885us/step - loss: 0.0597 - accuracy: 0.9813\n",
      "Epoch 50/50\n",
      "244/244 [==============================] - 0s 898us/step - loss: 0.0680 - accuracy: 0.9793\n"
     ]
    },
    {
     "data": {
      "text/plain": [
       "<keras.callbacks.History at 0x2703e85c040>"
      ]
     },
     "execution_count": 49,
     "metadata": {},
     "output_type": "execute_result"
    }
   ],
   "source": [
    "model.fit(x_train.astype(float), y_train, epochs=50, batch_size=20)"
   ]
  },
  {
   "cell_type": "code",
   "execution_count": 50,
   "id": "2d7abb22",
   "metadata": {},
   "outputs": [
    {
     "name": "stdout",
     "output_type": "stream",
     "text": [
      "51/51 [==============================] - 0s 715us/step - loss: 0.0678 - accuracy: 0.9791\n"
     ]
    },
    {
     "data": {
      "text/plain": [
       "[0.06779948621988297, 0.9790769219398499]"
      ]
     },
     "execution_count": 50,
     "metadata": {},
     "output_type": "execute_result"
    }
   ],
   "source": [
    "model.evaluate(x_test, y_test)"
   ]
  },
  {
   "cell_type": "code",
   "execution_count": 51,
   "id": "70d27b17",
   "metadata": {},
   "outputs": [],
   "source": [
    "model.save('./deep_model/wine_model.h5')"
   ]
  },
  {
   "cell_type": "code",
   "execution_count": null,
   "id": "1dd04ccc",
   "metadata": {},
   "outputs": [],
   "source": []
  },
  {
   "cell_type": "code",
   "execution_count": 52,
   "id": "6299d3b3",
   "metadata": {},
   "outputs": [],
   "source": [
    "# model checkpointer"
   ]
  },
  {
   "cell_type": "code",
   "execution_count": null,
   "id": "a0f617c3",
   "metadata": {},
   "outputs": [],
   "source": [
    "x_train, x_test, y_train, y_test = train_test_split(x, y_oh)\n",
    "model = Sequential()\n",
    "model.add(Dense(36, activation='relu', input_dim=12))\n",
    "model.add(Dense(18, activation='relu'))\n",
    "model.add(Dense(9, activation='relu'))\n",
    "model.add(Dense(2, activation='softmax'))\n",
    "# model.summary()\n",
    "model.compile(loss='categorical_crossentropy', metrics=['accuracy'], optimizer='adam')"
   ]
  },
  {
   "cell_type": "code",
   "execution_count": 53,
   "id": "251dff75",
   "metadata": {},
   "outputs": [],
   "source": [
    "import os"
   ]
  },
  {
   "cell_type": "code",
   "execution_count": 66,
   "id": "6a4ae78b",
   "metadata": {},
   "outputs": [],
   "source": [
    "model_dir = './deep_model/model_check'\n",
    "if not os.path.exists(model_dir):\n",
    "    os.mkdir(model_dir)"
   ]
  },
  {
   "cell_type": "code",
   "execution_count": 67,
   "id": "6fa0dbe2",
   "metadata": {},
   "outputs": [],
   "source": [
    "from tensorflow.keras.callbacks import ModelCheckpoint"
   ]
  },
  {
   "cell_type": "code",
   "execution_count": 68,
   "id": "62d48a3e",
   "metadata": {},
   "outputs": [],
   "source": [
    "modelpath = './deep_model/model_check/{epoch:02d}-{val_loss:4f}.hdf5'\n",
    "checkpointer = ModelCheckpoint(filepath = modelpath, monitor='val_loss', verbose=1, \\\n",
    "                               save_best_only=True)"
   ]
  },
  {
   "cell_type": "code",
   "execution_count": 69,
   "id": "2124e008",
   "metadata": {
    "collapsed": true
   },
   "outputs": [
    {
     "name": "stdout",
     "output_type": "stream",
     "text": [
      "Epoch 1/100\n",
      "62/78 [======================>.......] - ETA: 0s - loss: 0.5011 - accuracy: 0.8910 \n",
      "Epoch 1: val_loss improved from inf to 0.17658, saving model to ./deep_model/model_check\\01-0.176583.hdf5\n",
      "78/78 [==============================] - 0s 2ms/step - loss: 0.4396 - accuracy: 0.8986 - val_loss: 0.1766 - val_accuracy: 0.9282\n",
      "Epoch 2/100\n",
      "54/78 [===================>..........] - ETA: 0s - loss: 0.1710 - accuracy: 0.9400\n",
      "Epoch 2: val_loss improved from 0.17658 to 0.15571, saving model to ./deep_model/model_check\\02-0.155711.hdf5\n",
      "78/78 [==============================] - 0s 1ms/step - loss: 0.1727 - accuracy: 0.9379 - val_loss: 0.1557 - val_accuracy: 0.9426\n",
      "Epoch 3/100\n",
      "58/78 [=====================>........] - ETA: 0s - loss: 0.1514 - accuracy: 0.9466\n",
      "Epoch 3: val_loss improved from 0.15571 to 0.14532, saving model to ./deep_model/model_check\\03-0.145324.hdf5\n",
      "78/78 [==============================] - 0s 1ms/step - loss: 0.1593 - accuracy: 0.9418 - val_loss: 0.1453 - val_accuracy: 0.9467\n",
      "Epoch 4/100\n",
      "58/78 [=====================>........] - ETA: 0s - loss: 0.1472 - accuracy: 0.9462\n",
      "Epoch 4: val_loss did not improve from 0.14532\n",
      "78/78 [==============================] - 0s 1ms/step - loss: 0.1542 - accuracy: 0.9443 - val_loss: 0.1692 - val_accuracy: 0.9436\n",
      "Epoch 5/100\n",
      "60/78 [======================>.......] - ETA: 0s - loss: 0.1473 - accuracy: 0.9460\n",
      "Epoch 5: val_loss improved from 0.14532 to 0.13124, saving model to ./deep_model/model_check\\05-0.131243.hdf5\n",
      "78/78 [==============================] - 0s 2ms/step - loss: 0.1541 - accuracy: 0.9451 - val_loss: 0.1312 - val_accuracy: 0.9508\n",
      "Epoch 6/100\n",
      "41/78 [==============>...............] - ETA: 0s - loss: 0.1619 - accuracy: 0.9424\n",
      "Epoch 6: val_loss improved from 0.13124 to 0.12997, saving model to ./deep_model/model_check\\06-0.129966.hdf5\n",
      "78/78 [==============================] - 0s 2ms/step - loss: 0.1400 - accuracy: 0.9497 - val_loss: 0.1300 - val_accuracy: 0.9538\n",
      "Epoch 7/100\n",
      "62/78 [======================>.......] - ETA: 0s - loss: 0.1363 - accuracy: 0.9532\n",
      "Epoch 7: val_loss did not improve from 0.12997\n",
      "78/78 [==============================] - 0s 1ms/step - loss: 0.1350 - accuracy: 0.9536 - val_loss: 0.1476 - val_accuracy: 0.9538\n",
      "Epoch 8/100\n",
      "62/78 [======================>.......] - ETA: 0s - loss: 0.1507 - accuracy: 0.9477\n",
      "Epoch 8: val_loss improved from 0.12997 to 0.11567, saving model to ./deep_model/model_check\\08-0.115666.hdf5\n",
      "78/78 [==============================] - 0s 1ms/step - loss: 0.1405 - accuracy: 0.9507 - val_loss: 0.1157 - val_accuracy: 0.9590\n",
      "Epoch 9/100\n",
      "50/78 [==================>...........] - ETA: 0s - loss: 0.1331 - accuracy: 0.9568\n",
      "Epoch 9: val_loss did not improve from 0.11567\n",
      "78/78 [==============================] - 0s 1ms/step - loss: 0.1236 - accuracy: 0.9602 - val_loss: 0.1200 - val_accuracy: 0.9590\n",
      "Epoch 10/100\n",
      "63/78 [=======================>......] - ETA: 0s - loss: 0.1350 - accuracy: 0.9527\n",
      "Epoch 10: val_loss did not improve from 0.11567\n",
      "78/78 [==============================] - 0s 1ms/step - loss: 0.1336 - accuracy: 0.9543 - val_loss: 0.1160 - val_accuracy: 0.9579\n",
      "Epoch 11/100\n",
      "55/78 [====================>.........] - ETA: 0s - loss: 0.1076 - accuracy: 0.9611\n",
      "Epoch 11: val_loss improved from 0.11567 to 0.10335, saving model to ./deep_model/model_check\\11-0.103349.hdf5\n",
      "78/78 [==============================] - 0s 1ms/step - loss: 0.1118 - accuracy: 0.9607 - val_loss: 0.1033 - val_accuracy: 0.9672\n",
      "Epoch 12/100\n",
      "53/78 [===================>..........] - ETA: 0s - loss: 0.1066 - accuracy: 0.9596\n",
      "Epoch 12: val_loss improved from 0.10335 to 0.10039, saving model to ./deep_model/model_check\\12-0.100387.hdf5\n",
      "78/78 [==============================] - 0s 2ms/step - loss: 0.1123 - accuracy: 0.9613 - val_loss: 0.1004 - val_accuracy: 0.9672\n",
      "Epoch 13/100\n",
      "49/78 [=================>............] - ETA: 0s - loss: 0.1134 - accuracy: 0.9612\n",
      "Epoch 13: val_loss did not improve from 0.10039\n",
      "78/78 [==============================] - 0s 1ms/step - loss: 0.1082 - accuracy: 0.9618 - val_loss: 0.1079 - val_accuracy: 0.9733\n",
      "Epoch 14/100\n",
      "64/78 [=======================>......] - ETA: 0s - loss: 0.0995 - accuracy: 0.9669\n",
      "Epoch 14: val_loss did not improve from 0.10039\n",
      "78/78 [==============================] - 0s 1ms/step - loss: 0.1069 - accuracy: 0.9643 - val_loss: 0.1243 - val_accuracy: 0.9672\n",
      "Epoch 15/100\n",
      "50/78 [==================>...........] - ETA: 0s - loss: 0.1092 - accuracy: 0.9672\n",
      "Epoch 15: val_loss improved from 0.10039 to 0.09924, saving model to ./deep_model/model_check\\15-0.099242.hdf5\n",
      "78/78 [==============================] - 0s 1ms/step - loss: 0.1077 - accuracy: 0.9654 - val_loss: 0.0992 - val_accuracy: 0.9682\n",
      "Epoch 16/100\n",
      "59/78 [=====================>........] - ETA: 0s - loss: 0.1127 - accuracy: 0.9658\n",
      "Epoch 16: val_loss improved from 0.09924 to 0.09321, saving model to ./deep_model/model_check\\16-0.093205.hdf5\n",
      "78/78 [==============================] - 0s 1ms/step - loss: 0.1097 - accuracy: 0.9641 - val_loss: 0.0932 - val_accuracy: 0.9713\n",
      "Epoch 17/100\n",
      "53/78 [===================>..........] - ETA: 0s - loss: 0.1082 - accuracy: 0.9626\n",
      "Epoch 17: val_loss improved from 0.09321 to 0.09089, saving model to ./deep_model/model_check\\17-0.090895.hdf5\n",
      "78/78 [==============================] - 0s 2ms/step - loss: 0.1047 - accuracy: 0.9654 - val_loss: 0.0909 - val_accuracy: 0.9754\n",
      "Epoch 18/100\n",
      "53/78 [===================>..........] - ETA: 0s - loss: 0.0958 - accuracy: 0.9691\n",
      "Epoch 18: val_loss did not improve from 0.09089\n",
      "78/78 [==============================] - 0s 1ms/step - loss: 0.1071 - accuracy: 0.9661 - val_loss: 0.1070 - val_accuracy: 0.9703\n",
      "Epoch 19/100\n",
      "58/78 [=====================>........] - ETA: 0s - loss: 0.0931 - accuracy: 0.9690\n",
      "Epoch 19: val_loss improved from 0.09089 to 0.08767, saving model to ./deep_model/model_check\\19-0.087673.hdf5\n",
      "78/78 [==============================] - 0s 1ms/step - loss: 0.0970 - accuracy: 0.9672 - val_loss: 0.0877 - val_accuracy: 0.9774\n",
      "Epoch 20/100\n",
      "56/78 [====================>.........] - ETA: 0s - loss: 0.0873 - accuracy: 0.9707\n",
      "Epoch 20: val_loss did not improve from 0.08767\n",
      "78/78 [==============================] - 0s 1ms/step - loss: 0.1008 - accuracy: 0.9651 - val_loss: 0.1398 - val_accuracy: 0.9528\n",
      "Epoch 21/100\n",
      "61/78 [======================>.......] - ETA: 0s - loss: 0.0950 - accuracy: 0.9669\n",
      "Epoch 21: val_loss did not improve from 0.08767\n",
      "78/78 [==============================] - 0s 1ms/step - loss: 0.0991 - accuracy: 0.9677 - val_loss: 0.0913 - val_accuracy: 0.9713\n",
      "Epoch 22/100\n",
      "57/78 [====================>.........] - ETA: 0s - loss: 0.0965 - accuracy: 0.9674\n",
      "Epoch 22: val_loss improved from 0.08767 to 0.08557, saving model to ./deep_model/model_check\\22-0.085572.hdf5\n",
      "78/78 [==============================] - 0s 1ms/step - loss: 0.0894 - accuracy: 0.9697 - val_loss: 0.0856 - val_accuracy: 0.9764\n",
      "Epoch 23/100\n",
      "59/78 [=====================>........] - ETA: 0s - loss: 0.0975 - accuracy: 0.9681\n",
      "Epoch 23: val_loss improved from 0.08557 to 0.07769, saving model to ./deep_model/model_check\\23-0.077694.hdf5\n",
      "78/78 [==============================] - 0s 1ms/step - loss: 0.0940 - accuracy: 0.9697 - val_loss: 0.0777 - val_accuracy: 0.9795\n",
      "Epoch 24/100\n",
      "53/78 [===================>..........] - ETA: 0s - loss: 0.0947 - accuracy: 0.9679\n",
      "Epoch 24: val_loss did not improve from 0.07769\n",
      "78/78 [==============================] - 0s 1ms/step - loss: 0.0912 - accuracy: 0.9697 - val_loss: 0.0780 - val_accuracy: 0.9815\n",
      "Epoch 25/100\n",
      "64/78 [=======================>......] - ETA: 0s - loss: 0.0876 - accuracy: 0.9728\n",
      "Epoch 25: val_loss did not improve from 0.07769\n",
      "78/78 [==============================] - 0s 1ms/step - loss: 0.0856 - accuracy: 0.9728 - val_loss: 0.0928 - val_accuracy: 0.9703\n",
      "Epoch 26/100\n",
      "61/78 [======================>.......] - ETA: 0s - loss: 0.0859 - accuracy: 0.9718\n",
      "Epoch 26: val_loss improved from 0.07769 to 0.07244, saving model to ./deep_model/model_check\\26-0.072439.hdf5\n",
      "78/78 [==============================] - 0s 1ms/step - loss: 0.0819 - accuracy: 0.9718 - val_loss: 0.0724 - val_accuracy: 0.9774\n",
      "Epoch 27/100\n",
      "59/78 [=====================>........] - ETA: 0s - loss: 0.0888 - accuracy: 0.9729\n",
      "Epoch 27: val_loss did not improve from 0.07244\n",
      "78/78 [==============================] - 0s 1ms/step - loss: 0.0861 - accuracy: 0.9736 - val_loss: 0.0738 - val_accuracy: 0.9826\n"
     ]
    },
    {
     "name": "stdout",
     "output_type": "stream",
     "text": [
      "Epoch 28/100\n",
      "61/78 [======================>.......] - ETA: 0s - loss: 0.0828 - accuracy: 0.9715\n",
      "Epoch 28: val_loss improved from 0.07244 to 0.06903, saving model to ./deep_model/model_check\\28-0.069027.hdf5\n",
      "78/78 [==============================] - 0s 1ms/step - loss: 0.0816 - accuracy: 0.9715 - val_loss: 0.0690 - val_accuracy: 0.9856\n",
      "Epoch 29/100\n",
      "61/78 [======================>.......] - ETA: 0s - loss: 0.0859 - accuracy: 0.9682\n",
      "Epoch 29: val_loss did not improve from 0.06903\n",
      "78/78 [==============================] - 0s 1ms/step - loss: 0.0836 - accuracy: 0.9705 - val_loss: 0.0703 - val_accuracy: 0.9826\n",
      "Epoch 30/100\n",
      "59/78 [=====================>........] - ETA: 0s - loss: 0.0825 - accuracy: 0.9756\n",
      "Epoch 30: val_loss did not improve from 0.06903\n",
      "78/78 [==============================] - 0s 1ms/step - loss: 0.0840 - accuracy: 0.9728 - val_loss: 0.0734 - val_accuracy: 0.9795\n",
      "Epoch 31/100\n",
      "63/78 [=======================>......] - ETA: 0s - loss: 0.1003 - accuracy: 0.9683\n",
      "Epoch 31: val_loss did not improve from 0.06903\n",
      "78/78 [==============================] - 0s 1ms/step - loss: 0.0934 - accuracy: 0.9697 - val_loss: 0.0738 - val_accuracy: 0.9785\n",
      "Epoch 32/100\n",
      "37/78 [=============>................] - ETA: 0s - loss: 0.0871 - accuracy: 0.9714\n",
      "Epoch 32: val_loss did not improve from 0.06903\n",
      "78/78 [==============================] - 0s 1ms/step - loss: 0.1019 - accuracy: 0.9677 - val_loss: 0.0705 - val_accuracy: 0.9785\n",
      "Epoch 33/100\n",
      "68/78 [=========================>....] - ETA: 0s - loss: 0.0874 - accuracy: 0.9747\n",
      "Epoch 33: val_loss did not improve from 0.06903\n",
      "78/78 [==============================] - 0s 1ms/step - loss: 0.0896 - accuracy: 0.9736 - val_loss: 0.0807 - val_accuracy: 0.9754\n",
      "Epoch 34/100\n",
      "59/78 [=====================>........] - ETA: 0s - loss: 0.0786 - accuracy: 0.9753\n",
      "Epoch 34: val_loss improved from 0.06903 to 0.06359, saving model to ./deep_model/model_check\\34-0.063590.hdf5\n",
      "78/78 [==============================] - 0s 1ms/step - loss: 0.0774 - accuracy: 0.9749 - val_loss: 0.0636 - val_accuracy: 0.9856\n",
      "Epoch 35/100\n",
      "63/78 [=======================>......] - ETA: 0s - loss: 0.0675 - accuracy: 0.9787\n",
      "Epoch 35: val_loss improved from 0.06359 to 0.06336, saving model to ./deep_model/model_check\\35-0.063359.hdf5\n",
      "78/78 [==============================] - 0s 1ms/step - loss: 0.0747 - accuracy: 0.9782 - val_loss: 0.0634 - val_accuracy: 0.9867\n",
      "Epoch 36/100\n",
      "56/78 [====================>.........] - ETA: 0s - loss: 0.0839 - accuracy: 0.9725\n",
      "Epoch 36: val_loss did not improve from 0.06336\n",
      "78/78 [==============================] - 0s 1ms/step - loss: 0.0880 - accuracy: 0.9741 - val_loss: 0.0647 - val_accuracy: 0.9836\n",
      "Epoch 37/100\n",
      "63/78 [=======================>......] - ETA: 0s - loss: 0.0759 - accuracy: 0.9737\n",
      "Epoch 37: val_loss did not improve from 0.06336\n",
      "78/78 [==============================] - 0s 1ms/step - loss: 0.0774 - accuracy: 0.9746 - val_loss: 0.1381 - val_accuracy: 0.9508\n",
      "Epoch 38/100\n",
      "62/78 [======================>.......] - ETA: 0s - loss: 0.0838 - accuracy: 0.9748\n",
      "Epoch 38: val_loss did not improve from 0.06336\n",
      "78/78 [==============================] - 0s 1ms/step - loss: 0.0802 - accuracy: 0.9759 - val_loss: 0.0765 - val_accuracy: 0.9754\n",
      "Epoch 39/100\n",
      "64/78 [=======================>......] - ETA: 0s - loss: 0.1031 - accuracy: 0.9694\n",
      "Epoch 39: val_loss improved from 0.06336 to 0.06290, saving model to ./deep_model/model_check\\39-0.062898.hdf5\n",
      "78/78 [==============================] - 0s 1ms/step - loss: 0.0949 - accuracy: 0.9718 - val_loss: 0.0629 - val_accuracy: 0.9856\n",
      "Epoch 40/100\n",
      "58/78 [=====================>........] - ETA: 0s - loss: 0.0682 - accuracy: 0.9800\n",
      "Epoch 40: val_loss improved from 0.06290 to 0.06097, saving model to ./deep_model/model_check\\40-0.060968.hdf5\n",
      "78/78 [==============================] - 0s 1ms/step - loss: 0.0747 - accuracy: 0.9790 - val_loss: 0.0610 - val_accuracy: 0.9846\n",
      "Epoch 41/100\n",
      "61/78 [======================>.......] - ETA: 0s - loss: 0.0980 - accuracy: 0.9692\n",
      "Epoch 41: val_loss did not improve from 0.06097\n",
      "78/78 [==============================] - 0s 1ms/step - loss: 0.0890 - accuracy: 0.9707 - val_loss: 0.0664 - val_accuracy: 0.9856\n",
      "Epoch 42/100\n",
      "58/78 [=====================>........] - ETA: 0s - loss: 0.0661 - accuracy: 0.9783\n",
      "Epoch 42: val_loss improved from 0.06097 to 0.06089, saving model to ./deep_model/model_check\\42-0.060890.hdf5\n",
      "78/78 [==============================] - 0s 1ms/step - loss: 0.0746 - accuracy: 0.9754 - val_loss: 0.0609 - val_accuracy: 0.9867\n",
      "Epoch 43/100\n",
      "62/78 [======================>.......] - ETA: 0s - loss: 0.0684 - accuracy: 0.9784\n",
      "Epoch 43: val_loss improved from 0.06089 to 0.06030, saving model to ./deep_model/model_check\\43-0.060296.hdf5\n",
      "78/78 [==============================] - 0s 1ms/step - loss: 0.0683 - accuracy: 0.9797 - val_loss: 0.0603 - val_accuracy: 0.9846\n",
      "Epoch 44/100\n",
      "58/78 [=====================>........] - ETA: 0s - loss: 0.0835 - accuracy: 0.9734\n",
      "Epoch 44: val_loss did not improve from 0.06030\n",
      "78/78 [==============================] - 0s 1ms/step - loss: 0.0902 - accuracy: 0.9725 - val_loss: 0.1239 - val_accuracy: 0.9600\n",
      "Epoch 45/100\n",
      "60/78 [======================>.......] - ETA: 0s - loss: 0.0763 - accuracy: 0.9743\n",
      "Epoch 45: val_loss did not improve from 0.06030\n",
      "78/78 [==============================] - 0s 1ms/step - loss: 0.0743 - accuracy: 0.9769 - val_loss: 0.0621 - val_accuracy: 0.9836\n",
      "Epoch 46/100\n",
      "60/78 [======================>.......] - ETA: 0s - loss: 0.0703 - accuracy: 0.9773\n",
      "Epoch 46: val_loss improved from 0.06030 to 0.05881, saving model to ./deep_model/model_check\\46-0.058815.hdf5\n",
      "78/78 [==============================] - 0s 1ms/step - loss: 0.0707 - accuracy: 0.9779 - val_loss: 0.0588 - val_accuracy: 0.9856\n",
      "Epoch 47/100\n",
      "58/78 [=====================>........] - ETA: 0s - loss: 0.0710 - accuracy: 0.9755\n",
      "Epoch 47: val_loss did not improve from 0.05881\n",
      "78/78 [==============================] - 0s 1ms/step - loss: 0.0679 - accuracy: 0.9787 - val_loss: 0.0732 - val_accuracy: 0.9774\n",
      "Epoch 48/100\n",
      "57/78 [====================>.........] - ETA: 0s - loss: 0.0690 - accuracy: 0.9775\n",
      "Epoch 48: val_loss did not improve from 0.05881\n",
      "78/78 [==============================] - 0s 1ms/step - loss: 0.0758 - accuracy: 0.9777 - val_loss: 0.0753 - val_accuracy: 0.9764\n",
      "Epoch 49/100\n",
      "60/78 [======================>.......] - ETA: 0s - loss: 0.0700 - accuracy: 0.9780\n",
      "Epoch 49: val_loss improved from 0.05881 to 0.05721, saving model to ./deep_model/model_check\\49-0.057212.hdf5\n",
      "78/78 [==============================] - 0s 1ms/step - loss: 0.0706 - accuracy: 0.9782 - val_loss: 0.0572 - val_accuracy: 0.9856\n",
      "Epoch 50/100\n",
      "60/78 [======================>.......] - ETA: 0s - loss: 0.0668 - accuracy: 0.9820\n",
      "Epoch 50: val_loss improved from 0.05721 to 0.05711, saving model to ./deep_model/model_check\\50-0.057107.hdf5\n",
      "78/78 [==============================] - 0s 1ms/step - loss: 0.0652 - accuracy: 0.9813 - val_loss: 0.0571 - val_accuracy: 0.9877\n",
      "Epoch 51/100\n",
      "63/78 [=======================>......] - ETA: 0s - loss: 0.0714 - accuracy: 0.9787\n",
      "Epoch 51: val_loss did not improve from 0.05711\n",
      "78/78 [==============================] - 0s 1ms/step - loss: 0.0730 - accuracy: 0.9782 - val_loss: 0.0594 - val_accuracy: 0.9867\n",
      "Epoch 52/100\n",
      "65/78 [========================>.....] - ETA: 0s - loss: 0.0599 - accuracy: 0.9822\n",
      "Epoch 52: val_loss improved from 0.05711 to 0.05687, saving model to ./deep_model/model_check\\52-0.056872.hdf5\n",
      "78/78 [==============================] - 0s 1ms/step - loss: 0.0686 - accuracy: 0.9792 - val_loss: 0.0569 - val_accuracy: 0.9867\n",
      "Epoch 53/100\n",
      "61/78 [======================>.......] - ETA: 0s - loss: 0.0773 - accuracy: 0.9754\n",
      "Epoch 53: val_loss did not improve from 0.05687\n",
      "78/78 [==============================] - 0s 1ms/step - loss: 0.0759 - accuracy: 0.9756 - val_loss: 0.0666 - val_accuracy: 0.9815\n",
      "Epoch 54/100\n",
      "63/78 [=======================>......] - ETA: 0s - loss: 0.0533 - accuracy: 0.9790\n",
      "Epoch 54: val_loss did not improve from 0.05687\n",
      "78/78 [==============================] - 0s 1ms/step - loss: 0.0642 - accuracy: 0.9782 - val_loss: 0.0866 - val_accuracy: 0.9764\n",
      "Epoch 55/100\n",
      "63/78 [=======================>......] - ETA: 0s - loss: 0.0764 - accuracy: 0.9768\n",
      "Epoch 55: val_loss did not improve from 0.05687\n"
     ]
    },
    {
     "name": "stdout",
     "output_type": "stream",
     "text": [
      "78/78 [==============================] - 0s 1ms/step - loss: 0.0766 - accuracy: 0.9774 - val_loss: 0.0718 - val_accuracy: 0.9815\n",
      "Epoch 56/100\n",
      "52/78 [===================>..........] - ETA: 0s - loss: 0.0605 - accuracy: 0.9819\n",
      "Epoch 56: val_loss did not improve from 0.05687\n",
      "78/78 [==============================] - 0s 1ms/step - loss: 0.0640 - accuracy: 0.9815 - val_loss: 0.0645 - val_accuracy: 0.9846\n",
      "Epoch 57/100\n",
      "71/78 [==========================>...] - ETA: 0s - loss: 0.0601 - accuracy: 0.9817\n",
      "Epoch 57: val_loss did not improve from 0.05687\n",
      "78/78 [==============================] - 0s 1ms/step - loss: 0.0628 - accuracy: 0.9820 - val_loss: 0.0813 - val_accuracy: 0.9826\n",
      "Epoch 58/100\n",
      "50/78 [==================>...........] - ETA: 0s - loss: 0.0744 - accuracy: 0.9796\n",
      "Epoch 58: val_loss did not improve from 0.05687\n",
      "78/78 [==============================] - 0s 1ms/step - loss: 0.0705 - accuracy: 0.9805 - val_loss: 0.0642 - val_accuracy: 0.9877\n",
      "Epoch 59/100\n",
      "60/78 [======================>.......] - ETA: 0s - loss: 0.0619 - accuracy: 0.9823\n",
      "Epoch 59: val_loss improved from 0.05687 to 0.05449, saving model to ./deep_model/model_check\\59-0.054487.hdf5\n",
      "78/78 [==============================] - 0s 1ms/step - loss: 0.0667 - accuracy: 0.9805 - val_loss: 0.0545 - val_accuracy: 0.9867\n",
      "Epoch 60/100\n",
      "58/78 [=====================>........] - ETA: 0s - loss: 0.0600 - accuracy: 0.9814\n",
      "Epoch 60: val_loss improved from 0.05449 to 0.05269, saving model to ./deep_model/model_check\\60-0.052685.hdf5\n",
      "78/78 [==============================] - 0s 1ms/step - loss: 0.0640 - accuracy: 0.9818 - val_loss: 0.0527 - val_accuracy: 0.9877\n",
      "Epoch 61/100\n",
      "59/78 [=====================>........] - ETA: 0s - loss: 0.0568 - accuracy: 0.9793\n",
      "Epoch 61: val_loss did not improve from 0.05269\n",
      "78/78 [==============================] - 0s 1ms/step - loss: 0.0683 - accuracy: 0.9792 - val_loss: 0.0534 - val_accuracy: 0.9846\n",
      "Epoch 62/100\n",
      "63/78 [=======================>......] - ETA: 0s - loss: 0.0683 - accuracy: 0.9803\n",
      "Epoch 62: val_loss did not improve from 0.05269\n",
      "78/78 [==============================] - 0s 1ms/step - loss: 0.0645 - accuracy: 0.9802 - val_loss: 0.0531 - val_accuracy: 0.9856\n",
      "Epoch 63/100\n",
      "60/78 [======================>.......] - ETA: 0s - loss: 0.0794 - accuracy: 0.9750\n",
      "Epoch 63: val_loss did not improve from 0.05269\n",
      "78/78 [==============================] - 0s 1ms/step - loss: 0.0757 - accuracy: 0.9766 - val_loss: 0.0561 - val_accuracy: 0.9846\n",
      "Epoch 64/100\n",
      "58/78 [=====================>........] - ETA: 0s - loss: 0.0762 - accuracy: 0.9769\n",
      "Epoch 64: val_loss did not improve from 0.05269\n",
      "78/78 [==============================] - 0s 1ms/step - loss: 0.0729 - accuracy: 0.9790 - val_loss: 0.0628 - val_accuracy: 0.9867\n",
      "Epoch 65/100\n",
      "55/78 [====================>.........] - ETA: 0s - loss: 0.0772 - accuracy: 0.9785\n",
      "Epoch 65: val_loss did not improve from 0.05269\n",
      "78/78 [==============================] - 0s 1ms/step - loss: 0.0725 - accuracy: 0.9784 - val_loss: 0.0595 - val_accuracy: 0.9826\n",
      "Epoch 66/100\n",
      "67/78 [========================>.....] - ETA: 0s - loss: 0.0626 - accuracy: 0.9827\n",
      "Epoch 66: val_loss did not improve from 0.05269\n",
      "78/78 [==============================] - 0s 1ms/step - loss: 0.0626 - accuracy: 0.9820 - val_loss: 0.0669 - val_accuracy: 0.9815\n",
      "Epoch 67/100\n",
      "59/78 [=====================>........] - ETA: 0s - loss: 0.0719 - accuracy: 0.9803\n",
      "Epoch 67: val_loss did not improve from 0.05269\n",
      "78/78 [==============================] - 0s 1ms/step - loss: 0.0645 - accuracy: 0.9815 - val_loss: 0.0554 - val_accuracy: 0.9826\n",
      "Epoch 68/100\n",
      "58/78 [=====================>........] - ETA: 0s - loss: 0.0585 - accuracy: 0.9821\n",
      "Epoch 68: val_loss did not improve from 0.05269\n",
      "78/78 [==============================] - 0s 1ms/step - loss: 0.0621 - accuracy: 0.9823 - val_loss: 0.0599 - val_accuracy: 0.9836\n",
      "Epoch 69/100\n",
      "59/78 [=====================>........] - ETA: 0s - loss: 0.0732 - accuracy: 0.9790\n",
      "Epoch 69: val_loss did not improve from 0.05269\n",
      "78/78 [==============================] - 0s 1ms/step - loss: 0.0733 - accuracy: 0.9802 - val_loss: 0.0570 - val_accuracy: 0.9887\n",
      "Epoch 70/100\n",
      "62/78 [======================>.......] - ETA: 0s - loss: 0.0604 - accuracy: 0.9794\n",
      "Epoch 70: val_loss did not improve from 0.05269\n",
      "78/78 [==============================] - 0s 1ms/step - loss: 0.0645 - accuracy: 0.9800 - val_loss: 0.1119 - val_accuracy: 0.9631\n",
      "Epoch 71/100\n",
      "58/78 [=====================>........] - ETA: 0s - loss: 0.0559 - accuracy: 0.9814\n",
      "Epoch 71: val_loss did not improve from 0.05269\n",
      "78/78 [==============================] - 0s 1ms/step - loss: 0.0601 - accuracy: 0.9810 - val_loss: 0.0583 - val_accuracy: 0.9877\n",
      "Epoch 72/100\n",
      "65/78 [========================>.....] - ETA: 0s - loss: 0.0624 - accuracy: 0.9840\n",
      "Epoch 72: val_loss did not improve from 0.05269\n",
      "78/78 [==============================] - 0s 1ms/step - loss: 0.0586 - accuracy: 0.9849 - val_loss: 0.0542 - val_accuracy: 0.9887\n",
      "Epoch 73/100\n",
      "61/78 [======================>.......] - ETA: 0s - loss: 0.0634 - accuracy: 0.9830\n",
      "Epoch 73: val_loss did not improve from 0.05269\n",
      "78/78 [==============================] - 0s 1ms/step - loss: 0.0592 - accuracy: 0.9831 - val_loss: 0.0763 - val_accuracy: 0.9826\n",
      "Epoch 74/100\n",
      "64/78 [=======================>......] - ETA: 0s - loss: 0.0570 - accuracy: 0.9853\n",
      "Epoch 74: val_loss did not improve from 0.05269\n",
      "78/78 [==============================] - 0s 1ms/step - loss: 0.0599 - accuracy: 0.9833 - val_loss: 0.0576 - val_accuracy: 0.9867\n",
      "Epoch 75/100\n",
      "61/78 [======================>.......] - ETA: 0s - loss: 0.0488 - accuracy: 0.9852\n",
      "Epoch 75: val_loss did not improve from 0.05269\n",
      "78/78 [==============================] - 0s 1ms/step - loss: 0.0579 - accuracy: 0.9851 - val_loss: 0.0614 - val_accuracy: 0.9867\n",
      "Epoch 76/100\n",
      "63/78 [=======================>......] - ETA: 0s - loss: 0.0571 - accuracy: 0.9832\n",
      "Epoch 76: val_loss did not improve from 0.05269\n",
      "78/78 [==============================] - 0s 1ms/step - loss: 0.0603 - accuracy: 0.9818 - val_loss: 0.0575 - val_accuracy: 0.9867\n",
      "Epoch 77/100\n",
      "65/78 [========================>.....] - ETA: 0s - loss: 0.0655 - accuracy: 0.9797\n",
      "Epoch 77: val_loss did not improve from 0.05269\n",
      "78/78 [==============================] - 0s 1ms/step - loss: 0.0628 - accuracy: 0.9800 - val_loss: 0.0598 - val_accuracy: 0.9836\n",
      "Epoch 78/100\n",
      "53/78 [===================>..........] - ETA: 0s - loss: 0.0571 - accuracy: 0.9819\n",
      "Epoch 78: val_loss improved from 0.05269 to 0.05136, saving model to ./deep_model/model_check\\78-0.051360.hdf5\n",
      "78/78 [==============================] - 0s 1ms/step - loss: 0.0589 - accuracy: 0.9826 - val_loss: 0.0514 - val_accuracy: 0.9897\n",
      "Epoch 79/100\n",
      "57/78 [====================>.........] - ETA: 0s - loss: 0.0562 - accuracy: 0.9828\n",
      "Epoch 79: val_loss did not improve from 0.05136\n",
      "78/78 [==============================] - 0s 1ms/step - loss: 0.0753 - accuracy: 0.9792 - val_loss: 0.0734 - val_accuracy: 0.9846\n",
      "Epoch 80/100\n",
      "51/78 [==================>...........] - ETA: 0s - loss: 0.0582 - accuracy: 0.9835\n",
      "Epoch 80: val_loss did not improve from 0.05136\n",
      "78/78 [==============================] - 0s 1ms/step - loss: 0.0611 - accuracy: 0.9820 - val_loss: 0.0536 - val_accuracy: 0.9867\n",
      "Epoch 81/100\n",
      "56/78 [====================>.........] - ETA: 0s - loss: 0.0655 - accuracy: 0.9832\n",
      "Epoch 81: val_loss did not improve from 0.05136\n",
      "78/78 [==============================] - 0s 1ms/step - loss: 0.0612 - accuracy: 0.9841 - val_loss: 0.0685 - val_accuracy: 0.9815\n",
      "Epoch 82/100\n",
      "60/78 [======================>.......] - ETA: 0s - loss: 0.0576 - accuracy: 0.9817\n",
      "Epoch 82: val_loss did not improve from 0.05136\n",
      "78/78 [==============================] - 0s 1ms/step - loss: 0.0628 - accuracy: 0.9787 - val_loss: 0.0566 - val_accuracy: 0.9856\n",
      "Epoch 83/100\n",
      "53/78 [===================>..........] - ETA: 0s - loss: 0.0638 - accuracy: 0.9804\n",
      "Epoch 83: val_loss did not improve from 0.05136\n",
      "78/78 [==============================] - 0s 1ms/step - loss: 0.0619 - accuracy: 0.9818 - val_loss: 0.0785 - val_accuracy: 0.9795\n",
      "Epoch 84/100\n",
      "62/78 [======================>.......] - ETA: 0s - loss: 0.0707 - accuracy: 0.9765\n",
      "Epoch 84: val_loss did not improve from 0.05136\n",
      "78/78 [==============================] - 0s 1ms/step - loss: 0.0680 - accuracy: 0.9779 - val_loss: 0.0610 - val_accuracy: 0.9856\n"
     ]
    },
    {
     "name": "stdout",
     "output_type": "stream",
     "text": [
      "Epoch 85/100\n",
      "63/78 [=======================>......] - ETA: 0s - loss: 0.0579 - accuracy: 0.9832\n",
      "Epoch 85: val_loss did not improve from 0.05136\n",
      "78/78 [==============================] - 0s 1ms/step - loss: 0.0561 - accuracy: 0.9831 - val_loss: 0.0586 - val_accuracy: 0.9877\n",
      "Epoch 86/100\n",
      "59/78 [=====================>........] - ETA: 0s - loss: 0.0529 - accuracy: 0.9847\n",
      "Epoch 86: val_loss did not improve from 0.05136\n",
      "78/78 [==============================] - 0s 1ms/step - loss: 0.0513 - accuracy: 0.9854 - val_loss: 0.0540 - val_accuracy: 0.9867\n",
      "Epoch 87/100\n",
      "66/78 [========================>.....] - ETA: 0s - loss: 0.0600 - accuracy: 0.9836\n",
      "Epoch 87: val_loss improved from 0.05136 to 0.05134, saving model to ./deep_model/model_check\\87-0.051344.hdf5\n",
      "78/78 [==============================] - 0s 1ms/step - loss: 0.0641 - accuracy: 0.9818 - val_loss: 0.0513 - val_accuracy: 0.9867\n",
      "Epoch 88/100\n",
      "60/78 [======================>.......] - ETA: 0s - loss: 0.0588 - accuracy: 0.9833\n",
      "Epoch 88: val_loss did not improve from 0.05134\n",
      "78/78 [==============================] - 0s 1ms/step - loss: 0.0548 - accuracy: 0.9843 - val_loss: 0.0573 - val_accuracy: 0.9846\n",
      "Epoch 89/100\n",
      "62/78 [======================>.......] - ETA: 0s - loss: 0.0556 - accuracy: 0.9826\n",
      "Epoch 89: val_loss improved from 0.05134 to 0.04991, saving model to ./deep_model/model_check\\89-0.049907.hdf5\n",
      "78/78 [==============================] - 0s 1ms/step - loss: 0.0574 - accuracy: 0.9828 - val_loss: 0.0499 - val_accuracy: 0.9877\n",
      "Epoch 90/100\n",
      "61/78 [======================>.......] - ETA: 0s - loss: 0.0722 - accuracy: 0.9780\n",
      "Epoch 90: val_loss did not improve from 0.04991\n",
      "78/78 [==============================] - 0s 1ms/step - loss: 0.0654 - accuracy: 0.9792 - val_loss: 0.0562 - val_accuracy: 0.9856\n",
      "Epoch 91/100\n",
      "60/78 [======================>.......] - ETA: 0s - loss: 0.0625 - accuracy: 0.9840\n",
      "Epoch 91: val_loss did not improve from 0.04991\n",
      "78/78 [==============================] - 0s 1ms/step - loss: 0.0556 - accuracy: 0.9846 - val_loss: 0.0544 - val_accuracy: 0.9836\n",
      "Epoch 92/100\n",
      "61/78 [======================>.......] - ETA: 0s - loss: 0.0619 - accuracy: 0.9777\n",
      "Epoch 92: val_loss did not improve from 0.04991\n",
      "78/78 [==============================] - 0s 1ms/step - loss: 0.0634 - accuracy: 0.9787 - val_loss: 0.0562 - val_accuracy: 0.9836\n",
      "Epoch 93/100\n",
      "63/78 [=======================>......] - ETA: 0s - loss: 0.0586 - accuracy: 0.9825\n",
      "Epoch 93: val_loss did not improve from 0.04991\n",
      "78/78 [==============================] - 0s 1ms/step - loss: 0.0541 - accuracy: 0.9841 - val_loss: 0.0511 - val_accuracy: 0.9877\n",
      "Epoch 94/100\n",
      "59/78 [=====================>........] - ETA: 0s - loss: 0.0528 - accuracy: 0.9851\n",
      "Epoch 94: val_loss did not improve from 0.04991\n",
      "78/78 [==============================] - 0s 1ms/step - loss: 0.0525 - accuracy: 0.9846 - val_loss: 0.0535 - val_accuracy: 0.9887\n",
      "Epoch 95/100\n",
      "59/78 [=====================>........] - ETA: 0s - loss: 0.0526 - accuracy: 0.9851\n",
      "Epoch 95: val_loss did not improve from 0.04991\n",
      "78/78 [==============================] - 0s 1ms/step - loss: 0.0518 - accuracy: 0.9856 - val_loss: 0.0767 - val_accuracy: 0.9785\n",
      "Epoch 96/100\n",
      "59/78 [=====================>........] - ETA: 0s - loss: 0.0781 - accuracy: 0.9776\n",
      "Epoch 96: val_loss did not improve from 0.04991\n",
      "78/78 [==============================] - 0s 1ms/step - loss: 0.0785 - accuracy: 0.9764 - val_loss: 0.0841 - val_accuracy: 0.9754\n",
      "Epoch 97/100\n",
      "60/78 [======================>.......] - ETA: 0s - loss: 0.0559 - accuracy: 0.9863\n",
      "Epoch 97: val_loss did not improve from 0.04991\n",
      "78/78 [==============================] - 0s 1ms/step - loss: 0.0559 - accuracy: 0.9861 - val_loss: 0.0508 - val_accuracy: 0.9887\n",
      "Epoch 98/100\n",
      "67/78 [========================>.....] - ETA: 0s - loss: 0.0484 - accuracy: 0.9869\n",
      "Epoch 98: val_loss did not improve from 0.04991\n",
      "78/78 [==============================] - 0s 1ms/step - loss: 0.0523 - accuracy: 0.9846 - val_loss: 0.0558 - val_accuracy: 0.9856\n",
      "Epoch 99/100\n",
      "49/78 [=================>............] - ETA: 0s - loss: 0.1084 - accuracy: 0.9727\n",
      "Epoch 99: val_loss did not improve from 0.04991\n",
      "78/78 [==============================] - 0s 1ms/step - loss: 0.0903 - accuracy: 0.9754 - val_loss: 0.0795 - val_accuracy: 0.9795\n",
      "Epoch 100/100\n",
      "61/78 [======================>.......] - ETA: 0s - loss: 0.0625 - accuracy: 0.9797\n",
      "Epoch 100: val_loss did not improve from 0.04991\n",
      "78/78 [==============================] - 0s 1ms/step - loss: 0.0596 - accuracy: 0.9820 - val_loss: 0.0549 - val_accuracy: 0.9877\n"
     ]
    }
   ],
   "source": [
    "history = model.fit(x_train, y_train, validation_split=0.2, batch_size=50, epochs=100, \\\n",
    "                    callbacks=[checkpointer])"
   ]
  },
  {
   "cell_type": "code",
   "execution_count": 70,
   "id": "faedf089",
   "metadata": {
    "collapsed": true
   },
   "outputs": [
    {
     "data": {
      "text/plain": [
       "{'loss': [0.43962135910987854,\n",
       "  0.17267467081546783,\n",
       "  0.15928713977336884,\n",
       "  0.1541624814271927,\n",
       "  0.15409806370735168,\n",
       "  0.14002801477909088,\n",
       "  0.13504403829574585,\n",
       "  0.14051738381385803,\n",
       "  0.12356843054294586,\n",
       "  0.1335633546113968,\n",
       "  0.11183632910251617,\n",
       "  0.11231020092964172,\n",
       "  0.10824954509735107,\n",
       "  0.1069321557879448,\n",
       "  0.10768893361091614,\n",
       "  0.1096954271197319,\n",
       "  0.10468923300504684,\n",
       "  0.10712063312530518,\n",
       "  0.09695981442928314,\n",
       "  0.10078559815883636,\n",
       "  0.09910901635885239,\n",
       "  0.08939852565526962,\n",
       "  0.09398728609085083,\n",
       "  0.09117446839809418,\n",
       "  0.08560246229171753,\n",
       "  0.08191113919019699,\n",
       "  0.08609729260206223,\n",
       "  0.08163776993751526,\n",
       "  0.08355391025543213,\n",
       "  0.08398566395044327,\n",
       "  0.0934053286910057,\n",
       "  0.10188176482915878,\n",
       "  0.08963371068239212,\n",
       "  0.07743464410305023,\n",
       "  0.0746544897556305,\n",
       "  0.08799638599157333,\n",
       "  0.07735837250947952,\n",
       "  0.08020967990159988,\n",
       "  0.09486135095357895,\n",
       "  0.07471245527267456,\n",
       "  0.08902835845947266,\n",
       "  0.07461269199848175,\n",
       "  0.06827972829341888,\n",
       "  0.09016391634941101,\n",
       "  0.0743258073925972,\n",
       "  0.07066946476697922,\n",
       "  0.06787871569395065,\n",
       "  0.07579751312732697,\n",
       "  0.07059939205646515,\n",
       "  0.06518961489200592,\n",
       "  0.0729585736989975,\n",
       "  0.06856764107942581,\n",
       "  0.07588690519332886,\n",
       "  0.0641811266541481,\n",
       "  0.07655750215053558,\n",
       "  0.06400147825479507,\n",
       "  0.06278456747531891,\n",
       "  0.07046835124492645,\n",
       "  0.06665197014808655,\n",
       "  0.06402816623449326,\n",
       "  0.0682690292596817,\n",
       "  0.06454288214445114,\n",
       "  0.07572738826274872,\n",
       "  0.0728691890835762,\n",
       "  0.07248042523860931,\n",
       "  0.06255653500556946,\n",
       "  0.06453339010477066,\n",
       "  0.06210564449429512,\n",
       "  0.07326935231685638,\n",
       "  0.06452418118715286,\n",
       "  0.0600862018764019,\n",
       "  0.058590006083250046,\n",
       "  0.05915769934654236,\n",
       "  0.05989346280694008,\n",
       "  0.05793263763189316,\n",
       "  0.06033768132328987,\n",
       "  0.0628213882446289,\n",
       "  0.05892482399940491,\n",
       "  0.07527576386928558,\n",
       "  0.06108669191598892,\n",
       "  0.061233457177877426,\n",
       "  0.06281089037656784,\n",
       "  0.06189088895916939,\n",
       "  0.06795096397399902,\n",
       "  0.05607094615697861,\n",
       "  0.05128028616309166,\n",
       "  0.0641493946313858,\n",
       "  0.05479288846254349,\n",
       "  0.057367682456970215,\n",
       "  0.06535187363624573,\n",
       "  0.0556156262755394,\n",
       "  0.06340038031339645,\n",
       "  0.05406444892287254,\n",
       "  0.05246200039982796,\n",
       "  0.05182861164212227,\n",
       "  0.07847986370325089,\n",
       "  0.05594535544514656,\n",
       "  0.052254658192396164,\n",
       "  0.09025062620639801,\n",
       "  0.0596458800137043],\n",
       " 'accuracy': [0.898639976978302,\n",
       "  0.937900960445404,\n",
       "  0.9417500495910645,\n",
       "  0.9443161487579346,\n",
       "  0.9450859427452087,\n",
       "  0.9497048854827881,\n",
       "  0.9535540342330933,\n",
       "  0.9507313370704651,\n",
       "  0.9602258205413818,\n",
       "  0.9543238282203674,\n",
       "  0.960739016532898,\n",
       "  0.9612522721290588,\n",
       "  0.961765468120575,\n",
       "  0.9643315076828003,\n",
       "  0.9653579592704773,\n",
       "  0.9640749096870422,\n",
       "  0.9653579592704773,\n",
       "  0.9661278128623962,\n",
       "  0.9671542048454285,\n",
       "  0.9651013612747192,\n",
       "  0.9676674604415894,\n",
       "  0.9697203040122986,\n",
       "  0.9697203040122986,\n",
       "  0.9697203040122986,\n",
       "  0.9727995991706848,\n",
       "  0.9717731475830078,\n",
       "  0.973569393157959,\n",
       "  0.9715165495872498,\n",
       "  0.9704900979995728,\n",
       "  0.9727995991706848,\n",
       "  0.9697203040122986,\n",
       "  0.9676674604415894,\n",
       "  0.973569393157959,\n",
       "  0.974852442741394,\n",
       "  0.9781883358955383,\n",
       "  0.9740826487541199,\n",
       "  0.974595844745636,\n",
       "  0.975878894329071,\n",
       "  0.9717731475830078,\n",
       "  0.9789581894874573,\n",
       "  0.9707467555999756,\n",
       "  0.9753656387329102,\n",
       "  0.9797279834747314,\n",
       "  0.9725430011749268,\n",
       "  0.9769052863121033,\n",
       "  0.9779317378997803,\n",
       "  0.9787015914916992,\n",
       "  0.9776751399040222,\n",
       "  0.9781883358955383,\n",
       "  0.9812676310539246,\n",
       "  0.9781883358955383,\n",
       "  0.9792147874832153,\n",
       "  0.975622296333313,\n",
       "  0.9781883358955383,\n",
       "  0.9774185419082642,\n",
       "  0.9815242290496826,\n",
       "  0.9820374846458435,\n",
       "  0.9804978370666504,\n",
       "  0.9804978370666504,\n",
       "  0.9817808866500854,\n",
       "  0.9792147874832153,\n",
       "  0.9802412390708923,\n",
       "  0.9766486883163452,\n",
       "  0.9789581894874573,\n",
       "  0.9784449338912964,\n",
       "  0.9820374846458435,\n",
       "  0.9815242290496826,\n",
       "  0.9822940826416016,\n",
       "  0.9802412390708923,\n",
       "  0.9799845814704895,\n",
       "  0.9810110330581665,\n",
       "  0.9848601222038269,\n",
       "  0.9830638766288757,\n",
       "  0.9833204746246338,\n",
       "  0.9851167798042297,\n",
       "  0.9817808866500854,\n",
       "  0.9799845814704895,\n",
       "  0.9825506806373596,\n",
       "  0.9792147874832153,\n",
       "  0.9820374846458435,\n",
       "  0.9840903282165527,\n",
       "  0.9787015914916992,\n",
       "  0.9817808866500854,\n",
       "  0.9779317378997803,\n",
       "  0.9830638766288757,\n",
       "  0.9853733777999878,\n",
       "  0.9817808866500854,\n",
       "  0.9843469262123108,\n",
       "  0.9828072786331177,\n",
       "  0.9792147874832153,\n",
       "  0.9846035242080688,\n",
       "  0.9787015914916992,\n",
       "  0.9840903282165527,\n",
       "  0.9846035242080688,\n",
       "  0.9856299757957458,\n",
       "  0.9763920903205872,\n",
       "  0.986143171787262,\n",
       "  0.9846035242080688,\n",
       "  0.9753656387329102,\n",
       "  0.9820374846458435],\n",
       " 'val_loss': [0.17658337950706482,\n",
       "  0.15571054816246033,\n",
       "  0.14532382786273956,\n",
       "  0.16921955347061157,\n",
       "  0.13124316930770874,\n",
       "  0.12996584177017212,\n",
       "  0.14761707186698914,\n",
       "  0.11566603183746338,\n",
       "  0.11998418718576431,\n",
       "  0.11599747091531754,\n",
       "  0.1033494845032692,\n",
       "  0.10038740932941437,\n",
       "  0.10794910043478012,\n",
       "  0.1242736428976059,\n",
       "  0.09924222528934479,\n",
       "  0.09320539981126785,\n",
       "  0.09089471399784088,\n",
       "  0.1069812923669815,\n",
       "  0.08767253905534744,\n",
       "  0.1398380845785141,\n",
       "  0.09128756076097488,\n",
       "  0.08557193726301193,\n",
       "  0.07769401371479034,\n",
       "  0.07799983769655228,\n",
       "  0.09279559552669525,\n",
       "  0.07243936508893967,\n",
       "  0.07378682494163513,\n",
       "  0.06902742385864258,\n",
       "  0.07025018334388733,\n",
       "  0.073411725461483,\n",
       "  0.07380717992782593,\n",
       "  0.0705471783876419,\n",
       "  0.08071296662092209,\n",
       "  0.06358980387449265,\n",
       "  0.06335874646902084,\n",
       "  0.06469333916902542,\n",
       "  0.13810472190380096,\n",
       "  0.07648462057113647,\n",
       "  0.06289834529161453,\n",
       "  0.0609678253531456,\n",
       "  0.06641794741153717,\n",
       "  0.06089017540216446,\n",
       "  0.06029566004872322,\n",
       "  0.12386198341846466,\n",
       "  0.0620548315346241,\n",
       "  0.058814771473407745,\n",
       "  0.07318355143070221,\n",
       "  0.0753076821565628,\n",
       "  0.0572117455303669,\n",
       "  0.05710681527853012,\n",
       "  0.05939424782991409,\n",
       "  0.05687206983566284,\n",
       "  0.06662867963314056,\n",
       "  0.08662571758031845,\n",
       "  0.07175495475530624,\n",
       "  0.06447404623031616,\n",
       "  0.08133410662412643,\n",
       "  0.06417170912027359,\n",
       "  0.054486967623233795,\n",
       "  0.052685271948575974,\n",
       "  0.05337890610098839,\n",
       "  0.05307559669017792,\n",
       "  0.056123651564121246,\n",
       "  0.06282531470060349,\n",
       "  0.0595313124358654,\n",
       "  0.06687791645526886,\n",
       "  0.05536464974284172,\n",
       "  0.05987495556473732,\n",
       "  0.05696551501750946,\n",
       "  0.1118563786149025,\n",
       "  0.05828840285539627,\n",
       "  0.054235417395830154,\n",
       "  0.07628975808620453,\n",
       "  0.05760956555604935,\n",
       "  0.061383478343486786,\n",
       "  0.05748417228460312,\n",
       "  0.059803713113069534,\n",
       "  0.05136023461818695,\n",
       "  0.07343354821205139,\n",
       "  0.05357737839221954,\n",
       "  0.06854261457920074,\n",
       "  0.05659579485654831,\n",
       "  0.07845534384250641,\n",
       "  0.061019204556941986,\n",
       "  0.05861890688538551,\n",
       "  0.05401146039366722,\n",
       "  0.05134357511997223,\n",
       "  0.05734419822692871,\n",
       "  0.049907151609659195,\n",
       "  0.056212104856967926,\n",
       "  0.05441833660006523,\n",
       "  0.056186072528362274,\n",
       "  0.05106476694345474,\n",
       "  0.05354606732726097,\n",
       "  0.07668227702379227,\n",
       "  0.08407559990882874,\n",
       "  0.05081677436828613,\n",
       "  0.05576625466346741,\n",
       "  0.0795450359582901,\n",
       "  0.054900530725717545],\n",
       " 'val_accuracy': [0.928205132484436,\n",
       "  0.9425641298294067,\n",
       "  0.9466666579246521,\n",
       "  0.9435897469520569,\n",
       "  0.9507692456245422,\n",
       "  0.9538461565971375,\n",
       "  0.9538461565971375,\n",
       "  0.9589743614196777,\n",
       "  0.9589743614196777,\n",
       "  0.9579487442970276,\n",
       "  0.9671794772148132,\n",
       "  0.9671794772148132,\n",
       "  0.9733333587646484,\n",
       "  0.9671794772148132,\n",
       "  0.9682051539421082,\n",
       "  0.9712820649147034,\n",
       "  0.9753845930099487,\n",
       "  0.9702563881874084,\n",
       "  0.9774358868598938,\n",
       "  0.9528205394744873,\n",
       "  0.9712820649147034,\n",
       "  0.9764102697372437,\n",
       "  0.9794871807098389,\n",
       "  0.9815384745597839,\n",
       "  0.9702563881874084,\n",
       "  0.9774358868598938,\n",
       "  0.9825640916824341,\n",
       "  0.9856410026550293,\n",
       "  0.9825640916824341,\n",
       "  0.9794871807098389,\n",
       "  0.9784615635871887,\n",
       "  0.9784615635871887,\n",
       "  0.9753845930099487,\n",
       "  0.9856410026550293,\n",
       "  0.9866666793823242,\n",
       "  0.983589768409729,\n",
       "  0.9507692456245422,\n",
       "  0.9753845930099487,\n",
       "  0.9856410026550293,\n",
       "  0.9846153855323792,\n",
       "  0.9856410026550293,\n",
       "  0.9866666793823242,\n",
       "  0.9846153855323792,\n",
       "  0.9599999785423279,\n",
       "  0.983589768409729,\n",
       "  0.9856410026550293,\n",
       "  0.9774358868598938,\n",
       "  0.9764102697372437,\n",
       "  0.9856410026550293,\n",
       "  0.9876922965049744,\n",
       "  0.9866666793823242,\n",
       "  0.9866666793823242,\n",
       "  0.9815384745597839,\n",
       "  0.9764102697372437,\n",
       "  0.9815384745597839,\n",
       "  0.9846153855323792,\n",
       "  0.9825640916824341,\n",
       "  0.9876922965049744,\n",
       "  0.9866666793823242,\n",
       "  0.9876922965049744,\n",
       "  0.9846153855323792,\n",
       "  0.9856410026550293,\n",
       "  0.9846153855323792,\n",
       "  0.9866666793823242,\n",
       "  0.9825640916824341,\n",
       "  0.9815384745597839,\n",
       "  0.9825640916824341,\n",
       "  0.983589768409729,\n",
       "  0.9887179732322693,\n",
       "  0.9630769491195679,\n",
       "  0.9876922965049744,\n",
       "  0.9887179732322693,\n",
       "  0.9825640916824341,\n",
       "  0.9866666793823242,\n",
       "  0.9866666793823242,\n",
       "  0.9866666793823242,\n",
       "  0.983589768409729,\n",
       "  0.9897435903549194,\n",
       "  0.9846153855323792,\n",
       "  0.9866666793823242,\n",
       "  0.9815384745597839,\n",
       "  0.9856410026550293,\n",
       "  0.9794871807098389,\n",
       "  0.9856410026550293,\n",
       "  0.9876922965049744,\n",
       "  0.9866666793823242,\n",
       "  0.9866666793823242,\n",
       "  0.9846153855323792,\n",
       "  0.9876922965049744,\n",
       "  0.9856410026550293,\n",
       "  0.983589768409729,\n",
       "  0.983589768409729,\n",
       "  0.9876922965049744,\n",
       "  0.9887179732322693,\n",
       "  0.9784615635871887,\n",
       "  0.9753845930099487,\n",
       "  0.9887179732322693,\n",
       "  0.9856410026550293,\n",
       "  0.9794871807098389,\n",
       "  0.9876922965049744]}"
      ]
     },
     "execution_count": 70,
     "metadata": {},
     "output_type": "execute_result"
    }
   ],
   "source": [
    "history.history"
   ]
  },
  {
   "cell_type": "code",
   "execution_count": 71,
   "id": "7095ead5",
   "metadata": {
    "collapsed": true
   },
   "outputs": [
    {
     "data": {
      "text/plain": [
       "[<matplotlib.lines.Line2D at 0x2704c3f0370>]"
      ]
     },
     "execution_count": 71,
     "metadata": {},
     "output_type": "execute_result"
    },
    {
     "data": {
      "image/png": "[encoded data removed]",
      "text/plain": [
       "<Figure size 432x288 with 1 Axes>"
      ]
     },
     "metadata": {
      "needs_background": "light"
     },
     "output_type": "display_data"
    }
   ],
   "source": [
    "plt.plot(history.history['loss'])\n",
    "plt.plot(history.history['val_loss'])"
   ]
  },
  {
   "cell_type": "code",
   "execution_count": 72,
   "id": "94070359",
   "metadata": {
    "collapsed": true
   },
   "outputs": [
    {
     "data": {
      "text/plain": [
       "[<matplotlib.lines.Line2D at 0x2704c442370>]"
      ]
     },
     "execution_count": 72,
     "metadata": {},
     "output_type": "execute_result"
    },
    {
     "data": {
      "image/png": "[encoded data removed]",
      "text/plain": [
       "<Figure size 432x288 with 1 Axes>"
      ]
     },
     "metadata": {
      "needs_background": "light"
     },
     "output_type": "display_data"
    }
   ],
   "source": [
    "plt.plot(history.history['accuracy'])\n",
    "plt.plot(history.history['val_accuracy'])"
   ]
  },
  {
   "cell_type": "code",
   "execution_count": null,
   "id": "f72c4b23",
   "metadata": {},
   "outputs": [],
   "source": []
  },
  {
   "cell_type": "code",
   "execution_count": 73,
   "id": "5207311d",
   "metadata": {},
   "outputs": [],
   "source": [
    "# early stopping"
   ]
  },
  {
   "cell_type": "code",
   "execution_count": 90,
   "id": "39a421fa",
   "metadata": {},
   "outputs": [],
   "source": [
    "x_train, x_test, y_train, y_test = train_test_split(x, y_oh)\n",
    "model = Sequential()\n",
    "model.add(Dense(36, activation='relu', input_dim=12))\n",
    "model.add(Dense(18, activation='relu'))\n",
    "model.add(Dense(9, activation='relu'))\n",
    "model.add(Dense(2, activation='softmax'))\n",
    "# model.summary()\n",
    "model.compile(loss='categorical_crossentropy', metrics=['accuracy'], optimizer='adam')"
   ]
  },
  {
   "cell_type": "code",
   "execution_count": 91,
   "id": "ea998c94",
   "metadata": {},
   "outputs": [],
   "source": [
    "from tensorflow.keras.callbacks import EarlyStopping"
   ]
  },
  {
   "cell_type": "code",
   "execution_count": 92,
   "id": "430af56d",
   "metadata": {},
   "outputs": [],
   "source": [
    "early_stopping_callback = EarlyStopping(monitor='val_loss', patience=7)"
   ]
  },
  {
   "cell_type": "code",
   "execution_count": 93,
   "id": "2a6d91bc",
   "metadata": {},
   "outputs": [],
   "source": [
    "modelpath = './deep_model/model_check/{epoch:02d}-{val_loss:4f}.hdf5'\n",
    "checkpointer = ModelCheckpoint(filepath = modelpath, monitor='val_loss', verbose=1, \\\n",
    "                               save_best_only=True)"
   ]
  },
  {
   "cell_type": "code",
   "execution_count": 94,
   "id": "573443c0",
   "metadata": {
    "collapsed": true
   },
   "outputs": [
    {
     "name": "stdout",
     "output_type": "stream",
     "text": [
      "Epoch 1/200\n",
      "54/78 [===================>..........] - ETA: 0s - loss: 0.3932 - accuracy: 0.8130 \n",
      "Epoch 1: val_loss improved from inf to 0.21702, saving model to ./deep_model/model_check\\01-0.217017.hdf5\n",
      "78/78 [==============================] - 0s 3ms/step - loss: 0.3512 - accuracy: 0.8440 - val_loss: 0.2170 - val_accuracy: 0.9262\n",
      "Epoch 2/200\n",
      "50/78 [==================>...........] - ETA: 0s - loss: 0.1969 - accuracy: 0.9368\n",
      "Epoch 2: val_loss improved from 0.21702 to 0.15990, saving model to ./deep_model/model_check\\02-0.159904.hdf5\n",
      "78/78 [==============================] - 0s 1ms/step - loss: 0.1893 - accuracy: 0.9405 - val_loss: 0.1599 - val_accuracy: 0.9446\n",
      "Epoch 3/200\n",
      "54/78 [===================>..........] - ETA: 0s - loss: 0.1668 - accuracy: 0.9452\n",
      "Epoch 3: val_loss did not improve from 0.15990\n",
      "78/78 [==============================] - 0s 1ms/step - loss: 0.1658 - accuracy: 0.9456 - val_loss: 0.2300 - val_accuracy: 0.9159\n",
      "Epoch 4/200\n",
      "55/78 [====================>.........] - ETA: 0s - loss: 0.1760 - accuracy: 0.9404\n",
      "Epoch 4: val_loss improved from 0.15990 to 0.15052, saving model to ./deep_model/model_check\\04-0.150515.hdf5\n",
      "78/78 [==============================] - 0s 1ms/step - loss: 0.1689 - accuracy: 0.9425 - val_loss: 0.1505 - val_accuracy: 0.9477\n",
      "Epoch 5/200\n",
      "59/78 [=====================>........] - ETA: 0s - loss: 0.1602 - accuracy: 0.9434\n",
      "Epoch 5: val_loss improved from 0.15052 to 0.14495, saving model to ./deep_model/model_check\\05-0.144946.hdf5\n",
      "78/78 [==============================] - 0s 1ms/step - loss: 0.1506 - accuracy: 0.9489 - val_loss: 0.1449 - val_accuracy: 0.9446\n",
      "Epoch 6/200\n",
      "56/78 [====================>.........] - ETA: 0s - loss: 0.1399 - accuracy: 0.9518\n",
      "Epoch 6: val_loss improved from 0.14495 to 0.12806, saving model to ./deep_model/model_check\\06-0.128065.hdf5\n",
      "78/78 [==============================] - 0s 1ms/step - loss: 0.1359 - accuracy: 0.9518 - val_loss: 0.1281 - val_accuracy: 0.9579\n",
      "Epoch 7/200\n",
      "53/78 [===================>..........] - ETA: 0s - loss: 0.1297 - accuracy: 0.9532\n",
      "Epoch 7: val_loss did not improve from 0.12806\n",
      "78/78 [==============================] - 0s 1ms/step - loss: 0.1283 - accuracy: 0.9536 - val_loss: 0.1589 - val_accuracy: 0.9405\n",
      "Epoch 8/200\n",
      "61/78 [======================>.......] - ETA: 0s - loss: 0.1259 - accuracy: 0.9544\n",
      "Epoch 8: val_loss improved from 0.12806 to 0.11356, saving model to ./deep_model/model_check\\08-0.113557.hdf5\n",
      "78/78 [==============================] - 0s 1ms/step - loss: 0.1220 - accuracy: 0.9556 - val_loss: 0.1136 - val_accuracy: 0.9631\n",
      "Epoch 9/200\n",
      "59/78 [=====================>........] - ETA: 0s - loss: 0.1074 - accuracy: 0.9614\n",
      "Epoch 9: val_loss improved from 0.11356 to 0.10780, saving model to ./deep_model/model_check\\09-0.107798.hdf5\n",
      "78/78 [==============================] - 0s 1ms/step - loss: 0.1084 - accuracy: 0.9620 - val_loss: 0.1078 - val_accuracy: 0.9631\n",
      "Epoch 10/200\n",
      "58/78 [=====================>........] - ETA: 0s - loss: 0.1068 - accuracy: 0.9638\n",
      "Epoch 10: val_loss did not improve from 0.10780\n",
      "78/78 [==============================] - 0s 1ms/step - loss: 0.1060 - accuracy: 0.9643 - val_loss: 0.1100 - val_accuracy: 0.9621\n",
      "Epoch 11/200\n",
      "59/78 [=====================>........] - ETA: 0s - loss: 0.1103 - accuracy: 0.9624\n",
      "Epoch 11: val_loss improved from 0.10780 to 0.10146, saving model to ./deep_model/model_check\\11-0.101462.hdf5\n",
      "78/78 [==============================] - 0s 2ms/step - loss: 0.1114 - accuracy: 0.9602 - val_loss: 0.1015 - val_accuracy: 0.9682\n",
      "Epoch 12/200\n",
      "57/78 [====================>.........] - ETA: 0s - loss: 0.0952 - accuracy: 0.9709\n",
      "Epoch 12: val_loss improved from 0.10146 to 0.10016, saving model to ./deep_model/model_check\\12-0.100156.hdf5\n",
      "78/78 [==============================] - 0s 1ms/step - loss: 0.0913 - accuracy: 0.9700 - val_loss: 0.1002 - val_accuracy: 0.9682\n",
      "Epoch 13/200\n",
      "55/78 [====================>.........] - ETA: 0s - loss: 0.0919 - accuracy: 0.9691\n",
      "Epoch 13: val_loss improved from 0.10016 to 0.09498, saving model to ./deep_model/model_check\\13-0.094983.hdf5\n",
      "78/78 [==============================] - 0s 1ms/step - loss: 0.0906 - accuracy: 0.9702 - val_loss: 0.0950 - val_accuracy: 0.9733\n",
      "Epoch 14/200\n",
      "57/78 [====================>.........] - ETA: 0s - loss: 0.0982 - accuracy: 0.9667\n",
      "Epoch 14: val_loss improved from 0.09498 to 0.09332, saving model to ./deep_model/model_check\\14-0.093324.hdf5\n",
      "78/78 [==============================] - 0s 1ms/step - loss: 0.0917 - accuracy: 0.9692 - val_loss: 0.0933 - val_accuracy: 0.9662\n",
      "Epoch 15/200\n",
      "55/78 [====================>.........] - ETA: 0s - loss: 0.0763 - accuracy: 0.9738\n",
      "Epoch 15: val_loss improved from 0.09332 to 0.08679, saving model to ./deep_model/model_check\\15-0.086788.hdf5\n",
      "78/78 [==============================] - 0s 1ms/step - loss: 0.0785 - accuracy: 0.9741 - val_loss: 0.0868 - val_accuracy: 0.9703\n",
      "Epoch 16/200\n",
      "53/78 [===================>..........] - ETA: 0s - loss: 0.0838 - accuracy: 0.9725\n",
      "Epoch 16: val_loss did not improve from 0.08679\n",
      "78/78 [==============================] - 0s 1ms/step - loss: 0.0837 - accuracy: 0.9738 - val_loss: 0.0925 - val_accuracy: 0.9682\n",
      "Epoch 17/200\n",
      "52/78 [===================>..........] - ETA: 0s - loss: 0.0885 - accuracy: 0.9738\n",
      "Epoch 17: val_loss did not improve from 0.08679\n",
      "78/78 [==============================] - 0s 1ms/step - loss: 0.0884 - accuracy: 0.9715 - val_loss: 0.1237 - val_accuracy: 0.9579\n",
      "Epoch 18/200\n",
      "60/78 [======================>.......] - ETA: 0s - loss: 0.0792 - accuracy: 0.9763\n",
      "Epoch 18: val_loss improved from 0.08679 to 0.08163, saving model to ./deep_model/model_check\\18-0.081632.hdf5\n",
      "78/78 [==============================] - 0s 1ms/step - loss: 0.0744 - accuracy: 0.9769 - val_loss: 0.0816 - val_accuracy: 0.9713\n",
      "Epoch 19/200\n",
      "51/78 [==================>...........] - ETA: 0s - loss: 0.0734 - accuracy: 0.9769\n",
      "Epoch 19: val_loss did not improve from 0.08163\n",
      "78/78 [==============================] - 0s 1ms/step - loss: 0.0731 - accuracy: 0.9764 - val_loss: 0.0863 - val_accuracy: 0.9723\n",
      "Epoch 20/200\n",
      "62/78 [======================>.......] - ETA: 0s - loss: 0.0746 - accuracy: 0.9745\n",
      "Epoch 20: val_loss improved from 0.08163 to 0.07725, saving model to ./deep_model/model_check\\20-0.077251.hdf5\n",
      "78/78 [==============================] - 0s 1ms/step - loss: 0.0731 - accuracy: 0.9741 - val_loss: 0.0773 - val_accuracy: 0.9733\n",
      "Epoch 21/200\n",
      "55/78 [====================>.........] - ETA: 0s - loss: 0.0709 - accuracy: 0.9749\n",
      "Epoch 21: val_loss did not improve from 0.07725\n",
      "78/78 [==============================] - 0s 1ms/step - loss: 0.0710 - accuracy: 0.9751 - val_loss: 0.1088 - val_accuracy: 0.9631\n",
      "Epoch 22/200\n",
      "61/78 [======================>.......] - ETA: 0s - loss: 0.0657 - accuracy: 0.9764\n",
      "Epoch 22: val_loss did not improve from 0.07725\n",
      "78/78 [==============================] - 0s 1ms/step - loss: 0.0678 - accuracy: 0.9756 - val_loss: 0.0808 - val_accuracy: 0.9733\n",
      "Epoch 23/200\n",
      "62/78 [======================>.......] - ETA: 0s - loss: 0.0671 - accuracy: 0.9771\n",
      "Epoch 23: val_loss did not improve from 0.07725\n",
      "78/78 [==============================] - 0s 1ms/step - loss: 0.0660 - accuracy: 0.9774 - val_loss: 0.0962 - val_accuracy: 0.9651\n",
      "Epoch 24/200\n",
      "60/78 [======================>.......] - ETA: 0s - loss: 0.0744 - accuracy: 0.9750\n",
      "Epoch 24: val_loss improved from 0.07725 to 0.07441, saving model to ./deep_model/model_check\\24-0.074406.hdf5\n",
      "78/78 [==============================] - 0s 1ms/step - loss: 0.0709 - accuracy: 0.9772 - val_loss: 0.0744 - val_accuracy: 0.9774\n",
      "Epoch 25/200\n",
      "55/78 [====================>.........] - ETA: 0s - loss: 0.0645 - accuracy: 0.9785\n",
      "Epoch 25: val_loss did not improve from 0.07441\n",
      "78/78 [==============================] - 0s 1ms/step - loss: 0.0651 - accuracy: 0.9790 - val_loss: 0.0755 - val_accuracy: 0.9733\n",
      "Epoch 26/200\n",
      "64/78 [=======================>......] - ETA: 0s - loss: 0.0701 - accuracy: 0.9756\n",
      "Epoch 26: val_loss improved from 0.07441 to 0.07073, saving model to ./deep_model/model_check\\26-0.070726.hdf5\n",
      "78/78 [==============================] - 0s 1ms/step - loss: 0.0696 - accuracy: 0.9761 - val_loss: 0.0707 - val_accuracy: 0.9785\n",
      "Epoch 27/200\n",
      "59/78 [=====================>........] - ETA: 0s - loss: 0.0554 - accuracy: 0.9810\n",
      "Epoch 27: val_loss did not improve from 0.07073\n"
     ]
    },
    {
     "name": "stdout",
     "output_type": "stream",
     "text": [
      "78/78 [==============================] - 0s 1ms/step - loss: 0.0614 - accuracy: 0.9800 - val_loss: 0.0988 - val_accuracy: 0.9672\n",
      "Epoch 28/200\n",
      "58/78 [=====================>........] - ETA: 0s - loss: 0.0646 - accuracy: 0.9797\n",
      "Epoch 28: val_loss did not improve from 0.07073\n",
      "78/78 [==============================] - 0s 1ms/step - loss: 0.0609 - accuracy: 0.9795 - val_loss: 0.1082 - val_accuracy: 0.9651\n",
      "Epoch 29/200\n",
      "49/78 [=================>............] - ETA: 0s - loss: 0.0693 - accuracy: 0.9780\n",
      "Epoch 29: val_loss did not improve from 0.07073\n",
      "78/78 [==============================] - 0s 1ms/step - loss: 0.0643 - accuracy: 0.9782 - val_loss: 0.0937 - val_accuracy: 0.9662\n",
      "Epoch 30/200\n",
      "56/78 [====================>.........] - ETA: 0s - loss: 0.0704 - accuracy: 0.9754\n",
      "Epoch 30: val_loss did not improve from 0.07073\n",
      "78/78 [==============================] - 0s 1ms/step - loss: 0.0656 - accuracy: 0.9769 - val_loss: 0.0751 - val_accuracy: 0.9774\n",
      "Epoch 31/200\n",
      "78/78 [==============================] - ETA: 0s - loss: 0.0570 - accuracy: 0.9818\n",
      "Epoch 31: val_loss did not improve from 0.07073\n",
      "78/78 [==============================] - 0s 2ms/step - loss: 0.0570 - accuracy: 0.9818 - val_loss: 0.0945 - val_accuracy: 0.9692\n",
      "Epoch 32/200\n",
      "53/78 [===================>..........] - ETA: 0s - loss: 0.0664 - accuracy: 0.9785\n",
      "Epoch 32: val_loss did not improve from 0.07073\n",
      "78/78 [==============================] - 0s 1ms/step - loss: 0.0654 - accuracy: 0.9790 - val_loss: 0.0792 - val_accuracy: 0.9713\n",
      "Epoch 33/200\n",
      "70/78 [=========================>....] - ETA: 0s - loss: 0.0537 - accuracy: 0.9823\n",
      "Epoch 33: val_loss did not improve from 0.07073\n",
      "78/78 [==============================] - 0s 1ms/step - loss: 0.0555 - accuracy: 0.9823 - val_loss: 0.0757 - val_accuracy: 0.9744\n"
     ]
    }
   ],
   "source": [
    "history = model.fit(x_train, y_train, validation_split=0.2, batch_size=50, epochs=200, \\\n",
    "                    callbacks=[checkpointer, early_stopping_callback])"
   ]
  },
  {
   "cell_type": "code",
   "execution_count": 95,
   "id": "3639bb60",
   "metadata": {
    "collapsed": true
   },
   "outputs": [
    {
     "data": {
      "text/plain": [
       "[<matplotlib.lines.Line2D at 0x2704ea4c1f0>]"
      ]
     },
     "execution_count": 95,
     "metadata": {},
     "output_type": "execute_result"
    },
    {
     "data": {
      "image/png": "[encoded data removed]",
      "text/plain": [
       "<Figure size 432x288 with 1 Axes>"
      ]
     },
     "metadata": {
      "needs_background": "light"
     },
     "output_type": "display_data"
    }
   ],
   "source": [
    "plt.plot(history.history['loss'])\n",
    "plt.plot(history.history['val_loss'])"
   ]
  },
  {
   "cell_type": "code",
   "execution_count": 89,
   "id": "cdf16a59",
   "metadata": {
    "collapsed": true
   },
   "outputs": [
    {
     "data": {
      "text/plain": [
       "[<matplotlib.lines.Line2D at 0x2704d89aa90>]"
      ]
     },
     "execution_count": 89,
     "metadata": {},
     "output_type": "execute_result"
    },
    {
     "data": {
      "image/png": "[encoded data removed]",
      "text/plain": [
       "<Figure size 432x288 with 1 Axes>"
      ]
     },
     "metadata": {
      "needs_background": "light"
     },
     "output_type": "display_data"
    }
   ],
   "source": [
    "plt.plot(history.history['accuracy'])\n",
    "plt.plot(history.history['val_accuracy'])"
   ]
  },
  {
   "cell_type": "code",
   "execution_count": 96,
   "id": "8b7b853b",
   "metadata": {},
   "outputs": [
    {
     "name": "stdout",
     "output_type": "stream",
     "text": [
      "51/51 [==============================] - 0s 678us/step - loss: 0.0875 - accuracy: 0.9723\n"
     ]
    },
    {
     "data": {
      "text/plain": [
       "[0.08751431107521057, 0.9723076820373535]"
      ]
     },
     "execution_count": 96,
     "metadata": {},
     "output_type": "execute_result"
    }
   ],
   "source": [
    "model.evaluate(x_test, y_test)"
   ]
  },
  {
   "cell_type": "code",
   "execution_count": null,
   "id": "825f4c05",
   "metadata": {},
   "outputs": [],
   "source": []
  }
 ],
 "metadata": {
  "kernelspec": {
   "display_name": "Python 3 (ipykernel)",
   "language": "python",
   "name": "python3"
  },
  "language_info": {
   "codemirror_mode": {
    "name": "ipython",
    "version": 3
   },
   "file_extension": ".py",
   "mimetype": "text/x-python",
   "name": "python",
   "nbconvert_exporter": "python",
   "pygments_lexer": "ipython3",
   "version": "3.9.7"
  }
 },
 "nbformat": 4,
 "nbformat_minor": 5
}
