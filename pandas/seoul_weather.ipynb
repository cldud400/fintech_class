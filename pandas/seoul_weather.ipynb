{
 "cells": [
  {
   "cell_type": "code",
   "execution_count": 5,
   "id": "b526d3fb",
   "metadata": {},
   "outputs": [],
   "source": [
    "import pandas as pd\n",
    "import numpy as np"
   ]
  },
  {
   "cell_type": "code",
   "execution_count": 8,
   "id": "f8008140",
   "metadata": {},
   "outputs": [],
   "source": [
    "# skiprows : 맨 위의 11줄은 무시하고 불러옴\n",
    "df = pd.read_csv('./pandas_datafiles/seoul_weather.csv', encoding = 'cp949', skiprows=11)"
   ]
  },
  {
   "cell_type": "code",
   "execution_count": 10,
   "id": "3db62944",
   "metadata": {},
   "outputs": [
    {
     "data": {
      "text/html": [
       "<div>\n",
       "<style scoped>\n",
       "    .dataframe tbody tr th:only-of-type {\n",
       "        vertical-align: middle;\n",
       "    }\n",
       "\n",
       "    .dataframe tbody tr th {\n",
       "        vertical-align: top;\n",
       "    }\n",
       "\n",
       "    .dataframe thead th {\n",
       "        text-align: right;\n",
       "    }\n",
       "</style>\n",
       "<table border=\"1\" class=\"dataframe\">\n",
       "  <thead>\n",
       "    <tr style=\"text-align: right;\">\n",
       "      <th></th>\n",
       "      <th>\\t\\t지점번호</th>\n",
       "      <th>지점명</th>\n",
       "      <th>일시</th>\n",
       "      <th>평균기온(℃)</th>\n",
       "      <th>최고기온(℃)</th>\n",
       "      <th>\\t최고기온시각</th>\n",
       "      <th>최저기온(℃)</th>\n",
       "      <th>최저기온시각</th>\n",
       "    </tr>\n",
       "  </thead>\n",
       "  <tbody>\n",
       "    <tr>\n",
       "      <th>0</th>\n",
       "      <td>108</td>\n",
       "      <td>서울</td>\n",
       "      <td>1907-10-01</td>\n",
       "      <td>13.5</td>\n",
       "      <td>20.7</td>\n",
       "      <td>NaN</td>\n",
       "      <td>7.9</td>\n",
       "      <td>NaN</td>\n",
       "    </tr>\n",
       "    <tr>\n",
       "      <th>1</th>\n",
       "      <td>108</td>\n",
       "      <td>서울</td>\n",
       "      <td>1907-10-02</td>\n",
       "      <td>16.2</td>\n",
       "      <td>22.0</td>\n",
       "      <td>NaN</td>\n",
       "      <td>7.9</td>\n",
       "      <td>NaN</td>\n",
       "    </tr>\n",
       "  </tbody>\n",
       "</table>\n",
       "</div>"
      ],
      "text/plain": [
       "   \\t\\t지점번호 지점명          일시  평균기온(℃)  최고기온(℃) \\t최고기온시각  최저기온(℃) 최저기온시각\n",
       "0       108  서울  1907-10-01     13.5     20.7      NaN      7.9    NaN\n",
       "1       108  서울  1907-10-02     16.2     22.0      NaN      7.9    NaN"
      ]
     },
     "execution_count": 10,
     "metadata": {},
     "output_type": "execute_result"
    }
   ],
   "source": [
    "df.head(2)"
   ]
  },
  {
   "cell_type": "code",
   "execution_count": 68,
   "id": "19ce7172",
   "metadata": {},
   "outputs": [
    {
     "data": {
      "text/plain": [
       "'01'"
      ]
     },
     "execution_count": 68,
     "metadata": {},
     "output_type": "execute_result"
    }
   ],
   "source": [
    "# 역대 최고기온인 날의 날짜\n",
    "# df[df['최고기온(℃)'] == df['최고기온(℃)'].max()]['일시']\n",
    "df.sort_values('최고기온(℃)', ascending=False).iloc[0]['일시'].split('-')[2]"
   ]
  },
  {
   "cell_type": "code",
   "execution_count": 48,
   "id": "c30bb146",
   "metadata": {},
   "outputs": [
    {
     "data": {
      "text/plain": [
       "'04'"
      ]
     },
     "execution_count": 48,
     "metadata": {},
     "output_type": "execute_result"
    }
   ],
   "source": [
    "# 일교차가 가장 큰 월은?\n",
    "\n",
    "df['일교차'] = df['최고기온(℃)'] - df['최저기온(℃)']\n",
    "df.sort_values('일교차', ascending=False).iloc[0]['일시'].split('-')[1]"
   ]
  },
  {
   "cell_type": "code",
   "execution_count": 89,
   "id": "b7b2d536",
   "metadata": {},
   "outputs": [
    {
     "data": {
      "text/plain": [
       "'12'"
      ]
     },
     "execution_count": 89,
     "metadata": {},
     "output_type": "execute_result"
    }
   ],
   "source": [
    "# 월교차가 가장 큰 월은?\n",
    "month_max = df.groupby(df['일시'].apply(lambda x : x.split('-')[1]))['최고기온(℃)'].max()\n",
    "month_min = df.groupby(df['일시'].apply(lambda x : x.split('-')[1]))['최저기온(℃)'].min()\n",
    "(month_max - month_min).sort_values(ascending=False).index[0]"
   ]
  },
  {
   "cell_type": "code",
   "execution_count": 91,
   "id": "842834be",
   "metadata": {},
   "outputs": [
    {
     "data": {
      "text/plain": [
       "12619    21.8\n",
       "3863     21.7\n",
       "3147     21.4\n",
       "13980    21.3\n",
       "7696     21.2\n",
       "         ... \n",
       "16429     NaN\n",
       "16430     NaN\n",
       "16431     NaN\n",
       "21260     NaN\n",
       "39758     NaN\n",
       "Length: 40488, dtype: float64"
      ]
     },
     "execution_count": 91,
     "metadata": {},
     "output_type": "execute_result"
    }
   ],
   "source": [
    "(df['최고기온(℃)'] - df['최저기온(℃)']).sort_values(ascending=False)"
   ]
  },
  {
   "cell_type": "code",
   "execution_count": 112,
   "id": "781a7283",
   "metadata": {},
   "outputs": [
    {
     "data": {
      "text/plain": [
       "일시\n",
       "1907-10-01    12.8\n",
       "1907-10-02    14.1\n",
       "1907-10-03     8.2\n",
       "1907-10-04    10.8\n",
       "1907-10-05    14.5\n",
       "              ... \n",
       "2019-10-07     4.6\n",
       "2019-10-08     9.2\n",
       "2019-10-09    12.7\n",
       "2019-10-10     9.1\n",
       "2019-10-11    13.1\n",
       "Length: 40488, dtype: float64"
      ]
     },
     "execution_count": 112,
     "metadata": {},
     "output_type": "execute_result"
    }
   ],
   "source": [
    "(df.groupby('일시')['최고기온(℃)'].sum() - df.groupby('일시')['최저기온(℃)'].sum())"
   ]
  },
  {
   "cell_type": "code",
   "execution_count": 114,
   "id": "b127f73a",
   "metadata": {},
   "outputs": [
    {
     "data": {
      "text/plain": [
       "일시\n",
       "1907-10-01    20.7\n",
       "1907-10-02    22.0\n",
       "1907-10-03    21.3\n",
       "1907-10-04    22.0\n",
       "1907-10-05    25.4\n",
       "              ... \n",
       "2019-10-07    17.9\n",
       "2019-10-08    19.8\n",
       "2019-10-09    20.4\n",
       "2019-10-10    19.8\n",
       "2019-10-11    26.1\n",
       "Name: 최고기온(℃), Length: 40488, dtype: float64"
      ]
     },
     "execution_count": 114,
     "metadata": {},
     "output_type": "execute_result"
    }
   ],
   "source": [
    "df.groupby('일시')['최고기온(℃)'].sum()"
   ]
  },
  {
   "cell_type": "code",
   "execution_count": null,
   "id": "670bf67c",
   "metadata": {},
   "outputs": [],
   "source": []
  }
 ],
 "metadata": {
  "kernelspec": {
   "display_name": "Python 3 (ipykernel)",
   "language": "python",
   "name": "python3"
  },
  "language_info": {
   "codemirror_mode": {
    "name": "ipython",
    "version": 3
   },
   "file_extension": ".py",
   "mimetype": "text/x-python",
   "name": "python",
   "nbconvert_exporter": "python",
   "pygments_lexer": "ipython3",
   "version": "3.9.7"
  }
 },
 "nbformat": 4,
 "nbformat_minor": 5
}
