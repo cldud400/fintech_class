{
 "cells": [
  {
   "cell_type": "code",
   "execution_count": 1,
   "id": "f9ad8d9d",
   "metadata": {},
   "outputs": [],
   "source": [
    "import numpy as np\n",
    "import pandas as pd"
   ]
  },
  {
   "cell_type": "code",
   "execution_count": 11,
   "id": "70fca8f7",
   "metadata": {},
   "outputs": [
    {
     "data": {
      "text/html": [
       "<div>\n",
       "<style scoped>\n",
       "    .dataframe tbody tr th:only-of-type {\n",
       "        vertical-align: middle;\n",
       "    }\n",
       "\n",
       "    .dataframe tbody tr th {\n",
       "        vertical-align: top;\n",
       "    }\n",
       "\n",
       "    .dataframe thead th {\n",
       "        text-align: right;\n",
       "    }\n",
       "</style>\n",
       "<table border=\"1\" class=\"dataframe\">\n",
       "  <thead>\n",
       "    <tr style=\"text-align: right;\">\n",
       "      <th></th>\n",
       "      <th>Id</th>\n",
       "      <th>EmployeeName</th>\n",
       "      <th>JobTitle</th>\n",
       "      <th>BasePay</th>\n",
       "      <th>OvertimePay</th>\n",
       "      <th>OtherPay</th>\n",
       "      <th>Benefits</th>\n",
       "      <th>TotalPay</th>\n",
       "      <th>TotalPayBenefits</th>\n",
       "      <th>Year</th>\n",
       "      <th>Notes</th>\n",
       "      <th>Agency</th>\n",
       "      <th>Status</th>\n",
       "    </tr>\n",
       "  </thead>\n",
       "  <tbody>\n",
       "    <tr>\n",
       "      <th>0</th>\n",
       "      <td>1</td>\n",
       "      <td>NATHANIEL FORD</td>\n",
       "      <td>GENERAL MANAGER-METROPOLITAN TRANSIT AUTHORITY</td>\n",
       "      <td>167411.18</td>\n",
       "      <td>0.00</td>\n",
       "      <td>400184.25</td>\n",
       "      <td>NaN</td>\n",
       "      <td>567595.43</td>\n",
       "      <td>567595.43</td>\n",
       "      <td>2011</td>\n",
       "      <td>NaN</td>\n",
       "      <td>San Francisco</td>\n",
       "      <td>NaN</td>\n",
       "    </tr>\n",
       "    <tr>\n",
       "      <th>1</th>\n",
       "      <td>2</td>\n",
       "      <td>GARY JIMENEZ</td>\n",
       "      <td>CAPTAIN III (POLICE DEPARTMENT)</td>\n",
       "      <td>155966.02</td>\n",
       "      <td>245131.88</td>\n",
       "      <td>137811.38</td>\n",
       "      <td>NaN</td>\n",
       "      <td>538909.28</td>\n",
       "      <td>538909.28</td>\n",
       "      <td>2011</td>\n",
       "      <td>NaN</td>\n",
       "      <td>San Francisco</td>\n",
       "      <td>NaN</td>\n",
       "    </tr>\n",
       "    <tr>\n",
       "      <th>2</th>\n",
       "      <td>3</td>\n",
       "      <td>ALBERT PARDINI</td>\n",
       "      <td>CAPTAIN III (POLICE DEPARTMENT)</td>\n",
       "      <td>212739.13</td>\n",
       "      <td>106088.18</td>\n",
       "      <td>16452.60</td>\n",
       "      <td>NaN</td>\n",
       "      <td>335279.91</td>\n",
       "      <td>335279.91</td>\n",
       "      <td>2011</td>\n",
       "      <td>NaN</td>\n",
       "      <td>San Francisco</td>\n",
       "      <td>NaN</td>\n",
       "    </tr>\n",
       "  </tbody>\n",
       "</table>\n",
       "</div>"
      ],
      "text/plain": [
       "   Id    EmployeeName                                        JobTitle  \\\n",
       "0   1  NATHANIEL FORD  GENERAL MANAGER-METROPOLITAN TRANSIT AUTHORITY   \n",
       "1   2    GARY JIMENEZ                 CAPTAIN III (POLICE DEPARTMENT)   \n",
       "2   3  ALBERT PARDINI                 CAPTAIN III (POLICE DEPARTMENT)   \n",
       "\n",
       "     BasePay  OvertimePay   OtherPay  Benefits   TotalPay  TotalPayBenefits  \\\n",
       "0  167411.18         0.00  400184.25       NaN  567595.43         567595.43   \n",
       "1  155966.02    245131.88  137811.38       NaN  538909.28         538909.28   \n",
       "2  212739.13    106088.18   16452.60       NaN  335279.91         335279.91   \n",
       "\n",
       "   Year  Notes         Agency  Status  \n",
       "0  2011    NaN  San Francisco     NaN  \n",
       "1  2011    NaN  San Francisco     NaN  \n",
       "2  2011    NaN  San Francisco     NaN  "
      ]
     },
     "execution_count": 11,
     "metadata": {},
     "output_type": "execute_result"
    }
   ],
   "source": [
    "# Salaries1.csv 파일을 dataframe로 읽기\n",
    "\n",
    "df = pd.read_csv('./pandas_datafiles/Salaries1.csv', index_col = 0)\n",
    "df.head(3)"
   ]
  },
  {
   "cell_type": "code",
   "execution_count": 61,
   "id": "103a2bb3",
   "metadata": {},
   "outputs": [
    {
     "data": {
      "text/plain": [
       "75601.13714620461"
      ]
     },
     "execution_count": 61,
     "metadata": {},
     "output_type": "execute_result"
    }
   ],
   "source": [
    "# BasePay의 평균\n",
    "# df.BasePay.mean()\n",
    "df['BasePay'].mean()"
   ]
  },
  {
   "cell_type": "code",
   "execution_count": 62,
   "id": "58195544",
   "metadata": {},
   "outputs": [
    {
     "data": {
      "text/plain": [
       "245131.88"
      ]
     },
     "execution_count": 62,
     "metadata": {},
     "output_type": "execute_result"
    }
   ],
   "source": [
    "# OverTimepay의 최대값\n",
    "# df.OvertimePay.max()\n",
    "df['OvertimePay'].max()"
   ]
  },
  {
   "cell_type": "code",
   "execution_count": null,
   "id": "9243d6c4",
   "metadata": {},
   "outputs": [],
   "source": [
    "# df['OvertimePay'].apply(max)    # element wise operation (요소 하나하나 매칭이 되기 때문에 max함수는 에러가 발생한다)"
   ]
  },
  {
   "cell_type": "code",
   "execution_count": 70,
   "id": "3be92638",
   "metadata": {},
   "outputs": [
    {
     "data": {
      "text/plain": [
       "245131.88"
      ]
     },
     "execution_count": 70,
     "metadata": {},
     "output_type": "execute_result"
    }
   ],
   "source": [
    "df.apply(max)['OvertimePay']"
   ]
  },
  {
   "cell_type": "code",
   "execution_count": 18,
   "id": "453c412e",
   "metadata": {},
   "outputs": [
    {
     "data": {
      "text/plain": [
       "24    CAPTAIN, FIRE SUPPRESSION\n",
       "Name: JobTitle, dtype: object"
      ]
     },
     "execution_count": 18,
     "metadata": {},
     "output_type": "execute_result"
    }
   ],
   "source": [
    "# 'JOSEPH DRISCOLL'의 JOB TITLE는?\n",
    "df[df['EmployeeName'] == 'JOSEPH DRISCOLL'].JobTitle"
   ]
  },
  {
   "cell_type": "code",
   "execution_count": 74,
   "id": "fd600d2c",
   "metadata": {},
   "outputs": [
    {
     "data": {
      "text/plain": [
       "'NATHANIEL FORD'"
      ]
     },
     "execution_count": 74,
     "metadata": {},
     "output_type": "execute_result"
    }
   ],
   "source": [
    "# TotalPayBenefit의 최고금액을 수령하는 사람\n",
    "\n",
    "df.sort_values('TotalPayBenefits', ascending=False).iloc[0]['EmployeeName']"
   ]
  },
  {
   "cell_type": "code",
   "execution_count": 78,
   "id": "76501338",
   "metadata": {},
   "outputs": [
    {
     "data": {
      "text/plain": [
       "0    NATHANIEL FORD\n",
       "Name: EmployeeName, dtype: object"
      ]
     },
     "execution_count": 78,
     "metadata": {},
     "output_type": "execute_result"
    }
   ],
   "source": [
    "df[df['TotalPayBenefits'] == df['TotalPayBenefits'].max()]['EmployeeName']"
   ]
  },
  {
   "cell_type": "code",
   "execution_count": 79,
   "id": "83bf8aa9",
   "metadata": {},
   "outputs": [
    {
     "data": {
      "text/plain": [
       "Year\n",
       "2011     63595.956517\n",
       "2012    106964.140280\n",
       "Name: BasePay, dtype: float64"
      ]
     },
     "execution_count": 79,
     "metadata": {},
     "output_type": "execute_result"
    }
   ],
   "source": [
    "# BasePay의 연도별 평균 금액\n",
    "df.groupby('Year')['BasePay'].mean()"
   ]
  },
  {
   "cell_type": "code",
   "execution_count": 82,
   "id": "83d3d192",
   "metadata": {},
   "outputs": [
    {
     "data": {
      "text/plain": [
       "TRANSIT OPERATOR    2388\n",
       "SPECIAL NURSE       1402\n",
       "REGISTERED NURSE    1219\n",
       "Registered Nurse    1003\n",
       "CUSTODIAN            796\n",
       "Name: JobTitle, dtype: int64"
      ]
     },
     "execution_count": 82,
     "metadata": {},
     "output_type": "execute_result"
    }
   ],
   "source": [
    "# JobTitle에서 가장 많은 Job 상위 5개\n",
    "# df['JobTitle'].value_counts().iloc[:5]\n",
    "df['JobTitle'].value_counts().head(5)"
   ]
  },
  {
   "cell_type": "code",
   "execution_count": 120,
   "id": "c4f38b01",
   "metadata": {},
   "outputs": [
    {
     "data": {
      "text/plain": [
       "200"
      ]
     },
     "execution_count": 120,
     "metadata": {},
     "output_type": "execute_result"
    }
   ],
   "source": [
    "# 2011년도에 오직 한 사람만이 수행하는 job 개수\n",
    "\n",
    "# sum(df.groupby(df[df['Year'] == 2011]['JobTitle'])['EmployeeName'].count()==1)\n",
    "sum(df[df['Year'] == 2011]['JobTitle'].value_counts() == 1)\n"
   ]
  },
  {
   "cell_type": "code",
   "execution_count": 97,
   "id": "832cccd3",
   "metadata": {},
   "outputs": [
    {
     "data": {
      "text/plain": [
       "318"
      ]
     },
     "execution_count": 97,
     "metadata": {},
     "output_type": "execute_result"
    }
   ],
   "source": [
    "# 'Chief'라는 직업을 가진 사람의 수\n",
    "df[df['JobTitle'].apply(lambda x : 'chief' in x.lower())]['Id'].count()"
   ]
  },
  {
   "cell_type": "code",
   "execution_count": 98,
   "id": "0a716669",
   "metadata": {},
   "outputs": [
    {
     "data": {
      "text/plain": [
       "318"
      ]
     },
     "execution_count": 98,
     "metadata": {},
     "output_type": "execute_result"
    }
   ],
   "source": [
    "jobtitle = df['JobTitle'].apply(lambda x: x.lower())\n",
    "\n",
    "total = 0\n",
    "for t in jobtitle:\n",
    "    if 'chief' in t:\n",
    "        total += 1\n",
    "total"
   ]
  },
  {
   "cell_type": "code",
   "execution_count": 100,
   "id": "07cd05dc",
   "metadata": {},
   "outputs": [
    {
     "data": {
      "text/plain": [
       "318"
      ]
     },
     "execution_count": 100,
     "metadata": {},
     "output_type": "execute_result"
    }
   ],
   "source": [
    "sum(df['JobTitle'].apply(lambda x: x.lower()).str.contains('chief'))"
   ]
  },
  {
   "cell_type": "code",
   "execution_count": null,
   "id": "ec34afae",
   "metadata": {},
   "outputs": [],
   "source": []
  },
  {
   "cell_type": "code",
   "execution_count": null,
   "id": "128e8aa5",
   "metadata": {},
   "outputs": [],
   "source": []
  }
 ],
 "metadata": {
  "kernelspec": {
   "display_name": "Python 3 (ipykernel)",
   "language": "python",
   "name": "python3"
  },
  "language_info": {
   "codemirror_mode": {
    "name": "ipython",
    "version": 3
   },
   "file_extension": ".py",
   "mimetype": "text/x-python",
   "name": "python",
   "nbconvert_exporter": "python",
   "pygments_lexer": "ipython3",
   "version": "3.9.7"
  }
 },
 "nbformat": 4,
 "nbformat_minor": 5
}
